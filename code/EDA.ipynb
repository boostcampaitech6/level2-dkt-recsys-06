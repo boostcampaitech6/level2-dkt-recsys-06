{
 "cells": [
  {
   "cell_type": "code",
   "execution_count": null,
   "metadata": {},
   "outputs": [],
   "source": []
  },
  {
   "cell_type": "markdown",
   "metadata": {},
   "source": [
    "## 가설들\n",
    "\n",
    "1. 문제 푼 시간\n",
    "\n",
    "    1. 지나치게 빨리 푼 문제들은 찍은 문제들 일 수도 있지 않을까?\\\n",
    "        : 쉬운 문제면 실제로 빨리 풀 수도 있지 않을까?\n",
    "\n",
    "    2. 너무 오래걸린 문제들은 어려워서 못 푼거일 수도 있을텐데\\\n",
    "        : 푼 시간의 상승 추세 꺾이는 지점을 찾아봐야겠다\n",
    "\n",
    "    3. 한 시험지 내에서 푼 시간의 순서, 기간\\\n",
    "        : 문항번호 추정\n",
    "        : 피로도 고려"
   ]
  },
  {
   "cell_type": "code",
   "execution_count": 3,
   "metadata": {},
   "outputs": [],
   "source": [
    "import pandas as pd\n",
    "import numpy as np\n",
    "\n",
    "import matplotlib.pyplot as plt\n",
    "import seaborn as sns"
   ]
  },
  {
   "cell_type": "code",
   "execution_count": 4,
   "metadata": {},
   "outputs": [],
   "source": [
    "train = pd.read_csv('../data/train_data.csv')\n",
    "test = pd.read_csv('../data/test_data.csv')"
   ]
  },
  {
   "cell_type": "code",
   "execution_count": 7,
   "metadata": {},
   "outputs": [
    {
     "name": "stdout",
     "output_type": "stream",
     "text": [
      "(2266586, 6)\n"
     ]
    },
    {
     "data": {
      "text/html": [
       "<div>\n",
       "<style scoped>\n",
       "    .dataframe tbody tr th:only-of-type {\n",
       "        vertical-align: middle;\n",
       "    }\n",
       "\n",
       "    .dataframe tbody tr th {\n",
       "        vertical-align: top;\n",
       "    }\n",
       "\n",
       "    .dataframe thead th {\n",
       "        text-align: right;\n",
       "    }\n",
       "</style>\n",
       "<table border=\"1\" class=\"dataframe\">\n",
       "  <thead>\n",
       "    <tr style=\"text-align: right;\">\n",
       "      <th></th>\n",
       "      <th>userID</th>\n",
       "      <th>assessmentItemID</th>\n",
       "      <th>testId</th>\n",
       "      <th>answerCode</th>\n",
       "      <th>Timestamp</th>\n",
       "      <th>KnowledgeTag</th>\n",
       "    </tr>\n",
       "  </thead>\n",
       "  <tbody>\n",
       "    <tr>\n",
       "      <th>1411289</th>\n",
       "      <td>2333</td>\n",
       "      <td>A030024002</td>\n",
       "      <td>A030000024</td>\n",
       "      <td>1</td>\n",
       "      <td>2020-03-17 11:05:36</td>\n",
       "      <td>334</td>\n",
       "    </tr>\n",
       "    <tr>\n",
       "      <th>1536151</th>\n",
       "      <td>2628</td>\n",
       "      <td>A030052003</td>\n",
       "      <td>A030000052</td>\n",
       "      <td>1</td>\n",
       "      <td>2020-06-25 08:17:23</td>\n",
       "      <td>409</td>\n",
       "    </tr>\n",
       "    <tr>\n",
       "      <th>382146</th>\n",
       "      <td>523</td>\n",
       "      <td>A070042006</td>\n",
       "      <td>A070000042</td>\n",
       "      <td>0</td>\n",
       "      <td>2020-06-11 01:57:24</td>\n",
       "      <td>1257</td>\n",
       "    </tr>\n",
       "    <tr>\n",
       "      <th>279566</th>\n",
       "      <td>380</td>\n",
       "      <td>A060083004</td>\n",
       "      <td>A060000083</td>\n",
       "      <td>1</td>\n",
       "      <td>2020-02-24 10:20:13</td>\n",
       "      <td>10606</td>\n",
       "    </tr>\n",
       "    <tr>\n",
       "      <th>611110</th>\n",
       "      <td>869</td>\n",
       "      <td>A020021003</td>\n",
       "      <td>A020000021</td>\n",
       "      <td>1</td>\n",
       "      <td>2020-03-28 11:14:58</td>\n",
       "      <td>7693</td>\n",
       "    </tr>\n",
       "    <tr>\n",
       "      <th>35051</th>\n",
       "      <td>48</td>\n",
       "      <td>A080024003</td>\n",
       "      <td>A080000024</td>\n",
       "      <td>0</td>\n",
       "      <td>2020-05-25 22:27:21</td>\n",
       "      <td>4682</td>\n",
       "    </tr>\n",
       "    <tr>\n",
       "      <th>1242877</th>\n",
       "      <td>1967</td>\n",
       "      <td>A080011002</td>\n",
       "      <td>A080000011</td>\n",
       "      <td>0</td>\n",
       "      <td>2020-03-20 17:51:42</td>\n",
       "      <td>4658</td>\n",
       "    </tr>\n",
       "    <tr>\n",
       "      <th>1281512</th>\n",
       "      <td>2058</td>\n",
       "      <td>A010071002</td>\n",
       "      <td>A010000071</td>\n",
       "      <td>0</td>\n",
       "      <td>2020-06-01 11:31:23</td>\n",
       "      <td>6455</td>\n",
       "    </tr>\n",
       "    <tr>\n",
       "      <th>2234182</th>\n",
       "      <td>6365</td>\n",
       "      <td>A080138005</td>\n",
       "      <td>A080000138</td>\n",
       "      <td>0</td>\n",
       "      <td>2020-11-19 06:21:04</td>\n",
       "      <td>8432</td>\n",
       "    </tr>\n",
       "    <tr>\n",
       "      <th>1351078</th>\n",
       "      <td>2204</td>\n",
       "      <td>A040034002</td>\n",
       "      <td>A040000034</td>\n",
       "      <td>1</td>\n",
       "      <td>2020-07-30 05:00:07</td>\n",
       "      <td>2065</td>\n",
       "    </tr>\n",
       "  </tbody>\n",
       "</table>\n",
       "</div>"
      ],
      "text/plain": [
       "         userID assessmentItemID      testId  answerCode            Timestamp  \\\n",
       "1411289    2333       A030024002  A030000024           1  2020-03-17 11:05:36   \n",
       "1536151    2628       A030052003  A030000052           1  2020-06-25 08:17:23   \n",
       "382146      523       A070042006  A070000042           0  2020-06-11 01:57:24   \n",
       "279566      380       A060083004  A060000083           1  2020-02-24 10:20:13   \n",
       "611110      869       A020021003  A020000021           1  2020-03-28 11:14:58   \n",
       "35051        48       A080024003  A080000024           0  2020-05-25 22:27:21   \n",
       "1242877    1967       A080011002  A080000011           0  2020-03-20 17:51:42   \n",
       "1281512    2058       A010071002  A010000071           0  2020-06-01 11:31:23   \n",
       "2234182    6365       A080138005  A080000138           0  2020-11-19 06:21:04   \n",
       "1351078    2204       A040034002  A040000034           1  2020-07-30 05:00:07   \n",
       "\n",
       "         KnowledgeTag  \n",
       "1411289           334  \n",
       "1536151           409  \n",
       "382146           1257  \n",
       "279566          10606  \n",
       "611110           7693  \n",
       "35051            4682  \n",
       "1242877          4658  \n",
       "1281512          6455  \n",
       "2234182          8432  \n",
       "1351078          2065  "
      ]
     },
     "execution_count": 7,
     "metadata": {},
     "output_type": "execute_result"
    }
   ],
   "source": [
    "print(train.shape)\n",
    "train.sample(10)"
   ]
  },
  {
   "cell_type": "code",
   "execution_count": 8,
   "metadata": {},
   "outputs": [
    {
     "name": "stdout",
     "output_type": "stream",
     "text": [
      "(260114, 6)\n"
     ]
    },
    {
     "data": {
      "text/html": [
       "<div>\n",
       "<style scoped>\n",
       "    .dataframe tbody tr th:only-of-type {\n",
       "        vertical-align: middle;\n",
       "    }\n",
       "\n",
       "    .dataframe tbody tr th {\n",
       "        vertical-align: top;\n",
       "    }\n",
       "\n",
       "    .dataframe thead th {\n",
       "        text-align: right;\n",
       "    }\n",
       "</style>\n",
       "<table border=\"1\" class=\"dataframe\">\n",
       "  <thead>\n",
       "    <tr style=\"text-align: right;\">\n",
       "      <th></th>\n",
       "      <th>userID</th>\n",
       "      <th>assessmentItemID</th>\n",
       "      <th>testId</th>\n",
       "      <th>answerCode</th>\n",
       "      <th>Timestamp</th>\n",
       "      <th>KnowledgeTag</th>\n",
       "    </tr>\n",
       "  </thead>\n",
       "  <tbody>\n",
       "    <tr>\n",
       "      <th>85174</th>\n",
       "      <td>1071</td>\n",
       "      <td>A020040005</td>\n",
       "      <td>A020000040</td>\n",
       "      <td>1</td>\n",
       "      <td>2020-07-17 09:19:36</td>\n",
       "      <td>7925</td>\n",
       "    </tr>\n",
       "    <tr>\n",
       "      <th>205325</th>\n",
       "      <td>3241</td>\n",
       "      <td>A060046001</td>\n",
       "      <td>A060000046</td>\n",
       "      <td>1</td>\n",
       "      <td>2020-02-07 09:52:26</td>\n",
       "      <td>599</td>\n",
       "    </tr>\n",
       "    <tr>\n",
       "      <th>62893</th>\n",
       "      <td>772</td>\n",
       "      <td>A020057003</td>\n",
       "      <td>A020000057</td>\n",
       "      <td>1</td>\n",
       "      <td>2020-07-21 12:15:50</td>\n",
       "      <td>7926</td>\n",
       "    </tr>\n",
       "    <tr>\n",
       "      <th>62194</th>\n",
       "      <td>767</td>\n",
       "      <td>A030091002</td>\n",
       "      <td>A030000091</td>\n",
       "      <td>0</td>\n",
       "      <td>2020-06-17 07:35:57</td>\n",
       "      <td>452</td>\n",
       "    </tr>\n",
       "    <tr>\n",
       "      <th>53538</th>\n",
       "      <td>645</td>\n",
       "      <td>A060174004</td>\n",
       "      <td>A060000174</td>\n",
       "      <td>0</td>\n",
       "      <td>2020-08-14 03:01:52</td>\n",
       "      <td>10450</td>\n",
       "    </tr>\n",
       "    <tr>\n",
       "      <th>204431</th>\n",
       "      <td>3155</td>\n",
       "      <td>A010071003</td>\n",
       "      <td>A010000071</td>\n",
       "      <td>1</td>\n",
       "      <td>2020-06-18 05:11:07</td>\n",
       "      <td>6455</td>\n",
       "    </tr>\n",
       "    <tr>\n",
       "      <th>190440</th>\n",
       "      <td>2757</td>\n",
       "      <td>A050179001</td>\n",
       "      <td>A050000179</td>\n",
       "      <td>1</td>\n",
       "      <td>2020-09-01 02:29:14</td>\n",
       "      <td>10396</td>\n",
       "    </tr>\n",
       "    <tr>\n",
       "      <th>160059</th>\n",
       "      <td>2169</td>\n",
       "      <td>A080053002</td>\n",
       "      <td>A080000053</td>\n",
       "      <td>0</td>\n",
       "      <td>2020-05-22 06:16:12</td>\n",
       "      <td>4962</td>\n",
       "    </tr>\n",
       "    <tr>\n",
       "      <th>117121</th>\n",
       "      <td>1571</td>\n",
       "      <td>A020155006</td>\n",
       "      <td>A020000155</td>\n",
       "      <td>0</td>\n",
       "      <td>2020-10-19 03:52:36</td>\n",
       "      <td>8126</td>\n",
       "    </tr>\n",
       "    <tr>\n",
       "      <th>197185</th>\n",
       "      <td>2973</td>\n",
       "      <td>A010169001</td>\n",
       "      <td>A010000169</td>\n",
       "      <td>1</td>\n",
       "      <td>2020-09-08 02:46:17</td>\n",
       "      <td>7809</td>\n",
       "    </tr>\n",
       "  </tbody>\n",
       "</table>\n",
       "</div>"
      ],
      "text/plain": [
       "        userID assessmentItemID      testId  answerCode            Timestamp  \\\n",
       "85174     1071       A020040005  A020000040           1  2020-07-17 09:19:36   \n",
       "205325    3241       A060046001  A060000046           1  2020-02-07 09:52:26   \n",
       "62893      772       A020057003  A020000057           1  2020-07-21 12:15:50   \n",
       "62194      767       A030091002  A030000091           0  2020-06-17 07:35:57   \n",
       "53538      645       A060174004  A060000174           0  2020-08-14 03:01:52   \n",
       "204431    3155       A010071003  A010000071           1  2020-06-18 05:11:07   \n",
       "190440    2757       A050179001  A050000179           1  2020-09-01 02:29:14   \n",
       "160059    2169       A080053002  A080000053           0  2020-05-22 06:16:12   \n",
       "117121    1571       A020155006  A020000155           0  2020-10-19 03:52:36   \n",
       "197185    2973       A010169001  A010000169           1  2020-09-08 02:46:17   \n",
       "\n",
       "        KnowledgeTag  \n",
       "85174           7925  \n",
       "205325           599  \n",
       "62893           7926  \n",
       "62194            452  \n",
       "53538          10450  \n",
       "204431          6455  \n",
       "190440         10396  \n",
       "160059          4962  \n",
       "117121          8126  \n",
       "197185          7809  "
      ]
     },
     "execution_count": 8,
     "metadata": {},
     "output_type": "execute_result"
    }
   ],
   "source": [
    "print(test.shape)\n",
    "test.sample(10)"
   ]
  },
  {
   "cell_type": "markdown",
   "metadata": {},
   "source": [
    "## 결측치\n",
    "\n",
    "- 단 한 개도 없음\n",
    "- 이상한 값 있는 지도 찾아볼게요"
   ]
  },
  {
   "cell_type": "code",
   "execution_count": 12,
   "metadata": {},
   "outputs": [
    {
     "data": {
      "text/plain": [
       "userID              0\n",
       "assessmentItemID    0\n",
       "testId              0\n",
       "answerCode          0\n",
       "Timestamp           0\n",
       "KnowledgeTag        0\n",
       "dtype: int64"
      ]
     },
     "execution_count": 12,
     "metadata": {},
     "output_type": "execute_result"
    }
   ],
   "source": [
    "train.isna().sum()"
   ]
  },
  {
   "cell_type": "code",
   "execution_count": 13,
   "metadata": {},
   "outputs": [
    {
     "name": "stdout",
     "output_type": "stream",
     "text": [
      "<class 'pandas.core.frame.DataFrame'>\n",
      "RangeIndex: 260114 entries, 0 to 260113\n",
      "Data columns (total 6 columns):\n",
      " #   Column            Non-Null Count   Dtype \n",
      "---  ------            --------------   ----- \n",
      " 0   userID            260114 non-null  int64 \n",
      " 1   assessmentItemID  260114 non-null  object\n",
      " 2   testId            260114 non-null  object\n",
      " 3   answerCode        260114 non-null  int64 \n",
      " 4   Timestamp         260114 non-null  object\n",
      " 5   KnowledgeTag      260114 non-null  int64 \n",
      "dtypes: int64(3), object(3)\n",
      "memory usage: 11.9+ MB\n"
     ]
    }
   ],
   "source": [
    "test.info()"
   ]
  },
  {
   "cell_type": "code",
   "execution_count": 14,
   "metadata": {},
   "outputs": [
    {
     "data": {
      "text/html": [
       "<div>\n",
       "<style scoped>\n",
       "    .dataframe tbody tr th:only-of-type {\n",
       "        vertical-align: middle;\n",
       "    }\n",
       "\n",
       "    .dataframe tbody tr th {\n",
       "        vertical-align: top;\n",
       "    }\n",
       "\n",
       "    .dataframe thead th {\n",
       "        text-align: right;\n",
       "    }\n",
       "</style>\n",
       "<table border=\"1\" class=\"dataframe\">\n",
       "  <thead>\n",
       "    <tr style=\"text-align: right;\">\n",
       "      <th></th>\n",
       "      <th>userID</th>\n",
       "      <th>answerCode</th>\n",
       "      <th>KnowledgeTag</th>\n",
       "    </tr>\n",
       "  </thead>\n",
       "  <tbody>\n",
       "    <tr>\n",
       "      <th>count</th>\n",
       "      <td>2.266586e+06</td>\n",
       "      <td>2.266586e+06</td>\n",
       "      <td>2.266586e+06</td>\n",
       "    </tr>\n",
       "    <tr>\n",
       "      <th>mean</th>\n",
       "      <td>2.087687e+03</td>\n",
       "      <td>6.543784e-01</td>\n",
       "      <td>4.909007e+03</td>\n",
       "    </tr>\n",
       "    <tr>\n",
       "      <th>std</th>\n",
       "      <td>1.589365e+03</td>\n",
       "      <td>4.755706e-01</td>\n",
       "      <td>3.302214e+03</td>\n",
       "    </tr>\n",
       "    <tr>\n",
       "      <th>min</th>\n",
       "      <td>0.000000e+00</td>\n",
       "      <td>0.000000e+00</td>\n",
       "      <td>2.300000e+01</td>\n",
       "    </tr>\n",
       "    <tr>\n",
       "      <th>25%</th>\n",
       "      <td>8.000000e+02</td>\n",
       "      <td>0.000000e+00</td>\n",
       "      <td>1.931000e+03</td>\n",
       "    </tr>\n",
       "    <tr>\n",
       "      <th>50%</th>\n",
       "      <td>1.748000e+03</td>\n",
       "      <td>1.000000e+00</td>\n",
       "      <td>5.258000e+03</td>\n",
       "    </tr>\n",
       "    <tr>\n",
       "      <th>75%</th>\n",
       "      <td>3.046000e+03</td>\n",
       "      <td>1.000000e+00</td>\n",
       "      <td>7.913000e+03</td>\n",
       "    </tr>\n",
       "    <tr>\n",
       "      <th>max</th>\n",
       "      <td>7.441000e+03</td>\n",
       "      <td>1.000000e+00</td>\n",
       "      <td>1.127100e+04</td>\n",
       "    </tr>\n",
       "  </tbody>\n",
       "</table>\n",
       "</div>"
      ],
      "text/plain": [
       "             userID    answerCode  KnowledgeTag\n",
       "count  2.266586e+06  2.266586e+06  2.266586e+06\n",
       "mean   2.087687e+03  6.543784e-01  4.909007e+03\n",
       "std    1.589365e+03  4.755706e-01  3.302214e+03\n",
       "min    0.000000e+00  0.000000e+00  2.300000e+01\n",
       "25%    8.000000e+02  0.000000e+00  1.931000e+03\n",
       "50%    1.748000e+03  1.000000e+00  5.258000e+03\n",
       "75%    3.046000e+03  1.000000e+00  7.913000e+03\n",
       "max    7.441000e+03  1.000000e+00  1.127100e+04"
      ]
     },
     "execution_count": 14,
     "metadata": {},
     "output_type": "execute_result"
    }
   ],
   "source": [
    "train.describe()"
   ]
  },
  {
   "cell_type": "markdown",
   "metadata": {},
   "source": [
    "## 유저들 목록\n",
    "\n",
    "유저들 아무도 안겹쳐!\n",
    "\n",
    "user_ID 일치여부만 중요하고, 누가 누군지는 생각보다 안 중요할 수도?\n",
    "\n",
    "그렇다면, 유저를 나타낼 수 있는건 뭐가 있을까?\n",
    "userID, assessmentItemID, testId, answerCode, Timestamp, KnoledgeTag\n",
    "\n",
    "근데, 이거 lstm 계열에서는 어떻게 처리했지?"
   ]
  },
  {
   "cell_type": "code",
   "execution_count": 24,
   "metadata": {},
   "outputs": [
    {
     "data": {
      "text/plain": [
       "Index(['userID', 'assessmentItemID', 'testId', 'answerCode', 'Timestamp',\n",
       "       'KnowledgeTag'],\n",
       "      dtype='object')"
      ]
     },
     "execution_count": 24,
     "metadata": {},
     "output_type": "execute_result"
    }
   ],
   "source": [
    "train.columns"
   ]
  },
  {
   "cell_type": "code",
   "execution_count": 15,
   "metadata": {},
   "outputs": [
    {
     "data": {
      "text/plain": [
       "(6698, 2, 912)"
      ]
     },
     "execution_count": 15,
     "metadata": {},
     "output_type": "execute_result"
    }
   ],
   "source": [
    "train.userID.nunique(), train.answerCode.nunique(), train.KnowledgeTag.nunique()"
   ]
  },
  {
   "cell_type": "code",
   "execution_count": 16,
   "metadata": {},
   "outputs": [
    {
     "data": {
      "text/plain": [
       "(744, 3, 912)"
      ]
     },
     "execution_count": 16,
     "metadata": {},
     "output_type": "execute_result"
    }
   ],
   "source": [
    "test.userID.nunique(), test.answerCode.nunique(), test.KnowledgeTag.nunique()"
   ]
  },
  {
   "cell_type": "code",
   "execution_count": 18,
   "metadata": {},
   "outputs": [
    {
     "name": "stdout",
     "output_type": "stream",
     "text": [
      "0.0\n"
     ]
    }
   ],
   "source": [
    "users_test = list(test.userID.unique())\n",
    "users_train = list(train.userID.unique())\n",
    "\n",
    "count = 0\n",
    "\n",
    "for user in users_train:\n",
    "    if user in users_test:\n",
    "        count += 1\n",
    "\n",
    "print(count / len(users_train))"
   ]
  },
  {
   "cell_type": "code",
   "execution_count": 7,
   "metadata": {},
   "outputs": [
    {
     "data": {
      "text/plain": [
       "Index(['userID', 'assessmentItemID', 'testId', 'answerCode', 'Timestamp',\n",
       "       'KnowledgeTag'],\n",
       "      dtype='object')"
      ]
     },
     "execution_count": 7,
     "metadata": {},
     "output_type": "execute_result"
    }
   ],
   "source": [
    "train.columns"
   ]
  },
  {
   "cell_type": "code",
   "execution_count": 24,
   "metadata": {},
   "outputs": [
    {
     "data": {
      "text/plain": [
       "((6698,), 745)"
      ]
     },
     "execution_count": 24,
     "metadata": {},
     "output_type": "execute_result"
    }
   ],
   "source": [
    "a = train.groupby('userID').apply(lambda r: (r['testId'].values, r['assessmentItemID'].values)).values\n",
    "\n",
    "a.shape, len(a[0][0])\n",
    "\n",
    "# userID당 2개의 튜플로 이루어진 tuple (testID...., assesmenItemID.....)"
   ]
  },
  {
   "cell_type": "code",
   "execution_count": 21,
   "metadata": {},
   "outputs": [
    {
     "data": {
      "text/plain": [
       "answerCode\n",
       " 1    170383\n",
       " 0     88987\n",
       "-1       744\n",
       "Name: count, dtype: int64"
      ]
     },
     "execution_count": 21,
     "metadata": {},
     "output_type": "execute_result"
    }
   ],
   "source": [
    "test.answerCode.value_counts()"
   ]
  },
  {
   "cell_type": "code",
   "execution_count": 29,
   "metadata": {},
   "outputs": [
    {
     "data": {
      "text/html": [
       "<div>\n",
       "<style scoped>\n",
       "    .dataframe tbody tr th:only-of-type {\n",
       "        vertical-align: middle;\n",
       "    }\n",
       "\n",
       "    .dataframe tbody tr th {\n",
       "        vertical-align: top;\n",
       "    }\n",
       "\n",
       "    .dataframe thead th {\n",
       "        text-align: right;\n",
       "    }\n",
       "</style>\n",
       "<table border=\"1\" class=\"dataframe\">\n",
       "  <thead>\n",
       "    <tr style=\"text-align: right;\">\n",
       "      <th></th>\n",
       "      <th>count</th>\n",
       "    </tr>\n",
       "    <tr>\n",
       "      <th>userID</th>\n",
       "      <th></th>\n",
       "    </tr>\n",
       "  </thead>\n",
       "  <tbody>\n",
       "    <tr>\n",
       "      <th>7417</th>\n",
       "      <td>15</td>\n",
       "    </tr>\n",
       "    <tr>\n",
       "      <th>7416</th>\n",
       "      <td>15</td>\n",
       "    </tr>\n",
       "    <tr>\n",
       "      <th>7404</th>\n",
       "      <td>15</td>\n",
       "    </tr>\n",
       "    <tr>\n",
       "      <th>7373</th>\n",
       "      <td>15</td>\n",
       "    </tr>\n",
       "    <tr>\n",
       "      <th>7033</th>\n",
       "      <td>15</td>\n",
       "    </tr>\n",
       "    <tr>\n",
       "      <th>...</th>\n",
       "      <td>...</td>\n",
       "    </tr>\n",
       "    <tr>\n",
       "      <th>203</th>\n",
       "      <td>1318</td>\n",
       "    </tr>\n",
       "    <tr>\n",
       "      <th>617</th>\n",
       "      <td>1333</td>\n",
       "    </tr>\n",
       "    <tr>\n",
       "      <th>260</th>\n",
       "      <td>1335</td>\n",
       "    </tr>\n",
       "    <tr>\n",
       "      <th>1348</th>\n",
       "      <td>1379</td>\n",
       "    </tr>\n",
       "    <tr>\n",
       "      <th>584</th>\n",
       "      <td>1620</td>\n",
       "    </tr>\n",
       "  </tbody>\n",
       "</table>\n",
       "<p>744 rows × 1 columns</p>\n",
       "</div>"
      ],
      "text/plain": [
       "        count\n",
       "userID       \n",
       "7417       15\n",
       "7416       15\n",
       "7404       15\n",
       "7373       15\n",
       "7033       15\n",
       "...       ...\n",
       "203      1318\n",
       "617      1333\n",
       "260      1335\n",
       "1348     1379\n",
       "584      1620\n",
       "\n",
       "[744 rows x 1 columns]"
      ]
     },
     "execution_count": 29,
     "metadata": {},
     "output_type": "execute_result"
    }
   ],
   "source": [
    "test.groupby('userID')['answerCode'].agg({'count'}).sort_values(by='count')"
   ]
  },
  {
   "cell_type": "code",
   "execution_count": 30,
   "metadata": {},
   "outputs": [
    {
     "data": {
      "text/plain": [
       "userID\n",
       "0      2020-12-23 03:40:19\n",
       "1      2020-11-13 02:47:20\n",
       "2      2020-10-20 11:32:26\n",
       "5      2020-12-11 22:48:28\n",
       "6      2020-10-26 09:52:14\n",
       "               ...        \n",
       "7436   2020-04-08 12:07:21\n",
       "7437   2020-05-22 01:53:49\n",
       "7438   2020-10-19 10:28:29\n",
       "7440   2020-10-21 08:33:20\n",
       "7441   2020-08-21 01:08:49\n",
       "Name: Timestamp, Length: 6698, dtype: datetime64[ns]"
      ]
     },
     "execution_count": 30,
     "metadata": {},
     "output_type": "execute_result"
    }
   ],
   "source": [
    "train['Timestamp'] = pd.to_datetime(train['Timestamp'])\n",
    "\n",
    "train.groupby('userID')['Timestamp'].max()"
   ]
  },
  {
   "cell_type": "code",
   "execution_count": 32,
   "metadata": {},
   "outputs": [
    {
     "data": {
      "text/plain": [
       "userID\n",
       "0      2020-12-16 03:40:19\n",
       "1      2020-11-06 02:47:20\n",
       "2      2020-10-13 11:32:26\n",
       "5      2020-12-04 22:48:28\n",
       "6      2020-10-19 09:52:14\n",
       "               ...        \n",
       "7436   2020-04-01 12:07:21\n",
       "7437   2020-05-15 01:53:49\n",
       "7438   2020-10-12 10:28:29\n",
       "7440   2020-10-14 08:33:20\n",
       "7441   2020-08-14 01:08:49\n",
       "Name: Timestamp, Length: 6698, dtype: datetime64[ns]"
      ]
     },
     "execution_count": 32,
     "metadata": {},
     "output_type": "execute_result"
    }
   ],
   "source": [
    "from datetime import timedelta\n",
    "\n",
    "train.groupby('userID')['Timestamp'].max() - timedelta(7)"
   ]
  },
  {
   "cell_type": "code",
   "execution_count": 33,
   "metadata": {},
   "outputs": [
    {
     "data": {
      "text/html": [
       "<div>\n",
       "<style scoped>\n",
       "    .dataframe tbody tr th:only-of-type {\n",
       "        vertical-align: middle;\n",
       "    }\n",
       "\n",
       "    .dataframe tbody tr th {\n",
       "        vertical-align: top;\n",
       "    }\n",
       "\n",
       "    .dataframe thead th {\n",
       "        text-align: right;\n",
       "    }\n",
       "</style>\n",
       "<table border=\"1\" class=\"dataframe\">\n",
       "  <thead>\n",
       "    <tr style=\"text-align: right;\">\n",
       "      <th></th>\n",
       "      <th>userID</th>\n",
       "      <th>assessmentItemID</th>\n",
       "      <th>testId</th>\n",
       "      <th>answerCode</th>\n",
       "      <th>Timestamp</th>\n",
       "      <th>KnowledgeTag</th>\n",
       "      <th>hour</th>\n",
       "    </tr>\n",
       "  </thead>\n",
       "  <tbody>\n",
       "    <tr>\n",
       "      <th>0</th>\n",
       "      <td>0</td>\n",
       "      <td>A060001001</td>\n",
       "      <td>A060000001</td>\n",
       "      <td>1</td>\n",
       "      <td>2020-03-24 00:17:11</td>\n",
       "      <td>7224</td>\n",
       "      <td>0</td>\n",
       "    </tr>\n",
       "    <tr>\n",
       "      <th>1</th>\n",
       "      <td>0</td>\n",
       "      <td>A060001002</td>\n",
       "      <td>A060000001</td>\n",
       "      <td>1</td>\n",
       "      <td>2020-03-24 00:17:14</td>\n",
       "      <td>7225</td>\n",
       "      <td>0</td>\n",
       "    </tr>\n",
       "    <tr>\n",
       "      <th>2</th>\n",
       "      <td>0</td>\n",
       "      <td>A060001003</td>\n",
       "      <td>A060000001</td>\n",
       "      <td>1</td>\n",
       "      <td>2020-03-24 00:17:22</td>\n",
       "      <td>7225</td>\n",
       "      <td>0</td>\n",
       "    </tr>\n",
       "    <tr>\n",
       "      <th>3</th>\n",
       "      <td>0</td>\n",
       "      <td>A060001004</td>\n",
       "      <td>A060000001</td>\n",
       "      <td>1</td>\n",
       "      <td>2020-03-24 00:17:29</td>\n",
       "      <td>7225</td>\n",
       "      <td>0</td>\n",
       "    </tr>\n",
       "    <tr>\n",
       "      <th>4</th>\n",
       "      <td>0</td>\n",
       "      <td>A060001005</td>\n",
       "      <td>A060000001</td>\n",
       "      <td>1</td>\n",
       "      <td>2020-03-24 00:17:36</td>\n",
       "      <td>7225</td>\n",
       "      <td>0</td>\n",
       "    </tr>\n",
       "  </tbody>\n",
       "</table>\n",
       "</div>"
      ],
      "text/plain": [
       "   userID assessmentItemID      testId  answerCode           Timestamp  \\\n",
       "0       0       A060001001  A060000001           1 2020-03-24 00:17:11   \n",
       "1       0       A060001002  A060000001           1 2020-03-24 00:17:14   \n",
       "2       0       A060001003  A060000001           1 2020-03-24 00:17:22   \n",
       "3       0       A060001004  A060000001           1 2020-03-24 00:17:29   \n",
       "4       0       A060001005  A060000001           1 2020-03-24 00:17:36   \n",
       "\n",
       "   KnowledgeTag  hour  \n",
       "0          7224     0  \n",
       "1          7225     0  \n",
       "2          7225     0  \n",
       "3          7225     0  \n",
       "4          7225     0  "
      ]
     },
     "execution_count": 33,
     "metadata": {},
     "output_type": "execute_result"
    }
   ],
   "source": [
    "train.head()"
   ]
  },
  {
   "cell_type": "code",
   "execution_count": 38,
   "metadata": {},
   "outputs": [
    {
     "data": {
      "image/png": "[encoded data removed]",
      "text/plain": [
       "<Figure size 500x300 with 1 Axes>"
      ]
     },
     "metadata": {},
     "output_type": "display_data"
    }
   ],
   "source": [
    "train['hour'] = train['Timestamp'].dt.hour\n",
    "\n",
    "a = train.groupby('hour').answerCode.mean()\n",
    "\n",
    "plt.figure(figsize=(5,3))\n",
    "plt.bar(a.index, a.values)\n",
    "\n",
    "plt.xlabel('time (hour)', fontsize=15)\n",
    "plt.ylabel('average rate', fontsize=15)\n",
    "\n",
    "plt.show()"
   ]
  },
  {
   "cell_type": "code",
   "execution_count": 40,
   "metadata": {},
   "outputs": [
    {
     "ename": "ValueError",
     "evalue": "setting an array element with a sequence.",
     "output_type": "error",
     "traceback": [
      "\u001b[0;31m---------------------------------------------------------------------------\u001b[0m",
      "\u001b[0;31mTypeError\u001b[0m                                 Traceback (most recent call last)",
      "\u001b[0;31mTypeError\u001b[0m: float() argument must be a string or a real number, not 'tuple'",
      "\nThe above exception was the direct cause of the following exception:\n",
      "\u001b[0;31mValueError\u001b[0m                                Traceback (most recent call last)",
      "Cell \u001b[0;32mIn[40], line 1\u001b[0m\n\u001b[0;32m----> 1\u001b[0m plt\u001b[39m.\u001b[39;49mplot(train\u001b[39m.\u001b[39;49mgroupby(\u001b[39m'\u001b[39;49m\u001b[39muserID\u001b[39;49m\u001b[39m'\u001b[39;49m)\u001b[39m.\u001b[39;49manswerCode\u001b[39m.\u001b[39;49mrolling(\u001b[39m10\u001b[39;49m)\u001b[39m.\u001b[39;49mmean())\n\u001b[1;32m      2\u001b[0m plt\u001b[39m.\u001b[39mshow()\n",
      "File \u001b[0;32m~/miniconda3/envs/dkt/lib/python3.10/site-packages/matplotlib/pyplot.py:3578\u001b[0m, in \u001b[0;36mplot\u001b[0;34m(scalex, scaley, data, *args, **kwargs)\u001b[0m\n\u001b[1;32m   3570\u001b[0m \u001b[39m@_copy_docstring_and_deprecators\u001b[39m(Axes\u001b[39m.\u001b[39mplot)\n\u001b[1;32m   3571\u001b[0m \u001b[39mdef\u001b[39;00m \u001b[39mplot\u001b[39m(\n\u001b[1;32m   3572\u001b[0m     \u001b[39m*\u001b[39margs: \u001b[39mfloat\u001b[39m \u001b[39m|\u001b[39m ArrayLike \u001b[39m|\u001b[39m \u001b[39mstr\u001b[39m,\n\u001b[0;32m   (...)\u001b[0m\n\u001b[1;32m   3576\u001b[0m     \u001b[39m*\u001b[39m\u001b[39m*\u001b[39mkwargs,\n\u001b[1;32m   3577\u001b[0m ) \u001b[39m-\u001b[39m\u001b[39m>\u001b[39m \u001b[39mlist\u001b[39m[Line2D]:\n\u001b[0;32m-> 3578\u001b[0m     \u001b[39mreturn\u001b[39;00m gca()\u001b[39m.\u001b[39;49mplot(\n\u001b[1;32m   3579\u001b[0m         \u001b[39m*\u001b[39;49margs,\n\u001b[1;32m   3580\u001b[0m         scalex\u001b[39m=\u001b[39;49mscalex,\n\u001b[1;32m   3581\u001b[0m         scaley\u001b[39m=\u001b[39;49mscaley,\n\u001b[1;32m   3582\u001b[0m         \u001b[39m*\u001b[39;49m\u001b[39m*\u001b[39;49m({\u001b[39m\"\u001b[39;49m\u001b[39mdata\u001b[39;49m\u001b[39m\"\u001b[39;49m: data} \u001b[39mif\u001b[39;49;00m data \u001b[39mis\u001b[39;49;00m \u001b[39mnot\u001b[39;49;00m \u001b[39mNone\u001b[39;49;00m \u001b[39melse\u001b[39;49;00m {}),\n\u001b[1;32m   3583\u001b[0m         \u001b[39m*\u001b[39;49m\u001b[39m*\u001b[39;49mkwargs,\n\u001b[1;32m   3584\u001b[0m     )\n",
      "File \u001b[0;32m~/miniconda3/envs/dkt/lib/python3.10/site-packages/matplotlib/axes/_axes.py:1723\u001b[0m, in \u001b[0;36mAxes.plot\u001b[0;34m(self, scalex, scaley, data, *args, **kwargs)\u001b[0m\n\u001b[1;32m   1721\u001b[0m lines \u001b[39m=\u001b[39m [\u001b[39m*\u001b[39m\u001b[39mself\u001b[39m\u001b[39m.\u001b[39m_get_lines(\u001b[39mself\u001b[39m, \u001b[39m*\u001b[39margs, data\u001b[39m=\u001b[39mdata, \u001b[39m*\u001b[39m\u001b[39m*\u001b[39mkwargs)]\n\u001b[1;32m   1722\u001b[0m \u001b[39mfor\u001b[39;00m line \u001b[39min\u001b[39;00m lines:\n\u001b[0;32m-> 1723\u001b[0m     \u001b[39mself\u001b[39;49m\u001b[39m.\u001b[39;49madd_line(line)\n\u001b[1;32m   1724\u001b[0m \u001b[39mif\u001b[39;00m scalex:\n\u001b[1;32m   1725\u001b[0m     \u001b[39mself\u001b[39m\u001b[39m.\u001b[39m_request_autoscale_view(\u001b[39m\"\u001b[39m\u001b[39mx\u001b[39m\u001b[39m\"\u001b[39m)\n",
      "File \u001b[0;32m~/miniconda3/envs/dkt/lib/python3.10/site-packages/matplotlib/axes/_base.py:2309\u001b[0m, in \u001b[0;36m_AxesBase.add_line\u001b[0;34m(self, line)\u001b[0m\n\u001b[1;32m   2306\u001b[0m \u001b[39mif\u001b[39;00m line\u001b[39m.\u001b[39mget_clip_path() \u001b[39mis\u001b[39;00m \u001b[39mNone\u001b[39;00m:\n\u001b[1;32m   2307\u001b[0m     line\u001b[39m.\u001b[39mset_clip_path(\u001b[39mself\u001b[39m\u001b[39m.\u001b[39mpatch)\n\u001b[0;32m-> 2309\u001b[0m \u001b[39mself\u001b[39;49m\u001b[39m.\u001b[39;49m_update_line_limits(line)\n\u001b[1;32m   2310\u001b[0m \u001b[39mif\u001b[39;00m \u001b[39mnot\u001b[39;00m line\u001b[39m.\u001b[39mget_label():\n\u001b[1;32m   2311\u001b[0m     line\u001b[39m.\u001b[39mset_label(\u001b[39mf\u001b[39m\u001b[39m'\u001b[39m\u001b[39m_child\u001b[39m\u001b[39m{\u001b[39;00m\u001b[39mlen\u001b[39m(\u001b[39mself\u001b[39m\u001b[39m.\u001b[39m_children)\u001b[39m}\u001b[39;00m\u001b[39m'\u001b[39m)\n",
      "File \u001b[0;32m~/miniconda3/envs/dkt/lib/python3.10/site-packages/matplotlib/axes/_base.py:2332\u001b[0m, in \u001b[0;36m_AxesBase._update_line_limits\u001b[0;34m(self, line)\u001b[0m\n\u001b[1;32m   2328\u001b[0m \u001b[39mdef\u001b[39;00m \u001b[39m_update_line_limits\u001b[39m(\u001b[39mself\u001b[39m, line):\n\u001b[1;32m   2329\u001b[0m \u001b[39m    \u001b[39m\u001b[39m\"\"\"\u001b[39;00m\n\u001b[1;32m   2330\u001b[0m \u001b[39m    Figures out the data limit of the given line, updating self.dataLim.\u001b[39;00m\n\u001b[1;32m   2331\u001b[0m \u001b[39m    \"\"\"\u001b[39;00m\n\u001b[0;32m-> 2332\u001b[0m     path \u001b[39m=\u001b[39m line\u001b[39m.\u001b[39;49mget_path()\n\u001b[1;32m   2333\u001b[0m     \u001b[39mif\u001b[39;00m path\u001b[39m.\u001b[39mvertices\u001b[39m.\u001b[39msize \u001b[39m==\u001b[39m \u001b[39m0\u001b[39m:\n\u001b[1;32m   2334\u001b[0m         \u001b[39mreturn\u001b[39;00m\n",
      "File \u001b[0;32m~/miniconda3/envs/dkt/lib/python3.10/site-packages/matplotlib/lines.py:1032\u001b[0m, in \u001b[0;36mLine2D.get_path\u001b[0;34m(self)\u001b[0m\n\u001b[1;32m   1030\u001b[0m \u001b[39m\u001b[39m\u001b[39m\"\"\"Return the `~matplotlib.path.Path` associated with this line.\"\"\"\u001b[39;00m\n\u001b[1;32m   1031\u001b[0m \u001b[39mif\u001b[39;00m \u001b[39mself\u001b[39m\u001b[39m.\u001b[39m_invalidy \u001b[39mor\u001b[39;00m \u001b[39mself\u001b[39m\u001b[39m.\u001b[39m_invalidx:\n\u001b[0;32m-> 1032\u001b[0m     \u001b[39mself\u001b[39;49m\u001b[39m.\u001b[39;49mrecache()\n\u001b[1;32m   1033\u001b[0m \u001b[39mreturn\u001b[39;00m \u001b[39mself\u001b[39m\u001b[39m.\u001b[39m_path\n",
      "File \u001b[0;32m~/miniconda3/envs/dkt/lib/python3.10/site-packages/matplotlib/lines.py:669\u001b[0m, in \u001b[0;36mLine2D.recache\u001b[0;34m(self, always)\u001b[0m\n\u001b[1;32m    667\u001b[0m \u001b[39mif\u001b[39;00m always \u001b[39mor\u001b[39;00m \u001b[39mself\u001b[39m\u001b[39m.\u001b[39m_invalidx:\n\u001b[1;32m    668\u001b[0m     xconv \u001b[39m=\u001b[39m \u001b[39mself\u001b[39m\u001b[39m.\u001b[39mconvert_xunits(\u001b[39mself\u001b[39m\u001b[39m.\u001b[39m_xorig)\n\u001b[0;32m--> 669\u001b[0m     x \u001b[39m=\u001b[39m _to_unmasked_float_array(xconv)\u001b[39m.\u001b[39mravel()\n\u001b[1;32m    670\u001b[0m \u001b[39melse\u001b[39;00m:\n\u001b[1;32m    671\u001b[0m     x \u001b[39m=\u001b[39m \u001b[39mself\u001b[39m\u001b[39m.\u001b[39m_x\n",
      "File \u001b[0;32m~/miniconda3/envs/dkt/lib/python3.10/site-packages/matplotlib/cbook.py:1345\u001b[0m, in \u001b[0;36m_to_unmasked_float_array\u001b[0;34m(x)\u001b[0m\n\u001b[1;32m   1343\u001b[0m     \u001b[39mreturn\u001b[39;00m np\u001b[39m.\u001b[39mma\u001b[39m.\u001b[39masarray(x, \u001b[39mfloat\u001b[39m)\u001b[39m.\u001b[39mfilled(np\u001b[39m.\u001b[39mnan)\n\u001b[1;32m   1344\u001b[0m \u001b[39melse\u001b[39;00m:\n\u001b[0;32m-> 1345\u001b[0m     \u001b[39mreturn\u001b[39;00m np\u001b[39m.\u001b[39;49masarray(x, \u001b[39mfloat\u001b[39;49m)\n",
      "\u001b[0;31mValueError\u001b[0m: setting an array element with a sequence."
     ]
    },
    {
     "data": {
      "image/png": "[encoded data removed]",
      "text/plain": [
       "<Figure size 640x480 with 1 Axes>"
      ]
     },
     "metadata": {},
     "output_type": "display_data"
    }
   ],
   "source": [
    "plt.plot(train.groupby('userID').answerCode.rolling(10).mean())\n",
    "plt.show()"
   ]
  },
  {
   "cell_type": "code",
   "execution_count": 41,
   "metadata": {},
   "outputs": [
    {
     "data": {
      "text/plain": [
       "Index(['userID', 'assessmentItemID', 'testId', 'answerCode', 'Timestamp',\n",
       "       'KnowledgeTag', 'hour'],\n",
       "      dtype='object')"
      ]
     },
     "execution_count": 41,
     "metadata": {},
     "output_type": "execute_result"
    }
   ],
   "source": [
    "train.columns"
   ]
  },
  {
   "cell_type": "code",
   "execution_count": 44,
   "metadata": {},
   "outputs": [
    {
     "name": "stdout",
     "output_type": "stream",
     "text": [
      "1537\n"
     ]
    }
   ],
   "source": [
    "testids_train = list(train.testId.unique())\n",
    "testids_test = list(test.testId.unique())\n",
    "\n",
    "count=0\n",
    "for id in testids_test:\n",
    "    if id in testids_train:\n",
    "        count += 1\n",
    "\n",
    "print(count)"
   ]
  },
  {
   "cell_type": "code",
   "execution_count": 46,
   "metadata": {},
   "outputs": [
    {
     "data": {
      "text/plain": [
       "1537"
      ]
     },
     "execution_count": 46,
     "metadata": {},
     "output_type": "execute_result"
    }
   ],
   "source": [
    "len(testids_test)"
   ]
  },
  {
   "cell_type": "code",
   "execution_count": 50,
   "metadata": {},
   "outputs": [
    {
     "data": {
      "text/plain": [
       "(6698, 1537, 1537, 9454)"
      ]
     },
     "execution_count": 50,
     "metadata": {},
     "output_type": "execute_result"
    }
   ],
   "source": [
    "train.userID.nunique(), train.testId.nunique(), test.testId.nunique(), train.assessmentItemID.nunique()"
   ]
  },
  {
   "cell_type": "code",
   "execution_count": 54,
   "metadata": {},
   "outputs": [
    {
     "data": {
      "text/plain": [
       "userID  testId    \n",
       "0       A020000172    6\n",
       "        A020000174    5\n",
       "        A020000181    6\n",
       "        A020000182    5\n",
       "        A020000183    7\n",
       "                     ..\n",
       "7440    A030000136    5\n",
       "        A030000197    5\n",
       "        A050000096    5\n",
       "7441    A030000071    5\n",
       "        A040000165    4\n",
       "Name: assessmentItemID, Length: 365164, dtype: int64"
      ]
     },
     "execution_count": 54,
     "metadata": {},
     "output_type": "execute_result"
    }
   ],
   "source": [
    "train.groupby(['userID','testId']).assessmentItemID.nunique()"
   ]
  },
  {
   "cell_type": "code",
   "execution_count": 63,
   "metadata": {},
   "outputs": [
    {
     "data": {
      "image/png": "[encoded data removed]",
      "text/plain": [
       "<Figure size 640x480 with 1 Axes>"
      ]
     },
     "metadata": {},
     "output_type": "display_data"
    }
   ],
   "source": [
    "b = train.groupby('userID')['assessmentItemID'].count()\n",
    "\n",
    "plt.hist(b, bins=15)\n",
    "\n",
    "plt.xlabel('# of test')\n",
    "plt.ylabel('counts')\n",
    "\n",
    "plt.show()"
   ]
  },
  {
   "cell_type": "code",
   "execution_count": null,
   "metadata": {},
   "outputs": [],
   "source": []
  }
 ],
 "metadata": {
  "kernelspec": {
   "display_name": "Python 3",
   "language": "python",
   "name": "python3"
  },
  "language_info": {
   "codemirror_mode": {
    "name": "ipython",
    "version": 3
   },
   "file_extension": ".py",
   "mimetype": "text/x-python",
   "name": "python",
   "nbconvert_exporter": "python",
   "pygments_lexer": "ipython3",
   "version": "3.10.13"
  },
  "orig_nbformat": 4
 },
 "nbformat": 4,
 "nbformat_minor": 2
}
