{
 "cells": [
  {
   "cell_type": "markdown",
   "metadata": {},
   "source": [
    "## 가설들\n",
    "\n",
    "1. 문제 푼 시간\n",
    "\n",
    "    1. 지나치게 빨리 푼 문제들은 찍은 문제들 일 수도 있지 않을까?\\\n",
    "        : 쉬운 문제면 실제로 빨리 풀 수도 있지 않을까?\n",
    "\n",
    "    2. 너무 오래걸린 문제들은 어려워서 못 푼거일 수도 있을텐데\\\n",
    "        : 푼 시간의 상승 추세 꺾이는 지점을 찾아봐야겠다\n",
    "\n",
    "    3. 한 시험지 내에서 푼 시간의 순서, 기간\\\n",
    "        : 문항번호 추정\n",
    "        : 피로도 고려"
   ]
  },
  {
   "cell_type": "code",
   "execution_count": 2,
   "metadata": {},
   "outputs": [],
   "source": [
    "import pandas as pd\n",
    "import numpy as np\n",
    "\n",
    "from sklearn.preprocessing import LabelEncoder\n",
    "# import matplotlib.pyplot as plt\n",
    "# import seaborn as sns"
   ]
  },
  {
   "cell_type": "code",
   "execution_count": 106,
   "metadata": {},
   "outputs": [],
   "source": [
    "import pickle\n",
    "\n",
    "with open('/data/ephemeral/home/level2-dkt-recsys-06/code/dkt/graph_emb/graph_embed_01-17 18:35.pickle', 'rb') as file:\n",
    "    dict_graph = pickle.load(file)"
   ]
  },
  {
   "cell_type": "code",
   "execution_count": 100,
   "metadata": {},
   "outputs": [
    {
     "name": "stderr",
     "output_type": "stream",
     "text": [
      "/tmp/ipykernel_169000/588480157.py:5: SettingWithCopyWarning: \n",
      "A value is trying to be set on a copy of a slice from a DataFrame\n",
      "\n",
      "See the caveats in the documentation: https://pandas.pydata.org/pandas-docs/stable/user_guide/indexing.html#returning-a-view-versus-a-copy\n",
      "  train['answerCode'][:3] = 2\n"
     ]
    },
    {
     "data": {
      "text/html": [
       "<div>\n",
       "<style scoped>\n",
       "    .dataframe tbody tr th:only-of-type {\n",
       "        vertical-align: middle;\n",
       "    }\n",
       "\n",
       "    .dataframe tbody tr th {\n",
       "        vertical-align: top;\n",
       "    }\n",
       "\n",
       "    .dataframe thead th {\n",
       "        text-align: right;\n",
       "    }\n",
       "</style>\n",
       "<table border=\"1\" class=\"dataframe\">\n",
       "  <thead>\n",
       "    <tr style=\"text-align: right;\">\n",
       "      <th></th>\n",
       "      <th>answerCode</th>\n",
       "      <th>code</th>\n",
       "    </tr>\n",
       "  </thead>\n",
       "  <tbody>\n",
       "    <tr>\n",
       "      <th>0</th>\n",
       "      <td>2</td>\n",
       "      <td>1</td>\n",
       "    </tr>\n",
       "    <tr>\n",
       "      <th>1</th>\n",
       "      <td>2</td>\n",
       "      <td>1</td>\n",
       "    </tr>\n",
       "    <tr>\n",
       "      <th>2</th>\n",
       "      <td>2</td>\n",
       "      <td>1</td>\n",
       "    </tr>\n",
       "    <tr>\n",
       "      <th>3</th>\n",
       "      <td>1</td>\n",
       "      <td>1</td>\n",
       "    </tr>\n",
       "  </tbody>\n",
       "</table>\n",
       "</div>"
      ],
      "text/plain": [
       "   answerCode  code\n",
       "0           2     1\n",
       "1           2     1\n",
       "2           2     1\n",
       "3           1     1"
      ]
     },
     "execution_count": 100,
     "metadata": {},
     "output_type": "execute_result"
    }
   ],
   "source": [
    "columns = ['assessmentItemID','answerCode']\n",
    "\n",
    "train['code'] = train['answerCode']\n",
    "\n",
    "train['answerCode'][:3] = 2\n",
    "\n",
    "train.loc[:3,['answerCode','code']]"
   ]
  },
  {
   "cell_type": "code",
   "execution_count": 117,
   "metadata": {},
   "outputs": [
    {
     "data": {
      "text/plain": [
       "((2266586, 7), (2526700, 6), (260114, 6))"
      ]
     },
     "execution_count": 117,
     "metadata": {},
     "output_type": "execute_result"
    }
   ],
   "source": [
    "train.shape, total.shape, test.shape"
   ]
  },
  {
   "cell_type": "code",
   "execution_count": 7,
   "metadata": {},
   "outputs": [],
   "source": [
    "df = pd.read_csv('../data/FE_v4.csv')"
   ]
  },
  {
   "cell_type": "code",
   "execution_count": 13,
   "metadata": {},
   "outputs": [
    {
     "data": {
      "image/png": "[encoded data removed]",
      "text/plain": [
       "<Figure size 640x480 with 1 Axes>"
      ]
     },
     "metadata": {},
     "output_type": "display_data"
    }
   ],
   "source": [
    "import matplotlib.pyplot as plt\n",
    "\n",
    "plt.hist(df.groupby(['userID','KnowledgeTag']).testId.count(), bins=100)\n",
    "plt.show()"
   ]
  },
  {
   "cell_type": "code",
   "execution_count": 63,
   "metadata": {},
   "outputs": [],
   "source": [
    "df['CumulativeUserTagExponentialAverage'] = df.groupby(['userID', 'KnowledgeTag'])['answerCode'].transform(\n",
    "    lambda x: x.ewm(alpha=0.3, adjust=False).mean().shift(fill_value=0.5) * 100).astype(int)\n"
   ]
  },
  {
   "cell_type": "code",
   "execution_count": 122,
   "metadata": {},
   "outputs": [
    {
     "data": {
      "text/html": [
       "<div>\n",
       "<style scoped>\n",
       "    .dataframe tbody tr th:only-of-type {\n",
       "        vertical-align: middle;\n",
       "    }\n",
       "\n",
       "    .dataframe tbody tr th {\n",
       "        vertical-align: top;\n",
       "    }\n",
       "\n",
       "    .dataframe thead th {\n",
       "        text-align: right;\n",
       "    }\n",
       "</style>\n",
       "<table border=\"1\" class=\"dataframe\">\n",
       "  <thead>\n",
       "    <tr style=\"text-align: right;\">\n",
       "      <th></th>\n",
       "      <th>testId</th>\n",
       "      <th>Timestamp</th>\n",
       "    </tr>\n",
       "  </thead>\n",
       "  <tbody>\n",
       "    <tr>\n",
       "      <th>141156</th>\n",
       "      <td>90001</td>\n",
       "      <td>2020-02-20 02:43:48</td>\n",
       "    </tr>\n",
       "    <tr>\n",
       "      <th>141157</th>\n",
       "      <td>90001</td>\n",
       "      <td>2020-02-20 02:43:50</td>\n",
       "    </tr>\n",
       "    <tr>\n",
       "      <th>141158</th>\n",
       "      <td>90001</td>\n",
       "      <td>2020-02-20 02:43:53</td>\n",
       "    </tr>\n",
       "    <tr>\n",
       "      <th>141159</th>\n",
       "      <td>90001</td>\n",
       "      <td>2020-02-20 02:43:57</td>\n",
       "    </tr>\n",
       "    <tr>\n",
       "      <th>141160</th>\n",
       "      <td>90001</td>\n",
       "      <td>2020-02-20 02:44:01</td>\n",
       "    </tr>\n",
       "    <tr>\n",
       "      <th>141161</th>\n",
       "      <td>90001</td>\n",
       "      <td>2020-02-20 02:44:03</td>\n",
       "    </tr>\n",
       "    <tr>\n",
       "      <th>141162</th>\n",
       "      <td>90001</td>\n",
       "      <td>2020-02-20 02:44:18</td>\n",
       "    </tr>\n",
       "    <tr>\n",
       "      <th>141163</th>\n",
       "      <td>90001</td>\n",
       "      <td>2020-02-20 02:44:31</td>\n",
       "    </tr>\n",
       "    <tr>\n",
       "      <th>141164</th>\n",
       "      <td>90002</td>\n",
       "      <td>2020-02-20 02:49:26</td>\n",
       "    </tr>\n",
       "    <tr>\n",
       "      <th>141165</th>\n",
       "      <td>90002</td>\n",
       "      <td>2020-02-20 02:49:33</td>\n",
       "    </tr>\n",
       "    <tr>\n",
       "      <th>141166</th>\n",
       "      <td>90002</td>\n",
       "      <td>2020-02-20 02:49:36</td>\n",
       "    </tr>\n",
       "    <tr>\n",
       "      <th>141167</th>\n",
       "      <td>90002</td>\n",
       "      <td>2020-02-20 02:49:42</td>\n",
       "    </tr>\n",
       "    <tr>\n",
       "      <th>141168</th>\n",
       "      <td>90002</td>\n",
       "      <td>2020-02-20 02:49:49</td>\n",
       "    </tr>\n",
       "    <tr>\n",
       "      <th>141169</th>\n",
       "      <td>90002</td>\n",
       "      <td>2020-02-20 02:49:54</td>\n",
       "    </tr>\n",
       "    <tr>\n",
       "      <th>141170</th>\n",
       "      <td>90002</td>\n",
       "      <td>2020-02-20 02:49:57</td>\n",
       "    </tr>\n",
       "    <tr>\n",
       "      <th>141171</th>\n",
       "      <td>90002</td>\n",
       "      <td>2020-02-20 02:49:58</td>\n",
       "    </tr>\n",
       "    <tr>\n",
       "      <th>141172</th>\n",
       "      <td>90003</td>\n",
       "      <td>2020-02-21 21:48:48</td>\n",
       "    </tr>\n",
       "    <tr>\n",
       "      <th>141173</th>\n",
       "      <td>90003</td>\n",
       "      <td>2020-02-21 21:48:52</td>\n",
       "    </tr>\n",
       "    <tr>\n",
       "      <th>141174</th>\n",
       "      <td>90003</td>\n",
       "      <td>2020-02-21 21:48:54</td>\n",
       "    </tr>\n",
       "    <tr>\n",
       "      <th>141175</th>\n",
       "      <td>90003</td>\n",
       "      <td>2020-02-21 21:48:57</td>\n",
       "    </tr>\n",
       "  </tbody>\n",
       "</table>\n",
       "</div>"
      ],
      "text/plain": [
       "        testId           Timestamp\n",
       "141156   90001 2020-02-20 02:43:48\n",
       "141157   90001 2020-02-20 02:43:50\n",
       "141158   90001 2020-02-20 02:43:53\n",
       "141159   90001 2020-02-20 02:43:57\n",
       "141160   90001 2020-02-20 02:44:01\n",
       "141161   90001 2020-02-20 02:44:03\n",
       "141162   90001 2020-02-20 02:44:18\n",
       "141163   90001 2020-02-20 02:44:31\n",
       "141164   90002 2020-02-20 02:49:26\n",
       "141165   90002 2020-02-20 02:49:33\n",
       "141166   90002 2020-02-20 02:49:36\n",
       "141167   90002 2020-02-20 02:49:42\n",
       "141168   90002 2020-02-20 02:49:49\n",
       "141169   90002 2020-02-20 02:49:54\n",
       "141170   90002 2020-02-20 02:49:57\n",
       "141171   90002 2020-02-20 02:49:58\n",
       "141172   90003 2020-02-21 21:48:48\n",
       "141173   90003 2020-02-21 21:48:52\n",
       "141174   90003 2020-02-21 21:48:54\n",
       "141175   90003 2020-02-21 21:48:57"
      ]
     },
     "execution_count": 122,
     "metadata": {},
     "output_type": "execute_result"
    }
   ],
   "source": [
    "df[df.userID==165][['testId','Timestamp']][:20]"
   ]
  },
  {
   "cell_type": "code",
   "execution_count": 113,
   "metadata": {},
   "outputs": [],
   "source": [
    "temp = df.groupby(['userID','KnowledgeTag']).testId.count()\n",
    "temp = temp.reset_index(drop=False)\n",
    "temp = temp.rename(columns={'testId':'UserTagCount'})\n",
    "\n",
    "df = df.merge(right=temp, how='left', left_on =['userID','KnowledgeTag'], right_on=['userID','KnowledgeTag'])"
   ]
  },
  {
   "cell_type": "code",
   "execution_count": 116,
   "metadata": {},
   "outputs": [],
   "source": []
  },
  {
   "cell_type": "code",
   "execution_count": 118,
   "metadata": {},
   "outputs": [],
   "source": [
    "df.to_csv('../data/FE_v4.1.csv', index=False)"
   ]
  },
  {
   "cell_type": "code",
   "execution_count": 40,
   "metadata": {},
   "outputs": [],
   "source": [
    "df['Timestamp'] = pd.to_datetime(df['Timestamp'])"
   ]
  },
  {
   "cell_type": "code",
   "execution_count": 47,
   "metadata": {},
   "outputs": [
    {
     "data": {
      "text/plain": [
       "0          1.0\n",
       "1          1.0\n",
       "2          1.0\n",
       "3          1.0\n",
       "4          1.0\n",
       "          ... \n",
       "2526695    0.0\n",
       "2526696    1.0\n",
       "2526697    1.0\n",
       "2526698    1.0\n",
       "2526699    1.0\n",
       "Name: answerCode, Length: 2526700, dtype: float64"
      ]
     },
     "execution_count": 47,
     "metadata": {},
     "output_type": "execute_result"
    }
   ],
   "source": [
    "df.answerCode"
   ]
  },
  {
   "cell_type": "code",
   "execution_count": 102,
   "metadata": {},
   "outputs": [
    {
     "data": {
      "image/png": "[encoded data removed]",
      "text/plain": [
       "<Figure size 3000x600 with 1 Axes>"
      ]
     },
     "metadata": {},
     "output_type": "display_data"
    }
   ],
   "source": [
    "user, tag = 2334, 10169\n",
    "\n",
    "temp = df[df.userID==user]\n",
    "# temp.answerCode = temp.answerCode*100\n",
    "temp2 = temp[temp.KnowledgeTag==tag][['CumulativeUserTagAnswerRate','CumulativeUserTagExponentialAverage','answerCode','Timestamp']]\n",
    "temp2 = temp2.sort_values('Timestamp')\n",
    "temp2 = temp2.reset_index(drop=True)\n",
    "\n",
    "temp2['exp3'] = temp2['answerCode'].transform(\n",
    "    lambda x: x.ewm(alpha=0.3, adjust=False).mean().shift(fill_value=0.5) * 100).astype(int)\n",
    "\n",
    "plt.figure(figsize=(30,6))\n",
    "\n",
    "plt.plot(temp2['answerCode']*100, label='answerCode', color='red')\n",
    "plt.plot(temp2['CumulativeUserTagAnswerRate'], label='CumulativeUserTagAnswerRate')\n",
    "plt.plot(temp2['exp3'], label='CumulativeUserTagExponentialAverage', color='black')\n",
    "\n",
    "plt.xlabel(f'{user} / {tag}', fontsize=20)\n",
    "plt.legend()\n",
    "plt.show()"
   ]
  },
  {
   "cell_type": "code",
   "execution_count": 99,
   "metadata": {},
   "outputs": [
    {
     "data": {
      "text/plain": [
       "userID  KnowledgeTag\n",
       "7427    11265             1\n",
       "7428    2717              1\n",
       "7421    2121              1\n",
       "        11241             1\n",
       "7422    363               1\n",
       "                       ... \n",
       "2334    10169            62\n",
       "473     2010             72\n",
       "165     10169            72\n",
       "393     2010             72\n",
       "165     2010            108\n",
       "Name: testId, Length: 492354, dtype: int64"
      ]
     },
     "execution_count": 99,
     "metadata": {},
     "output_type": "execute_result"
    }
   ],
   "source": [
    "df.groupby(['userID','KnowledgeTag']).testId.count().sort_values()"
   ]
  },
  {
   "cell_type": "code",
   "execution_count": 16,
   "metadata": {},
   "outputs": [
    {
     "data": {
      "text/plain": [
       "5.0"
      ]
     },
     "execution_count": 16,
     "metadata": {},
     "output_type": "execute_result"
    }
   ],
   "source": [
    "a = df.groupby(['userID','KnowledgeTag']).testId.count()\n",
    "\n",
    "a.median()"
   ]
  },
  {
   "cell_type": "code",
   "execution_count": 17,
   "metadata": {},
   "outputs": [
    {
     "data": {
      "text/plain": [
       "<Axes: >"
      ]
     },
     "execution_count": 17,
     "metadata": {},
     "output_type": "execute_result"
    },
    {
     "data": {
      "image/png": "[encoded data removed]",
      "text/plain": [
       "<Figure size 640x480 with 1 Axes>"
      ]
     },
     "metadata": {},
     "output_type": "display_data"
    }
   ],
   "source": [
    "df['CumulativeUserTagAnswerRate'].hist()"
   ]
  },
  {
   "cell_type": "code",
   "execution_count": 5,
   "metadata": {},
   "outputs": [],
   "source": [
    "a = {'nan_mode': 'Min', 'gpu_ram_part': 0.95, 'eval_metric': 'AUC', 'combinations_ctr': ['Borders:CtrBorderCount=15:CtrBorderType=Uniform:TargetBorderCount=1:TargetBorderType=MinEntropy:Prior=0/1:Prior=0.5/1:Prior=1/1', 'FeatureFreq:CtrBorderCount=15:CtrBorderType=Median:Prior=0/1'], 'iterations': 2498, 'fold_permutation_block': 64, 'leaf_estimation_method': 'Newton', 'observations_to_bootstrap': 'TestOnly', 'od_pval': 0, 'counter_calc_method': 'SkipTest', 'grow_policy': 'SymmetricTree', 'penalties_coefficient': 1, 'boosting_type': 'Plain', 'ctr_history_unit': 'Sample', 'feature_border_type': 'GreedyLogSum', 'bayesian_matrix_reg': 0.10000000149011612, 'one_hot_max_size': 2, 'devices': 'cuda', 'eval_fraction': 0, 'pinned_memory_bytes': '104857600', 'force_unit_auto_pair_weights': False, 'l2_leaf_reg': 0.6015139222145081, 'random_strength': 1, 'od_type': 'Iter', 'rsm': 1, 'boost_from_average': False, 'gpu_cat_features_storage': 'GpuRam', 'fold_size_loss_normalization': False, 'max_ctr_complexity': 4, 'model_size_reg': 0.5, 'simple_ctr': ['Borders:CtrBorderCount=15:CtrBorderType=Uniform:TargetBorderCount=1:TargetBorderType=MinEntropy:Prior=0/1:Prior=0.5/1:Prior=1/1', 'FeatureFreq:CtrBorderCount=15:CtrBorderType=MinEntropy:Prior=0/1'], 'pool_metainfo_options': {'tags': {}}, 'use_best_model': True, 'meta_l2_frequency': 0, 'od_wait': 1951, 'class_names': [0, 1], 'random_seed': 42, 'depth': 6, 'ctr_target_border_count': 1, 'has_time': True, 'border_count': 80, 'min_fold_size': 100, 'data_partition': 'FeatureParallel', 'bagging_temperature': 0.4879639446735382, 'classes_count': 0, 'auto_class_weights': 'None', 'custom_metric': ['AUC'], 'leaf_estimation_backtracking': 'AnyImprovement', 'best_model_min_trees': 1, 'min_data_in_leaf': 11, 'add_ridge_penalty_to_loss_function': False, 'loss_function': 'Logloss', 'learning_rate': 0.02910635992884636, 'meta_l2_exponent': 1, 'score_function': 'Cosine', 'task_type': 'GPU', 'leaf_estimation_iterations': 13, 'bootstrap_type': 'Bayesian', 'max_leaves': 64, 'permutation_count': 1}\n",
    "\n",
    "b= {'nan_mode': 'Min', 'gpu_ram_part': 0.95, 'eval_metric': 'AUC', 'combinations_ctr': ['Borders:CtrBorderCount=15:CtrBorderType=Uniform:TargetBorderCount=1:TargetBorderType=MinEntropy:Prior=0/1:Prior=0.5/1:Prior=1/1', 'FeatureFreq:CtrBorderCount=15:CtrBorderType=Median:Prior=0/1'], 'iterations': 2498, 'fold_permutation_block': 64, 'leaf_estimation_method': 'Newton', 'observations_to_bootstrap': 'TestOnly', 'od_pval': 0, 'counter_calc_method': 'SkipTest', 'grow_policy': 'SymmetricTree', 'penalties_coefficient': 1, 'boosting_type': 'Plain', 'ctr_history_unit': 'Sample', 'feature_border_type': 'GreedyLogSum', 'bayesian_matrix_reg': 0.10000000149011612, 'one_hot_max_size': 2, 'devices': 'cuda', 'eval_fraction': 0, 'pinned_memory_bytes': '104857600', 'force_unit_auto_pair_weights': False, 'l2_leaf_reg': 0.6015139222145081, 'random_strength': 1, 'od_type': 'Iter', 'rsm': 1, 'boost_from_average': False, 'gpu_cat_features_storage': 'GpuRam', 'fold_size_loss_normalization': False, 'max_ctr_complexity': 4, 'model_size_reg': 0.5, 'simple_ctr': ['Borders:CtrBorderCount=15:CtrBorderType=Uniform:TargetBorderCount=1:TargetBorderType=MinEntropy:Prior=0/1:Prior=0.5/1:Prior=1/1', 'FeatureFreq:CtrBorderCount=15:CtrBorderType=MinEntropy:Prior=0/1'], 'pool_metainfo_options': {'tags': {}}, 'use_best_model': True, 'meta_l2_frequency': 0, 'od_wait': 1951, 'class_names': [0, 1], 'random_seed': 42, 'depth': 6, 'ctr_target_border_count': 1, 'has_time': True, 'border_count': 80, 'min_fold_size': 100, 'data_partition': 'FeatureParallel', 'bagging_temperature': 0.4879639446735382, 'classes_count': 0, 'auto_class_weights': 'None', 'custom_metric': ['AUC'], 'leaf_estimation_backtracking': 'AnyImprovement', 'best_model_min_trees': 1, 'min_data_in_leaf': 11, 'add_ridge_penalty_to_loss_function': False, 'loss_function': 'Logloss', 'learning_rate': 0.02910635992884636, 'meta_l2_exponent': 1, 'score_function': 'Cosine', 'task_type': 'GPU', 'leaf_estimation_iterations': 13, 'bootstrap_type': 'Bayesian', 'max_leaves': 64, 'permutation_count': 1}"
   ]
  },
  {
   "cell_type": "code",
   "execution_count": 6,
   "metadata": {},
   "outputs": [
    {
     "data": {
      "text/plain": [
       "True"
      ]
     },
     "execution_count": 6,
     "metadata": {},
     "output_type": "execute_result"
    }
   ],
   "source": [
    "a==b"
   ]
  },
  {
   "cell_type": "code",
   "execution_count": 9,
   "metadata": {},
   "outputs": [],
   "source": [
    "data = {}\n",
    "data['train'] = df[df['answerCode']>=0]\n",
    "data['test'] = df[df['answerCode']==-1]"
   ]
  },
  {
   "cell_type": "code",
   "execution_count": 21,
   "metadata": {},
   "outputs": [
    {
     "data": {
      "text/plain": [
       "0          1\n",
       "1          2\n",
       "2          3\n",
       "3          4\n",
       "4          5\n",
       "          ..\n",
       "2526695    5\n",
       "2526696    1\n",
       "2526697    2\n",
       "2526698    3\n",
       "2526699    4\n",
       "Name: assessmentItemID, Length: 2526700, dtype: int64"
      ]
     },
     "execution_count": 21,
     "metadata": {},
     "output_type": "execute_result"
    }
   ],
   "source": [
    "df.assessmentItemID"
   ]
  },
  {
   "cell_type": "code",
   "execution_count": 20,
   "metadata": {},
   "outputs": [
    {
     "name": "stdout",
     "output_type": "stream",
     "text": [
      "<class 'pandas.core.frame.DataFrame'>\n",
      "RangeIndex: 2526700 entries, 0 to 2526699\n",
      "Data columns (total 22 columns):\n",
      " #   Column                      Dtype  \n",
      "---  ------                      -----  \n",
      " 0   userID                      int64  \n",
      " 1   assessmentItemID            int64  \n",
      " 2   testId                      int64  \n",
      " 3   answerCode                  int64  \n",
      " 4   Timestamp                   object \n",
      " 5   KnowledgeTag                int64  \n",
      " 6   SolvingTime                 int64  \n",
      " 7   CumulativeTime              int64  \n",
      " 8   problems_cumulative         int64  \n",
      " 9   problems_last7days          int64  \n",
      " 10  problems_last30days         int64  \n",
      " 11  CumulativeAnswerRate        float64\n",
      " 12  CumulativeProblemCount      int64  \n",
      " 13  Month                       int64  \n",
      " 14  DayOfWeek                   object \n",
      " 15  TimeOfDay                   object \n",
      " 16  CorrectnessRate             float64\n",
      " 17  TagAccuracy                 float64\n",
      " 18  UserCumulativeAnswerRate    float64\n",
      " 19  categorize_solvingTime      int64  \n",
      " 20  categorize_CorrectnessRate  object \n",
      " 21  categorize_TagAccuracy      object \n",
      "dtypes: float64(4), int64(13), object(5)\n",
      "memory usage: 424.1+ MB\n"
     ]
    }
   ],
   "source": [
    "userID assessmentItemID testId KnowledgeTag categorize_solvingTime categorize_CorrectnessRate categorize_TagAccuracy Month DayOfWeek TimeOfDay\n",
    "'SolvingTime', 'CumulativeTime', 'problems_cumulative', 'problems_last7days', 'problems_last30days', \n",
    "               \n",
    "userID assessmentItemID testId KnowledgeTag Month DayOfWeek TimeOfDay categorize_solvingTime categorize_ProblemAnswerRate categorize_TagAnswerRate categorize_TestAnswerRate\n",
    "SolvingTime CumulativeTime problems_cumulative problems_last7days problems_last30days CumulativeAnswerRate CumulativeProblemCount ProblemAnswerRate TagAnswerRate TestAnswerRate\n",
    "               "
   ]
  },
  {
   "cell_type": "code",
   "execution_count": 15,
   "metadata": {},
   "outputs": [
    {
     "name": "stderr",
     "output_type": "stream",
     "text": [
      "/tmp/ipykernel_325018/3181852837.py:2: SettingWithCopyWarning: \n",
      "A value is trying to be set on a copy of a slice from a DataFrame.\n",
      "Try using .loc[row_indexer,col_indexer] = value instead\n",
      "\n",
      "See the caveats in the documentation: https://pandas.pydata.org/pandas-docs/stable/user_guide/indexing.html#returning-a-view-versus-a-copy\n",
      "  a[\"is_valid\"] = [False] * a.shape[0]\n"
     ]
    }
   ],
   "source": [
    "a = data[\"train\"]\n",
    "a[\"is_valid\"] = [False] * a.shape[0]\n",
    "a.loc[\n",
    "    a.drop_duplicates(subset=\"userID\", keep=\"last\").index, \"is_valid\"\n",
    "] = True"
   ]
  },
  {
   "cell_type": "code",
   "execution_count": 17,
   "metadata": {},
   "outputs": [
    {
     "data": {
      "text/html": [
       "<div>\n",
       "<style scoped>\n",
       "    .dataframe tbody tr th:only-of-type {\n",
       "        vertical-align: middle;\n",
       "    }\n",
       "\n",
       "    .dataframe tbody tr th {\n",
       "        vertical-align: top;\n",
       "    }\n",
       "\n",
       "    .dataframe thead th {\n",
       "        text-align: right;\n",
       "    }\n",
       "</style>\n",
       "<table border=\"1\" class=\"dataframe\">\n",
       "  <thead>\n",
       "    <tr style=\"text-align: right;\">\n",
       "      <th></th>\n",
       "      <th>userID</th>\n",
       "      <th>assessmentItemID</th>\n",
       "      <th>testId</th>\n",
       "      <th>answerCode</th>\n",
       "      <th>Timestamp</th>\n",
       "      <th>KnowledgeTag</th>\n",
       "      <th>SolvingTime</th>\n",
       "      <th>CumulativeTime</th>\n",
       "      <th>problems_cumulative</th>\n",
       "      <th>problems_last7days</th>\n",
       "      <th>...</th>\n",
       "      <th>Month</th>\n",
       "      <th>DayOfWeek</th>\n",
       "      <th>TimeOfDay</th>\n",
       "      <th>CorrectnessRate</th>\n",
       "      <th>TagAccuracy</th>\n",
       "      <th>UserCumulativeAnswerRate</th>\n",
       "      <th>categorize_solvingTime</th>\n",
       "      <th>categorize_CorrectnessRate</th>\n",
       "      <th>categorize_TagAccuracy</th>\n",
       "      <th>is_valid</th>\n",
       "    </tr>\n",
       "  </thead>\n",
       "  <tbody>\n",
       "    <tr>\n",
       "      <th>0</th>\n",
       "      <td>0</td>\n",
       "      <td>1</td>\n",
       "      <td>60001</td>\n",
       "      <td>1</td>\n",
       "      <td>2020-03-24 00:17:11</td>\n",
       "      <td>7224</td>\n",
       "      <td>3</td>\n",
       "      <td>3</td>\n",
       "      <td>0</td>\n",
       "      <td>0</td>\n",
       "      <td>...</td>\n",
       "      <td>3</td>\n",
       "      <td>Tuesday</td>\n",
       "      <td>Dawn</td>\n",
       "      <td>0.984</td>\n",
       "      <td>0.957333</td>\n",
       "      <td>0.5</td>\n",
       "      <td>0</td>\n",
       "      <td>Very Easy</td>\n",
       "      <td>Very Easy</td>\n",
       "      <td>False</td>\n",
       "    </tr>\n",
       "    <tr>\n",
       "      <th>1</th>\n",
       "      <td>0</td>\n",
       "      <td>2</td>\n",
       "      <td>60001</td>\n",
       "      <td>1</td>\n",
       "      <td>2020-03-24 00:17:14</td>\n",
       "      <td>7225</td>\n",
       "      <td>8</td>\n",
       "      <td>11</td>\n",
       "      <td>1</td>\n",
       "      <td>1</td>\n",
       "      <td>...</td>\n",
       "      <td>3</td>\n",
       "      <td>Tuesday</td>\n",
       "      <td>Dawn</td>\n",
       "      <td>0.968</td>\n",
       "      <td>0.917067</td>\n",
       "      <td>1.0</td>\n",
       "      <td>1</td>\n",
       "      <td>Very Easy</td>\n",
       "      <td>Very Easy</td>\n",
       "      <td>False</td>\n",
       "    </tr>\n",
       "    <tr>\n",
       "      <th>2</th>\n",
       "      <td>0</td>\n",
       "      <td>3</td>\n",
       "      <td>60001</td>\n",
       "      <td>1</td>\n",
       "      <td>2020-03-24 00:17:22</td>\n",
       "      <td>7225</td>\n",
       "      <td>7</td>\n",
       "      <td>18</td>\n",
       "      <td>2</td>\n",
       "      <td>2</td>\n",
       "      <td>...</td>\n",
       "      <td>3</td>\n",
       "      <td>Tuesday</td>\n",
       "      <td>Dawn</td>\n",
       "      <td>0.916</td>\n",
       "      <td>0.917067</td>\n",
       "      <td>1.0</td>\n",
       "      <td>1</td>\n",
       "      <td>Very Easy</td>\n",
       "      <td>Very Easy</td>\n",
       "      <td>False</td>\n",
       "    </tr>\n",
       "    <tr>\n",
       "      <th>3</th>\n",
       "      <td>0</td>\n",
       "      <td>4</td>\n",
       "      <td>60001</td>\n",
       "      <td>1</td>\n",
       "      <td>2020-03-24 00:17:29</td>\n",
       "      <td>7225</td>\n",
       "      <td>7</td>\n",
       "      <td>25</td>\n",
       "      <td>3</td>\n",
       "      <td>3</td>\n",
       "      <td>...</td>\n",
       "      <td>3</td>\n",
       "      <td>Tuesday</td>\n",
       "      <td>Dawn</td>\n",
       "      <td>0.972</td>\n",
       "      <td>0.917067</td>\n",
       "      <td>1.0</td>\n",
       "      <td>1</td>\n",
       "      <td>Very Easy</td>\n",
       "      <td>Very Easy</td>\n",
       "      <td>False</td>\n",
       "    </tr>\n",
       "    <tr>\n",
       "      <th>4</th>\n",
       "      <td>0</td>\n",
       "      <td>5</td>\n",
       "      <td>60001</td>\n",
       "      <td>1</td>\n",
       "      <td>2020-03-24 00:17:36</td>\n",
       "      <td>7225</td>\n",
       "      <td>11</td>\n",
       "      <td>36</td>\n",
       "      <td>4</td>\n",
       "      <td>4</td>\n",
       "      <td>...</td>\n",
       "      <td>3</td>\n",
       "      <td>Tuesday</td>\n",
       "      <td>Dawn</td>\n",
       "      <td>0.948</td>\n",
       "      <td>0.917067</td>\n",
       "      <td>1.0</td>\n",
       "      <td>2</td>\n",
       "      <td>Very Easy</td>\n",
       "      <td>Very Easy</td>\n",
       "      <td>False</td>\n",
       "    </tr>\n",
       "  </tbody>\n",
       "</table>\n",
       "<p>5 rows × 23 columns</p>\n",
       "</div>"
      ],
      "text/plain": [
       "   userID  assessmentItemID  testId  answerCode            Timestamp  \\\n",
       "0       0                 1   60001           1  2020-03-24 00:17:11   \n",
       "1       0                 2   60001           1  2020-03-24 00:17:14   \n",
       "2       0                 3   60001           1  2020-03-24 00:17:22   \n",
       "3       0                 4   60001           1  2020-03-24 00:17:29   \n",
       "4       0                 5   60001           1  2020-03-24 00:17:36   \n",
       "\n",
       "   KnowledgeTag  SolvingTime  CumulativeTime  problems_cumulative  \\\n",
       "0          7224            3               3                    0   \n",
       "1          7225            8              11                    1   \n",
       "2          7225            7              18                    2   \n",
       "3          7225            7              25                    3   \n",
       "4          7225           11              36                    4   \n",
       "\n",
       "   problems_last7days  ...  Month  DayOfWeek  TimeOfDay  CorrectnessRate  \\\n",
       "0                   0  ...      3    Tuesday       Dawn            0.984   \n",
       "1                   1  ...      3    Tuesday       Dawn            0.968   \n",
       "2                   2  ...      3    Tuesday       Dawn            0.916   \n",
       "3                   3  ...      3    Tuesday       Dawn            0.972   \n",
       "4                   4  ...      3    Tuesday       Dawn            0.948   \n",
       "\n",
       "  TagAccuracy UserCumulativeAnswerRate  categorize_solvingTime  \\\n",
       "0    0.957333                      0.5                       0   \n",
       "1    0.917067                      1.0                       1   \n",
       "2    0.917067                      1.0                       1   \n",
       "3    0.917067                      1.0                       1   \n",
       "4    0.917067                      1.0                       2   \n",
       "\n",
       "   categorize_CorrectnessRate  categorize_TagAccuracy  is_valid  \n",
       "0                   Very Easy               Very Easy     False  \n",
       "1                   Very Easy               Very Easy     False  \n",
       "2                   Very Easy               Very Easy     False  \n",
       "3                   Very Easy               Very Easy     False  \n",
       "4                   Very Easy               Very Easy     False  \n",
       "\n",
       "[5 rows x 23 columns]"
      ]
     },
     "execution_count": 17,
     "metadata": {},
     "output_type": "execute_result"
    }
   ],
   "source": [
    "a.head()"
   ]
  },
  {
   "cell_type": "code",
   "execution_count": 18,
   "metadata": {},
   "outputs": [
    {
     "data": {
      "text/html": [
       "<div>\n",
       "<style scoped>\n",
       "    .dataframe tbody tr th:only-of-type {\n",
       "        vertical-align: middle;\n",
       "    }\n",
       "\n",
       "    .dataframe tbody tr th {\n",
       "        vertical-align: top;\n",
       "    }\n",
       "\n",
       "    .dataframe thead th {\n",
       "        text-align: right;\n",
       "    }\n",
       "</style>\n",
       "<table border=\"1\" class=\"dataframe\">\n",
       "  <thead>\n",
       "    <tr style=\"text-align: right;\">\n",
       "      <th></th>\n",
       "      <th>userID</th>\n",
       "      <th>assessmentItemID</th>\n",
       "      <th>testId</th>\n",
       "      <th>answerCode</th>\n",
       "      <th>Timestamp</th>\n",
       "      <th>KnowledgeTag</th>\n",
       "      <th>SolvingTime</th>\n",
       "      <th>CumulativeTime</th>\n",
       "      <th>problems_cumulative</th>\n",
       "      <th>problems_last7days</th>\n",
       "      <th>...</th>\n",
       "      <th>Month</th>\n",
       "      <th>DayOfWeek</th>\n",
       "      <th>TimeOfDay</th>\n",
       "      <th>CorrectnessRate</th>\n",
       "      <th>TagAccuracy</th>\n",
       "      <th>UserCumulativeAnswerRate</th>\n",
       "      <th>categorize_solvingTime</th>\n",
       "      <th>categorize_CorrectnessRate</th>\n",
       "      <th>categorize_TagAccuracy</th>\n",
       "      <th>is_valid</th>\n",
       "    </tr>\n",
       "  </thead>\n",
       "  <tbody>\n",
       "    <tr>\n",
       "      <th>0</th>\n",
       "      <td>0</td>\n",
       "      <td>1</td>\n",
       "      <td>60001</td>\n",
       "      <td>1</td>\n",
       "      <td>2020-03-24 00:17:11</td>\n",
       "      <td>7224</td>\n",
       "      <td>3</td>\n",
       "      <td>3</td>\n",
       "      <td>0</td>\n",
       "      <td>0</td>\n",
       "      <td>...</td>\n",
       "      <td>3</td>\n",
       "      <td>Tuesday</td>\n",
       "      <td>Dawn</td>\n",
       "      <td>0.984</td>\n",
       "      <td>0.957333</td>\n",
       "      <td>0.5</td>\n",
       "      <td>0</td>\n",
       "      <td>Very Easy</td>\n",
       "      <td>Very Easy</td>\n",
       "      <td>False</td>\n",
       "    </tr>\n",
       "    <tr>\n",
       "      <th>1</th>\n",
       "      <td>0</td>\n",
       "      <td>2</td>\n",
       "      <td>60001</td>\n",
       "      <td>1</td>\n",
       "      <td>2020-03-24 00:17:14</td>\n",
       "      <td>7225</td>\n",
       "      <td>8</td>\n",
       "      <td>11</td>\n",
       "      <td>1</td>\n",
       "      <td>1</td>\n",
       "      <td>...</td>\n",
       "      <td>3</td>\n",
       "      <td>Tuesday</td>\n",
       "      <td>Dawn</td>\n",
       "      <td>0.968</td>\n",
       "      <td>0.917067</td>\n",
       "      <td>1.0</td>\n",
       "      <td>1</td>\n",
       "      <td>Very Easy</td>\n",
       "      <td>Very Easy</td>\n",
       "      <td>False</td>\n",
       "    </tr>\n",
       "    <tr>\n",
       "      <th>2</th>\n",
       "      <td>0</td>\n",
       "      <td>3</td>\n",
       "      <td>60001</td>\n",
       "      <td>1</td>\n",
       "      <td>2020-03-24 00:17:22</td>\n",
       "      <td>7225</td>\n",
       "      <td>7</td>\n",
       "      <td>18</td>\n",
       "      <td>2</td>\n",
       "      <td>2</td>\n",
       "      <td>...</td>\n",
       "      <td>3</td>\n",
       "      <td>Tuesday</td>\n",
       "      <td>Dawn</td>\n",
       "      <td>0.916</td>\n",
       "      <td>0.917067</td>\n",
       "      <td>1.0</td>\n",
       "      <td>1</td>\n",
       "      <td>Very Easy</td>\n",
       "      <td>Very Easy</td>\n",
       "      <td>False</td>\n",
       "    </tr>\n",
       "    <tr>\n",
       "      <th>3</th>\n",
       "      <td>0</td>\n",
       "      <td>4</td>\n",
       "      <td>60001</td>\n",
       "      <td>1</td>\n",
       "      <td>2020-03-24 00:17:29</td>\n",
       "      <td>7225</td>\n",
       "      <td>7</td>\n",
       "      <td>25</td>\n",
       "      <td>3</td>\n",
       "      <td>3</td>\n",
       "      <td>...</td>\n",
       "      <td>3</td>\n",
       "      <td>Tuesday</td>\n",
       "      <td>Dawn</td>\n",
       "      <td>0.972</td>\n",
       "      <td>0.917067</td>\n",
       "      <td>1.0</td>\n",
       "      <td>1</td>\n",
       "      <td>Very Easy</td>\n",
       "      <td>Very Easy</td>\n",
       "      <td>False</td>\n",
       "    </tr>\n",
       "    <tr>\n",
       "      <th>4</th>\n",
       "      <td>0</td>\n",
       "      <td>5</td>\n",
       "      <td>60001</td>\n",
       "      <td>1</td>\n",
       "      <td>2020-03-24 00:17:36</td>\n",
       "      <td>7225</td>\n",
       "      <td>11</td>\n",
       "      <td>36</td>\n",
       "      <td>4</td>\n",
       "      <td>4</td>\n",
       "      <td>...</td>\n",
       "      <td>3</td>\n",
       "      <td>Tuesday</td>\n",
       "      <td>Dawn</td>\n",
       "      <td>0.948</td>\n",
       "      <td>0.917067</td>\n",
       "      <td>1.0</td>\n",
       "      <td>2</td>\n",
       "      <td>Very Easy</td>\n",
       "      <td>Very Easy</td>\n",
       "      <td>False</td>\n",
       "    </tr>\n",
       "  </tbody>\n",
       "</table>\n",
       "<p>5 rows × 23 columns</p>\n",
       "</div>"
      ],
      "text/plain": [
       "   userID  assessmentItemID  testId  answerCode            Timestamp  \\\n",
       "0       0                 1   60001           1  2020-03-24 00:17:11   \n",
       "1       0                 2   60001           1  2020-03-24 00:17:14   \n",
       "2       0                 3   60001           1  2020-03-24 00:17:22   \n",
       "3       0                 4   60001           1  2020-03-24 00:17:29   \n",
       "4       0                 5   60001           1  2020-03-24 00:17:36   \n",
       "\n",
       "   KnowledgeTag  SolvingTime  CumulativeTime  problems_cumulative  \\\n",
       "0          7224            3               3                    0   \n",
       "1          7225            8              11                    1   \n",
       "2          7225            7              18                    2   \n",
       "3          7225            7              25                    3   \n",
       "4          7225           11              36                    4   \n",
       "\n",
       "   problems_last7days  ...  Month  DayOfWeek  TimeOfDay  CorrectnessRate  \\\n",
       "0                   0  ...      3    Tuesday       Dawn            0.984   \n",
       "1                   1  ...      3    Tuesday       Dawn            0.968   \n",
       "2                   2  ...      3    Tuesday       Dawn            0.916   \n",
       "3                   3  ...      3    Tuesday       Dawn            0.972   \n",
       "4                   4  ...      3    Tuesday       Dawn            0.948   \n",
       "\n",
       "  TagAccuracy UserCumulativeAnswerRate  categorize_solvingTime  \\\n",
       "0    0.957333                      0.5                       0   \n",
       "1    0.917067                      1.0                       1   \n",
       "2    0.917067                      1.0                       1   \n",
       "3    0.917067                      1.0                       1   \n",
       "4    0.917067                      1.0                       2   \n",
       "\n",
       "   categorize_CorrectnessRate  categorize_TagAccuracy  is_valid  \n",
       "0                   Very Easy               Very Easy     False  \n",
       "1                   Very Easy               Very Easy     False  \n",
       "2                   Very Easy               Very Easy     False  \n",
       "3                   Very Easy               Very Easy     False  \n",
       "4                   Very Easy               Very Easy     False  \n",
       "\n",
       "[5 rows x 23 columns]"
      ]
     },
     "execution_count": 18,
     "metadata": {},
     "output_type": "execute_result"
    }
   ],
   "source": [
    "data['train'].head()"
   ]
  },
  {
   "cell_type": "code",
   "execution_count": 6,
   "metadata": {},
   "outputs": [],
   "source": [
    "train = pd.read_csv('../data/test_data.csv')"
   ]
  },
  {
   "cell_type": "code",
   "execution_count": 7,
   "metadata": {},
   "outputs": [
    {
     "data": {
      "text/plain": [
       "Index(['userID', 'assessmentItemID', 'testId', 'answerCode', 'Timestamp',\n",
       "       'KnowledgeTag', 'SolvingTime', 'CumulativeTime', 'problems_cumulative',\n",
       "       'problems_last7days', 'problems_last30days', 'Month', 'DayOfWeek',\n",
       "       'TimeOfDay', 'CorrectnessRate', 'TagAccuracy',\n",
       "       'UserCumulativeAnswerRate', 'categorize_solvingTime',\n",
       "       'categorize_CorrectnessRate', 'categorize_TagAccuracy'],\n",
       "      dtype='object')"
      ]
     },
     "execution_count": 7,
     "metadata": {},
     "output_type": "execute_result"
    }
   ],
   "source": [
    "train.columns"
   ]
  },
  {
   "cell_type": "code",
   "execution_count": 5,
   "metadata": {},
   "outputs": [
    {
     "data": {
      "text/plain": [
       "answerCode\n",
       "1    1483205\n",
       "0     783381\n",
       "Name: count, dtype: int64"
      ]
     },
     "execution_count": 5,
     "metadata": {},
     "output_type": "execute_result"
    }
   ],
   "source": [
    "train.answerCode.value_counts()"
   ]
  },
  {
   "cell_type": "code",
   "execution_count": 49,
   "metadata": {},
   "outputs": [
    {
     "data": {
      "text/plain": [
       "Index(['userID', 'assessmentItemID', 'testId', 'answerCode', 'Timestamp',\n",
       "       'KnowledgeTag', 'SolvingTime', 'CumulativeTime', 'problems_cumulative',\n",
       "       'problems_last7days', 'problems_last30days', 'Month', 'DayOfWeek',\n",
       "       'TimeOfDay', 'CorrectnessRate', 'TagAccuracy',\n",
       "       'UserCumulativeAnswerRate', 'categorize_solvingTime',\n",
       "       'categorize_CorrectnessRate', 'categorize_TagAccuracy'],\n",
       "      dtype='object')"
      ]
     },
     "execution_count": 49,
     "metadata": {},
     "output_type": "execute_result"
    }
   ],
   "source": [
    "test.columns"
   ]
  },
  {
   "cell_type": "code",
   "execution_count": 39,
   "metadata": {},
   "outputs": [],
   "source": [
    "fe = pd.read_csv('../data/FE_v2.0.csv')"
   ]
  },
  {
   "cell_type": "code",
   "execution_count": 23,
   "metadata": {},
   "outputs": [],
   "source": [
    "test.columns = ['UserID', 'ProblemID', 'TestID', 'AnswerCode', 'Timestamp', 'KnowledgeTag']"
   ]
  },
  {
   "cell_type": "code",
   "execution_count": 24,
   "metadata": {},
   "outputs": [
    {
     "data": {
      "text/html": [
       "<div>\n",
       "<style scoped>\n",
       "    .dataframe tbody tr th:only-of-type {\n",
       "        vertical-align: middle;\n",
       "    }\n",
       "\n",
       "    .dataframe tbody tr th {\n",
       "        vertical-align: top;\n",
       "    }\n",
       "\n",
       "    .dataframe thead th {\n",
       "        text-align: right;\n",
       "    }\n",
       "</style>\n",
       "<table border=\"1\" class=\"dataframe\">\n",
       "  <thead>\n",
       "    <tr style=\"text-align: right;\">\n",
       "      <th></th>\n",
       "      <th>UserID</th>\n",
       "      <th>ProblemID</th>\n",
       "      <th>TestID</th>\n",
       "      <th>AnswerCode</th>\n",
       "      <th>Timestamp</th>\n",
       "      <th>KnowledgeTag</th>\n",
       "    </tr>\n",
       "  </thead>\n",
       "  <tbody>\n",
       "    <tr>\n",
       "      <th>0</th>\n",
       "      <td>3</td>\n",
       "      <td>A050023001</td>\n",
       "      <td>A050000023</td>\n",
       "      <td>1</td>\n",
       "      <td>2020-01-09 10:56:31</td>\n",
       "      <td>2626</td>\n",
       "    </tr>\n",
       "    <tr>\n",
       "      <th>1</th>\n",
       "      <td>3</td>\n",
       "      <td>A050023002</td>\n",
       "      <td>A050000023</td>\n",
       "      <td>1</td>\n",
       "      <td>2020-01-09 10:56:57</td>\n",
       "      <td>2626</td>\n",
       "    </tr>\n",
       "    <tr>\n",
       "      <th>2</th>\n",
       "      <td>3</td>\n",
       "      <td>A050023003</td>\n",
       "      <td>A050000023</td>\n",
       "      <td>0</td>\n",
       "      <td>2020-01-09 10:58:31</td>\n",
       "      <td>2625</td>\n",
       "    </tr>\n",
       "    <tr>\n",
       "      <th>3</th>\n",
       "      <td>3</td>\n",
       "      <td>A050023004</td>\n",
       "      <td>A050000023</td>\n",
       "      <td>0</td>\n",
       "      <td>2020-01-09 10:58:36</td>\n",
       "      <td>2625</td>\n",
       "    </tr>\n",
       "    <tr>\n",
       "      <th>4</th>\n",
       "      <td>3</td>\n",
       "      <td>A050023006</td>\n",
       "      <td>A050000023</td>\n",
       "      <td>0</td>\n",
       "      <td>2020-01-09 10:58:43</td>\n",
       "      <td>2623</td>\n",
       "    </tr>\n",
       "  </tbody>\n",
       "</table>\n",
       "</div>"
      ],
      "text/plain": [
       "   UserID   ProblemID      TestID  AnswerCode            Timestamp  \\\n",
       "0       3  A050023001  A050000023           1  2020-01-09 10:56:31   \n",
       "1       3  A050023002  A050000023           1  2020-01-09 10:56:57   \n",
       "2       3  A050023003  A050000023           0  2020-01-09 10:58:31   \n",
       "3       3  A050023004  A050000023           0  2020-01-09 10:58:36   \n",
       "4       3  A050023006  A050000023           0  2020-01-09 10:58:43   \n",
       "\n",
       "   KnowledgeTag  \n",
       "0          2626  \n",
       "1          2626  \n",
       "2          2625  \n",
       "3          2625  \n",
       "4          2623  "
      ]
     },
     "execution_count": 24,
     "metadata": {},
     "output_type": "execute_result"
    }
   ],
   "source": [
    "test.head()"
   ]
  },
  {
   "cell_type": "code",
   "execution_count": 13,
   "metadata": {},
   "outputs": [
    {
     "data": {
      "text/plain": [
       "False"
      ]
     },
     "execution_count": 13,
     "metadata": {},
     "output_type": "execute_result"
    }
   ],
   "source": [
    "train.testId.astype('category').dtypes == 'UInt32'"
   ]
  },
  {
   "cell_type": "code",
   "execution_count": 75,
   "metadata": {},
   "outputs": [
    {
     "data": {
      "text/plain": [
       "(912, 912)"
      ]
     },
     "execution_count": 75,
     "metadata": {},
     "output_type": "execute_result"
    }
   ],
   "source": [
    "train['KnowledgeTag'].nunique(), total.KnowledgeTag.nunique()"
   ]
  },
  {
   "cell_type": "code",
   "execution_count": 4,
   "metadata": {},
   "outputs": [
    {
     "data": {
      "text/plain": [
       "(9454, 912)"
      ]
     },
     "execution_count": 4,
     "metadata": {},
     "output_type": "execute_result"
    }
   ],
   "source": [
    "total = pd.concat([train, test])\n",
    "\n",
    "total.assessmentItemID.nunique(), total.KnowledgeTag.nunique()"
   ]
  },
  {
   "cell_type": "code",
   "execution_count": 10,
   "metadata": {},
   "outputs": [
    {
     "data": {
      "text/plain": [
       "2475962"
      ]
     },
     "execution_count": 10,
     "metadata": {},
     "output_type": "execute_result"
    }
   ],
   "source": [
    "total.drop_duplicates(subset=['userID','assessmentItemID'], keep='last').answerCode.value_counts()[:2].sum()"
   ]
  },
  {
   "cell_type": "code",
   "execution_count": 6,
   "metadata": {},
   "outputs": [],
   "source": [
    "import torch\n",
    "import torch.nn as nn\n",
    "\n",
    "state = torch.load('/data/ephemeral/home/level2-dkt-recsys-06/code/lightgcn/models/best_model.pt', torch.device('cpu'))['model']"
   ]
  },
  {
   "cell_type": "code",
   "execution_count": 18,
   "metadata": {},
   "outputs": [
    {
     "data": {
      "text/plain": [
       "9454"
      ]
     },
     "execution_count": 18,
     "metadata": {},
     "output_type": "execute_result"
    }
   ],
   "source": [
    "state['embedding.weight'].shape[0] - 7442"
   ]
  },
  {
   "cell_type": "code",
   "execution_count": 19,
   "metadata": {},
   "outputs": [],
   "source": [
    "emb = nn.Embedding(9454,256)\n",
    "emb.load_state_dict({'weight':state['embedding.weight'][7442:]})\n",
    "emb.weight.requires_grad = False"
   ]
  },
  {
   "cell_type": "code",
   "execution_count": 30,
   "metadata": {},
   "outputs": [],
   "source": [
    "question = sorted(list(set(total.assessmentItemID)))\n",
    "\n",
    "le = LabelEncoder()\n",
    "le.fit(question)\n",
    "\n",
    "result = le.transform(total.assessmentItemID)#.astype(str))\n"
   ]
  },
  {
   "cell_type": "code",
   "execution_count": 46,
   "metadata": {},
   "outputs": [
    {
     "data": {
      "text/plain": [
       "['__class__',\n",
       " '__delattr__',\n",
       " '__dict__',\n",
       " '__dir__',\n",
       " '__doc__',\n",
       " '__eq__',\n",
       " '__format__',\n",
       " '__ge__',\n",
       " '__getattribute__',\n",
       " '__getstate__',\n",
       " '__gt__',\n",
       " '__hash__',\n",
       " '__init__',\n",
       " '__init_subclass__',\n",
       " '__le__',\n",
       " '__lt__',\n",
       " '__module__',\n",
       " '__ne__',\n",
       " '__new__',\n",
       " '__reduce__',\n",
       " '__reduce_ex__',\n",
       " '__repr__',\n",
       " '__setattr__',\n",
       " '__setstate__',\n",
       " '__sizeof__',\n",
       " '__sklearn_clone__',\n",
       " '__str__',\n",
       " '__subclasshook__',\n",
       " '__weakref__',\n",
       " '_build_request_for_signature',\n",
       " '_check_feature_names',\n",
       " '_check_n_features',\n",
       " '_get_default_requests',\n",
       " '_get_metadata_request',\n",
       " '_get_param_names',\n",
       " '_get_tags',\n",
       " '_more_tags',\n",
       " '_repr_html_',\n",
       " '_repr_html_inner',\n",
       " '_repr_mimebundle_',\n",
       " '_sklearn_auto_wrap_output_keys',\n",
       " '_validate_data',\n",
       " '_validate_params',\n",
       " 'classes_',\n",
       " 'fit',\n",
       " 'fit_transform',\n",
       " 'get_metadata_routing',\n",
       " 'get_params',\n",
       " 'inverse_transform',\n",
       " 'set_output',\n",
       " 'set_params',\n",
       " 'transform']"
      ]
     },
     "execution_count": 46,
     "metadata": {},
     "output_type": "execute_result"
    }
   ],
   "source": [
    "dir(le)"
   ]
  },
  {
   "cell_type": "code",
   "execution_count": 70,
   "metadata": {},
   "outputs": [
    {
     "data": {
      "text/plain": [
       "array(['A090074006'], dtype='<U10')"
      ]
     },
     "execution_count": 70,
     "metadata": {},
     "output_type": "execute_result"
    }
   ],
   "source": [
    "le.inverse_transform([9453])"
   ]
  },
  {
   "cell_type": "code",
   "execution_count": 72,
   "metadata": {},
   "outputs": [
    {
     "data": {
      "text/plain": [
       "tensor([[[3, 4],\n",
       "         [2, 3]],\n",
       "\n",
       "        [[2, 1],\n",
       "         [2, 3]]])"
      ]
     },
     "execution_count": 72,
     "metadata": {},
     "output_type": "execute_result"
    }
   ],
   "source": [
    "t = torch.LongTensor([[[3,4],[2,3]],[[2,1],[2,3]]])-1+1\n",
    "t"
   ]
  },
  {
   "cell_type": "code",
   "execution_count": 38,
   "metadata": {},
   "outputs": [
    {
     "data": {
      "text/plain": [
       "tensor([[ 0.0041, -0.0104,  0.0083,  ...,  0.0230,  0.0019,  0.0065],\n",
       "        [ 0.0100, -0.0157, -0.0005,  ...,  0.0165, -0.0030,  0.0243],\n",
       "        [ 0.0121,  0.0191,  0.0219,  ..., -0.0032, -0.0104,  0.0236],\n",
       "        ...,\n",
       "        [ 0.0129, -0.0099, -0.0168,  ..., -0.0039,  0.0157,  0.0034],\n",
       "        [ 0.0063,  0.0004,  0.0125,  ...,  0.0132, -0.0153,  0.0007],\n",
       "        [-0.0147,  0.0065, -0.0004,  ..., -0.0104, -0.0205,  0.0067]])"
      ]
     },
     "execution_count": 38,
     "metadata": {},
     "output_type": "execute_result"
    }
   ],
   "source": [
    "state['embedding.weight'][7442:]"
   ]
  },
  {
   "cell_type": "code",
   "execution_count": 15,
   "metadata": {},
   "outputs": [
    {
     "data": {
      "text/plain": [
       "<All keys matched successfully>"
      ]
     },
     "execution_count": 15,
     "metadata": {},
     "output_type": "execute_result"
    }
   ],
   "source": [
    "class shit(nn.Module):\n",
    "    def __init__(self,state):\n",
    "        super.__init__()\n",
    "\n",
    "\n",
    "    def forward(self,data):\n",
    "        out = self.emb(data)\n",
    "\n",
    "        return out\n"
   ]
  },
  {
   "cell_type": "code",
   "execution_count": 13,
   "metadata": {},
   "outputs": [
    {
     "data": {
      "text/plain": [
       "(9454, 9454, 7442)"
      ]
     },
     "execution_count": 13,
     "metadata": {},
     "output_type": "execute_result"
    }
   ],
   "source": [
    "total.assessmentItemID.nunique(), train.assessmentItemID.nunique(), total.userID.nunique()"
   ]
  },
  {
   "cell_type": "code",
   "execution_count": 55,
   "metadata": {},
   "outputs": [
    {
     "data": {
      "text/plain": [
       "912"
      ]
     },
     "execution_count": 55,
     "metadata": {},
     "output_type": "execute_result"
    }
   ],
   "source": [
    "train.KnowledgeTag.nunique()"
   ]
  },
  {
   "cell_type": "code",
   "execution_count": 4,
   "metadata": {},
   "outputs": [],
   "source": [
    "a = sorted(list(set(train.assessmentItemID)))\n",
    "\n",
    "e = train.assessmentItemID.astype(str)\n",
    "\n",
    "le = LabelEncoder()\n",
    "le.fit(a)\n",
    "x = torch.LongTensor(le.transform(e))"
   ]
  },
  {
   "cell_type": "code",
   "execution_count": 7,
   "metadata": {},
   "outputs": [
    {
     "data": {
      "text/plain": [
       "torch.Size([9454, 64])"
      ]
     },
     "execution_count": 7,
     "metadata": {},
     "output_type": "execute_result"
    }
   ],
   "source": [
    "f = state['model']['embedding.weight'][7442:]\n",
    "f.shape"
   ]
  },
  {
   "cell_type": "code",
   "execution_count": 8,
   "metadata": {},
   "outputs": [],
   "source": [
    "d = torch.LongTensor([0]).to('cuda')\n",
    "a = nn.Embedding.from_pretrained(f)(d), f[0]"
   ]
  },
  {
   "cell_type": "code",
   "execution_count": 17,
   "metadata": {},
   "outputs": [
    {
     "ename": "AttributeError",
     "evalue": "'Embedding' object has no attribute 'requires_grad'",
     "output_type": "error",
     "traceback": [
      "\u001b[0;31m---------------------------------------------------------------------------\u001b[0m",
      "\u001b[0;31mAttributeError\u001b[0m                            Traceback (most recent call last)",
      "Cell \u001b[0;32mIn[17], line 1\u001b[0m\n\u001b[0;32m----> 1\u001b[0m nn\u001b[39m.\u001b[39;49mEmbedding\u001b[39m.\u001b[39;49mfrom_pretrained(f)\u001b[39m.\u001b[39;49mrequires_grad()\n",
      "File \u001b[0;32m~/miniconda3/envs/dkt/lib/python3.10/site-packages/torch/nn/modules/module.py:1207\u001b[0m, in \u001b[0;36mModule.__getattr__\u001b[0;34m(self, name)\u001b[0m\n\u001b[1;32m   1205\u001b[0m     \u001b[39mif\u001b[39;00m name \u001b[39min\u001b[39;00m modules:\n\u001b[1;32m   1206\u001b[0m         \u001b[39mreturn\u001b[39;00m modules[name]\n\u001b[0;32m-> 1207\u001b[0m \u001b[39mraise\u001b[39;00m \u001b[39mAttributeError\u001b[39;00m(\u001b[39m\"\u001b[39m\u001b[39m'\u001b[39m\u001b[39m{}\u001b[39;00m\u001b[39m'\u001b[39m\u001b[39m object has no attribute \u001b[39m\u001b[39m'\u001b[39m\u001b[39m{}\u001b[39;00m\u001b[39m'\u001b[39m\u001b[39m\"\u001b[39m\u001b[39m.\u001b[39mformat(\n\u001b[1;32m   1208\u001b[0m     \u001b[39mtype\u001b[39m(\u001b[39mself\u001b[39m)\u001b[39m.\u001b[39m\u001b[39m__name__\u001b[39m, name))\n",
      "\u001b[0;31mAttributeError\u001b[0m: 'Embedding' object has no attribute 'requires_grad'"
     ]
    }
   ],
   "source": [
    "nn.Embedding.from_pretrained(f)"
   ]
  },
  {
   "cell_type": "code",
   "execution_count": 18,
   "metadata": {},
   "outputs": [
    {
     "data": {
      "text/plain": [
       "False"
      ]
     },
     "execution_count": 18,
     "metadata": {},
     "output_type": "execute_result"
    }
   ],
   "source": [
    "a[0].requires_grad"
   ]
  },
  {
   "cell_type": "code",
   "execution_count": null,
   "metadata": {},
   "outputs": [],
   "source": [
    "b = torch.LongTensor([[5,3],[3,4],[1,3]]).to('cuda')\n",
    "\n",
    "a = nn.Embedding.from_pretrained(state['model']['embedding.weight'].detach().cpu()).to('cuda')(b)\n",
    "a"
   ]
  },
  {
   "cell_type": "code",
   "execution_count": 1,
   "metadata": {},
   "outputs": [
    {
     "data": {
      "text/plain": [
       "True"
      ]
     },
     "execution_count": 1,
     "metadata": {},
     "output_type": "execute_result"
    }
   ],
   "source": [
    "s = 'A0101'\n",
    "type(s) == str"
   ]
  },
  {
   "cell_type": "code",
   "execution_count": 85,
   "metadata": {},
   "outputs": [
    {
     "data": {
      "text/plain": [
       "((2476706,), 7442, 9454)"
      ]
     },
     "execution_count": 85,
     "metadata": {},
     "output_type": "execute_result"
    }
   ],
   "source": [
    "total.groupby(['userID','assessmentItemID']).testId.count().shape, total.userID.nunique(), total.assessmentItemID.nunique()"
   ]
  },
  {
   "cell_type": "code",
   "execution_count": 8,
   "metadata": {},
   "outputs": [],
   "source": [
    "n_nodes = total.userID.nunique() + total.assessmentItemID.nunique()"
   ]
  },
  {
   "cell_type": "code",
   "execution_count": 9,
   "metadata": {},
   "outputs": [],
   "source": [
    "import torch_geometric\n",
    "# from torch_geometric.nn.models import LightGCN\n",
    "from lightgcn.lightgcn.lightgcn_source import LightGCN\n",
    "import torch\n",
    "\n",
    "model = LightGCN(n_nodes,64,2)"
   ]
  },
  {
   "cell_type": "code",
   "execution_count": 23,
   "metadata": {},
   "outputs": [
    {
     "data": {
      "text/plain": [
       "OrderedDict([('alpha',\n",
       "              Parameter containing:\n",
       "              tensor([0.3333, 0.3333, 0.3333], requires_grad=True))])"
      ]
     },
     "execution_count": 23,
     "metadata": {},
     "output_type": "execute_result"
    }
   ],
   "source": [
    "a = model._parameters\n",
    "a"
   ]
  },
  {
   "cell_type": "code",
   "execution_count": 27,
   "metadata": {},
   "outputs": [
    {
     "data": {
      "text/plain": [
       "(torch.Size([16896, 64]), 16896)"
      ]
     },
     "execution_count": 27,
     "metadata": {},
     "output_type": "execute_result"
    }
   ],
   "source": [
    "n_user = total.userID.nunique()\n",
    "state['model']['embedding.weight'].shape, n_nodes"
   ]
  },
  {
   "cell_type": "code",
   "execution_count": 51,
   "metadata": {},
   "outputs": [
    {
     "data": {
      "text/plain": [
       "(torch.Size([9454, 64]), 9454, 7442)"
      ]
     },
     "execution_count": 51,
     "metadata": {},
     "output_type": "execute_result"
    }
   ],
   "source": [
    "state['model']['embedding.weight'][n_user:].shape, total['assessmentItemID'].nunique(), n_user"
   ]
  },
  {
   "cell_type": "code",
   "execution_count": 49,
   "metadata": {},
   "outputs": [
    {
     "data": {
      "text/plain": [
       "torch.Size([64])"
      ]
     },
     "execution_count": 49,
     "metadata": {},
     "output_type": "execute_result"
    }
   ],
   "source": [
    "state['model']['embedding.weight'][3].shape"
   ]
  },
  {
   "cell_type": "code",
   "execution_count": 70,
   "metadata": {},
   "outputs": [
    {
     "data": {
      "text/plain": [
       "(7442, 744, 13)"
      ]
     },
     "execution_count": 70,
     "metadata": {},
     "output_type": "execute_result"
    }
   ],
   "source": [
    "train.userID.nunique() , test.userID.nunique() , train.assessmentItemID.nunique()"
   ]
  },
  {
   "cell_type": "code",
   "execution_count": 45,
   "metadata": {},
   "outputs": [
    {
     "data": {
      "text/plain": [
       "(['A060001001', 'A060001002', 'A060001003', 'A060001004', 'A060001005'],\n",
       " ['A040113001', 'A040180001', 'A050155001', 'A070041001', 'A070153004'])"
      ]
     },
     "execution_count": 45,
     "metadata": {},
     "output_type": "execute_result"
    }
   ],
   "source": [
    "train.assessmentItemID.unique().tolist()[:5], sorted(list(set(train.assessmentItemID))[:5])"
   ]
  },
  {
   "cell_type": "code",
   "execution_count": 46,
   "metadata": {},
   "outputs": [
    {
     "data": {
      "text/plain": [
       "array([0, 1, 2, 3, 4])"
      ]
     },
     "execution_count": 46,
     "metadata": {},
     "output_type": "execute_result"
    }
   ],
   "source": [
    "from sklearn.preprocessing import LabelEncoder\n",
    "\n",
    "le = LabelEncoder()\n",
    "\n",
    "le.fit_transform(sorted(list(set(train.assessmentItemID))[:5]))\n"
   ]
  },
  {
   "cell_type": "code",
   "execution_count": 53,
   "metadata": {},
   "outputs": [
    {
     "data": {
      "text/plain": [
       "(array([1, 2, 3, 4, 5]), array([2, 1, 4]))"
      ]
     },
     "execution_count": 53,
     "metadata": {},
     "output_type": "execute_result"
    }
   ],
   "source": [
    "b = np.array([1,2,3,4,5])\n",
    "\n",
    "c = np.random.permutation(b)[:3]"
   ]
  },
  {
   "cell_type": "code",
   "execution_count": 51,
   "metadata": {},
   "outputs": [
    {
     "data": {
      "text/plain": [
       "assessmentItemID\n",
       "1     414349\n",
       "3     414244\n",
       "2     413496\n",
       "4     412018\n",
       "5     401627\n",
       "6     220402\n",
       "7     141866\n",
       "8      74576\n",
       "9      20592\n",
       "10      5940\n",
       "11      3748\n",
       "12      2799\n",
       "13       299\n",
       "Name: count, dtype: int64"
      ]
     },
     "execution_count": 51,
     "metadata": {},
     "output_type": "execute_result"
    }
   ],
   "source": [
    "train.assessmentItemID.value_counts()"
   ]
  },
  {
   "cell_type": "code",
   "execution_count": 31,
   "metadata": {},
   "outputs": [
    {
     "data": {
      "text/plain": [
       "(0         A050023001\n",
       " 1         A050023002\n",
       " 2         A050023003\n",
       " 3         A050023004\n",
       " 4         A050023006\n",
       "              ...    \n",
       " 260109    A040130001\n",
       " 260110    A040130002\n",
       " 260111    A040130003\n",
       " 260112    A040130004\n",
       " 260113    A040130005\n",
       " Name: assessmentItemID, Length: 260114, dtype: object,\n",
       " 0             0\n",
       " 1             0\n",
       " 2             0\n",
       " 3             0\n",
       " 4             0\n",
       "            ... \n",
       " 2525951    7441\n",
       " 2525952    7441\n",
       " 2525953    7441\n",
       " 2525954    7441\n",
       " 2525955    7441\n",
       " Name: userID, Length: 2525956, dtype: int64)"
      ]
     },
     "execution_count": 31,
     "metadata": {},
     "output_type": "execute_result"
    }
   ],
   "source": [
    "test.assessmentItemID, train.userID"
   ]
  },
  {
   "cell_type": "code",
   "execution_count": 38,
   "metadata": {},
   "outputs": [],
   "source": [
    "user2idx = {str(v):i for i,v in enumerate(train.userID)}\n",
    "item2idx = {str(v):i+len(user2idx) for i,v in enumerate(train.assessmentItemID)}"
   ]
  },
  {
   "cell_type": "code",
   "execution_count": 44,
   "metadata": {},
   "outputs": [
    {
     "data": {
      "text/plain": [
       "13"
      ]
     },
     "execution_count": 44,
     "metadata": {},
     "output_type": "execute_result"
    }
   ],
   "source": [
    "train.assessmentItemID.nunique()"
   ]
  },
  {
   "cell_type": "code",
   "execution_count": 34,
   "metadata": {},
   "outputs": [
    {
     "data": {
      "text/plain": [
       "(7442, 7442, 13)"
      ]
     },
     "execution_count": 34,
     "metadata": {},
     "output_type": "execute_result"
    }
   ],
   "source": [
    "total = dict(user2idx, **item2idx)\n",
    "len(total), len(user2idx), len(item2idx)"
   ]
  },
  {
   "cell_type": "code",
   "execution_count": 47,
   "metadata": {},
   "outputs": [
    {
     "data": {
      "text/plain": [
       "(array(['A030000071', 'A030000071', 'A030000071', 'A030000071',\n",
       "        'A030000071', 'A040000165', 'A040000165', 'A040000165',\n",
       "        'A040000165'], dtype=object),\n",
       " array(['A030071001', 'A030071002', 'A030071003', 'A030071004',\n",
       "        'A030071005', 'A040165001', 'A040165002', 'A040165003',\n",
       "        'A040165004'], dtype=object))"
      ]
     },
     "execution_count": 47,
     "metadata": {},
     "output_type": "execute_result"
    }
   ],
   "source": [
    "columns = ['testId','assessmentItemID']\n",
    "\n",
    "train.groupby('userID').apply(lambda r: (r['testId'].values, r['assessmentItemID'].values)).values[-1]"
   ]
  },
  {
   "cell_type": "code",
   "execution_count": 41,
   "metadata": {},
   "outputs": [
    {
     "data": {
      "text/plain": [
       "(array(['A030000071', 'A030000071', 'A030000071', 'A030000071',\n",
       "        'A030000071', 'A040000165', 'A040000165', 'A040000165',\n",
       "        'A040000165'], dtype=object),\n",
       " array(['A030071001', 'A030071002', 'A030071003', 'A030071004',\n",
       "        'A030071005', 'A040165001', 'A040165002', 'A040165003',\n",
       "        'A040165004'], dtype=object))"
      ]
     },
     "execution_count": 41,
     "metadata": {},
     "output_type": "execute_result"
    }
   ],
   "source": [
    "columns = ['testId','assessmentItemID']\n",
    "\n",
    "train.groupby('userID').apply(lambda r: tuple([r[col].values for col in columns])).values[-1]"
   ]
  },
  {
   "cell_type": "code",
   "execution_count": 8,
   "metadata": {},
   "outputs": [
    {
     "name": "stdout",
     "output_type": "stream",
     "text": [
      "(260114, 6)\n"
     ]
    },
    {
     "data": {
      "text/html": [
       "<div>\n",
       "<style scoped>\n",
       "    .dataframe tbody tr th:only-of-type {\n",
       "        vertical-align: middle;\n",
       "    }\n",
       "\n",
       "    .dataframe tbody tr th {\n",
       "        vertical-align: top;\n",
       "    }\n",
       "\n",
       "    .dataframe thead th {\n",
       "        text-align: right;\n",
       "    }\n",
       "</style>\n",
       "<table border=\"1\" class=\"dataframe\">\n",
       "  <thead>\n",
       "    <tr style=\"text-align: right;\">\n",
       "      <th></th>\n",
       "      <th>userID</th>\n",
       "      <th>assessmentItemID</th>\n",
       "      <th>testId</th>\n",
       "      <th>answerCode</th>\n",
       "      <th>Timestamp</th>\n",
       "      <th>KnowledgeTag</th>\n",
       "    </tr>\n",
       "  </thead>\n",
       "  <tbody>\n",
       "    <tr>\n",
       "      <th>85174</th>\n",
       "      <td>1071</td>\n",
       "      <td>A020040005</td>\n",
       "      <td>A020000040</td>\n",
       "      <td>1</td>\n",
       "      <td>2020-07-17 09:19:36</td>\n",
       "      <td>7925</td>\n",
       "    </tr>\n",
       "    <tr>\n",
       "      <th>205325</th>\n",
       "      <td>3241</td>\n",
       "      <td>A060046001</td>\n",
       "      <td>A060000046</td>\n",
       "      <td>1</td>\n",
       "      <td>2020-02-07 09:52:26</td>\n",
       "      <td>599</td>\n",
       "    </tr>\n",
       "    <tr>\n",
       "      <th>62893</th>\n",
       "      <td>772</td>\n",
       "      <td>A020057003</td>\n",
       "      <td>A020000057</td>\n",
       "      <td>1</td>\n",
       "      <td>2020-07-21 12:15:50</td>\n",
       "      <td>7926</td>\n",
       "    </tr>\n",
       "    <tr>\n",
       "      <th>62194</th>\n",
       "      <td>767</td>\n",
       "      <td>A030091002</td>\n",
       "      <td>A030000091</td>\n",
       "      <td>0</td>\n",
       "      <td>2020-06-17 07:35:57</td>\n",
       "      <td>452</td>\n",
       "    </tr>\n",
       "    <tr>\n",
       "      <th>53538</th>\n",
       "      <td>645</td>\n",
       "      <td>A060174004</td>\n",
       "      <td>A060000174</td>\n",
       "      <td>0</td>\n",
       "      <td>2020-08-14 03:01:52</td>\n",
       "      <td>10450</td>\n",
       "    </tr>\n",
       "    <tr>\n",
       "      <th>204431</th>\n",
       "      <td>3155</td>\n",
       "      <td>A010071003</td>\n",
       "      <td>A010000071</td>\n",
       "      <td>1</td>\n",
       "      <td>2020-06-18 05:11:07</td>\n",
       "      <td>6455</td>\n",
       "    </tr>\n",
       "    <tr>\n",
       "      <th>190440</th>\n",
       "      <td>2757</td>\n",
       "      <td>A050179001</td>\n",
       "      <td>A050000179</td>\n",
       "      <td>1</td>\n",
       "      <td>2020-09-01 02:29:14</td>\n",
       "      <td>10396</td>\n",
       "    </tr>\n",
       "    <tr>\n",
       "      <th>160059</th>\n",
       "      <td>2169</td>\n",
       "      <td>A080053002</td>\n",
       "      <td>A080000053</td>\n",
       "      <td>0</td>\n",
       "      <td>2020-05-22 06:16:12</td>\n",
       "      <td>4962</td>\n",
       "    </tr>\n",
       "    <tr>\n",
       "      <th>117121</th>\n",
       "      <td>1571</td>\n",
       "      <td>A020155006</td>\n",
       "      <td>A020000155</td>\n",
       "      <td>0</td>\n",
       "      <td>2020-10-19 03:52:36</td>\n",
       "      <td>8126</td>\n",
       "    </tr>\n",
       "    <tr>\n",
       "      <th>197185</th>\n",
       "      <td>2973</td>\n",
       "      <td>A010169001</td>\n",
       "      <td>A010000169</td>\n",
       "      <td>1</td>\n",
       "      <td>2020-09-08 02:46:17</td>\n",
       "      <td>7809</td>\n",
       "    </tr>\n",
       "  </tbody>\n",
       "</table>\n",
       "</div>"
      ],
      "text/plain": [
       "        userID assessmentItemID      testId  answerCode            Timestamp  \\\n",
       "85174     1071       A020040005  A020000040           1  2020-07-17 09:19:36   \n",
       "205325    3241       A060046001  A060000046           1  2020-02-07 09:52:26   \n",
       "62893      772       A020057003  A020000057           1  2020-07-21 12:15:50   \n",
       "62194      767       A030091002  A030000091           0  2020-06-17 07:35:57   \n",
       "53538      645       A060174004  A060000174           0  2020-08-14 03:01:52   \n",
       "204431    3155       A010071003  A010000071           1  2020-06-18 05:11:07   \n",
       "190440    2757       A050179001  A050000179           1  2020-09-01 02:29:14   \n",
       "160059    2169       A080053002  A080000053           0  2020-05-22 06:16:12   \n",
       "117121    1571       A020155006  A020000155           0  2020-10-19 03:52:36   \n",
       "197185    2973       A010169001  A010000169           1  2020-09-08 02:46:17   \n",
       "\n",
       "        KnowledgeTag  \n",
       "85174           7925  \n",
       "205325           599  \n",
       "62893           7926  \n",
       "62194            452  \n",
       "53538          10450  \n",
       "204431          6455  \n",
       "190440         10396  \n",
       "160059          4962  \n",
       "117121          8126  \n",
       "197185          7809  "
      ]
     },
     "execution_count": 8,
     "metadata": {},
     "output_type": "execute_result"
    }
   ],
   "source": [
    "print(test.shape)\n",
    "test.sample(10)"
   ]
  },
  {
   "cell_type": "code",
   "execution_count": 6,
   "metadata": {},
   "outputs": [
    {
     "data": {
      "text/plain": [
       "(1537, 9454)"
      ]
     },
     "execution_count": 6,
     "metadata": {},
     "output_type": "execute_result"
    }
   ],
   "source": [
    "train.testId.nunique(), train.assessmentItemID.nunique()"
   ]
  },
  {
   "cell_type": "code",
   "execution_count": 16,
   "metadata": {},
   "outputs": [
    {
     "data": {
      "text/plain": [
       "assessmentItemID\n",
       "5     154004\n",
       "6      69198\n",
       "7      56625\n",
       "8      46891\n",
       "4      12277\n",
       "9      12164\n",
       "10      4771\n",
       "12      3638\n",
       "3       1580\n",
       "16      1117\n",
       "14      1116\n",
       "11       828\n",
       "13       259\n",
       "2        259\n",
       "18       231\n",
       "24        92\n",
       "20        43\n",
       "21        31\n",
       "22        20\n",
       "15        13\n",
       "26         5\n",
       "27         2\n",
       "Name: count, dtype: int64"
      ]
     },
     "execution_count": 16,
     "metadata": {},
     "output_type": "execute_result"
    }
   ],
   "source": [
    "train.groupby(['testId','userID'])['assessmentItemID'].count().value_counts()"
   ]
  },
  {
   "cell_type": "code",
   "execution_count": 15,
   "metadata": {},
   "outputs": [
    {
     "data": {
      "text/plain": [
       "assessmentItemID\n",
       "5     17613\n",
       "6      7838\n",
       "7      6934\n",
       "8      5303\n",
       "9      1476\n",
       "4      1403\n",
       "10      509\n",
       "12      392\n",
       "3       196\n",
       "14      108\n",
       "16       82\n",
       "11       80\n",
       "13       31\n",
       "2        29\n",
       "18       19\n",
       "24        8\n",
       "20        3\n",
       "22        1\n",
       "Name: count, dtype: int64"
      ]
     },
     "execution_count": 15,
     "metadata": {},
     "output_type": "execute_result"
    }
   ],
   "source": [
    "test.groupby(['testId','userID'])['assessmentItemID'].count().value_counts()"
   ]
  },
  {
   "cell_type": "markdown",
   "metadata": {},
   "source": [
    "## 결측치\n",
    "\n",
    "- 단 한 개도 없음\n",
    "- 이상한 값 있는 지도 찾아볼게요"
   ]
  },
  {
   "cell_type": "code",
   "execution_count": 12,
   "metadata": {},
   "outputs": [
    {
     "data": {
      "text/plain": [
       "userID              0\n",
       "assessmentItemID    0\n",
       "testId              0\n",
       "answerCode          0\n",
       "Timestamp           0\n",
       "KnowledgeTag        0\n",
       "dtype: int64"
      ]
     },
     "execution_count": 12,
     "metadata": {},
     "output_type": "execute_result"
    }
   ],
   "source": [
    "train.isna().sum()"
   ]
  },
  {
   "cell_type": "code",
   "execution_count": 13,
   "metadata": {},
   "outputs": [
    {
     "name": "stdout",
     "output_type": "stream",
     "text": [
      "<class 'pandas.core.frame.DataFrame'>\n",
      "RangeIndex: 260114 entries, 0 to 260113\n",
      "Data columns (total 6 columns):\n",
      " #   Column            Non-Null Count   Dtype \n",
      "---  ------            --------------   ----- \n",
      " 0   userID            260114 non-null  int64 \n",
      " 1   assessmentItemID  260114 non-null  object\n",
      " 2   testId            260114 non-null  object\n",
      " 3   answerCode        260114 non-null  int64 \n",
      " 4   Timestamp         260114 non-null  object\n",
      " 5   KnowledgeTag      260114 non-null  int64 \n",
      "dtypes: int64(3), object(3)\n",
      "memory usage: 11.9+ MB\n"
     ]
    }
   ],
   "source": [
    "test.info()"
   ]
  },
  {
   "cell_type": "code",
   "execution_count": 14,
   "metadata": {},
   "outputs": [
    {
     "data": {
      "text/html": [
       "<div>\n",
       "<style scoped>\n",
       "    .dataframe tbody tr th:only-of-type {\n",
       "        vertical-align: middle;\n",
       "    }\n",
       "\n",
       "    .dataframe tbody tr th {\n",
       "        vertical-align: top;\n",
       "    }\n",
       "\n",
       "    .dataframe thead th {\n",
       "        text-align: right;\n",
       "    }\n",
       "</style>\n",
       "<table border=\"1\" class=\"dataframe\">\n",
       "  <thead>\n",
       "    <tr style=\"text-align: right;\">\n",
       "      <th></th>\n",
       "      <th>userID</th>\n",
       "      <th>answerCode</th>\n",
       "      <th>KnowledgeTag</th>\n",
       "    </tr>\n",
       "  </thead>\n",
       "  <tbody>\n",
       "    <tr>\n",
       "      <th>count</th>\n",
       "      <td>2.266586e+06</td>\n",
       "      <td>2.266586e+06</td>\n",
       "      <td>2.266586e+06</td>\n",
       "    </tr>\n",
       "    <tr>\n",
       "      <th>mean</th>\n",
       "      <td>2.087687e+03</td>\n",
       "      <td>6.543784e-01</td>\n",
       "      <td>4.909007e+03</td>\n",
       "    </tr>\n",
       "    <tr>\n",
       "      <th>std</th>\n",
       "      <td>1.589365e+03</td>\n",
       "      <td>4.755706e-01</td>\n",
       "      <td>3.302214e+03</td>\n",
       "    </tr>\n",
       "    <tr>\n",
       "      <th>min</th>\n",
       "      <td>0.000000e+00</td>\n",
       "      <td>0.000000e+00</td>\n",
       "      <td>2.300000e+01</td>\n",
       "    </tr>\n",
       "    <tr>\n",
       "      <th>25%</th>\n",
       "      <td>8.000000e+02</td>\n",
       "      <td>0.000000e+00</td>\n",
       "      <td>1.931000e+03</td>\n",
       "    </tr>\n",
       "    <tr>\n",
       "      <th>50%</th>\n",
       "      <td>1.748000e+03</td>\n",
       "      <td>1.000000e+00</td>\n",
       "      <td>5.258000e+03</td>\n",
       "    </tr>\n",
       "    <tr>\n",
       "      <th>75%</th>\n",
       "      <td>3.046000e+03</td>\n",
       "      <td>1.000000e+00</td>\n",
       "      <td>7.913000e+03</td>\n",
       "    </tr>\n",
       "    <tr>\n",
       "      <th>max</th>\n",
       "      <td>7.441000e+03</td>\n",
       "      <td>1.000000e+00</td>\n",
       "      <td>1.127100e+04</td>\n",
       "    </tr>\n",
       "  </tbody>\n",
       "</table>\n",
       "</div>"
      ],
      "text/plain": [
       "             userID    answerCode  KnowledgeTag\n",
       "count  2.266586e+06  2.266586e+06  2.266586e+06\n",
       "mean   2.087687e+03  6.543784e-01  4.909007e+03\n",
       "std    1.589365e+03  4.755706e-01  3.302214e+03\n",
       "min    0.000000e+00  0.000000e+00  2.300000e+01\n",
       "25%    8.000000e+02  0.000000e+00  1.931000e+03\n",
       "50%    1.748000e+03  1.000000e+00  5.258000e+03\n",
       "75%    3.046000e+03  1.000000e+00  7.913000e+03\n",
       "max    7.441000e+03  1.000000e+00  1.127100e+04"
      ]
     },
     "execution_count": 14,
     "metadata": {},
     "output_type": "execute_result"
    }
   ],
   "source": [
    "train.describe()"
   ]
  },
  {
   "cell_type": "markdown",
   "metadata": {},
   "source": [
    "## 유저들 목록\n",
    "\n",
    "유저들 아무도 안겹쳐!\n",
    "\n",
    "user_ID 일치여부만 중요하고, 누가 누군지는 생각보다 안 중요할 수도?\n",
    "\n",
    "그렇다면, 유저를 나타낼 수 있는건 뭐가 있을까?\n",
    "userID, assessmentItemID, testId, answerCode, Timestamp, KnoledgeTag\n",
    "\n",
    "근데, 이거 lstm 계열에서는 어떻게 처리했지?"
   ]
  },
  {
   "cell_type": "code",
   "execution_count": 24,
   "metadata": {},
   "outputs": [
    {
     "data": {
      "text/plain": [
       "Index(['userID', 'assessmentItemID', 'testId', 'answerCode', 'Timestamp',\n",
       "       'KnowledgeTag'],\n",
       "      dtype='object')"
      ]
     },
     "execution_count": 24,
     "metadata": {},
     "output_type": "execute_result"
    }
   ],
   "source": [
    "train.columns"
   ]
  },
  {
   "cell_type": "code",
   "execution_count": 15,
   "metadata": {},
   "outputs": [
    {
     "data": {
      "text/plain": [
       "(6698, 2, 912)"
      ]
     },
     "execution_count": 15,
     "metadata": {},
     "output_type": "execute_result"
    }
   ],
   "source": [
    "train.userID.nunique(), train.answerCode.nunique(), train.KnowledgeTag.nunique()"
   ]
  },
  {
   "cell_type": "code",
   "execution_count": 16,
   "metadata": {},
   "outputs": [
    {
     "data": {
      "text/plain": [
       "(744, 3, 912)"
      ]
     },
     "execution_count": 16,
     "metadata": {},
     "output_type": "execute_result"
    }
   ],
   "source": [
    "test.userID.nunique(), test.answerCode.nunique(), test.KnowledgeTag.nunique()"
   ]
  },
  {
   "cell_type": "code",
   "execution_count": 18,
   "metadata": {},
   "outputs": [
    {
     "name": "stdout",
     "output_type": "stream",
     "text": [
      "0.0\n"
     ]
    }
   ],
   "source": [
    "users_test = list(test.userID.unique())\n",
    "users_train = list(train.userID.unique())\n",
    "\n",
    "count = 0\n",
    "\n",
    "for user in users_train:\n",
    "    if user in users_test:\n",
    "        count += 1\n",
    "\n",
    "print(count / len(users_train))"
   ]
  },
  {
   "cell_type": "code",
   "execution_count": 7,
   "metadata": {},
   "outputs": [
    {
     "data": {
      "text/plain": [
       "Index(['userID', 'assessmentItemID', 'testId', 'answerCode', 'Timestamp',\n",
       "       'KnowledgeTag'],\n",
       "      dtype='object')"
      ]
     },
     "execution_count": 7,
     "metadata": {},
     "output_type": "execute_result"
    }
   ],
   "source": [
    "train.columns"
   ]
  },
  {
   "cell_type": "code",
   "execution_count": 24,
   "metadata": {},
   "outputs": [
    {
     "data": {
      "text/plain": [
       "((6698,), 745)"
      ]
     },
     "execution_count": 24,
     "metadata": {},
     "output_type": "execute_result"
    }
   ],
   "source": [
    "a = train.groupby('userID').apply(lambda r: (r['testId'].values, r['assessmentItemID'].values)).values\n",
    "\n",
    "a.shape, len(a[0][0])\n",
    "\n",
    "# userID당 2개의 튜플로 이루어진 tuple (testID...., assesmenItemID.....)"
   ]
  },
  {
   "cell_type": "code",
   "execution_count": 21,
   "metadata": {},
   "outputs": [
    {
     "data": {
      "text/plain": [
       "answerCode\n",
       " 1    170383\n",
       " 0     88987\n",
       "-1       744\n",
       "Name: count, dtype: int64"
      ]
     },
     "execution_count": 21,
     "metadata": {},
     "output_type": "execute_result"
    }
   ],
   "source": [
    "test.answerCode.value_counts()"
   ]
  },
  {
   "cell_type": "code",
   "execution_count": 29,
   "metadata": {},
   "outputs": [
    {
     "data": {
      "text/html": [
       "<div>\n",
       "<style scoped>\n",
       "    .dataframe tbody tr th:only-of-type {\n",
       "        vertical-align: middle;\n",
       "    }\n",
       "\n",
       "    .dataframe tbody tr th {\n",
       "        vertical-align: top;\n",
       "    }\n",
       "\n",
       "    .dataframe thead th {\n",
       "        text-align: right;\n",
       "    }\n",
       "</style>\n",
       "<table border=\"1\" class=\"dataframe\">\n",
       "  <thead>\n",
       "    <tr style=\"text-align: right;\">\n",
       "      <th></th>\n",
       "      <th>count</th>\n",
       "    </tr>\n",
       "    <tr>\n",
       "      <th>userID</th>\n",
       "      <th></th>\n",
       "    </tr>\n",
       "  </thead>\n",
       "  <tbody>\n",
       "    <tr>\n",
       "      <th>7417</th>\n",
       "      <td>15</td>\n",
       "    </tr>\n",
       "    <tr>\n",
       "      <th>7416</th>\n",
       "      <td>15</td>\n",
       "    </tr>\n",
       "    <tr>\n",
       "      <th>7404</th>\n",
       "      <td>15</td>\n",
       "    </tr>\n",
       "    <tr>\n",
       "      <th>7373</th>\n",
       "      <td>15</td>\n",
       "    </tr>\n",
       "    <tr>\n",
       "      <th>7033</th>\n",
       "      <td>15</td>\n",
       "    </tr>\n",
       "    <tr>\n",
       "      <th>...</th>\n",
       "      <td>...</td>\n",
       "    </tr>\n",
       "    <tr>\n",
       "      <th>203</th>\n",
       "      <td>1318</td>\n",
       "    </tr>\n",
       "    <tr>\n",
       "      <th>617</th>\n",
       "      <td>1333</td>\n",
       "    </tr>\n",
       "    <tr>\n",
       "      <th>260</th>\n",
       "      <td>1335</td>\n",
       "    </tr>\n",
       "    <tr>\n",
       "      <th>1348</th>\n",
       "      <td>1379</td>\n",
       "    </tr>\n",
       "    <tr>\n",
       "      <th>584</th>\n",
       "      <td>1620</td>\n",
       "    </tr>\n",
       "  </tbody>\n",
       "</table>\n",
       "<p>744 rows × 1 columns</p>\n",
       "</div>"
      ],
      "text/plain": [
       "        count\n",
       "userID       \n",
       "7417       15\n",
       "7416       15\n",
       "7404       15\n",
       "7373       15\n",
       "7033       15\n",
       "...       ...\n",
       "203      1318\n",
       "617      1333\n",
       "260      1335\n",
       "1348     1379\n",
       "584      1620\n",
       "\n",
       "[744 rows x 1 columns]"
      ]
     },
     "execution_count": 29,
     "metadata": {},
     "output_type": "execute_result"
    }
   ],
   "source": [
    "test.groupby('userID')['answerCode'].agg({'count'}).sort_values(by='count')"
   ]
  },
  {
   "cell_type": "code",
   "execution_count": 30,
   "metadata": {},
   "outputs": [
    {
     "data": {
      "text/plain": [
       "userID\n",
       "0      2020-12-23 03:40:19\n",
       "1      2020-11-13 02:47:20\n",
       "2      2020-10-20 11:32:26\n",
       "5      2020-12-11 22:48:28\n",
       "6      2020-10-26 09:52:14\n",
       "               ...        \n",
       "7436   2020-04-08 12:07:21\n",
       "7437   2020-05-22 01:53:49\n",
       "7438   2020-10-19 10:28:29\n",
       "7440   2020-10-21 08:33:20\n",
       "7441   2020-08-21 01:08:49\n",
       "Name: Timestamp, Length: 6698, dtype: datetime64[ns]"
      ]
     },
     "execution_count": 30,
     "metadata": {},
     "output_type": "execute_result"
    }
   ],
   "source": [
    "train['Timestamp'] = pd.to_datetime(train['Timestamp'])\n",
    "\n",
    "train.groupby('userID')['Timestamp'].max()"
   ]
  },
  {
   "cell_type": "code",
   "execution_count": 32,
   "metadata": {},
   "outputs": [
    {
     "data": {
      "text/plain": [
       "userID\n",
       "0      2020-12-16 03:40:19\n",
       "1      2020-11-06 02:47:20\n",
       "2      2020-10-13 11:32:26\n",
       "5      2020-12-04 22:48:28\n",
       "6      2020-10-19 09:52:14\n",
       "               ...        \n",
       "7436   2020-04-01 12:07:21\n",
       "7437   2020-05-15 01:53:49\n",
       "7438   2020-10-12 10:28:29\n",
       "7440   2020-10-14 08:33:20\n",
       "7441   2020-08-14 01:08:49\n",
       "Name: Timestamp, Length: 6698, dtype: datetime64[ns]"
      ]
     },
     "execution_count": 32,
     "metadata": {},
     "output_type": "execute_result"
    }
   ],
   "source": [
    "from datetime import timedelta\n",
    "\n",
    "train.groupby('userID')['Timestamp'].max() - timedelta(7)"
   ]
  },
  {
   "cell_type": "code",
   "execution_count": 33,
   "metadata": {},
   "outputs": [
    {
     "data": {
      "text/html": [
       "<div>\n",
       "<style scoped>\n",
       "    .dataframe tbody tr th:only-of-type {\n",
       "        vertical-align: middle;\n",
       "    }\n",
       "\n",
       "    .dataframe tbody tr th {\n",
       "        vertical-align: top;\n",
       "    }\n",
       "\n",
       "    .dataframe thead th {\n",
       "        text-align: right;\n",
       "    }\n",
       "</style>\n",
       "<table border=\"1\" class=\"dataframe\">\n",
       "  <thead>\n",
       "    <tr style=\"text-align: right;\">\n",
       "      <th></th>\n",
       "      <th>userID</th>\n",
       "      <th>assessmentItemID</th>\n",
       "      <th>testId</th>\n",
       "      <th>answerCode</th>\n",
       "      <th>Timestamp</th>\n",
       "      <th>KnowledgeTag</th>\n",
       "      <th>hour</th>\n",
       "    </tr>\n",
       "  </thead>\n",
       "  <tbody>\n",
       "    <tr>\n",
       "      <th>0</th>\n",
       "      <td>0</td>\n",
       "      <td>A060001001</td>\n",
       "      <td>A060000001</td>\n",
       "      <td>1</td>\n",
       "      <td>2020-03-24 00:17:11</td>\n",
       "      <td>7224</td>\n",
       "      <td>0</td>\n",
       "    </tr>\n",
       "    <tr>\n",
       "      <th>1</th>\n",
       "      <td>0</td>\n",
       "      <td>A060001002</td>\n",
       "      <td>A060000001</td>\n",
       "      <td>1</td>\n",
       "      <td>2020-03-24 00:17:14</td>\n",
       "      <td>7225</td>\n",
       "      <td>0</td>\n",
       "    </tr>\n",
       "    <tr>\n",
       "      <th>2</th>\n",
       "      <td>0</td>\n",
       "      <td>A060001003</td>\n",
       "      <td>A060000001</td>\n",
       "      <td>1</td>\n",
       "      <td>2020-03-24 00:17:22</td>\n",
       "      <td>7225</td>\n",
       "      <td>0</td>\n",
       "    </tr>\n",
       "    <tr>\n",
       "      <th>3</th>\n",
       "      <td>0</td>\n",
       "      <td>A060001004</td>\n",
       "      <td>A060000001</td>\n",
       "      <td>1</td>\n",
       "      <td>2020-03-24 00:17:29</td>\n",
       "      <td>7225</td>\n",
       "      <td>0</td>\n",
       "    </tr>\n",
       "    <tr>\n",
       "      <th>4</th>\n",
       "      <td>0</td>\n",
       "      <td>A060001005</td>\n",
       "      <td>A060000001</td>\n",
       "      <td>1</td>\n",
       "      <td>2020-03-24 00:17:36</td>\n",
       "      <td>7225</td>\n",
       "      <td>0</td>\n",
       "    </tr>\n",
       "  </tbody>\n",
       "</table>\n",
       "</div>"
      ],
      "text/plain": [
       "   userID assessmentItemID      testId  answerCode           Timestamp  \\\n",
       "0       0       A060001001  A060000001           1 2020-03-24 00:17:11   \n",
       "1       0       A060001002  A060000001           1 2020-03-24 00:17:14   \n",
       "2       0       A060001003  A060000001           1 2020-03-24 00:17:22   \n",
       "3       0       A060001004  A060000001           1 2020-03-24 00:17:29   \n",
       "4       0       A060001005  A060000001           1 2020-03-24 00:17:36   \n",
       "\n",
       "   KnowledgeTag  hour  \n",
       "0          7224     0  \n",
       "1          7225     0  \n",
       "2          7225     0  \n",
       "3          7225     0  \n",
       "4          7225     0  "
      ]
     },
     "execution_count": 33,
     "metadata": {},
     "output_type": "execute_result"
    }
   ],
   "source": [
    "train.head()"
   ]
  },
  {
   "cell_type": "code",
   "execution_count": 38,
   "metadata": {},
   "outputs": [
    {
     "data": {
      "image/png": "[encoded data removed]",
      "text/plain": [
       "<Figure size 500x300 with 1 Axes>"
      ]
     },
     "metadata": {},
     "output_type": "display_data"
    }
   ],
   "source": [
    "train['hour'] = train['Timestamp'].dt.hour\n",
    "\n",
    "a = train.groupby('hour').answerCode.mean()\n",
    "\n",
    "plt.figure(figsize=(5,3))\n",
    "plt.bar(a.index, a.values)\n",
    "\n",
    "plt.xlabel('time (hour)', fontsize=15)\n",
    "plt.ylabel('average rate', fontsize=15)\n",
    "\n",
    "plt.show()"
   ]
  },
  {
   "cell_type": "code",
   "execution_count": 40,
   "metadata": {},
   "outputs": [
    {
     "ename": "ValueError",
     "evalue": "setting an array element with a sequence.",
     "output_type": "error",
     "traceback": [
      "\u001b[0;31m---------------------------------------------------------------------------\u001b[0m",
      "\u001b[0;31mTypeError\u001b[0m                                 Traceback (most recent call last)",
      "\u001b[0;31mTypeError\u001b[0m: float() argument must be a string or a real number, not 'tuple'",
      "\nThe above exception was the direct cause of the following exception:\n",
      "\u001b[0;31mValueError\u001b[0m                                Traceback (most recent call last)",
      "Cell \u001b[0;32mIn[40], line 1\u001b[0m\n\u001b[0;32m----> 1\u001b[0m plt\u001b[39m.\u001b[39;49mplot(train\u001b[39m.\u001b[39;49mgroupby(\u001b[39m'\u001b[39;49m\u001b[39muserID\u001b[39;49m\u001b[39m'\u001b[39;49m)\u001b[39m.\u001b[39;49manswerCode\u001b[39m.\u001b[39;49mrolling(\u001b[39m10\u001b[39;49m)\u001b[39m.\u001b[39;49mmean())\n\u001b[1;32m      2\u001b[0m plt\u001b[39m.\u001b[39mshow()\n",
      "File \u001b[0;32m~/miniconda3/envs/dkt/lib/python3.10/site-packages/matplotlib/pyplot.py:3578\u001b[0m, in \u001b[0;36mplot\u001b[0;34m(scalex, scaley, data, *args, **kwargs)\u001b[0m\n\u001b[1;32m   3570\u001b[0m \u001b[39m@_copy_docstring_and_deprecators\u001b[39m(Axes\u001b[39m.\u001b[39mplot)\n\u001b[1;32m   3571\u001b[0m \u001b[39mdef\u001b[39;00m \u001b[39mplot\u001b[39m(\n\u001b[1;32m   3572\u001b[0m     \u001b[39m*\u001b[39margs: \u001b[39mfloat\u001b[39m \u001b[39m|\u001b[39m ArrayLike \u001b[39m|\u001b[39m \u001b[39mstr\u001b[39m,\n\u001b[0;32m   (...)\u001b[0m\n\u001b[1;32m   3576\u001b[0m     \u001b[39m*\u001b[39m\u001b[39m*\u001b[39mkwargs,\n\u001b[1;32m   3577\u001b[0m ) \u001b[39m-\u001b[39m\u001b[39m>\u001b[39m \u001b[39mlist\u001b[39m[Line2D]:\n\u001b[0;32m-> 3578\u001b[0m     \u001b[39mreturn\u001b[39;00m gca()\u001b[39m.\u001b[39;49mplot(\n\u001b[1;32m   3579\u001b[0m         \u001b[39m*\u001b[39;49margs,\n\u001b[1;32m   3580\u001b[0m         scalex\u001b[39m=\u001b[39;49mscalex,\n\u001b[1;32m   3581\u001b[0m         scaley\u001b[39m=\u001b[39;49mscaley,\n\u001b[1;32m   3582\u001b[0m         \u001b[39m*\u001b[39;49m\u001b[39m*\u001b[39;49m({\u001b[39m\"\u001b[39;49m\u001b[39mdata\u001b[39;49m\u001b[39m\"\u001b[39;49m: data} \u001b[39mif\u001b[39;49;00m data \u001b[39mis\u001b[39;49;00m \u001b[39mnot\u001b[39;49;00m \u001b[39mNone\u001b[39;49;00m \u001b[39melse\u001b[39;49;00m {}),\n\u001b[1;32m   3583\u001b[0m         \u001b[39m*\u001b[39;49m\u001b[39m*\u001b[39;49mkwargs,\n\u001b[1;32m   3584\u001b[0m     )\n",
      "File \u001b[0;32m~/miniconda3/envs/dkt/lib/python3.10/site-packages/matplotlib/axes/_axes.py:1723\u001b[0m, in \u001b[0;36mAxes.plot\u001b[0;34m(self, scalex, scaley, data, *args, **kwargs)\u001b[0m\n\u001b[1;32m   1721\u001b[0m lines \u001b[39m=\u001b[39m [\u001b[39m*\u001b[39m\u001b[39mself\u001b[39m\u001b[39m.\u001b[39m_get_lines(\u001b[39mself\u001b[39m, \u001b[39m*\u001b[39margs, data\u001b[39m=\u001b[39mdata, \u001b[39m*\u001b[39m\u001b[39m*\u001b[39mkwargs)]\n\u001b[1;32m   1722\u001b[0m \u001b[39mfor\u001b[39;00m line \u001b[39min\u001b[39;00m lines:\n\u001b[0;32m-> 1723\u001b[0m     \u001b[39mself\u001b[39;49m\u001b[39m.\u001b[39;49madd_line(line)\n\u001b[1;32m   1724\u001b[0m \u001b[39mif\u001b[39;00m scalex:\n\u001b[1;32m   1725\u001b[0m     \u001b[39mself\u001b[39m\u001b[39m.\u001b[39m_request_autoscale_view(\u001b[39m\"\u001b[39m\u001b[39mx\u001b[39m\u001b[39m\"\u001b[39m)\n",
      "File \u001b[0;32m~/miniconda3/envs/dkt/lib/python3.10/site-packages/matplotlib/axes/_base.py:2309\u001b[0m, in \u001b[0;36m_AxesBase.add_line\u001b[0;34m(self, line)\u001b[0m\n\u001b[1;32m   2306\u001b[0m \u001b[39mif\u001b[39;00m line\u001b[39m.\u001b[39mget_clip_path() \u001b[39mis\u001b[39;00m \u001b[39mNone\u001b[39;00m:\n\u001b[1;32m   2307\u001b[0m     line\u001b[39m.\u001b[39mset_clip_path(\u001b[39mself\u001b[39m\u001b[39m.\u001b[39mpatch)\n\u001b[0;32m-> 2309\u001b[0m \u001b[39mself\u001b[39;49m\u001b[39m.\u001b[39;49m_update_line_limits(line)\n\u001b[1;32m   2310\u001b[0m \u001b[39mif\u001b[39;00m \u001b[39mnot\u001b[39;00m line\u001b[39m.\u001b[39mget_label():\n\u001b[1;32m   2311\u001b[0m     line\u001b[39m.\u001b[39mset_label(\u001b[39mf\u001b[39m\u001b[39m'\u001b[39m\u001b[39m_child\u001b[39m\u001b[39m{\u001b[39;00m\u001b[39mlen\u001b[39m(\u001b[39mself\u001b[39m\u001b[39m.\u001b[39m_children)\u001b[39m}\u001b[39;00m\u001b[39m'\u001b[39m)\n",
      "File \u001b[0;32m~/miniconda3/envs/dkt/lib/python3.10/site-packages/matplotlib/axes/_base.py:2332\u001b[0m, in \u001b[0;36m_AxesBase._update_line_limits\u001b[0;34m(self, line)\u001b[0m\n\u001b[1;32m   2328\u001b[0m \u001b[39mdef\u001b[39;00m \u001b[39m_update_line_limits\u001b[39m(\u001b[39mself\u001b[39m, line):\n\u001b[1;32m   2329\u001b[0m \u001b[39m    \u001b[39m\u001b[39m\"\"\"\u001b[39;00m\n\u001b[1;32m   2330\u001b[0m \u001b[39m    Figures out the data limit of the given line, updating self.dataLim.\u001b[39;00m\n\u001b[1;32m   2331\u001b[0m \u001b[39m    \"\"\"\u001b[39;00m\n\u001b[0;32m-> 2332\u001b[0m     path \u001b[39m=\u001b[39m line\u001b[39m.\u001b[39;49mget_path()\n\u001b[1;32m   2333\u001b[0m     \u001b[39mif\u001b[39;00m path\u001b[39m.\u001b[39mvertices\u001b[39m.\u001b[39msize \u001b[39m==\u001b[39m \u001b[39m0\u001b[39m:\n\u001b[1;32m   2334\u001b[0m         \u001b[39mreturn\u001b[39;00m\n",
      "File \u001b[0;32m~/miniconda3/envs/dkt/lib/python3.10/site-packages/matplotlib/lines.py:1032\u001b[0m, in \u001b[0;36mLine2D.get_path\u001b[0;34m(self)\u001b[0m\n\u001b[1;32m   1030\u001b[0m \u001b[39m\u001b[39m\u001b[39m\"\"\"Return the `~matplotlib.path.Path` associated with this line.\"\"\"\u001b[39;00m\n\u001b[1;32m   1031\u001b[0m \u001b[39mif\u001b[39;00m \u001b[39mself\u001b[39m\u001b[39m.\u001b[39m_invalidy \u001b[39mor\u001b[39;00m \u001b[39mself\u001b[39m\u001b[39m.\u001b[39m_invalidx:\n\u001b[0;32m-> 1032\u001b[0m     \u001b[39mself\u001b[39;49m\u001b[39m.\u001b[39;49mrecache()\n\u001b[1;32m   1033\u001b[0m \u001b[39mreturn\u001b[39;00m \u001b[39mself\u001b[39m\u001b[39m.\u001b[39m_path\n",
      "File \u001b[0;32m~/miniconda3/envs/dkt/lib/python3.10/site-packages/matplotlib/lines.py:669\u001b[0m, in \u001b[0;36mLine2D.recache\u001b[0;34m(self, always)\u001b[0m\n\u001b[1;32m    667\u001b[0m \u001b[39mif\u001b[39;00m always \u001b[39mor\u001b[39;00m \u001b[39mself\u001b[39m\u001b[39m.\u001b[39m_invalidx:\n\u001b[1;32m    668\u001b[0m     xconv \u001b[39m=\u001b[39m \u001b[39mself\u001b[39m\u001b[39m.\u001b[39mconvert_xunits(\u001b[39mself\u001b[39m\u001b[39m.\u001b[39m_xorig)\n\u001b[0;32m--> 669\u001b[0m     x \u001b[39m=\u001b[39m _to_unmasked_float_array(xconv)\u001b[39m.\u001b[39mravel()\n\u001b[1;32m    670\u001b[0m \u001b[39melse\u001b[39;00m:\n\u001b[1;32m    671\u001b[0m     x \u001b[39m=\u001b[39m \u001b[39mself\u001b[39m\u001b[39m.\u001b[39m_x\n",
      "File \u001b[0;32m~/miniconda3/envs/dkt/lib/python3.10/site-packages/matplotlib/cbook.py:1345\u001b[0m, in \u001b[0;36m_to_unmasked_float_array\u001b[0;34m(x)\u001b[0m\n\u001b[1;32m   1343\u001b[0m     \u001b[39mreturn\u001b[39;00m np\u001b[39m.\u001b[39mma\u001b[39m.\u001b[39masarray(x, \u001b[39mfloat\u001b[39m)\u001b[39m.\u001b[39mfilled(np\u001b[39m.\u001b[39mnan)\n\u001b[1;32m   1344\u001b[0m \u001b[39melse\u001b[39;00m:\n\u001b[0;32m-> 1345\u001b[0m     \u001b[39mreturn\u001b[39;00m np\u001b[39m.\u001b[39;49masarray(x, \u001b[39mfloat\u001b[39;49m)\n",
      "\u001b[0;31mValueError\u001b[0m: setting an array element with a sequence."
     ]
    },
    {
     "data": {
      "image/png": "[encoded data removed]",
      "text/plain": [
       "<Figure size 640x480 with 1 Axes>"
      ]
     },
     "metadata": {},
     "output_type": "display_data"
    }
   ],
   "source": [
    "plt.plot(train.groupby('userID').answerCode.rolling(10).mean())\n",
    "plt.show()"
   ]
  },
  {
   "cell_type": "code",
   "execution_count": 41,
   "metadata": {},
   "outputs": [
    {
     "data": {
      "text/plain": [
       "Index(['userID', 'assessmentItemID', 'testId', 'answerCode', 'Timestamp',\n",
       "       'KnowledgeTag', 'hour'],\n",
       "      dtype='object')"
      ]
     },
     "execution_count": 41,
     "metadata": {},
     "output_type": "execute_result"
    }
   ],
   "source": [
    "train.columns"
   ]
  },
  {
   "cell_type": "code",
   "execution_count": 44,
   "metadata": {},
   "outputs": [
    {
     "name": "stdout",
     "output_type": "stream",
     "text": [
      "1537\n"
     ]
    }
   ],
   "source": [
    "testids_train = list(train.testId.unique())\n",
    "testids_test = list(test.testId.unique())\n",
    "\n",
    "count=0\n",
    "for id in testids_test:\n",
    "    if id in testids_train:\n",
    "        count += 1\n",
    "\n",
    "print(count)"
   ]
  },
  {
   "cell_type": "code",
   "execution_count": 50,
   "metadata": {},
   "outputs": [
    {
     "data": {
      "text/plain": [
       "(6698, 1537, 1537, 9454)"
      ]
     },
     "execution_count": 50,
     "metadata": {},
     "output_type": "execute_result"
    }
   ],
   "source": [
    "train.userID.nunique(), train.testId.nunique(), test.testId.nunique(), train.assessmentItemID.nunique()"
   ]
  },
  {
   "cell_type": "code",
   "execution_count": 54,
   "metadata": {},
   "outputs": [
    {
     "data": {
      "text/plain": [
       "userID  testId    \n",
       "0       A020000172    6\n",
       "        A020000174    5\n",
       "        A020000181    6\n",
       "        A020000182    5\n",
       "        A020000183    7\n",
       "                     ..\n",
       "7440    A030000136    5\n",
       "        A030000197    5\n",
       "        A050000096    5\n",
       "7441    A030000071    5\n",
       "        A040000165    4\n",
       "Name: assessmentItemID, Length: 365164, dtype: int64"
      ]
     },
     "execution_count": 54,
     "metadata": {},
     "output_type": "execute_result"
    }
   ],
   "source": [
    "train.groupby(['userID','testId']).assessmentItemID.nunique()"
   ]
  },
  {
   "cell_type": "code",
   "execution_count": 80,
   "metadata": {},
   "outputs": [
    {
     "data": {
      "image/png": "[encoded data removed]",
      "text/plain": [
       "<Figure size 640x480 with 1 Axes>"
      ]
     },
     "metadata": {},
     "output_type": "display_data"
    }
   ],
   "source": [
    "b = train.groupby('userID')['assessmentItemID'].count()\n",
    "\n",
    "plt.hist(b, bins=100)\n",
    "\n",
    "plt.xlabel('# of test')\n",
    "plt.ylabel('counts')\n",
    "\n",
    "plt.show()"
   ]
  },
  {
   "cell_type": "code",
   "execution_count": 5,
   "metadata": {},
   "outputs": [],
   "source": [
    "train['Timestamp'] = pd.to_datetime(train['Timestamp'])"
   ]
  },
  {
   "cell_type": "code",
   "execution_count": 28,
   "metadata": {},
   "outputs": [
    {
     "name": "stderr",
     "output_type": "stream",
     "text": [
      "/tmp/ipykernel_402661/4264669576.py:3: FutureWarning: The 'axis' keyword in SeriesGroupBy.diff is deprecated and will be removed in a future version. Call without passing 'axis' instead.\n",
      "  plt.hist(np.log(train.groupby(['userID','testId']).Timestamp.diff(axis=0).dt.seconds+1), bins=100)\n"
     ]
    },
    {
     "data": {
      "image/png": "[encoded data removed]",
      "text/plain": [
       "<Figure size 1000x600 with 1 Axes>"
      ]
     },
     "metadata": {},
     "output_type": "display_data"
    }
   ],
   "source": [
    "plt.figure(figsize=(10,6))\n",
    "\n",
    "plt.hist(np.log(train.groupby(['userID','testId']).Timestamp.diff(axis=0).dt.seconds+1), bins=100)\n",
    "\n",
    "plt.xticks([0,2,4,6,8],np.round(np.exp([0,2,4,6,8])-1,2))\n",
    "\n",
    "plt.xlabel('solving time (logged seconds)')\n",
    "plt.ylabel('counts')\n",
    "\n",
    "plt.show()"
   ]
  },
  {
   "cell_type": "code",
   "execution_count": 9,
   "metadata": {},
   "outputs": [
    {
     "data": {
      "text/plain": [
       "Timedelta('-1 days +23:59:57')"
      ]
     },
     "execution_count": 9,
     "metadata": {},
     "output_type": "execute_result"
    }
   ],
   "source": [
    "train.loc[0,'Timestamp'] - train.loc[1, 'Timestamp']"
   ]
  },
  {
   "cell_type": "code",
   "execution_count": 7,
   "metadata": {},
   "outputs": [
    {
     "data": {
      "text/html": [
       "<div>\n",
       "<style scoped>\n",
       "    .dataframe tbody tr th:only-of-type {\n",
       "        vertical-align: middle;\n",
       "    }\n",
       "\n",
       "    .dataframe tbody tr th {\n",
       "        vertical-align: top;\n",
       "    }\n",
       "\n",
       "    .dataframe thead th {\n",
       "        text-align: right;\n",
       "    }\n",
       "</style>\n",
       "<table border=\"1\" class=\"dataframe\">\n",
       "  <thead>\n",
       "    <tr style=\"text-align: right;\">\n",
       "      <th></th>\n",
       "      <th>userID</th>\n",
       "      <th>assessmentItemID</th>\n",
       "      <th>testId</th>\n",
       "      <th>answerCode</th>\n",
       "      <th>Timestamp</th>\n",
       "      <th>KnowledgeTag</th>\n",
       "    </tr>\n",
       "  </thead>\n",
       "  <tbody>\n",
       "    <tr>\n",
       "      <th>0</th>\n",
       "      <td>0</td>\n",
       "      <td>A060001001</td>\n",
       "      <td>A060000001</td>\n",
       "      <td>1</td>\n",
       "      <td>2020-03-24 00:17:11</td>\n",
       "      <td>7224</td>\n",
       "    </tr>\n",
       "    <tr>\n",
       "      <th>1</th>\n",
       "      <td>0</td>\n",
       "      <td>A060001002</td>\n",
       "      <td>A060000001</td>\n",
       "      <td>1</td>\n",
       "      <td>2020-03-24 00:17:14</td>\n",
       "      <td>7225</td>\n",
       "    </tr>\n",
       "    <tr>\n",
       "      <th>2</th>\n",
       "      <td>0</td>\n",
       "      <td>A060001003</td>\n",
       "      <td>A060000001</td>\n",
       "      <td>1</td>\n",
       "      <td>2020-03-24 00:17:22</td>\n",
       "      <td>7225</td>\n",
       "    </tr>\n",
       "    <tr>\n",
       "      <th>3</th>\n",
       "      <td>0</td>\n",
       "      <td>A060001004</td>\n",
       "      <td>A060000001</td>\n",
       "      <td>1</td>\n",
       "      <td>2020-03-24 00:17:29</td>\n",
       "      <td>7225</td>\n",
       "    </tr>\n",
       "    <tr>\n",
       "      <th>4</th>\n",
       "      <td>0</td>\n",
       "      <td>A060001005</td>\n",
       "      <td>A060000001</td>\n",
       "      <td>1</td>\n",
       "      <td>2020-03-24 00:17:36</td>\n",
       "      <td>7225</td>\n",
       "    </tr>\n",
       "    <tr>\n",
       "      <th>...</th>\n",
       "      <td>...</td>\n",
       "      <td>...</td>\n",
       "      <td>...</td>\n",
       "      <td>...</td>\n",
       "      <td>...</td>\n",
       "      <td>...</td>\n",
       "    </tr>\n",
       "    <tr>\n",
       "      <th>2266581</th>\n",
       "      <td>7441</td>\n",
       "      <td>A030071005</td>\n",
       "      <td>A030000071</td>\n",
       "      <td>0</td>\n",
       "      <td>2020-06-05 06:50:21</td>\n",
       "      <td>438</td>\n",
       "    </tr>\n",
       "    <tr>\n",
       "      <th>2266582</th>\n",
       "      <td>7441</td>\n",
       "      <td>A040165001</td>\n",
       "      <td>A040000165</td>\n",
       "      <td>1</td>\n",
       "      <td>2020-08-21 01:06:39</td>\n",
       "      <td>8836</td>\n",
       "    </tr>\n",
       "    <tr>\n",
       "      <th>2266583</th>\n",
       "      <td>7441</td>\n",
       "      <td>A040165002</td>\n",
       "      <td>A040000165</td>\n",
       "      <td>1</td>\n",
       "      <td>2020-08-21 01:06:50</td>\n",
       "      <td>8836</td>\n",
       "    </tr>\n",
       "    <tr>\n",
       "      <th>2266584</th>\n",
       "      <td>7441</td>\n",
       "      <td>A040165003</td>\n",
       "      <td>A040000165</td>\n",
       "      <td>1</td>\n",
       "      <td>2020-08-21 01:07:36</td>\n",
       "      <td>8836</td>\n",
       "    </tr>\n",
       "    <tr>\n",
       "      <th>2266585</th>\n",
       "      <td>7441</td>\n",
       "      <td>A040165004</td>\n",
       "      <td>A040000165</td>\n",
       "      <td>1</td>\n",
       "      <td>2020-08-21 01:08:49</td>\n",
       "      <td>8836</td>\n",
       "    </tr>\n",
       "  </tbody>\n",
       "</table>\n",
       "<p>2266586 rows × 6 columns</p>\n",
       "</div>"
      ],
      "text/plain": [
       "         userID assessmentItemID      testId  answerCode           Timestamp  \\\n",
       "0             0       A060001001  A060000001           1 2020-03-24 00:17:11   \n",
       "1             0       A060001002  A060000001           1 2020-03-24 00:17:14   \n",
       "2             0       A060001003  A060000001           1 2020-03-24 00:17:22   \n",
       "3             0       A060001004  A060000001           1 2020-03-24 00:17:29   \n",
       "4             0       A060001005  A060000001           1 2020-03-24 00:17:36   \n",
       "...         ...              ...         ...         ...                 ...   \n",
       "2266581    7441       A030071005  A030000071           0 2020-06-05 06:50:21   \n",
       "2266582    7441       A040165001  A040000165           1 2020-08-21 01:06:39   \n",
       "2266583    7441       A040165002  A040000165           1 2020-08-21 01:06:50   \n",
       "2266584    7441       A040165003  A040000165           1 2020-08-21 01:07:36   \n",
       "2266585    7441       A040165004  A040000165           1 2020-08-21 01:08:49   \n",
       "\n",
       "         KnowledgeTag  \n",
       "0                7224  \n",
       "1                7225  \n",
       "2                7225  \n",
       "3                7225  \n",
       "4                7225  \n",
       "...               ...  \n",
       "2266581           438  \n",
       "2266582          8836  \n",
       "2266583          8836  \n",
       "2266584          8836  \n",
       "2266585          8836  \n",
       "\n",
       "[2266586 rows x 6 columns]"
      ]
     },
     "execution_count": 7,
     "metadata": {},
     "output_type": "execute_result"
    }
   ],
   "source": [
    "train.loc[0,'Timestamp'] - train.loc[1, 'Timestamp']"
   ]
  },
  {
   "cell_type": "code",
   "execution_count": 33,
   "metadata": {},
   "outputs": [
    {
     "data": {
      "text/plain": [
       "userID  testId    \n",
       "0       A020000172    [2020-10-11T11:06:47.000000000, 2020-10-11T11:...\n",
       "        A020000174    [2020-10-17T10:56:12.000000000, 2020-10-17T10:...\n",
       "        A020000181    [2020-10-18T09:33:27.000000000, 2020-10-18T09:...\n",
       "        A020000182    [2020-10-21T10:11:49.000000000, 2020-10-21T10:...\n",
       "        A020000183    [2020-10-22T09:19:40.000000000, 2020-10-22T09:...\n",
       "                                            ...                        \n",
       "7440    A030000136    [2020-09-23T09:19:35.000000000, 2020-09-23T09:...\n",
       "        A030000197    [2020-10-21T08:31:45.000000000, 2020-10-21T08:...\n",
       "        A050000096    [2020-08-19T04:57:19.000000000, 2020-08-19T04:...\n",
       "7441    A030000071    [2020-06-05T06:46:41.000000000, 2020-06-05T06:...\n",
       "        A040000165    [2020-08-21T01:06:39.000000000, 2020-08-21T01:...\n",
       "Length: 365164, dtype: object"
      ]
     },
     "execution_count": 33,
     "metadata": {},
     "output_type": "execute_result"
    }
   ],
   "source": [
    "train.groupby(['userID','testId']).apply(lambda x: x.Timestamp.values[:2])"
   ]
  },
  {
   "cell_type": "code",
   "execution_count": 30,
   "metadata": {},
   "outputs": [],
   "source": [
    "a = []\n",
    "\n",
    "for b in a:\n",
    "    print(1)"
   ]
  },
  {
   "cell_type": "code",
   "execution_count": 31,
   "metadata": {},
   "outputs": [
    {
     "data": {
      "text/plain": [
       "['assessmentItemID', 'testId', 'userID', 'KnowledgeTag', 'answerCode']"
      ]
     },
     "execution_count": 31,
     "metadata": {},
     "output_type": "execute_result"
    }
   ],
   "source": [
    "list(set([\"userID\",\"assessmentItemID\", \"testId\", \"answerCode\", \"KnowledgeTag\"]))"
   ]
  },
  {
   "cell_type": "code",
   "execution_count": 59,
   "metadata": {},
   "outputs": [
    {
     "name": "stdout",
     "output_type": "stream",
     "text": [
      "['userID', 'assessmentItemID', 'testId', 'answerCode', 'KnowledgeTag', 'a', 'a', 'b']\n"
     ]
    }
   ],
   "source": [
    "import torch\n",
    "a = [\"userID\",\"assessmentItemID\", \"testId\", \"answerCode\", \"KnowledgeTag\"]\n",
    "a.extend(['a','a','b'])\n",
    "\n",
    "b = "
   ]
  },
  {
   "cell_type": "code",
   "execution_count": 87,
   "metadata": {},
   "outputs": [
    {
     "data": {
      "text/plain": [
       "tensor([1., 2., 3., 1., 2., 3., 1., 2., 3., 1., 2., 3.])"
      ]
     },
     "execution_count": 87,
     "metadata": {},
     "output_type": "execute_result"
    }
   ],
   "source": [
    "a = torch.tensor([1,2,3], dtype=torch.int16)\n",
    "b =  torch.tensor([1,2,3], dtype=torch.float32)\n",
    "c = torch.tensor([1,2,3], dtype=torch.int)\n",
    "d = torch.tensor([1,2,3], dtype=torch.int64)\n",
    "\n",
    "torch.concat([a,b,c,d])"
   ]
  },
  {
   "cell_type": "code",
   "execution_count": 73,
   "metadata": {},
   "outputs": [],
   "source": [
    "b = pd.DataFrame()\n",
    "\n",
    "for i in range(3):\n",
    "    b[f'a{i}'] = [1,2,3]"
   ]
  },
  {
   "cell_type": "code",
   "execution_count": 79,
   "metadata": {},
   "outputs": [],
   "source": [
    "c = []\n",
    "\n",
    "for i in enumerate(c):\n",
    "    print(1)"
   ]
  },
  {
   "cell_type": "code",
   "execution_count": 98,
   "metadata": {},
   "outputs": [
    {
     "name": "stdout",
     "output_type": "stream",
     "text": [
      "torch.int64\n"
     ]
    }
   ],
   "source": [
    "e = torch.LongTensor([1,2,3,4,5]*3)\n",
    "print(e.dtype)"
   ]
  },
  {
   "cell_type": "code",
   "execution_count": 103,
   "metadata": {},
   "outputs": [
    {
     "data": {
      "text/plain": [
       "tensor([0, 0, 0, 0, 0, 1, 2, 3, 4, 5, 1, 2, 3, 4, 5, 1, 2, 3, 4, 5],\n",
       "       dtype=torch.int16)"
      ]
     },
     "execution_count": 103,
     "metadata": {},
     "output_type": "execute_result"
    }
   ],
   "source": [
    "tmp = torch.zeros(20, dtype=torch.int16)\n",
    "tmp[20-15:] = e\n",
    "tmp"
   ]
  },
  {
   "cell_type": "code",
   "execution_count": 104,
   "metadata": {},
   "outputs": [],
   "source": [
    "new = ()\n",
    "\n",
    "for i, contents in enumerate(new):\n",
    "    print(i, contents)"
   ]
  },
  {
   "cell_type": "code",
   "execution_count": 126,
   "metadata": {},
   "outputs": [
    {
     "data": {
      "text/plain": [
       "(torch.int64, tensor([1, 1, 1]))"
      ]
     },
     "execution_count": 126,
     "metadata": {},
     "output_type": "execute_result"
    }
   ],
   "source": [
    "new = (1,2,3)\n",
    "vs = new[3:]\n",
    "\n",
    "q = torch.tensor([1]*3)\n",
    "q.dtype,torch.LongTensor(q)"
   ]
  },
  {
   "cell_type": "code",
   "execution_count": 116,
   "metadata": {},
   "outputs": [
    {
     "data": {
      "text/plain": [
       "'1.12.1'"
      ]
     },
     "execution_count": 116,
     "metadata": {},
     "output_type": "execute_result"
    }
   ],
   "source": [
    "torch.__version__\n",
    "\n",
    "# 1.12.1 11.4"
   ]
  },
  {
   "cell_type": "code",
   "execution_count": 121,
   "metadata": {},
   "outputs": [
    {
     "data": {
      "text/plain": [
       "9"
      ]
     },
     "execution_count": 121,
     "metadata": {},
     "output_type": "execute_result"
    }
   ],
   "source": [
    "train.groupby('userID').assessmentItemID.count().min()"
   ]
  },
  {
   "cell_type": "code",
   "execution_count": null,
   "metadata": {},
   "outputs": [],
   "source": [
    "test, question, question, interaction\n",
    "\n",
    "출력요구: interaction, test, question, tag\n",
    "나온거: test , question, userID, interaction\n",
    "\n",
    "columns:['userID', 'assessmentItemID', 'testId', 'answerCode', 'KnowledgeTag']\n"
   ]
  },
  {
   "cell_type": "code",
   "execution_count": 152,
   "metadata": {},
   "outputs": [],
   "source": [
    "df1 = pd.read_csv('../data/FE.csv', parse_dates=['Timestamp'])\n",
    "df3 = pd.read_csv('../data/FE_v3.1.csv', parse_dates=['Timestamp'])"
   ]
  },
  {
   "cell_type": "code",
   "execution_count": 157,
   "metadata": {},
   "outputs": [],
   "source": [
    "test = pd.read_csv('../data/test_data.csv')"
   ]
  },
  {
   "cell_type": "code",
   "execution_count": 159,
   "metadata": {},
   "outputs": [
    {
     "data": {
      "text/plain": [
       "(260114, 6)"
      ]
     },
     "execution_count": 159,
     "metadata": {},
     "output_type": "execute_result"
    }
   ],
   "source": [
    "test.shape"
   ]
  },
  {
   "cell_type": "code",
   "execution_count": 154,
   "metadata": {},
   "outputs": [
    {
     "name": "stdout",
     "output_type": "stream",
     "text": [
      "CorrectnessRate\n",
      "TagAccuracy\n",
      "UserCumulativeAnswerRate\n",
      "categorize_CorrectnessRate\n",
      "categorize_TagAccuracy\n"
     ]
    }
   ],
   "source": [
    "compare = list(df3.columns)\n",
    "\n",
    "for col in list(df1.columns):\n",
    "    if col in compare: continue\n",
    "    else: print(col)\n"
   ]
  },
  {
   "cell_type": "code",
   "execution_count": 126,
   "metadata": {},
   "outputs": [],
   "source": [
    "# 2) 지수평균\n",
    "def add_expoenential_user_tag_answer_rate(df):\n",
    "    df['CumulativeUserTagExponentialAverage'] = df.groupby(['userID', 'KnowledgeTag'])['answerCode'].transform(\n",
    "        lambda x: x.ewm(alpha=0.3, adjust=False).mean().shift(fill_value=0.5) * 100).astype(int)\n",
    "    \n",
    "    return df\n",
    "\n",
    "df = add_expoenential_user_tag_answer_rate(df)"
   ]
  },
  {
   "cell_type": "code",
   "execution_count": 127,
   "metadata": {},
   "outputs": [],
   "source": [
    "# 3) 유저당 태그당 푼 수\n",
    "def add_user_add_count(df):\n",
    "    temp = df.groupby(['userID','KnowledgeTag']).testId.count()\n",
    "    temp = temp.reset_index(drop=False)\n",
    "    temp = temp.rename(columns={'testId':'UserTagCount'})\n",
    "\n",
    "    df = df.merge(right=temp, how='left', left_on =['userID','KnowledgeTag'], right_on=['userID','KnowledgeTag'])\n",
    "\n",
    "    return df\n",
    "\n",
    "df = add_user_add_count(df)"
   ]
  },
  {
   "cell_type": "code",
   "execution_count": 132,
   "metadata": {},
   "outputs": [],
   "source": [
    "df['TimeOfDay'] = df['Timestamp'].dt.hour"
   ]
  },
  {
   "cell_type": "code",
   "execution_count": 145,
   "metadata": {},
   "outputs": [
    {
     "data": {
      "text/plain": [
       "Index(['userID', 'assessmentItemID', 'testId', 'answerCode', 'Timestamp',\n",
       "       'KnowledgeTag', 'SolvingTime', 'CumulativeTime', 'Month', 'DayOfWeek',\n",
       "       'TimeOfDay', 'problems_cumulative', 'problems_last7days',\n",
       "       'problems_last30days', 'CumulativeAnswerRate', 'CumulativeProblemCount',\n",
       "       'ProblemAnswerRate', 'TagAnswerRate', 'TestAnswerRate',\n",
       "       'categorize_solvingTime', 'categorize_ProblemAnswerRate',\n",
       "       'categorize_TagAnswerRate', 'categorize_TestAnswerRate',\n",
       "       'ProblemNumber', 'CumulativeUserTagExponentialAverage', 'UserTagCount'],\n",
       "      dtype='object')"
      ]
     },
     "execution_count": 145,
     "metadata": {},
     "output_type": "execute_result"
    }
   ],
   "source": [
    "df.columns"
   ]
  },
  {
   "cell_type": "code",
   "execution_count": 141,
   "metadata": {},
   "outputs": [
    {
     "data": {
      "text/plain": [
       "0.6541512644951913"
      ]
     },
     "execution_count": 141,
     "metadata": {},
     "output_type": "execute_result"
    }
   ],
   "source": [
    "a = df.groupby(['ProblemNumber']).answerCode.mean()\n",
    "\n",
    "df.answerCode.mean()"
   ]
  },
  {
   "cell_type": "code",
   "execution_count": 160,
   "metadata": {},
   "outputs": [
    {
     "data": {
      "text/html": [
       "<div>\n",
       "<style scoped>\n",
       "    .dataframe tbody tr th:only-of-type {\n",
       "        vertical-align: middle;\n",
       "    }\n",
       "\n",
       "    .dataframe tbody tr th {\n",
       "        vertical-align: top;\n",
       "    }\n",
       "\n",
       "    .dataframe thead th {\n",
       "        text-align: right;\n",
       "    }\n",
       "</style>\n",
       "<table border=\"1\" class=\"dataframe\">\n",
       "  <thead>\n",
       "    <tr style=\"text-align: right;\">\n",
       "      <th></th>\n",
       "      <th>userID</th>\n",
       "      <th>assessmentItemID</th>\n",
       "      <th>testId</th>\n",
       "      <th>answerCode</th>\n",
       "      <th>Timestamp</th>\n",
       "      <th>KnowledgeTag</th>\n",
       "      <th>SolvingTime</th>\n",
       "      <th>CumulativeTime</th>\n",
       "      <th>problems_cumulative</th>\n",
       "      <th>problems_last7days</th>\n",
       "      <th>...</th>\n",
       "      <th>CumulativeProblemCount</th>\n",
       "      <th>Month</th>\n",
       "      <th>DayOfWeek</th>\n",
       "      <th>TimeOfDay</th>\n",
       "      <th>CorrectnessRate</th>\n",
       "      <th>TagAccuracy</th>\n",
       "      <th>UserCumulativeAnswerRate</th>\n",
       "      <th>categorize_solvingTime</th>\n",
       "      <th>categorize_CorrectnessRate</th>\n",
       "      <th>categorize_TagAccuracy</th>\n",
       "    </tr>\n",
       "  </thead>\n",
       "  <tbody>\n",
       "    <tr>\n",
       "      <th>0</th>\n",
       "      <td>0</td>\n",
       "      <td>1</td>\n",
       "      <td>60001</td>\n",
       "      <td>1</td>\n",
       "      <td>2020-03-24 00:17:11</td>\n",
       "      <td>7224</td>\n",
       "      <td>3</td>\n",
       "      <td>3</td>\n",
       "      <td>0</td>\n",
       "      <td>0</td>\n",
       "      <td>...</td>\n",
       "      <td>0</td>\n",
       "      <td>3</td>\n",
       "      <td>Tuesday</td>\n",
       "      <td>Dawn</td>\n",
       "      <td>0.984000</td>\n",
       "      <td>0.957333</td>\n",
       "      <td>0.500000</td>\n",
       "      <td>0</td>\n",
       "      <td>Very Easy</td>\n",
       "      <td>Very Easy</td>\n",
       "    </tr>\n",
       "    <tr>\n",
       "      <th>1</th>\n",
       "      <td>0</td>\n",
       "      <td>2</td>\n",
       "      <td>60001</td>\n",
       "      <td>1</td>\n",
       "      <td>2020-03-24 00:17:14</td>\n",
       "      <td>7225</td>\n",
       "      <td>8</td>\n",
       "      <td>11</td>\n",
       "      <td>1</td>\n",
       "      <td>1</td>\n",
       "      <td>...</td>\n",
       "      <td>1</td>\n",
       "      <td>3</td>\n",
       "      <td>Tuesday</td>\n",
       "      <td>Dawn</td>\n",
       "      <td>0.968000</td>\n",
       "      <td>0.917067</td>\n",
       "      <td>1.000000</td>\n",
       "      <td>1</td>\n",
       "      <td>Very Easy</td>\n",
       "      <td>Very Easy</td>\n",
       "    </tr>\n",
       "    <tr>\n",
       "      <th>2</th>\n",
       "      <td>0</td>\n",
       "      <td>3</td>\n",
       "      <td>60001</td>\n",
       "      <td>1</td>\n",
       "      <td>2020-03-24 00:17:22</td>\n",
       "      <td>7225</td>\n",
       "      <td>7</td>\n",
       "      <td>18</td>\n",
       "      <td>2</td>\n",
       "      <td>2</td>\n",
       "      <td>...</td>\n",
       "      <td>2</td>\n",
       "      <td>3</td>\n",
       "      <td>Tuesday</td>\n",
       "      <td>Dawn</td>\n",
       "      <td>0.916000</td>\n",
       "      <td>0.917067</td>\n",
       "      <td>1.000000</td>\n",
       "      <td>1</td>\n",
       "      <td>Very Easy</td>\n",
       "      <td>Very Easy</td>\n",
       "    </tr>\n",
       "    <tr>\n",
       "      <th>3</th>\n",
       "      <td>0</td>\n",
       "      <td>4</td>\n",
       "      <td>60001</td>\n",
       "      <td>1</td>\n",
       "      <td>2020-03-24 00:17:29</td>\n",
       "      <td>7225</td>\n",
       "      <td>7</td>\n",
       "      <td>25</td>\n",
       "      <td>3</td>\n",
       "      <td>3</td>\n",
       "      <td>...</td>\n",
       "      <td>3</td>\n",
       "      <td>3</td>\n",
       "      <td>Tuesday</td>\n",
       "      <td>Dawn</td>\n",
       "      <td>0.972000</td>\n",
       "      <td>0.917067</td>\n",
       "      <td>1.000000</td>\n",
       "      <td>1</td>\n",
       "      <td>Very Easy</td>\n",
       "      <td>Very Easy</td>\n",
       "    </tr>\n",
       "    <tr>\n",
       "      <th>4</th>\n",
       "      <td>0</td>\n",
       "      <td>5</td>\n",
       "      <td>60001</td>\n",
       "      <td>1</td>\n",
       "      <td>2020-03-24 00:17:36</td>\n",
       "      <td>7225</td>\n",
       "      <td>11</td>\n",
       "      <td>36</td>\n",
       "      <td>4</td>\n",
       "      <td>4</td>\n",
       "      <td>...</td>\n",
       "      <td>4</td>\n",
       "      <td>3</td>\n",
       "      <td>Tuesday</td>\n",
       "      <td>Dawn</td>\n",
       "      <td>0.948000</td>\n",
       "      <td>0.917067</td>\n",
       "      <td>1.000000</td>\n",
       "      <td>2</td>\n",
       "      <td>Very Easy</td>\n",
       "      <td>Very Easy</td>\n",
       "    </tr>\n",
       "    <tr>\n",
       "      <th>...</th>\n",
       "      <td>...</td>\n",
       "      <td>...</td>\n",
       "      <td>...</td>\n",
       "      <td>...</td>\n",
       "      <td>...</td>\n",
       "      <td>...</td>\n",
       "      <td>...</td>\n",
       "      <td>...</td>\n",
       "      <td>...</td>\n",
       "      <td>...</td>\n",
       "      <td>...</td>\n",
       "      <td>...</td>\n",
       "      <td>...</td>\n",
       "      <td>...</td>\n",
       "      <td>...</td>\n",
       "      <td>...</td>\n",
       "      <td>...</td>\n",
       "      <td>...</td>\n",
       "      <td>...</td>\n",
       "      <td>...</td>\n",
       "      <td>...</td>\n",
       "    </tr>\n",
       "    <tr>\n",
       "      <th>2526695</th>\n",
       "      <td>7441</td>\n",
       "      <td>5</td>\n",
       "      <td>30071</td>\n",
       "      <td>0</td>\n",
       "      <td>2020-06-05 06:50:21</td>\n",
       "      <td>438</td>\n",
       "      <td>55</td>\n",
       "      <td>275</td>\n",
       "      <td>4</td>\n",
       "      <td>4</td>\n",
       "      <td>...</td>\n",
       "      <td>4</td>\n",
       "      <td>6</td>\n",
       "      <td>Friday</td>\n",
       "      <td>Morning</td>\n",
       "      <td>0.446667</td>\n",
       "      <td>0.694889</td>\n",
       "      <td>0.250000</td>\n",
       "      <td>6</td>\n",
       "      <td>Very Difficult</td>\n",
       "      <td>Medium</td>\n",
       "    </tr>\n",
       "    <tr>\n",
       "      <th>2526696</th>\n",
       "      <td>7441</td>\n",
       "      <td>1</td>\n",
       "      <td>40165</td>\n",
       "      <td>1</td>\n",
       "      <td>2020-08-21 01:06:39</td>\n",
       "      <td>8836</td>\n",
       "      <td>11</td>\n",
       "      <td>11</td>\n",
       "      <td>5</td>\n",
       "      <td>0</td>\n",
       "      <td>...</td>\n",
       "      <td>5</td>\n",
       "      <td>8</td>\n",
       "      <td>Friday</td>\n",
       "      <td>Dawn</td>\n",
       "      <td>0.643333</td>\n",
       "      <td>0.698551</td>\n",
       "      <td>0.200000</td>\n",
       "      <td>2</td>\n",
       "      <td>Medium</td>\n",
       "      <td>Medium</td>\n",
       "    </tr>\n",
       "    <tr>\n",
       "      <th>2526697</th>\n",
       "      <td>7441</td>\n",
       "      <td>2</td>\n",
       "      <td>40165</td>\n",
       "      <td>1</td>\n",
       "      <td>2020-08-21 01:06:50</td>\n",
       "      <td>8836</td>\n",
       "      <td>46</td>\n",
       "      <td>57</td>\n",
       "      <td>6</td>\n",
       "      <td>1</td>\n",
       "      <td>...</td>\n",
       "      <td>6</td>\n",
       "      <td>8</td>\n",
       "      <td>Friday</td>\n",
       "      <td>Dawn</td>\n",
       "      <td>0.640000</td>\n",
       "      <td>0.698551</td>\n",
       "      <td>0.333333</td>\n",
       "      <td>6</td>\n",
       "      <td>Medium</td>\n",
       "      <td>Medium</td>\n",
       "    </tr>\n",
       "    <tr>\n",
       "      <th>2526698</th>\n",
       "      <td>7441</td>\n",
       "      <td>3</td>\n",
       "      <td>40165</td>\n",
       "      <td>1</td>\n",
       "      <td>2020-08-21 01:07:36</td>\n",
       "      <td>8836</td>\n",
       "      <td>73</td>\n",
       "      <td>130</td>\n",
       "      <td>7</td>\n",
       "      <td>2</td>\n",
       "      <td>...</td>\n",
       "      <td>7</td>\n",
       "      <td>8</td>\n",
       "      <td>Friday</td>\n",
       "      <td>Dawn</td>\n",
       "      <td>0.786667</td>\n",
       "      <td>0.698551</td>\n",
       "      <td>0.428571</td>\n",
       "      <td>7</td>\n",
       "      <td>Easy</td>\n",
       "      <td>Medium</td>\n",
       "    </tr>\n",
       "    <tr>\n",
       "      <th>2526699</th>\n",
       "      <td>7441</td>\n",
       "      <td>4</td>\n",
       "      <td>40165</td>\n",
       "      <td>1</td>\n",
       "      <td>2020-08-21 01:08:49</td>\n",
       "      <td>8836</td>\n",
       "      <td>43</td>\n",
       "      <td>173</td>\n",
       "      <td>8</td>\n",
       "      <td>3</td>\n",
       "      <td>...</td>\n",
       "      <td>8</td>\n",
       "      <td>8</td>\n",
       "      <td>Friday</td>\n",
       "      <td>Dawn</td>\n",
       "      <td>0.543333</td>\n",
       "      <td>0.698551</td>\n",
       "      <td>0.500000</td>\n",
       "      <td>6</td>\n",
       "      <td>Difficult</td>\n",
       "      <td>Medium</td>\n",
       "    </tr>\n",
       "  </tbody>\n",
       "</table>\n",
       "<p>2526700 rows × 22 columns</p>\n",
       "</div>"
      ],
      "text/plain": [
       "         userID  assessmentItemID  testId  answerCode           Timestamp  \\\n",
       "0             0                 1   60001           1 2020-03-24 00:17:11   \n",
       "1             0                 2   60001           1 2020-03-24 00:17:14   \n",
       "2             0                 3   60001           1 2020-03-24 00:17:22   \n",
       "3             0                 4   60001           1 2020-03-24 00:17:29   \n",
       "4             0                 5   60001           1 2020-03-24 00:17:36   \n",
       "...         ...               ...     ...         ...                 ...   \n",
       "2526695    7441                 5   30071           0 2020-06-05 06:50:21   \n",
       "2526696    7441                 1   40165           1 2020-08-21 01:06:39   \n",
       "2526697    7441                 2   40165           1 2020-08-21 01:06:50   \n",
       "2526698    7441                 3   40165           1 2020-08-21 01:07:36   \n",
       "2526699    7441                 4   40165           1 2020-08-21 01:08:49   \n",
       "\n",
       "         KnowledgeTag  SolvingTime  CumulativeTime  problems_cumulative  \\\n",
       "0                7224            3               3                    0   \n",
       "1                7225            8              11                    1   \n",
       "2                7225            7              18                    2   \n",
       "3                7225            7              25                    3   \n",
       "4                7225           11              36                    4   \n",
       "...               ...          ...             ...                  ...   \n",
       "2526695           438           55             275                    4   \n",
       "2526696          8836           11              11                    5   \n",
       "2526697          8836           46              57                    6   \n",
       "2526698          8836           73             130                    7   \n",
       "2526699          8836           43             173                    8   \n",
       "\n",
       "         problems_last7days  ...  CumulativeProblemCount  Month  DayOfWeek  \\\n",
       "0                         0  ...                       0      3    Tuesday   \n",
       "1                         1  ...                       1      3    Tuesday   \n",
       "2                         2  ...                       2      3    Tuesday   \n",
       "3                         3  ...                       3      3    Tuesday   \n",
       "4                         4  ...                       4      3    Tuesday   \n",
       "...                     ...  ...                     ...    ...        ...   \n",
       "2526695                   4  ...                       4      6     Friday   \n",
       "2526696                   0  ...                       5      8     Friday   \n",
       "2526697                   1  ...                       6      8     Friday   \n",
       "2526698                   2  ...                       7      8     Friday   \n",
       "2526699                   3  ...                       8      8     Friday   \n",
       "\n",
       "         TimeOfDay CorrectnessRate TagAccuracy  UserCumulativeAnswerRate  \\\n",
       "0             Dawn        0.984000    0.957333                  0.500000   \n",
       "1             Dawn        0.968000    0.917067                  1.000000   \n",
       "2             Dawn        0.916000    0.917067                  1.000000   \n",
       "3             Dawn        0.972000    0.917067                  1.000000   \n",
       "4             Dawn        0.948000    0.917067                  1.000000   \n",
       "...            ...             ...         ...                       ...   \n",
       "2526695    Morning        0.446667    0.694889                  0.250000   \n",
       "2526696       Dawn        0.643333    0.698551                  0.200000   \n",
       "2526697       Dawn        0.640000    0.698551                  0.333333   \n",
       "2526698       Dawn        0.786667    0.698551                  0.428571   \n",
       "2526699       Dawn        0.543333    0.698551                  0.500000   \n",
       "\n",
       "         categorize_solvingTime  categorize_CorrectnessRate  \\\n",
       "0                             0                   Very Easy   \n",
       "1                             1                   Very Easy   \n",
       "2                             1                   Very Easy   \n",
       "3                             1                   Very Easy   \n",
       "4                             2                   Very Easy   \n",
       "...                         ...                         ...   \n",
       "2526695                       6              Very Difficult   \n",
       "2526696                       2                      Medium   \n",
       "2526697                       6                      Medium   \n",
       "2526698                       7                        Easy   \n",
       "2526699                       6                   Difficult   \n",
       "\n",
       "         categorize_TagAccuracy  \n",
       "0                     Very Easy  \n",
       "1                     Very Easy  \n",
       "2                     Very Easy  \n",
       "3                     Very Easy  \n",
       "4                     Very Easy  \n",
       "...                         ...  \n",
       "2526695                  Medium  \n",
       "2526696                  Medium  \n",
       "2526697                  Medium  \n",
       "2526698                  Medium  \n",
       "2526699                  Medium  \n",
       "\n",
       "[2526700 rows x 22 columns]"
      ]
     },
     "execution_count": 160,
     "metadata": {},
     "output_type": "execute_result"
    }
   ],
   "source": [
    "df1"
   ]
  },
  {
   "cell_type": "code",
   "execution_count": 162,
   "metadata": {},
   "outputs": [
    {
     "data": {
      "text/html": [
       "<div>\n",
       "<style scoped>\n",
       "    .dataframe tbody tr th:only-of-type {\n",
       "        vertical-align: middle;\n",
       "    }\n",
       "\n",
       "    .dataframe tbody tr th {\n",
       "        vertical-align: top;\n",
       "    }\n",
       "\n",
       "    .dataframe thead th {\n",
       "        text-align: right;\n",
       "    }\n",
       "</style>\n",
       "<table border=\"1\" class=\"dataframe\">\n",
       "  <thead>\n",
       "    <tr style=\"text-align: right;\">\n",
       "      <th></th>\n",
       "      <th>answerCode</th>\n",
       "      <th>CumulativeAnswerRate</th>\n",
       "      <th>UserCumulativeAnswerRate</th>\n",
       "    </tr>\n",
       "  </thead>\n",
       "  <tbody>\n",
       "    <tr>\n",
       "      <th>0</th>\n",
       "      <td>1</td>\n",
       "      <td>1.000000</td>\n",
       "      <td>0.500000</td>\n",
       "    </tr>\n",
       "    <tr>\n",
       "      <th>1</th>\n",
       "      <td>1</td>\n",
       "      <td>1.000000</td>\n",
       "      <td>1.000000</td>\n",
       "    </tr>\n",
       "    <tr>\n",
       "      <th>2</th>\n",
       "      <td>1</td>\n",
       "      <td>1.000000</td>\n",
       "      <td>1.000000</td>\n",
       "    </tr>\n",
       "    <tr>\n",
       "      <th>3</th>\n",
       "      <td>1</td>\n",
       "      <td>1.000000</td>\n",
       "      <td>1.000000</td>\n",
       "    </tr>\n",
       "    <tr>\n",
       "      <th>4</th>\n",
       "      <td>1</td>\n",
       "      <td>1.000000</td>\n",
       "      <td>1.000000</td>\n",
       "    </tr>\n",
       "    <tr>\n",
       "      <th>...</th>\n",
       "      <td>...</td>\n",
       "      <td>...</td>\n",
       "      <td>...</td>\n",
       "    </tr>\n",
       "    <tr>\n",
       "      <th>2526695</th>\n",
       "      <td>0</td>\n",
       "      <td>0.200000</td>\n",
       "      <td>0.250000</td>\n",
       "    </tr>\n",
       "    <tr>\n",
       "      <th>2526696</th>\n",
       "      <td>1</td>\n",
       "      <td>0.333333</td>\n",
       "      <td>0.200000</td>\n",
       "    </tr>\n",
       "    <tr>\n",
       "      <th>2526697</th>\n",
       "      <td>1</td>\n",
       "      <td>0.428571</td>\n",
       "      <td>0.333333</td>\n",
       "    </tr>\n",
       "    <tr>\n",
       "      <th>2526698</th>\n",
       "      <td>1</td>\n",
       "      <td>0.500000</td>\n",
       "      <td>0.428571</td>\n",
       "    </tr>\n",
       "    <tr>\n",
       "      <th>2526699</th>\n",
       "      <td>1</td>\n",
       "      <td>0.555556</td>\n",
       "      <td>0.500000</td>\n",
       "    </tr>\n",
       "  </tbody>\n",
       "</table>\n",
       "<p>2526700 rows × 3 columns</p>\n",
       "</div>"
      ],
      "text/plain": [
       "         answerCode  CumulativeAnswerRate  UserCumulativeAnswerRate\n",
       "0                 1              1.000000                  0.500000\n",
       "1                 1              1.000000                  1.000000\n",
       "2                 1              1.000000                  1.000000\n",
       "3                 1              1.000000                  1.000000\n",
       "4                 1              1.000000                  1.000000\n",
       "...             ...                   ...                       ...\n",
       "2526695           0              0.200000                  0.250000\n",
       "2526696           1              0.333333                  0.200000\n",
       "2526697           1              0.428571                  0.333333\n",
       "2526698           1              0.500000                  0.428571\n",
       "2526699           1              0.555556                  0.500000\n",
       "\n",
       "[2526700 rows x 3 columns]"
      ]
     },
     "execution_count": 162,
     "metadata": {},
     "output_type": "execute_result"
    }
   ],
   "source": [
    "df1[['answerCode','CumulativeAnswerRate','UserCumulativeAnswerRate']]"
   ]
  },
  {
   "cell_type": "code",
   "execution_count": 184,
   "metadata": {},
   "outputs": [],
   "source": [
    "a = np.array(df.groupby('userID')[['answerCode']].last().index)"
   ]
  },
  {
   "cell_type": "code",
   "execution_count": 185,
   "metadata": {},
   "outputs": [],
   "source": [
    "b = np.array((df.groupby('userID')[['answerCode']].last()==-1).answerCode)"
   ]
  },
  {
   "cell_type": "code",
   "execution_count": 42,
   "metadata": {},
   "outputs": [],
   "source": [
    "train = pd.read_csv('../data/train_data.csv')\n",
    "test = pd.read_csv('../data/test_data.csv')"
   ]
  },
  {
   "cell_type": "markdown",
   "metadata": {},
   "source": [
    "# 1. 유저당 데이터 수"
   ]
  },
  {
   "cell_type": "code",
   "execution_count": 43,
   "metadata": {},
   "outputs": [],
   "source": [
    "test_idx = test['userID'].value_counts().index\n",
    "test_seq = test['userID'].value_counts().values"
   ]
  },
  {
   "cell_type": "code",
   "execution_count": 44,
   "metadata": {},
   "outputs": [],
   "source": [
    "train_idx = train['userID'].value_counts().index\n",
    "train_seq = train['userID'].value_counts().values"
   ]
  },
  {
   "cell_type": "markdown",
   "metadata": {},
   "source": [
    "#### 1) 긴 유저와 짧은 유저의 비율도 비슷"
   ]
  },
  {
   "cell_type": "code",
   "execution_count": 49,
   "metadata": {},
   "outputs": [],
   "source": [
    "import matplotlib.pyplot as plt\n",
    "import numpy as np"
   ]
  },
  {
   "cell_type": "code",
   "execution_count": 50,
   "metadata": {},
   "outputs": [
    {
     "data": {
      "image/png": "[encoded data removed]",
      "text/plain": [
       "<Figure size 1000x600 with 2 Axes>"
      ]
     },
     "metadata": {},
     "output_type": "display_data"
    }
   ],
   "source": [
    "fig, axes = plt.subplots(2,1, figsize=(10,6), sharex=True)\n",
    "\n",
    "axes[0].hist(np.log(test_seq), bins=100)\n",
    "axes[0].set_title('test')\n",
    "\n",
    "axes[1].hist(np.log(train_seq), bins=100)\n",
    "axes[1].set_title('train')\n",
    "\n",
    "plt.show()"
   ]
  },
  {
   "cell_type": "markdown",
   "metadata": {},
   "source": [
    "## 2. Test와 비슷한 유저\n",
    "\n",
    "-> 생각해보니 조금 푼 유저는 유저정보가 없네....."
   ]
  },
  {
   "cell_type": "code",
   "execution_count": 40,
   "metadata": {},
   "outputs": [],
   "source": [
    "import pandas as pd\n",
    "\n",
    "a = pd.read_csv('../data/FE_v3.1.csv')"
   ]
  },
  {
   "cell_type": "code",
   "execution_count": 41,
   "metadata": {},
   "outputs": [
    {
     "data": {
      "text/plain": [
       "Index(['userID', 'assessmentItemID', 'testId', 'answerCode', 'Timestamp',\n",
       "       'KnowledgeTag', 'SolvingTime', 'CumulativeTime', 'Month', 'DayOfWeek',\n",
       "       'TimeOfDay', 'problems_cumulative', 'problems_last7days',\n",
       "       'problems_last30days', 'CumulativeAnswerRate', 'CumulativeProblemCount',\n",
       "       'ProblemAnswerRate', 'TagAnswerRate', 'TestAnswerRate',\n",
       "       'categorize_solvingTime', 'categorize_ProblemAnswerRate',\n",
       "       'categorize_TagAnswerRate', 'categorize_TestAnswerRate',\n",
       "       'ProblemNumber'],\n",
       "      dtype='object')"
      ]
     },
     "execution_count": 41,
     "metadata": {},
     "output_type": "execute_result"
    }
   ],
   "source": [
    "a.columns"
   ]
  },
  {
   "cell_type": "code",
   "execution_count": 230,
   "metadata": {},
   "outputs": [],
   "source": [
    "a['assessmentItemID'] = a['assessmentItemID'].apply(lambda x: 'A0'+str(x))"
   ]
  },
  {
   "cell_type": "code",
   "execution_count": 232,
   "metadata": {},
   "outputs": [],
   "source": [
    "a.to_csv('../data/FE_v3.1.1.csv')"
   ]
  },
  {
   "cell_type": "code",
   "execution_count": 233,
   "metadata": {},
   "outputs": [
    {
     "data": {
      "text/plain": [
       "array([[1, 2, 3],\n",
       "       [1, 2, 3]])"
      ]
     },
     "execution_count": 233,
     "metadata": {},
     "output_type": "execute_result"
    }
   ],
   "source": [
    "np.array([(1,2,3),(1,2,3)])"
   ]
  },
  {
   "cell_type": "code",
   "execution_count": 247,
   "metadata": {},
   "outputs": [
    {
     "ename": "TypeError",
     "evalue": "only integer scalar arrays can be converted to a scalar index",
     "output_type": "error",
     "traceback": [
      "\u001b[0;31m---------------------------------------------------------------------------\u001b[0m",
      "\u001b[0;31mTypeError\u001b[0m                                 Traceback (most recent call last)",
      "Cell \u001b[0;32mIn[247], line 6\u001b[0m\n\u001b[1;32m      3\u001b[0m c \u001b[39m=\u001b[39m np\u001b[39m.\u001b[39mrandom\u001b[39m.\u001b[39mrandint(\u001b[39mlen\u001b[39m(q)\u001b[39m-\u001b[39m\u001b[39m1\u001b[39m, size\u001b[39m=\u001b[39m\u001b[39m2\u001b[39m)\n\u001b[1;32m      4\u001b[0m d \u001b[39m=\u001b[39m np\u001b[39m.\u001b[39mrandom\u001b[39m.\u001b[39mchoice(\u001b[39mlen\u001b[39m(q)\u001b[39m-\u001b[39m\u001b[39m1\u001b[39m, size\u001b[39m=\u001b[39m\u001b[39m2\u001b[39m)\n\u001b[0;32m----> 6\u001b[0m q[c]\n",
      "\u001b[0;31mTypeError\u001b[0m: only integer scalar arrays can be converted to a scalar index"
     ]
    }
   ],
   "source": [
    "q = [[1,2,3],[2,3,4],[3,4,5]]\n",
    "\n",
    "c = np.random.randint(len(q)-1, size=2)\n",
    "d = np.random.choice(len(q)-1, size=2)\n",
    "\n",
    "q[c]"
   ]
  },
  {
   "cell_type": "code",
   "execution_count": 250,
   "metadata": {},
   "outputs": [],
   "source": [
    "q.extend([[1,2,3]])"
   ]
  },
  {
   "cell_type": "code",
   "execution_count": 252,
   "metadata": {},
   "outputs": [],
   "source": [
    "q += [1,2,3]"
   ]
  },
  {
   "cell_type": "code",
   "execution_count": 253,
   "metadata": {},
   "outputs": [
    {
     "data": {
      "text/plain": [
       "[[1, 2, 3], [2, 3, 4], [3, 4, 5], 1, 2, 3, [1, 2, 3], 1, 2, 3]"
      ]
     },
     "execution_count": 253,
     "metadata": {},
     "output_type": "execute_result"
    }
   ],
   "source": [
    "q"
   ]
  },
  {
   "cell_type": "code",
   "execution_count": 255,
   "metadata": {},
   "outputs": [
    {
     "data": {
      "text/plain": [
       "array([3, 2, 0, 2, 4, 2, 1, 2, 3, 2, 0, 1, 3, 1, 4, 1, 2, 3, 4])"
      ]
     },
     "execution_count": 255,
     "metadata": {},
     "output_type": "execute_result"
    }
   ],
   "source": [
    "np.random.randint(5,size=19)"
   ]
  },
  {
   "cell_type": "code",
   "execution_count": 261,
   "metadata": {},
   "outputs": [
    {
     "data": {
      "text/plain": [
       "array([2, 1, 0, 4])"
      ]
     },
     "execution_count": 261,
     "metadata": {},
     "output_type": "execute_result"
    }
   ],
   "source": [
    "np.random.choice(np.arange(5),4, replace=False)"
   ]
  },
  {
   "cell_type": "code",
   "execution_count": 265,
   "metadata": {},
   "outputs": [
    {
     "data": {
      "text/plain": [
       "[array([[1, 3],\n",
       "        [2, 4],\n",
       "        [3, 5]]),\n",
       " array([[2, 3],\n",
       "        [3, 3],\n",
       "        [4, 4]])]"
      ]
     },
     "execution_count": 265,
     "metadata": {},
     "output_type": "execute_result"
    }
   ],
   "source": [
    "list(np.array([([1,3],[2,4],[3,5]),([2,3],[3,3],[4,4])]))"
   ]
  },
  {
   "cell_type": "code",
   "execution_count": 268,
   "metadata": {},
   "outputs": [
    {
     "name": "stderr",
     "output_type": "stream",
     "text": [
      "<>:1: SyntaxWarning: list indices must be integers or slices, not tuple; perhaps you missed a comma?\n",
      "<>:1: SyntaxWarning: list indices must be integers or slices, not tuple; perhaps you missed a comma?\n",
      "/tmp/ipykernel_405748/1897612742.py:1: SyntaxWarning: list indices must be integers or slices, not tuple; perhaps you missed a comma?\n",
      "  [1,2][0,1]\n",
      "/tmp/ipykernel_405748/1897612742.py:1: SyntaxWarning: list indices must be integers or slices, not tuple; perhaps you missed a comma?\n",
      "  [1,2][0,1]\n",
      "/tmp/ipykernel_405748/1897612742.py:1: SyntaxWarning: list indices must be integers or slices, not tuple; perhaps you missed a comma?\n",
      "  [1,2][0,1]\n"
     ]
    },
    {
     "ename": "TypeError",
     "evalue": "list indices must be integers or slices, not tuple",
     "output_type": "error",
     "traceback": [
      "\u001b[0;31m---------------------------------------------------------------------------\u001b[0m",
      "\u001b[0;31mTypeError\u001b[0m                                 Traceback (most recent call last)",
      "Cell \u001b[0;32mIn[268], line 1\u001b[0m\n\u001b[0;32m----> 1\u001b[0m [\u001b[39m1\u001b[39;49m,\u001b[39m2\u001b[39;49m][\u001b[39m0\u001b[39;49m,\u001b[39m1\u001b[39;49m]\n",
      "\u001b[0;31mTypeError\u001b[0m: list indices must be integers or slices, not tuple"
     ]
    }
   ],
   "source": [
    "[1,2][0,1]"
   ]
  },
  {
   "cell_type": "code",
   "execution_count": 23,
   "metadata": {},
   "outputs": [
    {
     "data": {
      "text/plain": [
       "[[3, 4], [1, 2]]"
      ]
     },
     "execution_count": 23,
     "metadata": {},
     "output_type": "execute_result"
    }
   ],
   "source": [
    "p = [1,2]\n",
    "q = [[3,4]]\n",
    "\n",
    "q.append(p)\n",
    "q"
   ]
  },
  {
   "cell_type": "code",
   "execution_count": 21,
   "metadata": {},
   "outputs": [
    {
     "data": {
      "text/plain": [
       "(None, [[1, 2], [3, 4]])"
      ]
     },
     "execution_count": 21,
     "metadata": {},
     "output_type": "execute_result"
    }
   ],
   "source": [
    "import random\n",
    "\n",
    "a = random.shuffle(q)\n",
    "a,q"
   ]
  },
  {
   "cell_type": "code",
   "execution_count": 22,
   "metadata": {},
   "outputs": [],
   "source": [
    "def shuffling(data:list):\n",
    "\n",
    "    random.shuffle(data)\n",
    "\n",
    "    return data"
   ]
  },
  {
   "cell_type": "code",
   "execution_count": 24,
   "metadata": {},
   "outputs": [
    {
     "data": {
      "text/plain": [
       "[[1, 2], [3, 4]]"
      ]
     },
     "execution_count": 24,
     "metadata": {},
     "output_type": "execute_result"
    }
   ],
   "source": [
    "shuffling(q)"
   ]
  },
  {
   "cell_type": "code",
   "execution_count": 27,
   "metadata": {},
   "outputs": [
    {
     "data": {
      "text/plain": [
       "([[1, 2], [3, 4]], [[3, 4], [1, 2]])"
      ]
     },
     "execution_count": 27,
     "metadata": {},
     "output_type": "execute_result"
    }
   ],
   "source": [
    "h = q[:]\n",
    "\n",
    "shuffling(h), q"
   ]
  },
  {
   "cell_type": "code",
   "execution_count": 38,
   "metadata": {},
   "outputs": [
    {
     "data": {
      "text/plain": [
       "[1, 2, 3, 4, 5, 6, 7, 1, 2, 3]"
      ]
     },
     "execution_count": 38,
     "metadata": {},
     "output_type": "execute_result"
    }
   ],
   "source": [
    "a = [1,2,3,4,5,6,7]\n",
    "a.extend([1,2,3])\n",
    "a"
   ]
  },
  {
   "cell_type": "code",
   "execution_count": 36,
   "metadata": {},
   "outputs": [
    {
     "data": {
      "text/plain": [
       "2"
      ]
     },
     "execution_count": 36,
     "metadata": {},
     "output_type": "execute_result"
    }
   ],
   "source": [
    "2%3"
   ]
  },
  {
   "cell_type": "code",
   "execution_count": 51,
   "metadata": {},
   "outputs": [],
   "source": [
    "df = pd.read_csv('../data/FE_v6.csv')"
   ]
  },
  {
   "cell_type": "code",
   "execution_count": 52,
   "metadata": {},
   "outputs": [
    {
     "data": {
      "text/plain": [
       "Index(['userID', 'assessmentItemID', 'testId', 'answerCode', 'Timestamp',\n",
       "       'KnowledgeTag', 'SolvingTime', 'CumulativeTime', 'SolvingTime_cleaned',\n",
       "       'Month', 'DayOfWeek', 'TimeOfDay', 'CumulativeProblemCount',\n",
       "       'problems_last7days', 'problems_last30days',\n",
       "       'CumulativeUserProblemAnswerRate', 'ProblemAnswerRate', 'TagAnswerRate',\n",
       "       'CumulativeUserTagAverageAnswerRate',\n",
       "       'CumulativeUserTagExponentialAverage', 'UserCumulativeTagCount',\n",
       "       'UserRecentTagAnswer', 'TestAnswerRate', 'log_SolvingTime',\n",
       "       'categorize_solvingTime', 'categorize_ProblemAnswerRate',\n",
       "       'categorize_TagAnswerRate', 'categorize_TestAnswerRate',\n",
       "       'categorize_CumulativeUserProblemAnswerRate',\n",
       "       'categorize_CumulativeUserTagAverageAnswerRate',\n",
       "       'categorize_CumulativeUserTagExponentialAverage'],\n",
       "      dtype='object')"
      ]
     },
     "execution_count": 52,
     "metadata": {},
     "output_type": "execute_result"
    }
   ],
   "source": [
    "df.columns"
   ]
  },
  {
   "cell_type": "code",
   "execution_count": 54,
   "metadata": {},
   "outputs": [
    {
     "data": {
      "image/png": "[encoded data removed]",
      "text/plain": [
       "<Figure size 640x480 with 1 Axes>"
      ]
     },
     "metadata": {},
     "output_type": "display_data"
    }
   ],
   "source": [
    "plt.hist(df.groupby('userID').testId.count(), bins=100)\n",
    "plt.show()"
   ]
  },
  {
   "cell_type": "code",
   "execution_count": 55,
   "metadata": {},
   "outputs": [
    {
     "data": {
      "text/plain": [
       "232.5"
      ]
     },
     "execution_count": 55,
     "metadata": {},
     "output_type": "execute_result"
    }
   ],
   "source": [
    "df.groupby('userID').testId.count().median()"
   ]
  },
  {
   "cell_type": "code",
   "execution_count": 56,
   "metadata": {},
   "outputs": [
    {
     "data": {
      "text/plain": [
       "answerCode\n",
       " 1    1653588\n",
       " 0     872368\n",
       "-1        744\n",
       "Name: count, dtype: int64"
      ]
     },
     "execution_count": 56,
     "metadata": {},
     "output_type": "execute_result"
    }
   ],
   "source": [
    "df.answerCode.value_counts()"
   ]
  },
  {
   "cell_type": "code",
   "execution_count": 133,
   "metadata": {},
   "outputs": [],
   "source": [
    "test = pd.read_csv('../data/test_data.csv')\n",
    "df = pd.read_csv('../data/FE_v6.csv')"
   ]
  },
  {
   "cell_type": "code",
   "execution_count": 134,
   "metadata": {},
   "outputs": [
    {
     "data": {
      "text/html": [
       "<div>\n",
       "<style scoped>\n",
       "    .dataframe tbody tr th:only-of-type {\n",
       "        vertical-align: middle;\n",
       "    }\n",
       "\n",
       "    .dataframe tbody tr th {\n",
       "        vertical-align: top;\n",
       "    }\n",
       "\n",
       "    .dataframe thead th {\n",
       "        text-align: right;\n",
       "    }\n",
       "</style>\n",
       "<table border=\"1\" class=\"dataframe\">\n",
       "  <thead>\n",
       "    <tr style=\"text-align: right;\">\n",
       "      <th></th>\n",
       "      <th>userID</th>\n",
       "      <th>assessmentItemID</th>\n",
       "      <th>testId</th>\n",
       "      <th>answerCode</th>\n",
       "      <th>Timestamp</th>\n",
       "      <th>KnowledgeTag</th>\n",
       "      <th>SolvingTime</th>\n",
       "      <th>CumulativeTime</th>\n",
       "      <th>SolvingTime_cleaned</th>\n",
       "      <th>Month</th>\n",
       "      <th>...</th>\n",
       "      <th>UserRecentTagAnswer</th>\n",
       "      <th>TestAnswerRate</th>\n",
       "      <th>log_SolvingTime</th>\n",
       "      <th>categorize_solvingTime</th>\n",
       "      <th>categorize_ProblemAnswerRate</th>\n",
       "      <th>categorize_TagAnswerRate</th>\n",
       "      <th>categorize_TestAnswerRate</th>\n",
       "      <th>categorize_CumulativeUserProblemAnswerRate</th>\n",
       "      <th>categorize_CumulativeUserTagAverageAnswerRate</th>\n",
       "      <th>categorize_CumulativeUserTagExponentialAverage</th>\n",
       "    </tr>\n",
       "  </thead>\n",
       "  <tbody>\n",
       "    <tr>\n",
       "      <th>0</th>\n",
       "      <td>0</td>\n",
       "      <td>60001001</td>\n",
       "      <td>60001</td>\n",
       "      <td>1</td>\n",
       "      <td>2020-03-24 00:17:11</td>\n",
       "      <td>7224</td>\n",
       "      <td>3</td>\n",
       "      <td>3</td>\n",
       "      <td>3.0</td>\n",
       "      <td>3</td>\n",
       "      <td>...</td>\n",
       "      <td>U</td>\n",
       "      <td>95</td>\n",
       "      <td>1.098612</td>\n",
       "      <td>0</td>\n",
       "      <td>Extremely Easy</td>\n",
       "      <td>Extremely Easy</td>\n",
       "      <td>Extremely Easy</td>\n",
       "      <td>Beginner</td>\n",
       "      <td>Intermediate</td>\n",
       "      <td>Intermediate</td>\n",
       "    </tr>\n",
       "    <tr>\n",
       "      <th>1</th>\n",
       "      <td>0</td>\n",
       "      <td>60001002</td>\n",
       "      <td>60001</td>\n",
       "      <td>1</td>\n",
       "      <td>2020-03-24 00:17:14</td>\n",
       "      <td>7225</td>\n",
       "      <td>8</td>\n",
       "      <td>11</td>\n",
       "      <td>8.0</td>\n",
       "      <td>3</td>\n",
       "      <td>...</td>\n",
       "      <td>U</td>\n",
       "      <td>95</td>\n",
       "      <td>2.079442</td>\n",
       "      <td>1</td>\n",
       "      <td>Extremely Easy</td>\n",
       "      <td>Extremely Easy</td>\n",
       "      <td>Extremely Easy</td>\n",
       "      <td>Advanced</td>\n",
       "      <td>Intermediate</td>\n",
       "      <td>Intermediate</td>\n",
       "    </tr>\n",
       "    <tr>\n",
       "      <th>2</th>\n",
       "      <td>0</td>\n",
       "      <td>60001003</td>\n",
       "      <td>60001</td>\n",
       "      <td>1</td>\n",
       "      <td>2020-03-24 00:17:22</td>\n",
       "      <td>7225</td>\n",
       "      <td>7</td>\n",
       "      <td>18</td>\n",
       "      <td>7.0</td>\n",
       "      <td>3</td>\n",
       "      <td>...</td>\n",
       "      <td>Y</td>\n",
       "      <td>95</td>\n",
       "      <td>1.945910</td>\n",
       "      <td>1</td>\n",
       "      <td>Extremely Easy</td>\n",
       "      <td>Extremely Easy</td>\n",
       "      <td>Extremely Easy</td>\n",
       "      <td>Advanced</td>\n",
       "      <td>Advanced</td>\n",
       "      <td>Advanced</td>\n",
       "    </tr>\n",
       "    <tr>\n",
       "      <th>3</th>\n",
       "      <td>0</td>\n",
       "      <td>60001004</td>\n",
       "      <td>60001</td>\n",
       "      <td>1</td>\n",
       "      <td>2020-03-24 00:17:29</td>\n",
       "      <td>7225</td>\n",
       "      <td>7</td>\n",
       "      <td>25</td>\n",
       "      <td>7.0</td>\n",
       "      <td>3</td>\n",
       "      <td>...</td>\n",
       "      <td>Y</td>\n",
       "      <td>95</td>\n",
       "      <td>1.945910</td>\n",
       "      <td>1</td>\n",
       "      <td>Extremely Easy</td>\n",
       "      <td>Extremely Easy</td>\n",
       "      <td>Extremely Easy</td>\n",
       "      <td>Advanced</td>\n",
       "      <td>Advanced</td>\n",
       "      <td>Advanced</td>\n",
       "    </tr>\n",
       "    <tr>\n",
       "      <th>4</th>\n",
       "      <td>0</td>\n",
       "      <td>60001005</td>\n",
       "      <td>60001</td>\n",
       "      <td>1</td>\n",
       "      <td>2020-03-24 00:17:36</td>\n",
       "      <td>7225</td>\n",
       "      <td>11</td>\n",
       "      <td>36</td>\n",
       "      <td>11.0</td>\n",
       "      <td>3</td>\n",
       "      <td>...</td>\n",
       "      <td>Y</td>\n",
       "      <td>95</td>\n",
       "      <td>2.397895</td>\n",
       "      <td>2</td>\n",
       "      <td>Extremely Easy</td>\n",
       "      <td>Extremely Easy</td>\n",
       "      <td>Extremely Easy</td>\n",
       "      <td>Advanced</td>\n",
       "      <td>Advanced</td>\n",
       "      <td>Advanced</td>\n",
       "    </tr>\n",
       "    <tr>\n",
       "      <th>...</th>\n",
       "      <td>...</td>\n",
       "      <td>...</td>\n",
       "      <td>...</td>\n",
       "      <td>...</td>\n",
       "      <td>...</td>\n",
       "      <td>...</td>\n",
       "      <td>...</td>\n",
       "      <td>...</td>\n",
       "      <td>...</td>\n",
       "      <td>...</td>\n",
       "      <td>...</td>\n",
       "      <td>...</td>\n",
       "      <td>...</td>\n",
       "      <td>...</td>\n",
       "      <td>...</td>\n",
       "      <td>...</td>\n",
       "      <td>...</td>\n",
       "      <td>...</td>\n",
       "      <td>...</td>\n",
       "      <td>...</td>\n",
       "      <td>...</td>\n",
       "    </tr>\n",
       "    <tr>\n",
       "      <th>2526695</th>\n",
       "      <td>7441</td>\n",
       "      <td>30071005</td>\n",
       "      <td>30071</td>\n",
       "      <td>0</td>\n",
       "      <td>2020-06-05 06:50:21</td>\n",
       "      <td>438</td>\n",
       "      <td>55</td>\n",
       "      <td>275</td>\n",
       "      <td>NaN</td>\n",
       "      <td>6</td>\n",
       "      <td>...</td>\n",
       "      <td>N</td>\n",
       "      <td>66</td>\n",
       "      <td>4.007333</td>\n",
       "      <td>6</td>\n",
       "      <td>Very Difficult</td>\n",
       "      <td>Medium</td>\n",
       "      <td>Medium</td>\n",
       "      <td>Beginner</td>\n",
       "      <td>Elementary_Intermediate</td>\n",
       "      <td>Elementary_Intermediate</td>\n",
       "    </tr>\n",
       "    <tr>\n",
       "      <th>2526696</th>\n",
       "      <td>7441</td>\n",
       "      <td>40165001</td>\n",
       "      <td>40165</td>\n",
       "      <td>1</td>\n",
       "      <td>2020-08-21 01:06:39</td>\n",
       "      <td>8836</td>\n",
       "      <td>11</td>\n",
       "      <td>11</td>\n",
       "      <td>11.0</td>\n",
       "      <td>8</td>\n",
       "      <td>...</td>\n",
       "      <td>U</td>\n",
       "      <td>65</td>\n",
       "      <td>2.397895</td>\n",
       "      <td>2</td>\n",
       "      <td>Medium</td>\n",
       "      <td>Medium</td>\n",
       "      <td>Medium</td>\n",
       "      <td>Beginner</td>\n",
       "      <td>Intermediate</td>\n",
       "      <td>Intermediate</td>\n",
       "    </tr>\n",
       "    <tr>\n",
       "      <th>2526697</th>\n",
       "      <td>7441</td>\n",
       "      <td>40165002</td>\n",
       "      <td>40165</td>\n",
       "      <td>1</td>\n",
       "      <td>2020-08-21 01:06:50</td>\n",
       "      <td>8836</td>\n",
       "      <td>46</td>\n",
       "      <td>57</td>\n",
       "      <td>46.0</td>\n",
       "      <td>8</td>\n",
       "      <td>...</td>\n",
       "      <td>Y</td>\n",
       "      <td>65</td>\n",
       "      <td>3.828641</td>\n",
       "      <td>6</td>\n",
       "      <td>Medium</td>\n",
       "      <td>Medium</td>\n",
       "      <td>Medium</td>\n",
       "      <td>Beginner</td>\n",
       "      <td>Advanced</td>\n",
       "      <td>Advanced</td>\n",
       "    </tr>\n",
       "    <tr>\n",
       "      <th>2526698</th>\n",
       "      <td>7441</td>\n",
       "      <td>40165003</td>\n",
       "      <td>40165</td>\n",
       "      <td>1</td>\n",
       "      <td>2020-08-21 01:07:36</td>\n",
       "      <td>8836</td>\n",
       "      <td>73</td>\n",
       "      <td>130</td>\n",
       "      <td>73.0</td>\n",
       "      <td>8</td>\n",
       "      <td>...</td>\n",
       "      <td>Y</td>\n",
       "      <td>65</td>\n",
       "      <td>4.290459</td>\n",
       "      <td>7</td>\n",
       "      <td>Easy</td>\n",
       "      <td>Medium</td>\n",
       "      <td>Medium</td>\n",
       "      <td>Beginner</td>\n",
       "      <td>Advanced</td>\n",
       "      <td>Advanced</td>\n",
       "    </tr>\n",
       "    <tr>\n",
       "      <th>2526699</th>\n",
       "      <td>7441</td>\n",
       "      <td>40165004</td>\n",
       "      <td>40165</td>\n",
       "      <td>1</td>\n",
       "      <td>2020-08-21 01:08:49</td>\n",
       "      <td>8836</td>\n",
       "      <td>43</td>\n",
       "      <td>173</td>\n",
       "      <td>NaN</td>\n",
       "      <td>8</td>\n",
       "      <td>...</td>\n",
       "      <td>Y</td>\n",
       "      <td>65</td>\n",
       "      <td>3.761200</td>\n",
       "      <td>6</td>\n",
       "      <td>Difficult</td>\n",
       "      <td>Medium</td>\n",
       "      <td>Medium</td>\n",
       "      <td>Beginner</td>\n",
       "      <td>Advanced</td>\n",
       "      <td>Advanced</td>\n",
       "    </tr>\n",
       "  </tbody>\n",
       "</table>\n",
       "<p>2526700 rows × 31 columns</p>\n",
       "</div>"
      ],
      "text/plain": [
       "         userID  assessmentItemID  testId  answerCode            Timestamp  \\\n",
       "0             0          60001001   60001           1  2020-03-24 00:17:11   \n",
       "1             0          60001002   60001           1  2020-03-24 00:17:14   \n",
       "2             0          60001003   60001           1  2020-03-24 00:17:22   \n",
       "3             0          60001004   60001           1  2020-03-24 00:17:29   \n",
       "4             0          60001005   60001           1  2020-03-24 00:17:36   \n",
       "...         ...               ...     ...         ...                  ...   \n",
       "2526695    7441          30071005   30071           0  2020-06-05 06:50:21   \n",
       "2526696    7441          40165001   40165           1  2020-08-21 01:06:39   \n",
       "2526697    7441          40165002   40165           1  2020-08-21 01:06:50   \n",
       "2526698    7441          40165003   40165           1  2020-08-21 01:07:36   \n",
       "2526699    7441          40165004   40165           1  2020-08-21 01:08:49   \n",
       "\n",
       "         KnowledgeTag  SolvingTime  CumulativeTime  SolvingTime_cleaned  \\\n",
       "0                7224            3               3                  3.0   \n",
       "1                7225            8              11                  8.0   \n",
       "2                7225            7              18                  7.0   \n",
       "3                7225            7              25                  7.0   \n",
       "4                7225           11              36                 11.0   \n",
       "...               ...          ...             ...                  ...   \n",
       "2526695           438           55             275                  NaN   \n",
       "2526696          8836           11              11                 11.0   \n",
       "2526697          8836           46              57                 46.0   \n",
       "2526698          8836           73             130                 73.0   \n",
       "2526699          8836           43             173                  NaN   \n",
       "\n",
       "         Month  ... UserRecentTagAnswer  TestAnswerRate  log_SolvingTime  \\\n",
       "0            3  ...                   U              95         1.098612   \n",
       "1            3  ...                   U              95         2.079442   \n",
       "2            3  ...                   Y              95         1.945910   \n",
       "3            3  ...                   Y              95         1.945910   \n",
       "4            3  ...                   Y              95         2.397895   \n",
       "...        ...  ...                 ...             ...              ...   \n",
       "2526695      6  ...                   N              66         4.007333   \n",
       "2526696      8  ...                   U              65         2.397895   \n",
       "2526697      8  ...                   Y              65         3.828641   \n",
       "2526698      8  ...                   Y              65         4.290459   \n",
       "2526699      8  ...                   Y              65         3.761200   \n",
       "\n",
       "         categorize_solvingTime  categorize_ProblemAnswerRate  \\\n",
       "0                             0                Extremely Easy   \n",
       "1                             1                Extremely Easy   \n",
       "2                             1                Extremely Easy   \n",
       "3                             1                Extremely Easy   \n",
       "4                             2                Extremely Easy   \n",
       "...                         ...                           ...   \n",
       "2526695                       6                Very Difficult   \n",
       "2526696                       2                        Medium   \n",
       "2526697                       6                        Medium   \n",
       "2526698                       7                          Easy   \n",
       "2526699                       6                     Difficult   \n",
       "\n",
       "         categorize_TagAnswerRate  categorize_TestAnswerRate  \\\n",
       "0                  Extremely Easy             Extremely Easy   \n",
       "1                  Extremely Easy             Extremely Easy   \n",
       "2                  Extremely Easy             Extremely Easy   \n",
       "3                  Extremely Easy             Extremely Easy   \n",
       "4                  Extremely Easy             Extremely Easy   \n",
       "...                           ...                        ...   \n",
       "2526695                    Medium                     Medium   \n",
       "2526696                    Medium                     Medium   \n",
       "2526697                    Medium                     Medium   \n",
       "2526698                    Medium                     Medium   \n",
       "2526699                    Medium                     Medium   \n",
       "\n",
       "         categorize_CumulativeUserProblemAnswerRate  \\\n",
       "0                                          Beginner   \n",
       "1                                          Advanced   \n",
       "2                                          Advanced   \n",
       "3                                          Advanced   \n",
       "4                                          Advanced   \n",
       "...                                             ...   \n",
       "2526695                                    Beginner   \n",
       "2526696                                    Beginner   \n",
       "2526697                                    Beginner   \n",
       "2526698                                    Beginner   \n",
       "2526699                                    Beginner   \n",
       "\n",
       "         categorize_CumulativeUserTagAverageAnswerRate  \\\n",
       "0                                         Intermediate   \n",
       "1                                         Intermediate   \n",
       "2                                             Advanced   \n",
       "3                                             Advanced   \n",
       "4                                             Advanced   \n",
       "...                                                ...   \n",
       "2526695                        Elementary_Intermediate   \n",
       "2526696                                   Intermediate   \n",
       "2526697                                       Advanced   \n",
       "2526698                                       Advanced   \n",
       "2526699                                       Advanced   \n",
       "\n",
       "         categorize_CumulativeUserTagExponentialAverage  \n",
       "0                                          Intermediate  \n",
       "1                                          Intermediate  \n",
       "2                                              Advanced  \n",
       "3                                              Advanced  \n",
       "4                                              Advanced  \n",
       "...                                                 ...  \n",
       "2526695                         Elementary_Intermediate  \n",
       "2526696                                    Intermediate  \n",
       "2526697                                        Advanced  \n",
       "2526698                                        Advanced  \n",
       "2526699                                        Advanced  \n",
       "\n",
       "[2526700 rows x 31 columns]"
      ]
     },
     "execution_count": 134,
     "metadata": {},
     "output_type": "execute_result"
    }
   ],
   "source": [
    "df"
   ]
  },
  {
   "cell_type": "code",
   "execution_count": 135,
   "metadata": {},
   "outputs": [],
   "source": [
    "all = (df.groupby('userID')['answerCode'].min()==-1).index\n",
    "idx = (df.groupby('userID')['answerCode'].min()==-1).values\n",
    "\n",
    "test_idx = all[idx]"
   ]
  },
  {
   "cell_type": "code",
   "execution_count": 104,
   "metadata": {},
   "outputs": [],
   "source": [
    "df.set_index('userID').loc[test_idx].reset_index(drop=False).sort_values(['userID','Timestamp']).to_csv('FE_v6_test.csv', index=False)"
   ]
  },
  {
   "cell_type": "code",
   "execution_count": 107,
   "metadata": {},
   "outputs": [],
   "source": [
    "fold1 = pd.read_csv('/data/ephemeral/home/level2-dkt-recsys-06/code/submit/dkt_submission.csv')\n",
    "fold2 = pd.read_csv('/data/ephemeral/home/level2-dkt-recsys-06/code/submit/dkt_submission2.csv')\n",
    "fold3 = pd.read_csv('/data/ephemeral/home/level2-dkt-recsys-06/code/submit/dkt_submission3.csv')\n",
    "fold4 = pd.read_csv('/data/ephemeral/home/level2-dkt-recsys-06/code/submit/dkt_submission4.csv')"
   ]
  },
  {
   "cell_type": "code",
   "execution_count": 136,
   "metadata": {},
   "outputs": [],
   "source": [
    "df = df.set_index('userID').loc[test_idx].reset_index(drop=False).sort_values(['userID','Timestamp'])"
   ]
  },
  {
   "cell_type": "code",
   "execution_count": 140,
   "metadata": {},
   "outputs": [],
   "source": [
    "df = df.reset_index(drop=True)"
   ]
  },
  {
   "cell_type": "code",
   "execution_count": 138,
   "metadata": {},
   "outputs": [
    {
     "data": {
      "text/html": [
       "<div>\n",
       "<style scoped>\n",
       "    .dataframe tbody tr th:only-of-type {\n",
       "        vertical-align: middle;\n",
       "    }\n",
       "\n",
       "    .dataframe tbody tr th {\n",
       "        vertical-align: top;\n",
       "    }\n",
       "\n",
       "    .dataframe thead th {\n",
       "        text-align: right;\n",
       "    }\n",
       "</style>\n",
       "<table border=\"1\" class=\"dataframe\">\n",
       "  <thead>\n",
       "    <tr style=\"text-align: right;\">\n",
       "      <th></th>\n",
       "      <th>userID</th>\n",
       "      <th>assessmentItemID</th>\n",
       "      <th>testId</th>\n",
       "      <th>answerCode</th>\n",
       "      <th>Timestamp</th>\n",
       "      <th>KnowledgeTag</th>\n",
       "    </tr>\n",
       "  </thead>\n",
       "  <tbody>\n",
       "    <tr>\n",
       "      <th>0</th>\n",
       "      <td>3</td>\n",
       "      <td>A050023001</td>\n",
       "      <td>A050000023</td>\n",
       "      <td>1</td>\n",
       "      <td>2020-01-09 10:56:31</td>\n",
       "      <td>2626</td>\n",
       "    </tr>\n",
       "    <tr>\n",
       "      <th>1</th>\n",
       "      <td>3</td>\n",
       "      <td>A050023002</td>\n",
       "      <td>A050000023</td>\n",
       "      <td>1</td>\n",
       "      <td>2020-01-09 10:56:57</td>\n",
       "      <td>2626</td>\n",
       "    </tr>\n",
       "    <tr>\n",
       "      <th>2</th>\n",
       "      <td>3</td>\n",
       "      <td>A050023003</td>\n",
       "      <td>A050000023</td>\n",
       "      <td>0</td>\n",
       "      <td>2020-01-09 10:58:31</td>\n",
       "      <td>2625</td>\n",
       "    </tr>\n",
       "    <tr>\n",
       "      <th>3</th>\n",
       "      <td>3</td>\n",
       "      <td>A050023004</td>\n",
       "      <td>A050000023</td>\n",
       "      <td>0</td>\n",
       "      <td>2020-01-09 10:58:36</td>\n",
       "      <td>2625</td>\n",
       "    </tr>\n",
       "    <tr>\n",
       "      <th>4</th>\n",
       "      <td>3</td>\n",
       "      <td>A050023006</td>\n",
       "      <td>A050000023</td>\n",
       "      <td>0</td>\n",
       "      <td>2020-01-09 10:58:43</td>\n",
       "      <td>2623</td>\n",
       "    </tr>\n",
       "    <tr>\n",
       "      <th>...</th>\n",
       "      <td>...</td>\n",
       "      <td>...</td>\n",
       "      <td>...</td>\n",
       "      <td>...</td>\n",
       "      <td>...</td>\n",
       "      <td>...</td>\n",
       "    </tr>\n",
       "    <tr>\n",
       "      <th>260109</th>\n",
       "      <td>7439</td>\n",
       "      <td>A040130001</td>\n",
       "      <td>A040000130</td>\n",
       "      <td>0</td>\n",
       "      <td>2020-10-14 23:07:23</td>\n",
       "      <td>8832</td>\n",
       "    </tr>\n",
       "    <tr>\n",
       "      <th>260110</th>\n",
       "      <td>7439</td>\n",
       "      <td>A040130002</td>\n",
       "      <td>A040000130</td>\n",
       "      <td>1</td>\n",
       "      <td>2020-10-14 23:07:41</td>\n",
       "      <td>8832</td>\n",
       "    </tr>\n",
       "    <tr>\n",
       "      <th>260111</th>\n",
       "      <td>7439</td>\n",
       "      <td>A040130003</td>\n",
       "      <td>A040000130</td>\n",
       "      <td>1</td>\n",
       "      <td>2020-10-14 23:08:02</td>\n",
       "      <td>8244</td>\n",
       "    </tr>\n",
       "    <tr>\n",
       "      <th>260112</th>\n",
       "      <td>7439</td>\n",
       "      <td>A040130004</td>\n",
       "      <td>A040000130</td>\n",
       "      <td>1</td>\n",
       "      <td>2020-10-14 23:09:31</td>\n",
       "      <td>8244</td>\n",
       "    </tr>\n",
       "    <tr>\n",
       "      <th>260113</th>\n",
       "      <td>7439</td>\n",
       "      <td>A040130005</td>\n",
       "      <td>A040000130</td>\n",
       "      <td>-1</td>\n",
       "      <td>2020-10-14 23:10:03</td>\n",
       "      <td>8832</td>\n",
       "    </tr>\n",
       "  </tbody>\n",
       "</table>\n",
       "<p>260114 rows × 6 columns</p>\n",
       "</div>"
      ],
      "text/plain": [
       "        userID assessmentItemID      testId  answerCode            Timestamp  \\\n",
       "0            3       A050023001  A050000023           1  2020-01-09 10:56:31   \n",
       "1            3       A050023002  A050000023           1  2020-01-09 10:56:57   \n",
       "2            3       A050023003  A050000023           0  2020-01-09 10:58:31   \n",
       "3            3       A050023004  A050000023           0  2020-01-09 10:58:36   \n",
       "4            3       A050023006  A050000023           0  2020-01-09 10:58:43   \n",
       "...        ...              ...         ...         ...                  ...   \n",
       "260109    7439       A040130001  A040000130           0  2020-10-14 23:07:23   \n",
       "260110    7439       A040130002  A040000130           1  2020-10-14 23:07:41   \n",
       "260111    7439       A040130003  A040000130           1  2020-10-14 23:08:02   \n",
       "260112    7439       A040130004  A040000130           1  2020-10-14 23:09:31   \n",
       "260113    7439       A040130005  A040000130          -1  2020-10-14 23:10:03   \n",
       "\n",
       "        KnowledgeTag  \n",
       "0               2626  \n",
       "1               2626  \n",
       "2               2625  \n",
       "3               2625  \n",
       "4               2623  \n",
       "...              ...  \n",
       "260109          8832  \n",
       "260110          8832  \n",
       "260111          8244  \n",
       "260112          8244  \n",
       "260113          8832  \n",
       "\n",
       "[260114 rows x 6 columns]"
      ]
     },
     "execution_count": 138,
     "metadata": {},
     "output_type": "execute_result"
    }
   ],
   "source": [
    "test"
   ]
  },
  {
   "cell_type": "code",
   "execution_count": 162,
   "metadata": {},
   "outputs": [
    {
     "data": {
      "text/html": [
       "<div>\n",
       "<style scoped>\n",
       "    .dataframe tbody tr th:only-of-type {\n",
       "        vertical-align: middle;\n",
       "    }\n",
       "\n",
       "    .dataframe tbody tr th {\n",
       "        vertical-align: top;\n",
       "    }\n",
       "\n",
       "    .dataframe thead th {\n",
       "        text-align: right;\n",
       "    }\n",
       "</style>\n",
       "<table border=\"1\" class=\"dataframe\">\n",
       "  <thead>\n",
       "    <tr style=\"text-align: right;\">\n",
       "      <th></th>\n",
       "      <th>userID</th>\n",
       "      <th>assessmentItemID</th>\n",
       "      <th>testId</th>\n",
       "      <th>answerCode</th>\n",
       "      <th>Timestamp</th>\n",
       "      <th>KnowledgeTag</th>\n",
       "      <th>SolvingTime</th>\n",
       "      <th>CumulativeTime</th>\n",
       "      <th>SolvingTime_cleaned</th>\n",
       "      <th>Month</th>\n",
       "      <th>...</th>\n",
       "      <th>UserRecentTagAnswer</th>\n",
       "      <th>TestAnswerRate</th>\n",
       "      <th>log_SolvingTime</th>\n",
       "      <th>categorize_solvingTime</th>\n",
       "      <th>categorize_ProblemAnswerRate</th>\n",
       "      <th>categorize_TagAnswerRate</th>\n",
       "      <th>categorize_TestAnswerRate</th>\n",
       "      <th>categorize_CumulativeUserProblemAnswerRate</th>\n",
       "      <th>categorize_CumulativeUserTagAverageAnswerRate</th>\n",
       "      <th>categorize_CumulativeUserTagExponentialAverage</th>\n",
       "    </tr>\n",
       "  </thead>\n",
       "  <tbody>\n",
       "    <tr>\n",
       "      <th>0</th>\n",
       "      <td>3</td>\n",
       "      <td>50023001</td>\n",
       "      <td>50023</td>\n",
       "      <td>1</td>\n",
       "      <td>2020-01-09 10:56:31</td>\n",
       "      <td>2626</td>\n",
       "      <td>26</td>\n",
       "      <td>26</td>\n",
       "      <td>26.0</td>\n",
       "      <td>1</td>\n",
       "      <td>...</td>\n",
       "      <td>U</td>\n",
       "      <td>54</td>\n",
       "      <td>3.258097</td>\n",
       "      <td>4</td>\n",
       "      <td>Medium</td>\n",
       "      <td>Difficult</td>\n",
       "      <td>Very Difficult</td>\n",
       "      <td>Beginner</td>\n",
       "      <td>Intermediate</td>\n",
       "      <td>Intermediate</td>\n",
       "    </tr>\n",
       "    <tr>\n",
       "      <th>1</th>\n",
       "      <td>3</td>\n",
       "      <td>50023002</td>\n",
       "      <td>50023</td>\n",
       "      <td>1</td>\n",
       "      <td>2020-01-09 10:56:57</td>\n",
       "      <td>2626</td>\n",
       "      <td>94</td>\n",
       "      <td>120</td>\n",
       "      <td>94.0</td>\n",
       "      <td>1</td>\n",
       "      <td>...</td>\n",
       "      <td>Y</td>\n",
       "      <td>54</td>\n",
       "      <td>4.543295</td>\n",
       "      <td>8</td>\n",
       "      <td>Difficult</td>\n",
       "      <td>Difficult</td>\n",
       "      <td>Very Difficult</td>\n",
       "      <td>Advanced</td>\n",
       "      <td>Advanced</td>\n",
       "      <td>Advanced</td>\n",
       "    </tr>\n",
       "    <tr>\n",
       "      <th>2</th>\n",
       "      <td>3</td>\n",
       "      <td>50023003</td>\n",
       "      <td>50023</td>\n",
       "      <td>0</td>\n",
       "      <td>2020-01-09 10:58:31</td>\n",
       "      <td>2625</td>\n",
       "      <td>5</td>\n",
       "      <td>125</td>\n",
       "      <td>5.0</td>\n",
       "      <td>1</td>\n",
       "      <td>...</td>\n",
       "      <td>U</td>\n",
       "      <td>54</td>\n",
       "      <td>1.609438</td>\n",
       "      <td>1</td>\n",
       "      <td>Difficult</td>\n",
       "      <td>Medium</td>\n",
       "      <td>Very Difficult</td>\n",
       "      <td>Advanced</td>\n",
       "      <td>Intermediate</td>\n",
       "      <td>Intermediate</td>\n",
       "    </tr>\n",
       "    <tr>\n",
       "      <th>3</th>\n",
       "      <td>3</td>\n",
       "      <td>50023004</td>\n",
       "      <td>50023</td>\n",
       "      <td>0</td>\n",
       "      <td>2020-01-09 10:58:36</td>\n",
       "      <td>2625</td>\n",
       "      <td>7</td>\n",
       "      <td>132</td>\n",
       "      <td>7.0</td>\n",
       "      <td>1</td>\n",
       "      <td>...</td>\n",
       "      <td>N</td>\n",
       "      <td>54</td>\n",
       "      <td>1.945910</td>\n",
       "      <td>1</td>\n",
       "      <td>Medium</td>\n",
       "      <td>Medium</td>\n",
       "      <td>Very Difficult</td>\n",
       "      <td>Intermediate</td>\n",
       "      <td>Beginner</td>\n",
       "      <td>Beginner</td>\n",
       "    </tr>\n",
       "    <tr>\n",
       "      <th>4</th>\n",
       "      <td>3</td>\n",
       "      <td>50023006</td>\n",
       "      <td>50023</td>\n",
       "      <td>0</td>\n",
       "      <td>2020-01-09 10:58:43</td>\n",
       "      <td>2623</td>\n",
       "      <td>3</td>\n",
       "      <td>135</td>\n",
       "      <td>3.0</td>\n",
       "      <td>1</td>\n",
       "      <td>...</td>\n",
       "      <td>U</td>\n",
       "      <td>54</td>\n",
       "      <td>1.098612</td>\n",
       "      <td>0</td>\n",
       "      <td>Extremely Difficult</td>\n",
       "      <td>Difficult</td>\n",
       "      <td>Very Difficult</td>\n",
       "      <td>Beginner</td>\n",
       "      <td>Intermediate</td>\n",
       "      <td>Intermediate</td>\n",
       "    </tr>\n",
       "    <tr>\n",
       "      <th>...</th>\n",
       "      <td>...</td>\n",
       "      <td>...</td>\n",
       "      <td>...</td>\n",
       "      <td>...</td>\n",
       "      <td>...</td>\n",
       "      <td>...</td>\n",
       "      <td>...</td>\n",
       "      <td>...</td>\n",
       "      <td>...</td>\n",
       "      <td>...</td>\n",
       "      <td>...</td>\n",
       "      <td>...</td>\n",
       "      <td>...</td>\n",
       "      <td>...</td>\n",
       "      <td>...</td>\n",
       "      <td>...</td>\n",
       "      <td>...</td>\n",
       "      <td>...</td>\n",
       "      <td>...</td>\n",
       "      <td>...</td>\n",
       "      <td>...</td>\n",
       "    </tr>\n",
       "    <tr>\n",
       "      <th>260109</th>\n",
       "      <td>7439</td>\n",
       "      <td>40130001</td>\n",
       "      <td>40130</td>\n",
       "      <td>0</td>\n",
       "      <td>2020-10-14 23:07:23</td>\n",
       "      <td>8832</td>\n",
       "      <td>18</td>\n",
       "      <td>18</td>\n",
       "      <td>18.0</td>\n",
       "      <td>10</td>\n",
       "      <td>...</td>\n",
       "      <td>U</td>\n",
       "      <td>64</td>\n",
       "      <td>2.890372</td>\n",
       "      <td>3</td>\n",
       "      <td>Very Difficult</td>\n",
       "      <td>Difficult</td>\n",
       "      <td>Medium</td>\n",
       "      <td>Intermediate</td>\n",
       "      <td>Intermediate</td>\n",
       "      <td>Intermediate</td>\n",
       "    </tr>\n",
       "    <tr>\n",
       "      <th>260110</th>\n",
       "      <td>7439</td>\n",
       "      <td>40130002</td>\n",
       "      <td>40130</td>\n",
       "      <td>1</td>\n",
       "      <td>2020-10-14 23:07:41</td>\n",
       "      <td>8832</td>\n",
       "      <td>21</td>\n",
       "      <td>39</td>\n",
       "      <td>21.0</td>\n",
       "      <td>10</td>\n",
       "      <td>...</td>\n",
       "      <td>N</td>\n",
       "      <td>64</td>\n",
       "      <td>3.044522</td>\n",
       "      <td>3</td>\n",
       "      <td>Very Difficult</td>\n",
       "      <td>Difficult</td>\n",
       "      <td>Medium</td>\n",
       "      <td>Intermediate</td>\n",
       "      <td>Beginner</td>\n",
       "      <td>Beginner</td>\n",
       "    </tr>\n",
       "    <tr>\n",
       "      <th>260111</th>\n",
       "      <td>7439</td>\n",
       "      <td>40130003</td>\n",
       "      <td>40130</td>\n",
       "      <td>1</td>\n",
       "      <td>2020-10-14 23:08:02</td>\n",
       "      <td>8244</td>\n",
       "      <td>89</td>\n",
       "      <td>128</td>\n",
       "      <td>89.0</td>\n",
       "      <td>10</td>\n",
       "      <td>...</td>\n",
       "      <td>U</td>\n",
       "      <td>64</td>\n",
       "      <td>4.488636</td>\n",
       "      <td>8</td>\n",
       "      <td>Very Easy</td>\n",
       "      <td>Easy</td>\n",
       "      <td>Medium</td>\n",
       "      <td>Intermediate</td>\n",
       "      <td>Intermediate</td>\n",
       "      <td>Intermediate</td>\n",
       "    </tr>\n",
       "    <tr>\n",
       "      <th>260112</th>\n",
       "      <td>7439</td>\n",
       "      <td>40130004</td>\n",
       "      <td>40130</td>\n",
       "      <td>1</td>\n",
       "      <td>2020-10-14 23:09:31</td>\n",
       "      <td>8244</td>\n",
       "      <td>32</td>\n",
       "      <td>160</td>\n",
       "      <td>32.0</td>\n",
       "      <td>10</td>\n",
       "      <td>...</td>\n",
       "      <td>Y</td>\n",
       "      <td>64</td>\n",
       "      <td>3.465736</td>\n",
       "      <td>5</td>\n",
       "      <td>Very Easy</td>\n",
       "      <td>Easy</td>\n",
       "      <td>Medium</td>\n",
       "      <td>Intermediate</td>\n",
       "      <td>Advanced</td>\n",
       "      <td>Advanced</td>\n",
       "    </tr>\n",
       "    <tr>\n",
       "      <th>260113</th>\n",
       "      <td>7439</td>\n",
       "      <td>40130005</td>\n",
       "      <td>40130</td>\n",
       "      <td>-1</td>\n",
       "      <td>2020-10-14 23:10:03</td>\n",
       "      <td>8832</td>\n",
       "      <td>40</td>\n",
       "      <td>200</td>\n",
       "      <td>NaN</td>\n",
       "      <td>10</td>\n",
       "      <td>...</td>\n",
       "      <td>Y</td>\n",
       "      <td>64</td>\n",
       "      <td>3.688879</td>\n",
       "      <td>5</td>\n",
       "      <td>Difficult</td>\n",
       "      <td>Difficult</td>\n",
       "      <td>Medium</td>\n",
       "      <td>Intermediate</td>\n",
       "      <td>Intermediate</td>\n",
       "      <td>Elementary_Intermediate</td>\n",
       "    </tr>\n",
       "  </tbody>\n",
       "</table>\n",
       "<p>260114 rows × 31 columns</p>\n",
       "</div>"
      ],
      "text/plain": [
       "        userID  assessmentItemID  testId  answerCode            Timestamp  \\\n",
       "0            3          50023001   50023           1  2020-01-09 10:56:31   \n",
       "1            3          50023002   50023           1  2020-01-09 10:56:57   \n",
       "2            3          50023003   50023           0  2020-01-09 10:58:31   \n",
       "3            3          50023004   50023           0  2020-01-09 10:58:36   \n",
       "4            3          50023006   50023           0  2020-01-09 10:58:43   \n",
       "...        ...               ...     ...         ...                  ...   \n",
       "260109    7439          40130001   40130           0  2020-10-14 23:07:23   \n",
       "260110    7439          40130002   40130           1  2020-10-14 23:07:41   \n",
       "260111    7439          40130003   40130           1  2020-10-14 23:08:02   \n",
       "260112    7439          40130004   40130           1  2020-10-14 23:09:31   \n",
       "260113    7439          40130005   40130          -1  2020-10-14 23:10:03   \n",
       "\n",
       "        KnowledgeTag  SolvingTime  CumulativeTime  SolvingTime_cleaned  Month  \\\n",
       "0               2626           26              26                 26.0      1   \n",
       "1               2626           94             120                 94.0      1   \n",
       "2               2625            5             125                  5.0      1   \n",
       "3               2625            7             132                  7.0      1   \n",
       "4               2623            3             135                  3.0      1   \n",
       "...              ...          ...             ...                  ...    ...   \n",
       "260109          8832           18              18                 18.0     10   \n",
       "260110          8832           21              39                 21.0     10   \n",
       "260111          8244           89             128                 89.0     10   \n",
       "260112          8244           32             160                 32.0     10   \n",
       "260113          8832           40             200                  NaN     10   \n",
       "\n",
       "        ... UserRecentTagAnswer  TestAnswerRate  log_SolvingTime  \\\n",
       "0       ...                   U              54         3.258097   \n",
       "1       ...                   Y              54         4.543295   \n",
       "2       ...                   U              54         1.609438   \n",
       "3       ...                   N              54         1.945910   \n",
       "4       ...                   U              54         1.098612   \n",
       "...     ...                 ...             ...              ...   \n",
       "260109  ...                   U              64         2.890372   \n",
       "260110  ...                   N              64         3.044522   \n",
       "260111  ...                   U              64         4.488636   \n",
       "260112  ...                   Y              64         3.465736   \n",
       "260113  ...                   Y              64         3.688879   \n",
       "\n",
       "        categorize_solvingTime  categorize_ProblemAnswerRate  \\\n",
       "0                            4                        Medium   \n",
       "1                            8                     Difficult   \n",
       "2                            1                     Difficult   \n",
       "3                            1                        Medium   \n",
       "4                            0           Extremely Difficult   \n",
       "...                        ...                           ...   \n",
       "260109                       3                Very Difficult   \n",
       "260110                       3                Very Difficult   \n",
       "260111                       8                     Very Easy   \n",
       "260112                       5                     Very Easy   \n",
       "260113                       5                     Difficult   \n",
       "\n",
       "        categorize_TagAnswerRate  categorize_TestAnswerRate  \\\n",
       "0                      Difficult             Very Difficult   \n",
       "1                      Difficult             Very Difficult   \n",
       "2                         Medium             Very Difficult   \n",
       "3                         Medium             Very Difficult   \n",
       "4                      Difficult             Very Difficult   \n",
       "...                          ...                        ...   \n",
       "260109                 Difficult                     Medium   \n",
       "260110                 Difficult                     Medium   \n",
       "260111                      Easy                     Medium   \n",
       "260112                      Easy                     Medium   \n",
       "260113                 Difficult                     Medium   \n",
       "\n",
       "        categorize_CumulativeUserProblemAnswerRate  \\\n",
       "0                                         Beginner   \n",
       "1                                         Advanced   \n",
       "2                                         Advanced   \n",
       "3                                     Intermediate   \n",
       "4                                         Beginner   \n",
       "...                                            ...   \n",
       "260109                                Intermediate   \n",
       "260110                                Intermediate   \n",
       "260111                                Intermediate   \n",
       "260112                                Intermediate   \n",
       "260113                                Intermediate   \n",
       "\n",
       "        categorize_CumulativeUserTagAverageAnswerRate  \\\n",
       "0                                        Intermediate   \n",
       "1                                            Advanced   \n",
       "2                                        Intermediate   \n",
       "3                                            Beginner   \n",
       "4                                        Intermediate   \n",
       "...                                               ...   \n",
       "260109                                   Intermediate   \n",
       "260110                                       Beginner   \n",
       "260111                                   Intermediate   \n",
       "260112                                       Advanced   \n",
       "260113                                   Intermediate   \n",
       "\n",
       "        categorize_CumulativeUserTagExponentialAverage  \n",
       "0                                         Intermediate  \n",
       "1                                             Advanced  \n",
       "2                                         Intermediate  \n",
       "3                                             Beginner  \n",
       "4                                         Intermediate  \n",
       "...                                                ...  \n",
       "260109                                    Intermediate  \n",
       "260110                                        Beginner  \n",
       "260111                                    Intermediate  \n",
       "260112                                        Advanced  \n",
       "260113                         Elementary_Intermediate  \n",
       "\n",
       "[260114 rows x 31 columns]"
      ]
     },
     "execution_count": 162,
     "metadata": {},
     "output_type": "execute_result"
    }
   ],
   "source": [
    "df"
   ]
  },
  {
   "cell_type": "code",
   "execution_count": 163,
   "metadata": {},
   "outputs": [],
   "source": [
    "df = df.sort_values(['userID','assessmentItemID'])"
   ]
  },
  {
   "cell_type": "code",
   "execution_count": 164,
   "metadata": {},
   "outputs": [
    {
     "name": "stdout",
     "output_type": "stream",
     "text": [
      "260114 260114\n",
      "260114 260114\n",
      "answerCode 7353 1 2020-04-02 22:50:14 0 2020-04-02 22:50:14\n",
      "answerCode 7354 0 2020-04-02 22:50:14 1 2020-04-02 22:50:14\n",
      "answerCode 17570 1 2020-11-04 08:31:51 0 2020-11-04 08:31:51\n",
      "answerCode 17571 0 2020-11-04 08:31:51 1 2020-11-04 08:31:51\n",
      "answerCode 19760 1 2020-07-01 10:06:29 0 2020-07-01 10:06:29\n",
      "answerCode 19761 0 2020-07-01 10:06:29 1 2020-07-01 10:06:29\n",
      "answerCode 20057 0 2020-11-02 07:13:09 1 2020-11-02 07:13:09\n",
      "answerCode 20058 1 2020-11-02 07:13:09 0 2020-11-02 07:13:09\n",
      "answerCode 20973 1 2020-08-21 04:30:23 0 2020-08-21 04:30:23\n",
      "answerCode 20974 0 2020-08-21 04:30:23 1 2020-08-21 04:30:23\n",
      "answerCode 21177 0 2020-09-22 19:08:48 1 2020-09-22 19:08:48\n",
      "answerCode 21178 1 2020-09-22 19:08:48 0 2020-09-22 19:08:48\n",
      "answerCode 27566 0 2020-09-08 03:00:33 1 2020-09-08 03:00:33\n",
      "answerCode 27567 1 2020-09-08 03:00:33 0 2020-09-08 03:00:33\n",
      "answerCode 29748 0 2020-05-07 16:57:20 1 2020-05-07 16:57:20\n",
      "answerCode 29749 1 2020-05-07 16:57:20 0 2020-05-07 16:57:20\n",
      "answerCode 30008 1 2020-11-04 02:43:13 0 2020-11-04 02:43:13\n",
      "answerCode 30009 0 2020-11-04 02:43:13 1 2020-11-04 02:43:13\n",
      "answerCode 34484 0 2020-03-10 03:39:03 1 2020-03-10 03:39:03\n",
      "answerCode 34485 1 2020-03-10 03:39:03 0 2020-03-10 03:39:03\n",
      "answerCode 36224 0 2020-04-01 08:58:15 1 2020-04-01 08:58:15\n",
      "answerCode 36225 1 2020-04-01 08:58:15 0 2020-04-01 08:58:15\n",
      "answerCode 38321 1 2020-04-13 20:43:50 0 2020-04-13 20:43:50\n",
      "answerCode 38322 0 2020-04-13 20:43:50 1 2020-04-13 20:43:50\n",
      "answerCode 42069 1 2020-06-25 00:45:05 0 2020-06-25 00:45:05\n",
      "answerCode 42070 0 2020-06-25 00:45:05 1 2020-06-25 00:45:05\n",
      "answerCode 42102 1 2020-07-04 21:52:59 0 2020-07-04 21:52:59\n",
      "answerCode 42103 0 2020-07-04 21:52:59 1 2020-07-04 21:52:59\n",
      "answerCode 44793 0 2020-12-14 03:43:03 1 2020-12-14 03:43:03\n",
      "answerCode 44794 1 2020-12-14 03:43:03 0 2020-12-14 03:43:03\n",
      "answerCode 46543 0 2020-06-13 22:03:56 1 2020-06-13 22:03:56\n",
      "answerCode 46544 1 2020-06-13 22:03:56 0 2020-06-13 22:03:56\n",
      "answerCode 48120 0 2020-04-23 17:22:21 1 2020-04-23 17:22:21\n",
      "answerCode 48121 1 2020-04-23 17:22:21 0 2020-04-23 17:22:21\n",
      "answerCode 51953 0 2020-10-13 05:17:31 1 2020-10-13 05:17:31\n",
      "answerCode 51954 1 2020-10-13 05:17:31 0 2020-10-13 05:17:31\n",
      "answerCode 55554 1 2020-04-07 04:32:08 0 2020-04-07 04:32:08\n",
      "answerCode 55555 0 2020-04-07 04:32:08 1 2020-04-07 04:32:08\n",
      "answerCode 56052 0 2020-07-31 05:01:08 1 2020-07-31 05:01:08\n",
      "answerCode 56053 1 2020-07-31 05:01:08 0 2020-07-31 05:01:08\n",
      "answerCode 60817 0 2020-07-20 03:47:00 1 2020-07-20 03:47:00\n",
      "answerCode 60818 1 2020-07-20 03:47:00 0 2020-07-20 03:47:00\n",
      "answerCode 63724 0 2020-03-25 05:14:33 1 2020-03-25 05:14:33\n",
      "answerCode 63725 1 2020-03-25 05:14:33 0 2020-03-25 05:14:33\n",
      "answerCode 63828 1 2020-05-13 04:30:11 0 2020-05-13 04:30:11\n",
      "answerCode 63829 0 2020-05-13 04:30:11 1 2020-05-13 04:30:11\n",
      "answerCode 64103 0 2020-08-12 02:10:21 1 2020-08-12 02:10:21\n",
      "answerCode 64104 1 2020-08-12 02:10:21 0 2020-08-12 02:10:21\n",
      "answerCode 64220 0 2020-08-28 08:55:07 1 2020-08-28 08:55:07\n",
      "answerCode 64221 1 2020-08-28 08:55:07 0 2020-08-28 08:55:07\n",
      "answerCode 64701 1 2020-03-21 19:55:50 0 2020-03-21 19:55:50\n",
      "answerCode 64702 0 2020-03-21 19:55:50 1 2020-03-21 19:55:50\n",
      "answerCode 64936 1 2020-05-12 22:10:25 0 2020-05-12 22:10:25\n",
      "answerCode 64937 0 2020-05-12 22:10:25 1 2020-05-12 22:10:25\n",
      "answerCode 65124 0 2020-07-05 20:40:21 1 2020-07-05 20:40:21\n",
      "answerCode 65125 1 2020-07-05 20:40:21 0 2020-07-05 20:40:21\n",
      "answerCode 66248 0 2020-11-12 01:41:29 1 2020-11-12 01:41:29\n",
      "answerCode 66249 1 2020-11-12 01:41:29 0 2020-11-12 01:41:29\n",
      "answerCode 66809 1 2020-08-27 07:28:37 0 2020-08-27 07:28:37\n",
      "answerCode 66810 0 2020-08-27 07:28:37 1 2020-08-27 07:28:37\n",
      "answerCode 78228 1 2020-04-21 19:18:04 0 2020-04-21 19:18:04\n",
      "answerCode 78229 0 2020-04-21 19:18:04 1 2020-04-21 19:18:04\n",
      "answerCode 78251 0 2020-05-07 17:07:58 1 2020-05-07 17:07:58\n",
      "answerCode 78252 1 2020-05-07 17:07:58 0 2020-05-07 17:07:58\n",
      "answerCode 78282 0 2020-05-19 02:46:09 1 2020-05-19 02:46:09\n",
      "answerCode 78283 1 2020-05-19 02:46:09 0 2020-05-19 02:46:09\n",
      "answerCode 78315 0 2020-06-01 23:10:10 1 2020-06-01 23:10:10\n",
      "answerCode 78316 1 2020-06-01 23:10:10 0 2020-06-01 23:10:10\n",
      "answerCode 78508 0 2020-07-16 19:55:56 1 2020-07-16 19:55:56\n",
      "answerCode 78509 1 2020-07-16 19:55:56 0 2020-07-16 19:55:56\n",
      "answerCode 106937 1 2020-11-19 01:39:41 0 2020-11-19 01:39:41\n",
      "answerCode 106938 0 2020-11-19 01:39:41 1 2020-11-19 01:39:41\n",
      "answerCode 107472 0 2020-08-14 04:36:28 1 2020-08-14 04:36:28\n",
      "answerCode 107473 1 2020-08-14 04:36:28 0 2020-08-14 04:36:28\n",
      "answerCode 107603 0 2020-08-28 03:52:56 1 2020-08-28 03:52:56\n",
      "answerCode 107604 1 2020-08-28 03:52:56 0 2020-08-28 03:52:56\n",
      "answerCode 111474 1 2020-08-04 04:18:19 0 2020-08-04 04:18:19\n",
      "answerCode 111475 0 2020-08-04 04:18:19 1 2020-08-04 04:18:19\n",
      "answerCode 113452 0 2020-02-28 21:09:56 1 2020-02-28 21:09:56\n",
      "answerCode 113453 1 2020-02-28 21:09:56 0 2020-02-28 21:09:56\n",
      "answerCode 113781 1 2020-05-27 00:45:18 0 2020-05-27 00:45:18\n",
      "answerCode 113782 0 2020-05-27 00:45:18 1 2020-05-27 00:45:18\n",
      "answerCode 113923 1 2020-07-01 02:16:10 0 2020-07-01 02:16:10\n",
      "answerCode 113924 0 2020-07-01 02:16:10 1 2020-07-01 02:16:10\n",
      "answerCode 120303 0 2020-09-02 08:02:37 1 2020-09-02 08:02:37\n",
      "answerCode 120304 1 2020-09-02 08:02:37 0 2020-09-02 08:02:37\n",
      "answerCode 120752 0 2020-05-04 01:07:18 1 2020-05-04 01:07:18\n",
      "answerCode 120753 1 2020-05-04 01:07:18 0 2020-05-04 01:07:18\n",
      "answerCode 121105 0 2020-08-23 10:14:58 1 2020-08-23 10:14:58\n",
      "answerCode 121106 1 2020-08-23 10:14:58 0 2020-08-23 10:14:58\n",
      "answerCode 126788 1 2020-04-18 09:29:30 0 2020-04-18 09:29:30\n",
      "answerCode 126789 0 2020-04-18 09:29:30 1 2020-04-18 09:29:30\n",
      "answerCode 134204 1 2020-04-04 02:25:57 0 2020-04-04 02:25:57\n",
      "answerCode 134205 0 2020-04-04 02:25:57 1 2020-04-04 02:25:57\n",
      "answerCode 134316 1 2020-06-02 20:43:55 0 2020-06-02 20:43:55\n",
      "answerCode 134317 0 2020-06-02 20:43:55 1 2020-06-02 20:43:55\n",
      "answerCode 135463 1 2020-07-26 03:01:18 0 2020-07-26 03:01:18\n",
      "answerCode 135464 0 2020-07-26 03:01:18 1 2020-07-26 03:01:18\n",
      "answerCode 135472 1 2020-08-01 03:05:17 0 2020-08-01 03:05:17\n",
      "answerCode 135473 0 2020-08-01 03:05:17 1 2020-08-01 03:05:17\n",
      "answerCode 135535 0 2020-09-19 19:50:11 1 2020-09-19 19:50:11\n",
      "answerCode 135536 1 2020-09-19 19:50:11 0 2020-09-19 19:50:11\n",
      "answerCode 166926 1 2020-07-10 22:02:37 0 2020-07-10 22:02:37\n",
      "answerCode 166927 0 2020-07-10 22:02:37 1 2020-07-10 22:02:37\n",
      "answerCode 167779 0 2020-03-23 03:18:27 1 2020-03-23 03:18:27\n",
      "answerCode 167780 1 2020-03-23 03:18:27 0 2020-03-23 03:18:27\n",
      "answerCode 168890 -1 2020-12-28 18:54:59 0 2020-12-28 18:54:59\n",
      "answerCode 168891 0 2020-12-28 18:54:59 -1 2020-12-28 18:54:59\n",
      "answerCode 170210 1 2020-11-09 03:01:53 0 2020-11-09 03:01:53\n",
      "answerCode 170211 0 2020-11-09 03:01:53 1 2020-11-09 03:01:53\n",
      "answerCode 172906 1 2020-04-30 21:30:01 0 2020-04-30 21:30:01\n",
      "answerCode 172907 0 2020-04-30 21:30:01 1 2020-04-30 21:30:01\n",
      "answerCode 173839 1 2020-08-25 00:24:58 0 2020-08-25 00:24:58\n",
      "answerCode 173840 0 2020-08-25 00:24:58 1 2020-08-25 00:24:58\n",
      "answerCode 173911 -1 2020-12-18 00:05:24 1 2020-12-18 00:05:24\n",
      "answerCode 173912 1 2020-12-18 00:05:24 -1 2020-12-18 00:05:24\n",
      "answerCode 184407 0 2020-03-26 17:20:30 1 2020-03-26 17:20:30\n",
      "answerCode 184408 1 2020-03-26 17:20:30 0 2020-03-26 17:20:30\n",
      "answerCode 184915 0 2020-10-18 09:42:26 1 2020-10-18 09:42:26\n",
      "answerCode 184916 1 2020-10-18 09:42:26 0 2020-10-18 09:42:26\n",
      "answerCode 194935 1 2020-06-02 22:51:08 0 2020-06-02 22:51:08\n",
      "answerCode 194936 0 2020-06-02 22:51:08 1 2020-06-02 22:51:08\n",
      "answerCode 207104 0 2020-03-10 22:15:26 1 2020-03-10 22:15:26\n",
      "answerCode 207105 1 2020-03-10 22:15:26 0 2020-03-10 22:15:26\n",
      "answerCode 207283 1 2020-06-11 09:16:04 0 2020-06-11 09:16:04\n",
      "answerCode 207284 0 2020-06-11 09:16:04 1 2020-06-11 09:16:04\n",
      "answerCode 211289 0 2020-12-12 01:54:51 1 2020-12-12 01:54:51\n",
      "answerCode 211290 1 2020-12-12 01:54:51 0 2020-12-12 01:54:51\n",
      "answerCode 216503 0 2020-05-25 15:56:05 1 2020-05-25 15:56:05\n",
      "answerCode 216504 1 2020-05-25 15:56:05 0 2020-05-25 15:56:05\n",
      "answerCode 220104 0 2020-09-23 02:56:56 1 2020-09-23 02:56:56\n",
      "answerCode 220105 1 2020-09-23 02:56:56 0 2020-09-23 02:56:56\n",
      "answerCode 227967 0 2020-09-16 02:45:05 1 2020-09-16 02:45:05\n",
      "answerCode 227968 1 2020-09-16 02:45:05 0 2020-09-16 02:45:05\n",
      "answerCode 229271 0 2020-03-25 01:04:05 1 2020-03-25 01:04:05\n",
      "answerCode 229272 1 2020-03-25 01:04:05 0 2020-03-25 01:04:05\n",
      "answerCode 239221 1 2020-06-06 01:20:49 0 2020-06-06 01:20:49\n",
      "answerCode 239222 0 2020-06-06 01:20:49 1 2020-06-06 01:20:49\n",
      "259976 260114\n",
      "KnowledgeTag 1339 6826 2020-06-21 03:45:25 9186 2020-06-21 03:45:25\n",
      "KnowledgeTag 1340 9186 2020-06-21 03:45:25 6826 2020-06-21 03:45:25\n",
      "KnowledgeTag 1458 8880 2020-10-11 06:35:10 8881 2020-10-11 06:35:10\n",
      "KnowledgeTag 1459 8881 2020-10-11 06:35:10 8880 2020-10-11 06:35:10\n",
      "KnowledgeTag 1618 9053 2020-12-01 19:42:04 9054 2020-12-01 19:42:04\n",
      "KnowledgeTag 1619 9054 2020-12-01 19:42:04 9053 2020-12-01 19:42:04\n",
      "KnowledgeTag 5683 1356 2020-04-01 20:51:33 1395 2020-04-01 20:51:33\n",
      "KnowledgeTag 5684 1395 2020-04-01 20:51:33 1356 2020-04-01 20:51:33\n",
      "KnowledgeTag 5998 4962 2020-06-10 05:21:46 4965 2020-06-10 05:21:46\n",
      "KnowledgeTag 5999 4965 2020-06-10 05:21:46 4962 2020-06-10 05:21:46\n",
      "KnowledgeTag 7353 3806 2020-04-02 22:50:14 3820 2020-04-02 22:50:14\n",
      "KnowledgeTag 7354 3820 2020-04-02 22:50:14 3806 2020-04-02 22:50:14\n",
      "KnowledgeTag 7581 9170 2020-07-16 05:55:45 9171 2020-07-16 05:55:45\n",
      "KnowledgeTag 7582 9171 2020-07-16 05:55:45 9170 2020-07-16 05:55:45\n",
      "KnowledgeTag 14426 9079 2020-12-15 07:12:24 9080 2020-12-15 07:12:24\n",
      "KnowledgeTag 14427 9080 2020-12-15 07:12:24 9079 2020-12-15 07:12:24\n",
      "KnowledgeTag 17570 9046 2020-11-04 08:31:51 9053 2020-11-04 08:31:51\n",
      "KnowledgeTag 17571 9053 2020-11-04 08:31:51 9046 2020-11-04 08:31:51\n",
      "KnowledgeTag 19187 10610 2020-07-20 21:34:22 10759 2020-07-20 21:34:22\n",
      "KnowledgeTag 19188 10759 2020-07-20 21:34:22 10610 2020-07-20 21:34:22\n",
      "KnowledgeTag 19760 5654 2020-07-01 10:06:29 5783 2020-07-01 10:06:29\n",
      "KnowledgeTag 19761 5783 2020-07-01 10:06:29 5654 2020-07-01 10:06:29\n",
      "KnowledgeTag 20057 8908 2020-11-02 07:13:09 10837 2020-11-02 07:13:09\n",
      "KnowledgeTag 20058 10837 2020-11-02 07:13:09 8908 2020-11-02 07:13:09\n",
      "KnowledgeTag 20522 1257 2020-04-02 23:14:22 8831 2020-04-02 23:14:22\n",
      "KnowledgeTag 20523 8831 2020-04-02 23:14:22 1257 2020-04-02 23:14:22\n",
      "KnowledgeTag 20705 5809 2020-06-03 19:07:30 5810 2020-06-03 19:07:30\n",
      "KnowledgeTag 20706 5810 2020-06-03 19:07:30 5809 2020-06-03 19:07:30\n",
      "KnowledgeTag 20776 1260 2020-06-17 01:18:49 6795 2020-06-17 01:18:49\n",
      "KnowledgeTag 20777 6795 2020-06-17 01:18:49 1260 2020-06-17 01:18:49\n",
      "KnowledgeTag 20789 1260 2020-06-25 07:26:05 1262 2020-06-25 07:26:05\n",
      "KnowledgeTag 20790 1262 2020-06-25 07:26:05 1260 2020-06-25 07:26:05\n",
      "KnowledgeTag 20951 6826 2020-08-12 08:37:55 9184 2020-08-12 08:37:55\n",
      "KnowledgeTag 20952 9184 2020-08-12 08:37:55 6826 2020-08-12 08:37:55\n",
      "KnowledgeTag 20973 8872 2020-08-21 04:30:23 8893 2020-08-21 04:30:23\n",
      "KnowledgeTag 20974 8893 2020-08-21 04:30:23 8872 2020-08-21 04:30:23\n",
      "KnowledgeTag 21177 8893 2020-09-22 19:08:48 8897 2020-09-22 19:08:48\n",
      "KnowledgeTag 21178 8897 2020-09-22 19:08:48 8893 2020-09-22 19:08:48\n",
      "KnowledgeTag 21470 9068 2020-12-23 03:50:52 9070 2020-12-23 03:50:52\n",
      "KnowledgeTag 21471 9070 2020-12-23 03:50:52 9068 2020-12-23 03:50:52\n",
      "KnowledgeTag 24667 23 2020-08-01 01:35:48 3097 2020-08-01 01:35:48\n",
      "KnowledgeTag 24668 3097 2020-08-01 01:35:48 23 2020-08-01 01:35:48\n",
      "KnowledgeTag 26949 3806 2020-03-20 19:25:02 4746 2020-03-20 19:25:02\n",
      "KnowledgeTag 26950 4746 2020-03-20 19:25:02 3806 2020-03-20 19:25:02\n",
      "KnowledgeTag 26958 3804 2020-03-24 19:20:29 3821 2020-03-24 19:20:29\n",
      "KnowledgeTag 26959 3821 2020-03-24 19:20:29 3804 2020-03-24 19:20:29\n",
      "KnowledgeTag 27074 5654 2020-05-03 22:23:11 5783 2020-05-03 22:23:11\n",
      "KnowledgeTag 27075 5783 2020-05-03 22:23:11 5654 2020-05-03 22:23:11\n",
      "KnowledgeTag 27250 6795 2020-07-26 23:13:54 9168 2020-07-26 23:13:54\n",
      "KnowledgeTag 27251 9168 2020-07-26 23:13:54 6795 2020-07-26 23:13:54\n",
      "KnowledgeTag 27279 9170 2020-07-30 06:46:38 9171 2020-07-30 06:46:38\n",
      "KnowledgeTag 27280 9171 2020-07-30 06:46:38 9170 2020-07-30 06:46:38\n",
      "KnowledgeTag 27566 8878 2020-09-08 03:00:33 8880 2020-09-08 03:00:33\n",
      "KnowledgeTag 27567 8880 2020-09-08 03:00:33 8878 2020-09-08 03:00:33\n",
      "KnowledgeTag 27653 8880 2020-09-29 02:46:42 8902 2020-09-29 02:46:42\n",
      "KnowledgeTag 27654 8902 2020-09-29 02:46:42 8880 2020-09-29 02:46:42\n",
      "KnowledgeTag 27732 8906 2020-10-21 05:31:44 9660 2020-10-21 05:31:44\n",
      "KnowledgeTag 27733 9660 2020-10-21 05:31:44 8906 2020-10-21 05:31:44\n",
      "KnowledgeTag 29748 5261 2020-05-07 16:57:20 9728 2020-05-07 16:57:20\n",
      "KnowledgeTag 29749 9728 2020-05-07 16:57:20 5261 2020-05-07 16:57:20\n",
      "KnowledgeTag 29794 972 2020-06-10 02:26:03 974 2020-06-10 02:26:03\n",
      "KnowledgeTag 29795 974 2020-06-10 02:26:03 972 2020-06-10 02:26:03\n",
      "KnowledgeTag 30008 2644 2020-11-04 02:43:13 9924 2020-11-04 02:43:13\n",
      "KnowledgeTag 30009 9924 2020-11-04 02:43:13 2644 2020-11-04 02:43:13\n",
      "KnowledgeTag 31422 5781 2020-04-21 15:26:35 5782 2020-04-21 15:26:35\n",
      "KnowledgeTag 31423 5782 2020-04-21 15:26:35 5781 2020-04-21 15:26:35\n",
      "KnowledgeTag 34484 121 2020-03-10 03:39:03 7667 2020-03-10 03:39:03\n",
      "KnowledgeTag 34485 7667 2020-03-10 03:39:03 121 2020-03-10 03:39:03\n",
      "KnowledgeTag 36224 4662 2020-04-01 08:58:15 4668 2020-04-01 08:58:15\n",
      "KnowledgeTag 36225 4668 2020-04-01 08:58:15 4662 2020-04-01 08:58:15\n",
      "KnowledgeTag 36317 4688 2020-04-28 06:29:04 4805 2020-04-28 06:29:04\n",
      "KnowledgeTag 36318 4805 2020-04-28 06:29:04 4688 2020-04-28 06:29:04\n",
      "KnowledgeTag 36323 4784 2020-04-28 07:15:14 4795 2020-04-28 07:15:14\n",
      "KnowledgeTag 36324 4795 2020-04-28 07:15:14 4784 2020-04-28 07:15:14\n",
      "KnowledgeTag 38254 1396 2020-03-12 20:52:58 4604 2020-03-12 20:52:58\n",
      "KnowledgeTag 38255 4604 2020-03-12 20:52:58 1396 2020-03-12 20:52:58\n",
      "KnowledgeTag 38321 4681 2020-04-13 20:43:50 4682 2020-04-13 20:43:50\n",
      "KnowledgeTag 38322 4682 2020-04-13 20:43:50 4681 2020-04-13 20:43:50\n",
      "KnowledgeTag 39410 5809 2020-04-24 20:06:26 9161 2020-04-24 20:06:26\n",
      "KnowledgeTag 39411 9161 2020-04-24 20:06:26 5809 2020-04-24 20:06:26\n",
      "KnowledgeTag 42069 163 2020-06-25 00:45:05 164 2020-06-25 00:45:05\n",
      "KnowledgeTag 42070 164 2020-06-25 00:45:05 163 2020-06-25 00:45:05\n",
      "KnowledgeTag 42102 5619 2020-07-04 21:52:59 5782 2020-07-04 21:52:59\n",
      "KnowledgeTag 42103 5782 2020-07-04 21:52:59 5619 2020-07-04 21:52:59\n",
      "KnowledgeTag 43024 8880 2020-09-12 04:49:11 8885 2020-09-12 04:49:11\n",
      "KnowledgeTag 43025 8885 2020-09-12 04:49:11 8880 2020-09-12 04:49:11\n",
      "KnowledgeTag 44774 9077 2020-12-10 07:58:15 9078 2020-12-10 07:58:15\n",
      "KnowledgeTag 44775 9078 2020-12-10 07:58:15 9077 2020-12-10 07:58:15\n",
      "KnowledgeTag 44793 9046 2020-12-14 03:43:03 9053 2020-12-14 03:43:03\n",
      "KnowledgeTag 44794 9053 2020-12-14 03:43:03 9046 2020-12-14 03:43:03\n",
      "KnowledgeTag 46543 5763 2020-06-13 22:03:56 5782 2020-06-13 22:03:56\n",
      "KnowledgeTag 46544 5782 2020-06-13 22:03:56 5763 2020-06-13 22:03:56\n",
      "KnowledgeTag 47853 4662 2020-03-10 17:24:51 4669 2020-03-10 17:24:51\n",
      "KnowledgeTag 47854 4669 2020-03-10 17:24:51 4662 2020-03-10 17:24:51\n",
      "KnowledgeTag 47883 4660 2020-03-17 18:12:59 4664 2020-03-17 18:12:59\n",
      "KnowledgeTag 47884 4664 2020-03-17 18:12:59 4660 2020-03-17 18:12:59\n",
      "KnowledgeTag 47911 4680 2020-03-26 17:31:03 4681 2020-03-26 17:31:03\n",
      "KnowledgeTag 47912 4681 2020-03-26 17:31:03 4680 2020-03-26 17:31:03\n",
      "KnowledgeTag 48120 4783 2020-04-23 17:22:21 4795 2020-04-23 17:22:21\n",
      "KnowledgeTag 48121 4795 2020-04-23 17:22:21 4783 2020-04-23 17:22:21\n",
      "KnowledgeTag 49700 436 2020-07-21 11:19:41 626 2020-07-21 11:19:41\n",
      "KnowledgeTag 49701 626 2020-07-21 11:19:41 436 2020-07-21 11:19:41\n",
      "KnowledgeTag 51953 9065 2020-10-13 05:17:31 9066 2020-10-13 05:17:31\n",
      "KnowledgeTag 51954 9066 2020-10-13 05:17:31 9065 2020-10-13 05:17:31\n",
      "KnowledgeTag 55400 5620 2020-03-10 03:59:27 5653 2020-03-10 03:59:27\n",
      "KnowledgeTag 55401 5653 2020-03-10 03:59:27 5620 2020-03-10 03:59:27\n",
      "KnowledgeTag 55554 607 2020-04-07 04:32:08 608 2020-04-07 04:32:08\n",
      "KnowledgeTag 55555 608 2020-04-07 04:32:08 607 2020-04-07 04:32:08\n",
      "KnowledgeTag 55999 5654 2020-07-23 05:57:26 5783 2020-07-23 05:57:26\n",
      "KnowledgeTag 56000 5783 2020-07-23 05:57:26 5654 2020-07-23 05:57:26\n",
      "KnowledgeTag 56052 5809 2020-07-31 05:01:08 9165 2020-07-31 05:01:08\n",
      "KnowledgeTag 56053 9165 2020-07-31 05:01:08 5809 2020-07-31 05:01:08\n",
      "KnowledgeTag 57688 972 2020-07-30 04:44:56 9743 2020-07-30 04:44:56\n",
      "KnowledgeTag 57689 9743 2020-07-30 04:44:56 972 2020-07-30 04:44:56\n",
      "KnowledgeTag 59679 9055 2020-11-26 07:37:17 9062 2020-11-26 07:37:17\n",
      "KnowledgeTag 59680 9062 2020-11-26 07:37:17 9055 2020-11-26 07:37:17\n",
      "KnowledgeTag 60817 4784 2020-07-20 03:47:00 4795 2020-07-20 03:47:00\n",
      "KnowledgeTag 60818 4795 2020-07-20 03:47:00 4784 2020-07-20 03:47:00\n",
      "KnowledgeTag 60819 4784 2020-07-20 03:47:01 4795 2020-07-20 03:47:01\n",
      "KnowledgeTag 60820 4795 2020-07-20 03:47:01 4784 2020-07-20 03:47:01\n",
      "KnowledgeTag 60824 2852 2020-07-24 01:45:35 4803 2020-07-24 01:45:35\n",
      "KnowledgeTag 60825 4803 2020-07-24 01:45:35 2852 2020-07-24 01:45:35\n",
      "KnowledgeTag 63724 162 2020-03-25 05:14:33 5619 2020-03-25 05:14:33\n",
      "KnowledgeTag 63725 5619 2020-03-25 05:14:33 162 2020-03-25 05:14:33\n",
      "KnowledgeTag 63828 164 2020-05-13 04:30:11 5656 2020-05-13 04:30:11\n",
      "KnowledgeTag 63829 5656 2020-05-13 04:30:11 164 2020-05-13 04:30:11\n",
      "KnowledgeTag 64103 1260 2020-08-12 02:10:21 1262 2020-08-12 02:10:21\n",
      "KnowledgeTag 64104 1262 2020-08-12 02:10:21 1260 2020-08-12 02:10:21\n",
      "KnowledgeTag 64220 1273 2020-08-28 08:55:07 6826 2020-08-28 08:55:07\n",
      "KnowledgeTag 64221 6826 2020-08-28 08:55:07 1273 2020-08-28 08:55:07\n",
      "KnowledgeTag 64701 4784 2020-03-21 19:55:50 4795 2020-03-21 19:55:50\n",
      "KnowledgeTag 64702 4795 2020-03-21 19:55:50 4784 2020-03-21 19:55:50\n",
      "KnowledgeTag 64899 4681 2020-04-26 19:18:29 4682 2020-04-26 19:18:29\n",
      "KnowledgeTag 64900 4682 2020-04-26 19:18:29 4681 2020-04-26 19:18:29\n",
      "KnowledgeTag 64936 4680 2020-05-12 22:10:25 4685 2020-05-12 22:10:25\n",
      "KnowledgeTag 64937 4685 2020-05-12 22:10:25 4680 2020-05-12 22:10:25\n",
      "KnowledgeTag 65124 4967 2020-07-05 20:40:21 4969 2020-07-05 20:40:21\n",
      "KnowledgeTag 65125 4969 2020-07-05 20:40:21 4967 2020-07-05 20:40:21\n",
      "KnowledgeTag 65637 1201 2020-11-15 23:45:56 1202 2020-11-15 23:45:56\n",
      "KnowledgeTag 65638 1202 2020-11-15 23:45:56 1201 2020-11-15 23:45:56\n",
      "KnowledgeTag 66228 2610 2020-10-31 02:09:07 2611 2020-10-31 02:09:07\n",
      "KnowledgeTag 66229 2611 2020-10-31 02:09:07 2610 2020-10-31 02:09:07\n",
      "KnowledgeTag 66248 2648 2020-11-12 01:41:29 10196 2020-11-12 01:41:29\n",
      "KnowledgeTag 66249 10196 2020-11-12 01:41:29 2648 2020-11-12 01:41:29\n",
      "KnowledgeTag 66809 8880 2020-08-27 07:28:37 8885 2020-08-27 07:28:37\n",
      "KnowledgeTag 66810 8885 2020-08-27 07:28:37 8880 2020-08-27 07:28:37\n",
      "KnowledgeTag 68533 8885 2020-08-29 05:40:38 10819 2020-08-29 05:40:38\n",
      "KnowledgeTag 68534 10819 2020-08-29 05:40:38 8885 2020-08-29 05:40:38\n",
      "KnowledgeTag 71022 7248 2020-04-14 16:30:59 8896 2020-04-14 16:30:59\n",
      "KnowledgeTag 71023 8896 2020-04-14 16:30:59 7248 2020-04-14 16:30:59\n",
      "KnowledgeTag 73299 8872 2020-12-25 02:09:21 8893 2020-12-25 02:09:21\n",
      "KnowledgeTag 73300 8893 2020-12-25 02:09:21 8872 2020-12-25 02:09:21\n",
      "KnowledgeTag 76125 8893 2020-09-03 05:42:52 8897 2020-09-03 05:42:52\n",
      "KnowledgeTag 76126 8897 2020-09-03 05:42:52 8893 2020-09-03 05:42:52\n",
      "KnowledgeTag 76205 8901 2020-09-19 21:16:05 8902 2020-09-19 21:16:05\n",
      "KnowledgeTag 76206 8902 2020-09-19 21:16:05 8901 2020-09-19 21:16:05\n",
      "KnowledgeTag 78228 1255 2020-04-21 19:18:04 5780 2020-04-21 19:18:04\n",
      "KnowledgeTag 78229 5780 2020-04-21 19:18:04 1255 2020-04-21 19:18:04\n",
      "KnowledgeTag 78251 1256 2020-05-07 17:07:58 8830 2020-05-07 17:07:58\n",
      "KnowledgeTag 78252 8830 2020-05-07 17:07:58 1256 2020-05-07 17:07:58\n",
      "KnowledgeTag 78282 1257 2020-05-19 02:46:09 8831 2020-05-19 02:46:09\n",
      "KnowledgeTag 78283 8831 2020-05-19 02:46:09 1257 2020-05-19 02:46:09\n",
      "KnowledgeTag 78300 5809 2020-05-26 00:43:18 5810 2020-05-26 00:43:18\n",
      "KnowledgeTag 78301 5810 2020-05-26 00:43:18 5809 2020-05-26 00:43:18\n",
      "KnowledgeTag 78309 5810 2020-05-28 00:18:06 9161 2020-05-28 00:18:06\n",
      "KnowledgeTag 78310 9161 2020-05-28 00:18:06 5810 2020-05-28 00:18:06\n",
      "KnowledgeTag 78315 1260 2020-06-01 23:10:10 6785 2020-06-01 23:10:10\n",
      "KnowledgeTag 78316 6785 2020-06-01 23:10:10 1260 2020-06-01 23:10:10\n",
      "KnowledgeTag 78321 1261 2020-06-01 23:22:06 6784 2020-06-01 23:22:06\n",
      "KnowledgeTag 78322 6784 2020-06-01 23:22:06 1261 2020-06-01 23:22:06\n",
      "KnowledgeTag 78508 1269 2020-07-16 19:55:56 6826 2020-07-16 19:55:56\n",
      "KnowledgeTag 78509 6826 2020-07-16 19:55:56 1269 2020-07-16 19:55:56\n",
      "KnowledgeTag 78550 1273 2020-07-31 00:17:32 6828 2020-07-31 00:17:32\n",
      "KnowledgeTag 78551 6828 2020-07-31 00:17:32 1273 2020-07-31 00:17:32\n",
      "KnowledgeTag 78624 8872 2020-08-19 23:46:09 8893 2020-08-19 23:46:09\n",
      "KnowledgeTag 78625 8893 2020-08-19 23:46:09 8872 2020-08-19 23:46:09\n",
      "KnowledgeTag 78646 8878 2020-08-22 00:15:25 10819 2020-08-22 00:15:25\n",
      "KnowledgeTag 78647 10819 2020-08-22 00:15:25 8878 2020-08-22 00:15:25\n",
      "KnowledgeTag 78685 8887 2020-08-28 03:55:30 8891 2020-08-28 03:55:30\n",
      "KnowledgeTag 78686 8891 2020-08-28 03:55:30 8887 2020-08-28 03:55:30\n",
      "KnowledgeTag 80539 9075 2020-10-21 23:36:35 9086 2020-10-21 23:36:35\n",
      "KnowledgeTag 80540 9086 2020-10-21 23:36:35 9075 2020-10-21 23:36:35\n",
      "KnowledgeTag 83144 9184 2020-08-21 04:03:12 9186 2020-08-21 04:03:12\n",
      "KnowledgeTag 83145 9186 2020-08-21 04:03:12 9184 2020-08-21 04:03:12\n",
      "KnowledgeTag 84612 31 2020-08-11 22:35:05 32 2020-08-11 22:35:05\n",
      "KnowledgeTag 84613 32 2020-08-11 22:35:05 31 2020-08-11 22:35:05\n",
      "KnowledgeTag 86439 4976 2020-08-17 03:08:40 8794 2020-08-17 03:08:40\n",
      "KnowledgeTag 86440 8794 2020-08-17 03:08:40 4976 2020-08-17 03:08:40\n",
      "KnowledgeTag 90526 8881 2020-10-23 03:29:25 8901 2020-10-23 03:29:25\n",
      "KnowledgeTag 90527 8901 2020-10-23 03:29:25 8881 2020-10-23 03:29:25\n",
      "KnowledgeTag 97363 2717 2020-11-04 07:05:11 2718 2020-11-04 07:05:11\n",
      "KnowledgeTag 97364 2718 2020-11-04 07:05:11 2717 2020-11-04 07:05:11\n",
      "KnowledgeTag 100447 1396 2020-05-26 11:45:18 4604 2020-05-26 11:45:18\n",
      "KnowledgeTag 100448 4604 2020-05-26 11:45:18 1396 2020-05-26 11:45:18\n",
      "KnowledgeTag 100920 31 2020-08-20 06:15:03 32 2020-08-20 06:15:03\n",
      "KnowledgeTag 100921 32 2020-08-20 06:15:03 31 2020-08-20 06:15:03\n",
      "KnowledgeTag 106937 9071 2020-11-19 01:39:41 9098 2020-11-19 01:39:41\n",
      "KnowledgeTag 106938 9098 2020-11-19 01:39:41 9071 2020-11-19 01:39:41\n",
      "KnowledgeTag 107282 3806 2020-07-25 00:55:12 4746 2020-07-25 00:55:12\n",
      "KnowledgeTag 107283 4746 2020-07-25 00:55:12 3806 2020-07-25 00:55:12\n",
      "KnowledgeTag 107305 3795 2020-08-03 07:27:27 3821 2020-08-03 07:27:27\n",
      "KnowledgeTag 107306 3821 2020-08-03 07:27:27 3795 2020-08-03 07:27:27\n",
      "KnowledgeTag 107472 1255 2020-08-14 04:36:28 5780 2020-08-14 04:36:28\n",
      "KnowledgeTag 107473 5780 2020-08-14 04:36:28 1255 2020-08-14 04:36:28\n",
      "KnowledgeTag 107566 5809 2020-08-21 08:13:38 5810 2020-08-21 08:13:38\n",
      "KnowledgeTag 107567 5810 2020-08-21 08:13:38 5809 2020-08-21 08:13:38\n",
      "KnowledgeTag 107603 5810 2020-08-28 03:52:56 9161 2020-08-28 03:52:56\n",
      "KnowledgeTag 107604 9161 2020-08-28 03:52:56 5810 2020-08-28 03:52:56\n",
      "KnowledgeTag 111465 1255 2020-08-04 04:06:31 5780 2020-08-04 04:06:31\n",
      "KnowledgeTag 111466 5780 2020-08-04 04:06:31 1255 2020-08-04 04:06:31\n",
      "KnowledgeTag 111474 5619 2020-08-04 04:18:19 5783 2020-08-04 04:18:19\n",
      "KnowledgeTag 111475 5783 2020-08-04 04:18:19 5619 2020-08-04 04:18:19\n",
      "KnowledgeTag 111907 9075 2020-10-13 03:29:29 9077 2020-10-13 03:29:29\n",
      "KnowledgeTag 111908 9077 2020-10-13 03:29:29 9075 2020-10-13 03:29:29\n",
      "KnowledgeTag 113452 1255 2020-02-28 21:09:56 5780 2020-02-28 21:09:56\n",
      "KnowledgeTag 113453 5780 2020-02-28 21:09:56 1255 2020-02-28 21:09:56\n",
      "KnowledgeTag 113652 4723 2020-04-29 00:05:04 10741 2020-04-29 00:05:04\n",
      "KnowledgeTag 113653 10741 2020-04-29 00:05:04 4723 2020-04-29 00:05:04\n",
      "KnowledgeTag 113781 972 2020-05-27 00:45:18 9743 2020-05-27 00:45:18\n",
      "KnowledgeTag 113782 9743 2020-05-27 00:45:18 972 2020-05-27 00:45:18\n",
      "KnowledgeTag 113797 1264 2020-05-29 04:25:48 9170 2020-05-29 04:25:48\n",
      "KnowledgeTag 113798 9170 2020-05-29 04:25:48 1264 2020-05-29 04:25:48\n",
      "KnowledgeTag 113923 1002 2020-07-01 02:16:10 10181 2020-07-01 02:16:10\n",
      "KnowledgeTag 113924 10181 2020-07-01 02:16:10 1002 2020-07-01 02:16:10\n",
      "KnowledgeTag 114106 2598 2020-09-08 06:51:13 2600 2020-09-08 06:51:13\n",
      "KnowledgeTag 114107 2600 2020-09-08 06:51:13 2598 2020-09-08 06:51:13\n",
      "KnowledgeTag 120303 8879 2020-09-02 08:02:37 8881 2020-09-02 08:02:37\n",
      "KnowledgeTag 120304 8881 2020-09-02 08:02:37 8879 2020-09-02 08:02:37\n",
      "KnowledgeTag 120316 8890 2020-09-04 08:25:45 8891 2020-09-04 08:25:45\n",
      "KnowledgeTag 120317 8891 2020-09-04 08:25:45 8890 2020-09-04 08:25:45\n",
      "KnowledgeTag 120715 1395 2020-04-20 02:27:35 4604 2020-04-20 02:27:35\n",
      "KnowledgeTag 120716 4604 2020-04-20 02:27:35 1395 2020-04-20 02:27:35\n",
      "KnowledgeTag 120723 1444 2020-04-21 01:49:26 4661 2020-04-21 01:49:26\n",
      "KnowledgeTag 120724 4661 2020-04-21 01:49:26 1444 2020-04-21 01:49:26\n",
      "KnowledgeTag 120752 4661 2020-05-04 01:07:18 4664 2020-05-04 01:07:18\n",
      "KnowledgeTag 120753 4664 2020-05-04 01:07:18 4661 2020-05-04 01:07:18\n",
      "KnowledgeTag 120962 4784 2020-07-02 04:54:11 4795 2020-07-02 04:54:11\n",
      "KnowledgeTag 120963 4795 2020-07-02 04:54:11 4784 2020-07-02 04:54:11\n",
      "KnowledgeTag 120991 4793 2020-07-10 21:48:45 4797 2020-07-10 21:48:45\n",
      "KnowledgeTag 120992 4797 2020-07-10 21:48:45 4793 2020-07-10 21:48:45\n",
      "KnowledgeTag 121105 26 2020-08-23 10:14:58 10568 2020-08-23 10:14:58\n",
      "KnowledgeTag 121106 10568 2020-08-23 10:14:58 26 2020-08-23 10:14:58\n",
      "KnowledgeTag 121111 31 2020-08-23 11:01:13 32 2020-08-23 11:01:13\n",
      "KnowledgeTag 121112 32 2020-08-23 11:01:13 31 2020-08-23 11:01:13\n",
      "KnowledgeTag 121159 1110 2020-08-30 00:52:15 7118 2020-08-30 00:52:15\n",
      "KnowledgeTag 121160 7118 2020-08-30 00:52:15 1110 2020-08-30 00:52:15\n",
      "KnowledgeTag 121181 1120 2020-09-01 03:20:57 7120 2020-09-01 03:20:57\n",
      "KnowledgeTag 121182 7120 2020-09-01 03:20:57 1120 2020-09-01 03:20:57\n",
      "KnowledgeTag 126788 972 2020-04-18 09:29:30 9743 2020-04-18 09:29:30\n",
      "KnowledgeTag 126789 9743 2020-04-18 09:29:30 972 2020-04-18 09:29:30\n",
      "KnowledgeTag 134120 1395 2020-02-26 22:34:26 4604 2020-02-26 22:34:26\n",
      "KnowledgeTag 134121 4604 2020-02-26 22:34:26 1395 2020-02-26 22:34:26\n",
      "KnowledgeTag 134204 4679 2020-04-04 02:25:57 4682 2020-04-04 02:25:57\n",
      "KnowledgeTag 134205 4682 2020-04-04 02:25:57 4679 2020-04-04 02:25:57\n",
      "KnowledgeTag 134316 4961 2020-06-02 20:43:55 4962 2020-06-02 20:43:55\n",
      "KnowledgeTag 134317 4962 2020-06-02 20:43:55 4961 2020-06-02 20:43:55\n",
      "KnowledgeTag 135463 5810 2020-07-26 03:01:18 9161 2020-07-26 03:01:18\n",
      "KnowledgeTag 135464 9161 2020-07-26 03:01:18 5810 2020-07-26 03:01:18\n",
      "KnowledgeTag 135472 1260 2020-08-01 03:05:17 6795 2020-08-01 03:05:17\n",
      "KnowledgeTag 135473 6795 2020-08-01 03:05:17 1260 2020-08-01 03:05:17\n",
      "KnowledgeTag 135526 1257 2020-09-12 08:24:14 8831 2020-09-12 08:24:14\n",
      "KnowledgeTag 135527 8831 2020-09-12 08:24:14 1257 2020-09-12 08:24:14\n",
      "KnowledgeTag 135535 9184 2020-09-19 19:50:11 9186 2020-09-19 19:50:11\n",
      "KnowledgeTag 135536 9186 2020-09-19 19:50:11 9184 2020-09-19 19:50:11\n",
      "KnowledgeTag 138177 974 2020-04-12 21:23:02 10169 2020-04-12 21:23:02\n",
      "KnowledgeTag 138178 10169 2020-04-12 21:23:02 974 2020-04-12 21:23:02\n",
      "KnowledgeTag 139811 2600 2020-09-14 04:41:32 2601 2020-09-14 04:41:32\n",
      "KnowledgeTag 139812 2601 2020-09-14 04:41:32 2600 2020-09-14 04:41:32\n",
      "KnowledgeTag 141019 4697 2020-05-04 08:20:19 4725 2020-05-04 08:20:19\n",
      "KnowledgeTag 141020 4725 2020-05-04 08:20:19 4697 2020-05-04 08:20:19\n",
      "KnowledgeTag 141096 972 2020-05-26 02:56:48 10778 2020-05-26 02:56:48\n",
      "KnowledgeTag 141097 10778 2020-05-26 02:56:48 972 2020-05-26 02:56:48\n",
      "KnowledgeTag 142189 1444 2020-03-19 23:36:15 4661 2020-03-19 23:36:15\n",
      "KnowledgeTag 142190 4661 2020-03-19 23:36:15 1444 2020-03-19 23:36:15\n",
      "KnowledgeTag 149513 4699 2020-02-22 01:32:04 4709 2020-02-22 01:32:04\n",
      "KnowledgeTag 149514 4709 2020-02-22 01:32:04 4699 2020-02-22 01:32:04\n",
      "KnowledgeTag 149543 5261 2020-03-05 03:51:39 9728 2020-03-05 03:51:39\n",
      "KnowledgeTag 149544 9728 2020-03-05 03:51:39 5261 2020-03-05 03:51:39\n",
      "KnowledgeTag 149687 9832 2020-06-13 06:07:15 10182 2020-06-13 06:07:15\n",
      "KnowledgeTag 149688 10182 2020-06-13 06:07:15 9832 2020-06-13 06:07:15\n",
      "KnowledgeTag 149720 1011 2020-06-21 02:00:02 10180 2020-06-21 02:00:02\n",
      "KnowledgeTag 149721 10180 2020-06-21 02:00:02 1011 2020-06-21 02:00:02\n",
      "KnowledgeTag 149756 10759 2020-06-26 05:31:06 10760 2020-06-26 05:31:06\n",
      "KnowledgeTag 149757 10760 2020-06-26 05:31:06 10759 2020-06-26 05:31:06\n",
      "KnowledgeTag 150450 1260 2020-07-29 06:55:08 6796 2020-07-29 06:55:08\n",
      "KnowledgeTag 150451 6796 2020-07-29 06:55:08 1260 2020-07-29 06:55:08\n",
      "KnowledgeTag 150915 8880 2020-10-24 00:03:50 8885 2020-10-24 00:03:50\n",
      "KnowledgeTag 150916 8885 2020-10-24 00:03:50 8880 2020-10-24 00:03:50\n",
      "KnowledgeTag 152264 1356 2020-01-01 06:06:08 1396 2020-01-01 06:06:08\n",
      "KnowledgeTag 152265 1396 2020-01-01 06:06:08 1356 2020-01-01 06:06:08\n",
      "KnowledgeTag 155651 975 2020-06-06 17:52:53 9787 2020-06-06 17:52:53\n",
      "KnowledgeTag 155652 9787 2020-06-06 17:52:53 975 2020-06-06 17:52:53\n",
      "KnowledgeTag 156995 6826 2020-08-27 00:16:31 9184 2020-08-27 00:16:31\n",
      "KnowledgeTag 156996 9184 2020-08-27 00:16:31 6826 2020-08-27 00:16:31\n",
      "KnowledgeTag 157026 6826 2020-09-03 00:55:08 9186 2020-09-03 00:55:08\n",
      "KnowledgeTag 157027 9186 2020-09-03 00:55:08 6826 2020-09-03 00:55:08\n",
      "KnowledgeTag 160166 4709 2020-06-17 06:33:26 4723 2020-06-17 06:33:26\n",
      "KnowledgeTag 160167 4723 2020-06-17 06:33:26 4709 2020-06-17 06:33:26\n",
      "KnowledgeTag 160283 975 2020-07-15 07:37:32 4232 2020-07-15 07:37:32\n",
      "KnowledgeTag 160284 4232 2020-07-15 07:37:32 975 2020-07-15 07:37:32\n",
      "KnowledgeTag 163510 10169 2020-05-08 04:43:29 10590 2020-05-08 04:43:29\n",
      "KnowledgeTag 163511 10590 2020-05-08 04:43:29 10169 2020-05-08 04:43:29\n",
      "KnowledgeTag 165058 117 2020-02-22 01:31:59 3795 2020-02-22 01:31:59\n",
      "KnowledgeTag 165059 3795 2020-02-22 01:31:59 117 2020-02-22 01:31:59\n",
      "KnowledgeTag 166926 2652 2020-07-10 22:02:37 4680 2020-07-10 22:02:37\n",
      "KnowledgeTag 166927 4680 2020-07-10 22:02:37 2652 2020-07-10 22:02:37\n",
      "KnowledgeTag 167003 31 2020-09-08 23:56:04 32 2020-09-08 23:56:04\n",
      "KnowledgeTag 167004 32 2020-09-08 23:56:04 31 2020-09-08 23:56:04\n",
      "KnowledgeTag 167779 3795 2020-03-23 03:18:27 3820 2020-03-23 03:18:27\n",
      "KnowledgeTag 167780 3820 2020-03-23 03:18:27 3795 2020-03-23 03:18:27\n",
      "KnowledgeTag 167851 5619 2020-04-10 09:36:10 5656 2020-04-10 09:36:10\n",
      "KnowledgeTag 167852 5656 2020-04-10 09:36:10 5619 2020-04-10 09:36:10\n",
      "KnowledgeTag 168890 9125 2020-12-28 18:54:59 9126 2020-12-28 18:54:59\n",
      "KnowledgeTag 168891 9126 2020-12-28 18:54:59 9125 2020-12-28 18:54:59\n",
      "KnowledgeTag 170210 9046 2020-11-09 03:01:53 9053 2020-11-09 03:01:53\n",
      "KnowledgeTag 170211 9053 2020-11-09 03:01:53 9046 2020-11-09 03:01:53\n",
      "KnowledgeTag 170817 2603 2020-09-23 23:49:45 2604 2020-09-23 23:49:45\n",
      "KnowledgeTag 170818 2604 2020-09-23 23:49:45 2603 2020-09-23 23:49:45\n",
      "KnowledgeTag 172906 972 2020-04-30 21:30:01 9743 2020-04-30 21:30:01\n",
      "KnowledgeTag 172907 9743 2020-04-30 21:30:01 972 2020-04-30 21:30:01\n",
      "KnowledgeTag 172928 9787 2020-05-06 22:38:32 9829 2020-05-06 22:38:32\n",
      "KnowledgeTag 172929 9829 2020-05-06 22:38:32 9787 2020-05-06 22:38:32\n",
      "KnowledgeTag 172958 9832 2020-05-20 23:31:13 10182 2020-05-20 23:31:13\n",
      "KnowledgeTag 172959 10182 2020-05-20 23:31:13 9832 2020-05-20 23:31:13\n",
      "KnowledgeTag 173839 6826 2020-08-25 00:24:58 9186 2020-08-25 00:24:58\n",
      "KnowledgeTag 173840 9186 2020-08-25 00:24:58 6826 2020-08-25 00:24:58\n",
      "KnowledgeTag 173903 8893 2020-12-15 23:59:39 8897 2020-12-15 23:59:39\n",
      "KnowledgeTag 173904 8897 2020-12-15 23:59:39 8893 2020-12-15 23:59:39\n",
      "KnowledgeTag 173911 7248 2020-12-18 00:05:24 8896 2020-12-18 00:05:24\n",
      "KnowledgeTag 173912 8896 2020-12-18 00:05:24 7248 2020-12-18 00:05:24\n",
      "KnowledgeTag 175025 2719 2020-12-09 05:25:04 2721 2020-12-09 05:25:04\n",
      "KnowledgeTag 175026 2721 2020-12-09 05:25:04 2719 2020-12-09 05:25:04\n",
      "KnowledgeTag 176392 116 2020-02-15 01:22:04 3793 2020-02-15 01:22:04\n",
      "KnowledgeTag 176393 3793 2020-02-15 01:22:04 116 2020-02-15 01:22:04\n",
      "KnowledgeTag 176416 1396 2020-03-13 02:20:49 4604 2020-03-13 02:20:49\n",
      "KnowledgeTag 176417 4604 2020-03-13 02:20:49 1396 2020-03-13 02:20:49\n",
      "KnowledgeTag 176448 4665 2020-04-10 00:34:04 4673 2020-04-10 00:34:04\n",
      "KnowledgeTag 176449 4673 2020-04-10 00:34:04 4665 2020-04-10 00:34:04\n",
      "KnowledgeTag 176462 4680 2020-04-23 21:08:44 4681 2020-04-23 21:08:44\n",
      "KnowledgeTag 176463 4681 2020-04-23 21:08:44 4680 2020-04-23 21:08:44\n",
      "KnowledgeTag 179407 5809 2020-07-21 22:49:49 9165 2020-07-21 22:49:49\n",
      "KnowledgeTag 179408 9165 2020-07-21 22:49:49 5809 2020-07-21 22:49:49\n",
      "KnowledgeTag 180294 7259 2020-07-14 06:32:51 8894 2020-07-14 06:32:51\n",
      "KnowledgeTag 180295 8894 2020-07-14 06:32:51 7259 2020-07-14 06:32:51\n",
      "KnowledgeTag 184407 5261 2020-03-26 17:20:30 9728 2020-03-26 17:20:30\n",
      "KnowledgeTag 184408 9728 2020-03-26 17:20:30 5261 2020-03-26 17:20:30\n",
      "KnowledgeTag 184471 10181 2020-04-15 22:51:42 10607 2020-04-15 22:51:42\n",
      "KnowledgeTag 184472 10607 2020-04-15 22:51:42 10181 2020-04-15 22:51:42\n",
      "KnowledgeTag 184625 342 2020-01-28 10:34:32 346 2020-01-28 10:34:32\n",
      "KnowledgeTag 184626 346 2020-01-28 10:34:32 342 2020-01-28 10:34:32\n",
      "KnowledgeTag 184915 4979 2020-10-18 09:42:26 4980 2020-10-18 09:42:26\n",
      "KnowledgeTag 184916 4980 2020-10-18 09:42:26 4979 2020-10-18 09:42:26\n",
      "KnowledgeTag 188456 4236 2020-07-28 23:58:45 10764 2020-07-28 23:58:45\n",
      "KnowledgeTag 188457 10764 2020-07-28 23:58:45 4236 2020-07-28 23:58:45\n",
      "KnowledgeTag 189797 6826 2020-07-28 23:22:07 9186 2020-07-28 23:22:07\n",
      "KnowledgeTag 189798 9186 2020-07-28 23:22:07 6826 2020-07-28 23:22:07\n",
      "KnowledgeTag 191465 2715 2020-10-27 05:11:31 2717 2020-10-27 05:11:31\n",
      "KnowledgeTag 191466 2717 2020-10-27 05:11:31 2715 2020-10-27 05:11:31\n",
      "KnowledgeTag 194396 9067 2020-11-27 07:15:56 9068 2020-11-27 07:15:56\n",
      "KnowledgeTag 194397 9068 2020-11-27 07:15:56 9067 2020-11-27 07:15:56\n",
      "KnowledgeTag 194935 6796 2020-06-02 22:51:08 9166 2020-06-02 22:51:08\n",
      "KnowledgeTag 194936 9166 2020-06-02 22:51:08 6796 2020-06-02 22:51:08\n",
      "KnowledgeTag 195962 4784 2020-05-14 04:25:07 4795 2020-05-14 04:25:07\n",
      "KnowledgeTag 195963 4795 2020-05-14 04:25:07 4784 2020-05-14 04:25:07\n",
      "KnowledgeTag 196347 4784 2020-09-17 05:08:26 4797 2020-09-17 05:08:26\n",
      "KnowledgeTag 196348 4797 2020-09-17 05:08:26 4784 2020-09-17 05:08:26\n",
      "KnowledgeTag 201052 3288 2020-12-19 01:02:45 7862 2020-12-19 01:02:45\n",
      "KnowledgeTag 201053 7862 2020-12-19 01:02:45 3288 2020-12-19 01:02:45\n",
      "KnowledgeTag 201632 1443 2020-02-29 21:00:02 1444 2020-02-29 21:00:02\n",
      "KnowledgeTag 201633 1444 2020-02-29 21:00:02 1443 2020-02-29 21:00:02\n",
      "KnowledgeTag 207104 4209 2020-03-10 22:15:26 4725 2020-03-10 22:15:26\n",
      "KnowledgeTag 207105 4725 2020-03-10 22:15:26 4209 2020-03-10 22:15:26\n",
      "KnowledgeTag 207283 972 2020-06-11 09:16:04 9743 2020-06-11 09:16:04\n",
      "KnowledgeTag 207284 9743 2020-06-11 09:16:04 972 2020-06-11 09:16:04\n",
      "KnowledgeTag 211199 9660 2020-10-31 02:49:09 9661 2020-10-31 02:49:09\n",
      "KnowledgeTag 211200 9661 2020-10-31 02:49:09 9660 2020-10-31 02:49:09\n",
      "KnowledgeTag 211289 9075 2020-12-12 01:54:51 9086 2020-12-12 01:54:51\n",
      "KnowledgeTag 211290 9086 2020-12-12 01:54:51 9075 2020-12-12 01:54:51\n",
      "KnowledgeTag 213653 8894 2020-06-21 22:53:56 8895 2020-06-21 22:53:56\n",
      "KnowledgeTag 213654 8895 2020-06-21 22:53:56 8894 2020-06-21 22:53:56\n",
      "KnowledgeTag 215876 1002 2020-06-26 02:55:33 10181 2020-06-26 02:55:33\n",
      "KnowledgeTag 215877 10181 2020-06-26 02:55:33 1002 2020-06-26 02:55:33\n",
      "KnowledgeTag 216503 164 2020-05-25 15:56:05 5620 2020-05-25 15:56:05\n",
      "KnowledgeTag 216504 5620 2020-05-25 15:56:05 164 2020-05-25 15:56:05\n",
      "KnowledgeTag 218003 4665 2020-03-18 05:43:30 4673 2020-03-18 05:43:30\n",
      "KnowledgeTag 218004 4673 2020-03-18 05:43:30 4665 2020-03-18 05:43:30\n",
      "KnowledgeTag 220104 1108 2020-09-23 02:56:56 4498 2020-09-23 02:56:56\n",
      "KnowledgeTag 220105 4498 2020-09-23 02:56:56 1108 2020-09-23 02:56:56\n",
      "KnowledgeTag 223366 4665 2020-03-21 23:00:36 4669 2020-03-21 23:00:36\n",
      "KnowledgeTag 223367 4669 2020-03-21 23:00:36 4665 2020-03-21 23:00:36\n",
      "KnowledgeTag 223376 4678 2020-03-26 19:10:16 4682 2020-03-26 19:10:16\n",
      "KnowledgeTag 223377 4682 2020-03-26 19:10:16 4678 2020-03-26 19:10:16\n",
      "KnowledgeTag 223379 4680 2020-03-26 19:10:22 4681 2020-03-26 19:10:22\n",
      "KnowledgeTag 223380 4681 2020-03-26 19:10:22 4680 2020-03-26 19:10:22\n",
      "KnowledgeTag 223418 4783 2020-04-20 06:29:22 4801 2020-04-20 06:29:22\n",
      "KnowledgeTag 223419 4801 2020-04-20 06:29:22 4783 2020-04-20 06:29:22\n",
      "KnowledgeTag 223554 4961 2020-08-05 02:09:39 4965 2020-08-05 02:09:39\n",
      "KnowledgeTag 223555 4965 2020-08-05 02:09:39 4961 2020-08-05 02:09:39\n",
      "KnowledgeTag 224337 8878 2020-11-27 05:41:22 10819 2020-11-27 05:41:22\n",
      "KnowledgeTag 224338 10819 2020-11-27 05:41:22 8878 2020-11-27 05:41:22\n",
      "KnowledgeTag 227778 4687 2020-05-10 01:50:09 4804 2020-05-10 01:50:09\n",
      "KnowledgeTag 227779 4804 2020-05-10 01:50:09 4687 2020-05-10 01:50:09\n",
      "KnowledgeTag 227814 4800 2020-06-10 03:05:02 4801 2020-06-10 03:05:02\n",
      "KnowledgeTag 227815 4801 2020-06-10 03:05:02 4800 2020-06-10 03:05:02\n",
      "KnowledgeTag 227967 1108 2020-09-16 02:45:05 4498 2020-09-16 02:45:05\n",
      "KnowledgeTag 227968 4498 2020-09-16 02:45:05 1108 2020-09-16 02:45:05\n",
      "KnowledgeTag 229271 1444 2020-03-25 01:04:05 4663 2020-03-25 01:04:05\n",
      "KnowledgeTag 229272 4663 2020-03-25 01:04:05 1444 2020-03-25 01:04:05\n",
      "KnowledgeTag 229304 4680 2020-05-04 08:09:37 4685 2020-05-04 08:09:37\n",
      "KnowledgeTag 229305 4685 2020-05-04 08:09:37 4680 2020-05-04 08:09:37\n",
      "KnowledgeTag 229721 23 2020-10-09 19:06:42 3097 2020-10-09 19:06:42\n",
      "KnowledgeTag 229722 3097 2020-10-09 19:06:42 23 2020-10-09 19:06:42\n",
      "KnowledgeTag 232435 1260 2020-08-17 23:10:38 1262 2020-08-17 23:10:38\n",
      "KnowledgeTag 232436 1262 2020-08-17 23:10:38 1260 2020-08-17 23:10:38\n",
      "KnowledgeTag 235553 8881 2020-09-10 19:56:12 8901 2020-09-10 19:56:12\n",
      "KnowledgeTag 235554 8901 2020-09-10 19:56:12 8881 2020-09-10 19:56:12\n",
      "KnowledgeTag 238864 4680 2020-05-06 23:41:27 4681 2020-05-06 23:41:27\n",
      "KnowledgeTag 238865 4681 2020-05-06 23:41:27 4680 2020-05-06 23:41:27\n",
      "KnowledgeTag 238936 2853 2020-07-02 05:09:15 4803 2020-07-02 05:09:15\n",
      "KnowledgeTag 238937 4803 2020-07-02 05:09:15 2853 2020-07-02 05:09:15\n",
      "KnowledgeTag 239062 1107 2020-10-16 04:48:46 4498 2020-10-16 04:48:46\n",
      "KnowledgeTag 239063 4498 2020-10-16 04:48:46 1107 2020-10-16 04:48:46\n",
      "KnowledgeTag 239221 4979 2020-06-06 01:20:49 4980 2020-06-06 01:20:49\n",
      "KnowledgeTag 239222 4980 2020-06-06 01:20:49 4979 2020-06-06 01:20:49\n",
      "KnowledgeTag 239452 23 2020-09-08 09:14:18 3097 2020-09-08 09:14:18\n",
      "KnowledgeTag 239453 3097 2020-09-08 09:14:18 23 2020-09-08 09:14:18\n",
      "KnowledgeTag 241656 9064 2020-10-13 03:18:20 9065 2020-10-13 03:18:20\n",
      "KnowledgeTag 241657 9065 2020-10-13 03:18:20 9064 2020-10-13 03:18:20\n",
      "KnowledgeTag 241710 7866 2020-12-08 03:39:30 9080 2020-12-08 03:39:30\n",
      "KnowledgeTag 241711 9080 2020-12-08 03:39:30 7866 2020-12-08 03:39:30\n",
      "KnowledgeTag 244485 2869 2020-08-26 06:41:02 4972 2020-08-26 06:41:02\n",
      "KnowledgeTag 244486 4972 2020-08-26 06:41:02 2869 2020-08-26 06:41:02\n",
      "KnowledgeTag 248642 5619 2020-12-17 16:40:17 5656 2020-12-17 16:40:17\n",
      "KnowledgeTag 248643 5656 2020-12-17 16:40:17 5619 2020-12-17 16:40:17\n",
      "KnowledgeTag 255371 2723 2020-12-10 02:15:37 2725 2020-12-10 02:15:37\n",
      "KnowledgeTag 255372 2725 2020-12-10 02:15:37 2723 2020-12-10 02:15:37\n",
      "KnowledgeTag 256328 4679 2020-03-19 22:12:09 4680 2020-03-19 22:12:09\n",
      "KnowledgeTag 256329 4680 2020-03-19 22:12:09 4679 2020-03-19 22:12:09\n",
      "KnowledgeTag 258250 4680 2020-06-13 07:54:27 4685 2020-06-13 07:54:27\n",
      "KnowledgeTag 258251 4685 2020-06-13 07:54:27 4680 2020-06-13 07:54:27\n",
      "KnowledgeTag 259023 6826 2020-09-01 17:46:52 9186 2020-09-01 17:46:52\n",
      "KnowledgeTag 259024 9186 2020-09-01 17:46:52 6826 2020-09-01 17:46:52\n",
      "259672 260114\n"
     ]
    }
   ],
   "source": [
    "# df[['Timestamp','answerCode','KnowledgeTag']] == test[['Timestamp','answerCode','KnowledgeTag']]\n",
    "\n",
    "df = df.sort_values(['userID','Timestamp'])\n",
    "count = 0\n",
    "for col in ['userID','Timestamp','answerCode','KnowledgeTag']:\n",
    "    count = 0\n",
    "    for i in range(df.shape[0]):\n",
    "\n",
    "        if df.loc[i, col] == test.loc[i, col]:\n",
    "            count += 1\n",
    "        else:\n",
    "            print(col, i)\n",
    "            print(df.loc[i])\n",
    "            print(test.loc[i])\n",
    "\n",
    "    print(count, df.shape[0])"
   ]
  },
  {
   "cell_type": "code",
   "execution_count": 152,
   "metadata": {},
   "outputs": [
    {
     "name": "stdout",
     "output_type": "stream",
     "text": [
      "KnowledgeTag 260113 8832 8832\n"
     ]
    }
   ],
   "source": [
    "print(col, i, df.loc[i,col], test.loc[i, col])"
   ]
  },
  {
   "cell_type": "code",
   "execution_count": 88,
   "metadata": {},
   "outputs": [],
   "source": [
    "df = df.sort_values(['userID','assessmentItemID'])"
   ]
  },
  {
   "cell_type": "code",
   "execution_count": 89,
   "metadata": {},
   "outputs": [
    {
     "data": {
      "text/plain": [
       "Index([   4,   53,   64,   79,  204,  217,  325,  342,  355,  361,\n",
       "       ...\n",
       "       7146, 7174, 7192, 7202, 7253, 7259, 7288, 7354, 7373, 7417],\n",
       "      dtype='int64', name='userID', length=216)"
      ]
     },
     "execution_count": 89,
     "metadata": {},
     "output_type": "execute_result"
    }
   ],
   "source": [
    "a = (df.groupby('userID').answerCode.last()==-1).values\n",
    "b = (df.groupby('userID').answerCode.last()==-1).index\n",
    "\n",
    "b[a]"
   ]
  },
  {
   "cell_type": "code",
   "execution_count": 80,
   "metadata": {},
   "outputs": [
    {
     "data": {
      "text/plain": [
       "array([   3,    4,   13,   17,   26,   29,   45,   53,   58,   64,   76,\n",
       "         79,   94,  120,  159,  172,  193,  200,  203,  204,  217,  226,\n",
       "        244,  257,  260,  262,  295,  313,  317,  325,  326,  342,  355,\n",
       "        361,  363,  375,  378,  385,  410,  414,  416,  443,  458,  465,\n",
       "        468,  474,  479,  480,  482,  496,  499,  520,  524,  542,  552,\n",
       "        556,  561,  563,  566,  568,  569,  573,  580,  581,  584,  594,\n",
       "        596,  600,  616,  617,  645,  653,  656,  671,  694,  701,  712,\n",
       "        744,  756,  759,  764,  765,  767,  772,  792,  794,  802,  806,\n",
       "        819,  827,  837,  839,  842,  848,  871,  876,  885,  888,  895,\n",
       "        898,  912,  913,  916,  938,  944,  945,  947,  982,  991, 1020,\n",
       "       1022, 1030, 1042, 1044, 1051, 1071, 1072, 1083, 1085, 1100, 1133,\n",
       "       1143, 1148, 1170, 1207, 1208, 1213, 1221, 1252, 1266, 1268, 1273,\n",
       "       1289, 1292, 1295, 1304, 1307, 1310, 1323, 1331, 1332, 1338, 1348,\n",
       "       1352, 1362, 1390, 1401, 1425, 1450, 1462, 1463, 1469, 1503, 1522,\n",
       "       1555, 1557, 1558, 1559, 1569, 1571, 1575, 1582, 1592, 1614, 1628,\n",
       "       1629, 1631, 1634, 1647, 1667, 1673, 1716, 1720, 1721, 1725, 1728,\n",
       "       1735, 1741, 1746, 1750, 1751, 1755, 1763, 1783, 1791, 1796, 1799,\n",
       "       1804, 1805, 1822, 1826, 1828, 1840, 1864, 1866, 1875, 1876, 1885,\n",
       "       1905, 1907, 1924, 1926, 1936, 1939, 1949, 1955, 1961, 1973, 1990,\n",
       "       1998, 2001, 2005, 2006, 2016, 2020, 2030, 2032, 2036, 2044, 2046,\n",
       "       2057, 2059, 2086, 2136, 2139, 2145, 2152, 2157, 2162, 2166, 2169,\n",
       "       2171, 2172, 2174, 2175, 2185, 2187, 2193, 2211, 2231, 2253, 2266,\n",
       "       2276, 2277, 2278, 2281, 2282, 2286, 2308, 2324, 2334, 2336, 2350,\n",
       "       2370, 2401, 2404, 2422, 2430, 2444, 2452, 2457, 2460, 2465, 2478,\n",
       "       2489, 2500, 2519, 2525, 2533, 2542, 2553, 2569, 2571, 2573, 2577,\n",
       "       2584, 2590, 2591, 2639, 2655, 2656, 2672, 2689, 2704, 2706, 2712,\n",
       "       2721, 2732, 2745, 2757, 2769, 2779, 2786, 2787, 2808, 2817, 2831,\n",
       "       2859, 2864, 2876, 2897, 2902, 2910, 2931, 2940, 2962, 2965, 2973,\n",
       "       2983, 2987, 2988, 3024, 3027, 3032, 3059, 3063, 3100, 3104, 3105,\n",
       "       3108, 3112, 3113, 3126, 3133, 3145, 3152, 3155, 3198, 3241, 3242,\n",
       "       3264, 3268, 3271, 3273, 3274, 3285, 3286, 3296, 3298, 3307, 3326,\n",
       "       3329, 3334, 3345, 3367, 3372, 3377, 3395, 3434, 3436, 3444, 3456,\n",
       "       3458, 3462, 3465, 3466, 3469, 3503, 3509, 3520, 3521, 3531, 3533,\n",
       "       3559, 3561, 3572, 3574, 3588, 3589, 3619, 3622, 3630, 3675, 3679,\n",
       "       3698, 3714, 3716, 3727, 3730, 3745, 3754, 3758, 3763, 3770, 3786,\n",
       "       3789, 3809, 3825, 3834, 3855, 3872, 3874, 3876, 3892, 3893, 3905,\n",
       "       3943, 3976, 3978, 3981, 3986, 4002, 4042, 4049, 4089, 4100, 4119,\n",
       "       4139, 4140, 4144, 4154, 4158, 4160, 4173, 4174, 4187, 4189, 4211,\n",
       "       4222, 4239, 4259, 4282, 4322, 4333, 4334, 4344, 4350, 4363, 4375,\n",
       "       4392, 4393, 4398, 4404, 4410, 4415, 4417, 4418, 4428, 4441, 4450,\n",
       "       4464, 4467, 4469, 4488, 4503, 4508, 4519, 4522, 4526, 4532, 4537,\n",
       "       4541, 4543, 4552, 4562, 4586, 4594, 4597, 4598, 4612, 4630, 4646,\n",
       "       4647, 4662, 4666, 4677, 4715, 4720, 4723, 4729, 4742, 4744, 4751,\n",
       "       4756, 4771, 4780, 4781, 4785, 4788, 4819, 4820, 4827, 4837, 4870,\n",
       "       4874, 4881, 4885, 4887, 4906, 4931, 4945, 4954, 4966, 4969, 4988,\n",
       "       4990, 5007, 5010, 5042, 5066, 5072, 5073, 5084, 5088, 5104, 5122,\n",
       "       5140, 5149, 5159, 5169, 5185, 5195, 5196, 5201, 5207, 5219, 5234,\n",
       "       5238, 5242, 5250, 5255, 5266, 5287, 5293, 5308, 5323, 5342, 5353,\n",
       "       5357, 5363, 5369, 5374, 5385, 5397, 5398, 5404, 5406, 5417, 5422,\n",
       "       5434, 5438, 5441, 5447, 5463, 5471, 5480, 5486, 5487, 5490, 5493,\n",
       "       5502, 5511, 5516, 5531, 5534, 5543, 5548, 5566, 5572, 5574, 5584,\n",
       "       5587, 5599, 5608, 5626, 5631, 5633, 5637, 5651, 5660, 5704, 5706,\n",
       "       5711, 5719, 5744, 5745, 5749, 5763, 5771, 5780, 5798, 5806, 5840,\n",
       "       5865, 5867, 5878, 5881, 5884, 5885, 5893, 5895, 5896, 5904, 5915,\n",
       "       5925, 5965, 5968, 5972, 5973, 5977, 5979, 5984, 5995, 6021, 6027,\n",
       "       6028, 6033, 6037, 6067, 6072, 6074, 6078, 6081, 6102, 6119, 6127,\n",
       "       6128, 6139, 6151, 6153, 6159, 6173, 6187, 6191, 6216, 6230, 6241,\n",
       "       6246, 6254, 6273, 6294, 6295, 6296, 6317, 6332, 6335, 6356, 6378,\n",
       "       6390, 6409, 6417, 6423, 6427, 6431, 6436, 6442, 6450, 6488, 6502,\n",
       "       6515, 6521, 6552, 6558, 6571, 6594, 6601, 6606, 6607, 6609, 6611,\n",
       "       6615, 6619, 6630, 6641, 6684, 6689, 6693, 6704, 6721, 6732, 6794,\n",
       "       6813, 6829, 6830, 6833, 6837, 6848, 6894, 6904, 6911, 6931, 6942,\n",
       "       6946, 6952, 6961, 6974, 6985, 6987, 7006, 7012, 7033, 7042, 7050,\n",
       "       7051, 7054, 7056, 7058, 7059, 7060, 7076, 7078, 7080, 7082, 7083,\n",
       "       7098, 7121, 7131, 7137, 7144, 7146, 7163, 7165, 7174, 7179, 7184,\n",
       "       7192, 7193, 7198, 7202, 7216, 7220, 7228, 7234, 7242, 7247, 7248,\n",
       "       7253, 7259, 7288, 7293, 7308, 7354, 7363, 7364, 7368, 7369, 7373,\n",
       "       7382, 7392, 7395, 7404, 7416, 7417, 7439])"
      ]
     },
     "execution_count": 80,
     "metadata": {},
     "output_type": "execute_result"
    }
   ],
   "source": [
    "test.userID.unique()"
   ]
  },
  {
   "cell_type": "code",
   "execution_count": null,
   "metadata": {},
   "outputs": [],
   "source": []
  }
 ],
 "metadata": {
  "kernelspec": {
   "display_name": "Python 3",
   "language": "python",
   "name": "python3"
  },
  "language_info": {
   "codemirror_mode": {
    "name": "ipython",
    "version": 3
   },
   "file_extension": ".py",
   "mimetype": "text/x-python",
   "name": "python",
   "nbconvert_exporter": "python",
   "pygments_lexer": "ipython3",
   "version": "3.10.13"
  },
  "orig_nbformat": 4
 },
 "nbformat": 4,
 "nbformat_minor": 2
}
