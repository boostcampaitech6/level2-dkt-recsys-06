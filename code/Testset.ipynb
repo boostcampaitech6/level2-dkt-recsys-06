{
 "cells": [
  {
   "cell_type": "code",
   "execution_count": 1,
   "metadata": {},
   "outputs": [],
   "source": [
    "import pandas as pd"
   ]
  },
  {
   "cell_type": "code",
   "execution_count": 17,
   "metadata": {},
   "outputs": [],
   "source": [
    "test = pd.read_csv('../data/test_data.csv') # test_data 이름 적어주세요\n",
    "df = pd.read_csv('../data/FE_v6.csv') # EDA 데이터 이름 적어주세요"
   ]
  },
  {
   "cell_type": "code",
   "execution_count": 61,
   "metadata": {},
   "outputs": [],
   "source": [
    "all = (df.groupby('userID')['answerCode'].min()==-1).index\n",
    "idx = (df.groupby('userID')['answerCode'].min()==-1).values\n",
    "test_idx = all[idx]\n",
    "\n",
    "df = df.set_index('userID').loc[test_idx].sort_values(['userID','Timestamp','assessmentItemID']).reset_index(drop=False)"
   ]
  },
  {
   "cell_type": "code",
   "execution_count": 62,
   "metadata": {},
   "outputs": [],
   "source": [
    "test['assessmentItemID'] = test['assessmentItemID'].apply(lambda x: x[2:])\n",
    "test['assessmentItemID'] = test['assessmentItemID'].astype(int)"
   ]
  },
  {
   "cell_type": "code",
   "execution_count": 63,
   "metadata": {},
   "outputs": [],
   "source": [
    "result = test[['userID','assessmentItemID','Timestamp']].merge(df, how='left', left_on=['userID','assessmentItemID','Timestamp'], right_on=['userID','assessmentItemID','Timestamp'])"
   ]
  },
  {
   "cell_type": "code",
   "execution_count": 64,
   "metadata": {},
   "outputs": [
    {
     "name": "stdout",
     "output_type": "stream",
     "text": [
      "userID 260114 260114 다 맞았다~!\n",
      "Timestamp 260114 260114 다 맞았다~!\n",
      "answerCode 260114 260114 다 맞았다~!\n",
      "KnowledgeTag 260114 260114 다 맞았다~!\n"
     ]
    }
   ],
   "source": [
    "# test code\n",
    "\n",
    "count = 0\n",
    "for col in ['userID','Timestamp','answerCode','KnowledgeTag']:\n",
    "    count = 0\n",
    "    for i in range(result.shape[0]):\n",
    "\n",
    "        if result.loc[i, col] == test.loc[i, col]:\n",
    "            count += 1\n",
    "        else:\n",
    "            print(col, i, result.loc[i,col],result.loc[i,'Timestamp'], test.loc[i, col], test.loc[i,'Timestamp'])\n",
    "\n",
    "    print(col, count, result.shape[0], '다 맞았다~!')\n",
    "\n",
    "# 짝이 맞다면 갯수들만 쭉쭉 나올겁니다"
   ]
  },
  {
   "cell_type": "code",
   "execution_count": 81,
   "metadata": {},
   "outputs": [
    {
     "data": {
      "text/plain": [
       "(260114, 31)"
      ]
     },
     "execution_count": 81,
     "metadata": {},
     "output_type": "execute_result"
    }
   ],
   "source": [
    "result.shape"
   ]
  },
  {
   "cell_type": "code",
   "execution_count": 82,
   "metadata": {},
   "outputs": [],
   "source": [
    "result.to_csv('../data/FE_v6_test.csv', index=False) # 원하는 test 파일 이름"
   ]
  },
  {
   "cell_type": "code",
   "execution_count": null,
   "metadata": {},
   "outputs": [],
   "source": []
  }
 ],
 "metadata": {
  "kernelspec": {
   "display_name": "Python 3",
   "language": "python",
   "name": "python3"
  },
  "language_info": {
   "codemirror_mode": {
    "name": "ipython",
    "version": 3
   },
   "file_extension": ".py",
   "mimetype": "text/x-python",
   "name": "python",
   "nbconvert_exporter": "python",
   "pygments_lexer": "ipython3",
   "version": "3.10.13"
  },
  "orig_nbformat": 4
 },
 "nbformat": 4,
 "nbformat_minor": 2
}
