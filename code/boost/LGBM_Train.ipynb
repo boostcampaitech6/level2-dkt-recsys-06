{
 "cells": [
  {
   "cell_type": "code",
   "execution_count": 17,
   "metadata": {
    "tags": []
   },
   "outputs": [],
   "source": [
    "import warnings \n",
    "warnings.filterwarnings(\"ignore\")"
   ]
  },
  {
   "cell_type": "code",
   "execution_count": 18,
   "metadata": {
    "ExecuteTime": {
     "end_time": "2021-05-24T09:49:29.375544Z",
     "start_time": "2021-05-24T09:49:28.999092Z"
    },
    "id": "Uq_TJqbdhfQu",
    "tags": []
   },
   "outputs": [],
   "source": [
    "import pandas as pd\n",
    "import os\n",
    "import random\n",
    "import numpy as np\n",
    "import yaml\n",
    "import lightgbm as lgb\n",
    "from sklearn.metrics import roc_auc_score\n",
    "from sklearn.metrics import accuracy_score\n",
    "import numpy as np\n",
    "import torch\n",
    "import pytz\n",
    "from datetime import datetime, timezone, timedelta\n",
    "from sklearn.model_selection import StratifiedGroupKFold\n",
    "from sklearn.preprocessing import LabelEncoder\n",
    "from wandb.lightgbm import wandb_callback, log_summary"
   ]
  },
  {
   "cell_type": "code",
   "execution_count": 19,
   "metadata": {},
   "outputs": [],
   "source": [
    "#wandb_callback 수정 \n",
    "from typing import TYPE_CHECKING, Callable\n",
    "import wandb\n",
    "from wandb.sdk.lib import telemetry as wb_telemetry\n",
    "\n",
    "MINIMIZE_METRICS = [\n",
    "    \"l1\",\n",
    "    \"l2\",\n",
    "    \"rmse\",\n",
    "    \"mape\",\n",
    "    \"huber\",\n",
    "    \"fair\",\n",
    "    \"poisson\",\n",
    "    \"gamma\",\n",
    "    \"binary_logloss\",\n",
    "]\n",
    "\n",
    "MAXIMIZE_METRICS = [\"map\", \"auc\", \"average_precision\"]\n",
    "\n",
    "def set_seeds(seed: int = 42):\n",
    "    # 랜덤 시드를 설정하여 매 코드를 실행할 때마다 동일한 결과를 얻게 합니다.\n",
    "    os.environ[\"PYTHONHASHSEED\"] = str(seed)\n",
    "    random.seed(seed)\n",
    "    np.random.seed(seed)\n",
    "    torch.manual_seed(seed)\n",
    "    torch.cuda.manual_seed(seed)\n",
    "    torch.backends.cudnn.deterministic = True\n",
    "        \n",
    "def wandb_callback(log_params=True, define_metric=True) -> Callable:\n",
    "    \"\"\"Automatically integrates LightGBM with wandb.\n",
    "\n",
    "    Arguments:\n",
    "        log_params: (boolean) if True (default) logs params passed to lightgbm.train as W&B config\n",
    "        define_metric: (boolean) if True (default) capture model performance at the best step, instead of the last step, of training in your `wandb.summary`\n",
    "\n",
    "    Passing `wandb_callback` to LightGBM will:\n",
    "      - log params passed to lightgbm.train as W&B config (default).\n",
    "      - log evaluation metrics collected by LightGBM, such as rmse, accuracy etc to Weights & Biases\n",
    "      - Capture the best metric in `wandb.summary` when `define_metric=True` (default).\n",
    "\n",
    "    Use `log_summary` as an extension of this callback.\n",
    "\n",
    "    Example:\n",
    "        ```python\n",
    "        params = {\n",
    "            'boosting_type': 'gbdt',\n",
    "            'objective': 'regression',\n",
    "            .\n",
    "        }\n",
    "        gbm = lgb.train(params,\n",
    "                        lgb_train,\n",
    "                        num_boost_round=10,\n",
    "                        valid_sets=lgb_eval,\n",
    "                        valid_names=('validation'),\n",
    "                        callbacks=[wandb_callback()])\n",
    "        ```\n",
    "    \"\"\"\n",
    "    def _define_metric(data: str, metric_name: str) -> None:\n",
    "    \n",
    "        \"\"\"Capture model performance at the best step.\n",
    "        instead of the last step, of training in your `wandb.summary`\n",
    "        \"\"\"\n",
    "        if \"loss\" in str.lower(metric_name):\n",
    "            wandb.define_metric(f\"{data}_{metric_name}\", summary=\"min\")\n",
    "        elif str.lower(metric_name) in MINIMIZE_METRICS:\n",
    "            wandb.define_metric(f\"{data}_{metric_name}\", summary=\"min\")\n",
    "        elif str.lower(metric_name) in MAXIMIZE_METRICS:\n",
    "            wandb.define_metric(f\"{data}_{metric_name}\", summary=\"max\")\n",
    "            \n",
    "    log_params_list: \"List[bool]\" = [log_params]\n",
    "    define_metric_list: \"List[bool]\" = [define_metric]\n",
    "\n",
    "    def _init(env: \"CallbackEnv\") -> None:\n",
    "        with wb_telemetry.context() as tel:\n",
    "            tel.feature.lightgbm_wandb_callback = True\n",
    "\n",
    "        wandb.config.update(env.params)\n",
    "        log_params_list[0] = False\n",
    "\n",
    "        if define_metric_list[0]:\n",
    "            for i in range(len(env.evaluation_result_list)):\n",
    "                data_type = env.evaluation_result_list[i][0]\n",
    "                metric_name = env.evaluation_result_list[i][1]\n",
    "                _define_metric(data_type, metric_name)\n",
    "\n",
    "    def _callback(env: \"CallbackEnv\") -> None:\n",
    "        if log_params_list[0]:\n",
    "            _init(env)\n",
    "        # eval_results: \"Dict[str, Dict[str, List[Any]]]\" = {}\n",
    "        # recorder = lightgbm.record_evaluation(eval_results)\n",
    "        # recorder(env)\n",
    "        eval_results = {x[0]:{x[1:][0]:x[1:][1:]} for x in env.evaluation_result_list}\n",
    "\n",
    "        for validation_key in eval_results.keys():\n",
    "            for key in eval_results[validation_key].keys():\n",
    "                 wandb.log(\n",
    "                     {validation_key + \"_\" + key: eval_results[validation_key][key][0]},\n",
    "                     commit=False,\n",
    "                 )\n",
    "        for item in eval_results:\n",
    "            if len(item) == 4:\n",
    "                wandb.log({f\"{item[0]}_{item[1]}\": item[2]}, commit=False)\n",
    "\n",
    "        # Previous log statements use commit=False. This commits them.\n",
    "        wandb.log({\"iteration\": env.iteration}, commit=True)\n",
    "\n",
    "    return _callback"
   ]
  },
  {
   "attachments": {},
   "cell_type": "markdown",
   "metadata": {
    "id": "QZlm5HSmhfQv"
   },
   "source": [
    "## Training"
   ]
  },
  {
   "cell_type": "code",
   "execution_count": 20,
   "metadata": {
    "ExecuteTime": {
     "end_time": "2021-05-24T09:49:29.678737Z",
     "start_time": "2021-05-24T09:49:29.376581Z"
    },
    "id": "s6qgJ8MLhfQw",
    "tags": []
   },
   "outputs": [
    {
     "name": "stdout",
     "output_type": "stream",
     "text": [
      "Create sweep with ID: fdskahx2\n",
      "Sweep URL: https://wandb.ai/boostcamp6-recsys6/lightgbm-sweep/sweeps/fdskahx2\n"
     ]
    }
   ],
   "source": [
    "sweep_config_path = '/data/ephemeral/home/level2-dkt-recsys-06/code/boost/lgbmsweepconfigv2.yaml'\n",
    "\n",
    "# 노트북의 이름 설정\n",
    "\n",
    "os.environ['WANDB_NOTEBOOK_NAME'] = 'LGBM_Train.ipynb'\n",
    "# YAML 파일 로드\n",
    "with open(sweep_config_path, 'r') as file:\n",
    "    sweep_config = yaml.safe_load(file)\n",
    "\n",
    "# W&B 스위프트 설정\n",
    "sweep_id = wandb.sweep(sweep=sweep_config, project=\"lightgbm-sweep\")\n",
    "\n",
    "# 시드 고정\n",
    "set_seeds()\n"
   ]
  },
  {
   "cell_type": "code",
   "execution_count": 21,
   "metadata": {},
   "outputs": [
    {
     "name": "stdout",
     "output_type": "stream",
     "text": [
      "userIDnum 7442\n",
      "        userID  assessmentItemID            Timestamp  testId  answerCode  \\\n",
      "1035         3          50133008  2020-10-26 13:13:57   50133          -1   \n",
      "1706         4          70146008  2020-12-27 02:47:54   70146          -1   \n",
      "3023        13          70111008  2020-12-27 04:35:09   70111          -1   \n",
      "4283        17          90064006  2020-10-30 05:48:37   90064          -1   \n",
      "4670        26          60135007  2020-10-23 11:44:18   60135          -1   \n",
      "...        ...               ...                  ...     ...         ...   \n",
      "260052    7395          40122005  2020-09-08 02:05:20   40122          -1   \n",
      "260067    7404          30111005  2020-10-13 09:49:18   30111          -1   \n",
      "260082    7416          50193004  2020-10-04 02:44:41   50193          -1   \n",
      "260097    7417          50193004  2020-09-06 13:09:15   50193          -1   \n",
      "260113    7439          40130005  2020-10-14 23:10:03   40130          -1   \n",
      "\n",
      "        KnowledgeTag  Itemseq  SolvingTime  CumulativeTime  Month  ...  \\\n",
      "1035            5289        8         46.0           362.0     10  ...   \n",
      "1706            9080        8         25.0           197.0     12  ...   \n",
      "3023            9660        8          8.0           112.0     12  ...   \n",
      "4283            2611        6         75.0           455.0     10  ...   \n",
      "4670            1422        7         22.0           297.0     10  ...   \n",
      "...              ...      ...          ...             ...    ...  ...   \n",
      "260052         10615        5          2.0            14.0      9  ...   \n",
      "260067          7636        5         45.0           264.0     10  ...   \n",
      "260082         10402        4         14.0            61.0     10  ...   \n",
      "260097         10402        4         21.0            84.0      9  ...   \n",
      "260113          8832        5         26.5           186.5     10  ...   \n",
      "\n",
      "       UserRecentTagAnswer  PreviousItemAnswer   TestAcc  \\\n",
      "1035                     N                   N  0.655300   \n",
      "1706                     Y                   Y  0.651667   \n",
      "3023                     Y                   Y  0.456800   \n",
      "4283                     Y                   Y  0.446000   \n",
      "4670                     N                   N  0.640343   \n",
      "...                    ...                 ...       ...   \n",
      "260052                   N                   N  0.791067   \n",
      "260067                   Y                   Y  0.867067   \n",
      "260082                   N                   N  0.749200   \n",
      "260097                   N                   N  0.749200   \n",
      "260113                   Y                   Y  0.640400   \n",
      "\n",
      "        categorize_solvingTime   categorize_ItemAcc    categorize_TagAcc  \\\n",
      "1035                         6            Difficult            Difficult   \n",
      "1706                         4            Difficult       Very Difficult   \n",
      "3023                         1  Extremely Difficult       Very Difficult   \n",
      "4283                         7  Extremely Difficult  Extremely Difficult   \n",
      "4670                         4  Extremely Difficult            Difficult   \n",
      "...                        ...                  ...                  ...   \n",
      "260052                       0       Very Difficult                 Easy   \n",
      "260067                       6       Extremely Easy       Extremely Easy   \n",
      "260082                       2            Very Easy       Extremely Easy   \n",
      "260097                       4            Very Easy       Extremely Easy   \n",
      "260113                       4            Difficult               Medium   \n",
      "\n",
      "         categorize_TestAcc  categorize_CumulativeUserItemAcc  \\\n",
      "1035                 Medium                      Intermediate   \n",
      "1706                 Medium                      Intermediate   \n",
      "3023    Extremely Difficult                      Intermediate   \n",
      "4283    Extremely Difficult                          Advanced   \n",
      "4670                 Medium             Intermediate_Advanced   \n",
      "...                     ...                               ...   \n",
      "260052            Very Easy                          Beginner   \n",
      "260067       Extremely Easy                          Beginner   \n",
      "260082                 Easy                          Beginner   \n",
      "260097                 Easy                          Beginner   \n",
      "260113               Medium                      Intermediate   \n",
      "\n",
      "        categorize_CumulativeUserTagAverageAcc  \\\n",
      "1035                                  Advanced   \n",
      "1706                     Intermediate_Advanced   \n",
      "3023                   Elementary_Intermediate   \n",
      "4283                                  Advanced   \n",
      "4670                     Intermediate_Advanced   \n",
      "...                                        ...   \n",
      "260052                                Beginner   \n",
      "260067                            Intermediate   \n",
      "260082                   Intermediate_Advanced   \n",
      "260097                   Intermediate_Advanced   \n",
      "260113                            Intermediate   \n",
      "\n",
      "        categorize_CumulativeUserTagExponentialAverage  \n",
      "1035                             Intermediate_Advanced  \n",
      "1706                             Intermediate_Advanced  \n",
      "3023                                      Intermediate  \n",
      "4283                                          Advanced  \n",
      "4670                                      Intermediate  \n",
      "...                                                ...  \n",
      "260052                                        Beginner  \n",
      "260067                                    Intermediate  \n",
      "260082                           Intermediate_Advanced  \n",
      "260097                           Intermediate_Advanced  \n",
      "260113                         Elementary_Intermediate  \n",
      "\n",
      "[744 rows x 43 columns]\n",
      "False\n",
      "(260114, 43)\n"
     ]
    }
   ],
   "source": [
    "X = pd.read_csv('/data/ephemeral/home/level2-dkt-recsys-06/data/FE_v8.csv')\n",
    "test =  pd.read_csv('/data/ephemeral/home/level2-dkt-recsys-06/data/FE_v8_test.csv')\n",
    "X = X.sort_values(by=[\"userID\", \"Timestamp\", \"assessmentItemID\"]).reset_index(drop=True)\n",
    "test = test.sort_values(by=[\"userID\", \"Timestamp\", \"assessmentItemID\"]).reset_index(drop=True)\n",
    "\n",
    "# test = test[test[\"userID\"] != test[\"userID\"].shift(-1)]\n",
    "# test = test.drop([\"answerCode\"], axis=1)\n",
    "\n",
    "# 유저 아이디 갯수 구하기\n",
    "unique_user_count = X['userID'].nunique()\n",
    "\n",
    "# 유저아이디 갯수 출력\n",
    "print(f'userIDnum {unique_user_count}')\n",
    "\n",
    "# 유저아이디 마지막 행 구하기\n",
    "last_rows = test.groupby('userID').tail(1)\n",
    "print(last_rows)\n",
    "# 마지막 행의 answerCode가 -1인지 확인\n",
    "are_last_answers_minus_one = (last_rows['answerCode'] == -1).all()\n",
    "\n",
    "print(are_last_answers_minus_one)\n",
    "\n",
    "# test 모양\n",
    "print(test.shape)"
   ]
  },
  {
   "cell_type": "code",
   "execution_count": 22,
   "metadata": {},
   "outputs": [],
   "source": [
    "test = test[test[\"answerCode\"] == -1]\n",
    "X = X[X['answerCode']!=-1]"
   ]
  },
  {
   "cell_type": "code",
   "execution_count": 23,
   "metadata": {},
   "outputs": [],
   "source": [
    "Feature = ['Itemseq', 'SolvingTime', 'CumulativeTime', 'UserAvgSolvingTime',\n",
    "       'Difference_SolvingTime_UserAvgSolvingTime', 'CumulativeItemCount',\n",
    "       'Item_last7days', 'Item_last30days', 'CumulativeUserItemAcc',\n",
    "       'PastItemCount', 'UserItemElapsed', 'ItemAcc',\n",
    "       'AverageItemSolvingTime_Correct', 'AverageItemSolvingTime_Incorrect',\n",
    "       'AverageItemSolvingTime', 'Difference_SolvingTime_AvgItemSolvingTime',\n",
    "       'UserTagAvgSolvingTime', 'TagAcc', 'CumulativeUserTagAverageAcc',\n",
    "       'CumulativeUserTagExponentialAverage', 'UserTagCount', 'UserTagElapsed',\n",
    "       'PastTagSolvingTime', \n",
    "       'TestAcc'\n",
    "]\n",
    "\n",
    "Categorical_Feature = ['userID', 'assessmentItemID', 'testId', 'KnowledgeTag', \n",
    "       'Month','DayOfWeek', 'TimeOfDay', 'WeekOfYear',\n",
    "       'UserRecentTagAnswer', 'PreviousItemAnswer',\n",
    "       'categorize_solvingTime', 'categorize_ItemAcc',\n",
    "       'categorize_TagAcc', 'categorize_TestAcc',\n",
    "       'categorize_CumulativeUserItemAcc',\n",
    "       'categorize_CumulativeUserTagAverageAcc',\n",
    "       'categorize_CumulativeUserTagExponentialAverage'\n",
    "]\n",
    "Feature = Feature + Categorical_Feature\n",
    "\n",
    "# as category: integer여도 범주형으로 취급 가능\n",
    "for feature in Categorical_Feature:\n",
    "       test[feature] = test[feature].astype('category')\n",
    "       X[feature] = X[feature].astype('category')"
   ]
  },
  {
   "cell_type": "code",
   "execution_count": 24,
   "metadata": {},
   "outputs": [],
   "source": [
    "# print(X.shape)\n",
    "\n",
    "# # 원-핫 인코딩 적용할 컬럼 선택\n",
    "# columns_to_encode = [\n",
    "#     \"UserRecentTagAnswer\",\n",
    "#     \"PreviousItemAnswer\",\n",
    "#     # 추가적으로 원-핫 인코딩을 적용할 다른 컬럼들을 여기에 추가\n",
    "# ]\n",
    "# for column in columns_to_encode:\n",
    "#     if column in X.columns:\n",
    "#         X = pd.get_dummies(X, columns=[column])\n",
    "#     if column in test.columns:\n",
    "#         test = pd.get_dummies(test, columns=[column])\n",
    "\n",
    "#         # 다른 필드들에 대해서도 동일하게 적용\n",
    "# print(X.shape)\n",
    "\n",
    "# 라벨로 이동 \n"
   ]
  },
  {
   "cell_type": "code",
   "execution_count": 25,
   "metadata": {
    "tags": []
   },
   "outputs": [
    {
     "name": "stdout",
     "output_type": "stream",
     "text": [
      "(2525956, 43)\n",
      "(2525956, 36)\n",
      "['userID', 'assessmentItemID', 'testId', 'answerCode', 'Timestamp', 'KnowledgeTag', 'Itemseq', 'SolvingTime', 'CumulativeTime', 'Month', 'DayOfWeek', 'TimeOfDay', 'WeekOfYear', 'UserAvgSolvingTime', 'Difference_SolvingTime_UserAvgSolvingTime', 'CumulativeItemCount', 'Item_last7days', 'Item_last30days', 'CumulativeUserItemAcc', 'PastItemCount', 'UserItemElapsed', 'ItemAcc', 'AverageItemSolvingTime_Correct', 'AverageItemSolvingTime_Incorrect', 'AverageItemSolvingTime', 'Difference_SolvingTime_AvgItemSolvingTime', 'UserTagAvgSolvingTime', 'TagAcc', 'CumulativeUserTagAverageAcc', 'CumulativeUserTagExponentialAverage', 'UserTagCount', 'UserTagElapsed', 'PastTagSolvingTime', 'UserRecentTagAnswer', 'PreviousItemAnswer', 'TestAcc', 'categorize_solvingTime', 'categorize_ItemAcc', 'categorize_TagAcc', 'categorize_TestAcc', 'categorize_CumulativeUserItemAcc', 'categorize_CumulativeUserTagAverageAcc', 'categorize_CumulativeUserTagExponentialAverage']\n"
     ]
    }
   ],
   "source": [
    "feat = X.columns.tolist()\n",
    "\n",
    "exclude_columns = [\n",
    "    \"Timestamp\",\n",
    "    \"answerCode\",\n",
    "    \"DayOfWeek\",\n",
    "    'WeekOfYear',\n",
    "    'UserAvgSolvingTime',\n",
    "    'PastItemCount',\n",
    "    \"user_tag_total_answer\",\n",
    "    \"categorize_CumulativeUserTagExponentialAverage\",\n",
    "    'categorize_CumulativeUserTagAverageAnswerRate',\n",
    "    \"categorize_TestAnswerRate\",\n",
    "    \"categorize_TagAnswerRate\"\n",
    "]\n",
    "\n",
    "filtered_feat = [column for column in feat if column not in exclude_columns]\n",
    "\n",
    "print(X[feat].shape)\n",
    "print(X[filtered_feat].shape)\n",
    "print(X.columns.tolist())"
   ]
  },
  {
   "cell_type": "code",
   "execution_count": 26,
   "metadata": {},
   "outputs": [],
   "source": [
    "default_config = {\n",
    "    \"num_leaves\": 10,  # 최소값 10\n",
    "    \"learning_rate\": 0.0001,  # 최소값 0.0001\n",
    "    \"max_depth\": -1,  # -1 (깊이 제한 없음)\n",
    "    \"min_data_in_leaf\": 20,  # 최소값 20\n",
    "    \"feature_fraction\": 0.6,  # 최소값 0.6\n",
    "    \"bagging_fraction\": 0.6,  # 최소값 0.6\n",
    "    \"bagging_freq\": 0,  # 최소값 0\n",
    "    \"lambda_l1\": 0.0,  # 최소값 0.0\n",
    "    \"lambda_l2\": 0.0,  # 최소값 0.0\n",
    "    \"cat_smooth\": 10,  # 최소값 10\n",
    "}\n",
    "\n"
   ]
  },
  {
   "cell_type": "code",
   "execution_count": 27,
   "metadata": {},
   "outputs": [],
   "source": [
    "\n",
    "def train():\n",
    "    \n",
    "    auc = 0\n",
    "    acc = 0\n",
    "    test_preds = np.zeros(len(test))\n",
    "    \n",
    "    wandb.init(project=f\"lightgbm-sweep\", config=default_config)\n",
    "    \n",
    "    ratio = wandb.config.ratio\n",
    "    \n",
    "    sampled_indices = X.groupby('userID').sample(frac=ratio).index\n",
    "\n",
    "    # userID별 마지막 인덱스 찾기\n",
    "    # last_indices = X.groupby(\"userID\").tail(1).index\n",
    "\n",
    "    # 학습 데이터셋 생성\n",
    "    X_train = X.drop(sampled_indices)\n",
    "    y_train = X_train[\"answerCode\"]\n",
    "\n",
    "    # 검증 데이터셋 생성\n",
    "    X_valid = X.loc[sampled_indices]\n",
    "    y_valid = X_valid[\"answerCode\"]\n",
    "\n",
    "    lgb_train = lgb.Dataset(X_train[filtered_feat], y_train)\n",
    "    lgb_valid = lgb.Dataset(X_valid[filtered_feat], y_valid)\n",
    "\n",
    "    # 완드비 실험 이름\n",
    "    korea = pytz.timezone(\"Asia/Seoul\")\n",
    "    current_time = datetime.now(korea).strftime(\"%m-%d %H:%M\")\n",
    "    wandb.run.name = f\"Wonhee {current_time}\"\n",
    "    current_params = {\n",
    "        \"objective\": \"binary\",\n",
    "        \"metric\": [\"auc\"],\n",
    "        \"device\": \"cpu\",\n",
    "        \"num_leaves\": wandb.config.num_leaves,\n",
    "        \"learning_rate\": wandb.config.learning_rate,\n",
    "        \"max_depth\": wandb.config.max_depth,\n",
    "        \"min_data_in_leaf\": wandb.config.min_data_in_leaf,\n",
    "        \"feature_fraction\": wandb.config.feature_fraction,\n",
    "        \"bagging_fraction\": wandb.config.bagging_fraction,\n",
    "        \"bagging_freq\": wandb.config.bagging_freq,\n",
    "        \"lambda_l1\": wandb.config.lambda_l1,\n",
    "        \"lambda_l2\": wandb.config.lambda_l2,\n",
    "        \"cat_smooth\": wandb.config.cat_smooth,\n",
    "    }\n",
    "    model = lgb.train(\n",
    "        current_params,\n",
    "        lgb_train,\n",
    "        valid_sets=[lgb_train, lgb_valid],\n",
    "        num_boost_round=500,\n",
    "        callbacks=[\n",
    "            wandb_callback(log_params=True, define_metric=True),\n",
    "            lgb.early_stopping(30),\n",
    "        ],\n",
    "        categorical_feature=[\n",
    "            \"userID\",\n",
    "            \"assessmentItemID\",\n",
    "            \"testId\",\n",
    "            \"KnowledgeTag\",\n",
    "            \"Month\"\n",
    "        ],\n",
    "    )\n",
    "    preds = model.predict(X_valid[filtered_feat])\n",
    "    acc = accuracy_score(y_valid, np.where(preds >= 0.5, 1, 0))\n",
    "    auc = roc_auc_score(y_valid, preds)\n",
    "    test_preds += model.predict(test[filtered_feat])\n",
    "    print(f\"VALID AUC : {auc} ACC : {acc}\\n\")\n",
    "    wandb.log({\"auc\": auc, \"accuracy\": acc})\n",
    "    wandb.finish()\n",
    "    \n",
    "    #output파일 생성\n",
    "    output_dir = \"output/\"\n",
    "    write_path = os.path.join(\n",
    "        output_dir,\n",
    "        f\"auc:{auc} acc:{acc}\" + \"sweep\" + \" lgbm.csv\",\n",
    "    )\n",
    "    if not os.path.exists(output_dir):\n",
    "        os.makedirs(output_dir)\n",
    "    with open(write_path, \"w\", encoding=\"utf8\") as w:\n",
    "        print(\"writing prediction : {}\".format(write_path))\n",
    "        w.write(\"id,prediction\\n\")\n",
    "        for id, p in enumerate(test_preds):\n",
    "            w.write(\"{},{}\\n\".format(id, p))\n",
    "            \n",
    "    feature_importances = model.feature_importance()\n",
    "    feature_names = model.feature_name()\n",
    "    importance_df = pd.DataFrame({'Feature': feature_names, 'Importance': feature_importances}).sort_values(by='Importance', ascending=False)\n",
    "\n",
    "    print(importance_df)"
   ]
  },
  {
   "cell_type": "code",
   "execution_count": 28,
   "metadata": {},
   "outputs": [
    {
     "name": "stderr",
     "output_type": "stream",
     "text": [
      "\u001b[34m\u001b[1mwandb\u001b[0m: Agent Starting Run: qpozxr25 with config:\n",
      "\u001b[34m\u001b[1mwandb\u001b[0m: \tbagging_fraction: 0.9059571298782872\n",
      "\u001b[34m\u001b[1mwandb\u001b[0m: \tbagging_freq: 9\n",
      "\u001b[34m\u001b[1mwandb\u001b[0m: \tfeature_fraction: 0.8680158599290084\n",
      "\u001b[34m\u001b[1mwandb\u001b[0m: \tlambda_l1: 5.623746883937578\n",
      "\u001b[34m\u001b[1mwandb\u001b[0m: \tlambda_l2: 14.298044383066577\n",
      "\u001b[34m\u001b[1mwandb\u001b[0m: \tlearning_rate: 0.005370532667332486\n",
      "\u001b[34m\u001b[1mwandb\u001b[0m: \tmax_depth: 29\n",
      "\u001b[34m\u001b[1mwandb\u001b[0m: \tmin_data_in_leaf: 88\n",
      "\u001b[34m\u001b[1mwandb\u001b[0m: \tnum_leaves: 20\n",
      "\u001b[34m\u001b[1mwandb\u001b[0m: \tratio: 0.28187956866552055\n",
      "\u001b[34m\u001b[1mwandb\u001b[0m: Currently logged in as: \u001b[33mkjswon12\u001b[0m (\u001b[33mboostcamp6-recsys6\u001b[0m). Use \u001b[1m`wandb login --relogin`\u001b[0m to force relogin\n",
      "\u001b[34m\u001b[1mwandb\u001b[0m: \u001b[33mWARNING\u001b[0m Ignored wandb.init() arg project when running a sweep.\n"
     ]
    },
    {
     "data": {
      "text/html": [
       "Tracking run with wandb version 0.16.2"
      ],
      "text/plain": [
       "<IPython.core.display.HTML object>"
      ]
     },
     "metadata": {},
     "output_type": "display_data"
    },
    {
     "data": {
      "text/html": [
       "Run data is saved locally in <code>/data/ephemeral/home/level2-dkt-recsys-06/code/boost/wandb/run-20240124_085213-qpozxr25</code>"
      ],
      "text/plain": [
       "<IPython.core.display.HTML object>"
      ]
     },
     "metadata": {},
     "output_type": "display_data"
    },
    {
     "data": {
      "text/html": [
       "Syncing run <strong><a href='https://wandb.ai/boostcamp6-recsys6/lightgbm-sweep/runs/qpozxr25' target=\"_blank\">colorful-sweep-1</a></strong> to <a href='https://wandb.ai/boostcamp6-recsys6/lightgbm-sweep' target=\"_blank\">Weights & Biases</a> (<a href='https://wandb.me/run' target=\"_blank\">docs</a>)<br/>Sweep page: <a href='https://wandb.ai/boostcamp6-recsys6/lightgbm-sweep/sweeps/fdskahx2' target=\"_blank\">https://wandb.ai/boostcamp6-recsys6/lightgbm-sweep/sweeps/fdskahx2</a>"
      ],
      "text/plain": [
       "<IPython.core.display.HTML object>"
      ]
     },
     "metadata": {},
     "output_type": "display_data"
    },
    {
     "data": {
      "text/html": [
       " View project at <a href='https://wandb.ai/boostcamp6-recsys6/lightgbm-sweep' target=\"_blank\">https://wandb.ai/boostcamp6-recsys6/lightgbm-sweep</a>"
      ],
      "text/plain": [
       "<IPython.core.display.HTML object>"
      ]
     },
     "metadata": {},
     "output_type": "display_data"
    },
    {
     "data": {
      "text/html": [
       " View sweep at <a href='https://wandb.ai/boostcamp6-recsys6/lightgbm-sweep/sweeps/fdskahx2' target=\"_blank\">https://wandb.ai/boostcamp6-recsys6/lightgbm-sweep/sweeps/fdskahx2</a>"
      ],
      "text/plain": [
       "<IPython.core.display.HTML object>"
      ]
     },
     "metadata": {},
     "output_type": "display_data"
    },
    {
     "data": {
      "text/html": [
       " View run at <a href='https://wandb.ai/boostcamp6-recsys6/lightgbm-sweep/runs/qpozxr25' target=\"_blank\">https://wandb.ai/boostcamp6-recsys6/lightgbm-sweep/runs/qpozxr25</a>"
      ],
      "text/plain": [
       "<IPython.core.display.HTML object>"
      ]
     },
     "metadata": {},
     "output_type": "display_data"
    },
    {
     "name": "stdout",
     "output_type": "stream",
     "text": [
      "[LightGBM] [Warning] Categorical features with more bins than the configured maximum bin number found.\n",
      "[LightGBM] [Warning] For categorical features, max_bin and max_bin_by_feature may be ignored with a large number of categories.\n",
      "[LightGBM] [Info] Number of positive: 1187494, number of negative: 626443\n",
      "[LightGBM] [Info] Auto-choosing row-wise multi-threading, the overhead of testing was 0.064885 seconds.\n",
      "You can set `force_row_wise=true` to remove the overhead.\n",
      "And if memory is not enough, you can set `force_col_wise=true`.\n",
      "[LightGBM] [Info] Total Bins 22379\n",
      "[LightGBM] [Info] Number of data points in the train set: 1813937, number of used features: 35\n",
      "[LightGBM] [Info] [binary:BoostFromScore]: pavg=0.654650 -> initscore=0.639543\n",
      "[LightGBM] [Info] Start training from score 0.639543\n"
     ]
    },
    {
     "name": "stderr",
     "output_type": "stream",
     "text": [
      "\u001b[34m\u001b[1mwandb\u001b[0m: \u001b[33mWARNING\u001b[0m Config item 'num_leaves' was locked by 'sweep' (ignored update).\n",
      "\u001b[34m\u001b[1mwandb\u001b[0m: \u001b[33mWARNING\u001b[0m Config item 'learning_rate' was locked by 'sweep' (ignored update).\n",
      "\u001b[34m\u001b[1mwandb\u001b[0m: \u001b[33mWARNING\u001b[0m Config item 'max_depth' was locked by 'sweep' (ignored update).\n",
      "\u001b[34m\u001b[1mwandb\u001b[0m: \u001b[33mWARNING\u001b[0m Config item 'min_data_in_leaf' was locked by 'sweep' (ignored update).\n",
      "\u001b[34m\u001b[1mwandb\u001b[0m: \u001b[33mWARNING\u001b[0m Config item 'feature_fraction' was locked by 'sweep' (ignored update).\n",
      "\u001b[34m\u001b[1mwandb\u001b[0m: \u001b[33mWARNING\u001b[0m Config item 'bagging_fraction' was locked by 'sweep' (ignored update).\n",
      "\u001b[34m\u001b[1mwandb\u001b[0m: \u001b[33mWARNING\u001b[0m Config item 'bagging_freq' was locked by 'sweep' (ignored update).\n",
      "\u001b[34m\u001b[1mwandb\u001b[0m: \u001b[33mWARNING\u001b[0m Config item 'lambda_l1' was locked by 'sweep' (ignored update).\n",
      "\u001b[34m\u001b[1mwandb\u001b[0m: \u001b[33mWARNING\u001b[0m Config item 'lambda_l2' was locked by 'sweep' (ignored update).\n"
     ]
    },
    {
     "name": "stdout",
     "output_type": "stream",
     "text": [
      "Training until validation scores don't improve for 30 rounds\n",
      "Did not meet early stopping. Best iteration is:\n",
      "[500]\ttraining's auc: 0.845471\tvalid_1's auc: 0.844789\n",
      "VALID AUC : 0.8447887995970295 ACC : 0.7942091432953334\n",
      "\n"
     ]
    },
    {
     "data": {
      "text/html": [
       "<style>\n",
       "    table.wandb td:nth-child(1) { padding: 0 10px; text-align: left ; width: auto;} td:nth-child(2) {text-align: left ; width: 100%}\n",
       "    .wandb-row { display: flex; flex-direction: row; flex-wrap: wrap; justify-content: flex-start; width: 100% }\n",
       "    .wandb-col { display: flex; flex-direction: column; flex-basis: 100%; flex: 1; padding: 10px; }\n",
       "    </style>\n",
       "<div class=\"wandb-row\"><div class=\"wandb-col\"><h3>Run history:</h3><br/><table class=\"wandb\"><tr><td>accuracy</td><td>▁</td></tr><tr><td>auc</td><td>▁</td></tr><tr><td>iteration</td><td>▁▁▁▂▂▂▂▂▂▃▃▃▃▃▄▄▄▄▄▄▅▅▅▅▅▅▆▆▆▆▆▇▇▇▇▇▇███</td></tr><tr><td>training_auc</td><td>▁▁▂▂▂▃▃▃▄▄▄▄▅▅▅▅▅▆▆▆▆▆▆▆▇▇▇▇▇▇▇▇▇▇██████</td></tr><tr><td>valid_1_auc</td><td>▁▁▂▂▂▃▃▄▄▄▄▄▅▅▅▅▅▆▆▆▆▆▆▆▇▇▇▇▇▇▇▇▇▇██████</td></tr></table><br/></div><div class=\"wandb-col\"><h3>Run summary:</h3><br/><table class=\"wandb\"><tr><td>accuracy</td><td>0.79421</td></tr><tr><td>auc</td><td>0.84479</td></tr><tr><td>iteration</td><td>499</td></tr></table><br/></div></div>"
      ],
      "text/plain": [
       "<IPython.core.display.HTML object>"
      ]
     },
     "metadata": {},
     "output_type": "display_data"
    },
    {
     "data": {
      "text/html": [
       " View run <strong style=\"color:#cdcd00\">colorful-sweep-1</strong> at: <a href='https://wandb.ai/boostcamp6-recsys6/lightgbm-sweep/runs/qpozxr25' target=\"_blank\">https://wandb.ai/boostcamp6-recsys6/lightgbm-sweep/runs/qpozxr25</a><br/>Synced 6 W&B file(s), 0 media file(s), 0 artifact file(s) and 0 other file(s)"
      ],
      "text/plain": [
       "<IPython.core.display.HTML object>"
      ]
     },
     "metadata": {},
     "output_type": "display_data"
    },
    {
     "data": {
      "text/html": [
       "Find logs at: <code>./wandb/run-20240124_085213-qpozxr25/logs</code>"
      ],
      "text/plain": [
       "<IPython.core.display.HTML object>"
      ]
     },
     "metadata": {},
     "output_type": "display_data"
    },
    {
     "name": "stdout",
     "output_type": "stream",
     "text": [
      "writing prediction : output/auc:0.8447887995970295 acc:0.7942091432953334sweep lgbm.csv\n",
      "                                      Feature  Importance\n",
      "15                                    ItemAcc        2007\n",
      "17           AverageItemSolvingTime_Incorrect         986\n",
      "13                      CumulativeUserItemAcc         942\n",
      "0                                      userID         882\n",
      "14                            UserItemElapsed         754\n",
      "5                                 SolvingTime         520\n",
      "28                         PreviousItemAnswer         477\n",
      "23        CumulativeUserTagExponentialAverage         452\n",
      "19  Difference_SolvingTime_AvgItemSolvingTime         449\n",
      "22                CumulativeUserTagAverageAcc         342\n",
      "20                      UserTagAvgSolvingTime         327\n",
      "1                            assessmentItemID         281\n",
      "31                         categorize_ItemAcc         200\n",
      "3                                KnowledgeTag         161\n",
      "21                                     TagAcc         156\n",
      "29                                    TestAcc         114\n",
      "2                                      testId          97\n",
      "34           categorize_CumulativeUserItemAcc          78\n",
      "30                     categorize_solvingTime          66\n",
      "18                     AverageItemSolvingTime          65\n",
      "16             AverageItemSolvingTime_Correct          56\n",
      "4                                     Itemseq          24\n",
      "12                            Item_last30days          19\n",
      "24                               UserTagCount          17\n",
      "35     categorize_CumulativeUserTagAverageAcc          12\n",
      "10                        CumulativeItemCount           5\n",
      "6                              CumulativeTime           4\n",
      "9   Difference_SolvingTime_UserAvgSolvingTime           4\n",
      "27                        UserRecentTagAnswer           3\n",
      "8                                   TimeOfDay           0\n",
      "11                             Item_last7days           0\n",
      "7                                       Month           0\n",
      "26                         PastTagSolvingTime           0\n",
      "25                             UserTagElapsed           0\n",
      "33                         categorize_TestAcc           0\n",
      "32                          categorize_TagAcc           0\n"
     ]
    },
    {
     "name": "stderr",
     "output_type": "stream",
     "text": [
      "\u001b[34m\u001b[1mwandb\u001b[0m: Agent Starting Run: ctwc82hi with config:\n",
      "\u001b[34m\u001b[1mwandb\u001b[0m: \tbagging_fraction: 0.7015105816570656\n",
      "\u001b[34m\u001b[1mwandb\u001b[0m: \tbagging_freq: 9\n",
      "\u001b[34m\u001b[1mwandb\u001b[0m: \tfeature_fraction: 0.565222656580354\n",
      "\u001b[34m\u001b[1mwandb\u001b[0m: \tlambda_l1: 1.5540822265220622\n",
      "\u001b[34m\u001b[1mwandb\u001b[0m: \tlambda_l2: 14.87995453780294\n",
      "\u001b[34m\u001b[1mwandb\u001b[0m: \tlearning_rate: 0.36841279682121886\n",
      "\u001b[34m\u001b[1mwandb\u001b[0m: \tmax_depth: 43\n",
      "\u001b[34m\u001b[1mwandb\u001b[0m: \tmin_data_in_leaf: 65\n",
      "\u001b[34m\u001b[1mwandb\u001b[0m: \tnum_leaves: 48\n",
      "\u001b[34m\u001b[1mwandb\u001b[0m: \tratio: 0.16859610783586432\n",
      "\u001b[34m\u001b[1mwandb\u001b[0m: \u001b[33mWARNING\u001b[0m Ignored wandb.init() arg project when running a sweep.\n"
     ]
    },
    {
     "data": {
      "text/html": [
       "Tracking run with wandb version 0.16.2"
      ],
      "text/plain": [
       "<IPython.core.display.HTML object>"
      ]
     },
     "metadata": {},
     "output_type": "display_data"
    },
    {
     "data": {
      "text/html": [
       "Run data is saved locally in <code>/data/ephemeral/home/level2-dkt-recsys-06/code/boost/wandb/run-20240124_085523-ctwc82hi</code>"
      ],
      "text/plain": [
       "<IPython.core.display.HTML object>"
      ]
     },
     "metadata": {},
     "output_type": "display_data"
    },
    {
     "data": {
      "text/html": [
       "Syncing run <strong><a href='https://wandb.ai/boostcamp6-recsys6/lightgbm-sweep/runs/ctwc82hi' target=\"_blank\">pretty-sweep-2</a></strong> to <a href='https://wandb.ai/boostcamp6-recsys6/lightgbm-sweep' target=\"_blank\">Weights & Biases</a> (<a href='https://wandb.me/run' target=\"_blank\">docs</a>)<br/>Sweep page: <a href='https://wandb.ai/boostcamp6-recsys6/lightgbm-sweep/sweeps/fdskahx2' target=\"_blank\">https://wandb.ai/boostcamp6-recsys6/lightgbm-sweep/sweeps/fdskahx2</a>"
      ],
      "text/plain": [
       "<IPython.core.display.HTML object>"
      ]
     },
     "metadata": {},
     "output_type": "display_data"
    },
    {
     "data": {
      "text/html": [
       " View project at <a href='https://wandb.ai/boostcamp6-recsys6/lightgbm-sweep' target=\"_blank\">https://wandb.ai/boostcamp6-recsys6/lightgbm-sweep</a>"
      ],
      "text/plain": [
       "<IPython.core.display.HTML object>"
      ]
     },
     "metadata": {},
     "output_type": "display_data"
    },
    {
     "data": {
      "text/html": [
       " View sweep at <a href='https://wandb.ai/boostcamp6-recsys6/lightgbm-sweep/sweeps/fdskahx2' target=\"_blank\">https://wandb.ai/boostcamp6-recsys6/lightgbm-sweep/sweeps/fdskahx2</a>"
      ],
      "text/plain": [
       "<IPython.core.display.HTML object>"
      ]
     },
     "metadata": {},
     "output_type": "display_data"
    },
    {
     "data": {
      "text/html": [
       " View run at <a href='https://wandb.ai/boostcamp6-recsys6/lightgbm-sweep/runs/ctwc82hi' target=\"_blank\">https://wandb.ai/boostcamp6-recsys6/lightgbm-sweep/runs/ctwc82hi</a>"
      ],
      "text/plain": [
       "<IPython.core.display.HTML object>"
      ]
     },
     "metadata": {},
     "output_type": "display_data"
    },
    {
     "name": "stdout",
     "output_type": "stream",
     "text": [
      "[LightGBM] [Warning] Categorical features with more bins than the configured maximum bin number found.\n",
      "[LightGBM] [Warning] For categorical features, max_bin and max_bin_by_feature may be ignored with a large number of categories.\n",
      "[LightGBM] [Info] Number of positive: 1374237, number of negative: 725838\n",
      "[LightGBM] [Info] Auto-choosing col-wise multi-threading, the overhead of testing was 0.306808 seconds.\n",
      "You can set `force_col_wise=true` to remove the overhead.\n",
      "[LightGBM] [Info] Total Bins 22373\n",
      "[LightGBM] [Info] Number of data points in the train set: 2100075, number of used features: 35\n",
      "[LightGBM] [Info] [binary:BoostFromScore]: pavg=0.654375 -> initscore=0.638327\n",
      "[LightGBM] [Info] Start training from score 0.638327\n"
     ]
    },
    {
     "name": "stderr",
     "output_type": "stream",
     "text": [
      "\u001b[34m\u001b[1mwandb\u001b[0m: \u001b[33mWARNING\u001b[0m Config item 'num_leaves' was locked by 'sweep' (ignored update).\n",
      "\u001b[34m\u001b[1mwandb\u001b[0m: \u001b[33mWARNING\u001b[0m Config item 'learning_rate' was locked by 'sweep' (ignored update).\n",
      "\u001b[34m\u001b[1mwandb\u001b[0m: \u001b[33mWARNING\u001b[0m Config item 'max_depth' was locked by 'sweep' (ignored update).\n",
      "\u001b[34m\u001b[1mwandb\u001b[0m: \u001b[33mWARNING\u001b[0m Config item 'min_data_in_leaf' was locked by 'sweep' (ignored update).\n",
      "\u001b[34m\u001b[1mwandb\u001b[0m: \u001b[33mWARNING\u001b[0m Config item 'feature_fraction' was locked by 'sweep' (ignored update).\n",
      "\u001b[34m\u001b[1mwandb\u001b[0m: \u001b[33mWARNING\u001b[0m Config item 'bagging_fraction' was locked by 'sweep' (ignored update).\n",
      "\u001b[34m\u001b[1mwandb\u001b[0m: \u001b[33mWARNING\u001b[0m Config item 'bagging_freq' was locked by 'sweep' (ignored update).\n",
      "\u001b[34m\u001b[1mwandb\u001b[0m: \u001b[33mWARNING\u001b[0m Config item 'lambda_l1' was locked by 'sweep' (ignored update).\n",
      "\u001b[34m\u001b[1mwandb\u001b[0m: \u001b[33mWARNING\u001b[0m Config item 'lambda_l2' was locked by 'sweep' (ignored update).\n"
     ]
    },
    {
     "name": "stdout",
     "output_type": "stream",
     "text": [
      "Training until validation scores don't improve for 30 rounds\n",
      "Early stopping, best iteration is:\n",
      "[82]\ttraining's auc: 0.877846\tvalid_1's auc: 0.856416\n",
      "VALID AUC : 0.8564164636976394 ACC : 0.8025856988219714\n",
      "\n"
     ]
    },
    {
     "data": {
      "text/html": [
       "<style>\n",
       "    table.wandb td:nth-child(1) { padding: 0 10px; text-align: left ; width: auto;} td:nth-child(2) {text-align: left ; width: 100%}\n",
       "    .wandb-row { display: flex; flex-direction: row; flex-wrap: wrap; justify-content: flex-start; width: 100% }\n",
       "    .wandb-col { display: flex; flex-direction: column; flex-basis: 100%; flex: 1; padding: 10px; }\n",
       "    </style>\n",
       "<div class=\"wandb-row\"><div class=\"wandb-col\"><h3>Run history:</h3><br/><table class=\"wandb\"><tr><td>accuracy</td><td>▁</td></tr><tr><td>auc</td><td>▁</td></tr><tr><td>iteration</td><td>▁▁▁▂▂▂▂▂▂▃▃▃▃▃▃▄▄▄▄▄▅▅▅▅▅▅▆▆▆▆▆▇▇▇▇▇▇███</td></tr><tr><td>training_auc</td><td>▁▃▄▅▅▅▆▆▆▆▆▆▆▆▇▇▇▇▇▇▇▇▇▇▇▇▇▇▇▇██████████</td></tr><tr><td>valid_1_auc</td><td>▁▄▆▆▇▇▇█████████████████████████████████</td></tr></table><br/></div><div class=\"wandb-col\"><h3>Run summary:</h3><br/><table class=\"wandb\"><tr><td>accuracy</td><td>0.80259</td></tr><tr><td>auc</td><td>0.85642</td></tr><tr><td>iteration</td><td>111</td></tr></table><br/></div></div>"
      ],
      "text/plain": [
       "<IPython.core.display.HTML object>"
      ]
     },
     "metadata": {},
     "output_type": "display_data"
    },
    {
     "data": {
      "text/html": [
       " View run <strong style=\"color:#cdcd00\">pretty-sweep-2</strong> at: <a href='https://wandb.ai/boostcamp6-recsys6/lightgbm-sweep/runs/ctwc82hi' target=\"_blank\">https://wandb.ai/boostcamp6-recsys6/lightgbm-sweep/runs/ctwc82hi</a><br/>Synced 6 W&B file(s), 0 media file(s), 0 artifact file(s) and 0 other file(s)"
      ],
      "text/plain": [
       "<IPython.core.display.HTML object>"
      ]
     },
     "metadata": {},
     "output_type": "display_data"
    },
    {
     "data": {
      "text/html": [
       "Find logs at: <code>./wandb/run-20240124_085523-ctwc82hi/logs</code>"
      ],
      "text/plain": [
       "<IPython.core.display.HTML object>"
      ]
     },
     "metadata": {},
     "output_type": "display_data"
    },
    {
     "name": "stdout",
     "output_type": "stream",
     "text": [
      "writing prediction : output/auc:0.8564164636976394 acc:0.8025856988219714sweep lgbm.csv\n",
      "                                      Feature  Importance\n",
      "1                            assessmentItemID        1236\n",
      "0                                      userID        1036\n",
      "3                                KnowledgeTag         528\n",
      "2                                      testId         513\n",
      "14                            UserItemElapsed          88\n",
      "15                                    ItemAcc          67\n",
      "13                      CumulativeUserItemAcc          33\n",
      "17           AverageItemSolvingTime_Incorrect          32\n",
      "20                      UserTagAvgSolvingTime          32\n",
      "19  Difference_SolvingTime_AvgItemSolvingTime          31\n",
      "23        CumulativeUserTagExponentialAverage          27\n",
      "5                                 SolvingTime          26\n",
      "6                              CumulativeTime          21\n",
      "22                CumulativeUserTagAverageAcc          21\n",
      "21                                     TagAcc          20\n",
      "31                         categorize_ItemAcc          16\n",
      "29                                    TestAcc          14\n",
      "24                               UserTagCount          13\n",
      "16             AverageItemSolvingTime_Correct          13\n",
      "28                         PreviousItemAnswer          11\n",
      "34           categorize_CumulativeUserItemAcc          10\n",
      "18                     AverageItemSolvingTime           9\n",
      "9   Difference_SolvingTime_UserAvgSolvingTime           8\n",
      "8                                   TimeOfDay           8\n",
      "12                            Item_last30days           8\n",
      "30                     categorize_solvingTime           7\n",
      "10                        CumulativeItemCount           6\n",
      "7                                       Month           5\n",
      "27                        UserRecentTagAnswer           5\n",
      "26                         PastTagSolvingTime           3\n",
      "35     categorize_CumulativeUserTagAverageAcc           3\n",
      "11                             Item_last7days           2\n",
      "4                                     Itemseq           2\n",
      "25                             UserTagElapsed           0\n",
      "33                         categorize_TestAcc           0\n",
      "32                          categorize_TagAcc           0\n"
     ]
    },
    {
     "name": "stderr",
     "output_type": "stream",
     "text": [
      "\u001b[34m\u001b[1mwandb\u001b[0m: Agent Starting Run: xyp51aje with config:\n",
      "\u001b[34m\u001b[1mwandb\u001b[0m: \tbagging_fraction: 0.7675224556765278\n",
      "\u001b[34m\u001b[1mwandb\u001b[0m: \tbagging_freq: 15\n",
      "\u001b[34m\u001b[1mwandb\u001b[0m: \tfeature_fraction: 0.915064718152445\n",
      "\u001b[34m\u001b[1mwandb\u001b[0m: \tlambda_l1: 9.875336391460907\n",
      "\u001b[34m\u001b[1mwandb\u001b[0m: \tlambda_l2: 14.267794836673822\n",
      "\u001b[34m\u001b[1mwandb\u001b[0m: \tlearning_rate: 0.186105761522994\n",
      "\u001b[34m\u001b[1mwandb\u001b[0m: \tmax_depth: 14\n",
      "\u001b[34m\u001b[1mwandb\u001b[0m: \tmin_data_in_leaf: 8\n",
      "\u001b[34m\u001b[1mwandb\u001b[0m: \tnum_leaves: 30\n",
      "\u001b[34m\u001b[1mwandb\u001b[0m: \tratio: 0.11187242666646798\n",
      "\u001b[34m\u001b[1mwandb\u001b[0m: \u001b[33mWARNING\u001b[0m Ignored wandb.init() arg project when running a sweep.\n"
     ]
    },
    {
     "data": {
      "text/html": [
       "Tracking run with wandb version 0.16.2"
      ],
      "text/plain": [
       "<IPython.core.display.HTML object>"
      ]
     },
     "metadata": {},
     "output_type": "display_data"
    },
    {
     "data": {
      "text/html": [
       "Run data is saved locally in <code>/data/ephemeral/home/level2-dkt-recsys-06/code/boost/wandb/run-20240124_085629-xyp51aje</code>"
      ],
      "text/plain": [
       "<IPython.core.display.HTML object>"
      ]
     },
     "metadata": {},
     "output_type": "display_data"
    },
    {
     "data": {
      "text/html": [
       "Syncing run <strong><a href='https://wandb.ai/boostcamp6-recsys6/lightgbm-sweep/runs/xyp51aje' target=\"_blank\">astral-sweep-3</a></strong> to <a href='https://wandb.ai/boostcamp6-recsys6/lightgbm-sweep' target=\"_blank\">Weights & Biases</a> (<a href='https://wandb.me/run' target=\"_blank\">docs</a>)<br/>Sweep page: <a href='https://wandb.ai/boostcamp6-recsys6/lightgbm-sweep/sweeps/fdskahx2' target=\"_blank\">https://wandb.ai/boostcamp6-recsys6/lightgbm-sweep/sweeps/fdskahx2</a>"
      ],
      "text/plain": [
       "<IPython.core.display.HTML object>"
      ]
     },
     "metadata": {},
     "output_type": "display_data"
    },
    {
     "data": {
      "text/html": [
       " View project at <a href='https://wandb.ai/boostcamp6-recsys6/lightgbm-sweep' target=\"_blank\">https://wandb.ai/boostcamp6-recsys6/lightgbm-sweep</a>"
      ],
      "text/plain": [
       "<IPython.core.display.HTML object>"
      ]
     },
     "metadata": {},
     "output_type": "display_data"
    },
    {
     "data": {
      "text/html": [
       " View sweep at <a href='https://wandb.ai/boostcamp6-recsys6/lightgbm-sweep/sweeps/fdskahx2' target=\"_blank\">https://wandb.ai/boostcamp6-recsys6/lightgbm-sweep/sweeps/fdskahx2</a>"
      ],
      "text/plain": [
       "<IPython.core.display.HTML object>"
      ]
     },
     "metadata": {},
     "output_type": "display_data"
    },
    {
     "data": {
      "text/html": [
       " View run at <a href='https://wandb.ai/boostcamp6-recsys6/lightgbm-sweep/runs/xyp51aje' target=\"_blank\">https://wandb.ai/boostcamp6-recsys6/lightgbm-sweep/runs/xyp51aje</a>"
      ],
      "text/plain": [
       "<IPython.core.display.HTML object>"
      ]
     },
     "metadata": {},
     "output_type": "display_data"
    },
    {
     "name": "stdout",
     "output_type": "stream",
     "text": [
      "[LightGBM] [Warning] Categorical features with more bins than the configured maximum bin number found.\n",
      "[LightGBM] [Warning] For categorical features, max_bin and max_bin_by_feature may be ignored with a large number of categories.\n",
      "[LightGBM] [Info] Number of positive: 1469087, number of negative: 774291\n",
      "[LightGBM] [Info] Auto-choosing row-wise multi-threading, the overhead of testing was 0.050015 seconds.\n",
      "You can set `force_row_wise=true` to remove the overhead.\n",
      "And if memory is not enough, you can set `force_col_wise=true`.\n",
      "[LightGBM] [Info] Total Bins 22347\n",
      "[LightGBM] [Info] Number of data points in the train set: 2243378, number of used features: 35\n",
      "[LightGBM] [Info] [binary:BoostFromScore]: pavg=0.654855 -> initscore=0.640449\n",
      "[LightGBM] [Info] Start training from score 0.640449\n"
     ]
    },
    {
     "name": "stderr",
     "output_type": "stream",
     "text": [
      "\u001b[34m\u001b[1mwandb\u001b[0m: \u001b[33mWARNING\u001b[0m Config item 'num_leaves' was locked by 'sweep' (ignored update).\n",
      "\u001b[34m\u001b[1mwandb\u001b[0m: \u001b[33mWARNING\u001b[0m Config item 'learning_rate' was locked by 'sweep' (ignored update).\n",
      "\u001b[34m\u001b[1mwandb\u001b[0m: \u001b[33mWARNING\u001b[0m Config item 'max_depth' was locked by 'sweep' (ignored update).\n",
      "\u001b[34m\u001b[1mwandb\u001b[0m: \u001b[33mWARNING\u001b[0m Config item 'min_data_in_leaf' was locked by 'sweep' (ignored update).\n",
      "\u001b[34m\u001b[1mwandb\u001b[0m: \u001b[33mWARNING\u001b[0m Config item 'feature_fraction' was locked by 'sweep' (ignored update).\n",
      "\u001b[34m\u001b[1mwandb\u001b[0m: \u001b[33mWARNING\u001b[0m Config item 'bagging_fraction' was locked by 'sweep' (ignored update).\n",
      "\u001b[34m\u001b[1mwandb\u001b[0m: \u001b[33mWARNING\u001b[0m Config item 'bagging_freq' was locked by 'sweep' (ignored update).\n",
      "\u001b[34m\u001b[1mwandb\u001b[0m: \u001b[33mWARNING\u001b[0m Config item 'lambda_l1' was locked by 'sweep' (ignored update).\n",
      "\u001b[34m\u001b[1mwandb\u001b[0m: \u001b[33mWARNING\u001b[0m Config item 'lambda_l2' was locked by 'sweep' (ignored update).\n"
     ]
    },
    {
     "name": "stdout",
     "output_type": "stream",
     "text": [
      "Training until validation scores don't improve for 30 rounds\n",
      "Early stopping, best iteration is:\n",
      "[335]\ttraining's auc: 0.886857\tvalid_1's auc: 0.858161\n",
      "VALID AUC : 0.8581608510606503 ACC : 0.802684568508518\n",
      "\n"
     ]
    },
    {
     "data": {
      "text/html": [
       "<style>\n",
       "    table.wandb td:nth-child(1) { padding: 0 10px; text-align: left ; width: auto;} td:nth-child(2) {text-align: left ; width: 100%}\n",
       "    .wandb-row { display: flex; flex-direction: row; flex-wrap: wrap; justify-content: flex-start; width: 100% }\n",
       "    .wandb-col { display: flex; flex-direction: column; flex-basis: 100%; flex: 1; padding: 10px; }\n",
       "    </style>\n",
       "<div class=\"wandb-row\"><div class=\"wandb-col\"><h3>Run history:</h3><br/><table class=\"wandb\"><tr><td>accuracy</td><td>▁</td></tr><tr><td>auc</td><td>▁</td></tr><tr><td>iteration</td><td>▁▁▁▁▂▂▂▂▂▃▃▃▃▃▄▄▄▄▄▄▅▅▅▅▅▅▆▆▆▆▆▇▇▇▇▇████</td></tr><tr><td>training_auc</td><td>▁▂▃▄▄▄▅▅▅▅▅▆▆▆▆▆▆▆▆▇▇▇▇▇▇▇▇▇▇▇▇█████████</td></tr><tr><td>valid_1_auc</td><td>▁▄▅▆▇▇▇▇▇▇▇█████████████████████████████</td></tr></table><br/></div><div class=\"wandb-col\"><h3>Run summary:</h3><br/><table class=\"wandb\"><tr><td>accuracy</td><td>0.80268</td></tr><tr><td>auc</td><td>0.85816</td></tr><tr><td>iteration</td><td>364</td></tr></table><br/></div></div>"
      ],
      "text/plain": [
       "<IPython.core.display.HTML object>"
      ]
     },
     "metadata": {},
     "output_type": "display_data"
    },
    {
     "data": {
      "text/html": [
       " View run <strong style=\"color:#cdcd00\">astral-sweep-3</strong> at: <a href='https://wandb.ai/boostcamp6-recsys6/lightgbm-sweep/runs/xyp51aje' target=\"_blank\">https://wandb.ai/boostcamp6-recsys6/lightgbm-sweep/runs/xyp51aje</a><br/>Synced 6 W&B file(s), 0 media file(s), 0 artifact file(s) and 0 other file(s)"
      ],
      "text/plain": [
       "<IPython.core.display.HTML object>"
      ]
     },
     "metadata": {},
     "output_type": "display_data"
    },
    {
     "data": {
      "text/html": [
       "Find logs at: <code>./wandb/run-20240124_085629-xyp51aje/logs</code>"
      ],
      "text/plain": [
       "<IPython.core.display.HTML object>"
      ]
     },
     "metadata": {},
     "output_type": "display_data"
    },
    {
     "name": "stdout",
     "output_type": "stream",
     "text": [
      "writing prediction : output/auc:0.8581608510606503 acc:0.802684568508518sweep lgbm.csv\n",
      "                                      Feature  Importance\n",
      "0                                      userID        3612\n",
      "1                            assessmentItemID        2852\n",
      "3                                KnowledgeTag        1274\n",
      "2                                      testId        1086\n",
      "14                            UserItemElapsed         138\n",
      "15                                    ItemAcc         136\n",
      "13                      CumulativeUserItemAcc          90\n",
      "20                      UserTagAvgSolvingTime          53\n",
      "19  Difference_SolvingTime_AvgItemSolvingTime          50\n",
      "17           AverageItemSolvingTime_Incorrect          50\n",
      "5                                 SolvingTime          45\n",
      "6                              CumulativeTime          40\n",
      "23        CumulativeUserTagExponentialAverage          37\n",
      "22                CumulativeUserTagAverageAcc          26\n",
      "28                         PreviousItemAnswer          22\n",
      "7                                       Month          20\n",
      "12                            Item_last30days          20\n",
      "29                                    TestAcc          19\n",
      "21                                     TagAcc          19\n",
      "10                        CumulativeItemCount          16\n",
      "11                             Item_last7days          15\n",
      "8                                   TimeOfDay          15\n",
      "24                               UserTagCount          15\n",
      "27                        UserRecentTagAnswer          13\n",
      "9   Difference_SolvingTime_UserAvgSolvingTime          12\n",
      "31                         categorize_ItemAcc           8\n",
      "4                                     Itemseq           8\n",
      "16             AverageItemSolvingTime_Correct           8\n",
      "34           categorize_CumulativeUserItemAcc           7\n",
      "18                     AverageItemSolvingTime           6\n",
      "26                         PastTagSolvingTime           3\n",
      "25                             UserTagElapsed           0\n",
      "30                     categorize_solvingTime           0\n",
      "32                          categorize_TagAcc           0\n",
      "33                         categorize_TestAcc           0\n",
      "35     categorize_CumulativeUserTagAverageAcc           0\n"
     ]
    },
    {
     "name": "stderr",
     "output_type": "stream",
     "text": [
      "\u001b[34m\u001b[1mwandb\u001b[0m: Agent Starting Run: 7shso5dw with config:\n",
      "\u001b[34m\u001b[1mwandb\u001b[0m: \tbagging_fraction: 0.7269892921295703\n",
      "\u001b[34m\u001b[1mwandb\u001b[0m: \tbagging_freq: 11\n",
      "\u001b[34m\u001b[1mwandb\u001b[0m: \tfeature_fraction: 0.45948907756264473\n",
      "\u001b[34m\u001b[1mwandb\u001b[0m: \tlambda_l1: 7.452198088993471\n",
      "\u001b[34m\u001b[1mwandb\u001b[0m: \tlambda_l2: 0.04744816450959144\n",
      "\u001b[34m\u001b[1mwandb\u001b[0m: \tlearning_rate: 0.3682511300613048\n",
      "\u001b[34m\u001b[1mwandb\u001b[0m: \tmax_depth: 39\n",
      "\u001b[34m\u001b[1mwandb\u001b[0m: \tmin_data_in_leaf: 91\n",
      "\u001b[34m\u001b[1mwandb\u001b[0m: \tnum_leaves: 59\n",
      "\u001b[34m\u001b[1mwandb\u001b[0m: \tratio: 0.2063739252151361\n",
      "\u001b[34m\u001b[1mwandb\u001b[0m: \u001b[33mWARNING\u001b[0m Ignored wandb.init() arg project when running a sweep.\n"
     ]
    },
    {
     "data": {
      "text/html": [
       "Tracking run with wandb version 0.16.2"
      ],
      "text/plain": [
       "<IPython.core.display.HTML object>"
      ]
     },
     "metadata": {},
     "output_type": "display_data"
    },
    {
     "data": {
      "text/html": [
       "Run data is saved locally in <code>/data/ephemeral/home/level2-dkt-recsys-06/code/boost/wandb/run-20240124_085911-7shso5dw</code>"
      ],
      "text/plain": [
       "<IPython.core.display.HTML object>"
      ]
     },
     "metadata": {},
     "output_type": "display_data"
    },
    {
     "data": {
      "text/html": [
       "Syncing run <strong><a href='https://wandb.ai/boostcamp6-recsys6/lightgbm-sweep/runs/7shso5dw' target=\"_blank\">eager-sweep-4</a></strong> to <a href='https://wandb.ai/boostcamp6-recsys6/lightgbm-sweep' target=\"_blank\">Weights & Biases</a> (<a href='https://wandb.me/run' target=\"_blank\">docs</a>)<br/>Sweep page: <a href='https://wandb.ai/boostcamp6-recsys6/lightgbm-sweep/sweeps/fdskahx2' target=\"_blank\">https://wandb.ai/boostcamp6-recsys6/lightgbm-sweep/sweeps/fdskahx2</a>"
      ],
      "text/plain": [
       "<IPython.core.display.HTML object>"
      ]
     },
     "metadata": {},
     "output_type": "display_data"
    },
    {
     "data": {
      "text/html": [
       " View project at <a href='https://wandb.ai/boostcamp6-recsys6/lightgbm-sweep' target=\"_blank\">https://wandb.ai/boostcamp6-recsys6/lightgbm-sweep</a>"
      ],
      "text/plain": [
       "<IPython.core.display.HTML object>"
      ]
     },
     "metadata": {},
     "output_type": "display_data"
    },
    {
     "data": {
      "text/html": [
       " View sweep at <a href='https://wandb.ai/boostcamp6-recsys6/lightgbm-sweep/sweeps/fdskahx2' target=\"_blank\">https://wandb.ai/boostcamp6-recsys6/lightgbm-sweep/sweeps/fdskahx2</a>"
      ],
      "text/plain": [
       "<IPython.core.display.HTML object>"
      ]
     },
     "metadata": {},
     "output_type": "display_data"
    },
    {
     "data": {
      "text/html": [
       " View run at <a href='https://wandb.ai/boostcamp6-recsys6/lightgbm-sweep/runs/7shso5dw' target=\"_blank\">https://wandb.ai/boostcamp6-recsys6/lightgbm-sweep/runs/7shso5dw</a>"
      ],
      "text/plain": [
       "<IPython.core.display.HTML object>"
      ]
     },
     "metadata": {},
     "output_type": "display_data"
    },
    {
     "name": "stdout",
     "output_type": "stream",
     "text": [
      "[LightGBM] [Warning] Categorical features with more bins than the configured maximum bin number found.\n",
      "[LightGBM] [Warning] For categorical features, max_bin and max_bin_by_feature may be ignored with a large number of categories.\n",
      "[LightGBM] [Info] Number of positive: 1312199, number of negative: 692460\n",
      "[LightGBM] [Info] Auto-choosing col-wise multi-threading, the overhead of testing was 0.253652 seconds.\n",
      "You can set `force_col_wise=true` to remove the overhead.\n",
      "[LightGBM] [Info] Total Bins 22372\n",
      "[LightGBM] [Info] Number of data points in the train set: 2004659, number of used features: 35\n",
      "[LightGBM] [Info] [binary:BoostFromScore]: pavg=0.654575 -> initscore=0.639209\n",
      "[LightGBM] [Info] Start training from score 0.639209\n"
     ]
    },
    {
     "name": "stderr",
     "output_type": "stream",
     "text": [
      "\u001b[34m\u001b[1mwandb\u001b[0m: \u001b[33mWARNING\u001b[0m Config item 'num_leaves' was locked by 'sweep' (ignored update).\n",
      "\u001b[34m\u001b[1mwandb\u001b[0m: \u001b[33mWARNING\u001b[0m Config item 'learning_rate' was locked by 'sweep' (ignored update).\n",
      "\u001b[34m\u001b[1mwandb\u001b[0m: \u001b[33mWARNING\u001b[0m Config item 'max_depth' was locked by 'sweep' (ignored update).\n",
      "\u001b[34m\u001b[1mwandb\u001b[0m: \u001b[33mWARNING\u001b[0m Config item 'min_data_in_leaf' was locked by 'sweep' (ignored update).\n",
      "\u001b[34m\u001b[1mwandb\u001b[0m: \u001b[33mWARNING\u001b[0m Config item 'feature_fraction' was locked by 'sweep' (ignored update).\n",
      "\u001b[34m\u001b[1mwandb\u001b[0m: \u001b[33mWARNING\u001b[0m Config item 'bagging_fraction' was locked by 'sweep' (ignored update).\n",
      "\u001b[34m\u001b[1mwandb\u001b[0m: \u001b[33mWARNING\u001b[0m Config item 'bagging_freq' was locked by 'sweep' (ignored update).\n",
      "\u001b[34m\u001b[1mwandb\u001b[0m: \u001b[33mWARNING\u001b[0m Config item 'lambda_l1' was locked by 'sweep' (ignored update).\n",
      "\u001b[34m\u001b[1mwandb\u001b[0m: \u001b[33mWARNING\u001b[0m Config item 'lambda_l2' was locked by 'sweep' (ignored update).\n"
     ]
    },
    {
     "name": "stdout",
     "output_type": "stream",
     "text": [
      "Training until validation scores don't improve for 30 rounds\n",
      "Early stopping, best iteration is:\n",
      "[61]\ttraining's auc: 0.876633\tvalid_1's auc: 0.855724\n",
      "VALID AUC : 0.8557239895796818 ACC : 0.8015142999096484\n",
      "\n"
     ]
    },
    {
     "data": {
      "text/html": [
       "<style>\n",
       "    table.wandb td:nth-child(1) { padding: 0 10px; text-align: left ; width: auto;} td:nth-child(2) {text-align: left ; width: 100%}\n",
       "    .wandb-row { display: flex; flex-direction: row; flex-wrap: wrap; justify-content: flex-start; width: 100% }\n",
       "    .wandb-col { display: flex; flex-direction: column; flex-basis: 100%; flex: 1; padding: 10px; }\n",
       "    </style>\n",
       "<div class=\"wandb-row\"><div class=\"wandb-col\"><h3>Run history:</h3><br/><table class=\"wandb\"><tr><td>accuracy</td><td>▁</td></tr><tr><td>auc</td><td>▁</td></tr><tr><td>iteration</td><td>▁▁▁▁▂▂▂▂▂▃▃▃▃▃▄▄▄▄▄▄▅▅▅▅▅▅▆▆▆▆▆▇▇▇▇▇████</td></tr><tr><td>training_auc</td><td>▁▃▄▄▅▅▅▆▆▆▆▆▆▆▇▇▇▇▇▇▇▇▇▇▇▇▇▇▇███████████</td></tr><tr><td>valid_1_auc</td><td>▁▄▅▆▇▇▇▇████████████████████████████████</td></tr></table><br/></div><div class=\"wandb-col\"><h3>Run summary:</h3><br/><table class=\"wandb\"><tr><td>accuracy</td><td>0.80151</td></tr><tr><td>auc</td><td>0.85572</td></tr><tr><td>iteration</td><td>90</td></tr></table><br/></div></div>"
      ],
      "text/plain": [
       "<IPython.core.display.HTML object>"
      ]
     },
     "metadata": {},
     "output_type": "display_data"
    },
    {
     "data": {
      "text/html": [
       " View run <strong style=\"color:#cdcd00\">eager-sweep-4</strong> at: <a href='https://wandb.ai/boostcamp6-recsys6/lightgbm-sweep/runs/7shso5dw' target=\"_blank\">https://wandb.ai/boostcamp6-recsys6/lightgbm-sweep/runs/7shso5dw</a><br/>Synced 6 W&B file(s), 0 media file(s), 0 artifact file(s) and 0 other file(s)"
      ],
      "text/plain": [
       "<IPython.core.display.HTML object>"
      ]
     },
     "metadata": {},
     "output_type": "display_data"
    },
    {
     "data": {
      "text/html": [
       "Find logs at: <code>./wandb/run-20240124_085911-7shso5dw/logs</code>"
      ],
      "text/plain": [
       "<IPython.core.display.HTML object>"
      ]
     },
     "metadata": {},
     "output_type": "display_data"
    },
    {
     "name": "stdout",
     "output_type": "stream",
     "text": [
      "writing prediction : output/auc:0.8557239895796818 acc:0.8015142999096484sweep lgbm.csv\n",
      "                                      Feature  Importance\n",
      "1                            assessmentItemID         901\n",
      "0                                      userID         900\n",
      "3                                KnowledgeTag         542\n",
      "2                                      testId         371\n",
      "14                            UserItemElapsed         111\n",
      "15                                    ItemAcc          77\n",
      "13                      CumulativeUserItemAcc          54\n",
      "19  Difference_SolvingTime_AvgItemSolvingTime          49\n",
      "20                      UserTagAvgSolvingTime          49\n",
      "17           AverageItemSolvingTime_Incorrect          45\n",
      "31                         categorize_ItemAcc          40\n",
      "5                                 SolvingTime          38\n",
      "6                              CumulativeTime          36\n",
      "21                                     TagAcc          33\n",
      "23        CumulativeUserTagExponentialAverage          31\n",
      "22                CumulativeUserTagAverageAcc          29\n",
      "29                                    TestAcc          25\n",
      "16             AverageItemSolvingTime_Correct          23\n",
      "7                                       Month          19\n",
      "9   Difference_SolvingTime_UserAvgSolvingTime          17\n",
      "30                     categorize_solvingTime          16\n",
      "10                        CumulativeItemCount          16\n",
      "28                         PreviousItemAnswer          16\n",
      "4                                     Itemseq          14\n",
      "8                                   TimeOfDay          13\n",
      "26                         PastTagSolvingTime          12\n",
      "12                            Item_last30days          11\n",
      "34           categorize_CumulativeUserItemAcc          11\n",
      "27                        UserRecentTagAnswer          10\n",
      "11                             Item_last7days          10\n",
      "24                               UserTagCount           9\n",
      "35     categorize_CumulativeUserTagAverageAcc           7\n",
      "18                     AverageItemSolvingTime           2\n",
      "32                          categorize_TagAcc           1\n",
      "25                             UserTagElapsed           0\n",
      "33                         categorize_TestAcc           0\n"
     ]
    },
    {
     "name": "stderr",
     "output_type": "stream",
     "text": [
      "\u001b[34m\u001b[1mwandb\u001b[0m: Sweep Agent: Waiting for job.\n",
      "\u001b[34m\u001b[1mwandb\u001b[0m: Job received.\n",
      "\u001b[34m\u001b[1mwandb\u001b[0m: Agent Starting Run: 6t63vqgz with config:\n",
      "\u001b[34m\u001b[1mwandb\u001b[0m: \tbagging_fraction: 0.9228820382046142\n",
      "\u001b[34m\u001b[1mwandb\u001b[0m: \tbagging_freq: 15\n",
      "\u001b[34m\u001b[1mwandb\u001b[0m: \tfeature_fraction: 0.8080140242138856\n",
      "\u001b[34m\u001b[1mwandb\u001b[0m: \tlambda_l1: 0.49115647955440433\n",
      "\u001b[34m\u001b[1mwandb\u001b[0m: \tlambda_l2: 8.039856021095117\n",
      "\u001b[34m\u001b[1mwandb\u001b[0m: \tlearning_rate: 0.04015437034888322\n",
      "\u001b[34m\u001b[1mwandb\u001b[0m: \tmax_depth: 42\n",
      "\u001b[34m\u001b[1mwandb\u001b[0m: \tmin_data_in_leaf: 73\n",
      "\u001b[34m\u001b[1mwandb\u001b[0m: \tnum_leaves: 46\n",
      "\u001b[34m\u001b[1mwandb\u001b[0m: \tratio: 0.11740561219711856\n",
      "\u001b[34m\u001b[1mwandb\u001b[0m: \u001b[33mWARNING\u001b[0m Ignored wandb.init() arg project when running a sweep.\n"
     ]
    },
    {
     "data": {
      "text/html": [
       "Tracking run with wandb version 0.16.2"
      ],
      "text/plain": [
       "<IPython.core.display.HTML object>"
      ]
     },
     "metadata": {},
     "output_type": "display_data"
    },
    {
     "data": {
      "text/html": [
       "Run data is saved locally in <code>/data/ephemeral/home/level2-dkt-recsys-06/code/boost/wandb/run-20240124_090021-6t63vqgz</code>"
      ],
      "text/plain": [
       "<IPython.core.display.HTML object>"
      ]
     },
     "metadata": {},
     "output_type": "display_data"
    },
    {
     "data": {
      "text/html": [
       "Syncing run <strong><a href='https://wandb.ai/boostcamp6-recsys6/lightgbm-sweep/runs/6t63vqgz' target=\"_blank\">revived-sweep-5</a></strong> to <a href='https://wandb.ai/boostcamp6-recsys6/lightgbm-sweep' target=\"_blank\">Weights & Biases</a> (<a href='https://wandb.me/run' target=\"_blank\">docs</a>)<br/>Sweep page: <a href='https://wandb.ai/boostcamp6-recsys6/lightgbm-sweep/sweeps/fdskahx2' target=\"_blank\">https://wandb.ai/boostcamp6-recsys6/lightgbm-sweep/sweeps/fdskahx2</a>"
      ],
      "text/plain": [
       "<IPython.core.display.HTML object>"
      ]
     },
     "metadata": {},
     "output_type": "display_data"
    },
    {
     "data": {
      "text/html": [
       " View project at <a href='https://wandb.ai/boostcamp6-recsys6/lightgbm-sweep' target=\"_blank\">https://wandb.ai/boostcamp6-recsys6/lightgbm-sweep</a>"
      ],
      "text/plain": [
       "<IPython.core.display.HTML object>"
      ]
     },
     "metadata": {},
     "output_type": "display_data"
    },
    {
     "data": {
      "text/html": [
       " View sweep at <a href='https://wandb.ai/boostcamp6-recsys6/lightgbm-sweep/sweeps/fdskahx2' target=\"_blank\">https://wandb.ai/boostcamp6-recsys6/lightgbm-sweep/sweeps/fdskahx2</a>"
      ],
      "text/plain": [
       "<IPython.core.display.HTML object>"
      ]
     },
     "metadata": {},
     "output_type": "display_data"
    },
    {
     "data": {
      "text/html": [
       " View run at <a href='https://wandb.ai/boostcamp6-recsys6/lightgbm-sweep/runs/6t63vqgz' target=\"_blank\">https://wandb.ai/boostcamp6-recsys6/lightgbm-sweep/runs/6t63vqgz</a>"
      ],
      "text/plain": [
       "<IPython.core.display.HTML object>"
      ]
     },
     "metadata": {},
     "output_type": "display_data"
    },
    {
     "name": "stdout",
     "output_type": "stream",
     "text": [
      "[LightGBM] [Warning] Categorical features with more bins than the configured maximum bin number found.\n",
      "[LightGBM] [Warning] For categorical features, max_bin and max_bin_by_feature may be ignored with a large number of categories.\n",
      "[LightGBM] [Info] Number of positive: 1459437, number of negative: 769960\n",
      "[LightGBM] [Info] Auto-choosing col-wise multi-threading, the overhead of testing was 0.282715 seconds.\n",
      "You can set `force_col_wise=true` to remove the overhead.\n",
      "[LightGBM] [Info] Total Bins 22374\n",
      "[LightGBM] [Info] Number of data points in the train set: 2229397, number of used features: 35\n",
      "[LightGBM] [Info] [binary:BoostFromScore]: pavg=0.654633 -> initscore=0.639467\n",
      "[LightGBM] [Info] Start training from score 0.639467\n"
     ]
    },
    {
     "name": "stderr",
     "output_type": "stream",
     "text": [
      "\u001b[34m\u001b[1mwandb\u001b[0m: \u001b[33mWARNING\u001b[0m Config item 'num_leaves' was locked by 'sweep' (ignored update).\n",
      "\u001b[34m\u001b[1mwandb\u001b[0m: \u001b[33mWARNING\u001b[0m Config item 'learning_rate' was locked by 'sweep' (ignored update).\n",
      "\u001b[34m\u001b[1mwandb\u001b[0m: \u001b[33mWARNING\u001b[0m Config item 'max_depth' was locked by 'sweep' (ignored update).\n",
      "\u001b[34m\u001b[1mwandb\u001b[0m: \u001b[33mWARNING\u001b[0m Config item 'min_data_in_leaf' was locked by 'sweep' (ignored update).\n",
      "\u001b[34m\u001b[1mwandb\u001b[0m: \u001b[33mWARNING\u001b[0m Config item 'feature_fraction' was locked by 'sweep' (ignored update).\n",
      "\u001b[34m\u001b[1mwandb\u001b[0m: \u001b[33mWARNING\u001b[0m Config item 'bagging_fraction' was locked by 'sweep' (ignored update).\n",
      "\u001b[34m\u001b[1mwandb\u001b[0m: \u001b[33mWARNING\u001b[0m Config item 'bagging_freq' was locked by 'sweep' (ignored update).\n",
      "\u001b[34m\u001b[1mwandb\u001b[0m: \u001b[33mWARNING\u001b[0m Config item 'lambda_l1' was locked by 'sweep' (ignored update).\n",
      "\u001b[34m\u001b[1mwandb\u001b[0m: \u001b[33mWARNING\u001b[0m Config item 'lambda_l2' was locked by 'sweep' (ignored update).\n"
     ]
    },
    {
     "name": "stdout",
     "output_type": "stream",
     "text": [
      "Training until validation scores don't improve for 30 rounds\n",
      "Did not meet early stopping. Best iteration is:\n",
      "[500]\ttraining's auc: 0.881439\tvalid_1's auc: 0.859767\n",
      "VALID AUC : 0.8597666406185446 ACC : 0.8053237298480235\n",
      "\n"
     ]
    },
    {
     "data": {
      "text/html": [
       "<style>\n",
       "    table.wandb td:nth-child(1) { padding: 0 10px; text-align: left ; width: auto;} td:nth-child(2) {text-align: left ; width: 100%}\n",
       "    .wandb-row { display: flex; flex-direction: row; flex-wrap: wrap; justify-content: flex-start; width: 100% }\n",
       "    .wandb-col { display: flex; flex-direction: column; flex-basis: 100%; flex: 1; padding: 10px; }\n",
       "    </style>\n",
       "<div class=\"wandb-row\"><div class=\"wandb-col\"><h3>Run history:</h3><br/><table class=\"wandb\"><tr><td>accuracy</td><td>▁</td></tr><tr><td>auc</td><td>▁</td></tr><tr><td>iteration</td><td>▁▁▁▂▂▂▂▂▂▃▃▃▃▃▄▄▄▄▄▄▅▅▅▅▅▅▆▆▆▆▆▇▇▇▇▇▇███</td></tr><tr><td>training_auc</td><td>▁▂▂▃▃▄▄▄▅▅▅▅▅▆▆▆▆▆▆▆▆▇▇▇▇▇▇▇▇▇▇▇████████</td></tr><tr><td>valid_1_auc</td><td>▁▂▃▄▅▅▆▆▆▆▇▇▇▇▇▇▇▇▇▇████████████████████</td></tr></table><br/></div><div class=\"wandb-col\"><h3>Run summary:</h3><br/><table class=\"wandb\"><tr><td>accuracy</td><td>0.80532</td></tr><tr><td>auc</td><td>0.85977</td></tr><tr><td>iteration</td><td>499</td></tr></table><br/></div></div>"
      ],
      "text/plain": [
       "<IPython.core.display.HTML object>"
      ]
     },
     "metadata": {},
     "output_type": "display_data"
    },
    {
     "data": {
      "text/html": [
       " View run <strong style=\"color:#cdcd00\">revived-sweep-5</strong> at: <a href='https://wandb.ai/boostcamp6-recsys6/lightgbm-sweep/runs/6t63vqgz' target=\"_blank\">https://wandb.ai/boostcamp6-recsys6/lightgbm-sweep/runs/6t63vqgz</a><br/>Synced 6 W&B file(s), 0 media file(s), 0 artifact file(s) and 0 other file(s)"
      ],
      "text/plain": [
       "<IPython.core.display.HTML object>"
      ]
     },
     "metadata": {},
     "output_type": "display_data"
    },
    {
     "data": {
      "text/html": [
       "Find logs at: <code>./wandb/run-20240124_090021-6t63vqgz/logs</code>"
      ],
      "text/plain": [
       "<IPython.core.display.HTML object>"
      ]
     },
     "metadata": {},
     "output_type": "display_data"
    },
    {
     "name": "stdout",
     "output_type": "stream",
     "text": [
      "writing prediction : output/auc:0.8597666406185446 acc:0.8053237298480235sweep lgbm.csv\n",
      "                                      Feature  Importance\n",
      "0                                      userID        8386\n",
      "1                            assessmentItemID        6274\n",
      "2                                      testId        2403\n",
      "3                                KnowledgeTag        1733\n",
      "15                                    ItemAcc         715\n",
      "14                            UserItemElapsed         605\n",
      "13                      CumulativeUserItemAcc         343\n",
      "17           AverageItemSolvingTime_Incorrect         290\n",
      "5                                 SolvingTime         188\n",
      "19  Difference_SolvingTime_AvgItemSolvingTime         187\n",
      "20                      UserTagAvgSolvingTime         172\n",
      "23        CumulativeUserTagExponentialAverage         133\n",
      "29                                    TestAcc         115\n",
      "22                CumulativeUserTagAverageAcc         110\n",
      "6                              CumulativeTime         109\n",
      "28                         PreviousItemAnswer         109\n",
      "31                         categorize_ItemAcc          97\n",
      "21                                     TagAcc          82\n",
      "16             AverageItemSolvingTime_Correct          66\n",
      "12                            Item_last30days          59\n",
      "24                               UserTagCount          59\n",
      "10                        CumulativeItemCount          43\n",
      "30                     categorize_solvingTime          37\n",
      "8                                   TimeOfDay          34\n",
      "27                        UserRecentTagAnswer          33\n",
      "11                             Item_last7days          25\n",
      "34           categorize_CumulativeUserItemAcc          23\n",
      "4                                     Itemseq          22\n",
      "7                                       Month          14\n",
      "18                     AverageItemSolvingTime          14\n",
      "9   Difference_SolvingTime_UserAvgSolvingTime          13\n",
      "35     categorize_CumulativeUserTagAverageAcc           5\n",
      "26                         PastTagSolvingTime           2\n",
      "25                             UserTagElapsed           0\n",
      "33                         categorize_TestAcc           0\n",
      "32                          categorize_TagAcc           0\n"
     ]
    },
    {
     "name": "stderr",
     "output_type": "stream",
     "text": [
      "\u001b[34m\u001b[1mwandb\u001b[0m: Agent Starting Run: 67anjxje with config:\n",
      "\u001b[34m\u001b[1mwandb\u001b[0m: \tbagging_fraction: 0.8481034854876464\n",
      "\u001b[34m\u001b[1mwandb\u001b[0m: \tbagging_freq: 7\n",
      "\u001b[34m\u001b[1mwandb\u001b[0m: \tfeature_fraction: 0.5786504287877465\n",
      "\u001b[34m\u001b[1mwandb\u001b[0m: \tlambda_l1: 4.102294379470218\n",
      "\u001b[34m\u001b[1mwandb\u001b[0m: \tlambda_l2: 1.329074688190912\n",
      "\u001b[34m\u001b[1mwandb\u001b[0m: \tlearning_rate: 0.2249712907009698\n",
      "\u001b[34m\u001b[1mwandb\u001b[0m: \tmax_depth: 42\n",
      "\u001b[34m\u001b[1mwandb\u001b[0m: \tmin_data_in_leaf: 56\n",
      "\u001b[34m\u001b[1mwandb\u001b[0m: \tnum_leaves: 31\n",
      "\u001b[34m\u001b[1mwandb\u001b[0m: \tratio: 0.12554729947049087\n",
      "\u001b[34m\u001b[1mwandb\u001b[0m: \u001b[33mWARNING\u001b[0m Ignored wandb.init() arg project when running a sweep.\n"
     ]
    },
    {
     "data": {
      "text/html": [
       "Tracking run with wandb version 0.16.2"
      ],
      "text/plain": [
       "<IPython.core.display.HTML object>"
      ]
     },
     "metadata": {},
     "output_type": "display_data"
    },
    {
     "data": {
      "text/html": [
       "Run data is saved locally in <code>/data/ephemeral/home/level2-dkt-recsys-06/code/boost/wandb/run-20240124_090629-67anjxje</code>"
      ],
      "text/plain": [
       "<IPython.core.display.HTML object>"
      ]
     },
     "metadata": {},
     "output_type": "display_data"
    },
    {
     "data": {
      "text/html": [
       "Syncing run <strong><a href='https://wandb.ai/boostcamp6-recsys6/lightgbm-sweep/runs/67anjxje' target=\"_blank\">blooming-sweep-6</a></strong> to <a href='https://wandb.ai/boostcamp6-recsys6/lightgbm-sweep' target=\"_blank\">Weights & Biases</a> (<a href='https://wandb.me/run' target=\"_blank\">docs</a>)<br/>Sweep page: <a href='https://wandb.ai/boostcamp6-recsys6/lightgbm-sweep/sweeps/fdskahx2' target=\"_blank\">https://wandb.ai/boostcamp6-recsys6/lightgbm-sweep/sweeps/fdskahx2</a>"
      ],
      "text/plain": [
       "<IPython.core.display.HTML object>"
      ]
     },
     "metadata": {},
     "output_type": "display_data"
    },
    {
     "data": {
      "text/html": [
       " View project at <a href='https://wandb.ai/boostcamp6-recsys6/lightgbm-sweep' target=\"_blank\">https://wandb.ai/boostcamp6-recsys6/lightgbm-sweep</a>"
      ],
      "text/plain": [
       "<IPython.core.display.HTML object>"
      ]
     },
     "metadata": {},
     "output_type": "display_data"
    },
    {
     "data": {
      "text/html": [
       " View sweep at <a href='https://wandb.ai/boostcamp6-recsys6/lightgbm-sweep/sweeps/fdskahx2' target=\"_blank\">https://wandb.ai/boostcamp6-recsys6/lightgbm-sweep/sweeps/fdskahx2</a>"
      ],
      "text/plain": [
       "<IPython.core.display.HTML object>"
      ]
     },
     "metadata": {},
     "output_type": "display_data"
    },
    {
     "data": {
      "text/html": [
       " View run at <a href='https://wandb.ai/boostcamp6-recsys6/lightgbm-sweep/runs/67anjxje' target=\"_blank\">https://wandb.ai/boostcamp6-recsys6/lightgbm-sweep/runs/67anjxje</a>"
      ],
      "text/plain": [
       "<IPython.core.display.HTML object>"
      ]
     },
     "metadata": {},
     "output_type": "display_data"
    },
    {
     "name": "stdout",
     "output_type": "stream",
     "text": [
      "[LightGBM] [Warning] Accuracy may be bad since you didn't explicitly set num_leaves OR 2^max_depth > num_leaves. (num_leaves=31).\n",
      "[LightGBM] [Warning] Categorical features with more bins than the configured maximum bin number found.\n",
      "[LightGBM] [Warning] For categorical features, max_bin and max_bin_by_feature may be ignored with a large number of categories.\n",
      "[LightGBM] [Warning] Accuracy may be bad since you didn't explicitly set num_leaves OR 2^max_depth > num_leaves. (num_leaves=31).\n",
      "[LightGBM] [Info] Number of positive: 1445777, number of negative: 762979\n",
      "[LightGBM] [Info] Auto-choosing row-wise multi-threading, the overhead of testing was 0.030200 seconds.\n",
      "You can set `force_row_wise=true` to remove the overhead.\n",
      "And if memory is not enough, you can set `force_col_wise=true`.\n",
      "[LightGBM] [Info] Total Bins 22367\n",
      "[LightGBM] [Info] Number of data points in the train set: 2208756, number of used features: 35\n",
      "[LightGBM] [Warning] Accuracy may be bad since you didn't explicitly set num_leaves OR 2^max_depth > num_leaves. (num_leaves=31).\n",
      "[LightGBM] [Info] [binary:BoostFromScore]: pavg=0.654566 -> initscore=0.639172\n",
      "[LightGBM] [Info] Start training from score 0.639172\n"
     ]
    },
    {
     "name": "stderr",
     "output_type": "stream",
     "text": [
      "\u001b[34m\u001b[1mwandb\u001b[0m: \u001b[33mWARNING\u001b[0m Config item 'num_leaves' was locked by 'sweep' (ignored update).\n",
      "\u001b[34m\u001b[1mwandb\u001b[0m: \u001b[33mWARNING\u001b[0m Config item 'learning_rate' was locked by 'sweep' (ignored update).\n",
      "\u001b[34m\u001b[1mwandb\u001b[0m: \u001b[33mWARNING\u001b[0m Config item 'max_depth' was locked by 'sweep' (ignored update).\n",
      "\u001b[34m\u001b[1mwandb\u001b[0m: \u001b[33mWARNING\u001b[0m Config item 'min_data_in_leaf' was locked by 'sweep' (ignored update).\n",
      "\u001b[34m\u001b[1mwandb\u001b[0m: \u001b[33mWARNING\u001b[0m Config item 'feature_fraction' was locked by 'sweep' (ignored update).\n",
      "\u001b[34m\u001b[1mwandb\u001b[0m: \u001b[33mWARNING\u001b[0m Config item 'bagging_fraction' was locked by 'sweep' (ignored update).\n",
      "\u001b[34m\u001b[1mwandb\u001b[0m: \u001b[33mWARNING\u001b[0m Config item 'bagging_freq' was locked by 'sweep' (ignored update).\n",
      "\u001b[34m\u001b[1mwandb\u001b[0m: \u001b[33mWARNING\u001b[0m Config item 'lambda_l1' was locked by 'sweep' (ignored update).\n",
      "\u001b[34m\u001b[1mwandb\u001b[0m: \u001b[33mWARNING\u001b[0m Config item 'lambda_l2' was locked by 'sweep' (ignored update).\n"
     ]
    },
    {
     "name": "stdout",
     "output_type": "stream",
     "text": [
      "Training until validation scores don't improve for 30 rounds\n",
      "Early stopping, best iteration is:\n",
      "[227]\ttraining's auc: 0.882434\tvalid_1's auc: 0.857114\n",
      "VALID AUC : 0.8571136661755969 ACC : 0.8023675914249685\n",
      "\n"
     ]
    },
    {
     "data": {
      "text/html": [
       "<style>\n",
       "    table.wandb td:nth-child(1) { padding: 0 10px; text-align: left ; width: auto;} td:nth-child(2) {text-align: left ; width: 100%}\n",
       "    .wandb-row { display: flex; flex-direction: row; flex-wrap: wrap; justify-content: flex-start; width: 100% }\n",
       "    .wandb-col { display: flex; flex-direction: column; flex-basis: 100%; flex: 1; padding: 10px; }\n",
       "    </style>\n",
       "<div class=\"wandb-row\"><div class=\"wandb-col\"><h3>Run history:</h3><br/><table class=\"wandb\"><tr><td>accuracy</td><td>▁</td></tr><tr><td>auc</td><td>▁</td></tr><tr><td>iteration</td><td>▁▁▁▁▂▂▂▂▂▃▃▃▃▃▃▄▄▄▄▄▅▅▅▅▅▅▆▆▆▆▆▇▇▇▇▇▇███</td></tr><tr><td>training_auc</td><td>▁▂▃▄▄▅▅▅▅▅▆▆▆▆▆▆▆▆▇▇▇▇▇▇▇▇▇▇▇▇▇█████████</td></tr><tr><td>valid_1_auc</td><td>▁▃▅▆▆▇▇▇▇▇▇█████████████████████████████</td></tr></table><br/></div><div class=\"wandb-col\"><h3>Run summary:</h3><br/><table class=\"wandb\"><tr><td>accuracy</td><td>0.80237</td></tr><tr><td>auc</td><td>0.85711</td></tr><tr><td>iteration</td><td>256</td></tr></table><br/></div></div>"
      ],
      "text/plain": [
       "<IPython.core.display.HTML object>"
      ]
     },
     "metadata": {},
     "output_type": "display_data"
    },
    {
     "data": {
      "text/html": [
       " View run <strong style=\"color:#cdcd00\">blooming-sweep-6</strong> at: <a href='https://wandb.ai/boostcamp6-recsys6/lightgbm-sweep/runs/67anjxje' target=\"_blank\">https://wandb.ai/boostcamp6-recsys6/lightgbm-sweep/runs/67anjxje</a><br/>Synced 6 W&B file(s), 0 media file(s), 0 artifact file(s) and 0 other file(s)"
      ],
      "text/plain": [
       "<IPython.core.display.HTML object>"
      ]
     },
     "metadata": {},
     "output_type": "display_data"
    },
    {
     "data": {
      "text/html": [
       "Find logs at: <code>./wandb/run-20240124_090629-67anjxje/logs</code>"
      ],
      "text/plain": [
       "<IPython.core.display.HTML object>"
      ]
     },
     "metadata": {},
     "output_type": "display_data"
    },
    {
     "name": "stdout",
     "output_type": "stream",
     "text": [
      "writing prediction : output/auc:0.8571136661755969 acc:0.8023675914249685sweep lgbm.csv\n",
      "                                      Feature  Importance\n",
      "0                                      userID        1963\n",
      "1                            assessmentItemID        1957\n",
      "3                                KnowledgeTag        1016\n",
      "2                                      testId        1014\n",
      "14                            UserItemElapsed         133\n",
      "15                                    ItemAcc         104\n",
      "13                      CumulativeUserItemAcc          63\n",
      "20                      UserTagAvgSolvingTime          54\n",
      "17           AverageItemSolvingTime_Incorrect          50\n",
      "5                                 SolvingTime          44\n",
      "6                              CumulativeTime          44\n",
      "19  Difference_SolvingTime_AvgItemSolvingTime          36\n",
      "31                         categorize_ItemAcc          33\n",
      "22                CumulativeUserTagAverageAcc          32\n",
      "23        CumulativeUserTagExponentialAverage          29\n",
      "21                                     TagAcc          27\n",
      "16             AverageItemSolvingTime_Correct          24\n",
      "24                               UserTagCount          19\n",
      "28                         PreviousItemAnswer          19\n",
      "27                        UserRecentTagAnswer          18\n",
      "29                                    TestAcc          18\n",
      "4                                     Itemseq          17\n",
      "34           categorize_CumulativeUserItemAcc          15\n",
      "8                                   TimeOfDay          11\n",
      "12                            Item_last30days          11\n",
      "7                                       Month          10\n",
      "10                        CumulativeItemCount          10\n",
      "9   Difference_SolvingTime_UserAvgSolvingTime          10\n",
      "30                     categorize_solvingTime           9\n",
      "11                             Item_last7days           7\n",
      "18                     AverageItemSolvingTime           7\n",
      "26                         PastTagSolvingTime           5\n",
      "35     categorize_CumulativeUserTagAverageAcc           1\n",
      "25                             UserTagElapsed           0\n",
      "33                         categorize_TestAcc           0\n",
      "32                          categorize_TagAcc           0\n"
     ]
    },
    {
     "name": "stderr",
     "output_type": "stream",
     "text": [
      "\u001b[34m\u001b[1mwandb\u001b[0m: Agent Starting Run: 229c34k1 with config:\n",
      "\u001b[34m\u001b[1mwandb\u001b[0m: \tbagging_fraction: 0.9476398235900002\n",
      "\u001b[34m\u001b[1mwandb\u001b[0m: \tbagging_freq: 15\n",
      "\u001b[34m\u001b[1mwandb\u001b[0m: \tfeature_fraction: 0.8661530092462761\n",
      "\u001b[34m\u001b[1mwandb\u001b[0m: \tlambda_l1: 0.43968519302151177\n",
      "\u001b[34m\u001b[1mwandb\u001b[0m: \tlambda_l2: 10.9209757462016\n",
      "\u001b[34m\u001b[1mwandb\u001b[0m: \tlearning_rate: 0.07716411477196085\n",
      "\u001b[34m\u001b[1mwandb\u001b[0m: \tmax_depth: 45\n",
      "\u001b[34m\u001b[1mwandb\u001b[0m: \tmin_data_in_leaf: 91\n",
      "\u001b[34m\u001b[1mwandb\u001b[0m: \tnum_leaves: 50\n",
      "\u001b[34m\u001b[1mwandb\u001b[0m: \tratio: 0.06217314745664852\n",
      "\u001b[34m\u001b[1mwandb\u001b[0m: \u001b[33mWARNING\u001b[0m Ignored wandb.init() arg project when running a sweep.\n"
     ]
    },
    {
     "data": {
      "text/html": [
       "Tracking run with wandb version 0.16.2"
      ],
      "text/plain": [
       "<IPython.core.display.HTML object>"
      ]
     },
     "metadata": {},
     "output_type": "display_data"
    },
    {
     "data": {
      "text/html": [
       "Run data is saved locally in <code>/data/ephemeral/home/level2-dkt-recsys-06/code/boost/wandb/run-20240124_090825-229c34k1</code>"
      ],
      "text/plain": [
       "<IPython.core.display.HTML object>"
      ]
     },
     "metadata": {},
     "output_type": "display_data"
    },
    {
     "data": {
      "text/html": [
       "Syncing run <strong><a href='https://wandb.ai/boostcamp6-recsys6/lightgbm-sweep/runs/229c34k1' target=\"_blank\">stellar-sweep-7</a></strong> to <a href='https://wandb.ai/boostcamp6-recsys6/lightgbm-sweep' target=\"_blank\">Weights & Biases</a> (<a href='https://wandb.me/run' target=\"_blank\">docs</a>)<br/>Sweep page: <a href='https://wandb.ai/boostcamp6-recsys6/lightgbm-sweep/sweeps/fdskahx2' target=\"_blank\">https://wandb.ai/boostcamp6-recsys6/lightgbm-sweep/sweeps/fdskahx2</a>"
      ],
      "text/plain": [
       "<IPython.core.display.HTML object>"
      ]
     },
     "metadata": {},
     "output_type": "display_data"
    },
    {
     "data": {
      "text/html": [
       " View project at <a href='https://wandb.ai/boostcamp6-recsys6/lightgbm-sweep' target=\"_blank\">https://wandb.ai/boostcamp6-recsys6/lightgbm-sweep</a>"
      ],
      "text/plain": [
       "<IPython.core.display.HTML object>"
      ]
     },
     "metadata": {},
     "output_type": "display_data"
    },
    {
     "data": {
      "text/html": [
       " View sweep at <a href='https://wandb.ai/boostcamp6-recsys6/lightgbm-sweep/sweeps/fdskahx2' target=\"_blank\">https://wandb.ai/boostcamp6-recsys6/lightgbm-sweep/sweeps/fdskahx2</a>"
      ],
      "text/plain": [
       "<IPython.core.display.HTML object>"
      ]
     },
     "metadata": {},
     "output_type": "display_data"
    },
    {
     "data": {
      "text/html": [
       " View run at <a href='https://wandb.ai/boostcamp6-recsys6/lightgbm-sweep/runs/229c34k1' target=\"_blank\">https://wandb.ai/boostcamp6-recsys6/lightgbm-sweep/runs/229c34k1</a>"
      ],
      "text/plain": [
       "<IPython.core.display.HTML object>"
      ]
     },
     "metadata": {},
     "output_type": "display_data"
    },
    {
     "name": "stdout",
     "output_type": "stream",
     "text": [
      "[LightGBM] [Warning] Categorical features with more bins than the configured maximum bin number found.\n",
      "[LightGBM] [Warning] For categorical features, max_bin and max_bin_by_feature may be ignored with a large number of categories.\n",
      "[LightGBM] [Info] Number of positive: 1550940, number of negative: 817984\n",
      "[LightGBM] [Info] Auto-choosing row-wise multi-threading, the overhead of testing was 0.059901 seconds.\n",
      "You can set `force_row_wise=true` to remove the overhead.\n",
      "And if memory is not enough, you can set `force_col_wise=true`.\n",
      "[LightGBM] [Info] Total Bins 22362\n",
      "[LightGBM] [Info] Number of data points in the train set: 2368924, number of used features: 35\n",
      "[LightGBM] [Info] [binary:BoostFromScore]: pavg=0.654702 -> initscore=0.639774\n",
      "[LightGBM] [Info] Start training from score 0.639774\n"
     ]
    },
    {
     "name": "stderr",
     "output_type": "stream",
     "text": [
      "\u001b[34m\u001b[1mwandb\u001b[0m: \u001b[33mWARNING\u001b[0m Config item 'num_leaves' was locked by 'sweep' (ignored update).\n",
      "\u001b[34m\u001b[1mwandb\u001b[0m: \u001b[33mWARNING\u001b[0m Config item 'learning_rate' was locked by 'sweep' (ignored update).\n",
      "\u001b[34m\u001b[1mwandb\u001b[0m: \u001b[33mWARNING\u001b[0m Config item 'max_depth' was locked by 'sweep' (ignored update).\n",
      "\u001b[34m\u001b[1mwandb\u001b[0m: \u001b[33mWARNING\u001b[0m Config item 'min_data_in_leaf' was locked by 'sweep' (ignored update).\n",
      "\u001b[34m\u001b[1mwandb\u001b[0m: \u001b[33mWARNING\u001b[0m Config item 'feature_fraction' was locked by 'sweep' (ignored update).\n",
      "\u001b[34m\u001b[1mwandb\u001b[0m: \u001b[33mWARNING\u001b[0m Config item 'bagging_fraction' was locked by 'sweep' (ignored update).\n",
      "\u001b[34m\u001b[1mwandb\u001b[0m: \u001b[33mWARNING\u001b[0m Config item 'bagging_freq' was locked by 'sweep' (ignored update).\n",
      "\u001b[34m\u001b[1mwandb\u001b[0m: \u001b[33mWARNING\u001b[0m Config item 'lambda_l1' was locked by 'sweep' (ignored update).\n",
      "\u001b[34m\u001b[1mwandb\u001b[0m: \u001b[33mWARNING\u001b[0m Config item 'lambda_l2' was locked by 'sweep' (ignored update).\n"
     ]
    },
    {
     "name": "stdout",
     "output_type": "stream",
     "text": [
      "Training until validation scores don't improve for 30 rounds\n",
      "Early stopping, best iteration is:\n",
      "[429]\ttraining's auc: 0.892944\tvalid_1's auc: 0.860474\n",
      "VALID AUC : 0.8604740139175818 ACC : 0.805275357888838\n",
      "\n"
     ]
    },
    {
     "data": {
      "text/html": [
       "<style>\n",
       "    table.wandb td:nth-child(1) { padding: 0 10px; text-align: left ; width: auto;} td:nth-child(2) {text-align: left ; width: 100%}\n",
       "    .wandb-row { display: flex; flex-direction: row; flex-wrap: wrap; justify-content: flex-start; width: 100% }\n",
       "    .wandb-col { display: flex; flex-direction: column; flex-basis: 100%; flex: 1; padding: 10px; }\n",
       "    </style>\n",
       "<div class=\"wandb-row\"><div class=\"wandb-col\"><h3>Run history:</h3><br/><table class=\"wandb\"><tr><td>accuracy</td><td>▁</td></tr><tr><td>auc</td><td>▁</td></tr><tr><td>iteration</td><td>▁▁▁▁▂▂▂▂▂▃▃▃▃▃▃▄▄▄▄▄▅▅▅▅▅▅▆▆▆▆▆▇▇▇▇▇▇███</td></tr><tr><td>training_auc</td><td>▁▂▂▃▃▄▄▅▅▅▅▅▅▆▆▆▆▆▆▆▆▇▇▇▇▇▇▇▇▇▇▇████████</td></tr><tr><td>valid_1_auc</td><td>▁▂▄▅▆▆▇▇▇▇▇▇▇▇██████████████████████████</td></tr></table><br/></div><div class=\"wandb-col\"><h3>Run summary:</h3><br/><table class=\"wandb\"><tr><td>accuracy</td><td>0.80528</td></tr><tr><td>auc</td><td>0.86047</td></tr><tr><td>iteration</td><td>458</td></tr></table><br/></div></div>"
      ],
      "text/plain": [
       "<IPython.core.display.HTML object>"
      ]
     },
     "metadata": {},
     "output_type": "display_data"
    },
    {
     "data": {
      "text/html": [
       " View run <strong style=\"color:#cdcd00\">stellar-sweep-7</strong> at: <a href='https://wandb.ai/boostcamp6-recsys6/lightgbm-sweep/runs/229c34k1' target=\"_blank\">https://wandb.ai/boostcamp6-recsys6/lightgbm-sweep/runs/229c34k1</a><br/>Synced 6 W&B file(s), 0 media file(s), 0 artifact file(s) and 0 other file(s)"
      ],
      "text/plain": [
       "<IPython.core.display.HTML object>"
      ]
     },
     "metadata": {},
     "output_type": "display_data"
    },
    {
     "data": {
      "text/html": [
       "Find logs at: <code>./wandb/run-20240124_090825-229c34k1/logs</code>"
      ],
      "text/plain": [
       "<IPython.core.display.HTML object>"
      ]
     },
     "metadata": {},
     "output_type": "display_data"
    },
    {
     "name": "stdout",
     "output_type": "stream",
     "text": [
      "writing prediction : output/auc:0.8604740139175818 acc:0.805275357888838sweep lgbm.csv\n",
      "                                      Feature  Importance\n",
      "0                                      userID        8052\n",
      "1                            assessmentItemID        6591\n",
      "2                                      testId        2264\n",
      "3                                KnowledgeTag        1819\n",
      "15                                    ItemAcc         400\n",
      "14                            UserItemElapsed         373\n",
      "13                      CumulativeUserItemAcc         239\n",
      "17           AverageItemSolvingTime_Incorrect         165\n",
      "20                      UserTagAvgSolvingTime         129\n",
      "5                                 SolvingTime         123\n",
      "19  Difference_SolvingTime_AvgItemSolvingTime         104\n",
      "6                              CumulativeTime          98\n",
      "23        CumulativeUserTagExponentialAverage          97\n",
      "28                         PreviousItemAnswer          70\n",
      "29                                    TestAcc          61\n",
      "22                CumulativeUserTagAverageAcc          53\n",
      "21                                     TagAcc          49\n",
      "31                         categorize_ItemAcc          43\n",
      "24                               UserTagCount          41\n",
      "27                        UserRecentTagAnswer          38\n",
      "16             AverageItemSolvingTime_Correct          33\n",
      "12                            Item_last30days          29\n",
      "8                                   TimeOfDay          28\n",
      "10                        CumulativeItemCount          27\n",
      "7                                       Month          23\n",
      "30                     categorize_solvingTime          18\n",
      "11                             Item_last7days          15\n",
      "34           categorize_CumulativeUserItemAcc          11\n",
      "4                                     Itemseq           9\n",
      "18                     AverageItemSolvingTime           8\n",
      "9   Difference_SolvingTime_UserAvgSolvingTime           6\n",
      "35     categorize_CumulativeUserTagAverageAcc           4\n",
      "26                         PastTagSolvingTime           1\n",
      "25                             UserTagElapsed           0\n",
      "33                         categorize_TestAcc           0\n",
      "32                          categorize_TagAcc           0\n"
     ]
    },
    {
     "name": "stderr",
     "output_type": "stream",
     "text": [
      "\u001b[34m\u001b[1mwandb\u001b[0m: Sweep Agent: Waiting for job.\n",
      "\u001b[34m\u001b[1mwandb\u001b[0m: Job received.\n",
      "\u001b[34m\u001b[1mwandb\u001b[0m: Agent Starting Run: glvs623p with config:\n",
      "\u001b[34m\u001b[1mwandb\u001b[0m: \tbagging_fraction: 0.9910040674867368\n",
      "\u001b[34m\u001b[1mwandb\u001b[0m: \tbagging_freq: 15\n",
      "\u001b[34m\u001b[1mwandb\u001b[0m: \tfeature_fraction: 0.6956893303485538\n",
      "\u001b[34m\u001b[1mwandb\u001b[0m: \tlambda_l1: 1.7637891500578071\n",
      "\u001b[34m\u001b[1mwandb\u001b[0m: \tlambda_l2: 11.08522969863944\n",
      "\u001b[34m\u001b[1mwandb\u001b[0m: \tlearning_rate: 0.0660938160009302\n",
      "\u001b[34m\u001b[1mwandb\u001b[0m: \tmax_depth: 35\n",
      "\u001b[34m\u001b[1mwandb\u001b[0m: \tmin_data_in_leaf: 70\n",
      "\u001b[34m\u001b[1mwandb\u001b[0m: \tnum_leaves: 58\n",
      "\u001b[34m\u001b[1mwandb\u001b[0m: \tratio: 0.06511480343549532\n",
      "\u001b[34m\u001b[1mwandb\u001b[0m: \u001b[33mWARNING\u001b[0m Ignored wandb.init() arg project when running a sweep.\n"
     ]
    },
    {
     "data": {
      "text/html": [
       "Tracking run with wandb version 0.16.2"
      ],
      "text/plain": [
       "<IPython.core.display.HTML object>"
      ]
     },
     "metadata": {},
     "output_type": "display_data"
    },
    {
     "data": {
      "text/html": [
       "Run data is saved locally in <code>/data/ephemeral/home/level2-dkt-recsys-06/code/boost/wandb/run-20240124_091220-glvs623p</code>"
      ],
      "text/plain": [
       "<IPython.core.display.HTML object>"
      ]
     },
     "metadata": {},
     "output_type": "display_data"
    },
    {
     "data": {
      "text/html": [
       "Syncing run <strong><a href='https://wandb.ai/boostcamp6-recsys6/lightgbm-sweep/runs/glvs623p' target=\"_blank\">helpful-sweep-8</a></strong> to <a href='https://wandb.ai/boostcamp6-recsys6/lightgbm-sweep' target=\"_blank\">Weights & Biases</a> (<a href='https://wandb.me/run' target=\"_blank\">docs</a>)<br/>Sweep page: <a href='https://wandb.ai/boostcamp6-recsys6/lightgbm-sweep/sweeps/fdskahx2' target=\"_blank\">https://wandb.ai/boostcamp6-recsys6/lightgbm-sweep/sweeps/fdskahx2</a>"
      ],
      "text/plain": [
       "<IPython.core.display.HTML object>"
      ]
     },
     "metadata": {},
     "output_type": "display_data"
    },
    {
     "data": {
      "text/html": [
       " View project at <a href='https://wandb.ai/boostcamp6-recsys6/lightgbm-sweep' target=\"_blank\">https://wandb.ai/boostcamp6-recsys6/lightgbm-sweep</a>"
      ],
      "text/plain": [
       "<IPython.core.display.HTML object>"
      ]
     },
     "metadata": {},
     "output_type": "display_data"
    },
    {
     "data": {
      "text/html": [
       " View sweep at <a href='https://wandb.ai/boostcamp6-recsys6/lightgbm-sweep/sweeps/fdskahx2' target=\"_blank\">https://wandb.ai/boostcamp6-recsys6/lightgbm-sweep/sweeps/fdskahx2</a>"
      ],
      "text/plain": [
       "<IPython.core.display.HTML object>"
      ]
     },
     "metadata": {},
     "output_type": "display_data"
    },
    {
     "data": {
      "text/html": [
       " View run at <a href='https://wandb.ai/boostcamp6-recsys6/lightgbm-sweep/runs/glvs623p' target=\"_blank\">https://wandb.ai/boostcamp6-recsys6/lightgbm-sweep/runs/glvs623p</a>"
      ],
      "text/plain": [
       "<IPython.core.display.HTML object>"
      ]
     },
     "metadata": {},
     "output_type": "display_data"
    },
    {
     "name": "stdout",
     "output_type": "stream",
     "text": [
      "[LightGBM] [Warning] Categorical features with more bins than the configured maximum bin number found.\n",
      "[LightGBM] [Warning] For categorical features, max_bin and max_bin_by_feature may be ignored with a large number of categories.\n",
      "[LightGBM] [Info] Number of positive: 1546197, number of negative: 815366\n",
      "[LightGBM] [Info] Auto-choosing row-wise multi-threading, the overhead of testing was 0.048517 seconds.\n",
      "You can set `force_row_wise=true` to remove the overhead.\n",
      "And if memory is not enough, you can set `force_col_wise=true`.\n",
      "[LightGBM] [Info] Total Bins 22363\n",
      "[LightGBM] [Info] Number of data points in the train set: 2361563, number of used features: 35\n",
      "[LightGBM] [Info] [binary:BoostFromScore]: pavg=0.654735 -> initscore=0.639917\n",
      "[LightGBM] [Info] Start training from score 0.639917\n"
     ]
    },
    {
     "name": "stderr",
     "output_type": "stream",
     "text": [
      "\u001b[34m\u001b[1mwandb\u001b[0m: \u001b[33mWARNING\u001b[0m Config item 'num_leaves' was locked by 'sweep' (ignored update).\n",
      "\u001b[34m\u001b[1mwandb\u001b[0m: \u001b[33mWARNING\u001b[0m Config item 'learning_rate' was locked by 'sweep' (ignored update).\n",
      "\u001b[34m\u001b[1mwandb\u001b[0m: \u001b[33mWARNING\u001b[0m Config item 'max_depth' was locked by 'sweep' (ignored update).\n",
      "\u001b[34m\u001b[1mwandb\u001b[0m: \u001b[33mWARNING\u001b[0m Config item 'min_data_in_leaf' was locked by 'sweep' (ignored update).\n",
      "\u001b[34m\u001b[1mwandb\u001b[0m: \u001b[33mWARNING\u001b[0m Config item 'feature_fraction' was locked by 'sweep' (ignored update).\n",
      "\u001b[34m\u001b[1mwandb\u001b[0m: \u001b[33mWARNING\u001b[0m Config item 'bagging_fraction' was locked by 'sweep' (ignored update).\n",
      "\u001b[34m\u001b[1mwandb\u001b[0m: \u001b[33mWARNING\u001b[0m Config item 'bagging_freq' was locked by 'sweep' (ignored update).\n",
      "\u001b[34m\u001b[1mwandb\u001b[0m: \u001b[33mWARNING\u001b[0m Config item 'lambda_l1' was locked by 'sweep' (ignored update).\n",
      "\u001b[34m\u001b[1mwandb\u001b[0m: \u001b[33mWARNING\u001b[0m Config item 'lambda_l2' was locked by 'sweep' (ignored update).\n"
     ]
    },
    {
     "name": "stdout",
     "output_type": "stream",
     "text": [
      "Training until validation scores don't improve for 30 rounds\n",
      "Did not meet early stopping. Best iteration is:\n",
      "[494]\ttraining's auc: 0.895359\tvalid_1's auc: 0.861699\n",
      "VALID AUC : 0.8616990949035715 ACC : 0.8051559372966002\n",
      "\n"
     ]
    },
    {
     "data": {
      "text/html": [
       "<style>\n",
       "    table.wandb td:nth-child(1) { padding: 0 10px; text-align: left ; width: auto;} td:nth-child(2) {text-align: left ; width: 100%}\n",
       "    .wandb-row { display: flex; flex-direction: row; flex-wrap: wrap; justify-content: flex-start; width: 100% }\n",
       "    .wandb-col { display: flex; flex-direction: column; flex-basis: 100%; flex: 1; padding: 10px; }\n",
       "    </style>\n",
       "<div class=\"wandb-row\"><div class=\"wandb-col\"><h3>Run history:</h3><br/><table class=\"wandb\"><tr><td>accuracy</td><td>▁</td></tr><tr><td>auc</td><td>▁</td></tr><tr><td>iteration</td><td>▁▁▁▂▂▂▂▂▂▃▃▃▃▃▄▄▄▄▄▄▅▅▅▅▅▅▆▆▆▆▆▇▇▇▇▇▇███</td></tr><tr><td>training_auc</td><td>▁▂▂▃▃▄▄▄▅▅▅▅▅▆▆▆▆▆▆▆▆▇▇▇▇▇▇▇▇▇▇▇████████</td></tr><tr><td>valid_1_auc</td><td>▁▃▄▅▅▆▆▇▇▇▇▇▇▇▇█████████████████████████</td></tr></table><br/></div><div class=\"wandb-col\"><h3>Run summary:</h3><br/><table class=\"wandb\"><tr><td>accuracy</td><td>0.80516</td></tr><tr><td>auc</td><td>0.8617</td></tr><tr><td>iteration</td><td>499</td></tr></table><br/></div></div>"
      ],
      "text/plain": [
       "<IPython.core.display.HTML object>"
      ]
     },
     "metadata": {},
     "output_type": "display_data"
    },
    {
     "data": {
      "text/html": [
       " View run <strong style=\"color:#cdcd00\">helpful-sweep-8</strong> at: <a href='https://wandb.ai/boostcamp6-recsys6/lightgbm-sweep/runs/glvs623p' target=\"_blank\">https://wandb.ai/boostcamp6-recsys6/lightgbm-sweep/runs/glvs623p</a><br/>Synced 6 W&B file(s), 0 media file(s), 0 artifact file(s) and 0 other file(s)"
      ],
      "text/plain": [
       "<IPython.core.display.HTML object>"
      ]
     },
     "metadata": {},
     "output_type": "display_data"
    },
    {
     "data": {
      "text/html": [
       "Find logs at: <code>./wandb/run-20240124_091220-glvs623p/logs</code>"
      ],
      "text/plain": [
       "<IPython.core.display.HTML object>"
      ]
     },
     "metadata": {},
     "output_type": "display_data"
    },
    {
     "name": "stdout",
     "output_type": "stream",
     "text": [
      "writing prediction : output/auc:0.8616990949035715 acc:0.8051559372966002sweep lgbm.csv\n",
      "                                      Feature  Importance\n",
      "0                                      userID        9581\n",
      "1                            assessmentItemID        8870\n",
      "2                                      testId        3610\n",
      "3                                KnowledgeTag        2784\n",
      "14                            UserItemElapsed         544\n",
      "15                                    ItemAcc         434\n",
      "13                      CumulativeUserItemAcc         315\n",
      "17           AverageItemSolvingTime_Incorrect         210\n",
      "5                                 SolvingTime         186\n",
      "20                      UserTagAvgSolvingTime         185\n",
      "6                              CumulativeTime         147\n",
      "19  Difference_SolvingTime_AvgItemSolvingTime         145\n",
      "23        CumulativeUserTagExponentialAverage         144\n",
      "31                         categorize_ItemAcc         122\n",
      "22                CumulativeUserTagAverageAcc          97\n",
      "29                                    TestAcc          91\n",
      "28                         PreviousItemAnswer          82\n",
      "24                               UserTagCount          68\n",
      "21                                     TagAcc          64\n",
      "16             AverageItemSolvingTime_Correct          63\n",
      "27                        UserRecentTagAnswer          54\n",
      "7                                       Month          47\n",
      "12                            Item_last30days          44\n",
      "8                                   TimeOfDay          39\n",
      "10                        CumulativeItemCount          39\n",
      "34           categorize_CumulativeUserItemAcc          37\n",
      "4                                     Itemseq          37\n",
      "11                             Item_last7days          28\n",
      "30                     categorize_solvingTime          25\n",
      "18                     AverageItemSolvingTime          22\n",
      "9   Difference_SolvingTime_UserAvgSolvingTime          17\n",
      "35     categorize_CumulativeUserTagAverageAcc          15\n",
      "26                         PastTagSolvingTime          12\n",
      "25                             UserTagElapsed           0\n",
      "33                         categorize_TestAcc           0\n",
      "32                          categorize_TagAcc           0\n"
     ]
    },
    {
     "name": "stderr",
     "output_type": "stream",
     "text": [
      "\u001b[34m\u001b[1mwandb\u001b[0m: Agent Starting Run: i12dzqga with config:\n",
      "\u001b[34m\u001b[1mwandb\u001b[0m: \tbagging_fraction: 0.9808782939544656\n",
      "\u001b[34m\u001b[1mwandb\u001b[0m: \tbagging_freq: 13\n",
      "\u001b[34m\u001b[1mwandb\u001b[0m: \tfeature_fraction: 0.7261281367354071\n",
      "\u001b[34m\u001b[1mwandb\u001b[0m: \tlambda_l1: 1.4269061754405532\n",
      "\u001b[34m\u001b[1mwandb\u001b[0m: \tlambda_l2: 3.560596335654002\n",
      "\u001b[34m\u001b[1mwandb\u001b[0m: \tlearning_rate: 0.2708030436313351\n",
      "\u001b[34m\u001b[1mwandb\u001b[0m: \tmax_depth: 45\n",
      "\u001b[34m\u001b[1mwandb\u001b[0m: \tmin_data_in_leaf: 90\n",
      "\u001b[34m\u001b[1mwandb\u001b[0m: \tnum_leaves: 60\n",
      "\u001b[34m\u001b[1mwandb\u001b[0m: \tratio: 0.054941101836389825\n",
      "\u001b[34m\u001b[1mwandb\u001b[0m: \u001b[33mWARNING\u001b[0m Ignored wandb.init() arg project when running a sweep.\n"
     ]
    },
    {
     "data": {
      "text/html": [
       "Tracking run with wandb version 0.16.2"
      ],
      "text/plain": [
       "<IPython.core.display.HTML object>"
      ]
     },
     "metadata": {},
     "output_type": "display_data"
    },
    {
     "data": {
      "text/html": [
       "Run data is saved locally in <code>/data/ephemeral/home/level2-dkt-recsys-06/code/boost/wandb/run-20240124_091637-i12dzqga</code>"
      ],
      "text/plain": [
       "<IPython.core.display.HTML object>"
      ]
     },
     "metadata": {},
     "output_type": "display_data"
    },
    {
     "data": {
      "text/html": [
       "Syncing run <strong><a href='https://wandb.ai/boostcamp6-recsys6/lightgbm-sweep/runs/i12dzqga' target=\"_blank\">breezy-sweep-9</a></strong> to <a href='https://wandb.ai/boostcamp6-recsys6/lightgbm-sweep' target=\"_blank\">Weights & Biases</a> (<a href='https://wandb.me/run' target=\"_blank\">docs</a>)<br/>Sweep page: <a href='https://wandb.ai/boostcamp6-recsys6/lightgbm-sweep/sweeps/fdskahx2' target=\"_blank\">https://wandb.ai/boostcamp6-recsys6/lightgbm-sweep/sweeps/fdskahx2</a>"
      ],
      "text/plain": [
       "<IPython.core.display.HTML object>"
      ]
     },
     "metadata": {},
     "output_type": "display_data"
    },
    {
     "data": {
      "text/html": [
       " View project at <a href='https://wandb.ai/boostcamp6-recsys6/lightgbm-sweep' target=\"_blank\">https://wandb.ai/boostcamp6-recsys6/lightgbm-sweep</a>"
      ],
      "text/plain": [
       "<IPython.core.display.HTML object>"
      ]
     },
     "metadata": {},
     "output_type": "display_data"
    },
    {
     "data": {
      "text/html": [
       " View sweep at <a href='https://wandb.ai/boostcamp6-recsys6/lightgbm-sweep/sweeps/fdskahx2' target=\"_blank\">https://wandb.ai/boostcamp6-recsys6/lightgbm-sweep/sweeps/fdskahx2</a>"
      ],
      "text/plain": [
       "<IPython.core.display.HTML object>"
      ]
     },
     "metadata": {},
     "output_type": "display_data"
    },
    {
     "data": {
      "text/html": [
       " View run at <a href='https://wandb.ai/boostcamp6-recsys6/lightgbm-sweep/runs/i12dzqga' target=\"_blank\">https://wandb.ai/boostcamp6-recsys6/lightgbm-sweep/runs/i12dzqga</a>"
      ],
      "text/plain": [
       "<IPython.core.display.HTML object>"
      ]
     },
     "metadata": {},
     "output_type": "display_data"
    },
    {
     "name": "stdout",
     "output_type": "stream",
     "text": [
      "[LightGBM] [Warning] Categorical features with more bins than the configured maximum bin number found.\n",
      "[LightGBM] [Warning] For categorical features, max_bin and max_bin_by_feature may be ignored with a large number of categories.\n",
      "[LightGBM] [Info] Number of positive: 1562895, number of negative: 824270\n",
      "[LightGBM] [Info] Auto-choosing row-wise multi-threading, the overhead of testing was 0.052131 seconds.\n",
      "You can set `force_row_wise=true` to remove the overhead.\n",
      "And if memory is not enough, you can set `force_col_wise=true`.\n",
      "[LightGBM] [Info] Total Bins 22363\n",
      "[LightGBM] [Info] Number of data points in the train set: 2387165, number of used features: 35\n",
      "[LightGBM] [Info] [binary:BoostFromScore]: pavg=0.654708 -> initscore=0.639797\n",
      "[LightGBM] [Info] Start training from score 0.639797\n"
     ]
    },
    {
     "name": "stderr",
     "output_type": "stream",
     "text": [
      "\u001b[34m\u001b[1mwandb\u001b[0m: \u001b[33mWARNING\u001b[0m Config item 'num_leaves' was locked by 'sweep' (ignored update).\n",
      "\u001b[34m\u001b[1mwandb\u001b[0m: \u001b[33mWARNING\u001b[0m Config item 'learning_rate' was locked by 'sweep' (ignored update).\n",
      "\u001b[34m\u001b[1mwandb\u001b[0m: \u001b[33mWARNING\u001b[0m Config item 'max_depth' was locked by 'sweep' (ignored update).\n",
      "\u001b[34m\u001b[1mwandb\u001b[0m: \u001b[33mWARNING\u001b[0m Config item 'min_data_in_leaf' was locked by 'sweep' (ignored update).\n",
      "\u001b[34m\u001b[1mwandb\u001b[0m: \u001b[33mWARNING\u001b[0m Config item 'feature_fraction' was locked by 'sweep' (ignored update).\n",
      "\u001b[34m\u001b[1mwandb\u001b[0m: \u001b[33mWARNING\u001b[0m Config item 'bagging_fraction' was locked by 'sweep' (ignored update).\n",
      "\u001b[34m\u001b[1mwandb\u001b[0m: \u001b[33mWARNING\u001b[0m Config item 'bagging_freq' was locked by 'sweep' (ignored update).\n",
      "\u001b[34m\u001b[1mwandb\u001b[0m: \u001b[33mWARNING\u001b[0m Config item 'lambda_l1' was locked by 'sweep' (ignored update).\n",
      "\u001b[34m\u001b[1mwandb\u001b[0m: \u001b[33mWARNING\u001b[0m Config item 'lambda_l2' was locked by 'sweep' (ignored update).\n"
     ]
    },
    {
     "name": "stdout",
     "output_type": "stream",
     "text": [
      "Training until validation scores don't improve for 30 rounds\n",
      "Early stopping, best iteration is:\n",
      "[139]\ttraining's auc: 0.897494\tvalid_1's auc: 0.861576\n",
      "VALID AUC : 0.8615759767416482 ACC : 0.8037913121167799\n",
      "\n"
     ]
    },
    {
     "data": {
      "text/html": [
       "<style>\n",
       "    table.wandb td:nth-child(1) { padding: 0 10px; text-align: left ; width: auto;} td:nth-child(2) {text-align: left ; width: 100%}\n",
       "    .wandb-row { display: flex; flex-direction: row; flex-wrap: wrap; justify-content: flex-start; width: 100% }\n",
       "    .wandb-col { display: flex; flex-direction: column; flex-basis: 100%; flex: 1; padding: 10px; }\n",
       "    </style>\n",
       "<div class=\"wandb-row\"><div class=\"wandb-col\"><h3>Run history:</h3><br/><table class=\"wandb\"><tr><td>accuracy</td><td>▁</td></tr><tr><td>auc</td><td>▁</td></tr><tr><td>iteration</td><td>▁▁▁▂▂▂▂▂▂▃▃▃▃▃▃▄▄▄▄▄▅▅▅▅▅▅▆▆▆▆▆▆▇▇▇▇▇███</td></tr><tr><td>training_auc</td><td>▁▂▃▃▄▄▄▅▅▅▅▅▆▆▆▆▆▆▆▆▇▇▇▇▇▇▇▇▇▇▇▇████████</td></tr><tr><td>valid_1_auc</td><td>▁▄▅▆▆▇▇▇████████████████████████████████</td></tr></table><br/></div><div class=\"wandb-col\"><h3>Run summary:</h3><br/><table class=\"wandb\"><tr><td>accuracy</td><td>0.80379</td></tr><tr><td>auc</td><td>0.86158</td></tr><tr><td>iteration</td><td>168</td></tr></table><br/></div></div>"
      ],
      "text/plain": [
       "<IPython.core.display.HTML object>"
      ]
     },
     "metadata": {},
     "output_type": "display_data"
    },
    {
     "data": {
      "text/html": [
       " View run <strong style=\"color:#cdcd00\">breezy-sweep-9</strong> at: <a href='https://wandb.ai/boostcamp6-recsys6/lightgbm-sweep/runs/i12dzqga' target=\"_blank\">https://wandb.ai/boostcamp6-recsys6/lightgbm-sweep/runs/i12dzqga</a><br/>Synced 6 W&B file(s), 0 media file(s), 0 artifact file(s) and 0 other file(s)"
      ],
      "text/plain": [
       "<IPython.core.display.HTML object>"
      ]
     },
     "metadata": {},
     "output_type": "display_data"
    },
    {
     "data": {
      "text/html": [
       "Find logs at: <code>./wandb/run-20240124_091637-i12dzqga/logs</code>"
      ],
      "text/plain": [
       "<IPython.core.display.HTML object>"
      ]
     },
     "metadata": {},
     "output_type": "display_data"
    },
    {
     "name": "stdout",
     "output_type": "stream",
     "text": [
      "writing prediction : output/auc:0.8615759767416482 acc:0.8037913121167799sweep lgbm.csv\n",
      "                                      Feature  Importance\n",
      "0                                      userID        2844\n",
      "1                            assessmentItemID        2474\n",
      "2                                      testId        1153\n",
      "3                                KnowledgeTag         917\n",
      "14                            UserItemElapsed         129\n",
      "15                                    ItemAcc         124\n",
      "13                      CumulativeUserItemAcc          66\n",
      "20                      UserTagAvgSolvingTime          56\n",
      "17           AverageItemSolvingTime_Incorrect          54\n",
      "5                                 SolvingTime          44\n",
      "6                              CumulativeTime          37\n",
      "23        CumulativeUserTagExponentialAverage          35\n",
      "19  Difference_SolvingTime_AvgItemSolvingTime          33\n",
      "22                CumulativeUserTagAverageAcc          31\n",
      "34           categorize_CumulativeUserItemAcc          23\n",
      "29                                    TestAcc          19\n",
      "28                         PreviousItemAnswer          18\n",
      "31                         categorize_ItemAcc          16\n",
      "24                               UserTagCount          16\n",
      "10                        CumulativeItemCount          12\n",
      "30                     categorize_solvingTime          12\n",
      "21                                     TagAcc          12\n",
      "16             AverageItemSolvingTime_Correct          12\n",
      "7                                       Month          10\n",
      "8                                   TimeOfDay           9\n",
      "12                            Item_last30days           9\n",
      "27                        UserRecentTagAnswer           9\n",
      "11                             Item_last7days           7\n",
      "4                                     Itemseq           6\n",
      "9   Difference_SolvingTime_UserAvgSolvingTime           5\n",
      "26                         PastTagSolvingTime           5\n",
      "18                     AverageItemSolvingTime           2\n",
      "35     categorize_CumulativeUserTagAverageAcc           2\n",
      "25                             UserTagElapsed           0\n",
      "33                         categorize_TestAcc           0\n",
      "32                          categorize_TagAcc           0\n"
     ]
    },
    {
     "name": "stderr",
     "output_type": "stream",
     "text": [
      "\u001b[34m\u001b[1mwandb\u001b[0m: Sweep Agent: Waiting for job.\n",
      "\u001b[34m\u001b[1mwandb\u001b[0m: Job received.\n",
      "\u001b[34m\u001b[1mwandb\u001b[0m: Agent Starting Run: 0dywv6bu with config:\n",
      "\u001b[34m\u001b[1mwandb\u001b[0m: \tbagging_fraction: 0.9990787002665984\n",
      "\u001b[34m\u001b[1mwandb\u001b[0m: \tbagging_freq: 17\n",
      "\u001b[34m\u001b[1mwandb\u001b[0m: \tfeature_fraction: 0.4466535335648072\n",
      "\u001b[34m\u001b[1mwandb\u001b[0m: \tlambda_l1: 1.0963674867145878\n",
      "\u001b[34m\u001b[1mwandb\u001b[0m: \tlambda_l2: 11.716532071078122\n",
      "\u001b[34m\u001b[1mwandb\u001b[0m: \tlearning_rate: 0.39169649422611097\n",
      "\u001b[34m\u001b[1mwandb\u001b[0m: \tmax_depth: 38\n",
      "\u001b[34m\u001b[1mwandb\u001b[0m: \tmin_data_in_leaf: 34\n",
      "\u001b[34m\u001b[1mwandb\u001b[0m: \tnum_leaves: 57\n",
      "\u001b[34m\u001b[1mwandb\u001b[0m: \tratio: 0.07414341866948841\n",
      "\u001b[34m\u001b[1mwandb\u001b[0m: \u001b[33mWARNING\u001b[0m Ignored wandb.init() arg project when running a sweep.\n"
     ]
    },
    {
     "data": {
      "text/html": [
       "Tracking run with wandb version 0.16.2"
      ],
      "text/plain": [
       "<IPython.core.display.HTML object>"
      ]
     },
     "metadata": {},
     "output_type": "display_data"
    },
    {
     "data": {
      "text/html": [
       "Run data is saved locally in <code>/data/ephemeral/home/level2-dkt-recsys-06/code/boost/wandb/run-20240124_091834-0dywv6bu</code>"
      ],
      "text/plain": [
       "<IPython.core.display.HTML object>"
      ]
     },
     "metadata": {},
     "output_type": "display_data"
    },
    {
     "data": {
      "text/html": [
       "Syncing run <strong><a href='https://wandb.ai/boostcamp6-recsys6/lightgbm-sweep/runs/0dywv6bu' target=\"_blank\">whole-sweep-10</a></strong> to <a href='https://wandb.ai/boostcamp6-recsys6/lightgbm-sweep' target=\"_blank\">Weights & Biases</a> (<a href='https://wandb.me/run' target=\"_blank\">docs</a>)<br/>Sweep page: <a href='https://wandb.ai/boostcamp6-recsys6/lightgbm-sweep/sweeps/fdskahx2' target=\"_blank\">https://wandb.ai/boostcamp6-recsys6/lightgbm-sweep/sweeps/fdskahx2</a>"
      ],
      "text/plain": [
       "<IPython.core.display.HTML object>"
      ]
     },
     "metadata": {},
     "output_type": "display_data"
    },
    {
     "data": {
      "text/html": [
       " View project at <a href='https://wandb.ai/boostcamp6-recsys6/lightgbm-sweep' target=\"_blank\">https://wandb.ai/boostcamp6-recsys6/lightgbm-sweep</a>"
      ],
      "text/plain": [
       "<IPython.core.display.HTML object>"
      ]
     },
     "metadata": {},
     "output_type": "display_data"
    },
    {
     "data": {
      "text/html": [
       " View sweep at <a href='https://wandb.ai/boostcamp6-recsys6/lightgbm-sweep/sweeps/fdskahx2' target=\"_blank\">https://wandb.ai/boostcamp6-recsys6/lightgbm-sweep/sweeps/fdskahx2</a>"
      ],
      "text/plain": [
       "<IPython.core.display.HTML object>"
      ]
     },
     "metadata": {},
     "output_type": "display_data"
    },
    {
     "data": {
      "text/html": [
       " View run at <a href='https://wandb.ai/boostcamp6-recsys6/lightgbm-sweep/runs/0dywv6bu' target=\"_blank\">https://wandb.ai/boostcamp6-recsys6/lightgbm-sweep/runs/0dywv6bu</a>"
      ],
      "text/plain": [
       "<IPython.core.display.HTML object>"
      ]
     },
     "metadata": {},
     "output_type": "display_data"
    },
    {
     "name": "stdout",
     "output_type": "stream",
     "text": [
      "[LightGBM] [Warning] Categorical features with more bins than the configured maximum bin number found.\n",
      "[LightGBM] [Warning] For categorical features, max_bin and max_bin_by_feature may be ignored with a large number of categories.\n",
      "[LightGBM] [Info] Number of positive: 1530932, number of negative: 807809\n",
      "[LightGBM] [Info] Auto-choosing row-wise multi-threading, the overhead of testing was 0.026046 seconds.\n",
      "You can set `force_row_wise=true` to remove the overhead.\n",
      "And if memory is not enough, you can set `force_col_wise=true`.\n",
      "[LightGBM] [Info] Total Bins 22370\n",
      "[LightGBM] [Info] Number of data points in the train set: 2338741, number of used features: 35\n",
      "[LightGBM] [Info] [binary:BoostFromScore]: pavg=0.654597 -> initscore=0.639306\n",
      "[LightGBM] [Info] Start training from score 0.639306\n"
     ]
    },
    {
     "name": "stderr",
     "output_type": "stream",
     "text": [
      "\u001b[34m\u001b[1mwandb\u001b[0m: \u001b[33mWARNING\u001b[0m Config item 'num_leaves' was locked by 'sweep' (ignored update).\n",
      "\u001b[34m\u001b[1mwandb\u001b[0m: \u001b[33mWARNING\u001b[0m Config item 'learning_rate' was locked by 'sweep' (ignored update).\n",
      "\u001b[34m\u001b[1mwandb\u001b[0m: \u001b[33mWARNING\u001b[0m Config item 'max_depth' was locked by 'sweep' (ignored update).\n",
      "\u001b[34m\u001b[1mwandb\u001b[0m: \u001b[33mWARNING\u001b[0m Config item 'min_data_in_leaf' was locked by 'sweep' (ignored update).\n",
      "\u001b[34m\u001b[1mwandb\u001b[0m: \u001b[33mWARNING\u001b[0m Config item 'feature_fraction' was locked by 'sweep' (ignored update).\n",
      "\u001b[34m\u001b[1mwandb\u001b[0m: \u001b[33mWARNING\u001b[0m Config item 'bagging_fraction' was locked by 'sweep' (ignored update).\n",
      "\u001b[34m\u001b[1mwandb\u001b[0m: \u001b[33mWARNING\u001b[0m Config item 'bagging_freq' was locked by 'sweep' (ignored update).\n",
      "\u001b[34m\u001b[1mwandb\u001b[0m: \u001b[33mWARNING\u001b[0m Config item 'lambda_l1' was locked by 'sweep' (ignored update).\n",
      "\u001b[34m\u001b[1mwandb\u001b[0m: \u001b[33mWARNING\u001b[0m Config item 'lambda_l2' was locked by 'sweep' (ignored update).\n"
     ]
    },
    {
     "name": "stdout",
     "output_type": "stream",
     "text": [
      "Training until validation scores don't improve for 30 rounds\n",
      "Early stopping, best iteration is:\n",
      "[89]\ttraining's auc: 0.887619\tvalid_1's auc: 0.860248\n",
      "VALID AUC : 0.860248136323138 ACC : 0.805458964292391\n",
      "\n"
     ]
    },
    {
     "data": {
      "text/html": [
       "<style>\n",
       "    table.wandb td:nth-child(1) { padding: 0 10px; text-align: left ; width: auto;} td:nth-child(2) {text-align: left ; width: 100%}\n",
       "    .wandb-row { display: flex; flex-direction: row; flex-wrap: wrap; justify-content: flex-start; width: 100% }\n",
       "    .wandb-col { display: flex; flex-direction: column; flex-basis: 100%; flex: 1; padding: 10px; }\n",
       "    </style>\n",
       "<div class=\"wandb-row\"><div class=\"wandb-col\"><h3>Run history:</h3><br/><table class=\"wandb\"><tr><td>accuracy</td><td>▁</td></tr><tr><td>auc</td><td>▁</td></tr><tr><td>iteration</td><td>▁▁▁▂▂▂▂▂▂▃▃▃▃▃▃▄▄▄▄▄▅▅▅▅▅▅▆▆▆▆▆▇▇▇▇▇▇███</td></tr><tr><td>training_auc</td><td>▁▃▄▄▅▅▅▅▅▆▆▆▆▆▆▆▆▇▇▇▇▇▇▇▇▇▇▇▇▇██████████</td></tr><tr><td>valid_1_auc</td><td>▁▄▆▆▇▇▇▇████████████████████████████████</td></tr></table><br/></div><div class=\"wandb-col\"><h3>Run summary:</h3><br/><table class=\"wandb\"><tr><td>accuracy</td><td>0.80546</td></tr><tr><td>auc</td><td>0.86025</td></tr><tr><td>iteration</td><td>118</td></tr></table><br/></div></div>"
      ],
      "text/plain": [
       "<IPython.core.display.HTML object>"
      ]
     },
     "metadata": {},
     "output_type": "display_data"
    },
    {
     "data": {
      "text/html": [
       " View run <strong style=\"color:#cdcd00\">whole-sweep-10</strong> at: <a href='https://wandb.ai/boostcamp6-recsys6/lightgbm-sweep/runs/0dywv6bu' target=\"_blank\">https://wandb.ai/boostcamp6-recsys6/lightgbm-sweep/runs/0dywv6bu</a><br/>Synced 6 W&B file(s), 0 media file(s), 0 artifact file(s) and 0 other file(s)"
      ],
      "text/plain": [
       "<IPython.core.display.HTML object>"
      ]
     },
     "metadata": {},
     "output_type": "display_data"
    },
    {
     "data": {
      "text/html": [
       "Find logs at: <code>./wandb/run-20240124_091834-0dywv6bu/logs</code>"
      ],
      "text/plain": [
       "<IPython.core.display.HTML object>"
      ]
     },
     "metadata": {},
     "output_type": "display_data"
    },
    {
     "name": "stdout",
     "output_type": "stream",
     "text": [
      "writing prediction : output/auc:0.860248136323138 acc:0.805458964292391sweep lgbm.csv\n",
      "                                      Feature  Importance\n",
      "0                                      userID        1364\n",
      "1                            assessmentItemID        1330\n",
      "2                                      testId         709\n",
      "3                                KnowledgeTag         709\n",
      "14                            UserItemElapsed         121\n",
      "15                                    ItemAcc          83\n",
      "20                      UserTagAvgSolvingTime          60\n",
      "17           AverageItemSolvingTime_Incorrect          52\n",
      "19  Difference_SolvingTime_AvgItemSolvingTime          51\n",
      "13                      CumulativeUserItemAcc          50\n",
      "5                                 SolvingTime          49\n",
      "31                         categorize_ItemAcc          43\n",
      "6                              CumulativeTime          38\n",
      "23        CumulativeUserTagExponentialAverage          35\n",
      "21                                     TagAcc          28\n",
      "29                                    TestAcc          24\n",
      "16             AverageItemSolvingTime_Correct          24\n",
      "22                CumulativeUserTagAverageAcc          23\n",
      "7                                       Month          22\n",
      "27                        UserRecentTagAnswer          20\n",
      "24                               UserTagCount          19\n",
      "30                     categorize_solvingTime          17\n",
      "9   Difference_SolvingTime_UserAvgSolvingTime          16\n",
      "28                         PreviousItemAnswer          15\n",
      "11                             Item_last7days          12\n",
      "8                                   TimeOfDay          11\n",
      "26                         PastTagSolvingTime          11\n",
      "12                            Item_last30days          10\n",
      "10                        CumulativeItemCount          10\n",
      "34           categorize_CumulativeUserItemAcc          10\n",
      "4                                     Itemseq           9\n",
      "35     categorize_CumulativeUserTagAverageAcc           7\n",
      "18                     AverageItemSolvingTime           2\n",
      "25                             UserTagElapsed           0\n",
      "33                         categorize_TestAcc           0\n",
      "32                          categorize_TagAcc           0\n"
     ]
    },
    {
     "name": "stderr",
     "output_type": "stream",
     "text": [
      "\u001b[34m\u001b[1mwandb\u001b[0m: Agent Starting Run: wfwxtm8b with config:\n",
      "\u001b[34m\u001b[1mwandb\u001b[0m: \tbagging_fraction: 0.9909698736772904\n",
      "\u001b[34m\u001b[1mwandb\u001b[0m: \tbagging_freq: 19\n",
      "\u001b[34m\u001b[1mwandb\u001b[0m: \tfeature_fraction: 0.6988097471701846\n",
      "\u001b[34m\u001b[1mwandb\u001b[0m: \tlambda_l1: 4.448096446687741\n",
      "\u001b[34m\u001b[1mwandb\u001b[0m: \tlambda_l2: 8.442501755061707\n",
      "\u001b[34m\u001b[1mwandb\u001b[0m: \tlearning_rate: 0.01703922672276498\n",
      "\u001b[34m\u001b[1mwandb\u001b[0m: \tmax_depth: 46\n",
      "\u001b[34m\u001b[1mwandb\u001b[0m: \tmin_data_in_leaf: 14\n",
      "\u001b[34m\u001b[1mwandb\u001b[0m: \tnum_leaves: 57\n",
      "\u001b[34m\u001b[1mwandb\u001b[0m: \tratio: 0.053478803683061224\n",
      "\u001b[34m\u001b[1mwandb\u001b[0m: \u001b[33mWARNING\u001b[0m Ignored wandb.init() arg project when running a sweep.\n"
     ]
    },
    {
     "data": {
      "text/html": [
       "Tracking run with wandb version 0.16.2"
      ],
      "text/plain": [
       "<IPython.core.display.HTML object>"
      ]
     },
     "metadata": {},
     "output_type": "display_data"
    },
    {
     "data": {
      "text/html": [
       "Run data is saved locally in <code>/data/ephemeral/home/level2-dkt-recsys-06/code/boost/wandb/run-20240124_091944-wfwxtm8b</code>"
      ],
      "text/plain": [
       "<IPython.core.display.HTML object>"
      ]
     },
     "metadata": {},
     "output_type": "display_data"
    },
    {
     "data": {
      "text/html": [
       "Syncing run <strong><a href='https://wandb.ai/boostcamp6-recsys6/lightgbm-sweep/runs/wfwxtm8b' target=\"_blank\">ancient-sweep-11</a></strong> to <a href='https://wandb.ai/boostcamp6-recsys6/lightgbm-sweep' target=\"_blank\">Weights & Biases</a> (<a href='https://wandb.me/run' target=\"_blank\">docs</a>)<br/>Sweep page: <a href='https://wandb.ai/boostcamp6-recsys6/lightgbm-sweep/sweeps/fdskahx2' target=\"_blank\">https://wandb.ai/boostcamp6-recsys6/lightgbm-sweep/sweeps/fdskahx2</a>"
      ],
      "text/plain": [
       "<IPython.core.display.HTML object>"
      ]
     },
     "metadata": {},
     "output_type": "display_data"
    },
    {
     "data": {
      "text/html": [
       " View project at <a href='https://wandb.ai/boostcamp6-recsys6/lightgbm-sweep' target=\"_blank\">https://wandb.ai/boostcamp6-recsys6/lightgbm-sweep</a>"
      ],
      "text/plain": [
       "<IPython.core.display.HTML object>"
      ]
     },
     "metadata": {},
     "output_type": "display_data"
    },
    {
     "data": {
      "text/html": [
       " View sweep at <a href='https://wandb.ai/boostcamp6-recsys6/lightgbm-sweep/sweeps/fdskahx2' target=\"_blank\">https://wandb.ai/boostcamp6-recsys6/lightgbm-sweep/sweeps/fdskahx2</a>"
      ],
      "text/plain": [
       "<IPython.core.display.HTML object>"
      ]
     },
     "metadata": {},
     "output_type": "display_data"
    },
    {
     "data": {
      "text/html": [
       " View run at <a href='https://wandb.ai/boostcamp6-recsys6/lightgbm-sweep/runs/wfwxtm8b' target=\"_blank\">https://wandb.ai/boostcamp6-recsys6/lightgbm-sweep/runs/wfwxtm8b</a>"
      ],
      "text/plain": [
       "<IPython.core.display.HTML object>"
      ]
     },
     "metadata": {},
     "output_type": "display_data"
    },
    {
     "name": "stdout",
     "output_type": "stream",
     "text": [
      "[LightGBM] [Warning] Categorical features with more bins than the configured maximum bin number found.\n",
      "[LightGBM] [Warning] For categorical features, max_bin and max_bin_by_feature may be ignored with a large number of categories.\n",
      "[LightGBM] [Info] Number of positive: 1565304, number of negative: 825563\n",
      "[LightGBM] [Info] Auto-choosing row-wise multi-threading, the overhead of testing was 0.054795 seconds.\n",
      "You can set `force_row_wise=true` to remove the overhead.\n",
      "And if memory is not enough, you can set `force_col_wise=true`.\n",
      "[LightGBM] [Info] Total Bins 22336\n",
      "[LightGBM] [Info] Number of data points in the train set: 2390867, number of used features: 35\n",
      "[LightGBM] [Info] [binary:BoostFromScore]: pavg=0.654701 -> initscore=0.639770\n",
      "[LightGBM] [Info] Start training from score 0.639770\n"
     ]
    },
    {
     "name": "stderr",
     "output_type": "stream",
     "text": [
      "\u001b[34m\u001b[1mwandb\u001b[0m: \u001b[33mWARNING\u001b[0m Config item 'num_leaves' was locked by 'sweep' (ignored update).\n",
      "\u001b[34m\u001b[1mwandb\u001b[0m: \u001b[33mWARNING\u001b[0m Config item 'learning_rate' was locked by 'sweep' (ignored update).\n",
      "\u001b[34m\u001b[1mwandb\u001b[0m: \u001b[33mWARNING\u001b[0m Config item 'max_depth' was locked by 'sweep' (ignored update).\n",
      "\u001b[34m\u001b[1mwandb\u001b[0m: \u001b[33mWARNING\u001b[0m Config item 'min_data_in_leaf' was locked by 'sweep' (ignored update).\n",
      "\u001b[34m\u001b[1mwandb\u001b[0m: \u001b[33mWARNING\u001b[0m Config item 'feature_fraction' was locked by 'sweep' (ignored update).\n",
      "\u001b[34m\u001b[1mwandb\u001b[0m: \u001b[33mWARNING\u001b[0m Config item 'bagging_fraction' was locked by 'sweep' (ignored update).\n",
      "\u001b[34m\u001b[1mwandb\u001b[0m: \u001b[33mWARNING\u001b[0m Config item 'bagging_freq' was locked by 'sweep' (ignored update).\n",
      "\u001b[34m\u001b[1mwandb\u001b[0m: \u001b[33mWARNING\u001b[0m Config item 'lambda_l1' was locked by 'sweep' (ignored update).\n",
      "\u001b[34m\u001b[1mwandb\u001b[0m: \u001b[33mWARNING\u001b[0m Config item 'lambda_l2' was locked by 'sweep' (ignored update).\n"
     ]
    },
    {
     "name": "stdout",
     "output_type": "stream",
     "text": [
      "Training until validation scores don't improve for 30 rounds\n",
      "Did not meet early stopping. Best iteration is:\n",
      "[500]\ttraining's auc: 0.870714\tvalid_1's auc: 0.860483\n",
      "VALID AUC : 0.8604834264733741 ACC : 0.8049508102066045\n",
      "\n"
     ]
    },
    {
     "data": {
      "text/html": [
       "<style>\n",
       "    table.wandb td:nth-child(1) { padding: 0 10px; text-align: left ; width: auto;} td:nth-child(2) {text-align: left ; width: 100%}\n",
       "    .wandb-row { display: flex; flex-direction: row; flex-wrap: wrap; justify-content: flex-start; width: 100% }\n",
       "    .wandb-col { display: flex; flex-direction: column; flex-basis: 100%; flex: 1; padding: 10px; }\n",
       "    </style>\n",
       "<div class=\"wandb-row\"><div class=\"wandb-col\"><h3>Run history:</h3><br/><table class=\"wandb\"><tr><td>accuracy</td><td>▁</td></tr><tr><td>auc</td><td>▁</td></tr><tr><td>iteration</td><td>▁▁▁▂▂▂▂▂▂▃▃▃▃▃▄▄▄▄▄▄▅▅▅▅▅▅▆▆▆▆▆▇▇▇▇▇▇███</td></tr><tr><td>training_auc</td><td>▁▁▂▂▂▃▃▃▄▄▄▄▅▅▅▅▅▆▆▆▆▆▆▆▇▇▇▇▇▇▇▇▇███████</td></tr><tr><td>valid_1_auc</td><td>▁▂▂▃▃▃▄▄▄▅▅▅▅▆▆▆▆▆▆▇▇▇▇▇▇▇▇▇▇███████████</td></tr></table><br/></div><div class=\"wandb-col\"><h3>Run summary:</h3><br/><table class=\"wandb\"><tr><td>accuracy</td><td>0.80495</td></tr><tr><td>auc</td><td>0.86048</td></tr><tr><td>iteration</td><td>499</td></tr></table><br/></div></div>"
      ],
      "text/plain": [
       "<IPython.core.display.HTML object>"
      ]
     },
     "metadata": {},
     "output_type": "display_data"
    },
    {
     "data": {
      "text/html": [
       " View run <strong style=\"color:#cdcd00\">ancient-sweep-11</strong> at: <a href='https://wandb.ai/boostcamp6-recsys6/lightgbm-sweep/runs/wfwxtm8b' target=\"_blank\">https://wandb.ai/boostcamp6-recsys6/lightgbm-sweep/runs/wfwxtm8b</a><br/>Synced 6 W&B file(s), 0 media file(s), 0 artifact file(s) and 0 other file(s)"
      ],
      "text/plain": [
       "<IPython.core.display.HTML object>"
      ]
     },
     "metadata": {},
     "output_type": "display_data"
    },
    {
     "data": {
      "text/html": [
       "Find logs at: <code>./wandb/run-20240124_091944-wfwxtm8b/logs</code>"
      ],
      "text/plain": [
       "<IPython.core.display.HTML object>"
      ]
     },
     "metadata": {},
     "output_type": "display_data"
    },
    {
     "name": "stdout",
     "output_type": "stream",
     "text": [
      "writing prediction : output/auc:0.8604834264733741 acc:0.8049508102066045sweep lgbm.csv\n",
      "                                      Feature  Importance\n",
      "0                                      userID        9466\n",
      "1                            assessmentItemID        5729\n",
      "2                                      testId        2474\n",
      "3                                KnowledgeTag        1707\n",
      "15                                    ItemAcc        1533\n",
      "14                            UserItemElapsed        1353\n",
      "13                      CumulativeUserItemAcc         799\n",
      "17           AverageItemSolvingTime_Incorrect         738\n",
      "5                                 SolvingTime         504\n",
      "19  Difference_SolvingTime_AvgItemSolvingTime         403\n",
      "31                         categorize_ItemAcc         380\n",
      "20                      UserTagAvgSolvingTime         364\n",
      "23        CumulativeUserTagExponentialAverage         345\n",
      "29                                    TestAcc         324\n",
      "22                CumulativeUserTagAverageAcc         262\n",
      "21                                     TagAcc         223\n",
      "28                         PreviousItemAnswer         217\n",
      "16             AverageItemSolvingTime_Correct         159\n",
      "12                            Item_last30days         154\n",
      "6                              CumulativeTime         142\n",
      "24                               UserTagCount         108\n",
      "34           categorize_CumulativeUserItemAcc          94\n",
      "10                        CumulativeItemCount          91\n",
      "30                     categorize_solvingTime          89\n",
      "18                     AverageItemSolvingTime          89\n",
      "4                                     Itemseq          72\n",
      "11                             Item_last7days          52\n",
      "8                                   TimeOfDay          45\n",
      "35     categorize_CumulativeUserTagAverageAcc          41\n",
      "9   Difference_SolvingTime_UserAvgSolvingTime          26\n",
      "27                        UserRecentTagAnswer           8\n",
      "26                         PastTagSolvingTime           8\n",
      "7                                       Month           1\n",
      "25                             UserTagElapsed           0\n",
      "33                         categorize_TestAcc           0\n",
      "32                          categorize_TagAcc           0\n"
     ]
    },
    {
     "name": "stderr",
     "output_type": "stream",
     "text": [
      "\u001b[34m\u001b[1mwandb\u001b[0m: Agent Starting Run: a37puq31 with config:\n",
      "\u001b[34m\u001b[1mwandb\u001b[0m: \tbagging_fraction: 0.925027151140548\n",
      "\u001b[34m\u001b[1mwandb\u001b[0m: \tbagging_freq: 12\n",
      "\u001b[34m\u001b[1mwandb\u001b[0m: \tfeature_fraction: 0.3104689429071369\n",
      "\u001b[34m\u001b[1mwandb\u001b[0m: \tlambda_l1: 1.1605257115179923\n",
      "\u001b[34m\u001b[1mwandb\u001b[0m: \tlambda_l2: 8.10048533079828\n",
      "\u001b[34m\u001b[1mwandb\u001b[0m: \tlearning_rate: 0.01661953168740506\n",
      "\u001b[34m\u001b[1mwandb\u001b[0m: \tmax_depth: 35\n",
      "\u001b[34m\u001b[1mwandb\u001b[0m: \tmin_data_in_leaf: 16\n",
      "\u001b[34m\u001b[1mwandb\u001b[0m: \tnum_leaves: 56\n",
      "\u001b[34m\u001b[1mwandb\u001b[0m: \tratio: 0.0635610878291495\n",
      "\u001b[34m\u001b[1mwandb\u001b[0m: \u001b[33mWARNING\u001b[0m Ignored wandb.init() arg project when running a sweep.\n"
     ]
    },
    {
     "data": {
      "text/html": [
       "Tracking run with wandb version 0.16.2"
      ],
      "text/plain": [
       "<IPython.core.display.HTML object>"
      ]
     },
     "metadata": {},
     "output_type": "display_data"
    },
    {
     "data": {
      "text/html": [
       "Run data is saved locally in <code>/data/ephemeral/home/level2-dkt-recsys-06/code/boost/wandb/run-20240124_092402-a37puq31</code>"
      ],
      "text/plain": [
       "<IPython.core.display.HTML object>"
      ]
     },
     "metadata": {},
     "output_type": "display_data"
    },
    {
     "data": {
      "text/html": [
       "Syncing run <strong><a href='https://wandb.ai/boostcamp6-recsys6/lightgbm-sweep/runs/a37puq31' target=\"_blank\">effortless-sweep-12</a></strong> to <a href='https://wandb.ai/boostcamp6-recsys6/lightgbm-sweep' target=\"_blank\">Weights & Biases</a> (<a href='https://wandb.me/run' target=\"_blank\">docs</a>)<br/>Sweep page: <a href='https://wandb.ai/boostcamp6-recsys6/lightgbm-sweep/sweeps/fdskahx2' target=\"_blank\">https://wandb.ai/boostcamp6-recsys6/lightgbm-sweep/sweeps/fdskahx2</a>"
      ],
      "text/plain": [
       "<IPython.core.display.HTML object>"
      ]
     },
     "metadata": {},
     "output_type": "display_data"
    },
    {
     "data": {
      "text/html": [
       " View project at <a href='https://wandb.ai/boostcamp6-recsys6/lightgbm-sweep' target=\"_blank\">https://wandb.ai/boostcamp6-recsys6/lightgbm-sweep</a>"
      ],
      "text/plain": [
       "<IPython.core.display.HTML object>"
      ]
     },
     "metadata": {},
     "output_type": "display_data"
    },
    {
     "data": {
      "text/html": [
       " View sweep at <a href='https://wandb.ai/boostcamp6-recsys6/lightgbm-sweep/sweeps/fdskahx2' target=\"_blank\">https://wandb.ai/boostcamp6-recsys6/lightgbm-sweep/sweeps/fdskahx2</a>"
      ],
      "text/plain": [
       "<IPython.core.display.HTML object>"
      ]
     },
     "metadata": {},
     "output_type": "display_data"
    },
    {
     "data": {
      "text/html": [
       " View run at <a href='https://wandb.ai/boostcamp6-recsys6/lightgbm-sweep/runs/a37puq31' target=\"_blank\">https://wandb.ai/boostcamp6-recsys6/lightgbm-sweep/runs/a37puq31</a>"
      ],
      "text/plain": [
       "<IPython.core.display.HTML object>"
      ]
     },
     "metadata": {},
     "output_type": "display_data"
    },
    {
     "name": "stdout",
     "output_type": "stream",
     "text": [
      "[LightGBM] [Warning] Categorical features with more bins than the configured maximum bin number found.\n",
      "[LightGBM] [Warning] For categorical features, max_bin and max_bin_by_feature may be ignored with a large number of categories.\n",
      "[LightGBM] [Info] Number of positive: 1548687, number of negative: 816721\n",
      "[LightGBM] [Info] Auto-choosing col-wise multi-threading, the overhead of testing was 0.322962 seconds.\n",
      "You can set `force_col_wise=true` to remove the overhead.\n",
      "[LightGBM] [Info] Total Bins 22362\n",
      "[LightGBM] [Info] Number of data points in the train set: 2365408, number of used features: 35\n",
      "[LightGBM] [Info] [binary:BoostFromScore]: pavg=0.654723 -> initscore=0.639865\n",
      "[LightGBM] [Info] Start training from score 0.639865\n"
     ]
    },
    {
     "name": "stderr",
     "output_type": "stream",
     "text": [
      "\u001b[34m\u001b[1mwandb\u001b[0m: \u001b[33mWARNING\u001b[0m Config item 'num_leaves' was locked by 'sweep' (ignored update).\n",
      "\u001b[34m\u001b[1mwandb\u001b[0m: \u001b[33mWARNING\u001b[0m Config item 'learning_rate' was locked by 'sweep' (ignored update).\n",
      "\u001b[34m\u001b[1mwandb\u001b[0m: \u001b[33mWARNING\u001b[0m Config item 'max_depth' was locked by 'sweep' (ignored update).\n",
      "\u001b[34m\u001b[1mwandb\u001b[0m: \u001b[33mWARNING\u001b[0m Config item 'min_data_in_leaf' was locked by 'sweep' (ignored update).\n",
      "\u001b[34m\u001b[1mwandb\u001b[0m: \u001b[33mWARNING\u001b[0m Config item 'feature_fraction' was locked by 'sweep' (ignored update).\n",
      "\u001b[34m\u001b[1mwandb\u001b[0m: \u001b[33mWARNING\u001b[0m Config item 'bagging_fraction' was locked by 'sweep' (ignored update).\n",
      "\u001b[34m\u001b[1mwandb\u001b[0m: \u001b[33mWARNING\u001b[0m Config item 'bagging_freq' was locked by 'sweep' (ignored update).\n",
      "\u001b[34m\u001b[1mwandb\u001b[0m: \u001b[33mWARNING\u001b[0m Config item 'lambda_l1' was locked by 'sweep' (ignored update).\n",
      "\u001b[34m\u001b[1mwandb\u001b[0m: \u001b[33mWARNING\u001b[0m Config item 'lambda_l2' was locked by 'sweep' (ignored update).\n"
     ]
    },
    {
     "name": "stdout",
     "output_type": "stream",
     "text": [
      "Training until validation scores don't improve for 30 rounds\n",
      "Did not meet early stopping. Best iteration is:\n",
      "[500]\ttraining's auc: 0.866038\tvalid_1's auc: 0.856555\n",
      "VALID AUC : 0.8565552723747469 ACC : 0.8011498118942622\n",
      "\n"
     ]
    },
    {
     "data": {
      "text/html": [
       "<style>\n",
       "    table.wandb td:nth-child(1) { padding: 0 10px; text-align: left ; width: auto;} td:nth-child(2) {text-align: left ; width: 100%}\n",
       "    .wandb-row { display: flex; flex-direction: row; flex-wrap: wrap; justify-content: flex-start; width: 100% }\n",
       "    .wandb-col { display: flex; flex-direction: column; flex-basis: 100%; flex: 1; padding: 10px; }\n",
       "    </style>\n",
       "<div class=\"wandb-row\"><div class=\"wandb-col\"><h3>Run history:</h3><br/><table class=\"wandb\"><tr><td>accuracy</td><td>▁</td></tr><tr><td>auc</td><td>▁</td></tr><tr><td>iteration</td><td>▁▁▁▂▂▂▂▂▂▃▃▃▃▃▄▄▄▄▄▄▅▅▅▅▅▅▆▆▆▆▆▇▇▇▇▇▇███</td></tr><tr><td>training_auc</td><td>▁▂▃▃▄▄▄▄▄▅▅▅▅▅▆▆▆▆▆▆▆▇▇▇▇▇▇▇▇▇▇▇████████</td></tr><tr><td>valid_1_auc</td><td>▁▂▃▄▄▄▅▅▅▅▅▆▆▆▆▆▆▇▇▇▇▇▇▇▇▇▇▇████████████</td></tr></table><br/></div><div class=\"wandb-col\"><h3>Run summary:</h3><br/><table class=\"wandb\"><tr><td>accuracy</td><td>0.80115</td></tr><tr><td>auc</td><td>0.85656</td></tr><tr><td>iteration</td><td>499</td></tr></table><br/></div></div>"
      ],
      "text/plain": [
       "<IPython.core.display.HTML object>"
      ]
     },
     "metadata": {},
     "output_type": "display_data"
    },
    {
     "data": {
      "text/html": [
       " View run <strong style=\"color:#cdcd00\">effortless-sweep-12</strong> at: <a href='https://wandb.ai/boostcamp6-recsys6/lightgbm-sweep/runs/a37puq31' target=\"_blank\">https://wandb.ai/boostcamp6-recsys6/lightgbm-sweep/runs/a37puq31</a><br/>Synced 6 W&B file(s), 0 media file(s), 0 artifact file(s) and 0 other file(s)"
      ],
      "text/plain": [
       "<IPython.core.display.HTML object>"
      ]
     },
     "metadata": {},
     "output_type": "display_data"
    },
    {
     "data": {
      "text/html": [
       "Find logs at: <code>./wandb/run-20240124_092402-a37puq31/logs</code>"
      ],
      "text/plain": [
       "<IPython.core.display.HTML object>"
      ]
     },
     "metadata": {},
     "output_type": "display_data"
    },
    {
     "name": "stdout",
     "output_type": "stream",
     "text": [
      "writing prediction : output/auc:0.8565552723747469 acc:0.8011498118942622sweep lgbm.csv\n",
      "                                      Feature  Importance\n",
      "1                            assessmentItemID        5277\n",
      "0                                      userID        4955\n",
      "2                                      testId        3028\n",
      "3                                KnowledgeTag        2929\n",
      "14                            UserItemElapsed        1274\n",
      "15                                    ItemAcc        1092\n",
      "31                         categorize_ItemAcc         974\n",
      "13                      CumulativeUserItemAcc         723\n",
      "17           AverageItemSolvingTime_Incorrect         634\n",
      "5                                 SolvingTime         598\n",
      "21                                     TagAcc         486\n",
      "20                      UserTagAvgSolvingTime         478\n",
      "29                                    TestAcc         438\n",
      "19  Difference_SolvingTime_AvgItemSolvingTime         408\n",
      "6                              CumulativeTime         398\n",
      "16             AverageItemSolvingTime_Correct         396\n",
      "23        CumulativeUserTagExponentialAverage         369\n",
      "22                CumulativeUserTagAverageAcc         323\n",
      "30                     categorize_solvingTime         289\n",
      "18                     AverageItemSolvingTime         271\n",
      "34           categorize_CumulativeUserItemAcc         254\n",
      "28                         PreviousItemAnswer         249\n",
      "35     categorize_CumulativeUserTagAverageAcc         210\n",
      "4                                     Itemseq         208\n",
      "12                            Item_last30days         188\n",
      "24                               UserTagCount         180\n",
      "9   Difference_SolvingTime_UserAvgSolvingTime         149\n",
      "10                        CumulativeItemCount         132\n",
      "27                        UserRecentTagAnswer         112\n",
      "8                                   TimeOfDay         111\n",
      "26                         PastTagSolvingTime         106\n",
      "11                             Item_last7days         101\n",
      "33                         categorize_TestAcc          81\n",
      "7                                       Month          46\n",
      "32                          categorize_TagAcc          33\n",
      "25                             UserTagElapsed           0\n"
     ]
    },
    {
     "name": "stderr",
     "output_type": "stream",
     "text": [
      "\u001b[34m\u001b[1mwandb\u001b[0m: Agent Starting Run: qw4goncb with config:\n",
      "\u001b[34m\u001b[1mwandb\u001b[0m: \tbagging_fraction: 0.9103855453050764\n",
      "\u001b[34m\u001b[1mwandb\u001b[0m: \tbagging_freq: 17\n",
      "\u001b[34m\u001b[1mwandb\u001b[0m: \tfeature_fraction: 0.8970495583580029\n",
      "\u001b[34m\u001b[1mwandb\u001b[0m: \tlambda_l1: 1.295434175104001\n",
      "\u001b[34m\u001b[1mwandb\u001b[0m: \tlambda_l2: 0.41348683265101827\n",
      "\u001b[34m\u001b[1mwandb\u001b[0m: \tlearning_rate: 0.27184348401396524\n",
      "\u001b[34m\u001b[1mwandb\u001b[0m: \tmax_depth: 46\n",
      "\u001b[34m\u001b[1mwandb\u001b[0m: \tmin_data_in_leaf: 30\n",
      "\u001b[34m\u001b[1mwandb\u001b[0m: \tnum_leaves: 47\n",
      "\u001b[34m\u001b[1mwandb\u001b[0m: \tratio: 0.06682667332130611\n",
      "\u001b[34m\u001b[1mwandb\u001b[0m: \u001b[33mWARNING\u001b[0m Ignored wandb.init() arg project when running a sweep.\n"
     ]
    },
    {
     "data": {
      "text/html": [
       "Tracking run with wandb version 0.16.2"
      ],
      "text/plain": [
       "<IPython.core.display.HTML object>"
      ]
     },
     "metadata": {},
     "output_type": "display_data"
    },
    {
     "data": {
      "text/html": [
       "Run data is saved locally in <code>/data/ephemeral/home/level2-dkt-recsys-06/code/boost/wandb/run-20240124_092743-qw4goncb</code>"
      ],
      "text/plain": [
       "<IPython.core.display.HTML object>"
      ]
     },
     "metadata": {},
     "output_type": "display_data"
    },
    {
     "data": {
      "text/html": [
       "Syncing run <strong><a href='https://wandb.ai/boostcamp6-recsys6/lightgbm-sweep/runs/qw4goncb' target=\"_blank\">whole-sweep-13</a></strong> to <a href='https://wandb.ai/boostcamp6-recsys6/lightgbm-sweep' target=\"_blank\">Weights & Biases</a> (<a href='https://wandb.me/run' target=\"_blank\">docs</a>)<br/>Sweep page: <a href='https://wandb.ai/boostcamp6-recsys6/lightgbm-sweep/sweeps/fdskahx2' target=\"_blank\">https://wandb.ai/boostcamp6-recsys6/lightgbm-sweep/sweeps/fdskahx2</a>"
      ],
      "text/plain": [
       "<IPython.core.display.HTML object>"
      ]
     },
     "metadata": {},
     "output_type": "display_data"
    },
    {
     "data": {
      "text/html": [
       " View project at <a href='https://wandb.ai/boostcamp6-recsys6/lightgbm-sweep' target=\"_blank\">https://wandb.ai/boostcamp6-recsys6/lightgbm-sweep</a>"
      ],
      "text/plain": [
       "<IPython.core.display.HTML object>"
      ]
     },
     "metadata": {},
     "output_type": "display_data"
    },
    {
     "data": {
      "text/html": [
       " View sweep at <a href='https://wandb.ai/boostcamp6-recsys6/lightgbm-sweep/sweeps/fdskahx2' target=\"_blank\">https://wandb.ai/boostcamp6-recsys6/lightgbm-sweep/sweeps/fdskahx2</a>"
      ],
      "text/plain": [
       "<IPython.core.display.HTML object>"
      ]
     },
     "metadata": {},
     "output_type": "display_data"
    },
    {
     "data": {
      "text/html": [
       " View run at <a href='https://wandb.ai/boostcamp6-recsys6/lightgbm-sweep/runs/qw4goncb' target=\"_blank\">https://wandb.ai/boostcamp6-recsys6/lightgbm-sweep/runs/qw4goncb</a>"
      ],
      "text/plain": [
       "<IPython.core.display.HTML object>"
      ]
     },
     "metadata": {},
     "output_type": "display_data"
    },
    {
     "name": "stdout",
     "output_type": "stream",
     "text": [
      "[LightGBM] [Warning] Categorical features with more bins than the configured maximum bin number found.\n",
      "[LightGBM] [Warning] For categorical features, max_bin and max_bin_by_feature may be ignored with a large number of categories.\n",
      "[LightGBM] [Info] Number of positive: 1543130, number of negative: 814080\n",
      "[LightGBM] [Info] Auto-choosing col-wise multi-threading, the overhead of testing was 0.299848 seconds.\n",
      "You can set `force_col_wise=true` to remove the overhead.\n",
      "[LightGBM] [Info] Total Bins 22357\n",
      "[LightGBM] [Info] Number of data points in the train set: 2357210, number of used features: 35\n",
      "[LightGBM] [Info] [binary:BoostFromScore]: pavg=0.654643 -> initscore=0.639509\n",
      "[LightGBM] [Info] Start training from score 0.639509\n"
     ]
    },
    {
     "name": "stderr",
     "output_type": "stream",
     "text": [
      "\u001b[34m\u001b[1mwandb\u001b[0m: \u001b[33mWARNING\u001b[0m Config item 'num_leaves' was locked by 'sweep' (ignored update).\n",
      "\u001b[34m\u001b[1mwandb\u001b[0m: \u001b[33mWARNING\u001b[0m Config item 'learning_rate' was locked by 'sweep' (ignored update).\n",
      "\u001b[34m\u001b[1mwandb\u001b[0m: \u001b[33mWARNING\u001b[0m Config item 'max_depth' was locked by 'sweep' (ignored update).\n",
      "\u001b[34m\u001b[1mwandb\u001b[0m: \u001b[33mWARNING\u001b[0m Config item 'min_data_in_leaf' was locked by 'sweep' (ignored update).\n",
      "\u001b[34m\u001b[1mwandb\u001b[0m: \u001b[33mWARNING\u001b[0m Config item 'feature_fraction' was locked by 'sweep' (ignored update).\n",
      "\u001b[34m\u001b[1mwandb\u001b[0m: \u001b[33mWARNING\u001b[0m Config item 'bagging_fraction' was locked by 'sweep' (ignored update).\n",
      "\u001b[34m\u001b[1mwandb\u001b[0m: \u001b[33mWARNING\u001b[0m Config item 'bagging_freq' was locked by 'sweep' (ignored update).\n",
      "\u001b[34m\u001b[1mwandb\u001b[0m: \u001b[33mWARNING\u001b[0m Config item 'lambda_l1' was locked by 'sweep' (ignored update).\n",
      "\u001b[34m\u001b[1mwandb\u001b[0m: \u001b[33mWARNING\u001b[0m Config item 'lambda_l2' was locked by 'sweep' (ignored update).\n"
     ]
    },
    {
     "name": "stdout",
     "output_type": "stream",
     "text": [
      "Training until validation scores don't improve for 30 rounds\n",
      "Early stopping, best iteration is:\n",
      "[138]\ttraining's auc: 0.892323\tvalid_1's auc: 0.860699\n",
      "VALID AUC : 0.8606993746757163 ACC : 0.8051568629774928\n",
      "\n"
     ]
    },
    {
     "data": {
      "text/html": [
       "<style>\n",
       "    table.wandb td:nth-child(1) { padding: 0 10px; text-align: left ; width: auto;} td:nth-child(2) {text-align: left ; width: 100%}\n",
       "    .wandb-row { display: flex; flex-direction: row; flex-wrap: wrap; justify-content: flex-start; width: 100% }\n",
       "    .wandb-col { display: flex; flex-direction: column; flex-basis: 100%; flex: 1; padding: 10px; }\n",
       "    </style>\n",
       "<div class=\"wandb-row\"><div class=\"wandb-col\"><h3>Run history:</h3><br/><table class=\"wandb\"><tr><td>accuracy</td><td>▁</td></tr><tr><td>auc</td><td>▁</td></tr><tr><td>iteration</td><td>▁▁▁▂▂▂▂▂▂▃▃▃▃▃▃▄▄▄▄▄▅▅▅▅▅▅▆▆▆▆▆▆▇▇▇▇▇███</td></tr><tr><td>training_auc</td><td>▁▂▃▃▄▄▄▅▅▅▅▅▅▆▆▆▆▆▆▆▆▇▇▇▇▇▇▇▇▇▇▇████████</td></tr><tr><td>valid_1_auc</td><td>▁▄▅▆▇▇▇▇▇▇██████████████████████████████</td></tr></table><br/></div><div class=\"wandb-col\"><h3>Run summary:</h3><br/><table class=\"wandb\"><tr><td>accuracy</td><td>0.80516</td></tr><tr><td>auc</td><td>0.8607</td></tr><tr><td>iteration</td><td>167</td></tr></table><br/></div></div>"
      ],
      "text/plain": [
       "<IPython.core.display.HTML object>"
      ]
     },
     "metadata": {},
     "output_type": "display_data"
    },
    {
     "data": {
      "text/html": [
       " View run <strong style=\"color:#cdcd00\">whole-sweep-13</strong> at: <a href='https://wandb.ai/boostcamp6-recsys6/lightgbm-sweep/runs/qw4goncb' target=\"_blank\">https://wandb.ai/boostcamp6-recsys6/lightgbm-sweep/runs/qw4goncb</a><br/>Synced 6 W&B file(s), 0 media file(s), 0 artifact file(s) and 0 other file(s)"
      ],
      "text/plain": [
       "<IPython.core.display.HTML object>"
      ]
     },
     "metadata": {},
     "output_type": "display_data"
    },
    {
     "data": {
      "text/html": [
       "Find logs at: <code>./wandb/run-20240124_092743-qw4goncb/logs</code>"
      ],
      "text/plain": [
       "<IPython.core.display.HTML object>"
      ]
     },
     "metadata": {},
     "output_type": "display_data"
    },
    {
     "name": "stdout",
     "output_type": "stream",
     "text": [
      "writing prediction : output/auc:0.8606993746757163 acc:0.8051568629774928sweep lgbm.csv\n",
      "                                      Feature  Importance\n",
      "0                                      userID        2493\n",
      "1                            assessmentItemID        1984\n",
      "2                                      testId         692\n",
      "3                                KnowledgeTag         553\n",
      "14                            UserItemElapsed         106\n",
      "15                                    ItemAcc         106\n",
      "13                      CumulativeUserItemAcc          66\n",
      "17           AverageItemSolvingTime_Incorrect          44\n",
      "20                      UserTagAvgSolvingTime          37\n",
      "23        CumulativeUserTagExponentialAverage          32\n",
      "5                                 SolvingTime          30\n",
      "6                              CumulativeTime          27\n",
      "19  Difference_SolvingTime_AvgItemSolvingTime          26\n",
      "22                CumulativeUserTagAverageAcc          18\n",
      "28                         PreviousItemAnswer          17\n",
      "29                                    TestAcc          16\n",
      "21                                     TagAcc          12\n",
      "24                               UserTagCount          11\n",
      "27                        UserRecentTagAnswer          11\n",
      "31                         categorize_ItemAcc          11\n",
      "12                            Item_last30days           9\n",
      "16             AverageItemSolvingTime_Correct           9\n",
      "8                                   TimeOfDay           8\n",
      "10                        CumulativeItemCount           7\n",
      "7                                       Month           6\n",
      "34           categorize_CumulativeUserItemAcc           5\n",
      "11                             Item_last7days           4\n",
      "4                                     Itemseq           3\n",
      "18                     AverageItemSolvingTime           3\n",
      "30                     categorize_solvingTime           1\n",
      "26                         PastTagSolvingTime           1\n",
      "9   Difference_SolvingTime_UserAvgSolvingTime           0\n",
      "25                             UserTagElapsed           0\n",
      "32                          categorize_TagAcc           0\n",
      "33                         categorize_TestAcc           0\n",
      "35     categorize_CumulativeUserTagAverageAcc           0\n"
     ]
    },
    {
     "name": "stderr",
     "output_type": "stream",
     "text": [
      "\u001b[34m\u001b[1mwandb\u001b[0m: Sweep Agent: Waiting for job.\n",
      "\u001b[34m\u001b[1mwandb\u001b[0m: Job received.\n",
      "\u001b[34m\u001b[1mwandb\u001b[0m: Agent Starting Run: 1ybyrz33 with config:\n",
      "\u001b[34m\u001b[1mwandb\u001b[0m: \tbagging_fraction: 0.8479608235157476\n",
      "\u001b[34m\u001b[1mwandb\u001b[0m: \tbagging_freq: 20\n",
      "\u001b[34m\u001b[1mwandb\u001b[0m: \tfeature_fraction: 0.8858975841531473\n",
      "\u001b[34m\u001b[1mwandb\u001b[0m: \tlambda_l1: 1.46298535065012\n",
      "\u001b[34m\u001b[1mwandb\u001b[0m: \tlambda_l2: 1.1133218565781031\n",
      "\u001b[34m\u001b[1mwandb\u001b[0m: \tlearning_rate: 0.23811578847952972\n",
      "\u001b[34m\u001b[1mwandb\u001b[0m: \tmax_depth: 34\n",
      "\u001b[34m\u001b[1mwandb\u001b[0m: \tmin_data_in_leaf: 59\n",
      "\u001b[34m\u001b[1mwandb\u001b[0m: \tnum_leaves: 50\n",
      "\u001b[34m\u001b[1mwandb\u001b[0m: \tratio: 0.051616795325350226\n",
      "\u001b[34m\u001b[1mwandb\u001b[0m: \u001b[33mWARNING\u001b[0m Ignored wandb.init() arg project when running a sweep.\n"
     ]
    },
    {
     "data": {
      "text/html": [
       "Tracking run with wandb version 0.16.2"
      ],
      "text/plain": [
       "<IPython.core.display.HTML object>"
      ]
     },
     "metadata": {},
     "output_type": "display_data"
    },
    {
     "data": {
      "text/html": [
       "Run data is saved locally in <code>/data/ephemeral/home/level2-dkt-recsys-06/code/boost/wandb/run-20240124_092928-1ybyrz33</code>"
      ],
      "text/plain": [
       "<IPython.core.display.HTML object>"
      ]
     },
     "metadata": {},
     "output_type": "display_data"
    },
    {
     "data": {
      "text/html": [
       "Syncing run <strong><a href='https://wandb.ai/boostcamp6-recsys6/lightgbm-sweep/runs/1ybyrz33' target=\"_blank\">balmy-sweep-14</a></strong> to <a href='https://wandb.ai/boostcamp6-recsys6/lightgbm-sweep' target=\"_blank\">Weights & Biases</a> (<a href='https://wandb.me/run' target=\"_blank\">docs</a>)<br/>Sweep page: <a href='https://wandb.ai/boostcamp6-recsys6/lightgbm-sweep/sweeps/fdskahx2' target=\"_blank\">https://wandb.ai/boostcamp6-recsys6/lightgbm-sweep/sweeps/fdskahx2</a>"
      ],
      "text/plain": [
       "<IPython.core.display.HTML object>"
      ]
     },
     "metadata": {},
     "output_type": "display_data"
    },
    {
     "data": {
      "text/html": [
       " View project at <a href='https://wandb.ai/boostcamp6-recsys6/lightgbm-sweep' target=\"_blank\">https://wandb.ai/boostcamp6-recsys6/lightgbm-sweep</a>"
      ],
      "text/plain": [
       "<IPython.core.display.HTML object>"
      ]
     },
     "metadata": {},
     "output_type": "display_data"
    },
    {
     "data": {
      "text/html": [
       " View sweep at <a href='https://wandb.ai/boostcamp6-recsys6/lightgbm-sweep/sweeps/fdskahx2' target=\"_blank\">https://wandb.ai/boostcamp6-recsys6/lightgbm-sweep/sweeps/fdskahx2</a>"
      ],
      "text/plain": [
       "<IPython.core.display.HTML object>"
      ]
     },
     "metadata": {},
     "output_type": "display_data"
    },
    {
     "data": {
      "text/html": [
       " View run at <a href='https://wandb.ai/boostcamp6-recsys6/lightgbm-sweep/runs/1ybyrz33' target=\"_blank\">https://wandb.ai/boostcamp6-recsys6/lightgbm-sweep/runs/1ybyrz33</a>"
      ],
      "text/plain": [
       "<IPython.core.display.HTML object>"
      ]
     },
     "metadata": {},
     "output_type": "display_data"
    },
    {
     "name": "stdout",
     "output_type": "stream",
     "text": [
      "[LightGBM] [Warning] Categorical features with more bins than the configured maximum bin number found.\n",
      "[LightGBM] [Warning] For categorical features, max_bin and max_bin_by_feature may be ignored with a large number of categories.\n",
      "[LightGBM] [Info] Number of positive: 1568165, number of negative: 827439\n",
      "[LightGBM] [Info] Auto-choosing row-wise multi-threading, the overhead of testing was 0.087899 seconds.\n",
      "You can set `force_row_wise=true` to remove the overhead.\n",
      "And if memory is not enough, you can set `force_col_wise=true`.\n",
      "[LightGBM] [Info] Total Bins 22347\n",
      "[LightGBM] [Info] Number of data points in the train set: 2395604, number of used features: 35\n",
      "[LightGBM] [Info] [binary:BoostFromScore]: pavg=0.654601 -> initscore=0.639326\n",
      "[LightGBM] [Info] Start training from score 0.639326\n"
     ]
    },
    {
     "name": "stderr",
     "output_type": "stream",
     "text": [
      "\u001b[34m\u001b[1mwandb\u001b[0m: \u001b[33mWARNING\u001b[0m Config item 'num_leaves' was locked by 'sweep' (ignored update).\n",
      "\u001b[34m\u001b[1mwandb\u001b[0m: \u001b[33mWARNING\u001b[0m Config item 'learning_rate' was locked by 'sweep' (ignored update).\n",
      "\u001b[34m\u001b[1mwandb\u001b[0m: \u001b[33mWARNING\u001b[0m Config item 'max_depth' was locked by 'sweep' (ignored update).\n",
      "\u001b[34m\u001b[1mwandb\u001b[0m: \u001b[33mWARNING\u001b[0m Config item 'min_data_in_leaf' was locked by 'sweep' (ignored update).\n",
      "\u001b[34m\u001b[1mwandb\u001b[0m: \u001b[33mWARNING\u001b[0m Config item 'feature_fraction' was locked by 'sweep' (ignored update).\n",
      "\u001b[34m\u001b[1mwandb\u001b[0m: \u001b[33mWARNING\u001b[0m Config item 'bagging_fraction' was locked by 'sweep' (ignored update).\n",
      "\u001b[34m\u001b[1mwandb\u001b[0m: \u001b[33mWARNING\u001b[0m Config item 'bagging_freq' was locked by 'sweep' (ignored update).\n",
      "\u001b[34m\u001b[1mwandb\u001b[0m: \u001b[33mWARNING\u001b[0m Config item 'lambda_l1' was locked by 'sweep' (ignored update).\n",
      "\u001b[34m\u001b[1mwandb\u001b[0m: \u001b[33mWARNING\u001b[0m Config item 'lambda_l2' was locked by 'sweep' (ignored update).\n"
     ]
    },
    {
     "name": "stdout",
     "output_type": "stream",
     "text": [
      "Training until validation scores don't improve for 30 rounds\n",
      "Early stopping, best iteration is:\n",
      "[222]\ttraining's auc: 0.899915\tvalid_1's auc: 0.860782\n",
      "VALID AUC : 0.8607815054327651 ACC : 0.8058180925494047\n",
      "\n"
     ]
    },
    {
     "data": {
      "text/html": [
       "<style>\n",
       "    table.wandb td:nth-child(1) { padding: 0 10px; text-align: left ; width: auto;} td:nth-child(2) {text-align: left ; width: 100%}\n",
       "    .wandb-row { display: flex; flex-direction: row; flex-wrap: wrap; justify-content: flex-start; width: 100% }\n",
       "    .wandb-col { display: flex; flex-direction: column; flex-basis: 100%; flex: 1; padding: 10px; }\n",
       "    </style>\n",
       "<div class=\"wandb-row\"><div class=\"wandb-col\"><h3>Run history:</h3><br/><table class=\"wandb\"><tr><td>accuracy</td><td>▁</td></tr><tr><td>auc</td><td>▁</td></tr><tr><td>iteration</td><td>▁▁▁▂▂▂▂▂▂▃▃▃▃▃▃▄▄▄▄▄▅▅▅▅▅▅▆▆▆▆▆▇▇▇▇▇▇███</td></tr><tr><td>training_auc</td><td>▁▂▃▃▄▄▅▅▅▅▅▅▆▆▆▆▆▆▆▆▇▇▇▇▇▇▇▇▇▇▇▇████████</td></tr><tr><td>valid_1_auc</td><td>▁▄▆▆▇▇▇▇████████████████████████████████</td></tr></table><br/></div><div class=\"wandb-col\"><h3>Run summary:</h3><br/><table class=\"wandb\"><tr><td>accuracy</td><td>0.80582</td></tr><tr><td>auc</td><td>0.86078</td></tr><tr><td>iteration</td><td>251</td></tr></table><br/></div></div>"
      ],
      "text/plain": [
       "<IPython.core.display.HTML object>"
      ]
     },
     "metadata": {},
     "output_type": "display_data"
    },
    {
     "data": {
      "text/html": [
       " View run <strong style=\"color:#cdcd00\">balmy-sweep-14</strong> at: <a href='https://wandb.ai/boostcamp6-recsys6/lightgbm-sweep/runs/1ybyrz33' target=\"_blank\">https://wandb.ai/boostcamp6-recsys6/lightgbm-sweep/runs/1ybyrz33</a><br/>Synced 6 W&B file(s), 0 media file(s), 0 artifact file(s) and 0 other file(s)"
      ],
      "text/plain": [
       "<IPython.core.display.HTML object>"
      ]
     },
     "metadata": {},
     "output_type": "display_data"
    },
    {
     "data": {
      "text/html": [
       "Find logs at: <code>./wandb/run-20240124_092928-1ybyrz33/logs</code>"
      ],
      "text/plain": [
       "<IPython.core.display.HTML object>"
      ]
     },
     "metadata": {},
     "output_type": "display_data"
    },
    {
     "name": "stdout",
     "output_type": "stream",
     "text": [
      "writing prediction : output/auc:0.8607815054327651 acc:0.8058180925494047sweep lgbm.csv\n",
      "                                      Feature  Importance\n",
      "0                                      userID        4083\n",
      "1                            assessmentItemID        3489\n",
      "3                                KnowledgeTag        1264\n",
      "2                                      testId        1254\n",
      "14                            UserItemElapsed         133\n",
      "15                                    ItemAcc         127\n",
      "13                      CumulativeUserItemAcc          79\n",
      "17           AverageItemSolvingTime_Incorrect          54\n",
      "20                      UserTagAvgSolvingTime          52\n",
      "5                                 SolvingTime          40\n",
      "19  Difference_SolvingTime_AvgItemSolvingTime          37\n",
      "23        CumulativeUserTagExponentialAverage          36\n",
      "6                              CumulativeTime          33\n",
      "22                CumulativeUserTagAverageAcc          23\n",
      "28                         PreviousItemAnswer          22\n",
      "29                                    TestAcc          21\n",
      "24                               UserTagCount          16\n",
      "27                        UserRecentTagAnswer          15\n",
      "21                                     TagAcc          14\n",
      "7                                       Month          11\n",
      "31                         categorize_ItemAcc          11\n",
      "8                                   TimeOfDay          10\n",
      "34           categorize_CumulativeUserItemAcc           9\n",
      "12                            Item_last30days           8\n",
      "16             AverageItemSolvingTime_Correct           8\n",
      "10                        CumulativeItemCount           7\n",
      "11                             Item_last7days           6\n",
      "4                                     Itemseq           6\n",
      "9   Difference_SolvingTime_UserAvgSolvingTime           4\n",
      "18                     AverageItemSolvingTime           3\n",
      "30                     categorize_solvingTime           1\n",
      "26                         PastTagSolvingTime           1\n",
      "35     categorize_CumulativeUserTagAverageAcc           1\n",
      "25                             UserTagElapsed           0\n",
      "33                         categorize_TestAcc           0\n",
      "32                          categorize_TagAcc           0\n"
     ]
    },
    {
     "name": "stderr",
     "output_type": "stream",
     "text": [
      "\u001b[34m\u001b[1mwandb\u001b[0m: Agent Starting Run: wsqsfo8g with config:\n",
      "\u001b[34m\u001b[1mwandb\u001b[0m: \tbagging_fraction: 0.99081469766256\n",
      "\u001b[34m\u001b[1mwandb\u001b[0m: \tbagging_freq: 17\n",
      "\u001b[34m\u001b[1mwandb\u001b[0m: \tfeature_fraction: 0.8876633167040902\n",
      "\u001b[34m\u001b[1mwandb\u001b[0m: \tlambda_l1: 2.5925022551098587\n",
      "\u001b[34m\u001b[1mwandb\u001b[0m: \tlambda_l2: 1.4427437237214058\n",
      "\u001b[34m\u001b[1mwandb\u001b[0m: \tlearning_rate: 0.20487825794996875\n",
      "\u001b[34m\u001b[1mwandb\u001b[0m: \tmax_depth: 35\n",
      "\u001b[34m\u001b[1mwandb\u001b[0m: \tmin_data_in_leaf: 44\n",
      "\u001b[34m\u001b[1mwandb\u001b[0m: \tnum_leaves: 60\n",
      "\u001b[34m\u001b[1mwandb\u001b[0m: \tratio: 0.11815585743067208\n",
      "\u001b[34m\u001b[1mwandb\u001b[0m: \u001b[33mWARNING\u001b[0m Ignored wandb.init() arg project when running a sweep.\n"
     ]
    },
    {
     "data": {
      "text/html": [
       "Tracking run with wandb version 0.16.2"
      ],
      "text/plain": [
       "<IPython.core.display.HTML object>"
      ]
     },
     "metadata": {},
     "output_type": "display_data"
    },
    {
     "data": {
      "text/html": [
       "Run data is saved locally in <code>/data/ephemeral/home/level2-dkt-recsys-06/code/boost/wandb/run-20240124_093135-wsqsfo8g</code>"
      ],
      "text/plain": [
       "<IPython.core.display.HTML object>"
      ]
     },
     "metadata": {},
     "output_type": "display_data"
    },
    {
     "data": {
      "text/html": [
       "Syncing run <strong><a href='https://wandb.ai/boostcamp6-recsys6/lightgbm-sweep/runs/wsqsfo8g' target=\"_blank\">lilac-sweep-15</a></strong> to <a href='https://wandb.ai/boostcamp6-recsys6/lightgbm-sweep' target=\"_blank\">Weights & Biases</a> (<a href='https://wandb.me/run' target=\"_blank\">docs</a>)<br/>Sweep page: <a href='https://wandb.ai/boostcamp6-recsys6/lightgbm-sweep/sweeps/fdskahx2' target=\"_blank\">https://wandb.ai/boostcamp6-recsys6/lightgbm-sweep/sweeps/fdskahx2</a>"
      ],
      "text/plain": [
       "<IPython.core.display.HTML object>"
      ]
     },
     "metadata": {},
     "output_type": "display_data"
    },
    {
     "data": {
      "text/html": [
       " View project at <a href='https://wandb.ai/boostcamp6-recsys6/lightgbm-sweep' target=\"_blank\">https://wandb.ai/boostcamp6-recsys6/lightgbm-sweep</a>"
      ],
      "text/plain": [
       "<IPython.core.display.HTML object>"
      ]
     },
     "metadata": {},
     "output_type": "display_data"
    },
    {
     "data": {
      "text/html": [
       " View sweep at <a href='https://wandb.ai/boostcamp6-recsys6/lightgbm-sweep/sweeps/fdskahx2' target=\"_blank\">https://wandb.ai/boostcamp6-recsys6/lightgbm-sweep/sweeps/fdskahx2</a>"
      ],
      "text/plain": [
       "<IPython.core.display.HTML object>"
      ]
     },
     "metadata": {},
     "output_type": "display_data"
    },
    {
     "data": {
      "text/html": [
       " View run at <a href='https://wandb.ai/boostcamp6-recsys6/lightgbm-sweep/runs/wsqsfo8g' target=\"_blank\">https://wandb.ai/boostcamp6-recsys6/lightgbm-sweep/runs/wsqsfo8g</a>"
      ],
      "text/plain": [
       "<IPython.core.display.HTML object>"
      ]
     },
     "metadata": {},
     "output_type": "display_data"
    },
    {
     "name": "stdout",
     "output_type": "stream",
     "text": [
      "[LightGBM] [Warning] Categorical features with more bins than the configured maximum bin number found.\n",
      "[LightGBM] [Warning] For categorical features, max_bin and max_bin_by_feature may be ignored with a large number of categories.\n",
      "[LightGBM] [Info] Number of positive: 1457976, number of negative: 769572\n",
      "[LightGBM] [Info] Auto-choosing row-wise multi-threading, the overhead of testing was 0.054915 seconds.\n",
      "You can set `force_row_wise=true` to remove the overhead.\n",
      "And if memory is not enough, you can set `force_col_wise=true`.\n",
      "[LightGBM] [Info] Total Bins 22372\n",
      "[LightGBM] [Info] Number of data points in the train set: 2227548, number of used features: 35\n",
      "[LightGBM] [Info] [binary:BoostFromScore]: pavg=0.654521 -> initscore=0.638970\n",
      "[LightGBM] [Info] Start training from score 0.638970\n"
     ]
    },
    {
     "name": "stderr",
     "output_type": "stream",
     "text": [
      "\u001b[34m\u001b[1mwandb\u001b[0m: \u001b[33mWARNING\u001b[0m Config item 'num_leaves' was locked by 'sweep' (ignored update).\n",
      "\u001b[34m\u001b[1mwandb\u001b[0m: \u001b[33mWARNING\u001b[0m Config item 'learning_rate' was locked by 'sweep' (ignored update).\n",
      "\u001b[34m\u001b[1mwandb\u001b[0m: \u001b[33mWARNING\u001b[0m Config item 'max_depth' was locked by 'sweep' (ignored update).\n",
      "\u001b[34m\u001b[1mwandb\u001b[0m: \u001b[33mWARNING\u001b[0m Config item 'min_data_in_leaf' was locked by 'sweep' (ignored update).\n",
      "\u001b[34m\u001b[1mwandb\u001b[0m: \u001b[33mWARNING\u001b[0m Config item 'feature_fraction' was locked by 'sweep' (ignored update).\n",
      "\u001b[34m\u001b[1mwandb\u001b[0m: \u001b[33mWARNING\u001b[0m Config item 'bagging_fraction' was locked by 'sweep' (ignored update).\n",
      "\u001b[34m\u001b[1mwandb\u001b[0m: \u001b[33mWARNING\u001b[0m Config item 'bagging_freq' was locked by 'sweep' (ignored update).\n",
      "\u001b[34m\u001b[1mwandb\u001b[0m: \u001b[33mWARNING\u001b[0m Config item 'lambda_l1' was locked by 'sweep' (ignored update).\n",
      "\u001b[34m\u001b[1mwandb\u001b[0m: \u001b[33mWARNING\u001b[0m Config item 'lambda_l2' was locked by 'sweep' (ignored update).\n"
     ]
    },
    {
     "name": "stdout",
     "output_type": "stream",
     "text": [
      "Training until validation scores don't improve for 30 rounds\n",
      "Early stopping, best iteration is:\n",
      "[170]\ttraining's auc: 0.900829\tvalid_1's auc: 0.86011\n",
      "VALID AUC : 0.8601099656284955 ACC : 0.8047371384145198\n",
      "\n"
     ]
    },
    {
     "data": {
      "text/html": [
       "<style>\n",
       "    table.wandb td:nth-child(1) { padding: 0 10px; text-align: left ; width: auto;} td:nth-child(2) {text-align: left ; width: 100%}\n",
       "    .wandb-row { display: flex; flex-direction: row; flex-wrap: wrap; justify-content: flex-start; width: 100% }\n",
       "    .wandb-col { display: flex; flex-direction: column; flex-basis: 100%; flex: 1; padding: 10px; }\n",
       "    </style>\n",
       "<div class=\"wandb-row\"><div class=\"wandb-col\"><h3>Run history:</h3><br/><table class=\"wandb\"><tr><td>accuracy</td><td>▁</td></tr><tr><td>auc</td><td>▁</td></tr><tr><td>iteration</td><td>▁▁▁▁▂▂▂▂▂▃▃▃▃▃▃▄▄▄▄▄▅▅▅▅▅▅▆▆▆▆▆▇▇▇▇▇▇███</td></tr><tr><td>training_auc</td><td>▁▂▃▃▄▄▄▄▅▅▅▅▅▆▆▆▆▆▆▆▆▇▇▇▇▇▇▇▇▇▇▇▇███████</td></tr><tr><td>valid_1_auc</td><td>▁▃▅▆▆▇▇▇▇███████████████████████████████</td></tr></table><br/></div><div class=\"wandb-col\"><h3>Run summary:</h3><br/><table class=\"wandb\"><tr><td>accuracy</td><td>0.80474</td></tr><tr><td>auc</td><td>0.86011</td></tr><tr><td>iteration</td><td>199</td></tr></table><br/></div></div>"
      ],
      "text/plain": [
       "<IPython.core.display.HTML object>"
      ]
     },
     "metadata": {},
     "output_type": "display_data"
    },
    {
     "data": {
      "text/html": [
       " View run <strong style=\"color:#cdcd00\">lilac-sweep-15</strong> at: <a href='https://wandb.ai/boostcamp6-recsys6/lightgbm-sweep/runs/wsqsfo8g' target=\"_blank\">https://wandb.ai/boostcamp6-recsys6/lightgbm-sweep/runs/wsqsfo8g</a><br/>Synced 6 W&B file(s), 0 media file(s), 0 artifact file(s) and 0 other file(s)"
      ],
      "text/plain": [
       "<IPython.core.display.HTML object>"
      ]
     },
     "metadata": {},
     "output_type": "display_data"
    },
    {
     "data": {
      "text/html": [
       "Find logs at: <code>./wandb/run-20240124_093135-wsqsfo8g/logs</code>"
      ],
      "text/plain": [
       "<IPython.core.display.HTML object>"
      ]
     },
     "metadata": {},
     "output_type": "display_data"
    },
    {
     "name": "stdout",
     "output_type": "stream",
     "text": [
      "writing prediction : output/auc:0.8601099656284955 acc:0.8047371384145198sweep lgbm.csv\n",
      "                                      Feature  Importance\n",
      "0                                      userID        3988\n",
      "1                            assessmentItemID        3325\n",
      "2                                      testId         934\n",
      "3                                KnowledgeTag         831\n",
      "14                            UserItemElapsed         160\n",
      "15                                    ItemAcc         160\n",
      "13                      CumulativeUserItemAcc         105\n",
      "17           AverageItemSolvingTime_Incorrect          60\n",
      "5                                 SolvingTime          59\n",
      "20                      UserTagAvgSolvingTime          54\n",
      "19  Difference_SolvingTime_AvgItemSolvingTime          50\n",
      "23        CumulativeUserTagExponentialAverage          41\n",
      "6                              CumulativeTime          39\n",
      "28                         PreviousItemAnswer          27\n",
      "29                                    TestAcc          26\n",
      "22                CumulativeUserTagAverageAcc          24\n",
      "21                                     TagAcc          17\n",
      "24                               UserTagCount          17\n",
      "27                        UserRecentTagAnswer          16\n",
      "31                         categorize_ItemAcc          15\n",
      "10                        CumulativeItemCount          13\n",
      "7                                       Month          12\n",
      "16             AverageItemSolvingTime_Correct          12\n",
      "12                            Item_last30days          11\n",
      "8                                   TimeOfDay          11\n",
      "34           categorize_CumulativeUserItemAcc           6\n",
      "11                             Item_last7days           5\n",
      "4                                     Itemseq           3\n",
      "18                     AverageItemSolvingTime           3\n",
      "30                     categorize_solvingTime           2\n",
      "26                         PastTagSolvingTime           2\n",
      "9   Difference_SolvingTime_UserAvgSolvingTime           1\n",
      "35     categorize_CumulativeUserTagAverageAcc           1\n",
      "25                             UserTagElapsed           0\n",
      "33                         categorize_TestAcc           0\n",
      "32                          categorize_TagAcc           0\n"
     ]
    },
    {
     "name": "stderr",
     "output_type": "stream",
     "text": [
      "\u001b[34m\u001b[1mwandb\u001b[0m: Agent Starting Run: ny4mig3o with config:\n",
      "\u001b[34m\u001b[1mwandb\u001b[0m: \tbagging_fraction: 0.8207068278752112\n",
      "\u001b[34m\u001b[1mwandb\u001b[0m: \tbagging_freq: 19\n",
      "\u001b[34m\u001b[1mwandb\u001b[0m: \tfeature_fraction: 0.916905396502421\n",
      "\u001b[34m\u001b[1mwandb\u001b[0m: \tlambda_l1: 1.1903786440581177\n",
      "\u001b[34m\u001b[1mwandb\u001b[0m: \tlambda_l2: 9.136507981728457\n",
      "\u001b[34m\u001b[1mwandb\u001b[0m: \tlearning_rate: 0.32619733391192457\n",
      "\u001b[34m\u001b[1mwandb\u001b[0m: \tmax_depth: 50\n",
      "\u001b[34m\u001b[1mwandb\u001b[0m: \tmin_data_in_leaf: 43\n",
      "\u001b[34m\u001b[1mwandb\u001b[0m: \tnum_leaves: 52\n",
      "\u001b[34m\u001b[1mwandb\u001b[0m: \tratio: 0.05265301587877898\n",
      "\u001b[34m\u001b[1mwandb\u001b[0m: \u001b[33mWARNING\u001b[0m Ignored wandb.init() arg project when running a sweep.\n"
     ]
    },
    {
     "data": {
      "text/html": [
       "Tracking run with wandb version 0.16.2"
      ],
      "text/plain": [
       "<IPython.core.display.HTML object>"
      ]
     },
     "metadata": {},
     "output_type": "display_data"
    },
    {
     "data": {
      "text/html": [
       "Run data is saved locally in <code>/data/ephemeral/home/level2-dkt-recsys-06/code/boost/wandb/run-20240124_093330-ny4mig3o</code>"
      ],
      "text/plain": [
       "<IPython.core.display.HTML object>"
      ]
     },
     "metadata": {},
     "output_type": "display_data"
    },
    {
     "data": {
      "text/html": [
       "Syncing run <strong><a href='https://wandb.ai/boostcamp6-recsys6/lightgbm-sweep/runs/ny4mig3o' target=\"_blank\">cerulean-sweep-16</a></strong> to <a href='https://wandb.ai/boostcamp6-recsys6/lightgbm-sweep' target=\"_blank\">Weights & Biases</a> (<a href='https://wandb.me/run' target=\"_blank\">docs</a>)<br/>Sweep page: <a href='https://wandb.ai/boostcamp6-recsys6/lightgbm-sweep/sweeps/fdskahx2' target=\"_blank\">https://wandb.ai/boostcamp6-recsys6/lightgbm-sweep/sweeps/fdskahx2</a>"
      ],
      "text/plain": [
       "<IPython.core.display.HTML object>"
      ]
     },
     "metadata": {},
     "output_type": "display_data"
    },
    {
     "data": {
      "text/html": [
       " View project at <a href='https://wandb.ai/boostcamp6-recsys6/lightgbm-sweep' target=\"_blank\">https://wandb.ai/boostcamp6-recsys6/lightgbm-sweep</a>"
      ],
      "text/plain": [
       "<IPython.core.display.HTML object>"
      ]
     },
     "metadata": {},
     "output_type": "display_data"
    },
    {
     "data": {
      "text/html": [
       " View sweep at <a href='https://wandb.ai/boostcamp6-recsys6/lightgbm-sweep/sweeps/fdskahx2' target=\"_blank\">https://wandb.ai/boostcamp6-recsys6/lightgbm-sweep/sweeps/fdskahx2</a>"
      ],
      "text/plain": [
       "<IPython.core.display.HTML object>"
      ]
     },
     "metadata": {},
     "output_type": "display_data"
    },
    {
     "data": {
      "text/html": [
       " View run at <a href='https://wandb.ai/boostcamp6-recsys6/lightgbm-sweep/runs/ny4mig3o' target=\"_blank\">https://wandb.ai/boostcamp6-recsys6/lightgbm-sweep/runs/ny4mig3o</a>"
      ],
      "text/plain": [
       "<IPython.core.display.HTML object>"
      ]
     },
     "metadata": {},
     "output_type": "display_data"
    },
    {
     "name": "stdout",
     "output_type": "stream",
     "text": [
      "[LightGBM] [Warning] Categorical features with more bins than the configured maximum bin number found.\n",
      "[LightGBM] [Warning] For categorical features, max_bin and max_bin_by_feature may be ignored with a large number of categories.\n",
      "[LightGBM] [Info] Number of positive: 1566534, number of negative: 826439\n",
      "[LightGBM] [Info] Auto-choosing row-wise multi-threading, the overhead of testing was 0.069965 seconds.\n",
      "You can set `force_row_wise=true` to remove the overhead.\n",
      "And if memory is not enough, you can set `force_col_wise=true`.\n",
      "[LightGBM] [Info] Total Bins 22371\n",
      "[LightGBM] [Info] Number of data points in the train set: 2392973, number of used features: 35\n",
      "[LightGBM] [Info] [binary:BoostFromScore]: pavg=0.654639 -> initscore=0.639495\n",
      "[LightGBM] [Info] Start training from score 0.639495\n"
     ]
    },
    {
     "name": "stderr",
     "output_type": "stream",
     "text": [
      "\u001b[34m\u001b[1mwandb\u001b[0m: \u001b[33mWARNING\u001b[0m Config item 'num_leaves' was locked by 'sweep' (ignored update).\n",
      "\u001b[34m\u001b[1mwandb\u001b[0m: \u001b[33mWARNING\u001b[0m Config item 'learning_rate' was locked by 'sweep' (ignored update).\n",
      "\u001b[34m\u001b[1mwandb\u001b[0m: \u001b[33mWARNING\u001b[0m Config item 'max_depth' was locked by 'sweep' (ignored update).\n",
      "\u001b[34m\u001b[1mwandb\u001b[0m: \u001b[33mWARNING\u001b[0m Config item 'min_data_in_leaf' was locked by 'sweep' (ignored update).\n",
      "\u001b[34m\u001b[1mwandb\u001b[0m: \u001b[33mWARNING\u001b[0m Config item 'feature_fraction' was locked by 'sweep' (ignored update).\n",
      "\u001b[34m\u001b[1mwandb\u001b[0m: \u001b[33mWARNING\u001b[0m Config item 'bagging_fraction' was locked by 'sweep' (ignored update).\n",
      "\u001b[34m\u001b[1mwandb\u001b[0m: \u001b[33mWARNING\u001b[0m Config item 'bagging_freq' was locked by 'sweep' (ignored update).\n",
      "\u001b[34m\u001b[1mwandb\u001b[0m: \u001b[33mWARNING\u001b[0m Config item 'lambda_l1' was locked by 'sweep' (ignored update).\n",
      "\u001b[34m\u001b[1mwandb\u001b[0m: \u001b[33mWARNING\u001b[0m Config item 'lambda_l2' was locked by 'sweep' (ignored update).\n"
     ]
    },
    {
     "name": "stdout",
     "output_type": "stream",
     "text": [
      "Training until validation scores don't improve for 30 rounds\n",
      "Early stopping, best iteration is:\n",
      "[96]\ttraining's auc: 0.888485\tvalid_1's auc: 0.857292\n",
      "VALID AUC : 0.8572923065584267 ACC : 0.8018017340562328\n",
      "\n"
     ]
    },
    {
     "data": {
      "text/html": [
       "<style>\n",
       "    table.wandb td:nth-child(1) { padding: 0 10px; text-align: left ; width: auto;} td:nth-child(2) {text-align: left ; width: 100%}\n",
       "    .wandb-row { display: flex; flex-direction: row; flex-wrap: wrap; justify-content: flex-start; width: 100% }\n",
       "    .wandb-col { display: flex; flex-direction: column; flex-basis: 100%; flex: 1; padding: 10px; }\n",
       "    </style>\n",
       "<div class=\"wandb-row\"><div class=\"wandb-col\"><h3>Run history:</h3><br/><table class=\"wandb\"><tr><td>accuracy</td><td>▁</td></tr><tr><td>auc</td><td>▁</td></tr><tr><td>iteration</td><td>▁▁▁▂▂▂▂▂▂▃▃▃▃▃▃▄▄▄▄▄▅▅▅▅▅▅▆▆▆▆▆▇▇▇▇▇▇███</td></tr><tr><td>training_auc</td><td>▁▃▃▄▄▅▅▅▅▅▆▆▆▆▆▆▆▆▆▇▇▇▇▇▇▇▇▇▇▇▇█████████</td></tr><tr><td>valid_1_auc</td><td>▁▄▅▆▇▇▇▇████████████████████████████████</td></tr></table><br/></div><div class=\"wandb-col\"><h3>Run summary:</h3><br/><table class=\"wandb\"><tr><td>accuracy</td><td>0.8018</td></tr><tr><td>auc</td><td>0.85729</td></tr><tr><td>iteration</td><td>125</td></tr></table><br/></div></div>"
      ],
      "text/plain": [
       "<IPython.core.display.HTML object>"
      ]
     },
     "metadata": {},
     "output_type": "display_data"
    },
    {
     "data": {
      "text/html": [
       " View run <strong style=\"color:#cdcd00\">cerulean-sweep-16</strong> at: <a href='https://wandb.ai/boostcamp6-recsys6/lightgbm-sweep/runs/ny4mig3o' target=\"_blank\">https://wandb.ai/boostcamp6-recsys6/lightgbm-sweep/runs/ny4mig3o</a><br/>Synced 6 W&B file(s), 0 media file(s), 0 artifact file(s) and 0 other file(s)"
      ],
      "text/plain": [
       "<IPython.core.display.HTML object>"
      ]
     },
     "metadata": {},
     "output_type": "display_data"
    },
    {
     "data": {
      "text/html": [
       "Find logs at: <code>./wandb/run-20240124_093330-ny4mig3o/logs</code>"
      ],
      "text/plain": [
       "<IPython.core.display.HTML object>"
      ]
     },
     "metadata": {},
     "output_type": "display_data"
    },
    {
     "name": "stdout",
     "output_type": "stream",
     "text": [
      "writing prediction : output/auc:0.8572923065584267 acc:0.8018017340562328sweep lgbm.csv\n",
      "                                      Feature  Importance\n",
      "0                                      userID        1854\n",
      "1                            assessmentItemID        1697\n",
      "2                                      testId         439\n",
      "3                                KnowledgeTag         418\n",
      "15                                    ItemAcc          93\n",
      "14                            UserItemElapsed          85\n",
      "13                      CumulativeUserItemAcc          54\n",
      "17           AverageItemSolvingTime_Incorrect          39\n",
      "5                                 SolvingTime          30\n",
      "20                      UserTagAvgSolvingTime          23\n",
      "23        CumulativeUserTagExponentialAverage          23\n",
      "19  Difference_SolvingTime_AvgItemSolvingTime          22\n",
      "6                              CumulativeTime          15\n",
      "22                CumulativeUserTagAverageAcc          12\n",
      "31                         categorize_ItemAcc          11\n",
      "29                                    TestAcc          10\n",
      "28                         PreviousItemAnswer           9\n",
      "24                               UserTagCount           8\n",
      "21                                     TagAcc           8\n",
      "12                            Item_last30days           7\n",
      "27                        UserRecentTagAnswer           7\n",
      "8                                   TimeOfDay           6\n",
      "10                        CumulativeItemCount           6\n",
      "16             AverageItemSolvingTime_Correct           5\n",
      "7                                       Month           4\n",
      "11                             Item_last7days           3\n",
      "18                     AverageItemSolvingTime           3\n",
      "34           categorize_CumulativeUserItemAcc           2\n",
      "4                                     Itemseq           1\n",
      "9   Difference_SolvingTime_UserAvgSolvingTime           1\n",
      "35     categorize_CumulativeUserTagAverageAcc           1\n",
      "25                             UserTagElapsed           0\n",
      "26                         PastTagSolvingTime           0\n",
      "30                     categorize_solvingTime           0\n",
      "33                         categorize_TestAcc           0\n",
      "32                          categorize_TagAcc           0\n"
     ]
    },
    {
     "name": "stderr",
     "output_type": "stream",
     "text": [
      "\u001b[34m\u001b[1mwandb\u001b[0m: Agent Starting Run: ckwq8o36 with config:\n",
      "\u001b[34m\u001b[1mwandb\u001b[0m: \tbagging_fraction: 0.9476711244812354\n",
      "\u001b[34m\u001b[1mwandb\u001b[0m: \tbagging_freq: 17\n",
      "\u001b[34m\u001b[1mwandb\u001b[0m: \tfeature_fraction: 0.6467375587253605\n",
      "\u001b[34m\u001b[1mwandb\u001b[0m: \tlambda_l1: 1.0689336051404996\n",
      "\u001b[34m\u001b[1mwandb\u001b[0m: \tlambda_l2: 2.7287555907673635\n",
      "\u001b[34m\u001b[1mwandb\u001b[0m: \tlearning_rate: 0.2926059893701045\n",
      "\u001b[34m\u001b[1mwandb\u001b[0m: \tmax_depth: 27\n",
      "\u001b[34m\u001b[1mwandb\u001b[0m: \tmin_data_in_leaf: 54\n",
      "\u001b[34m\u001b[1mwandb\u001b[0m: \tnum_leaves: 47\n",
      "\u001b[34m\u001b[1mwandb\u001b[0m: \tratio: 0.06101810501976772\n",
      "\u001b[34m\u001b[1mwandb\u001b[0m: \u001b[33mWARNING\u001b[0m Ignored wandb.init() arg project when running a sweep.\n"
     ]
    },
    {
     "data": {
      "text/html": [
       "Tracking run with wandb version 0.16.2"
      ],
      "text/plain": [
       "<IPython.core.display.HTML object>"
      ]
     },
     "metadata": {},
     "output_type": "display_data"
    },
    {
     "data": {
      "text/html": [
       "Run data is saved locally in <code>/data/ephemeral/home/level2-dkt-recsys-06/code/boost/wandb/run-20240124_093449-ckwq8o36</code>"
      ],
      "text/plain": [
       "<IPython.core.display.HTML object>"
      ]
     },
     "metadata": {},
     "output_type": "display_data"
    },
    {
     "data": {
      "text/html": [
       "Syncing run <strong><a href='https://wandb.ai/boostcamp6-recsys6/lightgbm-sweep/runs/ckwq8o36' target=\"_blank\">unique-sweep-17</a></strong> to <a href='https://wandb.ai/boostcamp6-recsys6/lightgbm-sweep' target=\"_blank\">Weights & Biases</a> (<a href='https://wandb.me/run' target=\"_blank\">docs</a>)<br/>Sweep page: <a href='https://wandb.ai/boostcamp6-recsys6/lightgbm-sweep/sweeps/fdskahx2' target=\"_blank\">https://wandb.ai/boostcamp6-recsys6/lightgbm-sweep/sweeps/fdskahx2</a>"
      ],
      "text/plain": [
       "<IPython.core.display.HTML object>"
      ]
     },
     "metadata": {},
     "output_type": "display_data"
    },
    {
     "data": {
      "text/html": [
       " View project at <a href='https://wandb.ai/boostcamp6-recsys6/lightgbm-sweep' target=\"_blank\">https://wandb.ai/boostcamp6-recsys6/lightgbm-sweep</a>"
      ],
      "text/plain": [
       "<IPython.core.display.HTML object>"
      ]
     },
     "metadata": {},
     "output_type": "display_data"
    },
    {
     "data": {
      "text/html": [
       " View sweep at <a href='https://wandb.ai/boostcamp6-recsys6/lightgbm-sweep/sweeps/fdskahx2' target=\"_blank\">https://wandb.ai/boostcamp6-recsys6/lightgbm-sweep/sweeps/fdskahx2</a>"
      ],
      "text/plain": [
       "<IPython.core.display.HTML object>"
      ]
     },
     "metadata": {},
     "output_type": "display_data"
    },
    {
     "data": {
      "text/html": [
       " View run at <a href='https://wandb.ai/boostcamp6-recsys6/lightgbm-sweep/runs/ckwq8o36' target=\"_blank\">https://wandb.ai/boostcamp6-recsys6/lightgbm-sweep/runs/ckwq8o36</a>"
      ],
      "text/plain": [
       "<IPython.core.display.HTML object>"
      ]
     },
     "metadata": {},
     "output_type": "display_data"
    },
    {
     "name": "stdout",
     "output_type": "stream",
     "text": [
      "[LightGBM] [Warning] Categorical features with more bins than the configured maximum bin number found.\n",
      "[LightGBM] [Warning] For categorical features, max_bin and max_bin_by_feature may be ignored with a large number of categories.\n",
      "[LightGBM] [Info] Number of positive: 1552549, number of negative: 819309\n",
      "[LightGBM] [Info] Auto-choosing col-wise multi-threading, the overhead of testing was 0.284306 seconds.\n",
      "You can set `force_col_wise=true` to remove the overhead.\n",
      "[LightGBM] [Info] Total Bins 22367\n",
      "[LightGBM] [Info] Number of data points in the train set: 2371858, number of used features: 35\n",
      "[LightGBM] [Info] [binary:BoostFromScore]: pavg=0.654571 -> initscore=0.639192\n",
      "[LightGBM] [Info] Start training from score 0.639192\n"
     ]
    },
    {
     "name": "stderr",
     "output_type": "stream",
     "text": [
      "\u001b[34m\u001b[1mwandb\u001b[0m: \u001b[33mWARNING\u001b[0m Config item 'num_leaves' was locked by 'sweep' (ignored update).\n",
      "\u001b[34m\u001b[1mwandb\u001b[0m: \u001b[33mWARNING\u001b[0m Config item 'learning_rate' was locked by 'sweep' (ignored update).\n",
      "\u001b[34m\u001b[1mwandb\u001b[0m: \u001b[33mWARNING\u001b[0m Config item 'max_depth' was locked by 'sweep' (ignored update).\n",
      "\u001b[34m\u001b[1mwandb\u001b[0m: \u001b[33mWARNING\u001b[0m Config item 'min_data_in_leaf' was locked by 'sweep' (ignored update).\n",
      "\u001b[34m\u001b[1mwandb\u001b[0m: \u001b[33mWARNING\u001b[0m Config item 'feature_fraction' was locked by 'sweep' (ignored update).\n",
      "\u001b[34m\u001b[1mwandb\u001b[0m: \u001b[33mWARNING\u001b[0m Config item 'bagging_fraction' was locked by 'sweep' (ignored update).\n",
      "\u001b[34m\u001b[1mwandb\u001b[0m: \u001b[33mWARNING\u001b[0m Config item 'bagging_freq' was locked by 'sweep' (ignored update).\n",
      "\u001b[34m\u001b[1mwandb\u001b[0m: \u001b[33mWARNING\u001b[0m Config item 'lambda_l1' was locked by 'sweep' (ignored update).\n",
      "\u001b[34m\u001b[1mwandb\u001b[0m: \u001b[33mWARNING\u001b[0m Config item 'lambda_l2' was locked by 'sweep' (ignored update).\n"
     ]
    },
    {
     "name": "stdout",
     "output_type": "stream",
     "text": [
      "Training until validation scores don't improve for 30 rounds\n",
      "Early stopping, best iteration is:\n",
      "[119]\ttraining's auc: 0.888865\tvalid_1's auc: 0.85908\n",
      "VALID AUC : 0.8590796245453359 ACC : 0.8049487988163376\n",
      "\n"
     ]
    },
    {
     "data": {
      "text/html": [
       "<style>\n",
       "    table.wandb td:nth-child(1) { padding: 0 10px; text-align: left ; width: auto;} td:nth-child(2) {text-align: left ; width: 100%}\n",
       "    .wandb-row { display: flex; flex-direction: row; flex-wrap: wrap; justify-content: flex-start; width: 100% }\n",
       "    .wandb-col { display: flex; flex-direction: column; flex-basis: 100%; flex: 1; padding: 10px; }\n",
       "    </style>\n",
       "<div class=\"wandb-row\"><div class=\"wandb-col\"><h3>Run history:</h3><br/><table class=\"wandb\"><tr><td>accuracy</td><td>▁</td></tr><tr><td>auc</td><td>▁</td></tr><tr><td>iteration</td><td>▁▁▁▁▂▂▂▂▂▃▃▃▃▃▃▄▄▄▄▄▅▅▅▅▅▅▆▆▆▆▆▇▇▇▇▇▇███</td></tr><tr><td>training_auc</td><td>▁▂▃▃▄▄▅▅▅▅▅▆▆▆▆▆▆▆▆▆▇▇▇▇▇▇▇▇▇▇▇█████████</td></tr><tr><td>valid_1_auc</td><td>▁▃▅▆▆▇▇▇▇▇██████████████████████████████</td></tr></table><br/></div><div class=\"wandb-col\"><h3>Run summary:</h3><br/><table class=\"wandb\"><tr><td>accuracy</td><td>0.80495</td></tr><tr><td>auc</td><td>0.85908</td></tr><tr><td>iteration</td><td>148</td></tr></table><br/></div></div>"
      ],
      "text/plain": [
       "<IPython.core.display.HTML object>"
      ]
     },
     "metadata": {},
     "output_type": "display_data"
    },
    {
     "data": {
      "text/html": [
       " View run <strong style=\"color:#cdcd00\">unique-sweep-17</strong> at: <a href='https://wandb.ai/boostcamp6-recsys6/lightgbm-sweep/runs/ckwq8o36' target=\"_blank\">https://wandb.ai/boostcamp6-recsys6/lightgbm-sweep/runs/ckwq8o36</a><br/>Synced 6 W&B file(s), 0 media file(s), 0 artifact file(s) and 0 other file(s)"
      ],
      "text/plain": [
       "<IPython.core.display.HTML object>"
      ]
     },
     "metadata": {},
     "output_type": "display_data"
    },
    {
     "data": {
      "text/html": [
       "Find logs at: <code>./wandb/run-20240124_093449-ckwq8o36/logs</code>"
      ],
      "text/plain": [
       "<IPython.core.display.HTML object>"
      ]
     },
     "metadata": {},
     "output_type": "display_data"
    },
    {
     "name": "stdout",
     "output_type": "stream",
     "text": [
      "writing prediction : output/auc:0.8590796245453359 acc:0.8049487988163376sweep lgbm.csv\n",
      "                                      Feature  Importance\n",
      "0                                      userID        1786\n",
      "1                            assessmentItemID        1627\n",
      "2                                      testId         717\n",
      "3                                KnowledgeTag         704\n",
      "14                            UserItemElapsed         103\n",
      "15                                    ItemAcc         100\n",
      "13                      CumulativeUserItemAcc          53\n",
      "17           AverageItemSolvingTime_Incorrect          47\n",
      "20                      UserTagAvgSolvingTime          39\n",
      "5                                 SolvingTime          33\n",
      "6                              CumulativeTime          30\n",
      "19  Difference_SolvingTime_AvgItemSolvingTime          28\n",
      "31                         categorize_ItemAcc          24\n",
      "22                CumulativeUserTagAverageAcc          23\n",
      "23        CumulativeUserTagExponentialAverage          22\n",
      "21                                     TagAcc          16\n",
      "34           categorize_CumulativeUserItemAcc          15\n",
      "24                               UserTagCount          14\n",
      "28                         PreviousItemAnswer          14\n",
      "16             AverageItemSolvingTime_Correct          11\n",
      "27                        UserRecentTagAnswer           8\n",
      "30                     categorize_solvingTime           8\n",
      "10                        CumulativeItemCount           8\n",
      "8                                   TimeOfDay           8\n",
      "12                            Item_last30days           8\n",
      "7                                       Month           6\n",
      "29                                    TestAcc           5\n",
      "11                             Item_last7days           4\n",
      "9   Difference_SolvingTime_UserAvgSolvingTime           4\n",
      "4                                     Itemseq           4\n",
      "18                     AverageItemSolvingTime           2\n",
      "35     categorize_CumulativeUserTagAverageAcc           2\n",
      "26                         PastTagSolvingTime           1\n",
      "25                             UserTagElapsed           0\n",
      "33                         categorize_TestAcc           0\n",
      "32                          categorize_TagAcc           0\n"
     ]
    },
    {
     "name": "stderr",
     "output_type": "stream",
     "text": [
      "\u001b[34m\u001b[1mwandb\u001b[0m: Agent Starting Run: xlc1rug7 with config:\n",
      "\u001b[34m\u001b[1mwandb\u001b[0m: \tbagging_fraction: 0.9696846544464476\n",
      "\u001b[34m\u001b[1mwandb\u001b[0m: \tbagging_freq: 20\n",
      "\u001b[34m\u001b[1mwandb\u001b[0m: \tfeature_fraction: 0.7798791436397821\n",
      "\u001b[34m\u001b[1mwandb\u001b[0m: \tlambda_l1: 3.903094969769966\n",
      "\u001b[34m\u001b[1mwandb\u001b[0m: \tlambda_l2: 0.999188772806856\n",
      "\u001b[34m\u001b[1mwandb\u001b[0m: \tlearning_rate: 0.21302502026700937\n",
      "\u001b[34m\u001b[1mwandb\u001b[0m: \tmax_depth: 48\n",
      "\u001b[34m\u001b[1mwandb\u001b[0m: \tmin_data_in_leaf: 118\n",
      "\u001b[34m\u001b[1mwandb\u001b[0m: \tnum_leaves: 38\n",
      "\u001b[34m\u001b[1mwandb\u001b[0m: \tratio: 0.07823272419889231\n",
      "\u001b[34m\u001b[1mwandb\u001b[0m: \u001b[33mWARNING\u001b[0m Ignored wandb.init() arg project when running a sweep.\n"
     ]
    },
    {
     "data": {
      "text/html": [
       "Tracking run with wandb version 0.16.2"
      ],
      "text/plain": [
       "<IPython.core.display.HTML object>"
      ]
     },
     "metadata": {},
     "output_type": "display_data"
    },
    {
     "data": {
      "text/html": [
       "Run data is saved locally in <code>/data/ephemeral/home/level2-dkt-recsys-06/code/boost/wandb/run-20240124_093710-xlc1rug7</code>"
      ],
      "text/plain": [
       "<IPython.core.display.HTML object>"
      ]
     },
     "metadata": {},
     "output_type": "display_data"
    },
    {
     "data": {
      "text/html": [
       "Syncing run <strong><a href='https://wandb.ai/boostcamp6-recsys6/lightgbm-sweep/runs/xlc1rug7' target=\"_blank\">sage-sweep-18</a></strong> to <a href='https://wandb.ai/boostcamp6-recsys6/lightgbm-sweep' target=\"_blank\">Weights & Biases</a> (<a href='https://wandb.me/run' target=\"_blank\">docs</a>)<br/>Sweep page: <a href='https://wandb.ai/boostcamp6-recsys6/lightgbm-sweep/sweeps/fdskahx2' target=\"_blank\">https://wandb.ai/boostcamp6-recsys6/lightgbm-sweep/sweeps/fdskahx2</a>"
      ],
      "text/plain": [
       "<IPython.core.display.HTML object>"
      ]
     },
     "metadata": {},
     "output_type": "display_data"
    },
    {
     "data": {
      "text/html": [
       " View project at <a href='https://wandb.ai/boostcamp6-recsys6/lightgbm-sweep' target=\"_blank\">https://wandb.ai/boostcamp6-recsys6/lightgbm-sweep</a>"
      ],
      "text/plain": [
       "<IPython.core.display.HTML object>"
      ]
     },
     "metadata": {},
     "output_type": "display_data"
    },
    {
     "data": {
      "text/html": [
       " View sweep at <a href='https://wandb.ai/boostcamp6-recsys6/lightgbm-sweep/sweeps/fdskahx2' target=\"_blank\">https://wandb.ai/boostcamp6-recsys6/lightgbm-sweep/sweeps/fdskahx2</a>"
      ],
      "text/plain": [
       "<IPython.core.display.HTML object>"
      ]
     },
     "metadata": {},
     "output_type": "display_data"
    },
    {
     "data": {
      "text/html": [
       " View run at <a href='https://wandb.ai/boostcamp6-recsys6/lightgbm-sweep/runs/xlc1rug7' target=\"_blank\">https://wandb.ai/boostcamp6-recsys6/lightgbm-sweep/runs/xlc1rug7</a>"
      ],
      "text/plain": [
       "<IPython.core.display.HTML object>"
      ]
     },
     "metadata": {},
     "output_type": "display_data"
    },
    {
     "name": "stdout",
     "output_type": "stream",
     "text": [
      "[LightGBM] [Warning] Categorical features with more bins than the configured maximum bin number found.\n",
      "[LightGBM] [Warning] For categorical features, max_bin and max_bin_by_feature may be ignored with a large number of categories.\n",
      "[LightGBM] [Info] Number of positive: 1524384, number of negative: 803999\n",
      "[LightGBM] [Info] Auto-choosing row-wise multi-threading, the overhead of testing was 0.038865 seconds.\n",
      "You can set `force_row_wise=true` to remove the overhead.\n",
      "And if memory is not enough, you can set `force_col_wise=true`.\n",
      "[LightGBM] [Info] Total Bins 22366\n",
      "[LightGBM] [Info] Number of data points in the train set: 2328383, number of used features: 35\n",
      "[LightGBM] [Info] [binary:BoostFromScore]: pavg=0.654696 -> initscore=0.639748\n",
      "[LightGBM] [Info] Start training from score 0.639748\n"
     ]
    },
    {
     "name": "stderr",
     "output_type": "stream",
     "text": [
      "\u001b[34m\u001b[1mwandb\u001b[0m: \u001b[33mWARNING\u001b[0m Config item 'num_leaves' was locked by 'sweep' (ignored update).\n",
      "\u001b[34m\u001b[1mwandb\u001b[0m: \u001b[33mWARNING\u001b[0m Config item 'learning_rate' was locked by 'sweep' (ignored update).\n",
      "\u001b[34m\u001b[1mwandb\u001b[0m: \u001b[33mWARNING\u001b[0m Config item 'max_depth' was locked by 'sweep' (ignored update).\n",
      "\u001b[34m\u001b[1mwandb\u001b[0m: \u001b[33mWARNING\u001b[0m Config item 'min_data_in_leaf' was locked by 'sweep' (ignored update).\n",
      "\u001b[34m\u001b[1mwandb\u001b[0m: \u001b[33mWARNING\u001b[0m Config item 'feature_fraction' was locked by 'sweep' (ignored update).\n",
      "\u001b[34m\u001b[1mwandb\u001b[0m: \u001b[33mWARNING\u001b[0m Config item 'bagging_fraction' was locked by 'sweep' (ignored update).\n",
      "\u001b[34m\u001b[1mwandb\u001b[0m: \u001b[33mWARNING\u001b[0m Config item 'bagging_freq' was locked by 'sweep' (ignored update).\n",
      "\u001b[34m\u001b[1mwandb\u001b[0m: \u001b[33mWARNING\u001b[0m Config item 'lambda_l1' was locked by 'sweep' (ignored update).\n",
      "\u001b[34m\u001b[1mwandb\u001b[0m: \u001b[33mWARNING\u001b[0m Config item 'lambda_l2' was locked by 'sweep' (ignored update).\n"
     ]
    },
    {
     "name": "stdout",
     "output_type": "stream",
     "text": [
      "Training until validation scores don't improve for 30 rounds\n",
      "Early stopping, best iteration is:\n",
      "[179]\ttraining's auc: 0.888597\tvalid_1's auc: 0.861328\n",
      "VALID AUC : 0.8613279774189803 ACC : 0.8047304034458149\n",
      "\n"
     ]
    },
    {
     "data": {
      "text/html": [
       "<style>\n",
       "    table.wandb td:nth-child(1) { padding: 0 10px; text-align: left ; width: auto;} td:nth-child(2) {text-align: left ; width: 100%}\n",
       "    .wandb-row { display: flex; flex-direction: row; flex-wrap: wrap; justify-content: flex-start; width: 100% }\n",
       "    .wandb-col { display: flex; flex-direction: column; flex-basis: 100%; flex: 1; padding: 10px; }\n",
       "    </style>\n",
       "<div class=\"wandb-row\"><div class=\"wandb-col\"><h3>Run history:</h3><br/><table class=\"wandb\"><tr><td>accuracy</td><td>▁</td></tr><tr><td>auc</td><td>▁</td></tr><tr><td>iteration</td><td>▁▁▁▁▂▂▂▂▂▃▃▃▃▃▃▄▄▄▄▄▅▅▅▅▅▅▆▆▆▆▆▇▇▇▇▇▇███</td></tr><tr><td>training_auc</td><td>▁▂▃▃▄▄▄▅▅▅▅▅▆▆▆▆▆▆▆▆▆▇▇▇▇▇▇▇▇▇▇▇████████</td></tr><tr><td>valid_1_auc</td><td>▁▃▅▅▆▇▇▇▇▇▇▇████████████████████████████</td></tr></table><br/></div><div class=\"wandb-col\"><h3>Run summary:</h3><br/><table class=\"wandb\"><tr><td>accuracy</td><td>0.80473</td></tr><tr><td>auc</td><td>0.86133</td></tr><tr><td>iteration</td><td>208</td></tr></table><br/></div></div>"
      ],
      "text/plain": [
       "<IPython.core.display.HTML object>"
      ]
     },
     "metadata": {},
     "output_type": "display_data"
    },
    {
     "data": {
      "text/html": [
       " View run <strong style=\"color:#cdcd00\">sage-sweep-18</strong> at: <a href='https://wandb.ai/boostcamp6-recsys6/lightgbm-sweep/runs/xlc1rug7' target=\"_blank\">https://wandb.ai/boostcamp6-recsys6/lightgbm-sweep/runs/xlc1rug7</a><br/>Synced 6 W&B file(s), 0 media file(s), 0 artifact file(s) and 0 other file(s)"
      ],
      "text/plain": [
       "<IPython.core.display.HTML object>"
      ]
     },
     "metadata": {},
     "output_type": "display_data"
    },
    {
     "data": {
      "text/html": [
       "Find logs at: <code>./wandb/run-20240124_093710-xlc1rug7/logs</code>"
      ],
      "text/plain": [
       "<IPython.core.display.HTML object>"
      ]
     },
     "metadata": {},
     "output_type": "display_data"
    },
    {
     "name": "stdout",
     "output_type": "stream",
     "text": [
      "writing prediction : output/auc:0.8613279774189803 acc:0.8047304034458149sweep lgbm.csv\n",
      "                                      Feature  Importance\n",
      "0                                      userID        2435\n",
      "1                            assessmentItemID        1978\n",
      "2                                      testId         760\n",
      "3                                KnowledgeTag         660\n",
      "14                            UserItemElapsed         127\n",
      "15                                    ItemAcc         126\n",
      "13                      CumulativeUserItemAcc          66\n",
      "17           AverageItemSolvingTime_Incorrect          56\n",
      "5                                 SolvingTime          44\n",
      "20                      UserTagAvgSolvingTime          42\n",
      "23        CumulativeUserTagExponentialAverage          40\n",
      "19  Difference_SolvingTime_AvgItemSolvingTime          33\n",
      "6                              CumulativeTime          28\n",
      "28                         PreviousItemAnswer          24\n",
      "31                         categorize_ItemAcc          22\n",
      "22                CumulativeUserTagAverageAcc          19\n",
      "29                                    TestAcc          19\n",
      "16             AverageItemSolvingTime_Correct          18\n",
      "34           categorize_CumulativeUserItemAcc          17\n",
      "21                                     TagAcc          16\n",
      "24                               UserTagCount          15\n",
      "27                        UserRecentTagAnswer          12\n",
      "12                            Item_last30days          11\n",
      "10                        CumulativeItemCount          10\n",
      "8                                   TimeOfDay          10\n",
      "7                                       Month           7\n",
      "30                     categorize_solvingTime           6\n",
      "11                             Item_last7days           6\n",
      "4                                     Itemseq           5\n",
      "35     categorize_CumulativeUserTagAverageAcc           4\n",
      "9   Difference_SolvingTime_UserAvgSolvingTime           3\n",
      "18                     AverageItemSolvingTime           2\n",
      "26                         PastTagSolvingTime           2\n",
      "25                             UserTagElapsed           0\n",
      "33                         categorize_TestAcc           0\n",
      "32                          categorize_TagAcc           0\n"
     ]
    },
    {
     "name": "stderr",
     "output_type": "stream",
     "text": [
      "\u001b[34m\u001b[1mwandb\u001b[0m: Agent Starting Run: s7rz9jdo with config:\n",
      "\u001b[34m\u001b[1mwandb\u001b[0m: \tbagging_fraction: 0.9386026546378394\n",
      "\u001b[34m\u001b[1mwandb\u001b[0m: \tbagging_freq: 14\n",
      "\u001b[34m\u001b[1mwandb\u001b[0m: \tfeature_fraction: 0.9747956021713036\n",
      "\u001b[34m\u001b[1mwandb\u001b[0m: \tlambda_l1: 0.35890116668879646\n",
      "\u001b[34m\u001b[1mwandb\u001b[0m: \tlambda_l2: 1.9752328579285132\n",
      "\u001b[34m\u001b[1mwandb\u001b[0m: \tlearning_rate: 0.219882185869755\n",
      "\u001b[34m\u001b[1mwandb\u001b[0m: \tmax_depth: 20\n",
      "\u001b[34m\u001b[1mwandb\u001b[0m: \tmin_data_in_leaf: 117\n",
      "\u001b[34m\u001b[1mwandb\u001b[0m: \tnum_leaves: 56\n",
      "\u001b[34m\u001b[1mwandb\u001b[0m: \tratio: 0.09199742933169962\n",
      "\u001b[34m\u001b[1mwandb\u001b[0m: \u001b[33mWARNING\u001b[0m Ignored wandb.init() arg project when running a sweep.\n"
     ]
    },
    {
     "data": {
      "text/html": [
       "Tracking run with wandb version 0.16.2"
      ],
      "text/plain": [
       "<IPython.core.display.HTML object>"
      ]
     },
     "metadata": {},
     "output_type": "display_data"
    },
    {
     "data": {
      "text/html": [
       "Run data is saved locally in <code>/data/ephemeral/home/level2-dkt-recsys-06/code/boost/wandb/run-20240124_093855-s7rz9jdo</code>"
      ],
      "text/plain": [
       "<IPython.core.display.HTML object>"
      ]
     },
     "metadata": {},
     "output_type": "display_data"
    },
    {
     "data": {
      "text/html": [
       "Syncing run <strong><a href='https://wandb.ai/boostcamp6-recsys6/lightgbm-sweep/runs/s7rz9jdo' target=\"_blank\">wobbly-sweep-19</a></strong> to <a href='https://wandb.ai/boostcamp6-recsys6/lightgbm-sweep' target=\"_blank\">Weights & Biases</a> (<a href='https://wandb.me/run' target=\"_blank\">docs</a>)<br/>Sweep page: <a href='https://wandb.ai/boostcamp6-recsys6/lightgbm-sweep/sweeps/fdskahx2' target=\"_blank\">https://wandb.ai/boostcamp6-recsys6/lightgbm-sweep/sweeps/fdskahx2</a>"
      ],
      "text/plain": [
       "<IPython.core.display.HTML object>"
      ]
     },
     "metadata": {},
     "output_type": "display_data"
    },
    {
     "data": {
      "text/html": [
       " View project at <a href='https://wandb.ai/boostcamp6-recsys6/lightgbm-sweep' target=\"_blank\">https://wandb.ai/boostcamp6-recsys6/lightgbm-sweep</a>"
      ],
      "text/plain": [
       "<IPython.core.display.HTML object>"
      ]
     },
     "metadata": {},
     "output_type": "display_data"
    },
    {
     "data": {
      "text/html": [
       " View sweep at <a href='https://wandb.ai/boostcamp6-recsys6/lightgbm-sweep/sweeps/fdskahx2' target=\"_blank\">https://wandb.ai/boostcamp6-recsys6/lightgbm-sweep/sweeps/fdskahx2</a>"
      ],
      "text/plain": [
       "<IPython.core.display.HTML object>"
      ]
     },
     "metadata": {},
     "output_type": "display_data"
    },
    {
     "data": {
      "text/html": [
       " View run at <a href='https://wandb.ai/boostcamp6-recsys6/lightgbm-sweep/runs/s7rz9jdo' target=\"_blank\">https://wandb.ai/boostcamp6-recsys6/lightgbm-sweep/runs/s7rz9jdo</a>"
      ],
      "text/plain": [
       "<IPython.core.display.HTML object>"
      ]
     },
     "metadata": {},
     "output_type": "display_data"
    },
    {
     "name": "stdout",
     "output_type": "stream",
     "text": [
      "[LightGBM] [Warning] Categorical features with more bins than the configured maximum bin number found.\n",
      "[LightGBM] [Warning] For categorical features, max_bin and max_bin_by_feature may be ignored with a large number of categories.\n",
      "[LightGBM] [Info] Number of positive: 1501472, number of negative: 792124\n",
      "[LightGBM] [Info] Auto-choosing col-wise multi-threading, the overhead of testing was 0.376581 seconds.\n",
      "You can set `force_col_wise=true` to remove the overhead.\n",
      "[LightGBM] [Info] Total Bins 22363\n",
      "[LightGBM] [Info] Number of data points in the train set: 2293596, number of used features: 35\n",
      "[LightGBM] [Info] [binary:BoostFromScore]: pavg=0.654637 -> initscore=0.639483\n",
      "[LightGBM] [Info] Start training from score 0.639483\n"
     ]
    },
    {
     "name": "stderr",
     "output_type": "stream",
     "text": [
      "\u001b[34m\u001b[1mwandb\u001b[0m: \u001b[33mWARNING\u001b[0m Config item 'num_leaves' was locked by 'sweep' (ignored update).\n",
      "\u001b[34m\u001b[1mwandb\u001b[0m: \u001b[33mWARNING\u001b[0m Config item 'learning_rate' was locked by 'sweep' (ignored update).\n",
      "\u001b[34m\u001b[1mwandb\u001b[0m: \u001b[33mWARNING\u001b[0m Config item 'max_depth' was locked by 'sweep' (ignored update).\n",
      "\u001b[34m\u001b[1mwandb\u001b[0m: \u001b[33mWARNING\u001b[0m Config item 'min_data_in_leaf' was locked by 'sweep' (ignored update).\n",
      "\u001b[34m\u001b[1mwandb\u001b[0m: \u001b[33mWARNING\u001b[0m Config item 'feature_fraction' was locked by 'sweep' (ignored update).\n",
      "\u001b[34m\u001b[1mwandb\u001b[0m: \u001b[33mWARNING\u001b[0m Config item 'bagging_fraction' was locked by 'sweep' (ignored update).\n",
      "\u001b[34m\u001b[1mwandb\u001b[0m: \u001b[33mWARNING\u001b[0m Config item 'bagging_freq' was locked by 'sweep' (ignored update).\n",
      "\u001b[34m\u001b[1mwandb\u001b[0m: \u001b[33mWARNING\u001b[0m Config item 'lambda_l1' was locked by 'sweep' (ignored update).\n",
      "\u001b[34m\u001b[1mwandb\u001b[0m: \u001b[33mWARNING\u001b[0m Config item 'lambda_l2' was locked by 'sweep' (ignored update).\n"
     ]
    },
    {
     "name": "stdout",
     "output_type": "stream",
     "text": [
      "Training until validation scores don't improve for 30 rounds\n",
      "Early stopping, best iteration is:\n",
      "[108]\ttraining's auc: 0.888372\tvalid_1's auc: 0.860793\n",
      "VALID AUC : 0.8607931395818131 ACC : 0.8064985367533138\n",
      "\n"
     ]
    },
    {
     "data": {
      "text/html": [
       "<style>\n",
       "    table.wandb td:nth-child(1) { padding: 0 10px; text-align: left ; width: auto;} td:nth-child(2) {text-align: left ; width: 100%}\n",
       "    .wandb-row { display: flex; flex-direction: row; flex-wrap: wrap; justify-content: flex-start; width: 100% }\n",
       "    .wandb-col { display: flex; flex-direction: column; flex-basis: 100%; flex: 1; padding: 10px; }\n",
       "    </style>\n",
       "<div class=\"wandb-row\"><div class=\"wandb-col\"><h3>Run history:</h3><br/><table class=\"wandb\"><tr><td>accuracy</td><td>▁</td></tr><tr><td>auc</td><td>▁</td></tr><tr><td>iteration</td><td>▁▁▁▂▂▂▂▂▂▃▃▃▃▃▃▄▄▄▄▄▅▅▅▅▅▅▆▆▆▆▆▇▇▇▇▇▇███</td></tr><tr><td>training_auc</td><td>▁▂▂▃▃▄▄▅▅▅▅▅▅▅▆▆▆▆▆▆▆▆▇▇▇▇▇▇▇▇▇▇▇███████</td></tr><tr><td>valid_1_auc</td><td>▁▃▄▅▅▆▇▇▇▇▇▇▇▇██████████████████████████</td></tr></table><br/></div><div class=\"wandb-col\"><h3>Run summary:</h3><br/><table class=\"wandb\"><tr><td>accuracy</td><td>0.8065</td></tr><tr><td>auc</td><td>0.86079</td></tr><tr><td>iteration</td><td>137</td></tr></table><br/></div></div>"
      ],
      "text/plain": [
       "<IPython.core.display.HTML object>"
      ]
     },
     "metadata": {},
     "output_type": "display_data"
    },
    {
     "data": {
      "text/html": [
       " View run <strong style=\"color:#cdcd00\">wobbly-sweep-19</strong> at: <a href='https://wandb.ai/boostcamp6-recsys6/lightgbm-sweep/runs/s7rz9jdo' target=\"_blank\">https://wandb.ai/boostcamp6-recsys6/lightgbm-sweep/runs/s7rz9jdo</a><br/>Synced 6 W&B file(s), 0 media file(s), 0 artifact file(s) and 0 other file(s)"
      ],
      "text/plain": [
       "<IPython.core.display.HTML object>"
      ]
     },
     "metadata": {},
     "output_type": "display_data"
    },
    {
     "data": {
      "text/html": [
       "Find logs at: <code>./wandb/run-20240124_093855-s7rz9jdo/logs</code>"
      ],
      "text/plain": [
       "<IPython.core.display.HTML object>"
      ]
     },
     "metadata": {},
     "output_type": "display_data"
    },
    {
     "name": "stdout",
     "output_type": "stream",
     "text": [
      "writing prediction : output/auc:0.8607931395818131 acc:0.8064985367533138sweep lgbm.csv\n",
      "                                      Feature  Importance\n",
      "0                                      userID        2296\n",
      "1                            assessmentItemID        1659\n",
      "3                                KnowledgeTag         640\n",
      "2                                      testId         579\n",
      "15                                    ItemAcc         159\n",
      "14                            UserItemElapsed         132\n",
      "13                      CumulativeUserItemAcc          77\n",
      "17           AverageItemSolvingTime_Incorrect          62\n",
      "5                                 SolvingTime          44\n",
      "20                      UserTagAvgSolvingTime          40\n",
      "19  Difference_SolvingTime_AvgItemSolvingTime          33\n",
      "6                              CumulativeTime          28\n",
      "23        CumulativeUserTagExponentialAverage          28\n",
      "29                                    TestAcc          22\n",
      "28                         PreviousItemAnswer          22\n",
      "22                CumulativeUserTagAverageAcc          21\n",
      "21                                     TagAcc          14\n",
      "24                               UserTagCount          12\n",
      "12                            Item_last30days          12\n",
      "16             AverageItemSolvingTime_Correct           9\n",
      "10                        CumulativeItemCount           9\n",
      "27                        UserRecentTagAnswer           9\n",
      "8                                   TimeOfDay           8\n",
      "7                                       Month           5\n",
      "11                             Item_last7days           4\n",
      "18                     AverageItemSolvingTime           4\n",
      "4                                     Itemseq           4\n",
      "31                         categorize_ItemAcc           3\n",
      "9   Difference_SolvingTime_UserAvgSolvingTime           2\n",
      "26                         PastTagSolvingTime           2\n",
      "35     categorize_CumulativeUserTagAverageAcc           1\n",
      "25                             UserTagElapsed           0\n",
      "30                     categorize_solvingTime           0\n",
      "32                          categorize_TagAcc           0\n",
      "33                         categorize_TestAcc           0\n",
      "34           categorize_CumulativeUserItemAcc           0\n"
     ]
    },
    {
     "name": "stderr",
     "output_type": "stream",
     "text": [
      "\u001b[34m\u001b[1mwandb\u001b[0m: Sweep Agent: Waiting for job.\n",
      "\u001b[34m\u001b[1mwandb\u001b[0m: Job received.\n",
      "\u001b[34m\u001b[1mwandb\u001b[0m: Agent Starting Run: 7439d1e6 with config:\n",
      "\u001b[34m\u001b[1mwandb\u001b[0m: \tbagging_fraction: 0.8990428172314074\n",
      "\u001b[34m\u001b[1mwandb\u001b[0m: \tbagging_freq: 19\n",
      "\u001b[34m\u001b[1mwandb\u001b[0m: \tfeature_fraction: 0.8815684034044944\n",
      "\u001b[34m\u001b[1mwandb\u001b[0m: \tlambda_l1: 9.269142087192792\n",
      "\u001b[34m\u001b[1mwandb\u001b[0m: \tlambda_l2: 0.21591968107705695\n",
      "\u001b[34m\u001b[1mwandb\u001b[0m: \tlearning_rate: 0.10162567524383058\n",
      "\u001b[34m\u001b[1mwandb\u001b[0m: \tmax_depth: 27\n",
      "\u001b[34m\u001b[1mwandb\u001b[0m: \tmin_data_in_leaf: 111\n",
      "\u001b[34m\u001b[1mwandb\u001b[0m: \tnum_leaves: 53\n",
      "\u001b[34m\u001b[1mwandb\u001b[0m: \tratio: 0.05178328037917766\n",
      "\u001b[34m\u001b[1mwandb\u001b[0m: \u001b[33mWARNING\u001b[0m Ignored wandb.init() arg project when running a sweep.\n"
     ]
    },
    {
     "data": {
      "text/html": [
       "Tracking run with wandb version 0.16.2"
      ],
      "text/plain": [
       "<IPython.core.display.HTML object>"
      ]
     },
     "metadata": {},
     "output_type": "display_data"
    },
    {
     "data": {
      "text/html": [
       "Run data is saved locally in <code>/data/ephemeral/home/level2-dkt-recsys-06/code/boost/wandb/run-20240124_094029-7439d1e6</code>"
      ],
      "text/plain": [
       "<IPython.core.display.HTML object>"
      ]
     },
     "metadata": {},
     "output_type": "display_data"
    },
    {
     "data": {
      "text/html": [
       "Syncing run <strong><a href='https://wandb.ai/boostcamp6-recsys6/lightgbm-sweep/runs/7439d1e6' target=\"_blank\">laced-sweep-20</a></strong> to <a href='https://wandb.ai/boostcamp6-recsys6/lightgbm-sweep' target=\"_blank\">Weights & Biases</a> (<a href='https://wandb.me/run' target=\"_blank\">docs</a>)<br/>Sweep page: <a href='https://wandb.ai/boostcamp6-recsys6/lightgbm-sweep/sweeps/fdskahx2' target=\"_blank\">https://wandb.ai/boostcamp6-recsys6/lightgbm-sweep/sweeps/fdskahx2</a>"
      ],
      "text/plain": [
       "<IPython.core.display.HTML object>"
      ]
     },
     "metadata": {},
     "output_type": "display_data"
    },
    {
     "data": {
      "text/html": [
       " View project at <a href='https://wandb.ai/boostcamp6-recsys6/lightgbm-sweep' target=\"_blank\">https://wandb.ai/boostcamp6-recsys6/lightgbm-sweep</a>"
      ],
      "text/plain": [
       "<IPython.core.display.HTML object>"
      ]
     },
     "metadata": {},
     "output_type": "display_data"
    },
    {
     "data": {
      "text/html": [
       " View sweep at <a href='https://wandb.ai/boostcamp6-recsys6/lightgbm-sweep/sweeps/fdskahx2' target=\"_blank\">https://wandb.ai/boostcamp6-recsys6/lightgbm-sweep/sweeps/fdskahx2</a>"
      ],
      "text/plain": [
       "<IPython.core.display.HTML object>"
      ]
     },
     "metadata": {},
     "output_type": "display_data"
    },
    {
     "data": {
      "text/html": [
       " View run at <a href='https://wandb.ai/boostcamp6-recsys6/lightgbm-sweep/runs/7439d1e6' target=\"_blank\">https://wandb.ai/boostcamp6-recsys6/lightgbm-sweep/runs/7439d1e6</a>"
      ],
      "text/plain": [
       "<IPython.core.display.HTML object>"
      ]
     },
     "metadata": {},
     "output_type": "display_data"
    },
    {
     "name": "stdout",
     "output_type": "stream",
     "text": [
      "[LightGBM] [Warning] Categorical features with more bins than the configured maximum bin number found.\n",
      "[LightGBM] [Warning] For categorical features, max_bin and max_bin_by_feature may be ignored with a large number of categories.\n",
      "[LightGBM] [Info] Number of positive: 1567945, number of negative: 827208\n",
      "[LightGBM] [Info] Auto-choosing row-wise multi-threading, the overhead of testing was 0.042948 seconds.\n",
      "You can set `force_row_wise=true` to remove the overhead.\n",
      "And if memory is not enough, you can set `force_col_wise=true`.\n",
      "[LightGBM] [Info] Total Bins 22381\n",
      "[LightGBM] [Info] Number of data points in the train set: 2395153, number of used features: 35\n",
      "[LightGBM] [Info] [binary:BoostFromScore]: pavg=0.654633 -> initscore=0.639465\n",
      "[LightGBM] [Info] Start training from score 0.639465\n"
     ]
    },
    {
     "name": "stderr",
     "output_type": "stream",
     "text": [
      "\u001b[34m\u001b[1mwandb\u001b[0m: \u001b[33mWARNING\u001b[0m Config item 'num_leaves' was locked by 'sweep' (ignored update).\n",
      "\u001b[34m\u001b[1mwandb\u001b[0m: \u001b[33mWARNING\u001b[0m Config item 'learning_rate' was locked by 'sweep' (ignored update).\n",
      "\u001b[34m\u001b[1mwandb\u001b[0m: \u001b[33mWARNING\u001b[0m Config item 'max_depth' was locked by 'sweep' (ignored update).\n",
      "\u001b[34m\u001b[1mwandb\u001b[0m: \u001b[33mWARNING\u001b[0m Config item 'min_data_in_leaf' was locked by 'sweep' (ignored update).\n",
      "\u001b[34m\u001b[1mwandb\u001b[0m: \u001b[33mWARNING\u001b[0m Config item 'feature_fraction' was locked by 'sweep' (ignored update).\n",
      "\u001b[34m\u001b[1mwandb\u001b[0m: \u001b[33mWARNING\u001b[0m Config item 'bagging_fraction' was locked by 'sweep' (ignored update).\n",
      "\u001b[34m\u001b[1mwandb\u001b[0m: \u001b[33mWARNING\u001b[0m Config item 'bagging_freq' was locked by 'sweep' (ignored update).\n",
      "\u001b[34m\u001b[1mwandb\u001b[0m: \u001b[33mWARNING\u001b[0m Config item 'lambda_l1' was locked by 'sweep' (ignored update).\n",
      "\u001b[34m\u001b[1mwandb\u001b[0m: \u001b[33mWARNING\u001b[0m Config item 'lambda_l2' was locked by 'sweep' (ignored update).\n"
     ]
    },
    {
     "name": "stdout",
     "output_type": "stream",
     "text": [
      "Training until validation scores don't improve for 30 rounds\n",
      "Early stopping, best iteration is:\n",
      "[359]\ttraining's auc: 0.895382\tvalid_1's auc: 0.862006\n",
      "VALID AUC : 0.862005565526212 ACC : 0.8059065923564445\n",
      "\n"
     ]
    },
    {
     "data": {
      "text/html": [
       "<style>\n",
       "    table.wandb td:nth-child(1) { padding: 0 10px; text-align: left ; width: auto;} td:nth-child(2) {text-align: left ; width: 100%}\n",
       "    .wandb-row { display: flex; flex-direction: row; flex-wrap: wrap; justify-content: flex-start; width: 100% }\n",
       "    .wandb-col { display: flex; flex-direction: column; flex-basis: 100%; flex: 1; padding: 10px; }\n",
       "    </style>\n",
       "<div class=\"wandb-row\"><div class=\"wandb-col\"><h3>Run history:</h3><br/><table class=\"wandb\"><tr><td>accuracy</td><td>▁</td></tr><tr><td>auc</td><td>▁</td></tr><tr><td>iteration</td><td>▁▁▁▂▂▂▂▂▂▃▃▃▃▃▃▄▄▄▄▄▅▅▅▅▅▅▆▆▆▆▆▇▇▇▇▇▇███</td></tr><tr><td>training_auc</td><td>▁▂▂▃▃▄▄▅▅▅▅▅▅▆▆▆▆▆▆▆▆▇▇▇▇▇▇▇▇▇▇▇████████</td></tr><tr><td>valid_1_auc</td><td>▁▃▄▅▆▆▇▇▇▇▇▇▇███████████████████████████</td></tr></table><br/></div><div class=\"wandb-col\"><h3>Run summary:</h3><br/><table class=\"wandb\"><tr><td>accuracy</td><td>0.80591</td></tr><tr><td>auc</td><td>0.86201</td></tr><tr><td>iteration</td><td>388</td></tr></table><br/></div></div>"
      ],
      "text/plain": [
       "<IPython.core.display.HTML object>"
      ]
     },
     "metadata": {},
     "output_type": "display_data"
    },
    {
     "data": {
      "text/html": [
       " View run <strong style=\"color:#cdcd00\">laced-sweep-20</strong> at: <a href='https://wandb.ai/boostcamp6-recsys6/lightgbm-sweep/runs/7439d1e6' target=\"_blank\">https://wandb.ai/boostcamp6-recsys6/lightgbm-sweep/runs/7439d1e6</a><br/>Synced 6 W&B file(s), 0 media file(s), 0 artifact file(s) and 0 other file(s)"
      ],
      "text/plain": [
       "<IPython.core.display.HTML object>"
      ]
     },
     "metadata": {},
     "output_type": "display_data"
    },
    {
     "data": {
      "text/html": [
       "Find logs at: <code>./wandb/run-20240124_094029-7439d1e6/logs</code>"
      ],
      "text/plain": [
       "<IPython.core.display.HTML object>"
      ]
     },
     "metadata": {},
     "output_type": "display_data"
    },
    {
     "name": "stdout",
     "output_type": "stream",
     "text": [
      "writing prediction : output/auc:0.862005565526212 acc:0.8059065923564445sweep lgbm.csv\n",
      "                                      Feature  Importance\n",
      "0                                      userID        7309\n",
      "1                            assessmentItemID        5878\n",
      "2                                      testId        1972\n",
      "3                                KnowledgeTag        1686\n",
      "15                                    ItemAcc         323\n",
      "14                            UserItemElapsed         318\n",
      "13                      CumulativeUserItemAcc         202\n",
      "17           AverageItemSolvingTime_Incorrect         129\n",
      "5                                 SolvingTime         106\n",
      "20                      UserTagAvgSolvingTime          96\n",
      "19  Difference_SolvingTime_AvgItemSolvingTime          81\n",
      "23        CumulativeUserTagExponentialAverage          75\n",
      "6                              CumulativeTime          68\n",
      "28                         PreviousItemAnswer          54\n",
      "29                                    TestAcc          45\n",
      "22                CumulativeUserTagAverageAcc          41\n",
      "24                               UserTagCount          34\n",
      "21                                     TagAcc          32\n",
      "27                        UserRecentTagAnswer          32\n",
      "16             AverageItemSolvingTime_Correct          29\n",
      "12                            Item_last30days          25\n",
      "31                         categorize_ItemAcc          24\n",
      "8                                   TimeOfDay          20\n",
      "10                        CumulativeItemCount          19\n",
      "7                                       Month          18\n",
      "11                             Item_last7days          11\n",
      "34           categorize_CumulativeUserItemAcc          10\n",
      "4                                     Itemseq           9\n",
      "30                     categorize_solvingTime           9\n",
      "9   Difference_SolvingTime_UserAvgSolvingTime           6\n",
      "18                     AverageItemSolvingTime           5\n",
      "26                         PastTagSolvingTime           1\n",
      "35     categorize_CumulativeUserTagAverageAcc           1\n",
      "25                             UserTagElapsed           0\n",
      "33                         categorize_TestAcc           0\n",
      "32                          categorize_TagAcc           0\n"
     ]
    },
    {
     "name": "stderr",
     "output_type": "stream",
     "text": [
      "\u001b[34m\u001b[1mwandb\u001b[0m: Agent Starting Run: ljr4jhuw with config:\n",
      "\u001b[34m\u001b[1mwandb\u001b[0m: \tbagging_fraction: 0.9935470968594132\n",
      "\u001b[34m\u001b[1mwandb\u001b[0m: \tbagging_freq: 20\n",
      "\u001b[34m\u001b[1mwandb\u001b[0m: \tfeature_fraction: 0.8756683713489131\n",
      "\u001b[34m\u001b[1mwandb\u001b[0m: \tlambda_l1: 4.856867580374198\n",
      "\u001b[34m\u001b[1mwandb\u001b[0m: \tlambda_l2: 7.717593069518097\n",
      "\u001b[34m\u001b[1mwandb\u001b[0m: \tlearning_rate: 0.04943206984889444\n",
      "\u001b[34m\u001b[1mwandb\u001b[0m: \tmax_depth: 46\n",
      "\u001b[34m\u001b[1mwandb\u001b[0m: \tmin_data_in_leaf: 118\n",
      "\u001b[34m\u001b[1mwandb\u001b[0m: \tnum_leaves: 58\n",
      "\u001b[34m\u001b[1mwandb\u001b[0m: \tratio: 0.06095707379497671\n",
      "\u001b[34m\u001b[1mwandb\u001b[0m: W&B API key is configured. Use \u001b[1m`wandb login --relogin`\u001b[0m to force relogin\n",
      "\u001b[34m\u001b[1mwandb\u001b[0m: \u001b[33mWARNING\u001b[0m Ignored wandb.init() arg project when running a sweep.\n"
     ]
    },
    {
     "data": {
      "text/html": [
       "Tracking run with wandb version 0.16.2"
      ],
      "text/plain": [
       "<IPython.core.display.HTML object>"
      ]
     },
     "metadata": {},
     "output_type": "display_data"
    },
    {
     "data": {
      "text/html": [
       "Run data is saved locally in <code>/data/ephemeral/home/level2-dkt-recsys-06/code/boost/wandb/run-20240124_094348-ljr4jhuw</code>"
      ],
      "text/plain": [
       "<IPython.core.display.HTML object>"
      ]
     },
     "metadata": {},
     "output_type": "display_data"
    },
    {
     "data": {
      "text/html": [
       "Syncing run <strong><a href='https://wandb.ai/boostcamp6-recsys6/lightgbm-sweep/runs/ljr4jhuw' target=\"_blank\">swept-sweep-21</a></strong> to <a href='https://wandb.ai/boostcamp6-recsys6/lightgbm-sweep' target=\"_blank\">Weights & Biases</a> (<a href='https://wandb.me/run' target=\"_blank\">docs</a>)<br/>Sweep page: <a href='https://wandb.ai/boostcamp6-recsys6/lightgbm-sweep/sweeps/fdskahx2' target=\"_blank\">https://wandb.ai/boostcamp6-recsys6/lightgbm-sweep/sweeps/fdskahx2</a>"
      ],
      "text/plain": [
       "<IPython.core.display.HTML object>"
      ]
     },
     "metadata": {},
     "output_type": "display_data"
    },
    {
     "data": {
      "text/html": [
       " View project at <a href='https://wandb.ai/boostcamp6-recsys6/lightgbm-sweep' target=\"_blank\">https://wandb.ai/boostcamp6-recsys6/lightgbm-sweep</a>"
      ],
      "text/plain": [
       "<IPython.core.display.HTML object>"
      ]
     },
     "metadata": {},
     "output_type": "display_data"
    },
    {
     "data": {
      "text/html": [
       " View sweep at <a href='https://wandb.ai/boostcamp6-recsys6/lightgbm-sweep/sweeps/fdskahx2' target=\"_blank\">https://wandb.ai/boostcamp6-recsys6/lightgbm-sweep/sweeps/fdskahx2</a>"
      ],
      "text/plain": [
       "<IPython.core.display.HTML object>"
      ]
     },
     "metadata": {},
     "output_type": "display_data"
    },
    {
     "data": {
      "text/html": [
       " View run at <a href='https://wandb.ai/boostcamp6-recsys6/lightgbm-sweep/runs/ljr4jhuw' target=\"_blank\">https://wandb.ai/boostcamp6-recsys6/lightgbm-sweep/runs/ljr4jhuw</a>"
      ],
      "text/plain": [
       "<IPython.core.display.HTML object>"
      ]
     },
     "metadata": {},
     "output_type": "display_data"
    },
    {
     "name": "stdout",
     "output_type": "stream",
     "text": [
      "[LightGBM] [Warning] Categorical features with more bins than the configured maximum bin number found.\n",
      "[LightGBM] [Warning] For categorical features, max_bin and max_bin_by_feature may be ignored with a large number of categories.\n",
      "[LightGBM] [Info] Number of positive: 1552637, number of negative: 819395\n",
      "[LightGBM] [Info] Auto-choosing col-wise multi-threading, the overhead of testing was 0.562650 seconds.\n",
      "You can set `force_col_wise=true` to remove the overhead.\n",
      "[LightGBM] [Info] Total Bins 22360\n",
      "[LightGBM] [Info] Number of data points in the train set: 2372032, number of used features: 35\n",
      "[LightGBM] [Info] [binary:BoostFromScore]: pavg=0.654560 -> initscore=0.639144\n",
      "[LightGBM] [Info] Start training from score 0.639144\n"
     ]
    },
    {
     "name": "stderr",
     "output_type": "stream",
     "text": [
      "\u001b[34m\u001b[1mwandb\u001b[0m: \u001b[33mWARNING\u001b[0m Config item 'num_leaves' was locked by 'sweep' (ignored update).\n",
      "\u001b[34m\u001b[1mwandb\u001b[0m: \u001b[33mWARNING\u001b[0m Config item 'learning_rate' was locked by 'sweep' (ignored update).\n",
      "\u001b[34m\u001b[1mwandb\u001b[0m: \u001b[33mWARNING\u001b[0m Config item 'max_depth' was locked by 'sweep' (ignored update).\n",
      "\u001b[34m\u001b[1mwandb\u001b[0m: \u001b[33mWARNING\u001b[0m Config item 'min_data_in_leaf' was locked by 'sweep' (ignored update).\n",
      "\u001b[34m\u001b[1mwandb\u001b[0m: \u001b[33mWARNING\u001b[0m Config item 'feature_fraction' was locked by 'sweep' (ignored update).\n",
      "\u001b[34m\u001b[1mwandb\u001b[0m: \u001b[33mWARNING\u001b[0m Config item 'bagging_fraction' was locked by 'sweep' (ignored update).\n",
      "\u001b[34m\u001b[1mwandb\u001b[0m: \u001b[33mWARNING\u001b[0m Config item 'bagging_freq' was locked by 'sweep' (ignored update).\n",
      "\u001b[34m\u001b[1mwandb\u001b[0m: \u001b[33mWARNING\u001b[0m Config item 'lambda_l1' was locked by 'sweep' (ignored update).\n",
      "\u001b[34m\u001b[1mwandb\u001b[0m: \u001b[33mWARNING\u001b[0m Config item 'lambda_l2' was locked by 'sweep' (ignored update).\n"
     ]
    },
    {
     "name": "stdout",
     "output_type": "stream",
     "text": [
      "Training until validation scores don't improve for 30 rounds\n",
      "Did not meet early stopping. Best iteration is:\n",
      "[491]\ttraining's auc: 0.891018\tvalid_1's auc: 0.861959\n",
      "VALID AUC : 0.8619594610121543 ACC : 0.8068917127933266\n",
      "\n"
     ]
    },
    {
     "data": {
      "text/html": [
       "<style>\n",
       "    table.wandb td:nth-child(1) { padding: 0 10px; text-align: left ; width: auto;} td:nth-child(2) {text-align: left ; width: 100%}\n",
       "    .wandb-row { display: flex; flex-direction: row; flex-wrap: wrap; justify-content: flex-start; width: 100% }\n",
       "    .wandb-col { display: flex; flex-direction: column; flex-basis: 100%; flex: 1; padding: 10px; }\n",
       "    </style>\n",
       "<div class=\"wandb-row\"><div class=\"wandb-col\"><h3>Run history:</h3><br/><table class=\"wandb\"><tr><td>accuracy</td><td>▁</td></tr><tr><td>auc</td><td>▁</td></tr><tr><td>iteration</td><td>▁▁▁▂▂▂▂▂▂▃▃▃▃▃▄▄▄▄▄▄▅▅▅▅▅▅▆▆▆▆▆▇▇▇▇▇▇███</td></tr><tr><td>training_auc</td><td>▁▂▂▃▃▃▄▄▄▅▅▅▅▅▆▆▆▆▆▆▆▆▇▇▇▇▇▇▇▇▇▇▇███████</td></tr><tr><td>valid_1_auc</td><td>▁▂▄▄▅▅▆▆▇▇▇▇▇▇▇▇▇███████████████████████</td></tr></table><br/></div><div class=\"wandb-col\"><h3>Run summary:</h3><br/><table class=\"wandb\"><tr><td>accuracy</td><td>0.80689</td></tr><tr><td>auc</td><td>0.86196</td></tr><tr><td>iteration</td><td>499</td></tr></table><br/></div></div>"
      ],
      "text/plain": [
       "<IPython.core.display.HTML object>"
      ]
     },
     "metadata": {},
     "output_type": "display_data"
    },
    {
     "data": {
      "text/html": [
       " View run <strong style=\"color:#cdcd00\">swept-sweep-21</strong> at: <a href='https://wandb.ai/boostcamp6-recsys6/lightgbm-sweep/runs/ljr4jhuw' target=\"_blank\">https://wandb.ai/boostcamp6-recsys6/lightgbm-sweep/runs/ljr4jhuw</a><br/>Synced 6 W&B file(s), 0 media file(s), 0 artifact file(s) and 0 other file(s)"
      ],
      "text/plain": [
       "<IPython.core.display.HTML object>"
      ]
     },
     "metadata": {},
     "output_type": "display_data"
    },
    {
     "data": {
      "text/html": [
       "Find logs at: <code>./wandb/run-20240124_094348-ljr4jhuw/logs</code>"
      ],
      "text/plain": [
       "<IPython.core.display.HTML object>"
      ]
     },
     "metadata": {},
     "output_type": "display_data"
    },
    {
     "name": "stdout",
     "output_type": "stream",
     "text": [
      "writing prediction : output/auc:0.8619594610121543 acc:0.8068917127933266sweep lgbm.csv\n",
      "                                      Feature  Importance\n",
      "0                                      userID       11527\n",
      "1                            assessmentItemID        8587\n",
      "2                                      testId        2545\n",
      "3                                KnowledgeTag        1675\n",
      "15                                    ItemAcc         732\n",
      "14                            UserItemElapsed         628\n",
      "13                      CumulativeUserItemAcc         356\n",
      "17           AverageItemSolvingTime_Incorrect         275\n",
      "5                                 SolvingTime         198\n",
      "20                      UserTagAvgSolvingTime         173\n",
      "19  Difference_SolvingTime_AvgItemSolvingTime         156\n",
      "23        CumulativeUserTagExponentialAverage         128\n",
      "6                              CumulativeTime         124\n",
      "29                                    TestAcc         113\n",
      "28                         PreviousItemAnswer         108\n",
      "22                CumulativeUserTagAverageAcc          99\n",
      "21                                     TagAcc          71\n",
      "24                               UserTagCount          62\n",
      "16             AverageItemSolvingTime_Correct          59\n",
      "12                            Item_last30days          51\n",
      "31                         categorize_ItemAcc          49\n",
      "27                        UserRecentTagAnswer          48\n",
      "10                        CumulativeItemCount          45\n",
      "8                                   TimeOfDay          43\n",
      "7                                       Month          29\n",
      "11                             Item_last7days          27\n",
      "34           categorize_CumulativeUserItemAcc          20\n",
      "4                                     Itemseq          15\n",
      "30                     categorize_solvingTime          15\n",
      "18                     AverageItemSolvingTime          15\n",
      "9   Difference_SolvingTime_UserAvgSolvingTime          11\n",
      "35     categorize_CumulativeUserTagAverageAcc           2\n",
      "26                         PastTagSolvingTime           1\n",
      "25                             UserTagElapsed           0\n",
      "33                         categorize_TestAcc           0\n",
      "32                          categorize_TagAcc           0\n"
     ]
    },
    {
     "name": "stderr",
     "output_type": "stream",
     "text": [
      "\u001b[34m\u001b[1mwandb\u001b[0m: Sweep Agent: Waiting for job.\n",
      "\u001b[34m\u001b[1mwandb\u001b[0m: Job received.\n",
      "\u001b[34m\u001b[1mwandb\u001b[0m: Agent Starting Run: qeengcp8 with config:\n",
      "\u001b[34m\u001b[1mwandb\u001b[0m: \tbagging_fraction: 0.9692568927987442\n",
      "\u001b[34m\u001b[1mwandb\u001b[0m: \tbagging_freq: 20\n",
      "\u001b[34m\u001b[1mwandb\u001b[0m: \tfeature_fraction: 0.7535236179545897\n",
      "\u001b[34m\u001b[1mwandb\u001b[0m: \tlambda_l1: 6.87430486978105\n",
      "\u001b[34m\u001b[1mwandb\u001b[0m: \tlambda_l2: 5.337201202094897\n",
      "\u001b[34m\u001b[1mwandb\u001b[0m: \tlearning_rate: 0.37255863924998006\n",
      "\u001b[34m\u001b[1mwandb\u001b[0m: \tmax_depth: 30\n",
      "\u001b[34m\u001b[1mwandb\u001b[0m: \tmin_data_in_leaf: 107\n",
      "\u001b[34m\u001b[1mwandb\u001b[0m: \tnum_leaves: 55\n",
      "\u001b[34m\u001b[1mwandb\u001b[0m: \tratio: 0.063140596900105\n",
      "\u001b[34m\u001b[1mwandb\u001b[0m: \u001b[33mWARNING\u001b[0m Ignored wandb.init() arg project when running a sweep.\n"
     ]
    },
    {
     "data": {
      "text/html": [
       "Tracking run with wandb version 0.16.2"
      ],
      "text/plain": [
       "<IPython.core.display.HTML object>"
      ]
     },
     "metadata": {},
     "output_type": "display_data"
    },
    {
     "data": {
      "text/html": [
       "Run data is saved locally in <code>/data/ephemeral/home/level2-dkt-recsys-06/code/boost/wandb/run-20240124_094821-qeengcp8</code>"
      ],
      "text/plain": [
       "<IPython.core.display.HTML object>"
      ]
     },
     "metadata": {},
     "output_type": "display_data"
    },
    {
     "data": {
      "text/html": [
       "Syncing run <strong><a href='https://wandb.ai/boostcamp6-recsys6/lightgbm-sweep/runs/qeengcp8' target=\"_blank\">fresh-sweep-22</a></strong> to <a href='https://wandb.ai/boostcamp6-recsys6/lightgbm-sweep' target=\"_blank\">Weights & Biases</a> (<a href='https://wandb.me/run' target=\"_blank\">docs</a>)<br/>Sweep page: <a href='https://wandb.ai/boostcamp6-recsys6/lightgbm-sweep/sweeps/fdskahx2' target=\"_blank\">https://wandb.ai/boostcamp6-recsys6/lightgbm-sweep/sweeps/fdskahx2</a>"
      ],
      "text/plain": [
       "<IPython.core.display.HTML object>"
      ]
     },
     "metadata": {},
     "output_type": "display_data"
    },
    {
     "data": {
      "text/html": [
       " View project at <a href='https://wandb.ai/boostcamp6-recsys6/lightgbm-sweep' target=\"_blank\">https://wandb.ai/boostcamp6-recsys6/lightgbm-sweep</a>"
      ],
      "text/plain": [
       "<IPython.core.display.HTML object>"
      ]
     },
     "metadata": {},
     "output_type": "display_data"
    },
    {
     "data": {
      "text/html": [
       " View sweep at <a href='https://wandb.ai/boostcamp6-recsys6/lightgbm-sweep/sweeps/fdskahx2' target=\"_blank\">https://wandb.ai/boostcamp6-recsys6/lightgbm-sweep/sweeps/fdskahx2</a>"
      ],
      "text/plain": [
       "<IPython.core.display.HTML object>"
      ]
     },
     "metadata": {},
     "output_type": "display_data"
    },
    {
     "data": {
      "text/html": [
       " View run at <a href='https://wandb.ai/boostcamp6-recsys6/lightgbm-sweep/runs/qeengcp8' target=\"_blank\">https://wandb.ai/boostcamp6-recsys6/lightgbm-sweep/runs/qeengcp8</a>"
      ],
      "text/plain": [
       "<IPython.core.display.HTML object>"
      ]
     },
     "metadata": {},
     "output_type": "display_data"
    },
    {
     "name": "stdout",
     "output_type": "stream",
     "text": [
      "[LightGBM] [Warning] Categorical features with more bins than the configured maximum bin number found.\n",
      "[LightGBM] [Warning] For categorical features, max_bin and max_bin_by_feature may be ignored with a large number of categories.\n",
      "[LightGBM] [Info] Number of positive: 1548933, number of negative: 817555\n",
      "[LightGBM] [Info] Auto-choosing col-wise multi-threading, the overhead of testing was 0.295390 seconds.\n",
      "You can set `force_col_wise=true` to remove the overhead.\n",
      "[LightGBM] [Info] Total Bins 22374\n",
      "[LightGBM] [Info] Number of data points in the train set: 2366488, number of used features: 35\n",
      "[LightGBM] [Info] [binary:BoostFromScore]: pavg=0.654528 -> initscore=0.639003\n",
      "[LightGBM] [Info] Start training from score 0.639003\n"
     ]
    },
    {
     "name": "stderr",
     "output_type": "stream",
     "text": [
      "\u001b[34m\u001b[1mwandb\u001b[0m: \u001b[33mWARNING\u001b[0m Config item 'num_leaves' was locked by 'sweep' (ignored update).\n",
      "\u001b[34m\u001b[1mwandb\u001b[0m: \u001b[33mWARNING\u001b[0m Config item 'learning_rate' was locked by 'sweep' (ignored update).\n",
      "\u001b[34m\u001b[1mwandb\u001b[0m: \u001b[33mWARNING\u001b[0m Config item 'max_depth' was locked by 'sweep' (ignored update).\n",
      "\u001b[34m\u001b[1mwandb\u001b[0m: \u001b[33mWARNING\u001b[0m Config item 'min_data_in_leaf' was locked by 'sweep' (ignored update).\n",
      "\u001b[34m\u001b[1mwandb\u001b[0m: \u001b[33mWARNING\u001b[0m Config item 'feature_fraction' was locked by 'sweep' (ignored update).\n",
      "\u001b[34m\u001b[1mwandb\u001b[0m: \u001b[33mWARNING\u001b[0m Config item 'bagging_fraction' was locked by 'sweep' (ignored update).\n",
      "\u001b[34m\u001b[1mwandb\u001b[0m: \u001b[33mWARNING\u001b[0m Config item 'bagging_freq' was locked by 'sweep' (ignored update).\n",
      "\u001b[34m\u001b[1mwandb\u001b[0m: \u001b[33mWARNING\u001b[0m Config item 'lambda_l1' was locked by 'sweep' (ignored update).\n",
      "\u001b[34m\u001b[1mwandb\u001b[0m: \u001b[33mWARNING\u001b[0m Config item 'lambda_l2' was locked by 'sweep' (ignored update).\n"
     ]
    },
    {
     "name": "stdout",
     "output_type": "stream",
     "text": [
      "Training until validation scores don't improve for 30 rounds\n",
      "Early stopping, best iteration is:\n",
      "[80]\ttraining's auc: 0.888959\tvalid_1's auc: 0.859465\n",
      "VALID AUC : 0.8594654588662768 ACC : 0.8037725437078286\n",
      "\n"
     ]
    },
    {
     "data": {
      "text/html": [
       "<style>\n",
       "    table.wandb td:nth-child(1) { padding: 0 10px; text-align: left ; width: auto;} td:nth-child(2) {text-align: left ; width: 100%}\n",
       "    .wandb-row { display: flex; flex-direction: row; flex-wrap: wrap; justify-content: flex-start; width: 100% }\n",
       "    .wandb-col { display: flex; flex-direction: column; flex-basis: 100%; flex: 1; padding: 10px; }\n",
       "    </style>\n",
       "<div class=\"wandb-row\"><div class=\"wandb-col\"><h3>Run history:</h3><br/><table class=\"wandb\"><tr><td>accuracy</td><td>▁</td></tr><tr><td>auc</td><td>▁</td></tr><tr><td>iteration</td><td>▁▁▁▂▂▂▂▂▂▃▃▃▃▃▄▄▄▄▄▄▅▅▅▅▅▅▆▆▆▆▆▇▇▇▇▇▇███</td></tr><tr><td>training_auc</td><td>▁▂▃▄▄▄▅▅▅▅▅▅▆▆▆▆▆▆▆▇▇▇▇▇▇▇▇▇▇▇▇▇████████</td></tr><tr><td>valid_1_auc</td><td>▁▃▅▆▇▇▇▇████████████████████████████████</td></tr></table><br/></div><div class=\"wandb-col\"><h3>Run summary:</h3><br/><table class=\"wandb\"><tr><td>accuracy</td><td>0.80377</td></tr><tr><td>auc</td><td>0.85947</td></tr><tr><td>iteration</td><td>109</td></tr></table><br/></div></div>"
      ],
      "text/plain": [
       "<IPython.core.display.HTML object>"
      ]
     },
     "metadata": {},
     "output_type": "display_data"
    },
    {
     "data": {
      "text/html": [
       " View run <strong style=\"color:#cdcd00\">fresh-sweep-22</strong> at: <a href='https://wandb.ai/boostcamp6-recsys6/lightgbm-sweep/runs/qeengcp8' target=\"_blank\">https://wandb.ai/boostcamp6-recsys6/lightgbm-sweep/runs/qeengcp8</a><br/>Synced 6 W&B file(s), 0 media file(s), 0 artifact file(s) and 0 other file(s)"
      ],
      "text/plain": [
       "<IPython.core.display.HTML object>"
      ]
     },
     "metadata": {},
     "output_type": "display_data"
    },
    {
     "data": {
      "text/html": [
       "Find logs at: <code>./wandb/run-20240124_094821-qeengcp8/logs</code>"
      ],
      "text/plain": [
       "<IPython.core.display.HTML object>"
      ]
     },
     "metadata": {},
     "output_type": "display_data"
    },
    {
     "name": "stdout",
     "output_type": "stream",
     "text": [
      "writing prediction : output/auc:0.8594654588662768 acc:0.8037725437078286sweep lgbm.csv\n",
      "                                      Feature  Importance\n",
      "0                                      userID        1504\n",
      "1                            assessmentItemID        1495\n",
      "2                                      testId         497\n",
      "3                                KnowledgeTag         344\n",
      "15                                    ItemAcc          88\n",
      "14                            UserItemElapsed          75\n",
      "17           AverageItemSolvingTime_Incorrect          37\n",
      "13                      CumulativeUserItemAcc          33\n",
      "20                      UserTagAvgSolvingTime          29\n",
      "5                                 SolvingTime          28\n",
      "23        CumulativeUserTagExponentialAverage          24\n",
      "19  Difference_SolvingTime_AvgItemSolvingTime          21\n",
      "6                              CumulativeTime          20\n",
      "34           categorize_CumulativeUserItemAcc          14\n",
      "28                         PreviousItemAnswer          13\n",
      "21                                     TagAcc          12\n",
      "29                                    TestAcc           9\n",
      "24                               UserTagCount           9\n",
      "22                CumulativeUserTagAverageAcc           7\n",
      "16             AverageItemSolvingTime_Correct           7\n",
      "31                         categorize_ItemAcc           7\n",
      "30                     categorize_solvingTime           7\n",
      "27                        UserRecentTagAnswer           6\n",
      "8                                   TimeOfDay           6\n",
      "7                                       Month           6\n",
      "10                        CumulativeItemCount           5\n",
      "11                             Item_last7days           4\n",
      "12                            Item_last30days           4\n",
      "35     categorize_CumulativeUserTagAverageAcc           4\n",
      "4                                     Itemseq           2\n",
      "18                     AverageItemSolvingTime           1\n",
      "9   Difference_SolvingTime_UserAvgSolvingTime           1\n",
      "26                         PastTagSolvingTime           1\n",
      "25                             UserTagElapsed           0\n",
      "33                         categorize_TestAcc           0\n",
      "32                          categorize_TagAcc           0\n"
     ]
    },
    {
     "name": "stderr",
     "output_type": "stream",
     "text": [
      "\u001b[34m\u001b[1mwandb\u001b[0m: Agent Starting Run: 9e81xp8e with config:\n",
      "\u001b[34m\u001b[1mwandb\u001b[0m: \tbagging_fraction: 0.9957896690405126\n",
      "\u001b[34m\u001b[1mwandb\u001b[0m: \tbagging_freq: 18\n",
      "\u001b[34m\u001b[1mwandb\u001b[0m: \tfeature_fraction: 0.8718380319929926\n",
      "\u001b[34m\u001b[1mwandb\u001b[0m: \tlambda_l1: 7.065866418019543\n",
      "\u001b[34m\u001b[1mwandb\u001b[0m: \tlambda_l2: 2.473333069037198\n",
      "\u001b[34m\u001b[1mwandb\u001b[0m: \tlearning_rate: 0.12368323258148985\n",
      "\u001b[34m\u001b[1mwandb\u001b[0m: \tmax_depth: 33\n",
      "\u001b[34m\u001b[1mwandb\u001b[0m: \tmin_data_in_leaf: 119\n",
      "\u001b[34m\u001b[1mwandb\u001b[0m: \tnum_leaves: 54\n",
      "\u001b[34m\u001b[1mwandb\u001b[0m: \tratio: 0.06401774477020646\n",
      "\u001b[34m\u001b[1mwandb\u001b[0m: \u001b[33mWARNING\u001b[0m Ignored wandb.init() arg project when running a sweep.\n"
     ]
    },
    {
     "data": {
      "text/html": [
       "Tracking run with wandb version 0.16.2"
      ],
      "text/plain": [
       "<IPython.core.display.HTML object>"
      ]
     },
     "metadata": {},
     "output_type": "display_data"
    },
    {
     "data": {
      "text/html": [
       "Run data is saved locally in <code>/data/ephemeral/home/level2-dkt-recsys-06/code/boost/wandb/run-20240124_095135-9e81xp8e</code>"
      ],
      "text/plain": [
       "<IPython.core.display.HTML object>"
      ]
     },
     "metadata": {},
     "output_type": "display_data"
    },
    {
     "data": {
      "text/html": [
       "Syncing run <strong><a href='https://wandb.ai/boostcamp6-recsys6/lightgbm-sweep/runs/9e81xp8e' target=\"_blank\">ethereal-sweep-23</a></strong> to <a href='https://wandb.ai/boostcamp6-recsys6/lightgbm-sweep' target=\"_blank\">Weights & Biases</a> (<a href='https://wandb.me/run' target=\"_blank\">docs</a>)<br/>Sweep page: <a href='https://wandb.ai/boostcamp6-recsys6/lightgbm-sweep/sweeps/fdskahx2' target=\"_blank\">https://wandb.ai/boostcamp6-recsys6/lightgbm-sweep/sweeps/fdskahx2</a>"
      ],
      "text/plain": [
       "<IPython.core.display.HTML object>"
      ]
     },
     "metadata": {},
     "output_type": "display_data"
    },
    {
     "data": {
      "text/html": [
       " View project at <a href='https://wandb.ai/boostcamp6-recsys6/lightgbm-sweep' target=\"_blank\">https://wandb.ai/boostcamp6-recsys6/lightgbm-sweep</a>"
      ],
      "text/plain": [
       "<IPython.core.display.HTML object>"
      ]
     },
     "metadata": {},
     "output_type": "display_data"
    },
    {
     "data": {
      "text/html": [
       " View sweep at <a href='https://wandb.ai/boostcamp6-recsys6/lightgbm-sweep/sweeps/fdskahx2' target=\"_blank\">https://wandb.ai/boostcamp6-recsys6/lightgbm-sweep/sweeps/fdskahx2</a>"
      ],
      "text/plain": [
       "<IPython.core.display.HTML object>"
      ]
     },
     "metadata": {},
     "output_type": "display_data"
    },
    {
     "data": {
      "text/html": [
       " View run at <a href='https://wandb.ai/boostcamp6-recsys6/lightgbm-sweep/runs/9e81xp8e' target=\"_blank\">https://wandb.ai/boostcamp6-recsys6/lightgbm-sweep/runs/9e81xp8e</a>"
      ],
      "text/plain": [
       "<IPython.core.display.HTML object>"
      ]
     },
     "metadata": {},
     "output_type": "display_data"
    },
    {
     "name": "stdout",
     "output_type": "stream",
     "text": [
      "[LightGBM] [Warning] Categorical features with more bins than the configured maximum bin number found.\n",
      "[LightGBM] [Warning] For categorical features, max_bin and max_bin_by_feature may be ignored with a large number of categories.\n",
      "[LightGBM] [Info] Number of positive: 1547783, number of negative: 816498\n",
      "[LightGBM] [Info] Auto-choosing row-wise multi-threading, the overhead of testing was 0.055753 seconds.\n",
      "You can set `force_row_wise=true` to remove the overhead.\n",
      "And if memory is not enough, you can set `force_col_wise=true`.\n",
      "[LightGBM] [Info] Total Bins 22352\n",
      "[LightGBM] [Info] Number of data points in the train set: 2364281, number of used features: 35\n",
      "[LightGBM] [Info] [binary:BoostFromScore]: pavg=0.654653 -> initscore=0.639554\n",
      "[LightGBM] [Info] Start training from score 0.639554\n"
     ]
    },
    {
     "name": "stderr",
     "output_type": "stream",
     "text": [
      "\u001b[34m\u001b[1mwandb\u001b[0m: \u001b[33mWARNING\u001b[0m Config item 'num_leaves' was locked by 'sweep' (ignored update).\n",
      "\u001b[34m\u001b[1mwandb\u001b[0m: \u001b[33mWARNING\u001b[0m Config item 'learning_rate' was locked by 'sweep' (ignored update).\n",
      "\u001b[34m\u001b[1mwandb\u001b[0m: \u001b[33mWARNING\u001b[0m Config item 'max_depth' was locked by 'sweep' (ignored update).\n",
      "\u001b[34m\u001b[1mwandb\u001b[0m: \u001b[33mWARNING\u001b[0m Config item 'min_data_in_leaf' was locked by 'sweep' (ignored update).\n",
      "\u001b[34m\u001b[1mwandb\u001b[0m: \u001b[33mWARNING\u001b[0m Config item 'feature_fraction' was locked by 'sweep' (ignored update).\n",
      "\u001b[34m\u001b[1mwandb\u001b[0m: \u001b[33mWARNING\u001b[0m Config item 'bagging_fraction' was locked by 'sweep' (ignored update).\n",
      "\u001b[34m\u001b[1mwandb\u001b[0m: \u001b[33mWARNING\u001b[0m Config item 'bagging_freq' was locked by 'sweep' (ignored update).\n",
      "\u001b[34m\u001b[1mwandb\u001b[0m: \u001b[33mWARNING\u001b[0m Config item 'lambda_l1' was locked by 'sweep' (ignored update).\n",
      "\u001b[34m\u001b[1mwandb\u001b[0m: \u001b[33mWARNING\u001b[0m Config item 'lambda_l2' was locked by 'sweep' (ignored update).\n"
     ]
    },
    {
     "name": "stdout",
     "output_type": "stream",
     "text": [
      "Training until validation scores don't improve for 30 rounds\n"
     ]
    }
   ],
   "source": [
    "\n",
    "wandb.agent(sweep_id, train)"
   ]
  }
 ],
 "metadata": {
  "colab": {
   "provenance": []
  },
  "kernelspec": {
   "display_name": "Python 3 (ipykernel)",
   "language": "python",
   "name": "python3"
  },
  "language_info": {
   "codemirror_mode": {
    "name": "ipython",
    "version": 3
   },
   "file_extension": ".py",
   "mimetype": "text/x-python",
   "name": "python",
   "nbconvert_exporter": "python",
   "pygments_lexer": "ipython3",
   "version": "3.10.13"
  },
  "toc": {
   "base_numbering": 1,
   "nav_menu": {},
   "number_sections": false,
   "sideBar": true,
   "skip_h1_title": false,
   "title_cell": "Table of Contents",
   "title_sidebar": "Contents",
   "toc_cell": false,
   "toc_position": {},
   "toc_section_display": true,
   "toc_window_display": true
  }
 },
 "nbformat": 4,
 "nbformat_minor": 4
}
