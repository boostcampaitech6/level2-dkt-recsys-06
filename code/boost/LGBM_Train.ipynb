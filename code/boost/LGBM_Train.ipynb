{
 "cells": [
  {
   "cell_type": "code",
   "execution_count": 1,
   "metadata": {
    "tags": []
   },
   "outputs": [],
   "source": [
    "import warnings \n",
    "warnings.filterwarnings(\"ignore\")"
   ]
  },
  {
   "cell_type": "code",
   "execution_count": 2,
   "metadata": {
    "ExecuteTime": {
     "end_time": "2021-05-24T09:49:29.375544Z",
     "start_time": "2021-05-24T09:49:28.999092Z"
    },
    "id": "Uq_TJqbdhfQu",
    "tags": []
   },
   "outputs": [],
   "source": [
    "import pandas as pd\n",
    "import os\n",
    "import random\n",
    "import numpy as np\n",
    "import yaml\n",
    "import lightgbm as lgb\n",
    "from sklearn.metrics import roc_auc_score\n",
    "from sklearn.metrics import accuracy_score\n",
    "import numpy as np\n",
    "import torch\n",
    "import pytz\n",
    "from datetime import datetime, timezone, timedelta\n",
    "from sklearn.model_selection import StratifiedGroupKFold\n",
    "from sklearn.preprocessing import LabelEncoder\n",
    "from wandb.lightgbm import wandb_callback, log_summary"
   ]
  },
  {
   "cell_type": "code",
   "execution_count": 3,
   "metadata": {},
   "outputs": [],
   "source": [
    "#wandb_callback 수정 \n",
    "from typing import TYPE_CHECKING, Callable\n",
    "import wandb\n",
    "from wandb.sdk.lib import telemetry as wb_telemetry\n",
    "\n",
    "MINIMIZE_METRICS = [\n",
    "    \"l1\",\n",
    "    \"l2\",\n",
    "    \"rmse\",\n",
    "    \"mape\",\n",
    "    \"huber\",\n",
    "    \"fair\",\n",
    "    \"poisson\",\n",
    "    \"gamma\",\n",
    "    \"binary_logloss\",\n",
    "]\n",
    "\n",
    "MAXIMIZE_METRICS = [\"map\", \"auc\", \"average_precision\"]\n",
    "\n",
    "def set_seeds(seed: int = 42):\n",
    "    # 랜덤 시드를 설정하여 매 코드를 실행할 때마다 동일한 결과를 얻게 합니다.\n",
    "    os.environ[\"PYTHONHASHSEED\"] = str(seed)\n",
    "    random.seed(seed)\n",
    "    np.random.seed(seed)\n",
    "    torch.manual_seed(seed)\n",
    "    torch.cuda.manual_seed(seed)\n",
    "    torch.backends.cudnn.deterministic = True\n",
    "        \n",
    "def wandb_callback(log_params=True, define_metric=True) -> Callable:\n",
    "    \"\"\"Automatically integrates LightGBM with wandb.\n",
    "\n",
    "    Arguments:\n",
    "        log_params: (boolean) if True (default) logs params passed to lightgbm.train as W&B config\n",
    "        define_metric: (boolean) if True (default) capture model performance at the best step, instead of the last step, of training in your `wandb.summary`\n",
    "\n",
    "    Passing `wandb_callback` to LightGBM will:\n",
    "      - log params passed to lightgbm.train as W&B config (default).\n",
    "      - log evaluation metrics collected by LightGBM, such as rmse, accuracy etc to Weights & Biases\n",
    "      - Capture the best metric in `wandb.summary` when `define_metric=True` (default).\n",
    "\n",
    "    Use `log_summary` as an extension of this callback.\n",
    "\n",
    "    Example:\n",
    "        ```python\n",
    "        params = {\n",
    "            'boosting_type': 'gbdt',\n",
    "            'objective': 'regression',\n",
    "            .\n",
    "        }\n",
    "        gbm = lgb.train(params,\n",
    "                        lgb_train,\n",
    "                        num_boost_round=10,\n",
    "                        valid_sets=lgb_eval,\n",
    "                        valid_names=('validation'),\n",
    "                        callbacks=[wandb_callback()])\n",
    "        ```\n",
    "    \"\"\"\n",
    "    def _define_metric(data: str, metric_name: str) -> None:\n",
    "    \n",
    "        \"\"\"Capture model performance at the best step.\n",
    "        instead of the last step, of training in your `wandb.summary`\n",
    "        \"\"\"\n",
    "        if \"loss\" in str.lower(metric_name):\n",
    "            wandb.define_metric(f\"{data}_{metric_name}\", summary=\"min\")\n",
    "        elif str.lower(metric_name) in MINIMIZE_METRICS:\n",
    "            wandb.define_metric(f\"{data}_{metric_name}\", summary=\"min\")\n",
    "        elif str.lower(metric_name) in MAXIMIZE_METRICS:\n",
    "            wandb.define_metric(f\"{data}_{metric_name}\", summary=\"max\")\n",
    "            \n",
    "    log_params_list: \"List[bool]\" = [log_params]\n",
    "    define_metric_list: \"List[bool]\" = [define_metric]\n",
    "\n",
    "    def _init(env: \"CallbackEnv\") -> None:\n",
    "        with wb_telemetry.context() as tel:\n",
    "            tel.feature.lightgbm_wandb_callback = True\n",
    "\n",
    "        wandb.config.update(env.params)\n",
    "        log_params_list[0] = False\n",
    "\n",
    "        if define_metric_list[0]:\n",
    "            for i in range(len(env.evaluation_result_list)):\n",
    "                data_type = env.evaluation_result_list[i][0]\n",
    "                metric_name = env.evaluation_result_list[i][1]\n",
    "                _define_metric(data_type, metric_name)\n",
    "\n",
    "    def _callback(env: \"CallbackEnv\") -> None:\n",
    "        if log_params_list[0]:\n",
    "            _init(env)\n",
    "        # eval_results: \"Dict[str, Dict[str, List[Any]]]\" = {}\n",
    "        # recorder = lightgbm.record_evaluation(eval_results)\n",
    "        # recorder(env)\n",
    "        eval_results = {x[0]:{x[1:][0]:x[1:][1:]} for x in env.evaluation_result_list}\n",
    "\n",
    "        for validation_key in eval_results.keys():\n",
    "            for key in eval_results[validation_key].keys():\n",
    "                 wandb.log(\n",
    "                     {validation_key + \"_\" + key: eval_results[validation_key][key][0]},\n",
    "                     commit=False,\n",
    "                 )\n",
    "        for item in eval_results:\n",
    "            if len(item) == 4:\n",
    "                wandb.log({f\"{item[0]}_{item[1]}\": item[2]}, commit=False)\n",
    "\n",
    "        # Previous log statements use commit=False. This commits them.\n",
    "        wandb.log({\"iteration\": env.iteration}, commit=True)\n",
    "\n",
    "    return _callback"
   ]
  },
  {
   "attachments": {},
   "cell_type": "markdown",
   "metadata": {
    "id": "QZlm5HSmhfQv"
   },
   "source": [
    "## Training"
   ]
  },
  {
   "cell_type": "code",
   "execution_count": 4,
   "metadata": {
    "ExecuteTime": {
     "end_time": "2021-05-24T09:49:29.678737Z",
     "start_time": "2021-05-24T09:49:29.376581Z"
    },
    "id": "s6qgJ8MLhfQw",
    "tags": []
   },
   "outputs": [
    {
     "name": "stdout",
     "output_type": "stream",
     "text": [
      "Create sweep with ID: 4ay6thrs\n",
      "Sweep URL: https://wandb.ai/boostcamp6-recsys6/lightgbm-sweep/sweeps/4ay6thrs\n"
     ]
    }
   ],
   "source": [
    "sweep_config_path = '/data/ephemeral/level2-dkt-recsys-06/code/boost/lgbmsweepconfigv2.yaml'\n",
    "\n",
    "# 노트북의 이름 설정\n",
    "\n",
    "os.environ['WANDB_NOTEBOOK_NAME'] = 'LGBM_Train.ipynb'\n",
    "# YAML 파일 로드\n",
    "with open(sweep_config_path, 'r') as file:\n",
    "    sweep_config = yaml.safe_load(file)\n",
    "\n",
    "# W&B 스위프트 설정\n",
    "sweep_id = wandb.sweep(sweep=sweep_config, project=\"lightgbm-sweep\")\n",
    "\n",
    "# 시드 고정\n",
    "set_seeds()\n"
   ]
  },
  {
   "cell_type": "code",
   "execution_count": 5,
   "metadata": {},
   "outputs": [
    {
     "name": "stdout",
     "output_type": "stream",
     "text": [
      "userIDnum 7442\n",
      "        userID  assessmentItemID  testId  answerCode            Timestamp  \\\n",
      "1035         3          50133008   50133          -1  2020-10-26 13:13:57   \n",
      "1706         4          70146008   70146          -1  2020-12-27 02:47:54   \n",
      "3023        13          70111008   70111          -1  2020-12-27 04:35:09   \n",
      "4283        17          90064006   90064          -1  2020-10-30 05:48:37   \n",
      "4670        26          60135007   60135          -1  2020-10-23 11:44:18   \n",
      "...        ...               ...     ...         ...                  ...   \n",
      "260052    7395          40122005   40122          -1  2020-09-08 02:05:20   \n",
      "260067    7404          30111005   30111          -1  2020-10-13 09:49:18   \n",
      "260082    7416          50193004   50193          -1  2020-10-04 02:44:41   \n",
      "260097    7417          50193004   50193          -1  2020-09-06 13:09:15   \n",
      "260113    7439          40130005   40130          -1  2020-10-14 23:10:03   \n",
      "\n",
      "        KnowledgeTag  Itemseq  SolvingTime  CumulativeTime  Month  ...  \\\n",
      "1035            5289        8           46             362     10  ...   \n",
      "1706            9080        8           25             197     12  ...   \n",
      "3023            9660        8            8             112     12  ...   \n",
      "4283            2611        6           75             455     10  ...   \n",
      "4670            1422        7           22             297     10  ...   \n",
      "...              ...      ...          ...             ...    ...  ...   \n",
      "260052         10615        5            2              14      9  ...   \n",
      "260067          7636        5           45             264     10  ...   \n",
      "260082         10402        4           14              61     10  ...   \n",
      "260097         10402        4           21              84      9  ...   \n",
      "260113          8832        5           26             186     10  ...   \n",
      "\n",
      "       user_tag_acc  repeat  problem_acc   tag_acc   elapsed  total_elapsed  \\\n",
      "1035       0.818182       1     0.534400  0.559569  3.850148       5.758902   \n",
      "1706       0.666667       1     0.613333  0.546588  3.178054       5.153292   \n",
      "3023       0.333333       1     0.370400  0.494467  2.197225       4.653960   \n",
      "4283       1.000000       1     0.276000  0.419529  4.330733       5.942799   \n",
      "4670       0.666667       1     0.314400  0.609600  2.890372       5.620401   \n",
      "...             ...     ...          ...       ...       ...            ...   \n",
      "260052     0.000000       1     0.448667  0.701714  1.098612       2.564949   \n",
      "260067     0.500000       1     0.885333  0.824500  4.682131       5.393628   \n",
      "260082     0.666667       1     0.856800  0.823284  3.218876       3.871201   \n",
      "260097     0.666667       1     0.856800  0.823284  3.091042       4.158883   \n",
      "260113     0.500000       1     0.605333  0.638370  3.496508       5.081404   \n",
      "\n",
      "        user_total_attempts  recent_solve_time  moving_average_solve_time  \\\n",
      "1035                   1036               46.0                       43.0   \n",
      "1706                    671               23.0                       25.6   \n",
      "3023                   1317                8.0                        7.6   \n",
      "4283                   1260               75.0                       76.0   \n",
      "4670                    387               17.0                       50.4   \n",
      "...                     ...                ...                        ...   \n",
      "260052                   24                2.0                    11669.4   \n",
      "260067                   15              107.0                    14147.6   \n",
      "260082                   15               24.0                    11996.8   \n",
      "260097                   15               21.0                     8437.4   \n",
      "260113                   16               32.0                    11163.6   \n",
      "\n",
      "        user_acc  \n",
      "1035    0.692085  \n",
      "1706    0.692996  \n",
      "3023    0.694761  \n",
      "4283    0.818254  \n",
      "4670    0.757106  \n",
      "...          ...  \n",
      "260052  0.291667  \n",
      "260067  0.466667  \n",
      "260082  0.466667  \n",
      "260097  0.133333  \n",
      "260113  0.687500  \n",
      "\n",
      "[744 rows x 54 columns]\n",
      "False\n",
      "(260114, 54)\n"
     ]
    }
   ],
   "source": [
    "X = pd.read_csv('/data/ephemeral/level2-dkt-recsys-06/data/FE_v7.csv')\n",
    "test =  pd.read_csv('/data/ephemeral/level2-dkt-recsys-06/data/FE_test_v7.csv')\n",
    "X = X.sort_values(by=[\"userID\", \"Timestamp\", \"assessmentItemID\"]).reset_index(drop=True)\n",
    "test = test.sort_values(by=[\"userID\", \"Timestamp\", \"assessmentItemID\"]).reset_index(drop=True)\n",
    "\n",
    "# test = test[test[\"userID\"] != test[\"userID\"].shift(-1)]\n",
    "# test = test.drop([\"answerCode\"], axis=1)\n",
    "\n",
    "# 유저 아이디 갯수 구하기\n",
    "unique_user_count = X['userID'].nunique()\n",
    "\n",
    "# 유저아이디 갯수 출력\n",
    "print(f'userIDnum {unique_user_count}')\n",
    "\n",
    "# 유저아이디 마지막 행 구하기\n",
    "last_rows = test.groupby('userID').tail(1)\n",
    "print(last_rows)\n",
    "# 마지막 행의 answerCode가 -1인지 확인\n",
    "are_last_answers_minus_one = (last_rows['answerCode'] == -1).all()\n",
    "\n",
    "print(are_last_answers_minus_one)\n",
    "\n",
    "# test 모양\n",
    "print(test.shape)\n",
    "\n"
   ]
  },
  {
   "cell_type": "code",
   "execution_count": 6,
   "metadata": {},
   "outputs": [],
   "source": [
    "test = test[test[\"answerCode\"] == -1]\n",
    "X = X[X['answerCode']!=-1]"
   ]
  },
  {
   "cell_type": "code",
   "execution_count": 7,
   "metadata": {},
   "outputs": [],
   "source": [
    "\n",
    "# LabelEncoder 적용\n",
    "\n",
    "label_encoders = {}\n",
    "for column in [\n",
    "    \"categorize_ItemAnswerRate\",\n",
    "    \"categorize_TagAnswerRate\",\n",
    "    \"categorize_TestAnswerRate\",\n",
    "    \"categorize_CumulativeUserItemAnswerRate\",\n",
    "    \"categorize_CumulativeUserTagAverageAnswerRate\",\n",
    "    \"categorize_CumulativeUserTagExponentialAverage\",\n",
    "    \"DayOfWeek\",\n",
    "    \"TimeOfDay\",\n",
    "    \"categorize_TagAnswerRate\",    \n",
    "    \"UserRecentTagAnswer\",\n",
    "    \"PreviousItemAnswer\",\n",
    "    \"categorize_TestAnswerRate\",\n",
    "]:\n",
    "    le = LabelEncoder()\n",
    "    X[column] = le.fit_transform(X[column])\n",
    "    # 테스트 데이터에 대해서는 transform만 적용\n",
    "    test[column] = le.transform(test[column])\n",
    "    label_encoders[column] = le\n"
   ]
  },
  {
   "cell_type": "code",
   "execution_count": 8,
   "metadata": {},
   "outputs": [],
   "source": [
    "# print(X.shape)\n",
    "\n",
    "# # 원-핫 인코딩 적용할 컬럼 선택\n",
    "# columns_to_encode = [\n",
    "#     \"UserRecentTagAnswer\",\n",
    "#     \"PreviousItemAnswer\",\n",
    "#     # 추가적으로 원-핫 인코딩을 적용할 다른 컬럼들을 여기에 추가\n",
    "# ]\n",
    "# for column in columns_to_encode:\n",
    "#     if column in X.columns:\n",
    "#         X = pd.get_dummies(X, columns=[column])\n",
    "#     if column in test.columns:\n",
    "#         test = pd.get_dummies(test, columns=[column])\n",
    "\n",
    "#         # 다른 필드들에 대해서도 동일하게 적용\n",
    "# print(X.shape)\n",
    "\n",
    "# 라벨로 이동 \n"
   ]
  },
  {
   "cell_type": "code",
   "execution_count": 9,
   "metadata": {
    "tags": []
   },
   "outputs": [
    {
     "name": "stdout",
     "output_type": "stream",
     "text": [
      "(2525956, 54)\n",
      "(2525956, 43)\n",
      "['userID', 'assessmentItemID', 'testId', 'answerCode', 'Timestamp', 'KnowledgeTag', 'Itemseq', 'SolvingTime', 'CumulativeTime', 'Month', 'DayOfWeek', 'TimeOfDay', 'WeekOfYear', 'UserAvgSolvingTime', 'CumulativeItemCount', 'Item_last7days', 'Item_last30days', 'PastItemCount', 'CumulativeUserItemAnswerRate', 'ItemAnswerRate', 'AverageItemSolvingTime_Correct', 'AverageItemSolvingTime_Incorrect', 'AverageItemSolvingTime', 'Difference_SolvingTime_AvgItemSolvingTime', 'UserTagAvgSolvingTime', 'TagAnswerRate', 'CumulativeUserTagAverageAnswerRate', 'CumulativeUserTagExponentialAverage', 'UserCumulativeTagCount', 'UserRecentTagAnswer', 'PreviousItemAnswer', 'TestAnswerRate', 'categorize_solvingTime', 'categorize_ItemAnswerRate', 'categorize_TagAnswerRate', 'categorize_TestAnswerRate', 'categorize_CumulativeUserItemAnswerRate', 'categorize_CumulativeUserTagAverageAnswerRate', 'categorize_CumulativeUserTagExponentialAverage', 'user_test_correct_answer', 'user_test_total_answer', 'user_test_acc', 'user_tag_correct_answer', 'user_tag_total_answer', 'user_tag_acc', 'repeat', 'problem_acc', 'tag_acc', 'elapsed', 'total_elapsed', 'user_total_attempts', 'recent_solve_time', 'moving_average_solve_time', 'user_acc']\n"
     ]
    }
   ],
   "source": [
    "feat = X.columns.tolist()\n",
    "\n",
    "exclude_columns = [\n",
    "    \"Timestamp\",\n",
    "    \"answerCode\",\n",
    "    \"DayOfWeek\",\n",
    "    'WeekOfYear',\n",
    "    'UserAvgSolvingTime',\n",
    "    'PastItemCount',\n",
    "    \"user_tag_total_answer\",\n",
    "    \"categorize_CumulativeUserTagExponentialAverage\",\n",
    "    'categorize_CumulativeUserTagAverageAnswerRate',\n",
    "    \"categorize_TestAnswerRate\",\n",
    "    \"categorize_TagAnswerRate\"\n",
    "]\n",
    "\n",
    "filtered_feat = [column for column in feat if column not in exclude_columns]\n",
    "\n",
    "print(X[feat].shape)\n",
    "print(X[filtered_feat].shape)\n",
    "print(X.columns.tolist())"
   ]
  },
  {
   "cell_type": "code",
   "execution_count": 10,
   "metadata": {},
   "outputs": [],
   "source": [
    "default_config = {\n",
    "    \"num_leaves\": 10,  # 최소값 10\n",
    "    \"learning_rate\": 0.0001,  # 최소값 0.0001\n",
    "    \"max_depth\": -1,  # -1 (깊이 제한 없음)\n",
    "    \"min_data_in_leaf\": 20,  # 최소값 20\n",
    "    \"feature_fraction\": 0.6,  # 최소값 0.6\n",
    "    \"bagging_fraction\": 0.6,  # 최소값 0.6\n",
    "    \"bagging_freq\": 0,  # 최소값 0\n",
    "    \"lambda_l1\": 0.0,  # 최소값 0.0\n",
    "    \"lambda_l2\": 0.0,  # 최소값 0.0\n",
    "    \"cat_smooth\": 10,  # 최소값 10\n",
    "}\n",
    "\n"
   ]
  },
  {
   "cell_type": "code",
   "execution_count": 11,
   "metadata": {},
   "outputs": [],
   "source": [
    "\n",
    "def train():\n",
    "    \n",
    "    auc = 0\n",
    "    acc = 0\n",
    "    test_preds = np.zeros(len(test))\n",
    "    \n",
    "    wandb.init(project=f\"lightgbm-sweep\", config=default_config)\n",
    "    \n",
    "    ratio = wandb.config.ratio\n",
    "    \n",
    "    sampled_indices = X.groupby('userID').sample(frac=ratio).index\n",
    "\n",
    "    # userID별 마지막 인덱스 찾기\n",
    "    # last_indices = X.groupby(\"userID\").tail(1).index\n",
    "\n",
    "    # 학습 데이터셋 생성\n",
    "    X_train = X.drop(sampled_indices)\n",
    "    y_train = X_train[\"answerCode\"]\n",
    "\n",
    "    # 검증 데이터셋 생성\n",
    "    X_valid = X.loc[sampled_indices]\n",
    "    y_valid = X_valid[\"answerCode\"]\n",
    "\n",
    "    lgb_train = lgb.Dataset(X_train[filtered_feat], y_train)\n",
    "    lgb_valid = lgb.Dataset(X_valid[filtered_feat], y_valid)\n",
    "\n",
    "    # 완드비 실험 이름\n",
    "    korea = pytz.timezone(\"Asia/Seoul\")\n",
    "    current_time = datetime.now(korea).strftime(\"%m-%d %H:%M\")\n",
    "    wandb.run.name = f\"wooksbaby-{current_time},ratio-{ratio}\"\n",
    "    current_params = {\n",
    "        \"objective\": \"binary\",\n",
    "        \"metric\": [\"auc\"],\n",
    "        \"device\": \"cpu\",\n",
    "        \"num_leaves\": wandb.config.num_leaves,\n",
    "        \"learning_rate\": wandb.config.learning_rate,\n",
    "        \"max_depth\": wandb.config.max_depth,\n",
    "        \"min_data_in_leaf\": wandb.config.min_data_in_leaf,\n",
    "        \"feature_fraction\": wandb.config.feature_fraction,\n",
    "        \"bagging_fraction\": wandb.config.bagging_fraction,\n",
    "        \"bagging_freq\": wandb.config.bagging_freq,\n",
    "        \"lambda_l1\": wandb.config.lambda_l1,\n",
    "        \"lambda_l2\": wandb.config.lambda_l2,\n",
    "        \"cat_smooth\": wandb.config.cat_smooth,\n",
    "    }\n",
    "    model = lgb.train(\n",
    "        current_params,\n",
    "        lgb_train,\n",
    "        valid_sets=[lgb_train, lgb_valid],\n",
    "        num_boost_round=500,\n",
    "        callbacks=[\n",
    "            wandb_callback(log_params=True, define_metric=True),\n",
    "            lgb.early_stopping(30),\n",
    "        ],\n",
    "        categorical_feature=[\n",
    "            \"userID\",\n",
    "            \"assessmentItemID\",\n",
    "            \"testId\",\n",
    "            \"KnowledgeTag\",\n",
    "            \"Month\"\n",
    "        ],\n",
    "    )\n",
    "    preds = model.predict(X_valid[filtered_feat])\n",
    "    acc = accuracy_score(y_valid, np.where(preds >= 0.5, 1, 0))\n",
    "    auc = roc_auc_score(y_valid, preds)\n",
    "    test_preds += model.predict(test[filtered_feat])\n",
    "    print(f\"VALID AUC : {auc} ACC : {acc}\\n\")\n",
    "    wandb.log({\"auc\": auc, \"accuracy\": acc})\n",
    "    wandb.finish()\n",
    "    \n",
    "    #output파일 생성\n",
    "    output_dir = \"output/\"\n",
    "    write_path = os.path.join(\n",
    "        output_dir,\n",
    "        f\"auc:{auc} acc:{acc}\" + \"sweep\" + \" lgbm.csv\",\n",
    "    )\n",
    "    if not os.path.exists(output_dir):\n",
    "        os.makedirs(output_dir)\n",
    "    with open(write_path, \"w\", encoding=\"utf8\") as w:\n",
    "        print(\"writing prediction : {}\".format(write_path))\n",
    "        w.write(\"id,prediction\\n\")\n",
    "        for id, p in enumerate(test_preds):\n",
    "            w.write(\"{},{}\\n\".format(id, p))\n",
    "            \n",
    "    feature_importances = model.feature_importance()\n",
    "    feature_names = model.feature_name()\n",
    "    importance_df = pd.DataFrame({'Feature': feature_names, 'Importance': feature_importances}).sort_values(by='Importance', ascending=False)\n",
    "\n",
    "    print(importance_df)"
   ]
  },
  {
   "cell_type": "code",
   "execution_count": 12,
   "metadata": {},
   "outputs": [
    {
     "name": "stderr",
     "output_type": "stream",
     "text": [
      "\u001b[34m\u001b[1mwandb\u001b[0m: Agent Starting Run: pysm9n60 with config:\n",
      "\u001b[34m\u001b[1mwandb\u001b[0m: \tbagging_fraction: 0.8590183440130919\n",
      "\u001b[34m\u001b[1mwandb\u001b[0m: \tbagging_freq: 14\n",
      "\u001b[34m\u001b[1mwandb\u001b[0m: \tfeature_fraction: 0.9091790175585632\n",
      "\u001b[34m\u001b[1mwandb\u001b[0m: \tlambda_l1: 14.388011892553417\n",
      "\u001b[34m\u001b[1mwandb\u001b[0m: \tlambda_l2: 2.295435591582504\n",
      "\u001b[34m\u001b[1mwandb\u001b[0m: \tlearning_rate: 0.2753057279659792\n",
      "\u001b[34m\u001b[1mwandb\u001b[0m: \tmax_depth: 29\n",
      "\u001b[34m\u001b[1mwandb\u001b[0m: \tmin_data_in_leaf: 110\n",
      "\u001b[34m\u001b[1mwandb\u001b[0m: \tnum_leaves: 18\n",
      "\u001b[34m\u001b[1mwandb\u001b[0m: \tratio: 0.11367092928384603\n",
      "\u001b[34m\u001b[1mwandb\u001b[0m: Currently logged in as: \u001b[33mwooksbaby\u001b[0m (\u001b[33mboostcamp6-recsys6\u001b[0m). Use \u001b[1m`wandb login --relogin`\u001b[0m to force relogin\n",
      "\u001b[34m\u001b[1mwandb\u001b[0m: \u001b[33mWARNING\u001b[0m Ignored wandb.init() arg project when running a sweep.\n"
     ]
    },
    {
     "data": {
      "text/html": [
       "Tracking run with wandb version 0.16.2"
      ],
      "text/plain": [
       "<IPython.core.display.HTML object>"
      ]
     },
     "metadata": {},
     "output_type": "display_data"
    },
    {
     "data": {
      "text/html": [
       "Run data is saved locally in <code>/data/ephemeral/level2-dkt-recsys-06/code/boost/wandb/run-20240124_083456-pysm9n60</code>"
      ],
      "text/plain": [
       "<IPython.core.display.HTML object>"
      ]
     },
     "metadata": {},
     "output_type": "display_data"
    },
    {
     "data": {
      "text/html": [
       "Syncing run <strong><a href='https://wandb.ai/boostcamp6-recsys6/lightgbm-sweep/runs/pysm9n60' target=\"_blank\">dry-sweep-1</a></strong> to <a href='https://wandb.ai/boostcamp6-recsys6/lightgbm-sweep' target=\"_blank\">Weights & Biases</a> (<a href='https://wandb.me/run' target=\"_blank\">docs</a>)<br/>Sweep page: <a href='https://wandb.ai/boostcamp6-recsys6/lightgbm-sweep/sweeps/4ay6thrs' target=\"_blank\">https://wandb.ai/boostcamp6-recsys6/lightgbm-sweep/sweeps/4ay6thrs</a>"
      ],
      "text/plain": [
       "<IPython.core.display.HTML object>"
      ]
     },
     "metadata": {},
     "output_type": "display_data"
    },
    {
     "data": {
      "text/html": [
       " View project at <a href='https://wandb.ai/boostcamp6-recsys6/lightgbm-sweep' target=\"_blank\">https://wandb.ai/boostcamp6-recsys6/lightgbm-sweep</a>"
      ],
      "text/plain": [
       "<IPython.core.display.HTML object>"
      ]
     },
     "metadata": {},
     "output_type": "display_data"
    },
    {
     "data": {
      "text/html": [
       " View sweep at <a href='https://wandb.ai/boostcamp6-recsys6/lightgbm-sweep/sweeps/4ay6thrs' target=\"_blank\">https://wandb.ai/boostcamp6-recsys6/lightgbm-sweep/sweeps/4ay6thrs</a>"
      ],
      "text/plain": [
       "<IPython.core.display.HTML object>"
      ]
     },
     "metadata": {},
     "output_type": "display_data"
    },
    {
     "data": {
      "text/html": [
       " View run at <a href='https://wandb.ai/boostcamp6-recsys6/lightgbm-sweep/runs/pysm9n60' target=\"_blank\">https://wandb.ai/boostcamp6-recsys6/lightgbm-sweep/runs/pysm9n60</a>"
      ],
      "text/plain": [
       "<IPython.core.display.HTML object>"
      ]
     },
     "metadata": {},
     "output_type": "display_data"
    },
    {
     "name": "stdout",
     "output_type": "stream",
     "text": [
      "[LightGBM] [Warning] Met categorical feature which contains sparse values. Consider renumbering to consecutive integers started from zero\n",
      "[LightGBM] [Info] Number of positive: 1465755, number of negative: 773000\n",
      "[LightGBM] [Warning] Auto-choosing row-wise multi-threading, the overhead of testing was 0.048601 seconds.\n",
      "You can set `force_row_wise=true` to remove the overhead.\n",
      "And if memory is not enough, you can set `force_col_wise=true`.\n",
      "[LightGBM] [Info] Total Bins 22953\n",
      "[LightGBM] [Info] Number of data points in the train set: 2238755, number of used features: 43\n",
      "[LightGBM] [Info] [binary:BoostFromScore]: pavg=0.654719 -> initscore=0.639847\n",
      "[LightGBM] [Info] Start training from score 0.639847\n"
     ]
    },
    {
     "name": "stderr",
     "output_type": "stream",
     "text": [
      "\u001b[34m\u001b[1mwandb\u001b[0m: \u001b[33mWARNING\u001b[0m Config item 'num_leaves' was locked by 'sweep' (ignored update).\n",
      "\u001b[34m\u001b[1mwandb\u001b[0m: \u001b[33mWARNING\u001b[0m Config item 'learning_rate' was locked by 'sweep' (ignored update).\n",
      "\u001b[34m\u001b[1mwandb\u001b[0m: \u001b[33mWARNING\u001b[0m Config item 'max_depth' was locked by 'sweep' (ignored update).\n",
      "\u001b[34m\u001b[1mwandb\u001b[0m: \u001b[33mWARNING\u001b[0m Config item 'min_data_in_leaf' was locked by 'sweep' (ignored update).\n",
      "\u001b[34m\u001b[1mwandb\u001b[0m: \u001b[33mWARNING\u001b[0m Config item 'feature_fraction' was locked by 'sweep' (ignored update).\n",
      "\u001b[34m\u001b[1mwandb\u001b[0m: \u001b[33mWARNING\u001b[0m Config item 'bagging_fraction' was locked by 'sweep' (ignored update).\n",
      "\u001b[34m\u001b[1mwandb\u001b[0m: \u001b[33mWARNING\u001b[0m Config item 'bagging_freq' was locked by 'sweep' (ignored update).\n",
      "\u001b[34m\u001b[1mwandb\u001b[0m: \u001b[33mWARNING\u001b[0m Config item 'lambda_l1' was locked by 'sweep' (ignored update).\n",
      "\u001b[34m\u001b[1mwandb\u001b[0m: \u001b[33mWARNING\u001b[0m Config item 'lambda_l2' was locked by 'sweep' (ignored update).\n"
     ]
    },
    {
     "name": "stdout",
     "output_type": "stream",
     "text": [
      "[1]\ttraining's auc: 0.813195\tvalid_1's auc: 0.813006\n",
      "Training until validation scores don't improve for 30 rounds\n",
      "[2]\ttraining's auc: 0.826235\tvalid_1's auc: 0.826034\n",
      "[3]\ttraining's auc: 0.830708\tvalid_1's auc: 0.830488\n",
      "[4]\ttraining's auc: 0.833194\tvalid_1's auc: 0.833024\n",
      "[5]\ttraining's auc: 0.835826\tvalid_1's auc: 0.835683\n",
      "[6]\ttraining's auc: 0.837904\tvalid_1's auc: 0.837707\n",
      "[7]\ttraining's auc: 0.839474\tvalid_1's auc: 0.839212\n",
      "[8]\ttraining's auc: 0.840966\tvalid_1's auc: 0.840536\n",
      "[9]\ttraining's auc: 0.842415\tvalid_1's auc: 0.841935\n",
      "[10]\ttraining's auc: 0.843598\tvalid_1's auc: 0.843104\n",
      "[11]\ttraining's auc: 0.844473\tvalid_1's auc: 0.843879\n",
      "[12]\ttraining's auc: 0.845587\tvalid_1's auc: 0.844908\n",
      "[13]\ttraining's auc: 0.846559\tvalid_1's auc: 0.845702\n",
      "[14]\ttraining's auc: 0.847436\tvalid_1's auc: 0.846451\n",
      "[15]\ttraining's auc: 0.848293\tvalid_1's auc: 0.84719\n",
      "[16]\ttraining's auc: 0.84901\tvalid_1's auc: 0.84781\n",
      "[17]\ttraining's auc: 0.84967\tvalid_1's auc: 0.848369\n",
      "[18]\ttraining's auc: 0.850173\tvalid_1's auc: 0.848718\n",
      "[19]\ttraining's auc: 0.85077\tvalid_1's auc: 0.84922\n",
      "[20]\ttraining's auc: 0.851365\tvalid_1's auc: 0.849601\n",
      "[21]\ttraining's auc: 0.851892\tvalid_1's auc: 0.849967\n",
      "[22]\ttraining's auc: 0.852399\tvalid_1's auc: 0.850319\n",
      "[23]\ttraining's auc: 0.852947\tvalid_1's auc: 0.850691\n",
      "[24]\ttraining's auc: 0.853422\tvalid_1's auc: 0.850997\n",
      "[25]\ttraining's auc: 0.85384\tvalid_1's auc: 0.851237\n",
      "[26]\ttraining's auc: 0.854131\tvalid_1's auc: 0.851465\n",
      "[27]\ttraining's auc: 0.854694\tvalid_1's auc: 0.851848\n",
      "[28]\ttraining's auc: 0.85506\tvalid_1's auc: 0.852036\n",
      "[29]\ttraining's auc: 0.855373\tvalid_1's auc: 0.852226\n",
      "[30]\ttraining's auc: 0.855673\tvalid_1's auc: 0.852384\n",
      "[31]\ttraining's auc: 0.855982\tvalid_1's auc: 0.852528\n",
      "[32]\ttraining's auc: 0.856369\tvalid_1's auc: 0.852759\n",
      "[33]\ttraining's auc: 0.856743\tvalid_1's auc: 0.853007\n",
      "[34]\ttraining's auc: 0.857092\tvalid_1's auc: 0.853205\n",
      "[35]\ttraining's auc: 0.857307\tvalid_1's auc: 0.853303\n",
      "[36]\ttraining's auc: 0.857605\tvalid_1's auc: 0.853414\n",
      "[37]\ttraining's auc: 0.857839\tvalid_1's auc: 0.853493\n",
      "[38]\ttraining's auc: 0.858203\tvalid_1's auc: 0.853745\n",
      "[39]\ttraining's auc: 0.858513\tvalid_1's auc: 0.853924\n",
      "[40]\ttraining's auc: 0.85877\tvalid_1's auc: 0.854072\n",
      "[41]\ttraining's auc: 0.858956\tvalid_1's auc: 0.85415\n",
      "[42]\ttraining's auc: 0.859259\tvalid_1's auc: 0.854257\n",
      "[43]\ttraining's auc: 0.859439\tvalid_1's auc: 0.854301\n",
      "[44]\ttraining's auc: 0.859587\tvalid_1's auc: 0.85433\n",
      "[45]\ttraining's auc: 0.859733\tvalid_1's auc: 0.854391\n",
      "[46]\ttraining's auc: 0.859859\tvalid_1's auc: 0.854393\n",
      "[47]\ttraining's auc: 0.860007\tvalid_1's auc: 0.854447\n",
      "[48]\ttraining's auc: 0.8603\tvalid_1's auc: 0.85453\n",
      "[49]\ttraining's auc: 0.860513\tvalid_1's auc: 0.854635\n",
      "[50]\ttraining's auc: 0.86068\tvalid_1's auc: 0.854679\n",
      "[51]\ttraining's auc: 0.860904\tvalid_1's auc: 0.854769\n",
      "[52]\ttraining's auc: 0.861224\tvalid_1's auc: 0.854926\n",
      "[53]\ttraining's auc: 0.861412\tvalid_1's auc: 0.855039\n",
      "[54]\ttraining's auc: 0.861751\tvalid_1's auc: 0.85522\n",
      "[55]\ttraining's auc: 0.861848\tvalid_1's auc: 0.855241\n",
      "[56]\ttraining's auc: 0.862071\tvalid_1's auc: 0.8553\n",
      "[57]\ttraining's auc: 0.862197\tvalid_1's auc: 0.855308\n",
      "[58]\ttraining's auc: 0.862286\tvalid_1's auc: 0.855318\n",
      "[59]\ttraining's auc: 0.86244\tvalid_1's auc: 0.855384\n",
      "[60]\ttraining's auc: 0.862577\tvalid_1's auc: 0.85543\n",
      "[61]\ttraining's auc: 0.862883\tvalid_1's auc: 0.855578\n",
      "[62]\ttraining's auc: 0.863196\tvalid_1's auc: 0.855724\n",
      "[63]\ttraining's auc: 0.863288\tvalid_1's auc: 0.855734\n",
      "[64]\ttraining's auc: 0.863402\tvalid_1's auc: 0.855732\n",
      "[65]\ttraining's auc: 0.863535\tvalid_1's auc: 0.855777\n",
      "[66]\ttraining's auc: 0.863768\tvalid_1's auc: 0.855869\n",
      "[67]\ttraining's auc: 0.863863\tvalid_1's auc: 0.855879\n",
      "[68]\ttraining's auc: 0.864093\tvalid_1's auc: 0.855957\n",
      "[69]\ttraining's auc: 0.864218\tvalid_1's auc: 0.855972\n",
      "[70]\ttraining's auc: 0.864433\tvalid_1's auc: 0.856051\n",
      "[71]\ttraining's auc: 0.864516\tvalid_1's auc: 0.856066\n",
      "[72]\ttraining's auc: 0.864614\tvalid_1's auc: 0.856033\n",
      "[73]\ttraining's auc: 0.864677\tvalid_1's auc: 0.856031\n",
      "[74]\ttraining's auc: 0.86486\tvalid_1's auc: 0.856167\n",
      "[75]\ttraining's auc: 0.864941\tvalid_1's auc: 0.856167\n",
      "[76]\ttraining's auc: 0.865042\tvalid_1's auc: 0.856171\n",
      "[77]\ttraining's auc: 0.865185\tvalid_1's auc: 0.856167\n",
      "[78]\ttraining's auc: 0.865401\tvalid_1's auc: 0.856179\n",
      "[79]\ttraining's auc: 0.865644\tvalid_1's auc: 0.856316\n",
      "[80]\ttraining's auc: 0.865801\tvalid_1's auc: 0.85643\n",
      "[81]\ttraining's auc: 0.865959\tvalid_1's auc: 0.856424\n",
      "[82]\ttraining's auc: 0.866057\tvalid_1's auc: 0.856453\n",
      "[83]\ttraining's auc: 0.866211\tvalid_1's auc: 0.856528\n",
      "[84]\ttraining's auc: 0.866397\tvalid_1's auc: 0.856595\n",
      "[85]\ttraining's auc: 0.866454\tvalid_1's auc: 0.856597\n",
      "[86]\ttraining's auc: 0.866586\tvalid_1's auc: 0.856596\n",
      "[87]\ttraining's auc: 0.866649\tvalid_1's auc: 0.85659\n",
      "[88]\ttraining's auc: 0.866714\tvalid_1's auc: 0.856587\n",
      "[89]\ttraining's auc: 0.866906\tvalid_1's auc: 0.856635\n",
      "[90]\ttraining's auc: 0.866985\tvalid_1's auc: 0.856644\n",
      "[91]\ttraining's auc: 0.867032\tvalid_1's auc: 0.856639\n",
      "[92]\ttraining's auc: 0.867242\tvalid_1's auc: 0.856702\n",
      "[93]\ttraining's auc: 0.86729\tvalid_1's auc: 0.856687\n",
      "[94]\ttraining's auc: 0.867447\tvalid_1's auc: 0.85666\n",
      "[95]\ttraining's auc: 0.867646\tvalid_1's auc: 0.85674\n",
      "[96]\ttraining's auc: 0.867818\tvalid_1's auc: 0.856807\n",
      "[97]\ttraining's auc: 0.867957\tvalid_1's auc: 0.856886\n",
      "[98]\ttraining's auc: 0.868158\tvalid_1's auc: 0.856917\n",
      "[99]\ttraining's auc: 0.868244\tvalid_1's auc: 0.856909\n",
      "[100]\ttraining's auc: 0.8683\tvalid_1's auc: 0.856909\n",
      "[101]\ttraining's auc: 0.868346\tvalid_1's auc: 0.856898\n",
      "[102]\ttraining's auc: 0.868572\tvalid_1's auc: 0.856948\n",
      "[103]\ttraining's auc: 0.868705\tvalid_1's auc: 0.856995\n",
      "[104]\ttraining's auc: 0.868772\tvalid_1's auc: 0.856994\n",
      "[105]\ttraining's auc: 0.868962\tvalid_1's auc: 0.857056\n",
      "[106]\ttraining's auc: 0.869077\tvalid_1's auc: 0.857111\n",
      "[107]\ttraining's auc: 0.869175\tvalid_1's auc: 0.857152\n",
      "[108]\ttraining's auc: 0.869336\tvalid_1's auc: 0.857221\n",
      "[109]\ttraining's auc: 0.869445\tvalid_1's auc: 0.857251\n",
      "[110]\ttraining's auc: 0.869586\tvalid_1's auc: 0.85727\n",
      "[111]\ttraining's auc: 0.869801\tvalid_1's auc: 0.857356\n",
      "[112]\ttraining's auc: 0.869958\tvalid_1's auc: 0.857378\n",
      "[113]\ttraining's auc: 0.870016\tvalid_1's auc: 0.857379\n",
      "[114]\ttraining's auc: 0.870146\tvalid_1's auc: 0.857415\n",
      "[115]\ttraining's auc: 0.870222\tvalid_1's auc: 0.857412\n",
      "[116]\ttraining's auc: 0.870278\tvalid_1's auc: 0.857409\n",
      "[117]\ttraining's auc: 0.8704\tvalid_1's auc: 0.857431\n",
      "[118]\ttraining's auc: 0.870581\tvalid_1's auc: 0.85747\n",
      "[119]\ttraining's auc: 0.870718\tvalid_1's auc: 0.857468\n",
      "[120]\ttraining's auc: 0.870787\tvalid_1's auc: 0.857472\n",
      "[121]\ttraining's auc: 0.870884\tvalid_1's auc: 0.85753\n",
      "[122]\ttraining's auc: 0.871042\tvalid_1's auc: 0.857574\n",
      "[123]\ttraining's auc: 0.871176\tvalid_1's auc: 0.857627\n",
      "[124]\ttraining's auc: 0.871331\tvalid_1's auc: 0.857642\n",
      "[125]\ttraining's auc: 0.87137\tvalid_1's auc: 0.85764\n",
      "[126]\ttraining's auc: 0.871513\tvalid_1's auc: 0.857724\n",
      "[127]\ttraining's auc: 0.871559\tvalid_1's auc: 0.857729\n",
      "[128]\ttraining's auc: 0.871614\tvalid_1's auc: 0.85772\n",
      "[129]\ttraining's auc: 0.871694\tvalid_1's auc: 0.857713\n",
      "[130]\ttraining's auc: 0.871848\tvalid_1's auc: 0.857765\n",
      "[131]\ttraining's auc: 0.871971\tvalid_1's auc: 0.857784\n",
      "[132]\ttraining's auc: 0.872006\tvalid_1's auc: 0.857791\n",
      "[133]\ttraining's auc: 0.872158\tvalid_1's auc: 0.857816\n",
      "[134]\ttraining's auc: 0.872197\tvalid_1's auc: 0.857831\n",
      "[135]\ttraining's auc: 0.872325\tvalid_1's auc: 0.857833\n",
      "[136]\ttraining's auc: 0.872476\tvalid_1's auc: 0.857852\n",
      "[137]\ttraining's auc: 0.872539\tvalid_1's auc: 0.857851\n",
      "[138]\ttraining's auc: 0.872683\tvalid_1's auc: 0.857887\n",
      "[139]\ttraining's auc: 0.872812\tvalid_1's auc: 0.857894\n",
      "[140]\ttraining's auc: 0.872846\tvalid_1's auc: 0.857883\n",
      "[141]\ttraining's auc: 0.872894\tvalid_1's auc: 0.857891\n",
      "[142]\ttraining's auc: 0.872946\tvalid_1's auc: 0.857878\n",
      "[143]\ttraining's auc: 0.873002\tvalid_1's auc: 0.857861\n",
      "[144]\ttraining's auc: 0.873124\tvalid_1's auc: 0.85789\n",
      "[145]\ttraining's auc: 0.873206\tvalid_1's auc: 0.857923\n",
      "[146]\ttraining's auc: 0.873324\tvalid_1's auc: 0.857934\n",
      "[147]\ttraining's auc: 0.873377\tvalid_1's auc: 0.857941\n",
      "[148]\ttraining's auc: 0.873471\tvalid_1's auc: 0.857947\n",
      "[149]\ttraining's auc: 0.873662\tvalid_1's auc: 0.857983\n",
      "[150]\ttraining's auc: 0.87372\tvalid_1's auc: 0.857975\n",
      "[151]\ttraining's auc: 0.873774\tvalid_1's auc: 0.857974\n",
      "[152]\ttraining's auc: 0.87392\tvalid_1's auc: 0.857976\n",
      "[153]\ttraining's auc: 0.874054\tvalid_1's auc: 0.858048\n",
      "[154]\ttraining's auc: 0.874185\tvalid_1's auc: 0.858047\n",
      "[155]\ttraining's auc: 0.874256\tvalid_1's auc: 0.858043\n",
      "[156]\ttraining's auc: 0.874381\tvalid_1's auc: 0.858093\n",
      "[157]\ttraining's auc: 0.874428\tvalid_1's auc: 0.85809\n",
      "[158]\ttraining's auc: 0.874525\tvalid_1's auc: 0.858127\n",
      "[159]\ttraining's auc: 0.874567\tvalid_1's auc: 0.858131\n",
      "[160]\ttraining's auc: 0.874617\tvalid_1's auc: 0.858128\n",
      "[161]\ttraining's auc: 0.87465\tvalid_1's auc: 0.858113\n",
      "[162]\ttraining's auc: 0.874704\tvalid_1's auc: 0.858095\n",
      "[163]\ttraining's auc: 0.874801\tvalid_1's auc: 0.858109\n",
      "[164]\ttraining's auc: 0.874866\tvalid_1's auc: 0.858134\n",
      "[165]\ttraining's auc: 0.874929\tvalid_1's auc: 0.858134\n",
      "[166]\ttraining's auc: 0.875132\tvalid_1's auc: 0.858257\n",
      "[167]\ttraining's auc: 0.875248\tvalid_1's auc: 0.85828\n",
      "[168]\ttraining's auc: 0.875413\tvalid_1's auc: 0.858319\n",
      "[169]\ttraining's auc: 0.87545\tvalid_1's auc: 0.858319\n",
      "[170]\ttraining's auc: 0.875517\tvalid_1's auc: 0.858319\n",
      "[171]\ttraining's auc: 0.875647\tvalid_1's auc: 0.858298\n",
      "[172]\ttraining's auc: 0.875725\tvalid_1's auc: 0.858336\n",
      "[173]\ttraining's auc: 0.875763\tvalid_1's auc: 0.858339\n",
      "[174]\ttraining's auc: 0.875819\tvalid_1's auc: 0.858336\n",
      "[175]\ttraining's auc: 0.87592\tvalid_1's auc: 0.858335\n",
      "[176]\ttraining's auc: 0.875977\tvalid_1's auc: 0.858337\n",
      "[177]\ttraining's auc: 0.876093\tvalid_1's auc: 0.858309\n",
      "[178]\ttraining's auc: 0.876176\tvalid_1's auc: 0.858304\n",
      "[179]\ttraining's auc: 0.876273\tvalid_1's auc: 0.858329\n",
      "[180]\ttraining's auc: 0.876374\tvalid_1's auc: 0.85835\n",
      "[181]\ttraining's auc: 0.876406\tvalid_1's auc: 0.858351\n",
      "[182]\ttraining's auc: 0.876523\tvalid_1's auc: 0.858363\n",
      "[183]\ttraining's auc: 0.876571\tvalid_1's auc: 0.858361\n",
      "[184]\ttraining's auc: 0.876627\tvalid_1's auc: 0.858364\n",
      "[185]\ttraining's auc: 0.87669\tvalid_1's auc: 0.858366\n",
      "[186]\ttraining's auc: 0.876753\tvalid_1's auc: 0.85839\n",
      "[187]\ttraining's auc: 0.876895\tvalid_1's auc: 0.858399\n",
      "[188]\ttraining's auc: 0.877061\tvalid_1's auc: 0.858489\n",
      "[189]\ttraining's auc: 0.877182\tvalid_1's auc: 0.858484\n",
      "[190]\ttraining's auc: 0.877211\tvalid_1's auc: 0.858474\n",
      "[191]\ttraining's auc: 0.877321\tvalid_1's auc: 0.858452\n",
      "[192]\ttraining's auc: 0.877395\tvalid_1's auc: 0.858461\n",
      "[193]\ttraining's auc: 0.877557\tvalid_1's auc: 0.85846\n",
      "[194]\ttraining's auc: 0.877685\tvalid_1's auc: 0.85849\n",
      "[195]\ttraining's auc: 0.877757\tvalid_1's auc: 0.858503\n",
      "[196]\ttraining's auc: 0.877809\tvalid_1's auc: 0.858485\n",
      "[197]\ttraining's auc: 0.877855\tvalid_1's auc: 0.858488\n",
      "[198]\ttraining's auc: 0.877904\tvalid_1's auc: 0.858474\n",
      "[199]\ttraining's auc: 0.877958\tvalid_1's auc: 0.858471\n",
      "[200]\ttraining's auc: 0.87798\tvalid_1's auc: 0.858465\n",
      "[201]\ttraining's auc: 0.878069\tvalid_1's auc: 0.858461\n",
      "[202]\ttraining's auc: 0.878144\tvalid_1's auc: 0.858473\n",
      "[203]\ttraining's auc: 0.878169\tvalid_1's auc: 0.858471\n",
      "[204]\ttraining's auc: 0.878211\tvalid_1's auc: 0.858462\n",
      "[205]\ttraining's auc: 0.878367\tvalid_1's auc: 0.858507\n",
      "[206]\ttraining's auc: 0.878489\tvalid_1's auc: 0.858512\n",
      "[207]\ttraining's auc: 0.878593\tvalid_1's auc: 0.858518\n",
      "[208]\ttraining's auc: 0.878629\tvalid_1's auc: 0.858515\n",
      "[209]\ttraining's auc: 0.878731\tvalid_1's auc: 0.858519\n",
      "[210]\ttraining's auc: 0.878941\tvalid_1's auc: 0.858653\n",
      "[211]\ttraining's auc: 0.878952\tvalid_1's auc: 0.858658\n",
      "[212]\ttraining's auc: 0.87899\tvalid_1's auc: 0.858649\n",
      "[213]\ttraining's auc: 0.879104\tvalid_1's auc: 0.858678\n",
      "[214]\ttraining's auc: 0.879134\tvalid_1's auc: 0.85868\n",
      "[215]\ttraining's auc: 0.87929\tvalid_1's auc: 0.858701\n",
      "[216]\ttraining's auc: 0.879357\tvalid_1's auc: 0.858736\n",
      "[217]\ttraining's auc: 0.879462\tvalid_1's auc: 0.858757\n",
      "[218]\ttraining's auc: 0.879532\tvalid_1's auc: 0.858782\n",
      "[219]\ttraining's auc: 0.879608\tvalid_1's auc: 0.858766\n",
      "[220]\ttraining's auc: 0.879725\tvalid_1's auc: 0.858808\n",
      "[221]\ttraining's auc: 0.879807\tvalid_1's auc: 0.858801\n",
      "[222]\ttraining's auc: 0.879881\tvalid_1's auc: 0.858796\n",
      "[223]\ttraining's auc: 0.879975\tvalid_1's auc: 0.858798\n",
      "[224]\ttraining's auc: 0.880024\tvalid_1's auc: 0.858833\n",
      "[225]\ttraining's auc: 0.880065\tvalid_1's auc: 0.858832\n",
      "[226]\ttraining's auc: 0.880113\tvalid_1's auc: 0.85882\n",
      "[227]\ttraining's auc: 0.880172\tvalid_1's auc: 0.85882\n",
      "[228]\ttraining's auc: 0.880196\tvalid_1's auc: 0.85882\n",
      "[229]\ttraining's auc: 0.880298\tvalid_1's auc: 0.858817\n",
      "[230]\ttraining's auc: 0.880443\tvalid_1's auc: 0.858847\n",
      "[231]\ttraining's auc: 0.88052\tvalid_1's auc: 0.858847\n",
      "[232]\ttraining's auc: 0.880576\tvalid_1's auc: 0.858849\n",
      "[233]\ttraining's auc: 0.880625\tvalid_1's auc: 0.858846\n",
      "[234]\ttraining's auc: 0.880697\tvalid_1's auc: 0.858858\n",
      "[235]\ttraining's auc: 0.880745\tvalid_1's auc: 0.858844\n",
      "[236]\ttraining's auc: 0.880828\tvalid_1's auc: 0.85883\n",
      "[237]\ttraining's auc: 0.880927\tvalid_1's auc: 0.858831\n",
      "[238]\ttraining's auc: 0.880949\tvalid_1's auc: 0.858827\n",
      "[239]\ttraining's auc: 0.880996\tvalid_1's auc: 0.858832\n",
      "[240]\ttraining's auc: 0.881021\tvalid_1's auc: 0.85883\n",
      "[241]\ttraining's auc: 0.881072\tvalid_1's auc: 0.858812\n",
      "[242]\ttraining's auc: 0.881102\tvalid_1's auc: 0.858808\n",
      "[243]\ttraining's auc: 0.881196\tvalid_1's auc: 0.858821\n",
      "[244]\ttraining's auc: 0.881249\tvalid_1's auc: 0.858823\n",
      "[245]\ttraining's auc: 0.881384\tvalid_1's auc: 0.858866\n",
      "[246]\ttraining's auc: 0.881415\tvalid_1's auc: 0.858864\n",
      "[247]\ttraining's auc: 0.881458\tvalid_1's auc: 0.858879\n",
      "[248]\ttraining's auc: 0.881511\tvalid_1's auc: 0.858874\n",
      "[249]\ttraining's auc: 0.881638\tvalid_1's auc: 0.858868\n",
      "[250]\ttraining's auc: 0.881755\tvalid_1's auc: 0.858874\n",
      "[251]\ttraining's auc: 0.881807\tvalid_1's auc: 0.858857\n",
      "[252]\ttraining's auc: 0.881892\tvalid_1's auc: 0.858854\n",
      "[253]\ttraining's auc: 0.881955\tvalid_1's auc: 0.858851\n",
      "[254]\ttraining's auc: 0.881983\tvalid_1's auc: 0.858853\n",
      "[255]\ttraining's auc: 0.882004\tvalid_1's auc: 0.858855\n",
      "[256]\ttraining's auc: 0.882096\tvalid_1's auc: 0.858845\n",
      "[257]\ttraining's auc: 0.882141\tvalid_1's auc: 0.858836\n",
      "[258]\ttraining's auc: 0.882207\tvalid_1's auc: 0.858836\n",
      "[259]\ttraining's auc: 0.882264\tvalid_1's auc: 0.858837\n",
      "[260]\ttraining's auc: 0.882285\tvalid_1's auc: 0.858834\n",
      "[261]\ttraining's auc: 0.882404\tvalid_1's auc: 0.858827\n",
      "[262]\ttraining's auc: 0.882443\tvalid_1's auc: 0.858836\n",
      "[263]\ttraining's auc: 0.882472\tvalid_1's auc: 0.858832\n",
      "[264]\ttraining's auc: 0.882561\tvalid_1's auc: 0.858853\n",
      "[265]\ttraining's auc: 0.88265\tvalid_1's auc: 0.858853\n",
      "[266]\ttraining's auc: 0.882735\tvalid_1's auc: 0.858866\n",
      "[267]\ttraining's auc: 0.882783\tvalid_1's auc: 0.858873\n",
      "[268]\ttraining's auc: 0.882825\tvalid_1's auc: 0.858869\n",
      "[269]\ttraining's auc: 0.882874\tvalid_1's auc: 0.858863\n",
      "[270]\ttraining's auc: 0.882946\tvalid_1's auc: 0.858874\n",
      "[271]\ttraining's auc: 0.882969\tvalid_1's auc: 0.858872\n",
      "[272]\ttraining's auc: 0.883019\tvalid_1's auc: 0.85886\n",
      "[273]\ttraining's auc: 0.883065\tvalid_1's auc: 0.858846\n",
      "[274]\ttraining's auc: 0.883138\tvalid_1's auc: 0.858888\n",
      "[275]\ttraining's auc: 0.883192\tvalid_1's auc: 0.858877\n",
      "[276]\ttraining's auc: 0.883215\tvalid_1's auc: 0.858867\n",
      "[277]\ttraining's auc: 0.883246\tvalid_1's auc: 0.858858\n",
      "[278]\ttraining's auc: 0.88336\tvalid_1's auc: 0.858924\n",
      "[279]\ttraining's auc: 0.883407\tvalid_1's auc: 0.858918\n",
      "[280]\ttraining's auc: 0.883467\tvalid_1's auc: 0.858929\n",
      "[281]\ttraining's auc: 0.883492\tvalid_1's auc: 0.858941\n",
      "[282]\ttraining's auc: 0.883535\tvalid_1's auc: 0.858944\n",
      "[283]\ttraining's auc: 0.883587\tvalid_1's auc: 0.858929\n",
      "[284]\ttraining's auc: 0.883654\tvalid_1's auc: 0.85892\n",
      "[285]\ttraining's auc: 0.88369\tvalid_1's auc: 0.85892\n",
      "[286]\ttraining's auc: 0.883743\tvalid_1's auc: 0.858918\n",
      "[287]\ttraining's auc: 0.883829\tvalid_1's auc: 0.858905\n",
      "[288]\ttraining's auc: 0.883881\tvalid_1's auc: 0.858903\n",
      "[289]\ttraining's auc: 0.883915\tvalid_1's auc: 0.858909\n",
      "[290]\ttraining's auc: 0.883961\tvalid_1's auc: 0.858904\n",
      "[291]\ttraining's auc: 0.883983\tvalid_1's auc: 0.8589\n",
      "[292]\ttraining's auc: 0.88411\tvalid_1's auc: 0.858967\n",
      "[293]\ttraining's auc: 0.884195\tvalid_1's auc: 0.858965\n",
      "[294]\ttraining's auc: 0.884228\tvalid_1's auc: 0.858965\n",
      "[295]\ttraining's auc: 0.884271\tvalid_1's auc: 0.858967\n",
      "[296]\ttraining's auc: 0.88432\tvalid_1's auc: 0.858967\n",
      "[297]\ttraining's auc: 0.884373\tvalid_1's auc: 0.858966\n",
      "[298]\ttraining's auc: 0.884412\tvalid_1's auc: 0.858956\n",
      "[299]\ttraining's auc: 0.88444\tvalid_1's auc: 0.858955\n",
      "[300]\ttraining's auc: 0.88447\tvalid_1's auc: 0.858963\n",
      "[301]\ttraining's auc: 0.884525\tvalid_1's auc: 0.858964\n",
      "[302]\ttraining's auc: 0.884626\tvalid_1's auc: 0.858996\n",
      "[303]\ttraining's auc: 0.884665\tvalid_1's auc: 0.85901\n",
      "[304]\ttraining's auc: 0.884682\tvalid_1's auc: 0.859006\n",
      "[305]\ttraining's auc: 0.884735\tvalid_1's auc: 0.859005\n",
      "[306]\ttraining's auc: 0.884796\tvalid_1's auc: 0.859003\n",
      "[307]\ttraining's auc: 0.884842\tvalid_1's auc: 0.859004\n",
      "[308]\ttraining's auc: 0.884921\tvalid_1's auc: 0.858999\n",
      "[309]\ttraining's auc: 0.884946\tvalid_1's auc: 0.858996\n",
      "[310]\ttraining's auc: 0.88499\tvalid_1's auc: 0.858987\n",
      "[311]\ttraining's auc: 0.885015\tvalid_1's auc: 0.858989\n",
      "[312]\ttraining's auc: 0.885066\tvalid_1's auc: 0.858983\n",
      "[313]\ttraining's auc: 0.885114\tvalid_1's auc: 0.858986\n",
      "[314]\ttraining's auc: 0.885155\tvalid_1's auc: 0.858964\n",
      "[315]\ttraining's auc: 0.885201\tvalid_1's auc: 0.858965\n",
      "[316]\ttraining's auc: 0.885284\tvalid_1's auc: 0.85894\n",
      "[317]\ttraining's auc: 0.885329\tvalid_1's auc: 0.858933\n",
      "[318]\ttraining's auc: 0.885359\tvalid_1's auc: 0.858937\n",
      "[319]\ttraining's auc: 0.885487\tvalid_1's auc: 0.859\n",
      "[320]\ttraining's auc: 0.885505\tvalid_1's auc: 0.858994\n",
      "[321]\ttraining's auc: 0.885592\tvalid_1's auc: 0.85897\n",
      "[322]\ttraining's auc: 0.885718\tvalid_1's auc: 0.859019\n",
      "[323]\ttraining's auc: 0.885724\tvalid_1's auc: 0.859016\n",
      "[324]\ttraining's auc: 0.885773\tvalid_1's auc: 0.859003\n",
      "[325]\ttraining's auc: 0.885829\tvalid_1's auc: 0.858996\n",
      "[326]\ttraining's auc: 0.885875\tvalid_1's auc: 0.85899\n",
      "[327]\ttraining's auc: 0.885898\tvalid_1's auc: 0.858983\n",
      "[328]\ttraining's auc: 0.885963\tvalid_1's auc: 0.858989\n",
      "[329]\ttraining's auc: 0.886048\tvalid_1's auc: 0.858997\n",
      "[330]\ttraining's auc: 0.886067\tvalid_1's auc: 0.859005\n",
      "[331]\ttraining's auc: 0.886106\tvalid_1's auc: 0.858999\n",
      "[332]\ttraining's auc: 0.886144\tvalid_1's auc: 0.859003\n",
      "[333]\ttraining's auc: 0.886201\tvalid_1's auc: 0.858995\n",
      "[334]\ttraining's auc: 0.886313\tvalid_1's auc: 0.859036\n",
      "[335]\ttraining's auc: 0.886369\tvalid_1's auc: 0.859033\n",
      "[336]\ttraining's auc: 0.886398\tvalid_1's auc: 0.859031\n",
      "[337]\ttraining's auc: 0.886431\tvalid_1's auc: 0.859032\n",
      "[338]\ttraining's auc: 0.886433\tvalid_1's auc: 0.859041\n",
      "[339]\ttraining's auc: 0.88646\tvalid_1's auc: 0.859035\n",
      "[340]\ttraining's auc: 0.886488\tvalid_1's auc: 0.859038\n",
      "[341]\ttraining's auc: 0.886526\tvalid_1's auc: 0.859037\n",
      "[342]\ttraining's auc: 0.886627\tvalid_1's auc: 0.859034\n",
      "[343]\ttraining's auc: 0.886672\tvalid_1's auc: 0.859034\n",
      "[344]\ttraining's auc: 0.886718\tvalid_1's auc: 0.859026\n",
      "[345]\ttraining's auc: 0.886744\tvalid_1's auc: 0.859026\n",
      "[346]\ttraining's auc: 0.88685\tvalid_1's auc: 0.859042\n",
      "[347]\ttraining's auc: 0.886928\tvalid_1's auc: 0.859059\n",
      "[348]\ttraining's auc: 0.886954\tvalid_1's auc: 0.859057\n",
      "[349]\ttraining's auc: 0.887077\tvalid_1's auc: 0.859066\n",
      "[350]\ttraining's auc: 0.887102\tvalid_1's auc: 0.859059\n",
      "[351]\ttraining's auc: 0.887148\tvalid_1's auc: 0.859051\n",
      "[352]\ttraining's auc: 0.887199\tvalid_1's auc: 0.859052\n",
      "[353]\ttraining's auc: 0.887239\tvalid_1's auc: 0.85905\n",
      "[354]\ttraining's auc: 0.887271\tvalid_1's auc: 0.859057\n",
      "[355]\ttraining's auc: 0.88731\tvalid_1's auc: 0.85905\n",
      "[356]\ttraining's auc: 0.887335\tvalid_1's auc: 0.859049\n",
      "[357]\ttraining's auc: 0.887361\tvalid_1's auc: 0.859047\n",
      "[358]\ttraining's auc: 0.887418\tvalid_1's auc: 0.859043\n",
      "[359]\ttraining's auc: 0.887465\tvalid_1's auc: 0.859034\n",
      "[360]\ttraining's auc: 0.887536\tvalid_1's auc: 0.859028\n",
      "[361]\ttraining's auc: 0.887628\tvalid_1's auc: 0.859068\n",
      "[362]\ttraining's auc: 0.887649\tvalid_1's auc: 0.859063\n",
      "[363]\ttraining's auc: 0.887698\tvalid_1's auc: 0.859057\n",
      "[364]\ttraining's auc: 0.887747\tvalid_1's auc: 0.859055\n",
      "[365]\ttraining's auc: 0.887787\tvalid_1's auc: 0.859062\n",
      "[366]\ttraining's auc: 0.887829\tvalid_1's auc: 0.859061\n",
      "[367]\ttraining's auc: 0.88787\tvalid_1's auc: 0.859055\n",
      "[368]\ttraining's auc: 0.887892\tvalid_1's auc: 0.859064\n",
      "[369]\ttraining's auc: 0.887972\tvalid_1's auc: 0.859076\n",
      "[370]\ttraining's auc: 0.888043\tvalid_1's auc: 0.85906\n",
      "[371]\ttraining's auc: 0.888086\tvalid_1's auc: 0.859043\n",
      "[372]\ttraining's auc: 0.888126\tvalid_1's auc: 0.859041\n",
      "[373]\ttraining's auc: 0.888148\tvalid_1's auc: 0.859033\n",
      "[374]\ttraining's auc: 0.888172\tvalid_1's auc: 0.859032\n",
      "[375]\ttraining's auc: 0.888284\tvalid_1's auc: 0.859003\n",
      "[376]\ttraining's auc: 0.888324\tvalid_1's auc: 0.859006\n",
      "[377]\ttraining's auc: 0.888414\tvalid_1's auc: 0.859003\n",
      "[378]\ttraining's auc: 0.888507\tvalid_1's auc: 0.858989\n",
      "[379]\ttraining's auc: 0.888542\tvalid_1's auc: 0.859\n",
      "[380]\ttraining's auc: 0.888581\tvalid_1's auc: 0.859006\n",
      "[381]\ttraining's auc: 0.88863\tvalid_1's auc: 0.858995\n",
      "[382]\ttraining's auc: 0.88865\tvalid_1's auc: 0.858996\n",
      "[383]\ttraining's auc: 0.888671\tvalid_1's auc: 0.858995\n",
      "[384]\ttraining's auc: 0.888722\tvalid_1's auc: 0.859006\n",
      "[385]\ttraining's auc: 0.888771\tvalid_1's auc: 0.858999\n",
      "[386]\ttraining's auc: 0.888859\tvalid_1's auc: 0.858998\n",
      "[387]\ttraining's auc: 0.88894\tvalid_1's auc: 0.859014\n",
      "[388]\ttraining's auc: 0.889018\tvalid_1's auc: 0.859008\n",
      "[389]\ttraining's auc: 0.88912\tvalid_1's auc: 0.859021\n",
      "[390]\ttraining's auc: 0.88917\tvalid_1's auc: 0.859007\n",
      "[391]\ttraining's auc: 0.889189\tvalid_1's auc: 0.859002\n",
      "[392]\ttraining's auc: 0.88924\tvalid_1's auc: 0.858995\n",
      "[393]\ttraining's auc: 0.889259\tvalid_1's auc: 0.858996\n",
      "[394]\ttraining's auc: 0.88931\tvalid_1's auc: 0.858994\n",
      "[395]\ttraining's auc: 0.889332\tvalid_1's auc: 0.859004\n",
      "[396]\ttraining's auc: 0.889355\tvalid_1's auc: 0.859006\n",
      "[397]\ttraining's auc: 0.8894\tvalid_1's auc: 0.859011\n",
      "[398]\ttraining's auc: 0.889493\tvalid_1's auc: 0.859008\n",
      "[399]\ttraining's auc: 0.889527\tvalid_1's auc: 0.858997\n",
      "Early stopping, best iteration is:\n",
      "[369]\ttraining's auc: 0.887972\tvalid_1's auc: 0.859076\n",
      "VALID AUC : 0.8590763725985315 ACC : 0.8038725491902884\n",
      "\n"
     ]
    },
    {
     "data": {
      "application/vnd.jupyter.widget-view+json": {
       "model_id": "ecea9e4d75a84433965af3805feef011",
       "version_major": 2,
       "version_minor": 0
      },
      "text/plain": [
       "VBox(children=(Label(value='0.002 MB of 0.002 MB uploaded\\r'), FloatProgress(value=1.0, max=1.0)))"
      ]
     },
     "metadata": {},
     "output_type": "display_data"
    },
    {
     "data": {
      "text/html": [
       "<style>\n",
       "    table.wandb td:nth-child(1) { padding: 0 10px; text-align: left ; width: auto;} td:nth-child(2) {text-align: left ; width: 100%}\n",
       "    .wandb-row { display: flex; flex-direction: row; flex-wrap: wrap; justify-content: flex-start; width: 100% }\n",
       "    .wandb-col { display: flex; flex-direction: column; flex-basis: 100%; flex: 1; padding: 10px; }\n",
       "    </style>\n",
       "<div class=\"wandb-row\"><div class=\"wandb-col\"><h3>Run history:</h3><br/><table class=\"wandb\"><tr><td>accuracy</td><td>▁</td></tr><tr><td>auc</td><td>▁</td></tr><tr><td>iteration</td><td>▁▁▁▁▂▂▂▂▂▃▃▃▃▃▃▄▄▄▄▄▅▅▅▅▅▅▆▆▆▆▆▇▇▇▇▇▇███</td></tr><tr><td>training_auc</td><td>▁▃▄▄▄▄▅▅▅▅▅▆▆▆▆▆▆▆▆▇▇▇▇▇▇▇▇▇▇▇▇▇████████</td></tr><tr><td>valid_1_auc</td><td>▁▄▆▆▇▇▇▇▇▇▇█████████████████████████████</td></tr></table><br/></div><div class=\"wandb-col\"><h3>Run summary:</h3><br/><table class=\"wandb\"><tr><td>accuracy</td><td>0.80387</td></tr><tr><td>auc</td><td>0.85908</td></tr><tr><td>iteration</td><td>398</td></tr></table><br/></div></div>"
      ],
      "text/plain": [
       "<IPython.core.display.HTML object>"
      ]
     },
     "metadata": {},
     "output_type": "display_data"
    },
    {
     "data": {
      "text/html": [
       " View run <strong style=\"color:#cdcd00\">dry-sweep-1</strong> at: <a href='https://wandb.ai/boostcamp6-recsys6/lightgbm-sweep/runs/pysm9n60' target=\"_blank\">https://wandb.ai/boostcamp6-recsys6/lightgbm-sweep/runs/pysm9n60</a><br/>Synced 6 W&B file(s), 0 media file(s), 0 artifact file(s) and 0 other file(s)"
      ],
      "text/plain": [
       "<IPython.core.display.HTML object>"
      ]
     },
     "metadata": {},
     "output_type": "display_data"
    },
    {
     "data": {
      "text/html": [
       "Find logs at: <code>./wandb/run-20240124_083456-pysm9n60/logs</code>"
      ],
      "text/plain": [
       "<IPython.core.display.HTML object>"
      ]
     },
     "metadata": {},
     "output_type": "display_data"
    },
    {
     "name": "stdout",
     "output_type": "stream",
     "text": [
      "writing prediction : output/auc:0.8590763725985315 acc:0.8038725491902884sweep lgbm.csv\n",
      "                                      Feature  Importance\n",
      "0                                      userID        2319\n",
      "1                            assessmentItemID        1858\n",
      "3                                KnowledgeTag         772\n",
      "2                                      testId         750\n",
      "35                                problem_acc          60\n",
      "40                          recent_solve_time          59\n",
      "42                                   user_acc          47\n",
      "13                             ItemAnswerRate          40\n",
      "18                      UserTagAvgSolvingTime          31\n",
      "5                                 SolvingTime          30\n",
      "31                              user_test_acc          30\n",
      "15           AverageItemSolvingTime_Incorrect          30\n",
      "6                              CumulativeTime          27\n",
      "17  Difference_SolvingTime_AvgItemSolvingTime          23\n",
      "21        CumulativeUserTagExponentialAverage          20\n",
      "37                                    elapsed          19\n",
      "25                             TestAnswerRate          19\n",
      "12               CumulativeUserItemAnswerRate          15\n",
      "24                         PreviousItemAnswer          13\n",
      "36                                    tag_acc          11\n",
      "29                   user_test_correct_answer          11\n",
      "14             AverageItemSolvingTime_Correct          10\n",
      "8                                   TimeOfDay           9\n",
      "32                    user_tag_correct_answer           9\n",
      "38                              total_elapsed           9\n",
      "7                                       Month           8\n",
      "11                            Item_last30days           7\n",
      "10                             Item_last7days           6\n",
      "23                        UserRecentTagAnswer           5\n",
      "4                                     Itemseq           4\n",
      "41                  moving_average_solve_time           4\n",
      "26                     categorize_solvingTime           3\n",
      "9                         CumulativeItemCount           2\n",
      "34                                     repeat           2\n",
      "30                     user_test_total_answer           2\n",
      "33                               user_tag_acc           2\n",
      "22                     UserCumulativeTagCount           2\n",
      "20         CumulativeUserTagAverageAnswerRate           2\n",
      "39                        user_total_attempts           1\n",
      "19                              TagAnswerRate           1\n",
      "16                     AverageItemSolvingTime           1\n",
      "28    categorize_CumulativeUserItemAnswerRate           0\n",
      "27                  categorize_ItemAnswerRate           0\n"
     ]
    },
    {
     "name": "stderr",
     "output_type": "stream",
     "text": [
      "\u001b[34m\u001b[1mwandb\u001b[0m: Agent Starting Run: uqkovvi5 with config:\n",
      "\u001b[34m\u001b[1mwandb\u001b[0m: \tbagging_fraction: 0.8649380801329217\n",
      "\u001b[34m\u001b[1mwandb\u001b[0m: \tbagging_freq: 29\n",
      "\u001b[34m\u001b[1mwandb\u001b[0m: \tfeature_fraction: 0.9596953000128304\n",
      "\u001b[34m\u001b[1mwandb\u001b[0m: \tlambda_l1: 14.540770938261469\n",
      "\u001b[34m\u001b[1mwandb\u001b[0m: \tlambda_l2: 13.571888509427456\n",
      "\u001b[34m\u001b[1mwandb\u001b[0m: \tlearning_rate: 0.5471107244520856\n",
      "\u001b[34m\u001b[1mwandb\u001b[0m: \tmax_depth: 41\n",
      "\u001b[34m\u001b[1mwandb\u001b[0m: \tmin_data_in_leaf: 23\n",
      "\u001b[34m\u001b[1mwandb\u001b[0m: \tnum_leaves: 41\n",
      "\u001b[34m\u001b[1mwandb\u001b[0m: \tratio: 0.139808153679805\n",
      "\u001b[34m\u001b[1mwandb\u001b[0m: \u001b[33mWARNING\u001b[0m Ignored wandb.init() arg project when running a sweep.\n"
     ]
    },
    {
     "data": {
      "text/html": [
       "Tracking run with wandb version 0.16.2"
      ],
      "text/plain": [
       "<IPython.core.display.HTML object>"
      ]
     },
     "metadata": {},
     "output_type": "display_data"
    },
    {
     "data": {
      "text/html": [
       "Run data is saved locally in <code>/data/ephemeral/level2-dkt-recsys-06/code/boost/wandb/run-20240124_084244-uqkovvi5</code>"
      ],
      "text/plain": [
       "<IPython.core.display.HTML object>"
      ]
     },
     "metadata": {},
     "output_type": "display_data"
    },
    {
     "data": {
      "text/html": [
       "Syncing run <strong><a href='https://wandb.ai/boostcamp6-recsys6/lightgbm-sweep/runs/uqkovvi5' target=\"_blank\">fast-sweep-2</a></strong> to <a href='https://wandb.ai/boostcamp6-recsys6/lightgbm-sweep' target=\"_blank\">Weights & Biases</a> (<a href='https://wandb.me/run' target=\"_blank\">docs</a>)<br/>Sweep page: <a href='https://wandb.ai/boostcamp6-recsys6/lightgbm-sweep/sweeps/4ay6thrs' target=\"_blank\">https://wandb.ai/boostcamp6-recsys6/lightgbm-sweep/sweeps/4ay6thrs</a>"
      ],
      "text/plain": [
       "<IPython.core.display.HTML object>"
      ]
     },
     "metadata": {},
     "output_type": "display_data"
    },
    {
     "data": {
      "text/html": [
       " View project at <a href='https://wandb.ai/boostcamp6-recsys6/lightgbm-sweep' target=\"_blank\">https://wandb.ai/boostcamp6-recsys6/lightgbm-sweep</a>"
      ],
      "text/plain": [
       "<IPython.core.display.HTML object>"
      ]
     },
     "metadata": {},
     "output_type": "display_data"
    },
    {
     "data": {
      "text/html": [
       " View sweep at <a href='https://wandb.ai/boostcamp6-recsys6/lightgbm-sweep/sweeps/4ay6thrs' target=\"_blank\">https://wandb.ai/boostcamp6-recsys6/lightgbm-sweep/sweeps/4ay6thrs</a>"
      ],
      "text/plain": [
       "<IPython.core.display.HTML object>"
      ]
     },
     "metadata": {},
     "output_type": "display_data"
    },
    {
     "data": {
      "text/html": [
       " View run at <a href='https://wandb.ai/boostcamp6-recsys6/lightgbm-sweep/runs/uqkovvi5' target=\"_blank\">https://wandb.ai/boostcamp6-recsys6/lightgbm-sweep/runs/uqkovvi5</a>"
      ],
      "text/plain": [
       "<IPython.core.display.HTML object>"
      ]
     },
     "metadata": {},
     "output_type": "display_data"
    },
    {
     "name": "stdout",
     "output_type": "stream",
     "text": [
      "[LightGBM] [Warning] Met categorical feature which contains sparse values. Consider renumbering to consecutive integers started from zero\n",
      "[LightGBM] [Info] Number of positive: 1421857, number of negative: 750968\n",
      "[LightGBM] [Warning] Auto-choosing col-wise multi-threading, the overhead of testing was 0.481099 seconds.\n",
      "You can set `force_col_wise=true` to remove the overhead.\n",
      "[LightGBM] [Info] Total Bins 22991\n",
      "[LightGBM] [Info] Number of data points in the train set: 2172825, number of used features: 43\n",
      "[LightGBM] [Info] [binary:BoostFromScore]: pavg=0.654382 -> initscore=0.638356\n",
      "[LightGBM] [Info] Start training from score 0.638356\n"
     ]
    },
    {
     "name": "stderr",
     "output_type": "stream",
     "text": [
      "\u001b[34m\u001b[1mwandb\u001b[0m: \u001b[33mWARNING\u001b[0m Config item 'num_leaves' was locked by 'sweep' (ignored update).\n",
      "\u001b[34m\u001b[1mwandb\u001b[0m: \u001b[33mWARNING\u001b[0m Config item 'learning_rate' was locked by 'sweep' (ignored update).\n",
      "\u001b[34m\u001b[1mwandb\u001b[0m: \u001b[33mWARNING\u001b[0m Config item 'max_depth' was locked by 'sweep' (ignored update).\n",
      "\u001b[34m\u001b[1mwandb\u001b[0m: \u001b[33mWARNING\u001b[0m Config item 'min_data_in_leaf' was locked by 'sweep' (ignored update).\n",
      "\u001b[34m\u001b[1mwandb\u001b[0m: \u001b[33mWARNING\u001b[0m Config item 'feature_fraction' was locked by 'sweep' (ignored update).\n",
      "\u001b[34m\u001b[1mwandb\u001b[0m: \u001b[33mWARNING\u001b[0m Config item 'bagging_fraction' was locked by 'sweep' (ignored update).\n",
      "\u001b[34m\u001b[1mwandb\u001b[0m: \u001b[33mWARNING\u001b[0m Config item 'bagging_freq' was locked by 'sweep' (ignored update).\n",
      "\u001b[34m\u001b[1mwandb\u001b[0m: \u001b[33mWARNING\u001b[0m Config item 'lambda_l1' was locked by 'sweep' (ignored update).\n",
      "\u001b[34m\u001b[1mwandb\u001b[0m: \u001b[33mWARNING\u001b[0m Config item 'lambda_l2' was locked by 'sweep' (ignored update).\n"
     ]
    },
    {
     "name": "stdout",
     "output_type": "stream",
     "text": [
      "[1]\ttraining's auc: 0.826186\tvalid_1's auc: 0.826109\n",
      "Training until validation scores don't improve for 30 rounds\n",
      "[2]\ttraining's auc: 0.836537\tvalid_1's auc: 0.836113\n",
      "[3]\ttraining's auc: 0.841397\tvalid_1's auc: 0.840667\n",
      "[4]\ttraining's auc: 0.844553\tvalid_1's auc: 0.843236\n",
      "[5]\ttraining's auc: 0.847245\tvalid_1's auc: 0.845331\n",
      "[6]\ttraining's auc: 0.849578\tvalid_1's auc: 0.847085\n",
      "[7]\ttraining's auc: 0.851857\tvalid_1's auc: 0.848685\n",
      "[8]\ttraining's auc: 0.853664\tvalid_1's auc: 0.849529\n",
      "[9]\ttraining's auc: 0.855342\tvalid_1's auc: 0.850459\n",
      "[10]\ttraining's auc: 0.85687\tvalid_1's auc: 0.851282\n",
      "[11]\ttraining's auc: 0.858035\tvalid_1's auc: 0.851812\n",
      "[12]\ttraining's auc: 0.859102\tvalid_1's auc: 0.852215\n",
      "[13]\ttraining's auc: 0.859991\tvalid_1's auc: 0.85249\n",
      "[14]\ttraining's auc: 0.861314\tvalid_1's auc: 0.853105\n",
      "[15]\ttraining's auc: 0.862033\tvalid_1's auc: 0.853257\n",
      "[16]\ttraining's auc: 0.863023\tvalid_1's auc: 0.853664\n",
      "[17]\ttraining's auc: 0.86363\tvalid_1's auc: 0.853888\n",
      "[18]\ttraining's auc: 0.864382\tvalid_1's auc: 0.854145\n",
      "[19]\ttraining's auc: 0.865071\tvalid_1's auc: 0.854487\n",
      "[20]\ttraining's auc: 0.866034\tvalid_1's auc: 0.854682\n",
      "[21]\ttraining's auc: 0.866397\tvalid_1's auc: 0.854678\n",
      "[22]\ttraining's auc: 0.867043\tvalid_1's auc: 0.854797\n",
      "[23]\ttraining's auc: 0.867593\tvalid_1's auc: 0.854932\n",
      "[24]\ttraining's auc: 0.868061\tvalid_1's auc: 0.85504\n",
      "[25]\ttraining's auc: 0.868798\tvalid_1's auc: 0.855272\n",
      "[26]\ttraining's auc: 0.86947\tvalid_1's auc: 0.855307\n",
      "[27]\ttraining's auc: 0.870088\tvalid_1's auc: 0.855427\n",
      "[28]\ttraining's auc: 0.870708\tvalid_1's auc: 0.855641\n",
      "[29]\ttraining's auc: 0.871238\tvalid_1's auc: 0.855583\n",
      "[30]\ttraining's auc: 0.871559\tvalid_1's auc: 0.855624\n",
      "[31]\ttraining's auc: 0.871836\tvalid_1's auc: 0.855589\n",
      "[32]\ttraining's auc: 0.872317\tvalid_1's auc: 0.855604\n",
      "[33]\ttraining's auc: 0.872808\tvalid_1's auc: 0.855593\n",
      "[34]\ttraining's auc: 0.873317\tvalid_1's auc: 0.855808\n",
      "[35]\ttraining's auc: 0.873857\tvalid_1's auc: 0.855844\n",
      "[36]\ttraining's auc: 0.874193\tvalid_1's auc: 0.855955\n",
      "[37]\ttraining's auc: 0.874637\tvalid_1's auc: 0.855882\n",
      "[38]\ttraining's auc: 0.875062\tvalid_1's auc: 0.855882\n",
      "[39]\ttraining's auc: 0.875594\tvalid_1's auc: 0.855905\n",
      "[40]\ttraining's auc: 0.876002\tvalid_1's auc: 0.85589\n",
      "[41]\ttraining's auc: 0.876638\tvalid_1's auc: 0.856082\n",
      "[42]\ttraining's auc: 0.876932\tvalid_1's auc: 0.856174\n",
      "[43]\ttraining's auc: 0.877223\tvalid_1's auc: 0.8561\n",
      "[44]\ttraining's auc: 0.877475\tvalid_1's auc: 0.85609\n",
      "[45]\ttraining's auc: 0.877788\tvalid_1's auc: 0.85607\n",
      "[46]\ttraining's auc: 0.878315\tvalid_1's auc: 0.856031\n",
      "[47]\ttraining's auc: 0.878715\tvalid_1's auc: 0.856173\n",
      "[48]\ttraining's auc: 0.879014\tvalid_1's auc: 0.856158\n",
      "[49]\ttraining's auc: 0.879378\tvalid_1's auc: 0.856169\n",
      "[50]\ttraining's auc: 0.879792\tvalid_1's auc: 0.856169\n",
      "[51]\ttraining's auc: 0.880186\tvalid_1's auc: 0.856134\n",
      "[52]\ttraining's auc: 0.880658\tvalid_1's auc: 0.856089\n",
      "[53]\ttraining's auc: 0.880965\tvalid_1's auc: 0.856138\n",
      "[54]\ttraining's auc: 0.881344\tvalid_1's auc: 0.856129\n",
      "[55]\ttraining's auc: 0.881855\tvalid_1's auc: 0.856233\n",
      "[56]\ttraining's auc: 0.882196\tvalid_1's auc: 0.856205\n",
      "[57]\ttraining's auc: 0.882603\tvalid_1's auc: 0.856188\n",
      "[58]\ttraining's auc: 0.882915\tvalid_1's auc: 0.856145\n",
      "[59]\ttraining's auc: 0.88315\tvalid_1's auc: 0.856184\n",
      "[60]\ttraining's auc: 0.883347\tvalid_1's auc: 0.856195\n",
      "[61]\ttraining's auc: 0.883527\tvalid_1's auc: 0.856155\n",
      "[62]\ttraining's auc: 0.883956\tvalid_1's auc: 0.85617\n",
      "[63]\ttraining's auc: 0.884165\tvalid_1's auc: 0.856144\n",
      "[64]\ttraining's auc: 0.884586\tvalid_1's auc: 0.856139\n",
      "[65]\ttraining's auc: 0.885005\tvalid_1's auc: 0.856162\n",
      "[66]\ttraining's auc: 0.885297\tvalid_1's auc: 0.856135\n",
      "[67]\ttraining's auc: 0.885509\tvalid_1's auc: 0.856175\n",
      "[68]\ttraining's auc: 0.88579\tvalid_1's auc: 0.856067\n",
      "[69]\ttraining's auc: 0.885957\tvalid_1's auc: 0.856044\n",
      "[70]\ttraining's auc: 0.886348\tvalid_1's auc: 0.856107\n",
      "[71]\ttraining's auc: 0.886477\tvalid_1's auc: 0.856109\n",
      "[72]\ttraining's auc: 0.886775\tvalid_1's auc: 0.856143\n",
      "[73]\ttraining's auc: 0.887098\tvalid_1's auc: 0.856168\n",
      "[74]\ttraining's auc: 0.887383\tvalid_1's auc: 0.856115\n",
      "[75]\ttraining's auc: 0.887669\tvalid_1's auc: 0.856063\n",
      "[76]\ttraining's auc: 0.887924\tvalid_1's auc: 0.85603\n",
      "[77]\ttraining's auc: 0.888166\tvalid_1's auc: 0.855955\n",
      "[78]\ttraining's auc: 0.88836\tvalid_1's auc: 0.85593\n",
      "[79]\ttraining's auc: 0.88873\tvalid_1's auc: 0.855923\n",
      "[80]\ttraining's auc: 0.888959\tvalid_1's auc: 0.855872\n",
      "[81]\ttraining's auc: 0.889301\tvalid_1's auc: 0.855836\n",
      "[82]\ttraining's auc: 0.889477\tvalid_1's auc: 0.855812\n",
      "[83]\ttraining's auc: 0.889785\tvalid_1's auc: 0.855731\n",
      "[84]\ttraining's auc: 0.890128\tvalid_1's auc: 0.855674\n",
      "[85]\ttraining's auc: 0.890314\tvalid_1's auc: 0.855609\n",
      "Early stopping, best iteration is:\n",
      "[55]\ttraining's auc: 0.881855\tvalid_1's auc: 0.856233\n",
      "VALID AUC : 0.8562330592449632 ACC : 0.8025718501066177\n",
      "\n"
     ]
    },
    {
     "data": {
      "application/vnd.jupyter.widget-view+json": {
       "model_id": "193c6ab8126f456a9744a5cb4f1afb43",
       "version_major": 2,
       "version_minor": 0
      },
      "text/plain": [
       "VBox(children=(Label(value='0.002 MB of 0.002 MB uploaded\\r'), FloatProgress(value=1.0, max=1.0)))"
      ]
     },
     "metadata": {},
     "output_type": "display_data"
    },
    {
     "data": {
      "text/html": [
       "<style>\n",
       "    table.wandb td:nth-child(1) { padding: 0 10px; text-align: left ; width: auto;} td:nth-child(2) {text-align: left ; width: 100%}\n",
       "    .wandb-row { display: flex; flex-direction: row; flex-wrap: wrap; justify-content: flex-start; width: 100% }\n",
       "    .wandb-col { display: flex; flex-direction: column; flex-basis: 100%; flex: 1; padding: 10px; }\n",
       "    </style>\n",
       "<div class=\"wandb-row\"><div class=\"wandb-col\"><h3>Run history:</h3><br/><table class=\"wandb\"><tr><td>accuracy</td><td>▁</td></tr><tr><td>auc</td><td>▁</td></tr><tr><td>iteration</td><td>▁▁▁▁▂▂▂▂▂▃▃▃▃▃▃▄▄▄▄▄▅▅▅▅▅▅▆▆▆▆▆▇▇▇▇▇▇███</td></tr><tr><td>training_auc</td><td>▁▃▃▄▄▄▅▅▅▅▅▆▆▆▆▆▆▆▆▇▇▇▇▇▇▇▇▇▇▇▇▇████████</td></tr><tr><td>valid_1_auc</td><td>▁▄▅▆▇▇▇▇████████████████████████████████</td></tr></table><br/></div><div class=\"wandb-col\"><h3>Run summary:</h3><br/><table class=\"wandb\"><tr><td>accuracy</td><td>0.80257</td></tr><tr><td>auc</td><td>0.85623</td></tr><tr><td>iteration</td><td>84</td></tr></table><br/></div></div>"
      ],
      "text/plain": [
       "<IPython.core.display.HTML object>"
      ]
     },
     "metadata": {},
     "output_type": "display_data"
    },
    {
     "data": {
      "text/html": [
       " View run <strong style=\"color:#cdcd00\">fast-sweep-2</strong> at: <a href='https://wandb.ai/boostcamp6-recsys6/lightgbm-sweep/runs/uqkovvi5' target=\"_blank\">https://wandb.ai/boostcamp6-recsys6/lightgbm-sweep/runs/uqkovvi5</a><br/>Synced 6 W&B file(s), 0 media file(s), 0 artifact file(s) and 0 other file(s)"
      ],
      "text/plain": [
       "<IPython.core.display.HTML object>"
      ]
     },
     "metadata": {},
     "output_type": "display_data"
    },
    {
     "data": {
      "text/html": [
       "Find logs at: <code>./wandb/run-20240124_084244-uqkovvi5/logs</code>"
      ],
      "text/plain": [
       "<IPython.core.display.HTML object>"
      ]
     },
     "metadata": {},
     "output_type": "display_data"
    },
    {
     "name": "stdout",
     "output_type": "stream",
     "text": [
      "writing prediction : output/auc:0.8562330592449632 acc:0.8025718501066177sweep lgbm.csv\n",
      "                                      Feature  Importance\n",
      "0                                      userID         849\n",
      "1                            assessmentItemID         702\n",
      "2                                      testId         201\n",
      "3                                KnowledgeTag         148\n",
      "35                                problem_acc          38\n",
      "40                          recent_solve_time          36\n",
      "13                             ItemAnswerRate          21\n",
      "15           AverageItemSolvingTime_Incorrect          19\n",
      "42                                   user_acc          19\n",
      "18                      UserTagAvgSolvingTime          16\n",
      "5                                 SolvingTime          15\n",
      "25                             TestAnswerRate          14\n",
      "6                              CumulativeTime          13\n",
      "31                              user_test_acc          13\n",
      "37                                    elapsed          12\n",
      "21        CumulativeUserTagExponentialAverage           9\n",
      "12               CumulativeUserItemAnswerRate           9\n",
      "17  Difference_SolvingTime_AvgItemSolvingTime           9\n",
      "36                                    tag_acc           8\n",
      "14             AverageItemSolvingTime_Correct           7\n",
      "24                         PreviousItemAnswer           6\n",
      "29                   user_test_correct_answer           5\n",
      "7                                       Month           3\n",
      "8                                   TimeOfDay           3\n",
      "11                            Item_last30days           3\n",
      "32                    user_tag_correct_answer           3\n",
      "19                              TagAnswerRate           3\n",
      "41                  moving_average_solve_time           2\n",
      "34                                     repeat           2\n",
      "33                               user_tag_acc           2\n",
      "26                     categorize_solvingTime           2\n",
      "22                     UserCumulativeTagCount           2\n",
      "20         CumulativeUserTagAverageAnswerRate           2\n",
      "10                             Item_last7days           1\n",
      "38                              total_elapsed           1\n",
      "39                        user_total_attempts           1\n",
      "4                                     Itemseq           1\n",
      "30                     user_test_total_answer           0\n",
      "28    categorize_CumulativeUserItemAnswerRate           0\n",
      "27                  categorize_ItemAnswerRate           0\n",
      "23                        UserRecentTagAnswer           0\n",
      "16                     AverageItemSolvingTime           0\n",
      "9                         CumulativeItemCount           0\n"
     ]
    },
    {
     "name": "stderr",
     "output_type": "stream",
     "text": [
      "\u001b[34m\u001b[1mwandb\u001b[0m: Agent Starting Run: hf70ei5b with config:\n",
      "\u001b[34m\u001b[1mwandb\u001b[0m: \tbagging_fraction: 0.9006621858279473\n",
      "\u001b[34m\u001b[1mwandb\u001b[0m: \tbagging_freq: 28\n",
      "\u001b[34m\u001b[1mwandb\u001b[0m: \tfeature_fraction: 0.9669314197414324\n",
      "\u001b[34m\u001b[1mwandb\u001b[0m: \tlambda_l1: 2.170503584635073\n",
      "\u001b[34m\u001b[1mwandb\u001b[0m: \tlambda_l2: 12.42916777156044\n",
      "\u001b[34m\u001b[1mwandb\u001b[0m: \tlearning_rate: 0.35664769709991456\n",
      "\u001b[34m\u001b[1mwandb\u001b[0m: \tmax_depth: 30\n",
      "\u001b[34m\u001b[1mwandb\u001b[0m: \tmin_data_in_leaf: 120\n",
      "\u001b[34m\u001b[1mwandb\u001b[0m: \tnum_leaves: 41\n",
      "\u001b[34m\u001b[1mwandb\u001b[0m: \tratio: 0.06320421546377779\n",
      "\u001b[34m\u001b[1mwandb\u001b[0m: \u001b[33mWARNING\u001b[0m Ignored wandb.init() arg project when running a sweep.\n"
     ]
    },
    {
     "data": {
      "text/html": [
       "Tracking run with wandb version 0.16.2"
      ],
      "text/plain": [
       "<IPython.core.display.HTML object>"
      ]
     },
     "metadata": {},
     "output_type": "display_data"
    },
    {
     "data": {
      "text/html": [
       "Run data is saved locally in <code>/data/ephemeral/level2-dkt-recsys-06/code/boost/wandb/run-20240124_084558-hf70ei5b</code>"
      ],
      "text/plain": [
       "<IPython.core.display.HTML object>"
      ]
     },
     "metadata": {},
     "output_type": "display_data"
    },
    {
     "data": {
      "text/html": [
       "Syncing run <strong><a href='https://wandb.ai/boostcamp6-recsys6/lightgbm-sweep/runs/hf70ei5b' target=\"_blank\">frosty-sweep-3</a></strong> to <a href='https://wandb.ai/boostcamp6-recsys6/lightgbm-sweep' target=\"_blank\">Weights & Biases</a> (<a href='https://wandb.me/run' target=\"_blank\">docs</a>)<br/>Sweep page: <a href='https://wandb.ai/boostcamp6-recsys6/lightgbm-sweep/sweeps/4ay6thrs' target=\"_blank\">https://wandb.ai/boostcamp6-recsys6/lightgbm-sweep/sweeps/4ay6thrs</a>"
      ],
      "text/plain": [
       "<IPython.core.display.HTML object>"
      ]
     },
     "metadata": {},
     "output_type": "display_data"
    },
    {
     "data": {
      "text/html": [
       " View project at <a href='https://wandb.ai/boostcamp6-recsys6/lightgbm-sweep' target=\"_blank\">https://wandb.ai/boostcamp6-recsys6/lightgbm-sweep</a>"
      ],
      "text/plain": [
       "<IPython.core.display.HTML object>"
      ]
     },
     "metadata": {},
     "output_type": "display_data"
    },
    {
     "data": {
      "text/html": [
       " View sweep at <a href='https://wandb.ai/boostcamp6-recsys6/lightgbm-sweep/sweeps/4ay6thrs' target=\"_blank\">https://wandb.ai/boostcamp6-recsys6/lightgbm-sweep/sweeps/4ay6thrs</a>"
      ],
      "text/plain": [
       "<IPython.core.display.HTML object>"
      ]
     },
     "metadata": {},
     "output_type": "display_data"
    },
    {
     "data": {
      "text/html": [
       " View run at <a href='https://wandb.ai/boostcamp6-recsys6/lightgbm-sweep/runs/hf70ei5b' target=\"_blank\">https://wandb.ai/boostcamp6-recsys6/lightgbm-sweep/runs/hf70ei5b</a>"
      ],
      "text/plain": [
       "<IPython.core.display.HTML object>"
      ]
     },
     "metadata": {},
     "output_type": "display_data"
    },
    {
     "name": "stdout",
     "output_type": "stream",
     "text": [
      "[LightGBM] [Warning] Met categorical feature which contains sparse values. Consider renumbering to consecutive integers started from zero\n",
      "[LightGBM] [Info] Number of positive: 1549180, number of negative: 817165\n",
      "[LightGBM] [Warning] Auto-choosing row-wise multi-threading, the overhead of testing was 0.061627 seconds.\n",
      "You can set `force_row_wise=true` to remove the overhead.\n",
      "And if memory is not enough, you can set `force_col_wise=true`.\n",
      "[LightGBM] [Info] Total Bins 22951\n",
      "[LightGBM] [Info] Number of data points in the train set: 2366345, number of used features: 43\n",
      "[LightGBM] [Info] [binary:BoostFromScore]: pavg=0.654672 -> initscore=0.639640\n",
      "[LightGBM] [Info] Start training from score 0.639640\n"
     ]
    },
    {
     "name": "stderr",
     "output_type": "stream",
     "text": [
      "\u001b[34m\u001b[1mwandb\u001b[0m: \u001b[33mWARNING\u001b[0m Config item 'num_leaves' was locked by 'sweep' (ignored update).\n",
      "\u001b[34m\u001b[1mwandb\u001b[0m: \u001b[33mWARNING\u001b[0m Config item 'learning_rate' was locked by 'sweep' (ignored update).\n",
      "\u001b[34m\u001b[1mwandb\u001b[0m: \u001b[33mWARNING\u001b[0m Config item 'max_depth' was locked by 'sweep' (ignored update).\n",
      "\u001b[34m\u001b[1mwandb\u001b[0m: \u001b[33mWARNING\u001b[0m Config item 'min_data_in_leaf' was locked by 'sweep' (ignored update).\n",
      "\u001b[34m\u001b[1mwandb\u001b[0m: \u001b[33mWARNING\u001b[0m Config item 'feature_fraction' was locked by 'sweep' (ignored update).\n",
      "\u001b[34m\u001b[1mwandb\u001b[0m: \u001b[33mWARNING\u001b[0m Config item 'bagging_fraction' was locked by 'sweep' (ignored update).\n",
      "\u001b[34m\u001b[1mwandb\u001b[0m: \u001b[33mWARNING\u001b[0m Config item 'bagging_freq' was locked by 'sweep' (ignored update).\n",
      "\u001b[34m\u001b[1mwandb\u001b[0m: \u001b[33mWARNING\u001b[0m Config item 'lambda_l1' was locked by 'sweep' (ignored update).\n",
      "\u001b[34m\u001b[1mwandb\u001b[0m: \u001b[33mWARNING\u001b[0m Config item 'lambda_l2' was locked by 'sweep' (ignored update).\n"
     ]
    },
    {
     "name": "stdout",
     "output_type": "stream",
     "text": [
      "[1]\ttraining's auc: 0.826356\tvalid_1's auc: 0.826065\n",
      "Training until validation scores don't improve for 30 rounds\n",
      "[2]\ttraining's auc: 0.835137\tvalid_1's auc: 0.834804\n",
      "[3]\ttraining's auc: 0.839561\tvalid_1's auc: 0.839304\n",
      "[4]\ttraining's auc: 0.842181\tvalid_1's auc: 0.841464\n",
      "[5]\ttraining's auc: 0.844401\tvalid_1's auc: 0.843389\n",
      "[6]\ttraining's auc: 0.846676\tvalid_1's auc: 0.845254\n",
      "[7]\ttraining's auc: 0.848516\tvalid_1's auc: 0.846638\n",
      "[8]\ttraining's auc: 0.850096\tvalid_1's auc: 0.847785\n",
      "[9]\ttraining's auc: 0.851727\tvalid_1's auc: 0.848964\n",
      "[10]\ttraining's auc: 0.853133\tvalid_1's auc: 0.849813\n",
      "[11]\ttraining's auc: 0.854559\tvalid_1's auc: 0.850727\n",
      "[12]\ttraining's auc: 0.855704\tvalid_1's auc: 0.851415\n",
      "[13]\ttraining's auc: 0.856899\tvalid_1's auc: 0.85197\n",
      "[14]\ttraining's auc: 0.857943\tvalid_1's auc: 0.852371\n",
      "[15]\ttraining's auc: 0.858868\tvalid_1's auc: 0.852799\n",
      "[16]\ttraining's auc: 0.859763\tvalid_1's auc: 0.853246\n",
      "[17]\ttraining's auc: 0.860754\tvalid_1's auc: 0.853819\n",
      "[18]\ttraining's auc: 0.861404\tvalid_1's auc: 0.854099\n",
      "[19]\ttraining's auc: 0.862099\tvalid_1's auc: 0.854288\n",
      "[20]\ttraining's auc: 0.862755\tvalid_1's auc: 0.854458\n",
      "[21]\ttraining's auc: 0.863461\tvalid_1's auc: 0.854806\n",
      "[22]\ttraining's auc: 0.86432\tvalid_1's auc: 0.855249\n",
      "[23]\ttraining's auc: 0.864955\tvalid_1's auc: 0.855373\n",
      "[24]\ttraining's auc: 0.865367\tvalid_1's auc: 0.855446\n",
      "[25]\ttraining's auc: 0.865881\tvalid_1's auc: 0.855554\n",
      "[26]\ttraining's auc: 0.866386\tvalid_1's auc: 0.855655\n",
      "[27]\ttraining's auc: 0.866916\tvalid_1's auc: 0.855834\n",
      "[28]\ttraining's auc: 0.867194\tvalid_1's auc: 0.855827\n",
      "[29]\ttraining's auc: 0.867475\tvalid_1's auc: 0.855823\n",
      "[30]\ttraining's auc: 0.867875\tvalid_1's auc: 0.855891\n",
      "[31]\ttraining's auc: 0.868503\tvalid_1's auc: 0.856138\n",
      "[32]\ttraining's auc: 0.869091\tvalid_1's auc: 0.856381\n",
      "[33]\ttraining's auc: 0.869578\tvalid_1's auc: 0.856522\n",
      "[34]\ttraining's auc: 0.869924\tvalid_1's auc: 0.856582\n",
      "[35]\ttraining's auc: 0.870153\tvalid_1's auc: 0.856591\n",
      "[36]\ttraining's auc: 0.870385\tvalid_1's auc: 0.856634\n",
      "[37]\ttraining's auc: 0.870769\tvalid_1's auc: 0.856748\n",
      "[38]\ttraining's auc: 0.871296\tvalid_1's auc: 0.856824\n",
      "[39]\ttraining's auc: 0.871756\tvalid_1's auc: 0.856854\n",
      "[40]\ttraining's auc: 0.872165\tvalid_1's auc: 0.856889\n",
      "[41]\ttraining's auc: 0.872509\tvalid_1's auc: 0.8571\n",
      "[42]\ttraining's auc: 0.872937\tvalid_1's auc: 0.857239\n",
      "[43]\ttraining's auc: 0.873307\tvalid_1's auc: 0.857337\n",
      "[44]\ttraining's auc: 0.873696\tvalid_1's auc: 0.857414\n",
      "[45]\ttraining's auc: 0.874065\tvalid_1's auc: 0.857422\n",
      "[46]\ttraining's auc: 0.874366\tvalid_1's auc: 0.857441\n",
      "[47]\ttraining's auc: 0.874623\tvalid_1's auc: 0.857544\n",
      "[48]\ttraining's auc: 0.875154\tvalid_1's auc: 0.857577\n",
      "[49]\ttraining's auc: 0.875532\tvalid_1's auc: 0.857742\n",
      "[50]\ttraining's auc: 0.875886\tvalid_1's auc: 0.857745\n",
      "[51]\ttraining's auc: 0.876138\tvalid_1's auc: 0.857721\n",
      "[52]\ttraining's auc: 0.876485\tvalid_1's auc: 0.857728\n",
      "[53]\ttraining's auc: 0.876777\tvalid_1's auc: 0.857728\n",
      "[54]\ttraining's auc: 0.877132\tvalid_1's auc: 0.857847\n",
      "[55]\ttraining's auc: 0.877547\tvalid_1's auc: 0.857913\n",
      "[56]\ttraining's auc: 0.877832\tvalid_1's auc: 0.857828\n",
      "[57]\ttraining's auc: 0.878013\tvalid_1's auc: 0.85785\n",
      "[58]\ttraining's auc: 0.878186\tvalid_1's auc: 0.857814\n",
      "[59]\ttraining's auc: 0.878572\tvalid_1's auc: 0.857821\n",
      "[60]\ttraining's auc: 0.878839\tvalid_1's auc: 0.857843\n",
      "[61]\ttraining's auc: 0.879087\tvalid_1's auc: 0.857945\n",
      "[62]\ttraining's auc: 0.879381\tvalid_1's auc: 0.85797\n",
      "[63]\ttraining's auc: 0.879613\tvalid_1's auc: 0.857933\n",
      "[64]\ttraining's auc: 0.879797\tvalid_1's auc: 0.857997\n",
      "[65]\ttraining's auc: 0.879961\tvalid_1's auc: 0.857969\n",
      "[66]\ttraining's auc: 0.880135\tvalid_1's auc: 0.857957\n",
      "[67]\ttraining's auc: 0.880348\tvalid_1's auc: 0.857992\n",
      "[68]\ttraining's auc: 0.880631\tvalid_1's auc: 0.857988\n",
      "[69]\ttraining's auc: 0.880994\tvalid_1's auc: 0.857984\n",
      "[70]\ttraining's auc: 0.881343\tvalid_1's auc: 0.858043\n",
      "[71]\ttraining's auc: 0.881649\tvalid_1's auc: 0.858041\n",
      "[72]\ttraining's auc: 0.881864\tvalid_1's auc: 0.858097\n",
      "[73]\ttraining's auc: 0.882077\tvalid_1's auc: 0.85806\n",
      "[74]\ttraining's auc: 0.882345\tvalid_1's auc: 0.858048\n",
      "[75]\ttraining's auc: 0.882627\tvalid_1's auc: 0.858138\n",
      "[76]\ttraining's auc: 0.882804\tvalid_1's auc: 0.858124\n",
      "[77]\ttraining's auc: 0.88304\tvalid_1's auc: 0.858109\n",
      "[78]\ttraining's auc: 0.883261\tvalid_1's auc: 0.858071\n",
      "[79]\ttraining's auc: 0.883525\tvalid_1's auc: 0.85817\n",
      "[80]\ttraining's auc: 0.883849\tvalid_1's auc: 0.858216\n",
      "[81]\ttraining's auc: 0.884105\tvalid_1's auc: 0.8582\n",
      "[82]\ttraining's auc: 0.884314\tvalid_1's auc: 0.858203\n",
      "[83]\ttraining's auc: 0.88457\tvalid_1's auc: 0.858213\n",
      "[84]\ttraining's auc: 0.884782\tvalid_1's auc: 0.858218\n",
      "[85]\ttraining's auc: 0.88491\tvalid_1's auc: 0.858197\n",
      "[86]\ttraining's auc: 0.88506\tvalid_1's auc: 0.858159\n",
      "[87]\ttraining's auc: 0.885224\tvalid_1's auc: 0.858155\n",
      "[88]\ttraining's auc: 0.88543\tvalid_1's auc: 0.85808\n",
      "[89]\ttraining's auc: 0.88556\tvalid_1's auc: 0.858083\n",
      "[90]\ttraining's auc: 0.885702\tvalid_1's auc: 0.858083\n",
      "[91]\ttraining's auc: 0.885844\tvalid_1's auc: 0.858092\n",
      "[92]\ttraining's auc: 0.886012\tvalid_1's auc: 0.858102\n",
      "[93]\ttraining's auc: 0.886316\tvalid_1's auc: 0.858087\n",
      "[94]\ttraining's auc: 0.886539\tvalid_1's auc: 0.858042\n",
      "[95]\ttraining's auc: 0.886673\tvalid_1's auc: 0.858027\n",
      "[96]\ttraining's auc: 0.886882\tvalid_1's auc: 0.858003\n",
      "[97]\ttraining's auc: 0.887191\tvalid_1's auc: 0.85802\n",
      "[98]\ttraining's auc: 0.887491\tvalid_1's auc: 0.858139\n",
      "[99]\ttraining's auc: 0.887711\tvalid_1's auc: 0.858124\n",
      "[100]\ttraining's auc: 0.887946\tvalid_1's auc: 0.8581\n",
      "[101]\ttraining's auc: 0.888051\tvalid_1's auc: 0.858117\n",
      "[102]\ttraining's auc: 0.888197\tvalid_1's auc: 0.858113\n",
      "[103]\ttraining's auc: 0.88843\tvalid_1's auc: 0.858087\n",
      "[104]\ttraining's auc: 0.88857\tvalid_1's auc: 0.85808\n",
      "[105]\ttraining's auc: 0.888728\tvalid_1's auc: 0.858044\n",
      "[106]\ttraining's auc: 0.888988\tvalid_1's auc: 0.858033\n",
      "[107]\ttraining's auc: 0.889255\tvalid_1's auc: 0.858\n",
      "[108]\ttraining's auc: 0.889399\tvalid_1's auc: 0.857958\n",
      "[109]\ttraining's auc: 0.889551\tvalid_1's auc: 0.857967\n",
      "[110]\ttraining's auc: 0.889758\tvalid_1's auc: 0.857911\n",
      "[111]\ttraining's auc: 0.889996\tvalid_1's auc: 0.857912\n",
      "[112]\ttraining's auc: 0.89017\tvalid_1's auc: 0.857887\n",
      "[113]\ttraining's auc: 0.890306\tvalid_1's auc: 0.857903\n",
      "[114]\ttraining's auc: 0.890424\tvalid_1's auc: 0.85792\n",
      "Early stopping, best iteration is:\n",
      "[84]\ttraining's auc: 0.884782\tvalid_1's auc: 0.858218\n",
      "VALID AUC : 0.8582179561242793 ACC : 0.8042616110418455\n",
      "\n"
     ]
    },
    {
     "data": {
      "application/vnd.jupyter.widget-view+json": {
       "model_id": "c073a43d0560491faed3b6b13595f7ee",
       "version_major": 2,
       "version_minor": 0
      },
      "text/plain": [
       "VBox(children=(Label(value='0.002 MB of 0.002 MB uploaded\\r'), FloatProgress(value=1.0, max=1.0)))"
      ]
     },
     "metadata": {},
     "output_type": "display_data"
    },
    {
     "data": {
      "text/html": [
       "<style>\n",
       "    table.wandb td:nth-child(1) { padding: 0 10px; text-align: left ; width: auto;} td:nth-child(2) {text-align: left ; width: 100%}\n",
       "    .wandb-row { display: flex; flex-direction: row; flex-wrap: wrap; justify-content: flex-start; width: 100% }\n",
       "    .wandb-col { display: flex; flex-direction: column; flex-basis: 100%; flex: 1; padding: 10px; }\n",
       "    </style>\n",
       "<div class=\"wandb-row\"><div class=\"wandb-col\"><h3>Run history:</h3><br/><table class=\"wandb\"><tr><td>accuracy</td><td>▁</td></tr><tr><td>auc</td><td>▁</td></tr><tr><td>iteration</td><td>▁▁▁▁▂▂▂▂▂▃▃▃▃▃▃▄▄▄▄▄▅▅▅▅▅▅▆▆▆▆▆▇▇▇▇▇▇███</td></tr><tr><td>training_auc</td><td>▁▂▃▄▄▅▅▅▅▅▅▆▆▆▆▆▆▆▇▇▇▇▇▇▇▇▇▇▇▇▇▇████████</td></tr><tr><td>valid_1_auc</td><td>▁▄▅▆▇▇▇▇▇▇▇█████████████████████████████</td></tr></table><br/></div><div class=\"wandb-col\"><h3>Run summary:</h3><br/><table class=\"wandb\"><tr><td>accuracy</td><td>0.80426</td></tr><tr><td>auc</td><td>0.85822</td></tr><tr><td>iteration</td><td>113</td></tr></table><br/></div></div>"
      ],
      "text/plain": [
       "<IPython.core.display.HTML object>"
      ]
     },
     "metadata": {},
     "output_type": "display_data"
    },
    {
     "data": {
      "text/html": [
       " View run <strong style=\"color:#cdcd00\">frosty-sweep-3</strong> at: <a href='https://wandb.ai/boostcamp6-recsys6/lightgbm-sweep/runs/hf70ei5b' target=\"_blank\">https://wandb.ai/boostcamp6-recsys6/lightgbm-sweep/runs/hf70ei5b</a><br/>Synced 6 W&B file(s), 0 media file(s), 0 artifact file(s) and 0 other file(s)"
      ],
      "text/plain": [
       "<IPython.core.display.HTML object>"
      ]
     },
     "metadata": {},
     "output_type": "display_data"
    },
    {
     "data": {
      "text/html": [
       "Find logs at: <code>./wandb/run-20240124_084558-hf70ei5b/logs</code>"
      ],
      "text/plain": [
       "<IPython.core.display.HTML object>"
      ]
     },
     "metadata": {},
     "output_type": "display_data"
    },
    {
     "name": "stdout",
     "output_type": "stream",
     "text": [
      "writing prediction : output/auc:0.8582179561242793 acc:0.8042616110418455sweep lgbm.csv\n",
      "                                      Feature  Importance\n",
      "0                                      userID        1314\n",
      "1                            assessmentItemID        1153\n",
      "2                                      testId         256\n",
      "3                                KnowledgeTag         213\n",
      "35                                problem_acc          65\n",
      "40                          recent_solve_time          46\n",
      "5                                 SolvingTime          29\n",
      "42                                   user_acc          26\n",
      "13                             ItemAnswerRate          25\n",
      "15           AverageItemSolvingTime_Incorrect          25\n",
      "25                             TestAnswerRate          24\n",
      "37                                    elapsed          22\n",
      "18                      UserTagAvgSolvingTime          22\n",
      "31                              user_test_acc          17\n",
      "6                              CumulativeTime          16\n",
      "36                                    tag_acc          15\n",
      "17  Difference_SolvingTime_AvgItemSolvingTime          13\n",
      "12               CumulativeUserItemAnswerRate          11\n",
      "24                         PreviousItemAnswer          10\n",
      "21        CumulativeUserTagExponentialAverage          10\n",
      "11                            Item_last30days           6\n",
      "14             AverageItemSolvingTime_Correct           6\n",
      "32                    user_tag_correct_answer           6\n",
      "8                                   TimeOfDay           5\n",
      "29                   user_test_correct_answer           4\n",
      "4                                     Itemseq           3\n",
      "7                                       Month           3\n",
      "38                              total_elapsed           2\n",
      "33                               user_tag_acc           2\n",
      "20         CumulativeUserTagAverageAnswerRate           2\n",
      "23                        UserRecentTagAnswer           2\n",
      "30                     user_test_total_answer           1\n",
      "34                                     repeat           1\n",
      "9                         CumulativeItemCount           1\n",
      "10                             Item_last7days           1\n",
      "39                        user_total_attempts           1\n",
      "41                  moving_average_solve_time           1\n",
      "16                     AverageItemSolvingTime           1\n",
      "28    categorize_CumulativeUserItemAnswerRate           0\n",
      "27                  categorize_ItemAnswerRate           0\n",
      "26                     categorize_solvingTime           0\n",
      "19                              TagAnswerRate           0\n",
      "22                     UserCumulativeTagCount           0\n"
     ]
    },
    {
     "name": "stderr",
     "output_type": "stream",
     "text": [
      "\u001b[34m\u001b[1mwandb\u001b[0m: Agent Starting Run: 8izdcczn with config:\n",
      "\u001b[34m\u001b[1mwandb\u001b[0m: \tbagging_fraction: 0.7573033971584426\n",
      "\u001b[34m\u001b[1mwandb\u001b[0m: \tbagging_freq: 7\n",
      "\u001b[34m\u001b[1mwandb\u001b[0m: \tfeature_fraction: 0.7154429036676966\n",
      "\u001b[34m\u001b[1mwandb\u001b[0m: \tlambda_l1: 11.6360436223156\n",
      "\u001b[34m\u001b[1mwandb\u001b[0m: \tlambda_l2: 14.459760395540512\n",
      "\u001b[34m\u001b[1mwandb\u001b[0m: \tlearning_rate: 0.18472126555391316\n",
      "\u001b[34m\u001b[1mwandb\u001b[0m: \tmax_depth: 23\n",
      "\u001b[34m\u001b[1mwandb\u001b[0m: \tmin_data_in_leaf: 84\n",
      "\u001b[34m\u001b[1mwandb\u001b[0m: \tnum_leaves: 22\n",
      "\u001b[34m\u001b[1mwandb\u001b[0m: \tratio: 0.3816168125241584\n",
      "\u001b[34m\u001b[1mwandb\u001b[0m: \u001b[33mWARNING\u001b[0m Ignored wandb.init() arg project when running a sweep.\n"
     ]
    },
    {
     "data": {
      "text/html": [
       "Tracking run with wandb version 0.16.2"
      ],
      "text/plain": [
       "<IPython.core.display.HTML object>"
      ]
     },
     "metadata": {},
     "output_type": "display_data"
    },
    {
     "data": {
      "text/html": [
       "Run data is saved locally in <code>/data/ephemeral/level2-dkt-recsys-06/code/boost/wandb/run-20240124_085025-8izdcczn</code>"
      ],
      "text/plain": [
       "<IPython.core.display.HTML object>"
      ]
     },
     "metadata": {},
     "output_type": "display_data"
    },
    {
     "data": {
      "text/html": [
       "Syncing run <strong><a href='https://wandb.ai/boostcamp6-recsys6/lightgbm-sweep/runs/8izdcczn' target=\"_blank\">royal-sweep-4</a></strong> to <a href='https://wandb.ai/boostcamp6-recsys6/lightgbm-sweep' target=\"_blank\">Weights & Biases</a> (<a href='https://wandb.me/run' target=\"_blank\">docs</a>)<br/>Sweep page: <a href='https://wandb.ai/boostcamp6-recsys6/lightgbm-sweep/sweeps/4ay6thrs' target=\"_blank\">https://wandb.ai/boostcamp6-recsys6/lightgbm-sweep/sweeps/4ay6thrs</a>"
      ],
      "text/plain": [
       "<IPython.core.display.HTML object>"
      ]
     },
     "metadata": {},
     "output_type": "display_data"
    },
    {
     "data": {
      "text/html": [
       " View project at <a href='https://wandb.ai/boostcamp6-recsys6/lightgbm-sweep' target=\"_blank\">https://wandb.ai/boostcamp6-recsys6/lightgbm-sweep</a>"
      ],
      "text/plain": [
       "<IPython.core.display.HTML object>"
      ]
     },
     "metadata": {},
     "output_type": "display_data"
    },
    {
     "data": {
      "text/html": [
       " View sweep at <a href='https://wandb.ai/boostcamp6-recsys6/lightgbm-sweep/sweeps/4ay6thrs' target=\"_blank\">https://wandb.ai/boostcamp6-recsys6/lightgbm-sweep/sweeps/4ay6thrs</a>"
      ],
      "text/plain": [
       "<IPython.core.display.HTML object>"
      ]
     },
     "metadata": {},
     "output_type": "display_data"
    },
    {
     "data": {
      "text/html": [
       " View run at <a href='https://wandb.ai/boostcamp6-recsys6/lightgbm-sweep/runs/8izdcczn' target=\"_blank\">https://wandb.ai/boostcamp6-recsys6/lightgbm-sweep/runs/8izdcczn</a>"
      ],
      "text/plain": [
       "<IPython.core.display.HTML object>"
      ]
     },
     "metadata": {},
     "output_type": "display_data"
    },
    {
     "name": "stdout",
     "output_type": "stream",
     "text": [
      "[LightGBM] [Warning] Met categorical feature which contains sparse values. Consider renumbering to consecutive integers started from zero\n",
      "[LightGBM] [Info] Number of positive: 1022151, number of negative: 539827\n",
      "[LightGBM] [Warning] Auto-choosing row-wise multi-threading, the overhead of testing was 0.072608 seconds.\n",
      "You can set `force_row_wise=true` to remove the overhead.\n",
      "And if memory is not enough, you can set `force_col_wise=true`.\n",
      "[LightGBM] [Info] Total Bins 22982\n",
      "[LightGBM] [Info] Number of data points in the train set: 1561978, number of used features: 43\n"
     ]
    }
   ],
   "source": [
    "\n",
    "wandb.agent(sweep_id, train)"
   ]
  }
 ],
 "metadata": {
  "colab": {
   "provenance": []
  },
  "kernelspec": {
   "display_name": "Python 3 (ipykernel)",
   "language": "python",
   "name": "python3"
  },
  "language_info": {
   "codemirror_mode": {
    "name": "ipython",
    "version": 3
   },
   "file_extension": ".py",
   "mimetype": "text/x-python",
   "name": "python",
   "nbconvert_exporter": "python",
   "pygments_lexer": "ipython3",
   "version": "3.10.13"
  },
  "toc": {
   "base_numbering": 1,
   "nav_menu": {},
   "number_sections": false,
   "sideBar": true,
   "skip_h1_title": false,
   "title_cell": "Table of Contents",
   "title_sidebar": "Contents",
   "toc_cell": false,
   "toc_position": {},
   "toc_section_display": true,
   "toc_window_display": true
  }
 },
 "nbformat": 4,
 "nbformat_minor": 4
}
