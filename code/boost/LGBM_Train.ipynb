{
 "cells": [
  {
   "cell_type": "code",
   "execution_count": 1,
   "metadata": {
    "tags": []
   },
   "outputs": [],
   "source": [
    "import warnings \n",
    "warnings.filterwarnings(\"ignore\")"
   ]
  },
  {
   "cell_type": "code",
   "execution_count": 2,
   "metadata": {
    "ExecuteTime": {
     "end_time": "2021-05-24T09:49:29.375544Z",
     "start_time": "2021-05-24T09:49:28.999092Z"
    },
    "id": "Uq_TJqbdhfQu",
    "tags": []
   },
   "outputs": [],
   "source": [
    "import pandas as pd\n",
    "import os\n",
    "import random\n",
    "import numpy as np\n",
    "import yaml\n",
    "import lightgbm as lgb\n",
    "from sklearn.metrics import roc_auc_score\n",
    "from sklearn.metrics import accuracy_score\n",
    "import numpy as np\n",
    "import torch\n",
    "from datetime import datetime, timezone, timedelta\n",
    "from sklearn.model_selection import StratifiedGroupKFold\n",
    "from sklearn.preprocessing import LabelEncoder\n",
    "from wandb.lightgbm import wandb_callback, log_summary"
   ]
  },
  {
   "cell_type": "code",
   "execution_count": 3,
   "metadata": {},
   "outputs": [],
   "source": [
    "#wandb_callback 수정 \n",
    "from typing import TYPE_CHECKING, Callable\n",
    "import wandb\n",
    "from wandb.sdk.lib import telemetry as wb_telemetry\n",
    "\n",
    "MINIMIZE_METRICS = [\n",
    "    \"l1\",\n",
    "    \"l2\",\n",
    "    \"rmse\",\n",
    "    \"mape\",\n",
    "    \"huber\",\n",
    "    \"fair\",\n",
    "    \"poisson\",\n",
    "    \"gamma\",\n",
    "    \"binary_logloss\",\n",
    "]\n",
    "\n",
    "MAXIMIZE_METRICS = [\"map\", \"auc\", \"average_precision\"]\n",
    "\n",
    "def set_seeds(seed: int = 42):\n",
    "    # 랜덤 시드를 설정하여 매 코드를 실행할 때마다 동일한 결과를 얻게 합니다.\n",
    "    os.environ[\"PYTHONHASHSEED\"] = str(seed)\n",
    "    random.seed(seed)\n",
    "    np.random.seed(seed)\n",
    "    torch.manual_seed(seed)\n",
    "    torch.cuda.manual_seed(seed)\n",
    "    torch.backends.cudnn.deterministic = True\n",
    "        \n",
    "def wandb_callback(log_params=True, define_metric=True) -> Callable:\n",
    "    \"\"\"Automatically integrates LightGBM with wandb.\n",
    "\n",
    "    Arguments:\n",
    "        log_params: (boolean) if True (default) logs params passed to lightgbm.train as W&B config\n",
    "        define_metric: (boolean) if True (default) capture model performance at the best step, instead of the last step, of training in your `wandb.summary`\n",
    "\n",
    "    Passing `wandb_callback` to LightGBM will:\n",
    "      - log params passed to lightgbm.train as W&B config (default).\n",
    "      - log evaluation metrics collected by LightGBM, such as rmse, accuracy etc to Weights & Biases\n",
    "      - Capture the best metric in `wandb.summary` when `define_metric=True` (default).\n",
    "\n",
    "    Use `log_summary` as an extension of this callback.\n",
    "\n",
    "    Example:\n",
    "        ```python\n",
    "        params = {\n",
    "            'boosting_type': 'gbdt',\n",
    "            'objective': 'regression',\n",
    "            .\n",
    "        }\n",
    "        gbm = lgb.train(params,\n",
    "                        lgb_train,\n",
    "                        num_boost_round=10,\n",
    "                        valid_sets=lgb_eval,\n",
    "                        valid_names=('validation'),\n",
    "                        callbacks=[wandb_callback()])\n",
    "        ```\n",
    "    \"\"\"\n",
    "    def _define_metric(data: str, metric_name: str) -> None:\n",
    "    \n",
    "        \"\"\"Capture model performance at the best step.\n",
    "        instead of the last step, of training in your `wandb.summary`\n",
    "        \"\"\"\n",
    "        if \"loss\" in str.lower(metric_name):\n",
    "            wandb.define_metric(f\"{data}_{metric_name}\", summary=\"min\")\n",
    "        elif str.lower(metric_name) in MINIMIZE_METRICS:\n",
    "            wandb.define_metric(f\"{data}_{metric_name}\", summary=\"min\")\n",
    "        elif str.lower(metric_name) in MAXIMIZE_METRICS:\n",
    "            wandb.define_metric(f\"{data}_{metric_name}\", summary=\"max\")\n",
    "            \n",
    "    log_params_list: \"List[bool]\" = [log_params]\n",
    "    define_metric_list: \"List[bool]\" = [define_metric]\n",
    "\n",
    "    def _init(env: \"CallbackEnv\") -> None:\n",
    "        with wb_telemetry.context() as tel:\n",
    "            tel.feature.lightgbm_wandb_callback = True\n",
    "\n",
    "        wandb.config.update(env.params)\n",
    "        log_params_list[0] = False\n",
    "\n",
    "        if define_metric_list[0]:\n",
    "            for i in range(len(env.evaluation_result_list)):\n",
    "                data_type = env.evaluation_result_list[i][0]\n",
    "                metric_name = env.evaluation_result_list[i][1]\n",
    "                _define_metric(data_type, metric_name)\n",
    "\n",
    "    def _callback(env: \"CallbackEnv\") -> None:\n",
    "        if log_params_list[0]:\n",
    "            _init(env)\n",
    "        # eval_results: \"Dict[str, Dict[str, List[Any]]]\" = {}\n",
    "        # recorder = lightgbm.record_evaluation(eval_results)\n",
    "        # recorder(env)\n",
    "        eval_results = {x[0]:{x[1:][0]:x[1:][1:]} for x in env.evaluation_result_list}\n",
    "\n",
    "        for validation_key in eval_results.keys():\n",
    "            for key in eval_results[validation_key].keys():\n",
    "                 wandb.log(\n",
    "                     {validation_key + \"_\" + key: eval_results[validation_key][key][0]},\n",
    "                     commit=False,\n",
    "                 )\n",
    "        for item in eval_results:\n",
    "            if len(item) == 4:\n",
    "                wandb.log({f\"{item[0]}_{item[1]}\": item[2]}, commit=False)\n",
    "\n",
    "        # Previous log statements use commit=False. This commits them.\n",
    "        wandb.log({\"iteration\": env.iteration}, commit=True)\n",
    "\n",
    "    return _callback"
   ]
  },
  {
   "attachments": {},
   "cell_type": "markdown",
   "metadata": {
    "id": "QZlm5HSmhfQv"
   },
   "source": [
    "## Training"
   ]
  },
  {
   "cell_type": "code",
   "execution_count": 4,
   "metadata": {
    "ExecuteTime": {
     "end_time": "2021-05-24T09:49:29.678737Z",
     "start_time": "2021-05-24T09:49:29.376581Z"
    },
    "id": "s6qgJ8MLhfQw",
    "tags": []
   },
   "outputs": [
    {
     "name": "stdout",
     "output_type": "stream",
     "text": [
      "Create sweep with ID: ivz4ucvp\n",
      "Sweep URL: https://wandb.ai/boostcamp6-recsys6/lightgbm-sweep/sweeps/ivz4ucvp\n"
     ]
    }
   ],
   "source": [
    "sweep_config_path = '/data/ephemeral/level2-dkt-recsys-06/code/boost/lgbmsweepconfigv2.yaml'\n",
    "\n",
    "# 노트북의 이름 설정\n",
    "\n",
    "os.environ['WANDB_NOTEBOOK_NAME'] = 'LGBM_Train.ipynb'\n",
    "# YAML 파일 로드\n",
    "with open(sweep_config_path, 'r') as file:\n",
    "    sweep_config = yaml.safe_load(file)\n",
    "\n",
    "# W&B 스위프트 설정\n",
    "sweep_id = wandb.sweep(sweep=sweep_config, project=\"lightgbm-sweep\")\n",
    "\n",
    "# 시드 고정\n",
    "set_seeds()\n"
   ]
  },
  {
   "cell_type": "code",
   "execution_count": 5,
   "metadata": {},
   "outputs": [
    {
     "name": "stdout",
     "output_type": "stream",
     "text": [
      "userIDnum 7442\n",
      "        userID  assessmentItemID  testId  answerCode            Timestamp  \\\n",
      "1035         3          50133008   50133          -1  2020-10-26 13:13:57   \n",
      "1706         4          70146008   70146          -1  2020-12-27 02:47:54   \n",
      "3023        13          70111008   70111          -1  2020-12-27 04:35:09   \n",
      "4283        17          90064006   90064          -1  2020-10-30 05:48:37   \n",
      "4670        26          60135007   60135          -1  2020-10-23 11:44:18   \n",
      "...        ...               ...     ...         ...                  ...   \n",
      "260052    7395          40122005   40122          -1  2020-09-08 02:05:20   \n",
      "260067    7404          30111005   30111          -1  2020-10-13 09:49:18   \n",
      "260082    7416          50193004   50193          -1  2020-10-04 02:44:41   \n",
      "260097    7417          50193004   50193          -1  2020-09-06 13:09:15   \n",
      "260113    7439          40130005   40130          -1  2020-10-14 23:10:03   \n",
      "\n",
      "        KnowledgeTag  Itemseq  SolvingTime  CumulativeTime  Month  ...  \\\n",
      "1035            5289        8           46             362     10  ...   \n",
      "1706            9080        8           25             197     12  ...   \n",
      "3023            9660        8            8             112     12  ...   \n",
      "4283            2611        6           75             455     10  ...   \n",
      "4670            1422        7           22             297     10  ...   \n",
      "...              ...      ...          ...             ...    ...  ...   \n",
      "260052         10615        5            2              14      9  ...   \n",
      "260067          7636        5           45             264     10  ...   \n",
      "260082         10402        4           14              61     10  ...   \n",
      "260097         10402        4           21              84      9  ...   \n",
      "260113          8832        5           26             186     10  ...   \n",
      "\n",
      "       user_tag_acc  repeat  problem_acc   tag_acc   elapsed  total_elapsed  \\\n",
      "1035       0.818182       1     0.534400  0.559569  3.850148       5.758902   \n",
      "1706       0.666667       1     0.613333  0.546588  3.178054       5.153292   \n",
      "3023       0.333333       1     0.370400  0.494467  2.197225       4.653960   \n",
      "4283       1.000000       1     0.276000  0.419529  4.330733       5.942799   \n",
      "4670       0.666667       1     0.314400  0.609600  2.890372       5.620401   \n",
      "...             ...     ...          ...       ...       ...            ...   \n",
      "260052     0.000000       1     0.448667  0.701714  1.098612       2.564949   \n",
      "260067     0.500000       1     0.885333  0.824500  4.682131       5.393628   \n",
      "260082     0.666667       1     0.856800  0.823284  3.218876       3.871201   \n",
      "260097     0.666667       1     0.856800  0.823284  3.091042       4.158883   \n",
      "260113     0.500000       1     0.605333  0.638370  3.496508       5.081404   \n",
      "\n",
      "        user_total_attempts  recent_solve_time  moving_average_solve_time  \\\n",
      "1035                   1036               46.0                       43.0   \n",
      "1706                    671               23.0                       25.6   \n",
      "3023                   1317                8.0                        7.6   \n",
      "4283                   1260               75.0                       76.0   \n",
      "4670                    387               17.0                       50.4   \n",
      "...                     ...                ...                        ...   \n",
      "260052                   24                2.0                    11669.4   \n",
      "260067                   15              107.0                    14147.6   \n",
      "260082                   15               24.0                    11996.8   \n",
      "260097                   15               21.0                     8437.4   \n",
      "260113                   16               32.0                    11163.6   \n",
      "\n",
      "        user_acc  \n",
      "1035    0.692085  \n",
      "1706    0.692996  \n",
      "3023    0.694761  \n",
      "4283    0.818254  \n",
      "4670    0.757106  \n",
      "...          ...  \n",
      "260052  0.291667  \n",
      "260067  0.466667  \n",
      "260082  0.466667  \n",
      "260097  0.133333  \n",
      "260113  0.687500  \n",
      "\n",
      "[744 rows x 54 columns]\n",
      "False\n",
      "(260114, 54)\n"
     ]
    }
   ],
   "source": [
    "X = pd.read_csv('/data/ephemeral/level2-dkt-recsys-06/data/FE_v7.csv')\n",
    "test =  pd.read_csv('/data/ephemeral/level2-dkt-recsys-06/data/FE_test_v7.csv')\n",
    "X = X.sort_values(by=[\"userID\", \"Timestamp\", \"assessmentItemID\"]).reset_index(drop=True)\n",
    "test = test.sort_values(by=[\"userID\", \"Timestamp\", \"assessmentItemID\"]).reset_index(drop=True)\n",
    "\n",
    "# test = test[test[\"userID\"] != test[\"userID\"].shift(-1)]\n",
    "# test = test.drop([\"answerCode\"], axis=1)\n",
    "\n",
    "# 유저 아이디 갯수 구하기\n",
    "unique_user_count = X['userID'].nunique()\n",
    "\n",
    "# 유저아이디 갯수 출력\n",
    "print(f'userIDnum {unique_user_count}')\n",
    "\n",
    "# 유저아이디 마지막 행 구하기\n",
    "last_rows = test.groupby('userID').tail(1)\n",
    "print(last_rows)\n",
    "# 마지막 행의 answerCode가 -1인지 확인\n",
    "are_last_answers_minus_one = (last_rows['answerCode'] == -1).all()\n",
    "\n",
    "print(are_last_answers_minus_one)\n",
    "\n",
    "# test 모양\n",
    "print(test.shape)\n",
    "\n"
   ]
  },
  {
   "cell_type": "code",
   "execution_count": 6,
   "metadata": {},
   "outputs": [],
   "source": [
    "test = test[test[\"answerCode\"] == -1]\n",
    "X = X[X['answerCode']!=-1]"
   ]
  },
  {
   "cell_type": "code",
   "execution_count": 7,
   "metadata": {},
   "outputs": [],
   "source": [
    "\n",
    "# LabelEncoder 적용\n",
    "\n",
    "label_encoders = {}\n",
    "for column in [\n",
    "    \"categorize_ItemAnswerRate\",\n",
    "    \"categorize_TagAnswerRate\",\n",
    "    \"categorize_TestAnswerRate\",\n",
    "    \"categorize_CumulativeUserItemAnswerRate\",\n",
    "    \"categorize_CumulativeUserTagAverageAnswerRate\",\n",
    "    \"categorize_CumulativeUserTagExponentialAverage\",\n",
    "    \"DayOfWeek\",\n",
    "    \"TimeOfDay\",\n",
    "    \"categorize_TagAnswerRate\",    \n",
    "    \"UserRecentTagAnswer\",\n",
    "    \"PreviousItemAnswer\",\n",
    "    \"categorize_TestAnswerRate\",\n",
    "]:\n",
    "    le = LabelEncoder()\n",
    "    X[column] = le.fit_transform(X[column])\n",
    "    # 테스트 데이터에 대해서는 transform만 적용\n",
    "    test[column] = le.transform(test[column])\n",
    "    label_encoders[column] = le\n"
   ]
  },
  {
   "cell_type": "code",
   "execution_count": 8,
   "metadata": {},
   "outputs": [],
   "source": [
    "# print(X.shape)\n",
    "\n",
    "# # 원-핫 인코딩 적용할 컬럼 선택\n",
    "# columns_to_encode = [\n",
    "#     \"UserRecentTagAnswer\",\n",
    "#     \"PreviousItemAnswer\",\n",
    "#     # 추가적으로 원-핫 인코딩을 적용할 다른 컬럼들을 여기에 추가\n",
    "# ]\n",
    "# for column in columns_to_encode:\n",
    "#     if column in X.columns:\n",
    "#         X = pd.get_dummies(X, columns=[column])\n",
    "#     if column in test.columns:\n",
    "#         test = pd.get_dummies(test, columns=[column])\n",
    "\n",
    "#         # 다른 필드들에 대해서도 동일하게 적용\n",
    "# print(X.shape)\n",
    "\n",
    "# 라벨로 이동 \n"
   ]
  },
  {
   "cell_type": "code",
   "execution_count": 9,
   "metadata": {
    "tags": []
   },
   "outputs": [
    {
     "name": "stdout",
     "output_type": "stream",
     "text": [
      "(2525956, 54)\n",
      "(2525956, 43)\n",
      "['userID', 'assessmentItemID', 'testId', 'answerCode', 'Timestamp', 'KnowledgeTag', 'Itemseq', 'SolvingTime', 'CumulativeTime', 'Month', 'DayOfWeek', 'TimeOfDay', 'WeekOfYear', 'UserAvgSolvingTime', 'CumulativeItemCount', 'Item_last7days', 'Item_last30days', 'PastItemCount', 'CumulativeUserItemAnswerRate', 'ItemAnswerRate', 'AverageItemSolvingTime_Correct', 'AverageItemSolvingTime_Incorrect', 'AverageItemSolvingTime', 'Difference_SolvingTime_AvgItemSolvingTime', 'UserTagAvgSolvingTime', 'TagAnswerRate', 'CumulativeUserTagAverageAnswerRate', 'CumulativeUserTagExponentialAverage', 'UserCumulativeTagCount', 'UserRecentTagAnswer', 'PreviousItemAnswer', 'TestAnswerRate', 'categorize_solvingTime', 'categorize_ItemAnswerRate', 'categorize_TagAnswerRate', 'categorize_TestAnswerRate', 'categorize_CumulativeUserItemAnswerRate', 'categorize_CumulativeUserTagAverageAnswerRate', 'categorize_CumulativeUserTagExponentialAverage', 'user_test_correct_answer', 'user_test_total_answer', 'user_test_acc', 'user_tag_correct_answer', 'user_tag_total_answer', 'user_tag_acc', 'repeat', 'problem_acc', 'tag_acc', 'elapsed', 'total_elapsed', 'user_total_attempts', 'recent_solve_time', 'moving_average_solve_time', 'user_acc']\n"
     ]
    }
   ],
   "source": [
    "feat = X.columns.tolist()\n",
    "\n",
    "exclude_columns = [\n",
    "    \"Timestamp\",\n",
    "    \"answerCode\",\n",
    "    \"DayOfWeek\",\n",
    "    'WeekOfYear',\n",
    "    'UserAvgSolvingTime',\n",
    "    'PastItemCount',\n",
    "    \"user_tag_total_answer\",\n",
    "    \"categorize_CumulativeUserTagExponentialAverage\",\n",
    "    'categorize_CumulativeUserTagAverageAnswerRate',\n",
    "    \"categorize_TestAnswerRate\",\n",
    "    \"categorize_TagAnswerRate\"\n",
    "]\n",
    "\n",
    "filtered_feat = [column for column in feat if column not in exclude_columns]\n",
    "\n",
    "print(X[feat].shape)\n",
    "print(X[filtered_feat].shape)\n",
    "print(X.columns.tolist())"
   ]
  },
  {
   "cell_type": "code",
   "execution_count": 10,
   "metadata": {},
   "outputs": [],
   "source": [
    "default_config = {\n",
    "    \"num_leaves\": 10,  # 최소값 10\n",
    "    \"learning_rate\": 0.0001,  # 최소값 0.0001\n",
    "    \"max_depth\": -1,  # -1 (깊이 제한 없음)\n",
    "    \"min_data_in_leaf\": 20,  # 최소값 20\n",
    "    \"feature_fraction\": 0.6,  # 최소값 0.6\n",
    "    \"bagging_fraction\": 0.6,  # 최소값 0.6\n",
    "    \"bagging_freq\": 0,  # 최소값 0\n",
    "    \"lambda_l1\": 0.0,  # 최소값 0.0\n",
    "    \"lambda_l2\": 0.0,  # 최소값 0.0\n",
    "    \"cat_smooth\": 10,  # 최소값 10\n",
    "}\n",
    "\n"
   ]
  },
  {
   "cell_type": "code",
   "execution_count": 11,
   "metadata": {},
   "outputs": [],
   "source": [
    "\n",
    "def train():\n",
    "    \n",
    "    auc = 0\n",
    "    acc = 0\n",
    "    test_preds = np.zeros(len(test))\n",
    "    \n",
    "    ratio = 0.1\n",
    "    \n",
    "    sampled_indices = X.groupby('userID').sample(frac=ratio).index\n",
    "\n",
    "    # userID별 마지막 인덱스 찾기\n",
    "    # last_indices = X.groupby(\"userID\").tail(1).index\n",
    "\n",
    "    # 학습 데이터셋 생성\n",
    "    X_train = X.drop(sampled_indices)\n",
    "    y_train = X_train[\"answerCode\"]\n",
    "\n",
    "    # 검증 데이터셋 생성\n",
    "    X_valid = X.loc[sampled_indices]\n",
    "    y_valid = X_valid[\"answerCode\"]\n",
    "\n",
    "    lgb_train = lgb.Dataset(X_train[filtered_feat], y_train)\n",
    "    lgb_valid = lgb.Dataset(X_valid[filtered_feat], y_valid)\n",
    "\n",
    "    wandb.init(project=f\"lightgbm-sweep\", config=default_config)\n",
    "    # 완드비 실험 이름\n",
    "    wandb.run.name = f\"sampled_indices:{ratio}\"\n",
    "    current_params = {\n",
    "        \"objective\": \"binary\",\n",
    "        \"metric\": [\"auc\"],\n",
    "        \"device\": \"cpu\",\n",
    "        \"num_leaves\": wandb.config.num_leaves,\n",
    "        \"learning_rate\": wandb.config.learning_rate,\n",
    "        \"max_depth\": wandb.config.max_depth,\n",
    "        \"min_data_in_leaf\": wandb.config.min_data_in_leaf,\n",
    "        \"feature_fraction\": wandb.config.feature_fraction,\n",
    "        \"bagging_fraction\": wandb.config.bagging_fraction,\n",
    "        \"bagging_freq\": wandb.config.bagging_freq,\n",
    "        \"lambda_l1\": wandb.config.lambda_l1,\n",
    "        \"lambda_l2\": wandb.config.lambda_l2,\n",
    "        \"cat_smooth\": wandb.config.cat_smooth,\n",
    "    }\n",
    "    model = lgb.train(\n",
    "        current_params,\n",
    "        lgb_train,\n",
    "        valid_sets=[lgb_train, lgb_valid],\n",
    "        num_boost_round=500,\n",
    "        callbacks=[\n",
    "            wandb_callback(log_params=True, define_metric=True),\n",
    "            lgb.early_stopping(30),\n",
    "        ],\n",
    "        categorical_feature=[\n",
    "            \"userID\",\n",
    "            \"assessmentItemID\",\n",
    "            \"testId\",\n",
    "            \"KnowledgeTag\",\n",
    "            \"Month\"\n",
    "        ],\n",
    "    )\n",
    "    preds = model.predict(X_valid[filtered_feat])\n",
    "    acc = accuracy_score(y_valid, np.where(preds >= 0.5, 1, 0))\n",
    "    auc = roc_auc_score(y_valid, preds)\n",
    "    test_preds += model.predict(test[filtered_feat])\n",
    "    print(f\"VALID AUC : {auc} ACC : {acc}\\n\")\n",
    "    wandb.log({\"auc\": auc, \"accuracy\": acc})\n",
    "    wandb.finish()\n",
    "    \n",
    "    #output파일 생성\n",
    "    output_dir = \"output/\"\n",
    "    write_path = os.path.join(\n",
    "        output_dir,\n",
    "        f\"auc:{auc} acc:{acc}\" + \"sweep\" + \" lgbm.csv\",\n",
    "    )\n",
    "    if not os.path.exists(output_dir):\n",
    "        os.makedirs(output_dir)\n",
    "    with open(write_path, \"w\", encoding=\"utf8\") as w:\n",
    "        print(\"writing prediction : {}\".format(write_path))\n",
    "        w.write(\"id,prediction\\n\")\n",
    "        for id, p in enumerate(test_preds):\n",
    "            w.write(\"{},{}\\n\".format(id, p))\n",
    "            \n",
    "    feature_importances = model.feature_importance()\n",
    "    feature_names = model.feature_name()\n",
    "    importance_df = pd.DataFrame({'Feature': feature_names, 'Importance': feature_importances}).sort_values(by='Importance', ascending=False)\n",
    "\n",
    "    print(importance_df)"
   ]
  },
  {
   "cell_type": "code",
   "execution_count": 12,
   "metadata": {},
   "outputs": [
    {
     "name": "stderr",
     "output_type": "stream",
     "text": [
      "\u001b[34m\u001b[1mwandb\u001b[0m: Agent Starting Run: bj07sk6n with config:\n",
      "\u001b[34m\u001b[1mwandb\u001b[0m: \tbagging_fraction: 0.8046508547408826\n",
      "\u001b[34m\u001b[1mwandb\u001b[0m: \tbagging_freq: 18\n",
      "\u001b[34m\u001b[1mwandb\u001b[0m: \tfeature_fraction: 0.6512577689311791\n",
      "\u001b[34m\u001b[1mwandb\u001b[0m: \tlambda_l1: 11.77846729584565\n",
      "\u001b[34m\u001b[1mwandb\u001b[0m: \tlambda_l2: 9.780948489321048\n",
      "\u001b[34m\u001b[1mwandb\u001b[0m: \tlearning_rate: 0.5359282935139577\n",
      "\u001b[34m\u001b[1mwandb\u001b[0m: \tmax_depth: 41\n",
      "\u001b[34m\u001b[1mwandb\u001b[0m: \tmin_data_in_leaf: 25\n",
      "\u001b[34m\u001b[1mwandb\u001b[0m: \tnum_leaves: 26\n",
      "\u001b[34m\u001b[1mwandb\u001b[0m: Currently logged in as: \u001b[33mwooksbaby\u001b[0m (\u001b[33mboostcamp6-recsys6\u001b[0m). Use \u001b[1m`wandb login --relogin`\u001b[0m to force relogin\n",
      "\u001b[34m\u001b[1mwandb\u001b[0m: \u001b[33mWARNING\u001b[0m Ignored wandb.init() arg project when running a sweep.\n"
     ]
    },
    {
     "data": {
      "text/html": [
       "Tracking run with wandb version 0.16.2"
      ],
      "text/plain": [
       "<IPython.core.display.HTML object>"
      ]
     },
     "metadata": {},
     "output_type": "display_data"
    },
    {
     "data": {
      "text/html": [
       "Run data is saved locally in <code>/data/ephemeral/level2-dkt-recsys-06/code/boost/wandb/run-20240124_072429-bj07sk6n</code>"
      ],
      "text/plain": [
       "<IPython.core.display.HTML object>"
      ]
     },
     "metadata": {},
     "output_type": "display_data"
    },
    {
     "data": {
      "text/html": [
       "Syncing run <strong><a href='https://wandb.ai/boostcamp6-recsys6/lightgbm-sweep/runs/bj07sk6n' target=\"_blank\">copper-sweep-1</a></strong> to <a href='https://wandb.ai/boostcamp6-recsys6/lightgbm-sweep' target=\"_blank\">Weights & Biases</a> (<a href='https://wandb.me/run' target=\"_blank\">docs</a>)<br/>Sweep page: <a href='https://wandb.ai/boostcamp6-recsys6/lightgbm-sweep/sweeps/ivz4ucvp' target=\"_blank\">https://wandb.ai/boostcamp6-recsys6/lightgbm-sweep/sweeps/ivz4ucvp</a>"
      ],
      "text/plain": [
       "<IPython.core.display.HTML object>"
      ]
     },
     "metadata": {},
     "output_type": "display_data"
    },
    {
     "data": {
      "text/html": [
       " View project at <a href='https://wandb.ai/boostcamp6-recsys6/lightgbm-sweep' target=\"_blank\">https://wandb.ai/boostcamp6-recsys6/lightgbm-sweep</a>"
      ],
      "text/plain": [
       "<IPython.core.display.HTML object>"
      ]
     },
     "metadata": {},
     "output_type": "display_data"
    },
    {
     "data": {
      "text/html": [
       " View sweep at <a href='https://wandb.ai/boostcamp6-recsys6/lightgbm-sweep/sweeps/ivz4ucvp' target=\"_blank\">https://wandb.ai/boostcamp6-recsys6/lightgbm-sweep/sweeps/ivz4ucvp</a>"
      ],
      "text/plain": [
       "<IPython.core.display.HTML object>"
      ]
     },
     "metadata": {},
     "output_type": "display_data"
    },
    {
     "data": {
      "text/html": [
       " View run at <a href='https://wandb.ai/boostcamp6-recsys6/lightgbm-sweep/runs/bj07sk6n' target=\"_blank\">https://wandb.ai/boostcamp6-recsys6/lightgbm-sweep/runs/bj07sk6n</a>"
      ],
      "text/plain": [
       "<IPython.core.display.HTML object>"
      ]
     },
     "metadata": {},
     "output_type": "display_data"
    },
    {
     "name": "stdout",
     "output_type": "stream",
     "text": [
      "[LightGBM] [Warning] Met categorical feature which contains sparse values. Consider renumbering to consecutive integers started from zero\n",
      "[LightGBM] [Info] Number of positive: 1488312, number of negative: 785033\n",
      "[LightGBM] [Warning] Auto-choosing col-wise multi-threading, the overhead of testing was 0.344392 seconds.\n",
      "You can set `force_col_wise=true` to remove the overhead.\n",
      "[LightGBM] [Info] Total Bins 22934\n",
      "[LightGBM] [Info] Number of data points in the train set: 2273345, number of used features: 43\n",
      "[LightGBM] [Info] [binary:BoostFromScore]: pavg=0.654679 -> initscore=0.639672\n",
      "[LightGBM] [Info] Start training from score 0.639672\n"
     ]
    },
    {
     "name": "stderr",
     "output_type": "stream",
     "text": [
      "\u001b[34m\u001b[1mwandb\u001b[0m: \u001b[33mWARNING\u001b[0m Config item 'num_leaves' was locked by 'sweep' (ignored update).\n",
      "\u001b[34m\u001b[1mwandb\u001b[0m: \u001b[33mWARNING\u001b[0m Config item 'learning_rate' was locked by 'sweep' (ignored update).\n",
      "\u001b[34m\u001b[1mwandb\u001b[0m: \u001b[33mWARNING\u001b[0m Config item 'max_depth' was locked by 'sweep' (ignored update).\n",
      "\u001b[34m\u001b[1mwandb\u001b[0m: \u001b[33mWARNING\u001b[0m Config item 'min_data_in_leaf' was locked by 'sweep' (ignored update).\n",
      "\u001b[34m\u001b[1mwandb\u001b[0m: \u001b[33mWARNING\u001b[0m Config item 'feature_fraction' was locked by 'sweep' (ignored update).\n",
      "\u001b[34m\u001b[1mwandb\u001b[0m: \u001b[33mWARNING\u001b[0m Config item 'bagging_fraction' was locked by 'sweep' (ignored update).\n",
      "\u001b[34m\u001b[1mwandb\u001b[0m: \u001b[33mWARNING\u001b[0m Config item 'bagging_freq' was locked by 'sweep' (ignored update).\n",
      "\u001b[34m\u001b[1mwandb\u001b[0m: \u001b[33mWARNING\u001b[0m Config item 'lambda_l1' was locked by 'sweep' (ignored update).\n",
      "\u001b[34m\u001b[1mwandb\u001b[0m: \u001b[33mWARNING\u001b[0m Config item 'lambda_l2' was locked by 'sweep' (ignored update).\n"
     ]
    },
    {
     "name": "stdout",
     "output_type": "stream",
     "text": [
      "[1]\ttraining's auc: 0.818522\tvalid_1's auc: 0.818025\n",
      "Training until validation scores don't improve for 30 rounds\n",
      "[2]\ttraining's auc: 0.831793\tvalid_1's auc: 0.831342\n",
      "[3]\ttraining's auc: 0.837198\tvalid_1's auc: 0.836461\n",
      "[4]\ttraining's auc: 0.840671\tvalid_1's auc: 0.840027\n",
      "[5]\ttraining's auc: 0.843928\tvalid_1's auc: 0.842906\n",
      "[6]\ttraining's auc: 0.845957\tvalid_1's auc: 0.844626\n",
      "[7]\ttraining's auc: 0.847916\tvalid_1's auc: 0.846224\n",
      "[8]\ttraining's auc: 0.849301\tvalid_1's auc: 0.847161\n",
      "[9]\ttraining's auc: 0.850544\tvalid_1's auc: 0.847772\n",
      "[10]\ttraining's auc: 0.85177\tvalid_1's auc: 0.848561\n",
      "[11]\ttraining's auc: 0.852963\tvalid_1's auc: 0.849336\n",
      "[12]\ttraining's auc: 0.853776\tvalid_1's auc: 0.849648\n",
      "[13]\ttraining's auc: 0.854686\tvalid_1's auc: 0.850203\n",
      "[14]\ttraining's auc: 0.855416\tvalid_1's auc: 0.85051\n",
      "[15]\ttraining's auc: 0.855943\tvalid_1's auc: 0.850557\n",
      "[16]\ttraining's auc: 0.856731\tvalid_1's auc: 0.851016\n",
      "[17]\ttraining's auc: 0.857292\tvalid_1's auc: 0.851363\n",
      "[18]\ttraining's auc: 0.857968\tvalid_1's auc: 0.851804\n",
      "[19]\ttraining's auc: 0.858498\tvalid_1's auc: 0.852059\n",
      "[20]\ttraining's auc: 0.858865\tvalid_1's auc: 0.852155\n",
      "[21]\ttraining's auc: 0.859341\tvalid_1's auc: 0.852351\n",
      "[22]\ttraining's auc: 0.85971\tvalid_1's auc: 0.852309\n",
      "[23]\ttraining's auc: 0.859958\tvalid_1's auc: 0.852332\n",
      "[24]\ttraining's auc: 0.860418\tvalid_1's auc: 0.852436\n",
      "[25]\ttraining's auc: 0.861022\tvalid_1's auc: 0.852808\n",
      "[26]\ttraining's auc: 0.861412\tvalid_1's auc: 0.853045\n",
      "[27]\ttraining's auc: 0.861958\tvalid_1's auc: 0.853249\n",
      "[28]\ttraining's auc: 0.862307\tvalid_1's auc: 0.853306\n",
      "[29]\ttraining's auc: 0.862712\tvalid_1's auc: 0.853509\n",
      "[30]\ttraining's auc: 0.862901\tvalid_1's auc: 0.853481\n",
      "[31]\ttraining's auc: 0.863257\tvalid_1's auc: 0.853625\n",
      "[32]\ttraining's auc: 0.86343\tvalid_1's auc: 0.85363\n",
      "[33]\ttraining's auc: 0.863915\tvalid_1's auc: 0.853945\n",
      "[34]\ttraining's auc: 0.864245\tvalid_1's auc: 0.854001\n",
      "[35]\ttraining's auc: 0.864409\tvalid_1's auc: 0.853911\n",
      "[36]\ttraining's auc: 0.864875\tvalid_1's auc: 0.853899\n",
      "[37]\ttraining's auc: 0.865096\tvalid_1's auc: 0.853891\n",
      "[38]\ttraining's auc: 0.865501\tvalid_1's auc: 0.854087\n",
      "[39]\ttraining's auc: 0.865614\tvalid_1's auc: 0.854116\n",
      "[40]\ttraining's auc: 0.865785\tvalid_1's auc: 0.854085\n",
      "[41]\ttraining's auc: 0.866211\tvalid_1's auc: 0.854145\n",
      "[42]\ttraining's auc: 0.866519\tvalid_1's auc: 0.854155\n",
      "[43]\ttraining's auc: 0.8668\tvalid_1's auc: 0.854133\n",
      "[44]\ttraining's auc: 0.866901\tvalid_1's auc: 0.854127\n",
      "[45]\ttraining's auc: 0.867207\tvalid_1's auc: 0.854222\n",
      "[46]\ttraining's auc: 0.86752\tvalid_1's auc: 0.854207\n",
      "[47]\ttraining's auc: 0.867736\tvalid_1's auc: 0.854327\n",
      "[48]\ttraining's auc: 0.868073\tvalid_1's auc: 0.854548\n",
      "[49]\ttraining's auc: 0.868206\tvalid_1's auc: 0.854532\n",
      "[50]\ttraining's auc: 0.868428\tvalid_1's auc: 0.854553\n",
      "[51]\ttraining's auc: 0.868853\tvalid_1's auc: 0.854595\n",
      "[52]\ttraining's auc: 0.869137\tvalid_1's auc: 0.85462\n",
      "[53]\ttraining's auc: 0.869261\tvalid_1's auc: 0.854594\n",
      "[54]\ttraining's auc: 0.869487\tvalid_1's auc: 0.85454\n",
      "[55]\ttraining's auc: 0.86965\tvalid_1's auc: 0.854582\n",
      "[56]\ttraining's auc: 0.869768\tvalid_1's auc: 0.854535\n",
      "[57]\ttraining's auc: 0.869887\tvalid_1's auc: 0.854528\n",
      "[58]\ttraining's auc: 0.870133\tvalid_1's auc: 0.854546\n",
      "[59]\ttraining's auc: 0.870254\tvalid_1's auc: 0.854547\n",
      "[60]\ttraining's auc: 0.870423\tvalid_1's auc: 0.854557\n",
      "[61]\ttraining's auc: 0.870634\tvalid_1's auc: 0.854547\n",
      "[62]\ttraining's auc: 0.871043\tvalid_1's auc: 0.854659\n",
      "[63]\ttraining's auc: 0.871342\tvalid_1's auc: 0.854693\n",
      "[64]\ttraining's auc: 0.871572\tvalid_1's auc: 0.854673\n",
      "[65]\ttraining's auc: 0.871712\tvalid_1's auc: 0.854662\n",
      "[66]\ttraining's auc: 0.871943\tvalid_1's auc: 0.854677\n",
      "[67]\ttraining's auc: 0.872091\tvalid_1's auc: 0.854772\n",
      "[68]\ttraining's auc: 0.872392\tvalid_1's auc: 0.854887\n",
      "[69]\ttraining's auc: 0.872523\tvalid_1's auc: 0.854877\n",
      "[70]\ttraining's auc: 0.872743\tvalid_1's auc: 0.854841\n",
      "[71]\ttraining's auc: 0.872994\tvalid_1's auc: 0.854852\n",
      "[72]\ttraining's auc: 0.873235\tvalid_1's auc: 0.854784\n",
      "[73]\ttraining's auc: 0.87334\tvalid_1's auc: 0.854839\n",
      "[74]\ttraining's auc: 0.873489\tvalid_1's auc: 0.854792\n",
      "[75]\ttraining's auc: 0.87363\tvalid_1's auc: 0.854909\n",
      "[76]\ttraining's auc: 0.873805\tvalid_1's auc: 0.854866\n",
      "[77]\ttraining's auc: 0.873898\tvalid_1's auc: 0.854858\n",
      "[78]\ttraining's auc: 0.874118\tvalid_1's auc: 0.854797\n",
      "[79]\ttraining's auc: 0.874454\tvalid_1's auc: 0.854843\n",
      "[80]\ttraining's auc: 0.874671\tvalid_1's auc: 0.854962\n",
      "[81]\ttraining's auc: 0.874784\tvalid_1's auc: 0.854919\n",
      "[82]\ttraining's auc: 0.87505\tvalid_1's auc: 0.855026\n",
      "[83]\ttraining's auc: 0.875408\tvalid_1's auc: 0.855094\n",
      "[84]\ttraining's auc: 0.875562\tvalid_1's auc: 0.855072\n",
      "[85]\ttraining's auc: 0.875732\tvalid_1's auc: 0.85506\n",
      "[86]\ttraining's auc: 0.875977\tvalid_1's auc: 0.8551\n",
      "[87]\ttraining's auc: 0.876129\tvalid_1's auc: 0.855165\n",
      "[88]\ttraining's auc: 0.876369\tvalid_1's auc: 0.855059\n",
      "[89]\ttraining's auc: 0.876456\tvalid_1's auc: 0.855035\n",
      "[90]\ttraining's auc: 0.876654\tvalid_1's auc: 0.855038\n",
      "[91]\ttraining's auc: 0.876716\tvalid_1's auc: 0.855039\n",
      "[92]\ttraining's auc: 0.876838\tvalid_1's auc: 0.855041\n",
      "[93]\ttraining's auc: 0.876883\tvalid_1's auc: 0.85506\n",
      "[94]\ttraining's auc: 0.876993\tvalid_1's auc: 0.855037\n",
      "[95]\ttraining's auc: 0.877084\tvalid_1's auc: 0.854988\n",
      "[96]\ttraining's auc: 0.877238\tvalid_1's auc: 0.854956\n",
      "[97]\ttraining's auc: 0.877336\tvalid_1's auc: 0.854929\n",
      "[98]\ttraining's auc: 0.877588\tvalid_1's auc: 0.854873\n",
      "[99]\ttraining's auc: 0.877676\tvalid_1's auc: 0.854822\n",
      "[100]\ttraining's auc: 0.877754\tvalid_1's auc: 0.854798\n",
      "[101]\ttraining's auc: 0.877946\tvalid_1's auc: 0.854746\n",
      "[102]\ttraining's auc: 0.8781\tvalid_1's auc: 0.85477\n",
      "[103]\ttraining's auc: 0.878334\tvalid_1's auc: 0.85484\n",
      "[104]\ttraining's auc: 0.878469\tvalid_1's auc: 0.854851\n",
      "[105]\ttraining's auc: 0.87856\tvalid_1's auc: 0.854824\n",
      "[106]\ttraining's auc: 0.878725\tvalid_1's auc: 0.854746\n",
      "[107]\ttraining's auc: 0.878889\tvalid_1's auc: 0.854698\n",
      "[108]\ttraining's auc: 0.879006\tvalid_1's auc: 0.854662\n",
      "[109]\ttraining's auc: 0.879134\tvalid_1's auc: 0.854676\n",
      "[110]\ttraining's auc: 0.879212\tvalid_1's auc: 0.854704\n",
      "[111]\ttraining's auc: 0.879362\tvalid_1's auc: 0.854683\n",
      "[112]\ttraining's auc: 0.879473\tvalid_1's auc: 0.854676\n",
      "[113]\ttraining's auc: 0.879585\tvalid_1's auc: 0.854641\n",
      "[114]\ttraining's auc: 0.879716\tvalid_1's auc: 0.854621\n",
      "[115]\ttraining's auc: 0.879834\tvalid_1's auc: 0.854601\n",
      "[116]\ttraining's auc: 0.879932\tvalid_1's auc: 0.854601\n",
      "[117]\ttraining's auc: 0.88008\tvalid_1's auc: 0.854585\n",
      "Early stopping, best iteration is:\n",
      "[87]\ttraining's auc: 0.876129\tvalid_1's auc: 0.855165\n",
      "VALID AUC : 0.8551653085750317 ACC : 0.8008875306300992\n",
      "\n"
     ]
    },
    {
     "data": {
      "application/vnd.jupyter.widget-view+json": {
       "model_id": "04783b78460b4f82aaf2521b0a195a58",
       "version_major": 2,
       "version_minor": 0
      },
      "text/plain": [
       "VBox(children=(Label(value='0.002 MB of 0.002 MB uploaded\\r'), FloatProgress(value=1.0, max=1.0)))"
      ]
     },
     "metadata": {},
     "output_type": "display_data"
    },
    {
     "data": {
      "text/html": [
       "<style>\n",
       "    table.wandb td:nth-child(1) { padding: 0 10px; text-align: left ; width: auto;} td:nth-child(2) {text-align: left ; width: 100%}\n",
       "    .wandb-row { display: flex; flex-direction: row; flex-wrap: wrap; justify-content: flex-start; width: 100% }\n",
       "    .wandb-col { display: flex; flex-direction: column; flex-basis: 100%; flex: 1; padding: 10px; }\n",
       "    </style>\n",
       "<div class=\"wandb-row\"><div class=\"wandb-col\"><h3>Run history:</h3><br/><table class=\"wandb\"><tr><td>accuracy</td><td>▁</td></tr><tr><td>auc</td><td>▁</td></tr><tr><td>iteration</td><td>▁▁▁▁▂▂▂▂▂▃▃▃▃▃▃▄▄▄▄▄▅▅▅▅▅▅▆▆▆▆▆▇▇▇▇▇▇███</td></tr><tr><td>training_auc</td><td>▁▃▄▅▅▅▅▆▆▆▆▆▆▆▆▇▇▇▇▇▇▇▇▇▇▇▇▇▇███████████</td></tr><tr><td>valid_1_auc</td><td>▁▄▆▇▇▇▇▇▇███████████████████████████████</td></tr></table><br/></div><div class=\"wandb-col\"><h3>Run summary:</h3><br/><table class=\"wandb\"><tr><td>accuracy</td><td>0.80089</td></tr><tr><td>auc</td><td>0.85517</td></tr><tr><td>iteration</td><td>116</td></tr></table><br/></div></div>"
      ],
      "text/plain": [
       "<IPython.core.display.HTML object>"
      ]
     },
     "metadata": {},
     "output_type": "display_data"
    },
    {
     "data": {
      "text/html": [
       " View run <strong style=\"color:#cdcd00\">copper-sweep-1</strong> at: <a href='https://wandb.ai/boostcamp6-recsys6/lightgbm-sweep/runs/bj07sk6n' target=\"_blank\">https://wandb.ai/boostcamp6-recsys6/lightgbm-sweep/runs/bj07sk6n</a><br/>Synced 6 W&B file(s), 0 media file(s), 0 artifact file(s) and 0 other file(s)"
      ],
      "text/plain": [
       "<IPython.core.display.HTML object>"
      ]
     },
     "metadata": {},
     "output_type": "display_data"
    },
    {
     "data": {
      "text/html": [
       "Find logs at: <code>./wandb/run-20240124_072429-bj07sk6n/logs</code>"
      ],
      "text/plain": [
       "<IPython.core.display.HTML object>"
      ]
     },
     "metadata": {},
     "output_type": "display_data"
    },
    {
     "name": "stdout",
     "output_type": "stream",
     "text": [
      "writing prediction : output/auc:0.8551653085750317 acc:0.8008875306300992sweep lgbm.csv\n",
      "                                      Feature  Importance\n",
      "0                                      userID         663\n",
      "1                            assessmentItemID         586\n",
      "2                                      testId         336\n",
      "3                                KnowledgeTag         276\n",
      "40                          recent_solve_time          40\n",
      "35                                problem_acc          39\n",
      "42                                   user_acc          22\n",
      "31                              user_test_acc          18\n",
      "13                             ItemAnswerRate          18\n",
      "18                      UserTagAvgSolvingTime          18\n",
      "15           AverageItemSolvingTime_Incorrect          18\n",
      "5                                 SolvingTime          17\n",
      "6                              CumulativeTime          15\n",
      "37                                    elapsed          10\n",
      "25                             TestAnswerRate           9\n",
      "17  Difference_SolvingTime_AvgItemSolvingTime           9\n",
      "21        CumulativeUserTagExponentialAverage           8\n",
      "20         CumulativeUserTagAverageAnswerRate           7\n",
      "12               CumulativeUserItemAnswerRate           7\n",
      "26                     categorize_solvingTime           7\n",
      "29                   user_test_correct_answer           6\n",
      "24                         PreviousItemAnswer           5\n",
      "8                                   TimeOfDay           5\n",
      "19                              TagAnswerRate           4\n",
      "4                                     Itemseq           4\n",
      "14             AverageItemSolvingTime_Correct           4\n",
      "7                                       Month           3\n",
      "22                     UserCumulativeTagCount           3\n",
      "11                            Item_last30days           3\n",
      "10                             Item_last7days           2\n",
      "9                         CumulativeItemCount           2\n",
      "36                                    tag_acc           2\n",
      "16                     AverageItemSolvingTime           2\n",
      "32                    user_tag_correct_answer           2\n",
      "33                               user_tag_acc           1\n",
      "34                                     repeat           1\n",
      "38                              total_elapsed           1\n",
      "23                        UserRecentTagAnswer           1\n",
      "41                  moving_average_solve_time           1\n",
      "28    categorize_CumulativeUserItemAnswerRate           0\n",
      "27                  categorize_ItemAnswerRate           0\n",
      "39                        user_total_attempts           0\n",
      "30                     user_test_total_answer           0\n"
     ]
    },
    {
     "name": "stderr",
     "output_type": "stream",
     "text": [
      "\u001b[34m\u001b[1mwandb\u001b[0m: Agent Starting Run: smcjqhhf with config:\n",
      "\u001b[34m\u001b[1mwandb\u001b[0m: \tbagging_fraction: 0.7455375547894818\n",
      "\u001b[34m\u001b[1mwandb\u001b[0m: \tbagging_freq: 6\n",
      "\u001b[34m\u001b[1mwandb\u001b[0m: \tfeature_fraction: 0.5729818450491572\n",
      "\u001b[34m\u001b[1mwandb\u001b[0m: \tlambda_l1: 6.511117496583282\n",
      "\u001b[34m\u001b[1mwandb\u001b[0m: \tlambda_l2: 6.171260460057193\n",
      "\u001b[34m\u001b[1mwandb\u001b[0m: \tlearning_rate: 0.6723790893247901\n",
      "\u001b[34m\u001b[1mwandb\u001b[0m: \tmax_depth: 37\n",
      "\u001b[34m\u001b[1mwandb\u001b[0m: \tmin_data_in_leaf: 60\n",
      "\u001b[34m\u001b[1mwandb\u001b[0m: \tnum_leaves: 18\n",
      "\u001b[34m\u001b[1mwandb\u001b[0m: \u001b[33mWARNING\u001b[0m Ignored wandb.init() arg project when running a sweep.\n"
     ]
    },
    {
     "data": {
      "text/html": [
       "Tracking run with wandb version 0.16.2"
      ],
      "text/plain": [
       "<IPython.core.display.HTML object>"
      ]
     },
     "metadata": {},
     "output_type": "display_data"
    },
    {
     "data": {
      "text/html": [
       "Run data is saved locally in <code>/data/ephemeral/level2-dkt-recsys-06/code/boost/wandb/run-20240124_072725-smcjqhhf</code>"
      ],
      "text/plain": [
       "<IPython.core.display.HTML object>"
      ]
     },
     "metadata": {},
     "output_type": "display_data"
    },
    {
     "data": {
      "text/html": [
       "Syncing run <strong><a href='https://wandb.ai/boostcamp6-recsys6/lightgbm-sweep/runs/smcjqhhf' target=\"_blank\">dazzling-sweep-2</a></strong> to <a href='https://wandb.ai/boostcamp6-recsys6/lightgbm-sweep' target=\"_blank\">Weights & Biases</a> (<a href='https://wandb.me/run' target=\"_blank\">docs</a>)<br/>Sweep page: <a href='https://wandb.ai/boostcamp6-recsys6/lightgbm-sweep/sweeps/ivz4ucvp' target=\"_blank\">https://wandb.ai/boostcamp6-recsys6/lightgbm-sweep/sweeps/ivz4ucvp</a>"
      ],
      "text/plain": [
       "<IPython.core.display.HTML object>"
      ]
     },
     "metadata": {},
     "output_type": "display_data"
    },
    {
     "data": {
      "text/html": [
       " View project at <a href='https://wandb.ai/boostcamp6-recsys6/lightgbm-sweep' target=\"_blank\">https://wandb.ai/boostcamp6-recsys6/lightgbm-sweep</a>"
      ],
      "text/plain": [
       "<IPython.core.display.HTML object>"
      ]
     },
     "metadata": {},
     "output_type": "display_data"
    },
    {
     "data": {
      "text/html": [
       " View sweep at <a href='https://wandb.ai/boostcamp6-recsys6/lightgbm-sweep/sweeps/ivz4ucvp' target=\"_blank\">https://wandb.ai/boostcamp6-recsys6/lightgbm-sweep/sweeps/ivz4ucvp</a>"
      ],
      "text/plain": [
       "<IPython.core.display.HTML object>"
      ]
     },
     "metadata": {},
     "output_type": "display_data"
    },
    {
     "data": {
      "text/html": [
       " View run at <a href='https://wandb.ai/boostcamp6-recsys6/lightgbm-sweep/runs/smcjqhhf' target=\"_blank\">https://wandb.ai/boostcamp6-recsys6/lightgbm-sweep/runs/smcjqhhf</a>"
      ],
      "text/plain": [
       "<IPython.core.display.HTML object>"
      ]
     },
     "metadata": {},
     "output_type": "display_data"
    },
    {
     "name": "stdout",
     "output_type": "stream",
     "text": [
      "[LightGBM] [Warning] Met categorical feature which contains sparse values. Consider renumbering to consecutive integers started from zero\n"
     ]
    }
   ],
   "source": [
    "\n",
    "wandb.agent(sweep_id, train)"
   ]
  }
 ],
 "metadata": {
  "colab": {
   "provenance": []
  },
  "kernelspec": {
   "display_name": "Python 3 (ipykernel)",
   "language": "python",
   "name": "python3"
  },
  "language_info": {
   "codemirror_mode": {
    "name": "ipython",
    "version": 3
   },
   "file_extension": ".py",
   "mimetype": "text/x-python",
   "name": "python",
   "nbconvert_exporter": "python",
   "pygments_lexer": "ipython3",
   "version": "3.8.18"
  },
  "toc": {
   "base_numbering": 1,
   "nav_menu": {},
   "number_sections": false,
   "sideBar": true,
   "skip_h1_title": false,
   "title_cell": "Table of Contents",
   "title_sidebar": "Contents",
   "toc_cell": false,
   "toc_position": {},
   "toc_section_display": true,
   "toc_window_display": true
  }
 },
 "nbformat": 4,
 "nbformat_minor": 4
}
