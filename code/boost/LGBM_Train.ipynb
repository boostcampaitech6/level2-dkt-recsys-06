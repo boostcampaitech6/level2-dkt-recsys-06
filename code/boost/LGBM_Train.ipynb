{
 "cells": [
  {
   "cell_type": "code",
   "execution_count": 1,
   "metadata": {
    "tags": []
   },
   "outputs": [],
   "source": [
    "import warnings \n",
    "warnings.filterwarnings(\"ignore\")"
   ]
  },
  {
   "cell_type": "code",
   "execution_count": 2,
   "metadata": {
    "ExecuteTime": {
     "end_time": "2021-05-24T09:49:29.375544Z",
     "start_time": "2021-05-24T09:49:28.999092Z"
    },
    "id": "Uq_TJqbdhfQu",
    "tags": []
   },
   "outputs": [],
   "source": [
    "import pandas as pd\n",
    "import os\n",
    "import random\n",
    "import numpy as np\n",
    "import yaml\n",
    "import lightgbm as lgb\n",
    "from sklearn.metrics import roc_auc_score\n",
    "from sklearn.metrics import accuracy_score\n",
    "import numpy as np\n",
    "import torch\n",
    "from datetime import datetime, timezone, timedelta\n",
    "from sklearn.model_selection import StratifiedGroupKFold\n",
    "from sklearn.preprocessing import LabelEncoder\n",
    "from wandb.lightgbm import wandb_callback, log_summary"
   ]
  },
  {
   "cell_type": "code",
   "execution_count": 3,
   "metadata": {},
   "outputs": [],
   "source": [
    "#wandb_callback 수정 \n",
    "from typing import TYPE_CHECKING, Callable\n",
    "import wandb\n",
    "from wandb.sdk.lib import telemetry as wb_telemetry\n",
    "\n",
    "MINIMIZE_METRICS = [\n",
    "    \"l1\",\n",
    "    \"l2\",\n",
    "    \"rmse\",\n",
    "    \"mape\",\n",
    "    \"huber\",\n",
    "    \"fair\",\n",
    "    \"poisson\",\n",
    "    \"gamma\",\n",
    "    \"binary_logloss\",\n",
    "]\n",
    "\n",
    "MAXIMIZE_METRICS = [\"map\", \"auc\", \"average_precision\"]\n",
    "\n",
    "def set_seeds(seed: int = 42):\n",
    "    # 랜덤 시드를 설정하여 매 코드를 실행할 때마다 동일한 결과를 얻게 합니다.\n",
    "    os.environ[\"PYTHONHASHSEED\"] = str(seed)\n",
    "    random.seed(seed)\n",
    "    np.random.seed(seed)\n",
    "    torch.manual_seed(seed)\n",
    "    torch.cuda.manual_seed(seed)\n",
    "    torch.backends.cudnn.deterministic = True\n",
    "        \n",
    "def wandb_callback(log_params=True, define_metric=True) -> Callable:\n",
    "    \"\"\"Automatically integrates LightGBM with wandb.\n",
    "\n",
    "    Arguments:\n",
    "        log_params: (boolean) if True (default) logs params passed to lightgbm.train as W&B config\n",
    "        define_metric: (boolean) if True (default) capture model performance at the best step, instead of the last step, of training in your `wandb.summary`\n",
    "\n",
    "    Passing `wandb_callback` to LightGBM will:\n",
    "      - log params passed to lightgbm.train as W&B config (default).\n",
    "      - log evaluation metrics collected by LightGBM, such as rmse, accuracy etc to Weights & Biases\n",
    "      - Capture the best metric in `wandb.summary` when `define_metric=True` (default).\n",
    "\n",
    "    Use `log_summary` as an extension of this callback.\n",
    "\n",
    "    Example:\n",
    "        ```python\n",
    "        params = {\n",
    "            'boosting_type': 'gbdt',\n",
    "            'objective': 'regression',\n",
    "            .\n",
    "        }\n",
    "        gbm = lgb.train(params,\n",
    "                        lgb_train,\n",
    "                        num_boost_round=10,\n",
    "                        valid_sets=lgb_eval,\n",
    "                        valid_names=('validation'),\n",
    "                        callbacks=[wandb_callback()])\n",
    "        ```\n",
    "    \"\"\"\n",
    "    def _define_metric(data: str, metric_name: str) -> None:\n",
    "    \n",
    "        \"\"\"Capture model performance at the best step.\n",
    "        instead of the last step, of training in your `wandb.summary`\n",
    "        \"\"\"\n",
    "        if \"loss\" in str.lower(metric_name):\n",
    "            wandb.define_metric(f\"{data}_{metric_name}\", summary=\"min\")\n",
    "        elif str.lower(metric_name) in MINIMIZE_METRICS:\n",
    "            wandb.define_metric(f\"{data}_{metric_name}\", summary=\"min\")\n",
    "        elif str.lower(metric_name) in MAXIMIZE_METRICS:\n",
    "            wandb.define_metric(f\"{data}_{metric_name}\", summary=\"max\")\n",
    "            \n",
    "    log_params_list: \"List[bool]\" = [log_params]\n",
    "    define_metric_list: \"List[bool]\" = [define_metric]\n",
    "\n",
    "    def _init(env: \"CallbackEnv\") -> None:\n",
    "        with wb_telemetry.context() as tel:\n",
    "            tel.feature.lightgbm_wandb_callback = True\n",
    "\n",
    "        wandb.config.update(env.params)\n",
    "        log_params_list[0] = False\n",
    "\n",
    "        if define_metric_list[0]:\n",
    "            for i in range(len(env.evaluation_result_list)):\n",
    "                data_type = env.evaluation_result_list[i][0]\n",
    "                metric_name = env.evaluation_result_list[i][1]\n",
    "                _define_metric(data_type, metric_name)\n",
    "\n",
    "    def _callback(env: \"CallbackEnv\") -> None:\n",
    "        if log_params_list[0]:\n",
    "            _init(env)\n",
    "        # eval_results: \"Dict[str, Dict[str, List[Any]]]\" = {}\n",
    "        # recorder = lightgbm.record_evaluation(eval_results)\n",
    "        # recorder(env)\n",
    "        eval_results = {x[0]:{x[1:][0]:x[1:][1:]} for x in env.evaluation_result_list}\n",
    "\n",
    "        for validation_key in eval_results.keys():\n",
    "            for key in eval_results[validation_key].keys():\n",
    "                 wandb.log(\n",
    "                     {validation_key + \"_\" + key: eval_results[validation_key][key][0]},\n",
    "                     commit=False,\n",
    "                 )\n",
    "        for item in eval_results:\n",
    "            if len(item) == 4:\n",
    "                wandb.log({f\"{item[0]}_{item[1]}\": item[2]}, commit=False)\n",
    "\n",
    "        # Previous log statements use commit=False. This commits them.\n",
    "        wandb.log({\"iteration\": env.iteration}, commit=True)\n",
    "\n",
    "    return _callback"
   ]
  },
  {
   "attachments": {},
   "cell_type": "markdown",
   "metadata": {
    "id": "QZlm5HSmhfQv"
   },
   "source": [
    "## Training"
   ]
  },
  {
   "cell_type": "code",
   "execution_count": 4,
   "metadata": {
    "ExecuteTime": {
     "end_time": "2021-05-24T09:49:29.678737Z",
     "start_time": "2021-05-24T09:49:29.376581Z"
    },
    "id": "s6qgJ8MLhfQw",
    "tags": []
   },
   "outputs": [
    {
     "name": "stdout",
     "output_type": "stream",
     "text": [
      "Create sweep with ID: r2twjdzb\n",
      "Sweep URL: https://wandb.ai/boostcamp6-recsys6/lightgbm-sweep/sweeps/r2twjdzb\n"
     ]
    }
   ],
   "source": [
    "sweep_config_path = '/data/ephemeral/level2-dkt-recsys-06/code/boost/lgbmsweepconfigv2.yaml'\n",
    "\n",
    "# 노트북의 이름 설정\n",
    "\n",
    "os.environ['WANDB_NOTEBOOK_NAME'] = 'LGBM_Train.ipynb'\n",
    "# YAML 파일 로드\n",
    "with open(sweep_config_path, 'r') as file:\n",
    "    sweep_config = yaml.safe_load(file)\n",
    "\n",
    "# W&B 스위프트 설정\n",
    "sweep_id = wandb.sweep(sweep=sweep_config, project=\"lightgbm-sweep\")\n",
    "\n",
    "# 시드 고정\n",
    "set_seeds()\n"
   ]
  },
  {
   "cell_type": "code",
   "execution_count": 5,
   "metadata": {},
   "outputs": [
    {
     "name": "stdout",
     "output_type": "stream",
     "text": [
      "userIDnum 7442\n",
      "        userID  assessmentItemID  testId  answerCode            Timestamp  \\\n",
      "1035         3          50133008   50133          -1  2020-10-26 13:13:57   \n",
      "1706         4          70146008   70146          -1  2020-12-27 02:47:54   \n",
      "3023        13          70111008   70111          -1  2020-12-27 04:35:09   \n",
      "4283        17          90064006   90064          -1  2020-10-30 05:48:37   \n",
      "4670        26          60135007   60135          -1  2020-10-23 11:44:18   \n",
      "...        ...               ...     ...         ...                  ...   \n",
      "260052    7395          40122005   40122          -1  2020-09-08 02:05:20   \n",
      "260067    7404          30111005   30111          -1  2020-10-13 09:49:18   \n",
      "260082    7416          50193004   50193          -1  2020-10-04 02:44:41   \n",
      "260097    7417          50193004   50193          -1  2020-09-06 13:09:15   \n",
      "260113    7439          40130005   40130          -1  2020-10-14 23:10:03   \n",
      "\n",
      "        KnowledgeTag  Itemseq  SolvingTime  CumulativeTime  Month  ...  \\\n",
      "1035            5289        8           46             362     10  ...   \n",
      "1706            9080        8           25             197     12  ...   \n",
      "3023            9660        8            8             112     12  ...   \n",
      "4283            2611        6           75             455     10  ...   \n",
      "4670            1422        7           22             297     10  ...   \n",
      "...              ...      ...          ...             ...    ...  ...   \n",
      "260052         10615        5            2              14      9  ...   \n",
      "260067          7636        5           45             264     10  ...   \n",
      "260082         10402        4           14              61     10  ...   \n",
      "260097         10402        4           21              84      9  ...   \n",
      "260113          8832        5           26             186     10  ...   \n",
      "\n",
      "       user_tag_acc  repeat  problem_acc   tag_acc   elapsed  total_elapsed  \\\n",
      "1035       0.818182       1     0.534400  0.559569  3.850148       5.758902   \n",
      "1706       0.666667       1     0.613333  0.546588  3.178054       5.153292   \n",
      "3023       0.333333       1     0.370400  0.494467  2.197225       4.653960   \n",
      "4283       1.000000       1     0.276000  0.419529  4.330733       5.942799   \n",
      "4670       0.666667       1     0.314400  0.609600  2.890372       5.620401   \n",
      "...             ...     ...          ...       ...       ...            ...   \n",
      "260052     0.000000       1     0.448667  0.701714  1.098612       2.564949   \n",
      "260067     0.500000       1     0.885333  0.824500  4.682131       5.393628   \n",
      "260082     0.666667       1     0.856800  0.823284  3.218876       3.871201   \n",
      "260097     0.666667       1     0.856800  0.823284  3.091042       4.158883   \n",
      "260113     0.500000       1     0.605333  0.638370  3.496508       5.081404   \n",
      "\n",
      "        user_total_attempts  recent_solve_time  moving_average_solve_time  \\\n",
      "1035                   1036               46.0                       43.0   \n",
      "1706                    671               23.0                       25.6   \n",
      "3023                   1317                8.0                        7.6   \n",
      "4283                   1260               75.0                       76.0   \n",
      "4670                    387               17.0                       50.4   \n",
      "...                     ...                ...                        ...   \n",
      "260052                   24                2.0                    11669.4   \n",
      "260067                   15              107.0                    14147.6   \n",
      "260082                   15               24.0                    11996.8   \n",
      "260097                   15               21.0                     8437.4   \n",
      "260113                   16               32.0                    11163.6   \n",
      "\n",
      "        user_acc  \n",
      "1035    0.692085  \n",
      "1706    0.692996  \n",
      "3023    0.694761  \n",
      "4283    0.818254  \n",
      "4670    0.757106  \n",
      "...          ...  \n",
      "260052  0.291667  \n",
      "260067  0.466667  \n",
      "260082  0.466667  \n",
      "260097  0.133333  \n",
      "260113  0.687500  \n",
      "\n",
      "[744 rows x 54 columns]\n",
      "False\n",
      "(260114, 54)\n"
     ]
    }
   ],
   "source": [
    "X = pd.read_csv('/data/ephemeral/level2-dkt-recsys-06/data/FE_v7.csv')\n",
    "test =  pd.read_csv('/data/ephemeral/level2-dkt-recsys-06/data/FE_test_v7.csv')\n",
    "X = X.sort_values(by=[\"userID\", \"Timestamp\", \"assessmentItemID\"]).reset_index(drop=True)\n",
    "test = test.sort_values(by=[\"userID\", \"Timestamp\", \"assessmentItemID\"]).reset_index(drop=True)\n",
    "\n",
    "# test = test[test[\"userID\"] != test[\"userID\"].shift(-1)]\n",
    "# test = test.drop([\"answerCode\"], axis=1)\n",
    "\n",
    "# 유저 아이디 갯수 구하기\n",
    "unique_user_count = X['userID'].nunique()\n",
    "\n",
    "# 유저아이디 갯수 출력\n",
    "print(f'userIDnum {unique_user_count}')\n",
    "\n",
    "# 유저아이디 마지막 행 구하기\n",
    "last_rows = test.groupby('userID').tail(1)\n",
    "print(last_rows)\n",
    "# 마지막 행의 answerCode가 -1인지 확인\n",
    "are_last_answers_minus_one = (last_rows['answerCode'] == -1).all()\n",
    "\n",
    "print(are_last_answers_minus_one)\n",
    "\n",
    "# test 모양\n",
    "print(test.shape)\n",
    "\n"
   ]
  },
  {
   "cell_type": "code",
   "execution_count": 6,
   "metadata": {},
   "outputs": [],
   "source": [
    "test = test[test[\"answerCode\"] == -1]\n",
    "X = X[X['answerCode']!=-1]"
   ]
  },
  {
   "cell_type": "code",
   "execution_count": 7,
   "metadata": {},
   "outputs": [],
   "source": [
    "\n",
    "# LabelEncoder 적용\n",
    "\n",
    "label_encoders = {}\n",
    "for column in [\n",
    "    \"categorize_ItemAnswerRate\",\n",
    "    \"categorize_TagAnswerRate\",\n",
    "    \"categorize_TestAnswerRate\",\n",
    "    \"categorize_CumulativeUserItemAnswerRate\",\n",
    "    \"categorize_CumulativeUserTagAverageAnswerRate\",\n",
    "    \"categorize_CumulativeUserTagExponentialAverage\",\n",
    "    \"DayOfWeek\",\n",
    "    \"TimeOfDay\",\n",
    "    \"categorize_TagAnswerRate\",    \n",
    "    \"UserRecentTagAnswer\",\n",
    "    \"PreviousItemAnswer\",\n",
    "    \"categorize_TestAnswerRate\",\n",
    "]:\n",
    "    le = LabelEncoder()\n",
    "    X[column] = le.fit_transform(X[column])\n",
    "    # 테스트 데이터에 대해서는 transform만 적용\n",
    "    test[column] = le.transform(test[column])\n",
    "    label_encoders[column] = le\n"
   ]
  },
  {
   "cell_type": "code",
   "execution_count": 8,
   "metadata": {},
   "outputs": [],
   "source": [
    "# print(X.shape)\n",
    "\n",
    "# # 원-핫 인코딩 적용할 컬럼 선택\n",
    "# columns_to_encode = [\n",
    "#     \"UserRecentTagAnswer\",\n",
    "#     \"PreviousItemAnswer\",\n",
    "#     # 추가적으로 원-핫 인코딩을 적용할 다른 컬럼들을 여기에 추가\n",
    "# ]\n",
    "# for column in columns_to_encode:\n",
    "#     if column in X.columns:\n",
    "#         X = pd.get_dummies(X, columns=[column])\n",
    "#     if column in test.columns:\n",
    "#         test = pd.get_dummies(test, columns=[column])\n",
    "\n",
    "#         # 다른 필드들에 대해서도 동일하게 적용\n",
    "# print(X.shape)\n",
    "\n",
    "# 라벨로 이동 \n"
   ]
  },
  {
   "cell_type": "code",
   "execution_count": 9,
   "metadata": {
    "tags": []
   },
   "outputs": [
    {
     "name": "stdout",
     "output_type": "stream",
     "text": [
      "(2525956, 54)\n",
      "(2525956, 43)\n",
      "['userID', 'assessmentItemID', 'testId', 'answerCode', 'Timestamp', 'KnowledgeTag', 'Itemseq', 'SolvingTime', 'CumulativeTime', 'Month', 'DayOfWeek', 'TimeOfDay', 'WeekOfYear', 'UserAvgSolvingTime', 'CumulativeItemCount', 'Item_last7days', 'Item_last30days', 'PastItemCount', 'CumulativeUserItemAnswerRate', 'ItemAnswerRate', 'AverageItemSolvingTime_Correct', 'AverageItemSolvingTime_Incorrect', 'AverageItemSolvingTime', 'Difference_SolvingTime_AvgItemSolvingTime', 'UserTagAvgSolvingTime', 'TagAnswerRate', 'CumulativeUserTagAverageAnswerRate', 'CumulativeUserTagExponentialAverage', 'UserCumulativeTagCount', 'UserRecentTagAnswer', 'PreviousItemAnswer', 'TestAnswerRate', 'categorize_solvingTime', 'categorize_ItemAnswerRate', 'categorize_TagAnswerRate', 'categorize_TestAnswerRate', 'categorize_CumulativeUserItemAnswerRate', 'categorize_CumulativeUserTagAverageAnswerRate', 'categorize_CumulativeUserTagExponentialAverage', 'user_test_correct_answer', 'user_test_total_answer', 'user_test_acc', 'user_tag_correct_answer', 'user_tag_total_answer', 'user_tag_acc', 'repeat', 'problem_acc', 'tag_acc', 'elapsed', 'total_elapsed', 'user_total_attempts', 'recent_solve_time', 'moving_average_solve_time', 'user_acc']\n"
     ]
    }
   ],
   "source": [
    "feat = X.columns.tolist()\n",
    "\n",
    "exclude_columns = [\n",
    "    \"Timestamp\",\n",
    "    \"answerCode\",\n",
    "    \"DayOfWeek\",\n",
    "    'WeekOfYear',\n",
    "    'UserAvgSolvingTime',\n",
    "    'PastItemCount',\n",
    "    \"user_tag_total_answer\",\n",
    "    \"categorize_CumulativeUserTagExponentialAverage\",\n",
    "    'categorize_CumulativeUserTagAverageAnswerRate',\n",
    "    \"categorize_TestAnswerRate\",\n",
    "    \"categorize_TagAnswerRate\"\n",
    "]\n",
    "\n",
    "filtered_feat = [column for column in feat if column not in exclude_columns]\n",
    "\n",
    "print(X[feat].shape)\n",
    "print(X[filtered_feat].shape)\n",
    "print(X.columns.tolist())"
   ]
  },
  {
   "cell_type": "code",
   "execution_count": 10,
   "metadata": {},
   "outputs": [],
   "source": [
    "default_config = {\n",
    "    \"num_leaves\": 10,  # 최소값 10\n",
    "    \"learning_rate\": 0.0001,  # 최소값 0.0001\n",
    "    \"max_depth\": -1,  # -1 (깊이 제한 없음)\n",
    "    \"min_data_in_leaf\": 20,  # 최소값 20\n",
    "    \"feature_fraction\": 0.6,  # 최소값 0.6\n",
    "    \"bagging_fraction\": 0.6,  # 최소값 0.6\n",
    "    \"bagging_freq\": 0,  # 최소값 0\n",
    "    \"lambda_l1\": 0.0,  # 최소값 0.0\n",
    "    \"lambda_l2\": 0.0,  # 최소값 0.0\n",
    "    \"cat_smooth\": 10,  # 최소값 10\n",
    "}\n",
    "\n"
   ]
  },
  {
   "cell_type": "code",
   "execution_count": 11,
   "metadata": {},
   "outputs": [],
   "source": [
    "\n",
    "def train():\n",
    "    \n",
    "    auc = 0\n",
    "    acc = 0\n",
    "    test_preds = np.zeros(len(test))\n",
    "    \n",
    "    \n",
    "    sampled_indices = X.groupby('userID').sample(frac=0.2).index\n",
    "\n",
    "    # userID별 마지막 인덱스 찾기\n",
    "    # last_indices = X.groupby(\"userID\").tail(1).index\n",
    "\n",
    "    # 학습 데이터셋 생성\n",
    "    X_train = X.drop(sampled_indices)\n",
    "    y_train = X_train[\"answerCode\"]\n",
    "\n",
    "    # 검증 데이터셋 생성\n",
    "    X_valid = X.loc[sampled_indices]\n",
    "    y_valid = X_valid[\"answerCode\"]\n",
    "\n",
    "    lgb_train = lgb.Dataset(X_train[filtered_feat], y_train)\n",
    "    lgb_valid = lgb.Dataset(X_valid[filtered_feat], y_valid)\n",
    "\n",
    "    wandb.init(project=f\"lightgbm-sweep\", config=default_config)\n",
    "    wandb.run.name = f\"nofoldlgbm\"\n",
    "    current_params = {\n",
    "        \"objective\": \"binary\",\n",
    "        \"metric\": [\"auc\"],\n",
    "        \"device\": \"cpu\",\n",
    "        \"num_leaves\": wandb.config.num_leaves,\n",
    "        \"learning_rate\": wandb.config.learning_rate,\n",
    "        \"max_depth\": wandb.config.max_depth,\n",
    "        \"min_data_in_leaf\": wandb.config.min_data_in_leaf,\n",
    "        \"feature_fraction\": wandb.config.feature_fraction,\n",
    "        \"bagging_fraction\": wandb.config.bagging_fraction,\n",
    "        \"bagging_freq\": wandb.config.bagging_freq,\n",
    "        \"lambda_l1\": wandb.config.lambda_l1,\n",
    "        \"lambda_l2\": wandb.config.lambda_l2,\n",
    "        \"cat_smooth\": wandb.config.cat_smooth,\n",
    "    }\n",
    "    model = lgb.train(\n",
    "        current_params,\n",
    "        lgb_train,\n",
    "        valid_sets=[lgb_train, lgb_valid],\n",
    "        num_boost_round=500,\n",
    "        callbacks=[\n",
    "            wandb_callback(log_params=True, define_metric=True),\n",
    "            lgb.early_stopping(30),\n",
    "        ],\n",
    "        categorical_feature=[\n",
    "            \"userID\",\n",
    "            \"assessmentItemID\",\n",
    "            \"testId\",\n",
    "            \"KnowledgeTag\",\n",
    "            \"Month\"\n",
    "        ],\n",
    "    )\n",
    "    preds = model.predict(X_valid[filtered_feat])\n",
    "    acc = accuracy_score(y_valid, np.where(preds >= 0.5, 1, 0))\n",
    "    auc = roc_auc_score(y_valid, preds)\n",
    "    test_preds += model.predict(test[filtered_feat])\n",
    "    print(f\"VALID AUC : {auc} ACC : {acc}\\n\")\n",
    "    wandb.log({\"auc\": auc, \"accuracy\": acc})\n",
    "    output_dir = \"output/\"\n",
    "    write_path = os.path.join(\n",
    "        output_dir,\n",
    "        f\"auc:{auc} acc:{acc}\" + \"sweep\" + \" lgbm.csv\",\n",
    "    )\n",
    "    if not os.path.exists(output_dir):\n",
    "        os.makedirs(output_dir)\n",
    "    with open(write_path, \"w\", encoding=\"utf8\") as w:\n",
    "        print(\"writing prediction : {}\".format(write_path))\n",
    "        w.write(\"id,prediction\\n\")\n",
    "        for id, p in enumerate(test_preds):\n",
    "            w.write(\"{},{}\\n\".format(id, p))\n",
    "            \n",
    "    feature_importances = model.feature_importance()\n",
    "    feature_names = model.feature_name()\n",
    "    importance_df = pd.DataFrame({'Feature': feature_names, 'Importance': feature_importances}).sort_values(by='Importance', ascending=False)\n",
    "\n",
    "    print(importance_df)"
   ]
  },
  {
   "cell_type": "code",
   "execution_count": 12,
   "metadata": {},
   "outputs": [
    {
     "name": "stderr",
     "output_type": "stream",
     "text": [
      "\u001b[34m\u001b[1mwandb\u001b[0m: Agent Starting Run: loy20q50 with config:\n",
      "\u001b[34m\u001b[1mwandb\u001b[0m: \tbagging_fraction: 0.807402458327157\n",
      "\u001b[34m\u001b[1mwandb\u001b[0m: \tbagging_freq: 22\n",
      "\u001b[34m\u001b[1mwandb\u001b[0m: \tfeature_fraction: 0.7646322674960475\n",
      "\u001b[34m\u001b[1mwandb\u001b[0m: \tlambda_l1: 13.65236495769416\n",
      "\u001b[34m\u001b[1mwandb\u001b[0m: \tlambda_l2: 8.223160188953639\n",
      "\u001b[34m\u001b[1mwandb\u001b[0m: \tlearning_rate: 0.34516061244560814\n",
      "\u001b[34m\u001b[1mwandb\u001b[0m: \tmax_depth: 35\n",
      "\u001b[34m\u001b[1mwandb\u001b[0m: \tmin_data_in_leaf: 39\n",
      "\u001b[34m\u001b[1mwandb\u001b[0m: \tnum_leaves: 18\n",
      "\u001b[34m\u001b[1mwandb\u001b[0m: Currently logged in as: \u001b[33mwooksbaby\u001b[0m (\u001b[33mboostcamp6-recsys6\u001b[0m). Use \u001b[1m`wandb login --relogin`\u001b[0m to force relogin\n",
      "\u001b[34m\u001b[1mwandb\u001b[0m: \u001b[33mWARNING\u001b[0m Ignored wandb.init() arg project when running a sweep.\n"
     ]
    },
    {
     "data": {
      "text/html": [
       "Tracking run with wandb version 0.16.2"
      ],
      "text/plain": [
       "<IPython.core.display.HTML object>"
      ]
     },
     "metadata": {},
     "output_type": "display_data"
    },
    {
     "data": {
      "text/html": [
       "Run data is saved locally in <code>/data/ephemeral/level2-dkt-recsys-06/code/boost/wandb/run-20240124_060539-loy20q50</code>"
      ],
      "text/plain": [
       "<IPython.core.display.HTML object>"
      ]
     },
     "metadata": {},
     "output_type": "display_data"
    },
    {
     "data": {
      "text/html": [
       "Syncing run <strong><a href='https://wandb.ai/boostcamp6-recsys6/lightgbm-sweep/runs/loy20q50' target=\"_blank\">elated-sweep-1</a></strong> to <a href='https://wandb.ai/boostcamp6-recsys6/lightgbm-sweep' target=\"_blank\">Weights & Biases</a> (<a href='https://wandb.me/run' target=\"_blank\">docs</a>)<br/>Sweep page: <a href='https://wandb.ai/boostcamp6-recsys6/lightgbm-sweep/sweeps/r2twjdzb' target=\"_blank\">https://wandb.ai/boostcamp6-recsys6/lightgbm-sweep/sweeps/r2twjdzb</a>"
      ],
      "text/plain": [
       "<IPython.core.display.HTML object>"
      ]
     },
     "metadata": {},
     "output_type": "display_data"
    },
    {
     "data": {
      "text/html": [
       " View project at <a href='https://wandb.ai/boostcamp6-recsys6/lightgbm-sweep' target=\"_blank\">https://wandb.ai/boostcamp6-recsys6/lightgbm-sweep</a>"
      ],
      "text/plain": [
       "<IPython.core.display.HTML object>"
      ]
     },
     "metadata": {},
     "output_type": "display_data"
    },
    {
     "data": {
      "text/html": [
       " View sweep at <a href='https://wandb.ai/boostcamp6-recsys6/lightgbm-sweep/sweeps/r2twjdzb' target=\"_blank\">https://wandb.ai/boostcamp6-recsys6/lightgbm-sweep/sweeps/r2twjdzb</a>"
      ],
      "text/plain": [
       "<IPython.core.display.HTML object>"
      ]
     },
     "metadata": {},
     "output_type": "display_data"
    },
    {
     "data": {
      "text/html": [
       " View run at <a href='https://wandb.ai/boostcamp6-recsys6/lightgbm-sweep/runs/loy20q50' target=\"_blank\">https://wandb.ai/boostcamp6-recsys6/lightgbm-sweep/runs/loy20q50</a>"
      ],
      "text/plain": [
       "<IPython.core.display.HTML object>"
      ]
     },
     "metadata": {},
     "output_type": "display_data"
    },
    {
     "name": "stdout",
     "output_type": "stream",
     "text": [
      "[LightGBM] [Warning] Met categorical feature which contains sparse values. Consider renumbering to consecutive integers started from zero\n",
      "[LightGBM] [Info] Number of positive: 1649973, number of negative: 868541\n",
      "[LightGBM] [Warning] Auto-choosing row-wise multi-threading, the overhead of testing was 0.083361 seconds.\n",
      "You can set `force_row_wise=true` to remove the overhead.\n",
      "And if memory is not enough, you can set `force_col_wise=true`.\n",
      "[LightGBM] [Info] Total Bins 22915\n",
      "[LightGBM] [Info] Number of data points in the train set: 2518514, number of used features: 43\n",
      "[LightGBM] [Info] [binary:BoostFromScore]: pavg=0.655138 -> initscore=0.641699\n",
      "[LightGBM] [Info] Start training from score 0.641699\n"
     ]
    },
    {
     "name": "stderr",
     "output_type": "stream",
     "text": [
      "\u001b[34m\u001b[1mwandb\u001b[0m: \u001b[33mWARNING\u001b[0m Config item 'num_leaves' was locked by 'sweep' (ignored update).\n",
      "\u001b[34m\u001b[1mwandb\u001b[0m: \u001b[33mWARNING\u001b[0m Config item 'learning_rate' was locked by 'sweep' (ignored update).\n",
      "\u001b[34m\u001b[1mwandb\u001b[0m: \u001b[33mWARNING\u001b[0m Config item 'max_depth' was locked by 'sweep' (ignored update).\n",
      "\u001b[34m\u001b[1mwandb\u001b[0m: \u001b[33mWARNING\u001b[0m Config item 'min_data_in_leaf' was locked by 'sweep' (ignored update).\n",
      "\u001b[34m\u001b[1mwandb\u001b[0m: \u001b[33mWARNING\u001b[0m Config item 'feature_fraction' was locked by 'sweep' (ignored update).\n",
      "\u001b[34m\u001b[1mwandb\u001b[0m: \u001b[33mWARNING\u001b[0m Config item 'bagging_fraction' was locked by 'sweep' (ignored update).\n",
      "\u001b[34m\u001b[1mwandb\u001b[0m: \u001b[33mWARNING\u001b[0m Config item 'bagging_freq' was locked by 'sweep' (ignored update).\n",
      "\u001b[34m\u001b[1mwandb\u001b[0m: \u001b[33mWARNING\u001b[0m Config item 'lambda_l1' was locked by 'sweep' (ignored update).\n",
      "\u001b[34m\u001b[1mwandb\u001b[0m: \u001b[33mWARNING\u001b[0m Config item 'lambda_l2' was locked by 'sweep' (ignored update).\n"
     ]
    },
    {
     "name": "stdout",
     "output_type": "stream",
     "text": [
      "[1]\ttraining's auc: 0.813461\tvalid_1's auc: 0.786163\n",
      "Training until validation scores don't improve for 30 rounds\n",
      "[2]\ttraining's auc: 0.827477\tvalid_1's auc: 0.799917\n",
      "[3]\ttraining's auc: 0.832455\tvalid_1's auc: 0.804357\n",
      "[4]\ttraining's auc: 0.834932\tvalid_1's auc: 0.805964\n",
      "[5]\ttraining's auc: 0.837546\tvalid_1's auc: 0.808406\n",
      "[6]\ttraining's auc: 0.839662\tvalid_1's auc: 0.811545\n",
      "[7]\ttraining's auc: 0.841548\tvalid_1's auc: 0.813097\n",
      "[8]\ttraining's auc: 0.843117\tvalid_1's auc: 0.814675\n",
      "[9]\ttraining's auc: 0.844323\tvalid_1's auc: 0.816249\n",
      "[10]\ttraining's auc: 0.84576\tvalid_1's auc: 0.818031\n",
      "[11]\ttraining's auc: 0.846818\tvalid_1's auc: 0.819486\n",
      "[12]\ttraining's auc: 0.847811\tvalid_1's auc: 0.819863\n",
      "[13]\ttraining's auc: 0.848853\tvalid_1's auc: 0.820578\n",
      "[14]\ttraining's auc: 0.84951\tvalid_1's auc: 0.821385\n",
      "[15]\ttraining's auc: 0.850209\tvalid_1's auc: 0.822012\n",
      "[16]\ttraining's auc: 0.851032\tvalid_1's auc: 0.823234\n",
      "[17]\ttraining's auc: 0.851589\tvalid_1's auc: 0.823445\n",
      "[18]\ttraining's auc: 0.852036\tvalid_1's auc: 0.823901\n",
      "[19]\ttraining's auc: 0.852567\tvalid_1's auc: 0.82402\n",
      "[20]\ttraining's auc: 0.853124\tvalid_1's auc: 0.824987\n",
      "[21]\ttraining's auc: 0.853588\tvalid_1's auc: 0.825231\n",
      "[22]\ttraining's auc: 0.85396\tvalid_1's auc: 0.825435\n",
      "[23]\ttraining's auc: 0.854343\tvalid_1's auc: 0.825584\n",
      "[24]\ttraining's auc: 0.854649\tvalid_1's auc: 0.825979\n",
      "[25]\ttraining's auc: 0.855028\tvalid_1's auc: 0.82621\n",
      "[26]\ttraining's auc: 0.855299\tvalid_1's auc: 0.826616\n",
      "[27]\ttraining's auc: 0.855543\tvalid_1's auc: 0.826526\n",
      "[28]\ttraining's auc: 0.855949\tvalid_1's auc: 0.827055\n",
      "[29]\ttraining's auc: 0.856339\tvalid_1's auc: 0.827359\n",
      "[30]\ttraining's auc: 0.856674\tvalid_1's auc: 0.827673\n",
      "[31]\ttraining's auc: 0.856911\tvalid_1's auc: 0.828099\n",
      "[32]\ttraining's auc: 0.857087\tvalid_1's auc: 0.82835\n",
      "[33]\ttraining's auc: 0.857543\tvalid_1's auc: 0.828569\n",
      "[34]\ttraining's auc: 0.857819\tvalid_1's auc: 0.828668\n",
      "[35]\ttraining's auc: 0.858066\tvalid_1's auc: 0.828722\n",
      "[36]\ttraining's auc: 0.858224\tvalid_1's auc: 0.828771\n",
      "[37]\ttraining's auc: 0.858567\tvalid_1's auc: 0.828671\n",
      "[38]\ttraining's auc: 0.858931\tvalid_1's auc: 0.829118\n",
      "[39]\ttraining's auc: 0.859115\tvalid_1's auc: 0.82907\n",
      "[40]\ttraining's auc: 0.859272\tvalid_1's auc: 0.829162\n",
      "[41]\ttraining's auc: 0.859399\tvalid_1's auc: 0.829119\n",
      "[42]\ttraining's auc: 0.859775\tvalid_1's auc: 0.82951\n",
      "[43]\ttraining's auc: 0.859924\tvalid_1's auc: 0.829461\n",
      "[44]\ttraining's auc: 0.860238\tvalid_1's auc: 0.829394\n",
      "[45]\ttraining's auc: 0.86038\tvalid_1's auc: 0.829459\n",
      "[46]\ttraining's auc: 0.860529\tvalid_1's auc: 0.829264\n",
      "[47]\ttraining's auc: 0.860687\tvalid_1's auc: 0.829213\n",
      "[48]\ttraining's auc: 0.860788\tvalid_1's auc: 0.829158\n",
      "[49]\ttraining's auc: 0.860997\tvalid_1's auc: 0.829177\n",
      "[50]\ttraining's auc: 0.861093\tvalid_1's auc: 0.829108\n",
      "[51]\ttraining's auc: 0.861193\tvalid_1's auc: 0.828963\n",
      "[52]\ttraining's auc: 0.861558\tvalid_1's auc: 0.82911\n",
      "[53]\ttraining's auc: 0.86182\tvalid_1's auc: 0.829275\n",
      "[54]\ttraining's auc: 0.862024\tvalid_1's auc: 0.829621\n",
      "[55]\ttraining's auc: 0.862224\tvalid_1's auc: 0.83\n",
      "[56]\ttraining's auc: 0.862356\tvalid_1's auc: 0.829941\n",
      "[57]\ttraining's auc: 0.862542\tvalid_1's auc: 0.829945\n",
      "[58]\ttraining's auc: 0.862772\tvalid_1's auc: 0.829959\n",
      "[59]\ttraining's auc: 0.86303\tvalid_1's auc: 0.829753\n",
      "[60]\ttraining's auc: 0.863118\tvalid_1's auc: 0.829801\n",
      "[61]\ttraining's auc: 0.863405\tvalid_1's auc: 0.829925\n",
      "[62]\ttraining's auc: 0.863492\tvalid_1's auc: 0.829868\n",
      "[63]\ttraining's auc: 0.86357\tvalid_1's auc: 0.829807\n",
      "[64]\ttraining's auc: 0.86381\tvalid_1's auc: 0.829749\n",
      "[65]\ttraining's auc: 0.864113\tvalid_1's auc: 0.829849\n",
      "[66]\ttraining's auc: 0.864341\tvalid_1's auc: 0.830087\n",
      "[67]\ttraining's auc: 0.864453\tvalid_1's auc: 0.830237\n",
      "[68]\ttraining's auc: 0.864535\tvalid_1's auc: 0.830232\n",
      "[69]\ttraining's auc: 0.864632\tvalid_1's auc: 0.830099\n",
      "[70]\ttraining's auc: 0.864766\tvalid_1's auc: 0.830019\n",
      "[71]\ttraining's auc: 0.864846\tvalid_1's auc: 0.830068\n",
      "[72]\ttraining's auc: 0.865051\tvalid_1's auc: 0.830254\n",
      "[73]\ttraining's auc: 0.865121\tvalid_1's auc: 0.830347\n",
      "[74]\ttraining's auc: 0.865196\tvalid_1's auc: 0.830305\n",
      "[75]\ttraining's auc: 0.865417\tvalid_1's auc: 0.830369\n",
      "[76]\ttraining's auc: 0.865468\tvalid_1's auc: 0.830293\n",
      "[77]\ttraining's auc: 0.865706\tvalid_1's auc: 0.830348\n",
      "[78]\ttraining's auc: 0.865893\tvalid_1's auc: 0.830512\n",
      "[79]\ttraining's auc: 0.866104\tvalid_1's auc: 0.830621\n",
      "[80]\ttraining's auc: 0.866276\tvalid_1's auc: 0.830545\n",
      "[81]\ttraining's auc: 0.866353\tvalid_1's auc: 0.830518\n",
      "[82]\ttraining's auc: 0.866496\tvalid_1's auc: 0.830427\n",
      "[83]\ttraining's auc: 0.86667\tvalid_1's auc: 0.8305\n",
      "[84]\ttraining's auc: 0.866751\tvalid_1's auc: 0.830431\n",
      "[85]\ttraining's auc: 0.866954\tvalid_1's auc: 0.830467\n",
      "[86]\ttraining's auc: 0.867135\tvalid_1's auc: 0.830626\n",
      "[87]\ttraining's auc: 0.867263\tvalid_1's auc: 0.830694\n",
      "[88]\ttraining's auc: 0.867413\tvalid_1's auc: 0.830633\n",
      "[89]\ttraining's auc: 0.86749\tvalid_1's auc: 0.830634\n",
      "[90]\ttraining's auc: 0.867555\tvalid_1's auc: 0.830551\n",
      "[91]\ttraining's auc: 0.867617\tvalid_1's auc: 0.83057\n",
      "[92]\ttraining's auc: 0.86767\tvalid_1's auc: 0.83052\n",
      "[93]\ttraining's auc: 0.867752\tvalid_1's auc: 0.830502\n",
      "[94]\ttraining's auc: 0.867817\tvalid_1's auc: 0.830448\n",
      "[95]\ttraining's auc: 0.868022\tvalid_1's auc: 0.830541\n",
      "[96]\ttraining's auc: 0.868235\tvalid_1's auc: 0.830628\n",
      "[97]\ttraining's auc: 0.868423\tvalid_1's auc: 0.830622\n",
      "[98]\ttraining's auc: 0.86855\tvalid_1's auc: 0.830659\n",
      "[99]\ttraining's auc: 0.868718\tvalid_1's auc: 0.830757\n",
      "[100]\ttraining's auc: 0.868847\tvalid_1's auc: 0.830757\n",
      "[101]\ttraining's auc: 0.869017\tvalid_1's auc: 0.830697\n",
      "[102]\ttraining's auc: 0.869146\tvalid_1's auc: 0.830934\n",
      "[103]\ttraining's auc: 0.869214\tvalid_1's auc: 0.830923\n",
      "[104]\ttraining's auc: 0.869336\tvalid_1's auc: 0.830885\n",
      "[105]\ttraining's auc: 0.869388\tvalid_1's auc: 0.830967\n",
      "[106]\ttraining's auc: 0.869624\tvalid_1's auc: 0.830972\n",
      "[107]\ttraining's auc: 0.869803\tvalid_1's auc: 0.830982\n",
      "[108]\ttraining's auc: 0.869961\tvalid_1's auc: 0.831021\n",
      "[109]\ttraining's auc: 0.870024\tvalid_1's auc: 0.830997\n",
      "[110]\ttraining's auc: 0.870146\tvalid_1's auc: 0.831075\n",
      "[111]\ttraining's auc: 0.870213\tvalid_1's auc: 0.830928\n",
      "[112]\ttraining's auc: 0.870267\tvalid_1's auc: 0.830796\n",
      "[113]\ttraining's auc: 0.870309\tvalid_1's auc: 0.830699\n",
      "[114]\ttraining's auc: 0.87046\tvalid_1's auc: 0.830749\n",
      "[115]\ttraining's auc: 0.870543\tvalid_1's auc: 0.830784\n",
      "[116]\ttraining's auc: 0.87059\tvalid_1's auc: 0.830701\n",
      "[117]\ttraining's auc: 0.870658\tvalid_1's auc: 0.830736\n",
      "[118]\ttraining's auc: 0.870807\tvalid_1's auc: 0.830781\n",
      "[119]\ttraining's auc: 0.870864\tvalid_1's auc: 0.830911\n",
      "[120]\ttraining's auc: 0.870914\tvalid_1's auc: 0.8309\n",
      "[121]\ttraining's auc: 0.871027\tvalid_1's auc: 0.831129\n",
      "[122]\ttraining's auc: 0.87106\tvalid_1's auc: 0.831064\n",
      "[123]\ttraining's auc: 0.87122\tvalid_1's auc: 0.831347\n",
      "[124]\ttraining's auc: 0.871374\tvalid_1's auc: 0.83157\n",
      "[125]\ttraining's auc: 0.871509\tvalid_1's auc: 0.831557\n",
      "[126]\ttraining's auc: 0.871698\tvalid_1's auc: 0.831698\n",
      "[127]\ttraining's auc: 0.871845\tvalid_1's auc: 0.831551\n",
      "[128]\ttraining's auc: 0.872029\tvalid_1's auc: 0.83155\n",
      "[129]\ttraining's auc: 0.872152\tvalid_1's auc: 0.831507\n",
      "[130]\ttraining's auc: 0.872247\tvalid_1's auc: 0.831523\n",
      "[131]\ttraining's auc: 0.872388\tvalid_1's auc: 0.831567\n",
      "[132]\ttraining's auc: 0.872517\tvalid_1's auc: 0.831567\n",
      "[133]\ttraining's auc: 0.872601\tvalid_1's auc: 0.831371\n",
      "[134]\ttraining's auc: 0.872645\tvalid_1's auc: 0.831368\n",
      "[135]\ttraining's auc: 0.872713\tvalid_1's auc: 0.831267\n",
      "[136]\ttraining's auc: 0.872745\tvalid_1's auc: 0.831232\n",
      "[137]\ttraining's auc: 0.872816\tvalid_1's auc: 0.831288\n",
      "[138]\ttraining's auc: 0.872874\tvalid_1's auc: 0.831256\n",
      "[139]\ttraining's auc: 0.872911\tvalid_1's auc: 0.83121\n",
      "[140]\ttraining's auc: 0.873011\tvalid_1's auc: 0.831074\n",
      "[141]\ttraining's auc: 0.873125\tvalid_1's auc: 0.83103\n",
      "[142]\ttraining's auc: 0.873367\tvalid_1's auc: 0.83142\n",
      "[143]\ttraining's auc: 0.8734\tvalid_1's auc: 0.831368\n",
      "[144]\ttraining's auc: 0.873434\tvalid_1's auc: 0.831272\n",
      "[145]\ttraining's auc: 0.873515\tvalid_1's auc: 0.831261\n",
      "[146]\ttraining's auc: 0.873597\tvalid_1's auc: 0.831327\n",
      "[147]\ttraining's auc: 0.873757\tvalid_1's auc: 0.831175\n",
      "[148]\ttraining's auc: 0.873893\tvalid_1's auc: 0.831177\n",
      "[149]\ttraining's auc: 0.873936\tvalid_1's auc: 0.831206\n",
      "[150]\ttraining's auc: 0.874095\tvalid_1's auc: 0.83133\n",
      "[151]\ttraining's auc: 0.874216\tvalid_1's auc: 0.831257\n",
      "[152]\ttraining's auc: 0.874291\tvalid_1's auc: 0.831158\n",
      "[153]\ttraining's auc: 0.874407\tvalid_1's auc: 0.830972\n",
      "[154]\ttraining's auc: 0.874446\tvalid_1's auc: 0.830888\n",
      "[155]\ttraining's auc: 0.874521\tvalid_1's auc: 0.830916\n",
      "[156]\ttraining's auc: 0.8746\tvalid_1's auc: 0.830933\n",
      "Early stopping, best iteration is:\n",
      "[126]\ttraining's auc: 0.871698\tvalid_1's auc: 0.831698\n",
      "VALID AUC : 0.8316981944912775 ACC : 0.7534264982531578\n",
      "\n",
      "writing prediction : output/auc:0.8316981944912775 acc:0.7534264982531578sweep lgbm.csv\n",
      "                                      Feature  Importance\n",
      "0                                      userID         749\n",
      "1                            assessmentItemID         581\n",
      "2                                      testId         232\n",
      "3                                KnowledgeTag         223\n",
      "35                                problem_acc          48\n",
      "40                          recent_solve_time          37\n",
      "13                             ItemAnswerRate          32\n",
      "42                                   user_acc          26\n",
      "5                                 SolvingTime          20\n",
      "15           AverageItemSolvingTime_Incorrect          18\n",
      "31                              user_test_acc          17\n",
      "18                      UserTagAvgSolvingTime          17\n",
      "25                             TestAnswerRate          16\n",
      "6                              CumulativeTime          16\n",
      "17  Difference_SolvingTime_AvgItemSolvingTime          13\n",
      "37                                    elapsed          13\n",
      "21        CumulativeUserTagExponentialAverage          11\n",
      "36                                    tag_acc          10\n",
      "24                         PreviousItemAnswer           6\n",
      "20         CumulativeUserTagAverageAnswerRate           5\n",
      "14             AverageItemSolvingTime_Correct           5\n",
      "29                   user_test_correct_answer           5\n",
      "8                                   TimeOfDay           4\n",
      "32                    user_tag_correct_answer           4\n",
      "26                     categorize_solvingTime           4\n",
      "11                            Item_last30days           4\n",
      "4                                     Itemseq           3\n",
      "7                                       Month           3\n",
      "12               CumulativeUserItemAnswerRate           3\n",
      "19                              TagAnswerRate           3\n",
      "10                             Item_last7days           3\n",
      "23                        UserRecentTagAnswer           2\n",
      "41                  moving_average_solve_time           2\n",
      "33                               user_tag_acc           2\n",
      "39                        user_total_attempts           1\n",
      "38                              total_elapsed           1\n",
      "30                     user_test_total_answer           1\n",
      "9                         CumulativeItemCount           1\n",
      "22                     UserCumulativeTagCount           1\n",
      "34                                     repeat           0\n",
      "28    categorize_CumulativeUserItemAnswerRate           0\n",
      "27                  categorize_ItemAnswerRate           0\n",
      "16                     AverageItemSolvingTime           0\n"
     ]
    },
    {
     "data": {
      "application/vnd.jupyter.widget-view+json": {
       "model_id": "eba3fa997cf94add93509fa16a821e6e",
       "version_major": 2,
       "version_minor": 0
      },
      "text/plain": [
       "VBox(children=(Label(value='0.002 MB of 0.002 MB uploaded\\r'), FloatProgress(value=1.0, max=1.0)))"
      ]
     },
     "metadata": {},
     "output_type": "display_data"
    },
    {
     "data": {
      "text/html": [
       "<style>\n",
       "    table.wandb td:nth-child(1) { padding: 0 10px; text-align: left ; width: auto;} td:nth-child(2) {text-align: left ; width: 100%}\n",
       "    .wandb-row { display: flex; flex-direction: row; flex-wrap: wrap; justify-content: flex-start; width: 100% }\n",
       "    .wandb-col { display: flex; flex-direction: column; flex-basis: 100%; flex: 1; padding: 10px; }\n",
       "    </style>\n",
       "<div class=\"wandb-row\"><div class=\"wandb-col\"><h3>Run history:</h3><br/><table class=\"wandb\"><tr><td>accuracy</td><td>▁</td></tr><tr><td>auc</td><td>▁</td></tr><tr><td>iteration</td><td>▁▁▁▁▂▂▂▂▂▃▃▃▃▃▃▄▄▄▄▄▅▅▅▅▅▅▆▆▆▆▆▇▇▇▇▇▇███</td></tr><tr><td>training_auc</td><td>▁▂▃▄▄▅▅▅▅▆▆▆▆▆▆▆▆▇▇▇▇▇▇▇▇▇▇▇▇▇▇█████████</td></tr><tr><td>valid_1_auc</td><td>▁▂▄▅▆▇▇▇▇▇▇█▇▇██████████████████████████</td></tr></table><br/></div><div class=\"wandb-col\"><h3>Run summary:</h3><br/><table class=\"wandb\"><tr><td>accuracy</td><td>0.75343</td></tr><tr><td>auc</td><td>0.8317</td></tr><tr><td>iteration</td><td>155</td></tr></table><br/></div></div>"
      ],
      "text/plain": [
       "<IPython.core.display.HTML object>"
      ]
     },
     "metadata": {},
     "output_type": "display_data"
    },
    {
     "data": {
      "text/html": [
       " View run <strong style=\"color:#cdcd00\">elated-sweep-1</strong> at: <a href='https://wandb.ai/boostcamp6-recsys6/lightgbm-sweep/runs/loy20q50' target=\"_blank\">https://wandb.ai/boostcamp6-recsys6/lightgbm-sweep/runs/loy20q50</a><br/>Synced 6 W&B file(s), 0 media file(s), 0 artifact file(s) and 0 other file(s)"
      ],
      "text/plain": [
       "<IPython.core.display.HTML object>"
      ]
     },
     "metadata": {},
     "output_type": "display_data"
    },
    {
     "data": {
      "text/html": [
       "Find logs at: <code>./wandb/run-20240124_060539-loy20q50/logs</code>"
      ],
      "text/plain": [
       "<IPython.core.display.HTML object>"
      ]
     },
     "metadata": {},
     "output_type": "display_data"
    },
    {
     "name": "stderr",
     "output_type": "stream",
     "text": [
      "\u001b[34m\u001b[1mwandb\u001b[0m: Sweep Agent: Waiting for job.\n",
      "\u001b[34m\u001b[1mwandb\u001b[0m: Job received.\n",
      "\u001b[34m\u001b[1mwandb\u001b[0m: Agent Starting Run: pvjx05z3 with config:\n",
      "\u001b[34m\u001b[1mwandb\u001b[0m: \tbagging_fraction: 0.883457554593565\n",
      "\u001b[34m\u001b[1mwandb\u001b[0m: \tbagging_freq: 19\n",
      "\u001b[34m\u001b[1mwandb\u001b[0m: \tfeature_fraction: 0.7186418128523652\n",
      "\u001b[34m\u001b[1mwandb\u001b[0m: \tlambda_l1: 0.7503680184599953\n",
      "\u001b[34m\u001b[1mwandb\u001b[0m: \tlambda_l2: 13.979583178643816\n",
      "\u001b[34m\u001b[1mwandb\u001b[0m: \tlearning_rate: 0.6881418116240974\n",
      "\u001b[34m\u001b[1mwandb\u001b[0m: \tmax_depth: 25\n",
      "\u001b[34m\u001b[1mwandb\u001b[0m: \tmin_data_in_leaf: 114\n",
      "\u001b[34m\u001b[1mwandb\u001b[0m: \tnum_leaves: 17\n",
      "\u001b[34m\u001b[1mwandb\u001b[0m: \u001b[33mWARNING\u001b[0m Ignored wandb.init() arg project when running a sweep.\n"
     ]
    },
    {
     "data": {
      "text/html": [
       "Tracking run with wandb version 0.16.2"
      ],
      "text/plain": [
       "<IPython.core.display.HTML object>"
      ]
     },
     "metadata": {},
     "output_type": "display_data"
    },
    {
     "data": {
      "text/html": [
       "Run data is saved locally in <code>/data/ephemeral/level2-dkt-recsys-06/code/boost/wandb/run-20240124_060840-pvjx05z3</code>"
      ],
      "text/plain": [
       "<IPython.core.display.HTML object>"
      ]
     },
     "metadata": {},
     "output_type": "display_data"
    },
    {
     "data": {
      "text/html": [
       "Syncing run <strong><a href='https://wandb.ai/boostcamp6-recsys6/lightgbm-sweep/runs/pvjx05z3' target=\"_blank\">valiant-sweep-2</a></strong> to <a href='https://wandb.ai/boostcamp6-recsys6/lightgbm-sweep' target=\"_blank\">Weights & Biases</a> (<a href='https://wandb.me/run' target=\"_blank\">docs</a>)<br/>Sweep page: <a href='https://wandb.ai/boostcamp6-recsys6/lightgbm-sweep/sweeps/r2twjdzb' target=\"_blank\">https://wandb.ai/boostcamp6-recsys6/lightgbm-sweep/sweeps/r2twjdzb</a>"
      ],
      "text/plain": [
       "<IPython.core.display.HTML object>"
      ]
     },
     "metadata": {},
     "output_type": "display_data"
    },
    {
     "data": {
      "text/html": [
       " View project at <a href='https://wandb.ai/boostcamp6-recsys6/lightgbm-sweep' target=\"_blank\">https://wandb.ai/boostcamp6-recsys6/lightgbm-sweep</a>"
      ],
      "text/plain": [
       "<IPython.core.display.HTML object>"
      ]
     },
     "metadata": {},
     "output_type": "display_data"
    },
    {
     "data": {
      "text/html": [
       " View sweep at <a href='https://wandb.ai/boostcamp6-recsys6/lightgbm-sweep/sweeps/r2twjdzb' target=\"_blank\">https://wandb.ai/boostcamp6-recsys6/lightgbm-sweep/sweeps/r2twjdzb</a>"
      ],
      "text/plain": [
       "<IPython.core.display.HTML object>"
      ]
     },
     "metadata": {},
     "output_type": "display_data"
    },
    {
     "data": {
      "text/html": [
       " View run at <a href='https://wandb.ai/boostcamp6-recsys6/lightgbm-sweep/runs/pvjx05z3' target=\"_blank\">https://wandb.ai/boostcamp6-recsys6/lightgbm-sweep/runs/pvjx05z3</a>"
      ],
      "text/plain": [
       "<IPython.core.display.HTML object>"
      ]
     },
     "metadata": {},
     "output_type": "display_data"
    },
    {
     "name": "stdout",
     "output_type": "stream",
     "text": [
      "[LightGBM] [Warning] Met categorical feature which contains sparse values. Consider renumbering to consecutive integers started from zero\n",
      "[LightGBM] [Info] Number of positive: 1649973, number of negative: 868541\n",
      "[LightGBM] [Warning] Auto-choosing col-wise multi-threading, the overhead of testing was 0.664032 seconds.\n",
      "You can set `force_col_wise=true` to remove the overhead.\n",
      "[LightGBM] [Info] Total Bins 22915\n",
      "[LightGBM] [Info] Number of data points in the train set: 2518514, number of used features: 43\n",
      "[LightGBM] [Info] [binary:BoostFromScore]: pavg=0.655138 -> initscore=0.641699\n",
      "[LightGBM] [Info] Start training from score 0.641699\n"
     ]
    },
    {
     "name": "stderr",
     "output_type": "stream",
     "text": [
      "\u001b[34m\u001b[1mwandb\u001b[0m: \u001b[33mWARNING\u001b[0m Config item 'num_leaves' was locked by 'sweep' (ignored update).\n",
      "\u001b[34m\u001b[1mwandb\u001b[0m: \u001b[33mWARNING\u001b[0m Config item 'learning_rate' was locked by 'sweep' (ignored update).\n",
      "\u001b[34m\u001b[1mwandb\u001b[0m: \u001b[33mWARNING\u001b[0m Config item 'max_depth' was locked by 'sweep' (ignored update).\n",
      "\u001b[34m\u001b[1mwandb\u001b[0m: \u001b[33mWARNING\u001b[0m Config item 'min_data_in_leaf' was locked by 'sweep' (ignored update).\n",
      "\u001b[34m\u001b[1mwandb\u001b[0m: \u001b[33mWARNING\u001b[0m Config item 'feature_fraction' was locked by 'sweep' (ignored update).\n",
      "\u001b[34m\u001b[1mwandb\u001b[0m: \u001b[33mWARNING\u001b[0m Config item 'bagging_fraction' was locked by 'sweep' (ignored update).\n",
      "\u001b[34m\u001b[1mwandb\u001b[0m: \u001b[33mWARNING\u001b[0m Config item 'bagging_freq' was locked by 'sweep' (ignored update).\n",
      "\u001b[34m\u001b[1mwandb\u001b[0m: \u001b[33mWARNING\u001b[0m Config item 'lambda_l1' was locked by 'sweep' (ignored update).\n",
      "\u001b[34m\u001b[1mwandb\u001b[0m: \u001b[33mWARNING\u001b[0m Config item 'lambda_l2' was locked by 'sweep' (ignored update).\n"
     ]
    },
    {
     "name": "stdout",
     "output_type": "stream",
     "text": [
      "[1]\ttraining's auc: 0.813055\tvalid_1's auc: 0.785457\n",
      "Training until validation scores don't improve for 30 rounds\n",
      "[2]\ttraining's auc: 0.828391\tvalid_1's auc: 0.79949\n",
      "[3]\ttraining's auc: 0.834867\tvalid_1's auc: 0.806275\n",
      "[4]\ttraining's auc: 0.838102\tvalid_1's auc: 0.809981\n",
      "[5]\ttraining's auc: 0.841222\tvalid_1's auc: 0.813533\n",
      "[6]\ttraining's auc: 0.843423\tvalid_1's auc: 0.817168\n",
      "[7]\ttraining's auc: 0.845063\tvalid_1's auc: 0.818856\n",
      "[8]\ttraining's auc: 0.84631\tvalid_1's auc: 0.820293\n",
      "[9]\ttraining's auc: 0.847176\tvalid_1's auc: 0.820744\n",
      "[10]\ttraining's auc: 0.848341\tvalid_1's auc: 0.82145\n",
      "[11]\ttraining's auc: 0.849122\tvalid_1's auc: 0.821552\n",
      "[12]\ttraining's auc: 0.850056\tvalid_1's auc: 0.823827\n",
      "[13]\ttraining's auc: 0.8506\tvalid_1's auc: 0.82361\n",
      "[14]\ttraining's auc: 0.851451\tvalid_1's auc: 0.824759\n",
      "[15]\ttraining's auc: 0.852113\tvalid_1's auc: 0.825514\n",
      "[16]\ttraining's auc: 0.852649\tvalid_1's auc: 0.825692\n",
      "[17]\ttraining's auc: 0.853165\tvalid_1's auc: 0.825805\n",
      "[18]\ttraining's auc: 0.85373\tvalid_1's auc: 0.825899\n",
      "[19]\ttraining's auc: 0.854353\tvalid_1's auc: 0.826182\n",
      "[20]\ttraining's auc: 0.854943\tvalid_1's auc: 0.826384\n",
      "[21]\ttraining's auc: 0.855403\tvalid_1's auc: 0.826324\n",
      "[22]\ttraining's auc: 0.855729\tvalid_1's auc: 0.826753\n",
      "[23]\ttraining's auc: 0.856007\tvalid_1's auc: 0.826881\n",
      "[24]\ttraining's auc: 0.856377\tvalid_1's auc: 0.827146\n",
      "[25]\ttraining's auc: 0.856599\tvalid_1's auc: 0.827099\n",
      "[26]\ttraining's auc: 0.857052\tvalid_1's auc: 0.827838\n",
      "[27]\ttraining's auc: 0.857278\tvalid_1's auc: 0.827856\n",
      "[28]\ttraining's auc: 0.857655\tvalid_1's auc: 0.828163\n",
      "[29]\ttraining's auc: 0.857972\tvalid_1's auc: 0.828226\n",
      "[30]\ttraining's auc: 0.858168\tvalid_1's auc: 0.828356\n",
      "[31]\ttraining's auc: 0.858402\tvalid_1's auc: 0.828424\n",
      "[32]\ttraining's auc: 0.85858\tvalid_1's auc: 0.828478\n",
      "[33]\ttraining's auc: 0.85875\tvalid_1's auc: 0.828399\n",
      "[34]\ttraining's auc: 0.859103\tvalid_1's auc: 0.828601\n",
      "[35]\ttraining's auc: 0.859264\tvalid_1's auc: 0.828351\n",
      "[36]\ttraining's auc: 0.859609\tvalid_1's auc: 0.828408\n",
      "[37]\ttraining's auc: 0.859972\tvalid_1's auc: 0.828343\n",
      "[38]\ttraining's auc: 0.86042\tvalid_1's auc: 0.828171\n",
      "[39]\ttraining's auc: 0.860552\tvalid_1's auc: 0.827769\n",
      "[40]\ttraining's auc: 0.860723\tvalid_1's auc: 0.827292\n",
      "[41]\ttraining's auc: 0.861069\tvalid_1's auc: 0.827205\n",
      "[42]\ttraining's auc: 0.861667\tvalid_1's auc: 0.827961\n",
      "[43]\ttraining's auc: 0.861948\tvalid_1's auc: 0.827969\n",
      "[44]\ttraining's auc: 0.862059\tvalid_1's auc: 0.827828\n",
      "[45]\ttraining's auc: 0.862289\tvalid_1's auc: 0.828141\n",
      "[46]\ttraining's auc: 0.862406\tvalid_1's auc: 0.827964\n",
      "[47]\ttraining's auc: 0.862684\tvalid_1's auc: 0.828356\n",
      "[48]\ttraining's auc: 0.862921\tvalid_1's auc: 0.828469\n",
      "[49]\ttraining's auc: 0.863043\tvalid_1's auc: 0.828512\n",
      "[50]\ttraining's auc: 0.863299\tvalid_1's auc: 0.828633\n",
      "[51]\ttraining's auc: 0.86343\tvalid_1's auc: 0.828632\n",
      "[52]\ttraining's auc: 0.863548\tvalid_1's auc: 0.828674\n",
      "[53]\ttraining's auc: 0.863996\tvalid_1's auc: 0.828666\n",
      "[54]\ttraining's auc: 0.864182\tvalid_1's auc: 0.828843\n",
      "[55]\ttraining's auc: 0.864338\tvalid_1's auc: 0.828833\n",
      "[56]\ttraining's auc: 0.864623\tvalid_1's auc: 0.828923\n",
      "[57]\ttraining's auc: 0.864745\tvalid_1's auc: 0.828869\n",
      "[58]\ttraining's auc: 0.864817\tvalid_1's auc: 0.828903\n",
      "[59]\ttraining's auc: 0.864933\tvalid_1's auc: 0.828872\n",
      "[60]\ttraining's auc: 0.865043\tvalid_1's auc: 0.828879\n",
      "[61]\ttraining's auc: 0.865157\tvalid_1's auc: 0.828649\n",
      "[62]\ttraining's auc: 0.865307\tvalid_1's auc: 0.828704\n",
      "[63]\ttraining's auc: 0.865749\tvalid_1's auc: 0.828861\n",
      "[64]\ttraining's auc: 0.866102\tvalid_1's auc: 0.829274\n",
      "[65]\ttraining's auc: 0.86623\tvalid_1's auc: 0.829432\n",
      "[66]\ttraining's auc: 0.866494\tvalid_1's auc: 0.829364\n",
      "[67]\ttraining's auc: 0.866752\tvalid_1's auc: 0.82902\n",
      "[68]\ttraining's auc: 0.867034\tvalid_1's auc: 0.829147\n",
      "[69]\ttraining's auc: 0.867278\tvalid_1's auc: 0.829309\n",
      "[70]\ttraining's auc: 0.867432\tvalid_1's auc: 0.829355\n",
      "[71]\ttraining's auc: 0.867524\tvalid_1's auc: 0.829411\n",
      "[72]\ttraining's auc: 0.867741\tvalid_1's auc: 0.829768\n",
      "[73]\ttraining's auc: 0.867828\tvalid_1's auc: 0.829883\n",
      "[74]\ttraining's auc: 0.868203\tvalid_1's auc: 0.829884\n",
      "[75]\ttraining's auc: 0.868394\tvalid_1's auc: 0.829728\n",
      "[76]\ttraining's auc: 0.868641\tvalid_1's auc: 0.829768\n",
      "[77]\ttraining's auc: 0.868746\tvalid_1's auc: 0.829795\n",
      "[78]\ttraining's auc: 0.86879\tvalid_1's auc: 0.829565\n",
      "[79]\ttraining's auc: 0.86891\tvalid_1's auc: 0.829718\n",
      "[80]\ttraining's auc: 0.869018\tvalid_1's auc: 0.829706\n",
      "[81]\ttraining's auc: 0.869133\tvalid_1's auc: 0.829586\n",
      "[82]\ttraining's auc: 0.869173\tvalid_1's auc: 0.829578\n",
      "[83]\ttraining's auc: 0.869394\tvalid_1's auc: 0.82964\n",
      "[84]\ttraining's auc: 0.869666\tvalid_1's auc: 0.829563\n",
      "[85]\ttraining's auc: 0.869783\tvalid_1's auc: 0.829587\n",
      "[86]\ttraining's auc: 0.869956\tvalid_1's auc: 0.829452\n",
      "[87]\ttraining's auc: 0.870183\tvalid_1's auc: 0.830027\n",
      "[88]\ttraining's auc: 0.870301\tvalid_1's auc: 0.830101\n",
      "[89]\ttraining's auc: 0.870405\tvalid_1's auc: 0.830238\n",
      "[90]\ttraining's auc: 0.870569\tvalid_1's auc: 0.8303\n",
      "[91]\ttraining's auc: 0.870734\tvalid_1's auc: 0.830026\n",
      "[92]\ttraining's auc: 0.870891\tvalid_1's auc: 0.830122\n",
      "[93]\ttraining's auc: 0.871077\tvalid_1's auc: 0.830406\n",
      "[94]\ttraining's auc: 0.871195\tvalid_1's auc: 0.830325\n",
      "[95]\ttraining's auc: 0.871603\tvalid_1's auc: 0.830245\n",
      "[96]\ttraining's auc: 0.871738\tvalid_1's auc: 0.830155\n",
      "[97]\ttraining's auc: 0.871842\tvalid_1's auc: 0.830329\n",
      "[98]\ttraining's auc: 0.871934\tvalid_1's auc: 0.830242\n",
      "[99]\ttraining's auc: 0.872031\tvalid_1's auc: 0.830326\n",
      "[100]\ttraining's auc: 0.872118\tvalid_1's auc: 0.83027\n",
      "[101]\ttraining's auc: 0.872307\tvalid_1's auc: 0.830284\n",
      "[102]\ttraining's auc: 0.872454\tvalid_1's auc: 0.830274\n",
      "[103]\ttraining's auc: 0.872573\tvalid_1's auc: 0.830194\n",
      "[104]\ttraining's auc: 0.872705\tvalid_1's auc: 0.830168\n",
      "[105]\ttraining's auc: 0.872779\tvalid_1's auc: 0.830207\n",
      "[106]\ttraining's auc: 0.872945\tvalid_1's auc: 0.830137\n",
      "[107]\ttraining's auc: 0.873062\tvalid_1's auc: 0.83011\n",
      "[108]\ttraining's auc: 0.873276\tvalid_1's auc: 0.829993\n",
      "[109]\ttraining's auc: 0.873488\tvalid_1's auc: 0.830136\n",
      "[110]\ttraining's auc: 0.873666\tvalid_1's auc: 0.830256\n",
      "[111]\ttraining's auc: 0.873836\tvalid_1's auc: 0.830389\n",
      "[112]\ttraining's auc: 0.873988\tvalid_1's auc: 0.830328\n",
      "[113]\ttraining's auc: 0.874188\tvalid_1's auc: 0.830475\n",
      "[114]\ttraining's auc: 0.874392\tvalid_1's auc: 0.830562\n",
      "[115]\ttraining's auc: 0.874522\tvalid_1's auc: 0.830365\n",
      "[116]\ttraining's auc: 0.874598\tvalid_1's auc: 0.830299\n",
      "[117]\ttraining's auc: 0.874681\tvalid_1's auc: 0.830308\n",
      "[118]\ttraining's auc: 0.874715\tvalid_1's auc: 0.830195\n",
      "[119]\ttraining's auc: 0.87481\tvalid_1's auc: 0.830192\n",
      "[120]\ttraining's auc: 0.874917\tvalid_1's auc: 0.830083\n",
      "[121]\ttraining's auc: 0.875046\tvalid_1's auc: 0.830073\n",
      "[122]\ttraining's auc: 0.875131\tvalid_1's auc: 0.830244\n",
      "[123]\ttraining's auc: 0.875207\tvalid_1's auc: 0.830015\n",
      "[124]\ttraining's auc: 0.87537\tvalid_1's auc: 0.829865\n",
      "[125]\ttraining's auc: 0.875398\tvalid_1's auc: 0.829854\n",
      "[126]\ttraining's auc: 0.875549\tvalid_1's auc: 0.829993\n",
      "[127]\ttraining's auc: 0.875714\tvalid_1's auc: 0.829871\n",
      "[128]\ttraining's auc: 0.875784\tvalid_1's auc: 0.829682\n",
      "[129]\ttraining's auc: 0.875906\tvalid_1's auc: 0.829602\n",
      "[130]\ttraining's auc: 0.876084\tvalid_1's auc: 0.829819\n",
      "[131]\ttraining's auc: 0.876184\tvalid_1's auc: 0.829783\n",
      "[132]\ttraining's auc: 0.876243\tvalid_1's auc: 0.829365\n",
      "[133]\ttraining's auc: 0.876318\tvalid_1's auc: 0.829214\n",
      "[134]\ttraining's auc: 0.876384\tvalid_1's auc: 0.829307\n",
      "[135]\ttraining's auc: 0.876491\tvalid_1's auc: 0.829394\n",
      "[136]\ttraining's auc: 0.876548\tvalid_1's auc: 0.829449\n",
      "[137]\ttraining's auc: 0.876639\tvalid_1's auc: 0.829323\n",
      "[138]\ttraining's auc: 0.876745\tvalid_1's auc: 0.829113\n",
      "[139]\ttraining's auc: 0.876828\tvalid_1's auc: 0.829235\n",
      "[140]\ttraining's auc: 0.876893\tvalid_1's auc: 0.829126\n",
      "[141]\ttraining's auc: 0.876971\tvalid_1's auc: 0.829258\n",
      "[142]\ttraining's auc: 0.877073\tvalid_1's auc: 0.829111\n",
      "[143]\ttraining's auc: 0.877159\tvalid_1's auc: 0.829139\n",
      "[144]\ttraining's auc: 0.877245\tvalid_1's auc: 0.829049\n",
      "Early stopping, best iteration is:\n",
      "[114]\ttraining's auc: 0.874392\tvalid_1's auc: 0.830562\n",
      "VALID AUC : 0.8305616242747804 ACC : 0.7519484009674818\n",
      "\n",
      "writing prediction : output/auc:0.8305616242747804 acc:0.7519484009674818sweep lgbm.csv\n",
      "                                      Feature  Importance\n",
      "1                            assessmentItemID         535\n",
      "0                                      userID         499\n",
      "2                                      testId         293\n",
      "3                                KnowledgeTag         260\n",
      "35                                problem_acc          26\n",
      "40                          recent_solve_time          20\n",
      "42                                   user_acc          19\n",
      "6                              CumulativeTime          19\n",
      "31                              user_test_acc          17\n",
      "5                                 SolvingTime          13\n",
      "18                      UserTagAvgSolvingTime          13\n",
      "15           AverageItemSolvingTime_Incorrect          11\n",
      "37                                    elapsed          11\n",
      "13                             ItemAnswerRate          11\n",
      "25                             TestAnswerRate           7\n",
      "21        CumulativeUserTagExponentialAverage           7\n",
      "17  Difference_SolvingTime_AvgItemSolvingTime           6\n",
      "14             AverageItemSolvingTime_Correct           6\n",
      "24                         PreviousItemAnswer           6\n",
      "20         CumulativeUserTagAverageAnswerRate           5\n",
      "12               CumulativeUserItemAnswerRate           5\n",
      "29                   user_test_correct_answer           4\n",
      "32                    user_tag_correct_answer           4\n",
      "4                                     Itemseq           3\n",
      "36                                    tag_acc           3\n",
      "7                                       Month           3\n",
      "8                                   TimeOfDay           3\n",
      "19                              TagAnswerRate           3\n",
      "41                  moving_average_solve_time           2\n",
      "11                            Item_last30days           2\n",
      "26                     categorize_solvingTime           1\n",
      "10                             Item_last7days           1\n",
      "38                              total_elapsed           1\n",
      "22                     UserCumulativeTagCount           1\n",
      "34                                     repeat           1\n",
      "33                               user_tag_acc           1\n",
      "23                        UserRecentTagAnswer           1\n",
      "30                     user_test_total_answer           1\n",
      "27                  categorize_ItemAnswerRate           0\n",
      "9                         CumulativeItemCount           0\n",
      "39                        user_total_attempts           0\n",
      "28    categorize_CumulativeUserItemAnswerRate           0\n",
      "16                     AverageItemSolvingTime           0\n"
     ]
    },
    {
     "data": {
      "application/vnd.jupyter.widget-view+json": {
       "model_id": "fbee9976c16a4bbb88dcc276d4fb2342",
       "version_major": 2,
       "version_minor": 0
      },
      "text/plain": [
       "VBox(children=(Label(value='0.002 MB of 0.002 MB uploaded\\r'), FloatProgress(value=1.0, max=1.0)))"
      ]
     },
     "metadata": {},
     "output_type": "display_data"
    },
    {
     "data": {
      "text/html": [
       "<style>\n",
       "    table.wandb td:nth-child(1) { padding: 0 10px; text-align: left ; width: auto;} td:nth-child(2) {text-align: left ; width: 100%}\n",
       "    .wandb-row { display: flex; flex-direction: row; flex-wrap: wrap; justify-content: flex-start; width: 100% }\n",
       "    .wandb-col { display: flex; flex-direction: column; flex-basis: 100%; flex: 1; padding: 10px; }\n",
       "    </style>\n",
       "<div class=\"wandb-row\"><div class=\"wandb-col\"><h3>Run history:</h3><br/><table class=\"wandb\"><tr><td>accuracy</td><td>▁</td></tr><tr><td>auc</td><td>▁</td></tr><tr><td>iteration</td><td>▁▁▁▁▂▂▂▂▂▃▃▃▃▃▃▄▄▄▄▄▅▅▅▅▅▅▆▆▆▆▆▇▇▇▇▇▇███</td></tr><tr><td>training_auc</td><td>▁▂▄▄▄▅▅▅▅▅▆▆▆▆▆▆▆▆▆▇▇▇▇▇▇▇▇▇▇▇▇█████████</td></tr><tr><td>valid_1_auc</td><td>▁▃▆▆▇▇▇▇██▇▇▇███████████████████████████</td></tr></table><br/></div><div class=\"wandb-col\"><h3>Run summary:</h3><br/><table class=\"wandb\"><tr><td>accuracy</td><td>0.75195</td></tr><tr><td>auc</td><td>0.83056</td></tr><tr><td>iteration</td><td>143</td></tr></table><br/></div></div>"
      ],
      "text/plain": [
       "<IPython.core.display.HTML object>"
      ]
     },
     "metadata": {},
     "output_type": "display_data"
    },
    {
     "data": {
      "text/html": [
       " View run <strong style=\"color:#cdcd00\">valiant-sweep-2</strong> at: <a href='https://wandb.ai/boostcamp6-recsys6/lightgbm-sweep/runs/pvjx05z3' target=\"_blank\">https://wandb.ai/boostcamp6-recsys6/lightgbm-sweep/runs/pvjx05z3</a><br/>Synced 6 W&B file(s), 0 media file(s), 0 artifact file(s) and 0 other file(s)"
      ],
      "text/plain": [
       "<IPython.core.display.HTML object>"
      ]
     },
     "metadata": {},
     "output_type": "display_data"
    },
    {
     "data": {
      "text/html": [
       "Find logs at: <code>./wandb/run-20240124_060840-pvjx05z3/logs</code>"
      ],
      "text/plain": [
       "<IPython.core.display.HTML object>"
      ]
     },
     "metadata": {},
     "output_type": "display_data"
    },
    {
     "name": "stderr",
     "output_type": "stream",
     "text": [
      "\u001b[34m\u001b[1mwandb\u001b[0m: Agent Starting Run: qt2htesv with config:\n",
      "\u001b[34m\u001b[1mwandb\u001b[0m: \tbagging_fraction: 0.5661185198222595\n",
      "\u001b[34m\u001b[1mwandb\u001b[0m: \tbagging_freq: 25\n",
      "\u001b[34m\u001b[1mwandb\u001b[0m: \tfeature_fraction: 0.5234489682650816\n",
      "\u001b[34m\u001b[1mwandb\u001b[0m: \tlambda_l1: 12.234416177398662\n",
      "\u001b[34m\u001b[1mwandb\u001b[0m: \tlambda_l2: 5.535617794968749\n",
      "\u001b[34m\u001b[1mwandb\u001b[0m: \tlearning_rate: 0.3015246483438214\n",
      "\u001b[34m\u001b[1mwandb\u001b[0m: \tmax_depth: 5\n",
      "\u001b[34m\u001b[1mwandb\u001b[0m: \tmin_data_in_leaf: 103\n",
      "\u001b[34m\u001b[1mwandb\u001b[0m: \tnum_leaves: 11\n",
      "\u001b[34m\u001b[1mwandb\u001b[0m: \u001b[33mWARNING\u001b[0m Ignored wandb.init() arg project when running a sweep.\n"
     ]
    },
    {
     "data": {
      "text/html": [
       "Tracking run with wandb version 0.16.2"
      ],
      "text/plain": [
       "<IPython.core.display.HTML object>"
      ]
     },
     "metadata": {},
     "output_type": "display_data"
    },
    {
     "data": {
      "text/html": [
       "Run data is saved locally in <code>/data/ephemeral/level2-dkt-recsys-06/code/boost/wandb/run-20240124_061125-qt2htesv</code>"
      ],
      "text/plain": [
       "<IPython.core.display.HTML object>"
      ]
     },
     "metadata": {},
     "output_type": "display_data"
    },
    {
     "data": {
      "text/html": [
       "Syncing run <strong><a href='https://wandb.ai/boostcamp6-recsys6/lightgbm-sweep/runs/qt2htesv' target=\"_blank\">elated-sweep-3</a></strong> to <a href='https://wandb.ai/boostcamp6-recsys6/lightgbm-sweep' target=\"_blank\">Weights & Biases</a> (<a href='https://wandb.me/run' target=\"_blank\">docs</a>)<br/>Sweep page: <a href='https://wandb.ai/boostcamp6-recsys6/lightgbm-sweep/sweeps/r2twjdzb' target=\"_blank\">https://wandb.ai/boostcamp6-recsys6/lightgbm-sweep/sweeps/r2twjdzb</a>"
      ],
      "text/plain": [
       "<IPython.core.display.HTML object>"
      ]
     },
     "metadata": {},
     "output_type": "display_data"
    },
    {
     "data": {
      "text/html": [
       " View project at <a href='https://wandb.ai/boostcamp6-recsys6/lightgbm-sweep' target=\"_blank\">https://wandb.ai/boostcamp6-recsys6/lightgbm-sweep</a>"
      ],
      "text/plain": [
       "<IPython.core.display.HTML object>"
      ]
     },
     "metadata": {},
     "output_type": "display_data"
    },
    {
     "data": {
      "text/html": [
       " View sweep at <a href='https://wandb.ai/boostcamp6-recsys6/lightgbm-sweep/sweeps/r2twjdzb' target=\"_blank\">https://wandb.ai/boostcamp6-recsys6/lightgbm-sweep/sweeps/r2twjdzb</a>"
      ],
      "text/plain": [
       "<IPython.core.display.HTML object>"
      ]
     },
     "metadata": {},
     "output_type": "display_data"
    },
    {
     "data": {
      "text/html": [
       " View run at <a href='https://wandb.ai/boostcamp6-recsys6/lightgbm-sweep/runs/qt2htesv' target=\"_blank\">https://wandb.ai/boostcamp6-recsys6/lightgbm-sweep/runs/qt2htesv</a>"
      ],
      "text/plain": [
       "<IPython.core.display.HTML object>"
      ]
     },
     "metadata": {},
     "output_type": "display_data"
    },
    {
     "name": "stdout",
     "output_type": "stream",
     "text": [
      "[LightGBM] [Warning] Met categorical feature which contains sparse values. Consider renumbering to consecutive integers started from zero\n",
      "[LightGBM] [Info] Number of positive: 1649973, number of negative: 868541\n",
      "[LightGBM] [Warning] Auto-choosing row-wise multi-threading, the overhead of testing was 0.041779 seconds.\n",
      "You can set `force_row_wise=true` to remove the overhead.\n",
      "And if memory is not enough, you can set `force_col_wise=true`.\n",
      "[LightGBM] [Info] Total Bins 22915\n",
      "[LightGBM] [Info] Number of data points in the train set: 2518514, number of used features: 43\n",
      "[LightGBM] [Info] [binary:BoostFromScore]: pavg=0.655138 -> initscore=0.641699\n",
      "[LightGBM] [Info] Start training from score 0.641699\n"
     ]
    },
    {
     "name": "stderr",
     "output_type": "stream",
     "text": [
      "\u001b[34m\u001b[1mwandb\u001b[0m: \u001b[33mWARNING\u001b[0m Config item 'num_leaves' was locked by 'sweep' (ignored update).\n",
      "\u001b[34m\u001b[1mwandb\u001b[0m: \u001b[33mWARNING\u001b[0m Config item 'learning_rate' was locked by 'sweep' (ignored update).\n",
      "\u001b[34m\u001b[1mwandb\u001b[0m: \u001b[33mWARNING\u001b[0m Config item 'max_depth' was locked by 'sweep' (ignored update).\n",
      "\u001b[34m\u001b[1mwandb\u001b[0m: \u001b[33mWARNING\u001b[0m Config item 'min_data_in_leaf' was locked by 'sweep' (ignored update).\n",
      "\u001b[34m\u001b[1mwandb\u001b[0m: \u001b[33mWARNING\u001b[0m Config item 'feature_fraction' was locked by 'sweep' (ignored update).\n",
      "\u001b[34m\u001b[1mwandb\u001b[0m: \u001b[33mWARNING\u001b[0m Config item 'bagging_fraction' was locked by 'sweep' (ignored update).\n",
      "\u001b[34m\u001b[1mwandb\u001b[0m: \u001b[33mWARNING\u001b[0m Config item 'bagging_freq' was locked by 'sweep' (ignored update).\n",
      "\u001b[34m\u001b[1mwandb\u001b[0m: \u001b[33mWARNING\u001b[0m Config item 'lambda_l1' was locked by 'sweep' (ignored update).\n",
      "\u001b[34m\u001b[1mwandb\u001b[0m: \u001b[33mWARNING\u001b[0m Config item 'lambda_l2' was locked by 'sweep' (ignored update).\n"
     ]
    },
    {
     "name": "stdout",
     "output_type": "stream",
     "text": [
      "[1]\ttraining's auc: 0.806573\tvalid_1's auc: 0.780369\n",
      "Training until validation scores don't improve for 30 rounds\n",
      "[2]\ttraining's auc: 0.818366\tvalid_1's auc: 0.789881\n",
      "[3]\ttraining's auc: 0.824292\tvalid_1's auc: 0.795286\n",
      "[4]\ttraining's auc: 0.828024\tvalid_1's auc: 0.8008\n",
      "[5]\ttraining's auc: 0.829806\tvalid_1's auc: 0.8012\n",
      "[6]\ttraining's auc: 0.832001\tvalid_1's auc: 0.802942\n",
      "[7]\ttraining's auc: 0.834935\tvalid_1's auc: 0.805881\n",
      "[8]\ttraining's auc: 0.836594\tvalid_1's auc: 0.807451\n",
      "[9]\ttraining's auc: 0.838011\tvalid_1's auc: 0.809664\n",
      "[10]\ttraining's auc: 0.839586\tvalid_1's auc: 0.811088\n",
      "[11]\ttraining's auc: 0.840902\tvalid_1's auc: 0.812352\n",
      "[12]\ttraining's auc: 0.841777\tvalid_1's auc: 0.81331\n",
      "[13]\ttraining's auc: 0.842799\tvalid_1's auc: 0.81428\n",
      "[14]\ttraining's auc: 0.843521\tvalid_1's auc: 0.815229\n",
      "[15]\ttraining's auc: 0.844178\tvalid_1's auc: 0.816168\n",
      "[16]\ttraining's auc: 0.844921\tvalid_1's auc: 0.816527\n",
      "[17]\ttraining's auc: 0.845588\tvalid_1's auc: 0.81683\n",
      "[18]\ttraining's auc: 0.846035\tvalid_1's auc: 0.817996\n",
      "[19]\ttraining's auc: 0.846548\tvalid_1's auc: 0.818592\n",
      "[20]\ttraining's auc: 0.846885\tvalid_1's auc: 0.818649\n",
      "[21]\ttraining's auc: 0.847344\tvalid_1's auc: 0.81927\n",
      "[22]\ttraining's auc: 0.847663\tvalid_1's auc: 0.819596\n",
      "[23]\ttraining's auc: 0.848029\tvalid_1's auc: 0.819981\n",
      "[24]\ttraining's auc: 0.848415\tvalid_1's auc: 0.820305\n",
      "[25]\ttraining's auc: 0.848692\tvalid_1's auc: 0.820883\n",
      "[26]\ttraining's auc: 0.84884\tvalid_1's auc: 0.820847\n",
      "[27]\ttraining's auc: 0.849063\tvalid_1's auc: 0.821014\n",
      "[28]\ttraining's auc: 0.849346\tvalid_1's auc: 0.821173\n",
      "[29]\ttraining's auc: 0.849595\tvalid_1's auc: 0.821389\n",
      "[30]\ttraining's auc: 0.849799\tvalid_1's auc: 0.821545\n",
      "[31]\ttraining's auc: 0.850136\tvalid_1's auc: 0.821946\n",
      "[32]\ttraining's auc: 0.850318\tvalid_1's auc: 0.822037\n",
      "[33]\ttraining's auc: 0.850469\tvalid_1's auc: 0.822199\n",
      "[34]\ttraining's auc: 0.850815\tvalid_1's auc: 0.822353\n",
      "[35]\ttraining's auc: 0.850961\tvalid_1's auc: 0.822436\n",
      "[36]\ttraining's auc: 0.851186\tvalid_1's auc: 0.822623\n",
      "[37]\ttraining's auc: 0.851351\tvalid_1's auc: 0.822733\n",
      "[38]\ttraining's auc: 0.851493\tvalid_1's auc: 0.822786\n",
      "[39]\ttraining's auc: 0.851789\tvalid_1's auc: 0.823492\n",
      "[40]\ttraining's auc: 0.851908\tvalid_1's auc: 0.823774\n",
      "[41]\ttraining's auc: 0.851986\tvalid_1's auc: 0.823773\n",
      "[42]\ttraining's auc: 0.85211\tvalid_1's auc: 0.8239\n",
      "[43]\ttraining's auc: 0.852384\tvalid_1's auc: 0.824131\n",
      "[44]\ttraining's auc: 0.852484\tvalid_1's auc: 0.82409\n",
      "[45]\ttraining's auc: 0.852619\tvalid_1's auc: 0.824077\n",
      "[46]\ttraining's auc: 0.852797\tvalid_1's auc: 0.824289\n",
      "[47]\ttraining's auc: 0.852895\tvalid_1's auc: 0.824275\n",
      "[48]\ttraining's auc: 0.852996\tvalid_1's auc: 0.824405\n",
      "[49]\ttraining's auc: 0.853062\tvalid_1's auc: 0.824397\n",
      "[50]\ttraining's auc: 0.853279\tvalid_1's auc: 0.824217\n",
      "[51]\ttraining's auc: 0.853414\tvalid_1's auc: 0.824284\n",
      "[52]\ttraining's auc: 0.85354\tvalid_1's auc: 0.824346\n",
      "[53]\ttraining's auc: 0.853665\tvalid_1's auc: 0.824355\n",
      "[54]\ttraining's auc: 0.8538\tvalid_1's auc: 0.824586\n",
      "[55]\ttraining's auc: 0.85388\tvalid_1's auc: 0.824578\n",
      "[56]\ttraining's auc: 0.853955\tvalid_1's auc: 0.824704\n",
      "[57]\ttraining's auc: 0.854042\tvalid_1's auc: 0.824684\n",
      "[58]\ttraining's auc: 0.85409\tvalid_1's auc: 0.824639\n",
      "[59]\ttraining's auc: 0.854179\tvalid_1's auc: 0.824618\n",
      "[60]\ttraining's auc: 0.854264\tvalid_1's auc: 0.824668\n",
      "[61]\ttraining's auc: 0.854304\tvalid_1's auc: 0.824737\n",
      "[62]\ttraining's auc: 0.854379\tvalid_1's auc: 0.824792\n",
      "[63]\ttraining's auc: 0.854454\tvalid_1's auc: 0.824709\n",
      "[64]\ttraining's auc: 0.854572\tvalid_1's auc: 0.824786\n",
      "[65]\ttraining's auc: 0.854746\tvalid_1's auc: 0.824969\n",
      "[66]\ttraining's auc: 0.854897\tvalid_1's auc: 0.825128\n",
      "[67]\ttraining's auc: 0.855\tvalid_1's auc: 0.825335\n",
      "[68]\ttraining's auc: 0.855053\tvalid_1's auc: 0.825277\n",
      "[69]\ttraining's auc: 0.855084\tvalid_1's auc: 0.825315\n",
      "[70]\ttraining's auc: 0.855144\tvalid_1's auc: 0.825381\n",
      "[71]\ttraining's auc: 0.855385\tvalid_1's auc: 0.825347\n",
      "[72]\ttraining's auc: 0.855411\tvalid_1's auc: 0.825313\n",
      "[73]\ttraining's auc: 0.855481\tvalid_1's auc: 0.82534\n",
      "[74]\ttraining's auc: 0.855632\tvalid_1's auc: 0.825534\n",
      "[75]\ttraining's auc: 0.855759\tvalid_1's auc: 0.826096\n",
      "[76]\ttraining's auc: 0.855852\tvalid_1's auc: 0.826065\n",
      "[77]\ttraining's auc: 0.855917\tvalid_1's auc: 0.826033\n",
      "[78]\ttraining's auc: 0.855955\tvalid_1's auc: 0.826078\n",
      "[79]\ttraining's auc: 0.856015\tvalid_1's auc: 0.825958\n",
      "[80]\ttraining's auc: 0.856052\tvalid_1's auc: 0.825861\n",
      "[81]\ttraining's auc: 0.856099\tvalid_1's auc: 0.825908\n",
      "[82]\ttraining's auc: 0.85614\tvalid_1's auc: 0.825896\n",
      "[83]\ttraining's auc: 0.85617\tvalid_1's auc: 0.825884\n",
      "[84]\ttraining's auc: 0.856274\tvalid_1's auc: 0.825972\n",
      "[85]\ttraining's auc: 0.8563\tvalid_1's auc: 0.825988\n",
      "[86]\ttraining's auc: 0.85632\tvalid_1's auc: 0.826017\n",
      "[87]\ttraining's auc: 0.856504\tvalid_1's auc: 0.826255\n",
      "[88]\ttraining's auc: 0.856528\tvalid_1's auc: 0.826259\n",
      "[89]\ttraining's auc: 0.856589\tvalid_1's auc: 0.826191\n",
      "[90]\ttraining's auc: 0.856785\tvalid_1's auc: 0.826324\n",
      "[91]\ttraining's auc: 0.85685\tvalid_1's auc: 0.826386\n",
      "[92]\ttraining's auc: 0.856891\tvalid_1's auc: 0.826439\n",
      "[93]\ttraining's auc: 0.857058\tvalid_1's auc: 0.826553\n",
      "[94]\ttraining's auc: 0.857112\tvalid_1's auc: 0.826529\n",
      "[95]\ttraining's auc: 0.857148\tvalid_1's auc: 0.826517\n",
      "[96]\ttraining's auc: 0.857341\tvalid_1's auc: 0.826609\n",
      "[97]\ttraining's auc: 0.857378\tvalid_1's auc: 0.826585\n",
      "[98]\ttraining's auc: 0.857416\tvalid_1's auc: 0.826638\n",
      "[99]\ttraining's auc: 0.85745\tvalid_1's auc: 0.826756\n",
      "[100]\ttraining's auc: 0.857483\tvalid_1's auc: 0.826674\n",
      "[101]\ttraining's auc: 0.857522\tvalid_1's auc: 0.826556\n",
      "[102]\ttraining's auc: 0.857581\tvalid_1's auc: 0.826545\n",
      "[103]\ttraining's auc: 0.857656\tvalid_1's auc: 0.826734\n",
      "[104]\ttraining's auc: 0.857691\tvalid_1's auc: 0.826749\n",
      "[105]\ttraining's auc: 0.857737\tvalid_1's auc: 0.826687\n",
      "[106]\ttraining's auc: 0.857761\tvalid_1's auc: 0.82678\n",
      "[107]\ttraining's auc: 0.857808\tvalid_1's auc: 0.826801\n",
      "[108]\ttraining's auc: 0.857829\tvalid_1's auc: 0.826764\n",
      "[109]\ttraining's auc: 0.857862\tvalid_1's auc: 0.826776\n",
      "[110]\ttraining's auc: 0.85789\tvalid_1's auc: 0.826754\n",
      "[111]\ttraining's auc: 0.857923\tvalid_1's auc: 0.826789\n",
      "[112]\ttraining's auc: 0.857953\tvalid_1's auc: 0.826729\n",
      "[113]\ttraining's auc: 0.857992\tvalid_1's auc: 0.826685\n",
      "[114]\ttraining's auc: 0.858024\tvalid_1's auc: 0.826683\n",
      "[115]\ttraining's auc: 0.858073\tvalid_1's auc: 0.826811\n",
      "[116]\ttraining's auc: 0.858117\tvalid_1's auc: 0.826875\n",
      "[117]\ttraining's auc: 0.858163\tvalid_1's auc: 0.826801\n",
      "[118]\ttraining's auc: 0.858182\tvalid_1's auc: 0.826828\n",
      "[119]\ttraining's auc: 0.858215\tvalid_1's auc: 0.826815\n",
      "[120]\ttraining's auc: 0.85833\tvalid_1's auc: 0.82691\n",
      "[121]\ttraining's auc: 0.858396\tvalid_1's auc: 0.82686\n",
      "[122]\ttraining's auc: 0.858417\tvalid_1's auc: 0.826918\n",
      "[123]\ttraining's auc: 0.858437\tvalid_1's auc: 0.826883\n",
      "[124]\ttraining's auc: 0.858448\tvalid_1's auc: 0.826862\n",
      "[125]\ttraining's auc: 0.858607\tvalid_1's auc: 0.827018\n",
      "[126]\ttraining's auc: 0.858642\tvalid_1's auc: 0.826975\n",
      "[127]\ttraining's auc: 0.858678\tvalid_1's auc: 0.826832\n",
      "[128]\ttraining's auc: 0.858719\tvalid_1's auc: 0.826917\n",
      "[129]\ttraining's auc: 0.858736\tvalid_1's auc: 0.826974\n",
      "[130]\ttraining's auc: 0.858748\tvalid_1's auc: 0.826953\n",
      "[131]\ttraining's auc: 0.858786\tvalid_1's auc: 0.826843\n",
      "[132]\ttraining's auc: 0.858803\tvalid_1's auc: 0.826845\n",
      "[133]\ttraining's auc: 0.858843\tvalid_1's auc: 0.826755\n",
      "[134]\ttraining's auc: 0.858874\tvalid_1's auc: 0.826649\n",
      "[135]\ttraining's auc: 0.859051\tvalid_1's auc: 0.82652\n",
      "[136]\ttraining's auc: 0.859142\tvalid_1's auc: 0.826588\n",
      "[137]\ttraining's auc: 0.859258\tvalid_1's auc: 0.826664\n",
      "[138]\ttraining's auc: 0.859275\tvalid_1's auc: 0.826569\n",
      "[139]\ttraining's auc: 0.859294\tvalid_1's auc: 0.826599\n",
      "[140]\ttraining's auc: 0.85931\tvalid_1's auc: 0.826524\n",
      "[141]\ttraining's auc: 0.859322\tvalid_1's auc: 0.826503\n",
      "[142]\ttraining's auc: 0.859446\tvalid_1's auc: 0.826816\n",
      "[143]\ttraining's auc: 0.859528\tvalid_1's auc: 0.826686\n",
      "[144]\ttraining's auc: 0.859551\tvalid_1's auc: 0.826654\n",
      "[145]\ttraining's auc: 0.85956\tvalid_1's auc: 0.826639\n",
      "[146]\ttraining's auc: 0.859643\tvalid_1's auc: 0.826656\n",
      "[147]\ttraining's auc: 0.859662\tvalid_1's auc: 0.826626\n",
      "[148]\ttraining's auc: 0.859693\tvalid_1's auc: 0.826578\n",
      "[149]\ttraining's auc: 0.8597\tvalid_1's auc: 0.826575\n",
      "[150]\ttraining's auc: 0.859711\tvalid_1's auc: 0.826572\n",
      "[151]\ttraining's auc: 0.859737\tvalid_1's auc: 0.826502\n",
      "[152]\ttraining's auc: 0.859781\tvalid_1's auc: 0.826446\n",
      "[153]\ttraining's auc: 0.859799\tvalid_1's auc: 0.826456\n",
      "[154]\ttraining's auc: 0.859815\tvalid_1's auc: 0.826462\n",
      "[155]\ttraining's auc: 0.859852\tvalid_1's auc: 0.826511\n",
      "Early stopping, best iteration is:\n",
      "[125]\ttraining's auc: 0.858607\tvalid_1's auc: 0.827018\n",
      "VALID AUC : 0.827018407825883 ACC : 0.7496640687987101\n",
      "\n",
      "writing prediction : output/auc:0.827018407825883 acc:0.7496640687987101sweep lgbm.csv\n",
      "                                      Feature  Importance\n",
      "0                                      userID         258\n",
      "1                            assessmentItemID         200\n",
      "3                                KnowledgeTag         166\n",
      "2                                      testId         163\n",
      "40                          recent_solve_time          54\n",
      "35                                problem_acc          45\n",
      "5                                 SolvingTime          32\n",
      "13                             ItemAnswerRate          27\n",
      "18                      UserTagAvgSolvingTime          23\n",
      "42                                   user_acc          20\n",
      "6                              CumulativeTime          20\n",
      "17  Difference_SolvingTime_AvgItemSolvingTime          19\n",
      "37                                    elapsed          18\n",
      "15           AverageItemSolvingTime_Incorrect          15\n",
      "41                  moving_average_solve_time          14\n",
      "31                              user_test_acc          14\n",
      "12               CumulativeUserItemAnswerRate          12\n",
      "25                             TestAnswerRate          12\n",
      "36                                    tag_acc          11\n",
      "26                     categorize_solvingTime          11\n",
      "29                   user_test_correct_answer           9\n",
      "32                    user_tag_correct_answer           9\n",
      "24                         PreviousItemAnswer           9\n",
      "11                            Item_last30days           9\n",
      "7                                       Month           8\n",
      "9                         CumulativeItemCount           8\n",
      "38                              total_elapsed           7\n",
      "10                             Item_last7days           7\n",
      "19                              TagAnswerRate           6\n",
      "8                                   TimeOfDay           6\n",
      "21        CumulativeUserTagExponentialAverage           6\n",
      "27                  categorize_ItemAnswerRate           5\n",
      "14             AverageItemSolvingTime_Correct           5\n",
      "22                     UserCumulativeTagCount           4\n",
      "4                                     Itemseq           4\n",
      "33                               user_tag_acc           3\n",
      "39                        user_total_attempts           3\n",
      "30                     user_test_total_answer           2\n",
      "20         CumulativeUserTagAverageAnswerRate           2\n",
      "16                     AverageItemSolvingTime           2\n",
      "28    categorize_CumulativeUserItemAnswerRate           1\n",
      "23                        UserRecentTagAnswer           1\n",
      "34                                     repeat           0\n"
     ]
    },
    {
     "data": {
      "application/vnd.jupyter.widget-view+json": {
       "model_id": "6de8f535618e481dab0ae9110463df50",
       "version_major": 2,
       "version_minor": 0
      },
      "text/plain": [
       "VBox(children=(Label(value='0.002 MB of 0.002 MB uploaded\\r'), FloatProgress(value=1.0, max=1.0)))"
      ]
     },
     "metadata": {},
     "output_type": "display_data"
    },
    {
     "data": {
      "text/html": [
       "<style>\n",
       "    table.wandb td:nth-child(1) { padding: 0 10px; text-align: left ; width: auto;} td:nth-child(2) {text-align: left ; width: 100%}\n",
       "    .wandb-row { display: flex; flex-direction: row; flex-wrap: wrap; justify-content: flex-start; width: 100% }\n",
       "    .wandb-col { display: flex; flex-direction: column; flex-basis: 100%; flex: 1; padding: 10px; }\n",
       "    </style>\n",
       "<div class=\"wandb-row\"><div class=\"wandb-col\"><h3>Run history:</h3><br/><table class=\"wandb\"><tr><td>accuracy</td><td>▁</td></tr><tr><td>auc</td><td>▁</td></tr><tr><td>iteration</td><td>▁▁▁▁▂▂▂▂▂▃▃▃▃▃▃▄▄▄▄▄▅▅▅▅▅▅▆▆▆▆▆▇▇▇▇▇▇███</td></tr><tr><td>training_auc</td><td>▁▃▄▅▅▆▆▆▆▇▇▇▇▇▇▇▇▇▇▇▇▇▇▇████████████████</td></tr><tr><td>valid_1_auc</td><td>▁▃▄▅▆▆▇▇▇▇▇▇████████████████████████████</td></tr></table><br/></div><div class=\"wandb-col\"><h3>Run summary:</h3><br/><table class=\"wandb\"><tr><td>accuracy</td><td>0.74966</td></tr><tr><td>auc</td><td>0.82702</td></tr><tr><td>iteration</td><td>154</td></tr></table><br/></div></div>"
      ],
      "text/plain": [
       "<IPython.core.display.HTML object>"
      ]
     },
     "metadata": {},
     "output_type": "display_data"
    },
    {
     "data": {
      "text/html": [
       " View run <strong style=\"color:#cdcd00\">elated-sweep-3</strong> at: <a href='https://wandb.ai/boostcamp6-recsys6/lightgbm-sweep/runs/qt2htesv' target=\"_blank\">https://wandb.ai/boostcamp6-recsys6/lightgbm-sweep/runs/qt2htesv</a><br/>Synced 6 W&B file(s), 0 media file(s), 0 artifact file(s) and 0 other file(s)"
      ],
      "text/plain": [
       "<IPython.core.display.HTML object>"
      ]
     },
     "metadata": {},
     "output_type": "display_data"
    },
    {
     "data": {
      "text/html": [
       "Find logs at: <code>./wandb/run-20240124_061125-qt2htesv/logs</code>"
      ],
      "text/plain": [
       "<IPython.core.display.HTML object>"
      ]
     },
     "metadata": {},
     "output_type": "display_data"
    },
    {
     "name": "stderr",
     "output_type": "stream",
     "text": [
      "\u001b[34m\u001b[1mwandb\u001b[0m: Sweep Agent: Waiting for job.\n",
      "\u001b[34m\u001b[1mwandb\u001b[0m: Job received.\n",
      "\u001b[34m\u001b[1mwandb\u001b[0m: Agent Starting Run: va55dbye with config:\n",
      "\u001b[34m\u001b[1mwandb\u001b[0m: \tbagging_fraction: 0.77420843971161\n",
      "\u001b[34m\u001b[1mwandb\u001b[0m: \tbagging_freq: 14\n",
      "\u001b[34m\u001b[1mwandb\u001b[0m: \tfeature_fraction: 0.7547317599963481\n",
      "\u001b[34m\u001b[1mwandb\u001b[0m: \tlambda_l1: 4.724867891176504\n",
      "\u001b[34m\u001b[1mwandb\u001b[0m: \tlambda_l2: 10.2520904186045\n",
      "\u001b[34m\u001b[1mwandb\u001b[0m: \tlearning_rate: 0.2284576852032626\n",
      "\u001b[34m\u001b[1mwandb\u001b[0m: \tmax_depth: 34\n",
      "\u001b[34m\u001b[1mwandb\u001b[0m: \tmin_data_in_leaf: 96\n",
      "\u001b[34m\u001b[1mwandb\u001b[0m: \tnum_leaves: 20\n",
      "\u001b[34m\u001b[1mwandb\u001b[0m: \u001b[33mWARNING\u001b[0m Ignored wandb.init() arg project when running a sweep.\n"
     ]
    },
    {
     "data": {
      "text/html": [
       "Tracking run with wandb version 0.16.2"
      ],
      "text/plain": [
       "<IPython.core.display.HTML object>"
      ]
     },
     "metadata": {},
     "output_type": "display_data"
    },
    {
     "data": {
      "text/html": [
       "Run data is saved locally in <code>/data/ephemeral/level2-dkt-recsys-06/code/boost/wandb/run-20240124_061353-va55dbye</code>"
      ],
      "text/plain": [
       "<IPython.core.display.HTML object>"
      ]
     },
     "metadata": {},
     "output_type": "display_data"
    },
    {
     "data": {
      "text/html": [
       "Syncing run <strong><a href='https://wandb.ai/boostcamp6-recsys6/lightgbm-sweep/runs/va55dbye' target=\"_blank\">wandering-sweep-4</a></strong> to <a href='https://wandb.ai/boostcamp6-recsys6/lightgbm-sweep' target=\"_blank\">Weights & Biases</a> (<a href='https://wandb.me/run' target=\"_blank\">docs</a>)<br/>Sweep page: <a href='https://wandb.ai/boostcamp6-recsys6/lightgbm-sweep/sweeps/r2twjdzb' target=\"_blank\">https://wandb.ai/boostcamp6-recsys6/lightgbm-sweep/sweeps/r2twjdzb</a>"
      ],
      "text/plain": [
       "<IPython.core.display.HTML object>"
      ]
     },
     "metadata": {},
     "output_type": "display_data"
    },
    {
     "data": {
      "text/html": [
       " View project at <a href='https://wandb.ai/boostcamp6-recsys6/lightgbm-sweep' target=\"_blank\">https://wandb.ai/boostcamp6-recsys6/lightgbm-sweep</a>"
      ],
      "text/plain": [
       "<IPython.core.display.HTML object>"
      ]
     },
     "metadata": {},
     "output_type": "display_data"
    },
    {
     "data": {
      "text/html": [
       " View sweep at <a href='https://wandb.ai/boostcamp6-recsys6/lightgbm-sweep/sweeps/r2twjdzb' target=\"_blank\">https://wandb.ai/boostcamp6-recsys6/lightgbm-sweep/sweeps/r2twjdzb</a>"
      ],
      "text/plain": [
       "<IPython.core.display.HTML object>"
      ]
     },
     "metadata": {},
     "output_type": "display_data"
    },
    {
     "data": {
      "text/html": [
       " View run at <a href='https://wandb.ai/boostcamp6-recsys6/lightgbm-sweep/runs/va55dbye' target=\"_blank\">https://wandb.ai/boostcamp6-recsys6/lightgbm-sweep/runs/va55dbye</a>"
      ],
      "text/plain": [
       "<IPython.core.display.HTML object>"
      ]
     },
     "metadata": {},
     "output_type": "display_data"
    },
    {
     "name": "stdout",
     "output_type": "stream",
     "text": [
      "[LightGBM] [Warning] Met categorical feature which contains sparse values. Consider renumbering to consecutive integers started from zero\n",
      "[LightGBM] [Info] Number of positive: 1649973, number of negative: 868541\n",
      "[LightGBM] [Warning] Auto-choosing row-wise multi-threading, the overhead of testing was 0.044753 seconds.\n",
      "You can set `force_row_wise=true` to remove the overhead.\n",
      "And if memory is not enough, you can set `force_col_wise=true`.\n",
      "[LightGBM] [Info] Total Bins 22915\n",
      "[LightGBM] [Info] Number of data points in the train set: 2518514, number of used features: 43\n",
      "[LightGBM] [Info] [binary:BoostFromScore]: pavg=0.655138 -> initscore=0.641699\n",
      "[LightGBM] [Info] Start training from score 0.641699\n"
     ]
    },
    {
     "name": "stderr",
     "output_type": "stream",
     "text": [
      "\u001b[34m\u001b[1mwandb\u001b[0m: \u001b[33mWARNING\u001b[0m Config item 'num_leaves' was locked by 'sweep' (ignored update).\n",
      "\u001b[34m\u001b[1mwandb\u001b[0m: \u001b[33mWARNING\u001b[0m Config item 'learning_rate' was locked by 'sweep' (ignored update).\n",
      "\u001b[34m\u001b[1mwandb\u001b[0m: \u001b[33mWARNING\u001b[0m Config item 'max_depth' was locked by 'sweep' (ignored update).\n",
      "\u001b[34m\u001b[1mwandb\u001b[0m: \u001b[33mWARNING\u001b[0m Config item 'min_data_in_leaf' was locked by 'sweep' (ignored update).\n",
      "\u001b[34m\u001b[1mwandb\u001b[0m: \u001b[33mWARNING\u001b[0m Config item 'feature_fraction' was locked by 'sweep' (ignored update).\n",
      "\u001b[34m\u001b[1mwandb\u001b[0m: \u001b[33mWARNING\u001b[0m Config item 'bagging_fraction' was locked by 'sweep' (ignored update).\n",
      "\u001b[34m\u001b[1mwandb\u001b[0m: \u001b[33mWARNING\u001b[0m Config item 'bagging_freq' was locked by 'sweep' (ignored update).\n",
      "\u001b[34m\u001b[1mwandb\u001b[0m: \u001b[33mWARNING\u001b[0m Config item 'lambda_l1' was locked by 'sweep' (ignored update).\n",
      "\u001b[34m\u001b[1mwandb\u001b[0m: \u001b[33mWARNING\u001b[0m Config item 'lambda_l2' was locked by 'sweep' (ignored update).\n"
     ]
    },
    {
     "name": "stdout",
     "output_type": "stream",
     "text": [
      "[1]\ttraining's auc: 0.814722\tvalid_1's auc: 0.787957\n",
      "Training until validation scores don't improve for 30 rounds\n",
      "[2]\ttraining's auc: 0.825002\tvalid_1's auc: 0.798518\n",
      "[3]\ttraining's auc: 0.830336\tvalid_1's auc: 0.804095\n",
      "[4]\ttraining's auc: 0.833041\tvalid_1's auc: 0.806398\n",
      "[5]\ttraining's auc: 0.834823\tvalid_1's auc: 0.807946\n",
      "[6]\ttraining's auc: 0.836846\tvalid_1's auc: 0.808785\n",
      "[7]\ttraining's auc: 0.838431\tvalid_1's auc: 0.811297\n",
      "[8]\ttraining's auc: 0.839971\tvalid_1's auc: 0.812761\n",
      "[9]\ttraining's auc: 0.841098\tvalid_1's auc: 0.81383\n",
      "[10]\ttraining's auc: 0.842084\tvalid_1's auc: 0.814985\n",
      "[11]\ttraining's auc: 0.843365\tvalid_1's auc: 0.816304\n",
      "[12]\ttraining's auc: 0.844358\tvalid_1's auc: 0.816681\n",
      "[13]\ttraining's auc: 0.845132\tvalid_1's auc: 0.817477\n",
      "[14]\ttraining's auc: 0.845787\tvalid_1's auc: 0.818153\n",
      "[15]\ttraining's auc: 0.8465\tvalid_1's auc: 0.819279\n",
      "[16]\ttraining's auc: 0.847333\tvalid_1's auc: 0.820094\n",
      "[17]\ttraining's auc: 0.848138\tvalid_1's auc: 0.820446\n",
      "[18]\ttraining's auc: 0.848695\tvalid_1's auc: 0.821082\n",
      "[19]\ttraining's auc: 0.849366\tvalid_1's auc: 0.821469\n",
      "[20]\ttraining's auc: 0.85001\tvalid_1's auc: 0.822153\n",
      "[21]\ttraining's auc: 0.85058\tvalid_1's auc: 0.82268\n",
      "[22]\ttraining's auc: 0.851061\tvalid_1's auc: 0.823086\n",
      "[23]\ttraining's auc: 0.851614\tvalid_1's auc: 0.82356\n",
      "[24]\ttraining's auc: 0.852002\tvalid_1's auc: 0.823988\n",
      "[25]\ttraining's auc: 0.852517\tvalid_1's auc: 0.82427\n",
      "[26]\ttraining's auc: 0.852844\tvalid_1's auc: 0.82475\n",
      "[27]\ttraining's auc: 0.853237\tvalid_1's auc: 0.825109\n",
      "[28]\ttraining's auc: 0.853664\tvalid_1's auc: 0.825353\n",
      "[29]\ttraining's auc: 0.85393\tvalid_1's auc: 0.82572\n",
      "[30]\ttraining's auc: 0.854261\tvalid_1's auc: 0.825805\n",
      "[31]\ttraining's auc: 0.854502\tvalid_1's auc: 0.825926\n",
      "[32]\ttraining's auc: 0.854852\tvalid_1's auc: 0.826407\n",
      "[33]\ttraining's auc: 0.8552\tvalid_1's auc: 0.826665\n",
      "[34]\ttraining's auc: 0.855637\tvalid_1's auc: 0.827093\n",
      "[35]\ttraining's auc: 0.855967\tvalid_1's auc: 0.82706\n",
      "[36]\ttraining's auc: 0.856213\tvalid_1's auc: 0.827032\n",
      "[37]\ttraining's auc: 0.85651\tvalid_1's auc: 0.827074\n",
      "[38]\ttraining's auc: 0.856796\tvalid_1's auc: 0.827429\n",
      "[39]\ttraining's auc: 0.857138\tvalid_1's auc: 0.827847\n",
      "[40]\ttraining's auc: 0.857344\tvalid_1's auc: 0.827931\n",
      "[41]\ttraining's auc: 0.857504\tvalid_1's auc: 0.828094\n",
      "[42]\ttraining's auc: 0.857778\tvalid_1's auc: 0.828564\n",
      "[43]\ttraining's auc: 0.857935\tvalid_1's auc: 0.828488\n",
      "[44]\ttraining's auc: 0.858117\tvalid_1's auc: 0.828484\n",
      "[45]\ttraining's auc: 0.858311\tvalid_1's auc: 0.82862\n",
      "[46]\ttraining's auc: 0.858445\tvalid_1's auc: 0.828611\n",
      "[47]\ttraining's auc: 0.85859\tvalid_1's auc: 0.828782\n",
      "[48]\ttraining's auc: 0.85872\tvalid_1's auc: 0.829036\n",
      "[49]\ttraining's auc: 0.858955\tvalid_1's auc: 0.829002\n",
      "[50]\ttraining's auc: 0.859114\tvalid_1's auc: 0.829005\n",
      "[51]\ttraining's auc: 0.859347\tvalid_1's auc: 0.829033\n",
      "[52]\ttraining's auc: 0.859636\tvalid_1's auc: 0.829157\n",
      "[53]\ttraining's auc: 0.859829\tvalid_1's auc: 0.829269\n",
      "[54]\ttraining's auc: 0.85993\tvalid_1's auc: 0.829257\n",
      "[55]\ttraining's auc: 0.860025\tvalid_1's auc: 0.829283\n",
      "[56]\ttraining's auc: 0.860254\tvalid_1's auc: 0.829182\n",
      "[57]\ttraining's auc: 0.860383\tvalid_1's auc: 0.82928\n",
      "[58]\ttraining's auc: 0.860552\tvalid_1's auc: 0.829446\n",
      "[59]\ttraining's auc: 0.860793\tvalid_1's auc: 0.82951\n",
      "[60]\ttraining's auc: 0.860873\tvalid_1's auc: 0.829518\n",
      "[61]\ttraining's auc: 0.86097\tvalid_1's auc: 0.829496\n",
      "[62]\ttraining's auc: 0.861231\tvalid_1's auc: 0.829525\n",
      "[63]\ttraining's auc: 0.861506\tvalid_1's auc: 0.829821\n",
      "[64]\ttraining's auc: 0.861673\tvalid_1's auc: 0.829833\n",
      "[65]\ttraining's auc: 0.861784\tvalid_1's auc: 0.82981\n",
      "[66]\ttraining's auc: 0.861922\tvalid_1's auc: 0.82987\n",
      "[67]\ttraining's auc: 0.862015\tvalid_1's auc: 0.829858\n",
      "[68]\ttraining's auc: 0.862179\tvalid_1's auc: 0.830138\n",
      "[69]\ttraining's auc: 0.862305\tvalid_1's auc: 0.830098\n",
      "[70]\ttraining's auc: 0.862494\tvalid_1's auc: 0.83018\n",
      "[71]\ttraining's auc: 0.86258\tvalid_1's auc: 0.830081\n",
      "[72]\ttraining's auc: 0.862662\tvalid_1's auc: 0.830028\n",
      "[73]\ttraining's auc: 0.862724\tvalid_1's auc: 0.830032\n",
      "[74]\ttraining's auc: 0.862997\tvalid_1's auc: 0.830084\n",
      "[75]\ttraining's auc: 0.863134\tvalid_1's auc: 0.830017\n",
      "[76]\ttraining's auc: 0.863203\tvalid_1's auc: 0.83005\n",
      "[77]\ttraining's auc: 0.863375\tvalid_1's auc: 0.830007\n",
      "[78]\ttraining's auc: 0.863469\tvalid_1's auc: 0.830103\n",
      "[79]\ttraining's auc: 0.863633\tvalid_1's auc: 0.830154\n",
      "[80]\ttraining's auc: 0.863724\tvalid_1's auc: 0.830116\n",
      "[81]\ttraining's auc: 0.86392\tvalid_1's auc: 0.830049\n",
      "[82]\ttraining's auc: 0.864055\tvalid_1's auc: 0.829975\n",
      "[83]\ttraining's auc: 0.864264\tvalid_1's auc: 0.830039\n",
      "[84]\ttraining's auc: 0.864423\tvalid_1's auc: 0.830031\n",
      "[85]\ttraining's auc: 0.864501\tvalid_1's auc: 0.830144\n",
      "[86]\ttraining's auc: 0.864541\tvalid_1's auc: 0.830115\n",
      "[87]\ttraining's auc: 0.864676\tvalid_1's auc: 0.830252\n",
      "[88]\ttraining's auc: 0.864751\tvalid_1's auc: 0.830224\n",
      "[89]\ttraining's auc: 0.864806\tvalid_1's auc: 0.830156\n",
      "[90]\ttraining's auc: 0.864976\tvalid_1's auc: 0.830465\n",
      "[91]\ttraining's auc: 0.865126\tvalid_1's auc: 0.830472\n",
      "[92]\ttraining's auc: 0.865165\tvalid_1's auc: 0.830489\n",
      "[93]\ttraining's auc: 0.865265\tvalid_1's auc: 0.830669\n",
      "[94]\ttraining's auc: 0.865468\tvalid_1's auc: 0.830679\n",
      "[95]\ttraining's auc: 0.865675\tvalid_1's auc: 0.830642\n",
      "[96]\ttraining's auc: 0.865764\tvalid_1's auc: 0.830583\n",
      "[97]\ttraining's auc: 0.865932\tvalid_1's auc: 0.830679\n",
      "[98]\ttraining's auc: 0.86605\tvalid_1's auc: 0.830721\n",
      "[99]\ttraining's auc: 0.866114\tvalid_1's auc: 0.830601\n",
      "[100]\ttraining's auc: 0.866182\tvalid_1's auc: 0.830571\n",
      "[101]\ttraining's auc: 0.866248\tvalid_1's auc: 0.830514\n",
      "[102]\ttraining's auc: 0.866287\tvalid_1's auc: 0.830498\n",
      "[103]\ttraining's auc: 0.866456\tvalid_1's auc: 0.830467\n",
      "[104]\ttraining's auc: 0.866525\tvalid_1's auc: 0.830437\n",
      "[105]\ttraining's auc: 0.866595\tvalid_1's auc: 0.830484\n",
      "[106]\ttraining's auc: 0.866693\tvalid_1's auc: 0.830462\n",
      "[107]\ttraining's auc: 0.866768\tvalid_1's auc: 0.830476\n",
      "[108]\ttraining's auc: 0.866943\tvalid_1's auc: 0.830462\n",
      "[109]\ttraining's auc: 0.866984\tvalid_1's auc: 0.830365\n",
      "[110]\ttraining's auc: 0.867131\tvalid_1's auc: 0.830458\n",
      "[111]\ttraining's auc: 0.867206\tvalid_1's auc: 0.830436\n",
      "[112]\ttraining's auc: 0.867263\tvalid_1's auc: 0.830386\n",
      "[113]\ttraining's auc: 0.86731\tvalid_1's auc: 0.830429\n",
      "[114]\ttraining's auc: 0.867349\tvalid_1's auc: 0.830364\n",
      "[115]\ttraining's auc: 0.867427\tvalid_1's auc: 0.830325\n",
      "[116]\ttraining's auc: 0.867466\tvalid_1's auc: 0.830255\n",
      "[117]\ttraining's auc: 0.86751\tvalid_1's auc: 0.830206\n",
      "[118]\ttraining's auc: 0.867552\tvalid_1's auc: 0.830244\n",
      "[119]\ttraining's auc: 0.867714\tvalid_1's auc: 0.830252\n",
      "[120]\ttraining's auc: 0.867778\tvalid_1's auc: 0.830254\n",
      "[121]\ttraining's auc: 0.867863\tvalid_1's auc: 0.830222\n",
      "[122]\ttraining's auc: 0.868044\tvalid_1's auc: 0.83029\n",
      "[123]\ttraining's auc: 0.868193\tvalid_1's auc: 0.830271\n",
      "[124]\ttraining's auc: 0.868305\tvalid_1's auc: 0.830262\n",
      "[125]\ttraining's auc: 0.868489\tvalid_1's auc: 0.830376\n",
      "[126]\ttraining's auc: 0.868602\tvalid_1's auc: 0.830319\n",
      "[127]\ttraining's auc: 0.868641\tvalid_1's auc: 0.830295\n",
      "[128]\ttraining's auc: 0.868678\tvalid_1's auc: 0.830144\n",
      "Early stopping, best iteration is:\n",
      "[98]\ttraining's auc: 0.86605\tvalid_1's auc: 0.830721\n",
      "VALID AUC : 0.8307211156372011 ACC : 0.7496640687987101\n",
      "\n",
      "writing prediction : output/auc:0.8307211156372011 acc:0.7496640687987101sweep lgbm.csv\n",
      "                                      Feature  Importance\n",
      "0                                      userID         653\n",
      "1                            assessmentItemID         424\n",
      "2                                      testId         181\n",
      "3                                KnowledgeTag         135\n",
      "35                                problem_acc          71\n",
      "40                          recent_solve_time          53\n",
      "13                             ItemAnswerRate          49\n",
      "5                                 SolvingTime          31\n",
      "25                             TestAnswerRate          28\n",
      "42                                   user_acc          27\n",
      "15           AverageItemSolvingTime_Incorrect          26\n",
      "18                      UserTagAvgSolvingTime          21\n",
      "31                              user_test_acc          18\n",
      "37                                    elapsed          17\n",
      "6                              CumulativeTime          16\n",
      "17  Difference_SolvingTime_AvgItemSolvingTime          15\n",
      "29                   user_test_correct_answer          11\n",
      "21        CumulativeUserTagExponentialAverage          10\n",
      "36                                    tag_acc          10\n",
      "11                            Item_last30days           5\n",
      "12               CumulativeUserItemAnswerRate           5\n",
      "19                              TagAnswerRate           5\n",
      "20         CumulativeUserTagAverageAnswerRate           5\n",
      "8                                   TimeOfDay           5\n",
      "32                    user_tag_correct_answer           5\n",
      "26                     categorize_solvingTime           4\n",
      "24                         PreviousItemAnswer           4\n",
      "22                     UserCumulativeTagCount           4\n",
      "14             AverageItemSolvingTime_Correct           4\n",
      "10                             Item_last7days           3\n",
      "4                                     Itemseq           3\n",
      "23                        UserRecentTagAnswer           3\n",
      "33                               user_tag_acc           3\n",
      "41                  moving_average_solve_time           2\n",
      "38                              total_elapsed           2\n",
      "9                         CumulativeItemCount           1\n",
      "39                        user_total_attempts           1\n",
      "7                                       Month           1\n",
      "30                     user_test_total_answer           1\n",
      "16                     AverageItemSolvingTime           0\n",
      "27                  categorize_ItemAnswerRate           0\n",
      "28    categorize_CumulativeUserItemAnswerRate           0\n",
      "34                                     repeat           0\n"
     ]
    },
    {
     "data": {
      "application/vnd.jupyter.widget-view+json": {
       "model_id": "a3f3013cb80d409d9229fe12c5474637",
       "version_major": 2,
       "version_minor": 0
      },
      "text/plain": [
       "VBox(children=(Label(value='0.002 MB of 0.002 MB uploaded\\r'), FloatProgress(value=1.0, max=1.0)))"
      ]
     },
     "metadata": {},
     "output_type": "display_data"
    },
    {
     "data": {
      "text/html": [
       "<style>\n",
       "    table.wandb td:nth-child(1) { padding: 0 10px; text-align: left ; width: auto;} td:nth-child(2) {text-align: left ; width: 100%}\n",
       "    .wandb-row { display: flex; flex-direction: row; flex-wrap: wrap; justify-content: flex-start; width: 100% }\n",
       "    .wandb-col { display: flex; flex-direction: column; flex-basis: 100%; flex: 1; padding: 10px; }\n",
       "    </style>\n",
       "<div class=\"wandb-row\"><div class=\"wandb-col\"><h3>Run history:</h3><br/><table class=\"wandb\"><tr><td>accuracy</td><td>▁</td></tr><tr><td>auc</td><td>▁</td></tr><tr><td>iteration</td><td>▁▁▁▁▂▂▂▂▂▃▃▃▃▃▃▄▄▄▄▄▅▅▅▅▅▅▆▆▆▆▆▇▇▇▇▇▇███</td></tr><tr><td>training_auc</td><td>▁▂▃▄▄▅▅▅▅▆▆▆▆▆▆▆▇▇▇▇▇▇▇▇▇▇▇▇▇▇██████████</td></tr><tr><td>valid_1_auc</td><td>▁▃▄▅▅▆▆▇▇▇▇▇▇███████████████████████████</td></tr></table><br/></div><div class=\"wandb-col\"><h3>Run summary:</h3><br/><table class=\"wandb\"><tr><td>accuracy</td><td>0.74966</td></tr><tr><td>auc</td><td>0.83072</td></tr><tr><td>iteration</td><td>127</td></tr></table><br/></div></div>"
      ],
      "text/plain": [
       "<IPython.core.display.HTML object>"
      ]
     },
     "metadata": {},
     "output_type": "display_data"
    },
    {
     "data": {
      "text/html": [
       " View run <strong style=\"color:#cdcd00\">wandering-sweep-4</strong> at: <a href='https://wandb.ai/boostcamp6-recsys6/lightgbm-sweep/runs/va55dbye' target=\"_blank\">https://wandb.ai/boostcamp6-recsys6/lightgbm-sweep/runs/va55dbye</a><br/>Synced 6 W&B file(s), 0 media file(s), 0 artifact file(s) and 0 other file(s)"
      ],
      "text/plain": [
       "<IPython.core.display.HTML object>"
      ]
     },
     "metadata": {},
     "output_type": "display_data"
    },
    {
     "data": {
      "text/html": [
       "Find logs at: <code>./wandb/run-20240124_061353-va55dbye/logs</code>"
      ],
      "text/plain": [
       "<IPython.core.display.HTML object>"
      ]
     },
     "metadata": {},
     "output_type": "display_data"
    },
    {
     "name": "stderr",
     "output_type": "stream",
     "text": [
      "\u001b[34m\u001b[1mwandb\u001b[0m: Agent Starting Run: zspcodcb with config:\n",
      "\u001b[34m\u001b[1mwandb\u001b[0m: \tbagging_fraction: 0.8295399869384589\n",
      "\u001b[34m\u001b[1mwandb\u001b[0m: \tbagging_freq: 21\n",
      "\u001b[34m\u001b[1mwandb\u001b[0m: \tfeature_fraction: 0.70535551115946\n",
      "\u001b[34m\u001b[1mwandb\u001b[0m: \tlambda_l1: 12.531194153489814\n",
      "\u001b[34m\u001b[1mwandb\u001b[0m: \tlambda_l2: 8.658321331563497\n",
      "\u001b[34m\u001b[1mwandb\u001b[0m: \tlearning_rate: 0.3039082768650463\n",
      "\u001b[34m\u001b[1mwandb\u001b[0m: \tmax_depth: 29\n",
      "\u001b[34m\u001b[1mwandb\u001b[0m: \tmin_data_in_leaf: 59\n",
      "\u001b[34m\u001b[1mwandb\u001b[0m: \tnum_leaves: 32\n",
      "\u001b[34m\u001b[1mwandb\u001b[0m: \u001b[33mWARNING\u001b[0m Ignored wandb.init() arg project when running a sweep.\n"
     ]
    },
    {
     "data": {
      "text/html": [
       "Tracking run with wandb version 0.16.2"
      ],
      "text/plain": [
       "<IPython.core.display.HTML object>"
      ]
     },
     "metadata": {},
     "output_type": "display_data"
    },
    {
     "data": {
      "text/html": [
       "Run data is saved locally in <code>/data/ephemeral/level2-dkt-recsys-06/code/boost/wandb/run-20240124_061624-zspcodcb</code>"
      ],
      "text/plain": [
       "<IPython.core.display.HTML object>"
      ]
     },
     "metadata": {},
     "output_type": "display_data"
    },
    {
     "data": {
      "text/html": [
       "Syncing run <strong><a href='https://wandb.ai/boostcamp6-recsys6/lightgbm-sweep/runs/zspcodcb' target=\"_blank\">lemon-sweep-5</a></strong> to <a href='https://wandb.ai/boostcamp6-recsys6/lightgbm-sweep' target=\"_blank\">Weights & Biases</a> (<a href='https://wandb.me/run' target=\"_blank\">docs</a>)<br/>Sweep page: <a href='https://wandb.ai/boostcamp6-recsys6/lightgbm-sweep/sweeps/r2twjdzb' target=\"_blank\">https://wandb.ai/boostcamp6-recsys6/lightgbm-sweep/sweeps/r2twjdzb</a>"
      ],
      "text/plain": [
       "<IPython.core.display.HTML object>"
      ]
     },
     "metadata": {},
     "output_type": "display_data"
    },
    {
     "data": {
      "text/html": [
       " View project at <a href='https://wandb.ai/boostcamp6-recsys6/lightgbm-sweep' target=\"_blank\">https://wandb.ai/boostcamp6-recsys6/lightgbm-sweep</a>"
      ],
      "text/plain": [
       "<IPython.core.display.HTML object>"
      ]
     },
     "metadata": {},
     "output_type": "display_data"
    },
    {
     "data": {
      "text/html": [
       " View sweep at <a href='https://wandb.ai/boostcamp6-recsys6/lightgbm-sweep/sweeps/r2twjdzb' target=\"_blank\">https://wandb.ai/boostcamp6-recsys6/lightgbm-sweep/sweeps/r2twjdzb</a>"
      ],
      "text/plain": [
       "<IPython.core.display.HTML object>"
      ]
     },
     "metadata": {},
     "output_type": "display_data"
    },
    {
     "data": {
      "text/html": [
       " View run at <a href='https://wandb.ai/boostcamp6-recsys6/lightgbm-sweep/runs/zspcodcb' target=\"_blank\">https://wandb.ai/boostcamp6-recsys6/lightgbm-sweep/runs/zspcodcb</a>"
      ],
      "text/plain": [
       "<IPython.core.display.HTML object>"
      ]
     },
     "metadata": {},
     "output_type": "display_data"
    },
    {
     "name": "stdout",
     "output_type": "stream",
     "text": [
      "[LightGBM] [Warning] Met categorical feature which contains sparse values. Consider renumbering to consecutive integers started from zero\n",
      "[LightGBM] [Info] Number of positive: 1649973, number of negative: 868541\n",
      "[LightGBM] [Warning] Auto-choosing col-wise multi-threading, the overhead of testing was 0.431925 seconds.\n",
      "You can set `force_col_wise=true` to remove the overhead.\n",
      "[LightGBM] [Info] Total Bins 22915\n",
      "[LightGBM] [Info] Number of data points in the train set: 2518514, number of used features: 43\n",
      "[LightGBM] [Info] [binary:BoostFromScore]: pavg=0.655138 -> initscore=0.641699\n",
      "[LightGBM] [Info] Start training from score 0.641699\n"
     ]
    },
    {
     "name": "stderr",
     "output_type": "stream",
     "text": [
      "\u001b[34m\u001b[1mwandb\u001b[0m: \u001b[33mWARNING\u001b[0m Config item 'num_leaves' was locked by 'sweep' (ignored update).\n",
      "\u001b[34m\u001b[1mwandb\u001b[0m: \u001b[33mWARNING\u001b[0m Config item 'learning_rate' was locked by 'sweep' (ignored update).\n",
      "\u001b[34m\u001b[1mwandb\u001b[0m: \u001b[33mWARNING\u001b[0m Config item 'max_depth' was locked by 'sweep' (ignored update).\n",
      "\u001b[34m\u001b[1mwandb\u001b[0m: \u001b[33mWARNING\u001b[0m Config item 'min_data_in_leaf' was locked by 'sweep' (ignored update).\n",
      "\u001b[34m\u001b[1mwandb\u001b[0m: \u001b[33mWARNING\u001b[0m Config item 'feature_fraction' was locked by 'sweep' (ignored update).\n",
      "\u001b[34m\u001b[1mwandb\u001b[0m: \u001b[33mWARNING\u001b[0m Config item 'bagging_fraction' was locked by 'sweep' (ignored update).\n",
      "\u001b[34m\u001b[1mwandb\u001b[0m: \u001b[33mWARNING\u001b[0m Config item 'bagging_freq' was locked by 'sweep' (ignored update).\n",
      "\u001b[34m\u001b[1mwandb\u001b[0m: \u001b[33mWARNING\u001b[0m Config item 'lambda_l1' was locked by 'sweep' (ignored update).\n",
      "\u001b[34m\u001b[1mwandb\u001b[0m: \u001b[33mWARNING\u001b[0m Config item 'lambda_l2' was locked by 'sweep' (ignored update).\n"
     ]
    },
    {
     "name": "stdout",
     "output_type": "stream",
     "text": [
      "[1]\ttraining's auc: 0.821851\tvalid_1's auc: 0.796783\n",
      "Training until validation scores don't improve for 30 rounds\n",
      "[2]\ttraining's auc: 0.832469\tvalid_1's auc: 0.805882\n",
      "[3]\ttraining's auc: 0.836345\tvalid_1's auc: 0.810517\n",
      "[4]\ttraining's auc: 0.839232\tvalid_1's auc: 0.813473\n",
      "[5]\ttraining's auc: 0.841465\tvalid_1's auc: 0.815367\n",
      "[6]\ttraining's auc: 0.843428\tvalid_1's auc: 0.816829\n",
      "[7]\ttraining's auc: 0.845033\tvalid_1's auc: 0.817848\n",
      "[8]\ttraining's auc: 0.846351\tvalid_1's auc: 0.819192\n",
      "[9]\ttraining's auc: 0.847654\tvalid_1's auc: 0.821466\n",
      "[10]\ttraining's auc: 0.848839\tvalid_1's auc: 0.822122\n",
      "[11]\ttraining's auc: 0.849878\tvalid_1's auc: 0.822942\n",
      "[12]\ttraining's auc: 0.85081\tvalid_1's auc: 0.823985\n",
      "[13]\ttraining's auc: 0.851852\tvalid_1's auc: 0.824551\n",
      "[14]\ttraining's auc: 0.852582\tvalid_1's auc: 0.825315\n",
      "[15]\ttraining's auc: 0.853347\tvalid_1's auc: 0.825742\n",
      "[16]\ttraining's auc: 0.854251\tvalid_1's auc: 0.826232\n",
      "[17]\ttraining's auc: 0.854874\tvalid_1's auc: 0.826433\n",
      "[18]\ttraining's auc: 0.855428\tvalid_1's auc: 0.827315\n",
      "[19]\ttraining's auc: 0.856175\tvalid_1's auc: 0.827878\n",
      "[20]\ttraining's auc: 0.85691\tvalid_1's auc: 0.828344\n",
      "[21]\ttraining's auc: 0.857512\tvalid_1's auc: 0.828685\n",
      "[22]\ttraining's auc: 0.858127\tvalid_1's auc: 0.829496\n",
      "[23]\ttraining's auc: 0.858591\tvalid_1's auc: 0.82942\n",
      "[24]\ttraining's auc: 0.85892\tvalid_1's auc: 0.829793\n",
      "[25]\ttraining's auc: 0.859444\tvalid_1's auc: 0.830536\n",
      "[26]\ttraining's auc: 0.859851\tvalid_1's auc: 0.830689\n",
      "[27]\ttraining's auc: 0.860251\tvalid_1's auc: 0.830707\n",
      "[28]\ttraining's auc: 0.860729\tvalid_1's auc: 0.830594\n",
      "[29]\ttraining's auc: 0.861255\tvalid_1's auc: 0.831115\n",
      "[30]\ttraining's auc: 0.86148\tvalid_1's auc: 0.831154\n",
      "[31]\ttraining's auc: 0.861745\tvalid_1's auc: 0.831183\n",
      "[32]\ttraining's auc: 0.862065\tvalid_1's auc: 0.831361\n",
      "[33]\ttraining's auc: 0.86242\tvalid_1's auc: 0.831486\n",
      "[34]\ttraining's auc: 0.862715\tvalid_1's auc: 0.831603\n",
      "[35]\ttraining's auc: 0.863001\tvalid_1's auc: 0.831789\n",
      "[36]\ttraining's auc: 0.863374\tvalid_1's auc: 0.831893\n",
      "[37]\ttraining's auc: 0.863751\tvalid_1's auc: 0.831734\n",
      "[38]\ttraining's auc: 0.864164\tvalid_1's auc: 0.832204\n",
      "[39]\ttraining's auc: 0.86453\tvalid_1's auc: 0.832419\n",
      "[40]\ttraining's auc: 0.864734\tvalid_1's auc: 0.832507\n",
      "[41]\ttraining's auc: 0.864941\tvalid_1's auc: 0.832514\n",
      "[42]\ttraining's auc: 0.865135\tvalid_1's auc: 0.832658\n",
      "[43]\ttraining's auc: 0.865336\tvalid_1's auc: 0.832723\n",
      "[44]\ttraining's auc: 0.865492\tvalid_1's auc: 0.832844\n",
      "[45]\ttraining's auc: 0.865741\tvalid_1's auc: 0.832773\n",
      "[46]\ttraining's auc: 0.865872\tvalid_1's auc: 0.832639\n",
      "[47]\ttraining's auc: 0.866077\tvalid_1's auc: 0.832418\n",
      "[48]\ttraining's auc: 0.866288\tvalid_1's auc: 0.832441\n",
      "[49]\ttraining's auc: 0.866421\tvalid_1's auc: 0.832406\n",
      "[50]\ttraining's auc: 0.866756\tvalid_1's auc: 0.832781\n",
      "[51]\ttraining's auc: 0.867101\tvalid_1's auc: 0.832834\n",
      "[52]\ttraining's auc: 0.867441\tvalid_1's auc: 0.832954\n",
      "[53]\ttraining's auc: 0.867793\tvalid_1's auc: 0.833023\n",
      "[54]\ttraining's auc: 0.868026\tvalid_1's auc: 0.833106\n",
      "[55]\ttraining's auc: 0.868357\tvalid_1's auc: 0.833256\n",
      "[56]\ttraining's auc: 0.868653\tvalid_1's auc: 0.833321\n",
      "[57]\ttraining's auc: 0.868915\tvalid_1's auc: 0.833353\n",
      "[58]\ttraining's auc: 0.86924\tvalid_1's auc: 0.833688\n",
      "[59]\ttraining's auc: 0.869491\tvalid_1's auc: 0.83366\n",
      "[60]\ttraining's auc: 0.869584\tvalid_1's auc: 0.833603\n",
      "[61]\ttraining's auc: 0.869901\tvalid_1's auc: 0.833474\n",
      "[62]\ttraining's auc: 0.870119\tvalid_1's auc: 0.833526\n",
      "[63]\ttraining's auc: 0.870235\tvalid_1's auc: 0.833394\n",
      "[64]\ttraining's auc: 0.870346\tvalid_1's auc: 0.833331\n",
      "[65]\ttraining's auc: 0.870464\tvalid_1's auc: 0.833231\n",
      "[66]\ttraining's auc: 0.870663\tvalid_1's auc: 0.833115\n",
      "[67]\ttraining's auc: 0.870787\tvalid_1's auc: 0.833055\n",
      "[68]\ttraining's auc: 0.871064\tvalid_1's auc: 0.833387\n",
      "[69]\ttraining's auc: 0.871175\tvalid_1's auc: 0.833383\n",
      "[70]\ttraining's auc: 0.871442\tvalid_1's auc: 0.833253\n",
      "[71]\ttraining's auc: 0.871654\tvalid_1's auc: 0.833073\n",
      "[72]\ttraining's auc: 0.871852\tvalid_1's auc: 0.833102\n",
      "[73]\ttraining's auc: 0.872136\tvalid_1's auc: 0.833089\n",
      "[74]\ttraining's auc: 0.872447\tvalid_1's auc: 0.833176\n",
      "[75]\ttraining's auc: 0.87258\tvalid_1's auc: 0.833346\n",
      "[76]\ttraining's auc: 0.872846\tvalid_1's auc: 0.833383\n",
      "[77]\ttraining's auc: 0.872978\tvalid_1's auc: 0.833322\n",
      "[78]\ttraining's auc: 0.873186\tvalid_1's auc: 0.833393\n",
      "[79]\ttraining's auc: 0.873348\tvalid_1's auc: 0.833345\n",
      "[80]\ttraining's auc: 0.873493\tvalid_1's auc: 0.833412\n",
      "[81]\ttraining's auc: 0.873682\tvalid_1's auc: 0.833474\n",
      "[82]\ttraining's auc: 0.873855\tvalid_1's auc: 0.833364\n",
      "[83]\ttraining's auc: 0.874048\tvalid_1's auc: 0.833431\n",
      "[84]\ttraining's auc: 0.874237\tvalid_1's auc: 0.83337\n",
      "[85]\ttraining's auc: 0.874338\tvalid_1's auc: 0.833466\n",
      "[86]\ttraining's auc: 0.874372\tvalid_1's auc: 0.833514\n",
      "[87]\ttraining's auc: 0.874573\tvalid_1's auc: 0.833546\n",
      "[88]\ttraining's auc: 0.874665\tvalid_1's auc: 0.833637\n",
      "Early stopping, best iteration is:\n",
      "[58]\ttraining's auc: 0.86924\tvalid_1's auc: 0.833688\n",
      "VALID AUC : 0.8336880236190336 ACC : 0.7554420854608976\n",
      "\n",
      "writing prediction : output/auc:0.8336880236190336 acc:0.7554420854608976sweep lgbm.csv\n",
      "                                      Feature  Importance\n",
      "0                                      userID         529\n",
      "1                            assessmentItemID         487\n",
      "2                                      testId         198\n",
      "3                                KnowledgeTag         153\n",
      "35                                problem_acc          65\n",
      "40                          recent_solve_time          44\n",
      "13                             ItemAnswerRate          34\n",
      "15           AverageItemSolvingTime_Incorrect          28\n",
      "31                              user_test_acc          27\n",
      "42                                   user_acc          25\n",
      "5                                 SolvingTime          22\n",
      "25                             TestAnswerRate          20\n",
      "18                      UserTagAvgSolvingTime          19\n",
      "17  Difference_SolvingTime_AvgItemSolvingTime          16\n",
      "37                                    elapsed          15\n",
      "36                                    tag_acc          13\n",
      "6                              CumulativeTime          13\n",
      "21        CumulativeUserTagExponentialAverage          10\n",
      "29                   user_test_correct_answer           8\n",
      "14             AverageItemSolvingTime_Correct           7\n",
      "24                         PreviousItemAnswer           6\n",
      "19                              TagAnswerRate           6\n",
      "26                     categorize_solvingTime           5\n",
      "12               CumulativeUserItemAnswerRate           5\n",
      "8                                   TimeOfDay           4\n",
      "11                            Item_last30days           4\n",
      "20         CumulativeUserTagAverageAnswerRate           4\n",
      "22                     UserCumulativeTagCount           4\n",
      "10                             Item_last7days           3\n",
      "4                                     Itemseq           3\n",
      "28    categorize_CumulativeUserItemAnswerRate           3\n",
      "39                        user_total_attempts           3\n",
      "41                  moving_average_solve_time           2\n",
      "38                              total_elapsed           2\n",
      "9                         CumulativeItemCount           2\n",
      "33                               user_tag_acc           2\n",
      "32                    user_tag_correct_answer           2\n",
      "30                     user_test_total_answer           2\n",
      "7                                       Month           2\n",
      "23                        UserRecentTagAnswer           1\n",
      "34                                     repeat           0\n",
      "16                     AverageItemSolvingTime           0\n",
      "27                  categorize_ItemAnswerRate           0\n"
     ]
    },
    {
     "data": {
      "application/vnd.jupyter.widget-view+json": {
       "model_id": "0eef73bdb34249c48a4f7d2831b94648",
       "version_major": 2,
       "version_minor": 0
      },
      "text/plain": [
       "VBox(children=(Label(value='0.002 MB of 0.002 MB uploaded\\r'), FloatProgress(value=1.0, max=1.0)))"
      ]
     },
     "metadata": {},
     "output_type": "display_data"
    },
    {
     "data": {
      "text/html": [
       "<style>\n",
       "    table.wandb td:nth-child(1) { padding: 0 10px; text-align: left ; width: auto;} td:nth-child(2) {text-align: left ; width: 100%}\n",
       "    .wandb-row { display: flex; flex-direction: row; flex-wrap: wrap; justify-content: flex-start; width: 100% }\n",
       "    .wandb-col { display: flex; flex-direction: column; flex-basis: 100%; flex: 1; padding: 10px; }\n",
       "    </style>\n",
       "<div class=\"wandb-row\"><div class=\"wandb-col\"><h3>Run history:</h3><br/><table class=\"wandb\"><tr><td>accuracy</td><td>▁</td></tr><tr><td>auc</td><td>▁</td></tr><tr><td>iteration</td><td>▁▁▁▁▂▂▂▂▂▃▃▃▃▃▃▄▄▄▄▄▅▅▅▅▅▅▆▆▆▆▆▇▇▇▇▇▇███</td></tr><tr><td>training_auc</td><td>▁▃▄▄▄▅▅▅▅▆▆▆▆▆▆▆▇▇▇▇▇▇▇▇▇▇▇▇▇▇▇█████████</td></tr><tr><td>valid_1_auc</td><td>▁▄▅▅▆▆▆▇▇▇▇▇▇███████████████████████████</td></tr></table><br/></div><div class=\"wandb-col\"><h3>Run summary:</h3><br/><table class=\"wandb\"><tr><td>accuracy</td><td>0.75544</td></tr><tr><td>auc</td><td>0.83369</td></tr><tr><td>iteration</td><td>87</td></tr></table><br/></div></div>"
      ],
      "text/plain": [
       "<IPython.core.display.HTML object>"
      ]
     },
     "metadata": {},
     "output_type": "display_data"
    },
    {
     "data": {
      "text/html": [
       " View run <strong style=\"color:#cdcd00\">lemon-sweep-5</strong> at: <a href='https://wandb.ai/boostcamp6-recsys6/lightgbm-sweep/runs/zspcodcb' target=\"_blank\">https://wandb.ai/boostcamp6-recsys6/lightgbm-sweep/runs/zspcodcb</a><br/>Synced 6 W&B file(s), 0 media file(s), 0 artifact file(s) and 0 other file(s)"
      ],
      "text/plain": [
       "<IPython.core.display.HTML object>"
      ]
     },
     "metadata": {},
     "output_type": "display_data"
    },
    {
     "data": {
      "text/html": [
       "Find logs at: <code>./wandb/run-20240124_061624-zspcodcb/logs</code>"
      ],
      "text/plain": [
       "<IPython.core.display.HTML object>"
      ]
     },
     "metadata": {},
     "output_type": "display_data"
    },
    {
     "name": "stderr",
     "output_type": "stream",
     "text": [
      "\u001b[34m\u001b[1mwandb\u001b[0m: Sweep Agent: Waiting for job.\n",
      "\u001b[34m\u001b[1mwandb\u001b[0m: Job received.\n",
      "\u001b[34m\u001b[1mwandb\u001b[0m: Agent Starting Run: eyikrwei with config:\n",
      "\u001b[34m\u001b[1mwandb\u001b[0m: \tbagging_fraction: 0.7775070139382719\n",
      "\u001b[34m\u001b[1mwandb\u001b[0m: \tbagging_freq: 26\n",
      "\u001b[34m\u001b[1mwandb\u001b[0m: \tfeature_fraction: 0.7682180828927625\n",
      "\u001b[34m\u001b[1mwandb\u001b[0m: \tlambda_l1: 9.63824499679918\n",
      "\u001b[34m\u001b[1mwandb\u001b[0m: \tlambda_l2: 7.885569128871165\n",
      "\u001b[34m\u001b[1mwandb\u001b[0m: \tlearning_rate: 0.25445130707270025\n",
      "\u001b[34m\u001b[1mwandb\u001b[0m: \tmax_depth: 32\n",
      "\u001b[34m\u001b[1mwandb\u001b[0m: \tmin_data_in_leaf: 55\n",
      "\u001b[34m\u001b[1mwandb\u001b[0m: \tnum_leaves: 31\n",
      "\u001b[34m\u001b[1mwandb\u001b[0m: \u001b[33mWARNING\u001b[0m Ignored wandb.init() arg project when running a sweep.\n"
     ]
    },
    {
     "data": {
      "text/html": [
       "Tracking run with wandb version 0.16.2"
      ],
      "text/plain": [
       "<IPython.core.display.HTML object>"
      ]
     },
     "metadata": {},
     "output_type": "display_data"
    },
    {
     "data": {
      "text/html": [
       "Run data is saved locally in <code>/data/ephemeral/level2-dkt-recsys-06/code/boost/wandb/run-20240124_061922-eyikrwei</code>"
      ],
      "text/plain": [
       "<IPython.core.display.HTML object>"
      ]
     },
     "metadata": {},
     "output_type": "display_data"
    },
    {
     "data": {
      "text/html": [
       "Syncing run <strong><a href='https://wandb.ai/boostcamp6-recsys6/lightgbm-sweep/runs/eyikrwei' target=\"_blank\">fanciful-sweep-6</a></strong> to <a href='https://wandb.ai/boostcamp6-recsys6/lightgbm-sweep' target=\"_blank\">Weights & Biases</a> (<a href='https://wandb.me/run' target=\"_blank\">docs</a>)<br/>Sweep page: <a href='https://wandb.ai/boostcamp6-recsys6/lightgbm-sweep/sweeps/r2twjdzb' target=\"_blank\">https://wandb.ai/boostcamp6-recsys6/lightgbm-sweep/sweeps/r2twjdzb</a>"
      ],
      "text/plain": [
       "<IPython.core.display.HTML object>"
      ]
     },
     "metadata": {},
     "output_type": "display_data"
    },
    {
     "data": {
      "text/html": [
       " View project at <a href='https://wandb.ai/boostcamp6-recsys6/lightgbm-sweep' target=\"_blank\">https://wandb.ai/boostcamp6-recsys6/lightgbm-sweep</a>"
      ],
      "text/plain": [
       "<IPython.core.display.HTML object>"
      ]
     },
     "metadata": {},
     "output_type": "display_data"
    },
    {
     "data": {
      "text/html": [
       " View sweep at <a href='https://wandb.ai/boostcamp6-recsys6/lightgbm-sweep/sweeps/r2twjdzb' target=\"_blank\">https://wandb.ai/boostcamp6-recsys6/lightgbm-sweep/sweeps/r2twjdzb</a>"
      ],
      "text/plain": [
       "<IPython.core.display.HTML object>"
      ]
     },
     "metadata": {},
     "output_type": "display_data"
    },
    {
     "data": {
      "text/html": [
       " View run at <a href='https://wandb.ai/boostcamp6-recsys6/lightgbm-sweep/runs/eyikrwei' target=\"_blank\">https://wandb.ai/boostcamp6-recsys6/lightgbm-sweep/runs/eyikrwei</a>"
      ],
      "text/plain": [
       "<IPython.core.display.HTML object>"
      ]
     },
     "metadata": {},
     "output_type": "display_data"
    },
    {
     "name": "stdout",
     "output_type": "stream",
     "text": [
      "[LightGBM] [Warning] Accuracy may be bad since you didn't explicitly set num_leaves OR 2^max_depth > num_leaves. (num_leaves=31).\n",
      "[LightGBM] [Warning] Met categorical feature which contains sparse values. Consider renumbering to consecutive integers started from zero\n",
      "[LightGBM] [Warning] Accuracy may be bad since you didn't explicitly set num_leaves OR 2^max_depth > num_leaves. (num_leaves=31).\n",
      "[LightGBM] [Info] Number of positive: 1649973, number of negative: 868541\n",
      "[LightGBM] [Warning] Auto-choosing row-wise multi-threading, the overhead of testing was 0.066561 seconds.\n",
      "You can set `force_row_wise=true` to remove the overhead.\n",
      "And if memory is not enough, you can set `force_col_wise=true`.\n",
      "[LightGBM] [Info] Total Bins 22915\n",
      "[LightGBM] [Info] Number of data points in the train set: 2518514, number of used features: 43\n",
      "[LightGBM] [Warning] Accuracy may be bad since you didn't explicitly set num_leaves OR 2^max_depth > num_leaves. (num_leaves=31).\n",
      "[LightGBM] [Info] [binary:BoostFromScore]: pavg=0.655138 -> initscore=0.641699\n",
      "[LightGBM] [Info] Start training from score 0.641699\n"
     ]
    },
    {
     "name": "stderr",
     "output_type": "stream",
     "text": [
      "\u001b[34m\u001b[1mwandb\u001b[0m: \u001b[33mWARNING\u001b[0m Config item 'num_leaves' was locked by 'sweep' (ignored update).\n",
      "\u001b[34m\u001b[1mwandb\u001b[0m: \u001b[33mWARNING\u001b[0m Config item 'learning_rate' was locked by 'sweep' (ignored update).\n",
      "\u001b[34m\u001b[1mwandb\u001b[0m: \u001b[33mWARNING\u001b[0m Config item 'max_depth' was locked by 'sweep' (ignored update).\n",
      "\u001b[34m\u001b[1mwandb\u001b[0m: \u001b[33mWARNING\u001b[0m Config item 'min_data_in_leaf' was locked by 'sweep' (ignored update).\n",
      "\u001b[34m\u001b[1mwandb\u001b[0m: \u001b[33mWARNING\u001b[0m Config item 'feature_fraction' was locked by 'sweep' (ignored update).\n",
      "\u001b[34m\u001b[1mwandb\u001b[0m: \u001b[33mWARNING\u001b[0m Config item 'bagging_fraction' was locked by 'sweep' (ignored update).\n",
      "\u001b[34m\u001b[1mwandb\u001b[0m: \u001b[33mWARNING\u001b[0m Config item 'bagging_freq' was locked by 'sweep' (ignored update).\n",
      "\u001b[34m\u001b[1mwandb\u001b[0m: \u001b[33mWARNING\u001b[0m Config item 'lambda_l1' was locked by 'sweep' (ignored update).\n",
      "\u001b[34m\u001b[1mwandb\u001b[0m: \u001b[33mWARNING\u001b[0m Config item 'lambda_l2' was locked by 'sweep' (ignored update).\n"
     ]
    },
    {
     "name": "stdout",
     "output_type": "stream",
     "text": [
      "[1]\ttraining's auc: 0.822877\tvalid_1's auc: 0.799112\n",
      "Training until validation scores don't improve for 30 rounds\n",
      "[2]\ttraining's auc: 0.831549\tvalid_1's auc: 0.805722\n",
      "[3]\ttraining's auc: 0.835549\tvalid_1's auc: 0.809371\n",
      "[4]\ttraining's auc: 0.83766\tvalid_1's auc: 0.811941\n",
      "[5]\ttraining's auc: 0.839952\tvalid_1's auc: 0.814244\n",
      "[6]\ttraining's auc: 0.841753\tvalid_1's auc: 0.815416\n",
      "[7]\ttraining's auc: 0.843371\tvalid_1's auc: 0.816684\n",
      "[8]\ttraining's auc: 0.844696\tvalid_1's auc: 0.818588\n",
      "[9]\ttraining's auc: 0.845711\tvalid_1's auc: 0.8204\n",
      "[10]\ttraining's auc: 0.846893\tvalid_1's auc: 0.820941\n",
      "[11]\ttraining's auc: 0.848034\tvalid_1's auc: 0.82162\n",
      "[12]\ttraining's auc: 0.849112\tvalid_1's auc: 0.82217\n",
      "[13]\ttraining's auc: 0.849931\tvalid_1's auc: 0.822708\n",
      "[14]\ttraining's auc: 0.85077\tvalid_1's auc: 0.823421\n",
      "[15]\ttraining's auc: 0.85151\tvalid_1's auc: 0.824276\n",
      "[16]\ttraining's auc: 0.852308\tvalid_1's auc: 0.82457\n",
      "[17]\ttraining's auc: 0.853006\tvalid_1's auc: 0.825141\n",
      "[18]\ttraining's auc: 0.853554\tvalid_1's auc: 0.826084\n",
      "[19]\ttraining's auc: 0.854321\tvalid_1's auc: 0.826661\n",
      "[20]\ttraining's auc: 0.855012\tvalid_1's auc: 0.826783\n",
      "[21]\ttraining's auc: 0.855688\tvalid_1's auc: 0.82699\n",
      "[22]\ttraining's auc: 0.856239\tvalid_1's auc: 0.827667\n",
      "[23]\ttraining's auc: 0.856835\tvalid_1's auc: 0.828115\n",
      "[24]\ttraining's auc: 0.857254\tvalid_1's auc: 0.828559\n",
      "[25]\ttraining's auc: 0.857886\tvalid_1's auc: 0.829125\n",
      "[26]\ttraining's auc: 0.858171\tvalid_1's auc: 0.829585\n",
      "[27]\ttraining's auc: 0.858609\tvalid_1's auc: 0.829715\n",
      "[28]\ttraining's auc: 0.859027\tvalid_1's auc: 0.829957\n",
      "[29]\ttraining's auc: 0.859473\tvalid_1's auc: 0.830276\n",
      "[30]\ttraining's auc: 0.85989\tvalid_1's auc: 0.83034\n",
      "[31]\ttraining's auc: 0.8601\tvalid_1's auc: 0.830402\n",
      "[32]\ttraining's auc: 0.860369\tvalid_1's auc: 0.830477\n",
      "[33]\ttraining's auc: 0.860661\tvalid_1's auc: 0.830728\n",
      "[34]\ttraining's auc: 0.861034\tvalid_1's auc: 0.830732\n",
      "[35]\ttraining's auc: 0.861433\tvalid_1's auc: 0.830828\n",
      "[36]\ttraining's auc: 0.861786\tvalid_1's auc: 0.830996\n",
      "[37]\ttraining's auc: 0.862027\tvalid_1's auc: 0.831159\n",
      "[38]\ttraining's auc: 0.86249\tvalid_1's auc: 0.831518\n",
      "[39]\ttraining's auc: 0.862765\tvalid_1's auc: 0.832061\n",
      "[40]\ttraining's auc: 0.862934\tvalid_1's auc: 0.832101\n",
      "[41]\ttraining's auc: 0.863205\tvalid_1's auc: 0.832098\n",
      "[42]\ttraining's auc: 0.863456\tvalid_1's auc: 0.832086\n",
      "[43]\ttraining's auc: 0.86377\tvalid_1's auc: 0.83201\n",
      "[44]\ttraining's auc: 0.863947\tvalid_1's auc: 0.832026\n",
      "[45]\ttraining's auc: 0.86412\tvalid_1's auc: 0.832133\n",
      "[46]\ttraining's auc: 0.864388\tvalid_1's auc: 0.832463\n",
      "[47]\ttraining's auc: 0.864597\tvalid_1's auc: 0.83245\n",
      "[48]\ttraining's auc: 0.864714\tvalid_1's auc: 0.832471\n",
      "[49]\ttraining's auc: 0.865033\tvalid_1's auc: 0.832483\n",
      "[50]\ttraining's auc: 0.865317\tvalid_1's auc: 0.832613\n",
      "[51]\ttraining's auc: 0.865606\tvalid_1's auc: 0.832616\n",
      "[52]\ttraining's auc: 0.865791\tvalid_1's auc: 0.832633\n",
      "[53]\ttraining's auc: 0.86594\tvalid_1's auc: 0.832518\n",
      "[54]\ttraining's auc: 0.866094\tvalid_1's auc: 0.832433\n",
      "[55]\ttraining's auc: 0.866201\tvalid_1's auc: 0.83232\n",
      "[56]\ttraining's auc: 0.866511\tvalid_1's auc: 0.832216\n",
      "[57]\ttraining's auc: 0.866611\tvalid_1's auc: 0.832165\n"
     ]
    }
   ],
   "source": [
    "\n",
    "wandb.agent(sweep_id, train)"
   ]
  }
 ],
 "metadata": {
  "colab": {
   "provenance": []
  },
  "kernelspec": {
   "display_name": "Python 3 (ipykernel)",
   "language": "python",
   "name": "python3"
  },
  "language_info": {
   "codemirror_mode": {
    "name": "ipython",
    "version": 3
   },
   "file_extension": ".py",
   "mimetype": "text/x-python",
   "name": "python",
   "nbconvert_exporter": "python",
   "pygments_lexer": "ipython3",
   "version": "3.8.18"
  },
  "toc": {
   "base_numbering": 1,
   "nav_menu": {},
   "number_sections": false,
   "sideBar": true,
   "skip_h1_title": false,
   "title_cell": "Table of Contents",
   "title_sidebar": "Contents",
   "toc_cell": false,
   "toc_position": {},
   "toc_section_display": true,
   "toc_window_display": true
  }
 },
 "nbformat": 4,
 "nbformat_minor": 4
}
