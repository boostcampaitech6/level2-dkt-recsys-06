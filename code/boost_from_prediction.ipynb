{
  "cells": [
    {
      "cell_type": "markdown",
      "metadata": {},
      "source": [
        "\n# Demo for boosting from prediction\n"
      ]
    },
    {
      "cell_type": "code",
      "execution_count": null,
      "metadata": {
        "collapsed": false
      },
      "outputs": [],
      "source": [
        "import os\n\nimport xgboost as xgb\n\nCURRENT_DIR = os.path.dirname(__file__)\ndtrain = xgb.DMatrix(\n    os.path.join(CURRENT_DIR, \"../data/agaricus.txt.train?format=libsvm\")\n)\ndtest = xgb.DMatrix(\n    os.path.join(CURRENT_DIR, \"../data/agaricus.txt.test?format=libsvm\")\n)\nwatchlist = [(dtest, \"eval\"), (dtrain, \"train\")]\n###\n# advanced: start from a initial base prediction\n#\nprint(\"start running example to start from a initial prediction\")\n# specify parameters via map, definition are same as c++ version\nparam = {\"max_depth\": 2, \"eta\": 1, \"objective\": \"binary:logistic\"}\n# train xgboost for 1 round\nbst = xgb.train(param, dtrain, 1, watchlist)\n# Note: we need the margin value instead of transformed prediction in\n# set_base_margin\n# do predict with output_margin=True, will always give you margin values\n# before logistic transformation\nptrain = bst.predict(dtrain, output_margin=True)\nptest = bst.predict(dtest, output_margin=True)\ndtrain.set_base_margin(ptrain)\ndtest.set_base_margin(ptest)\n\nprint(\"this is result of running from initial prediction\")\nbst = xgb.train(param, dtrain, 1, watchlist)"
      ]
    }
  ],
  "metadata": {
    "kernelspec": {
      "display_name": "Python 3",
      "language": "python",
      "name": "python3"
    },
    "language_info": {
      "codemirror_mode": {
        "name": "ipython",
        "version": 3
      },
      "file_extension": ".py",
      "mimetype": "text/x-python",
      "name": "python",
      "nbconvert_exporter": "python",
      "pygments_lexer": "ipython3",
      "version": "3.8.18"
    }
  },
  "nbformat": 4,
  "nbformat_minor": 0
}